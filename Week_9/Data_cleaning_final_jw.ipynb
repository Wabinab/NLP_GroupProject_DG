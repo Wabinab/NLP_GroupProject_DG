{
 "cells": [
  {
   "cell_type": "code",
   "execution_count": 1,
   "metadata": {},
   "outputs": [],
   "source": [
    "%load_ext autoreload\n",
    "%autoreload 2"
   ]
  },
  {
   "cell_type": "markdown",
   "metadata": {},
   "source": [
    "**Note:** This notebook requires high RAM if you are to run headless. To remain low memory, delete some data (such as don't use a new variable everytime you take a subset of data, for no repetition, etc). \n",
    "\n",
    "This VM runs on Azure STANDARD_NC6 instance (or equivalent).\n",
    "- CPU: 6 cores\n",
    "- RAM: 56 GB. \n",
    "- GPU: 1 K80."
   ]
  },
  {
   "cell_type": "code",
   "execution_count": 2,
   "metadata": {},
   "outputs": [],
   "source": [
    "from sklearn.datasets import fetch_20newsgroups\n",
    "all_xs, all_y = fetch_20newsgroups(subset=\"all\", remove=('headers', 'footers', 'quotes'),\n",
    "                    shuffle=True, return_X_y=True)"
   ]
  },
  {
   "cell_type": "code",
   "execution_count": 3,
   "metadata": {},
   "outputs": [],
   "source": [
    "def split_data(data, idx=None):\n",
    "    \"\"\"Split data for easier visualization. NOT FOR TRAINING.\"\"\"\n",
    "    if idx is not None: x = data[idx].split(\"\\n\")\n",
    "    else: x = data.split(\"\\n\")\n",
    "    x = list(filter(lambda a: a != '', x))\n",
    "    return x"
   ]
  },
  {
   "cell_type": "code",
   "execution_count": 4,
   "metadata": {},
   "outputs": [],
   "source": [
    "from fastai.text.all import *\n",
    "from tqdm.notebook import tqdm"
   ]
  },
  {
   "cell_type": "markdown",
   "metadata": {},
   "source": [
    "There are a few cleanings we'll have to do. Normally, we need to lower all characters, but based on what one learns in fastai, there are things that trains better with capital letters. And when we pass through fastai tokenizer, it will lower it for us, and adding a `xxmaj` for us just before this. We'll discuss about this `xxmaj` later when we came to it. "
   ]
  },
  {
   "cell_type": "code",
   "execution_count": 5,
   "metadata": {},
   "outputs": [],
   "source": [
    "# Make sure to lower all characters. \n",
    "# all_xs = [g.lower() for g in all_xs]\n",
    "\n",
    "assert len(all_xs) == len(all_y) == 18846"
   ]
  },
  {
   "cell_type": "markdown",
   "metadata": {},
   "source": [
    "This step is optional. We can either use the whole dataset, or we choose a subset. Here, to speed up training, I use a subset. However, you could just tune this value to get the best results, or just use the whole dataset. \n",
    "\n",
    "The idea is this: it's not necessary all short sentence gives good results. So we only keep the longer articles and discard those that are one or two sentence long (about threshold=5). Here we did it for larger threshold to speed up training, but could be tuned again for better results. "
   ]
  },
  {
   "cell_type": "code",
   "execution_count": 6,
   "metadata": {},
   "outputs": [],
   "source": [
    "def threshold_subset(all_xs, threshold=10):\n",
    "    \"\"\"\n",
    "    Will return a numpy array containing all the data that is to be kept.\n",
    "    Threshold means the number of lines (after separated using `split_data`)\n",
    "    for the data to be retained, inclusive. By default, threshold=10 means\n",
    "    if data is less than 10 lines it will be discarded. \n",
    "    \"\"\"\n",
    "    to_keep = []\n",
    "    for k, x in enumerate(all_xs):\n",
    "        sentence_len = len(split_data(x))\n",
    "        if sentence_len >= threshold: to_keep.append(k)\n",
    "\n",
    "    return np.array(to_keep)"
   ]
  },
  {
   "cell_type": "code",
   "execution_count": 7,
   "metadata": {},
   "outputs": [],
   "source": [
    "def line_threshold(xs, y, threshold):\n",
    "    \"\"\"\n",
    "    Give a threshold, check for assertions, and return corresponding data.\n",
    "    \"\"\"\n",
    "    to_keep = threshold_subset(all_xs, threshold)\n",
    "    np.save(f\"to_keep_{threshold}\", to_keep)\n",
    "\n",
    "    assert len(to_keep) == len(np.unique(to_keep))\n",
    "\n",
    "    return np.array(all_xs)[to_keep], np.array(all_y)[to_keep]"
   ]
  },
  {
   "cell_type": "code",
   "execution_count": 8,
   "metadata": {},
   "outputs": [],
   "source": [
    "new_xs, new_y = line_threshold(all_xs, all_y, 0)"
   ]
  },
  {
   "cell_type": "code",
   "execution_count": 9,
   "metadata": {},
   "outputs": [
    {
     "data": {
      "text/plain": [
       "array([129,  51, 221, 133, 118])"
      ]
     },
     "execution_count": 9,
     "metadata": {},
     "output_type": "execute_result"
    }
   ],
   "source": [
    "def word_count(x): return len(str(x).split())\n",
    "\n",
    "g = np.apply_along_axis(word_count, 1, np.expand_dims(new_xs[:5], 1))\n",
    "g"
   ]
  },
  {
   "cell_type": "code",
   "execution_count": 10,
   "metadata": {},
   "outputs": [
    {
     "data": {
      "text/plain": [
       "137"
      ]
     },
     "execution_count": 10,
     "metadata": {},
     "output_type": "execute_result"
    }
   ],
   "source": [
    "word_count(new_xs[0])"
   ]
  },
  {
   "cell_type": "markdown",
   "metadata": {},
   "source": [
    "The above function for broadcasting is inaccurate. We shall deal with it manually without broadcasting. And broadcasting for this is actually not so efficient since it's not numbers. "
   ]
  },
  {
   "cell_type": "code",
   "execution_count": 11,
   "metadata": {},
   "outputs": [
    {
     "data": {
      "application/vnd.jupyter.widget-view+json": {
       "model_id": "f69069f9a1e44a128051e38860ae6cdd",
       "version_major": 2,
       "version_minor": 0
      },
      "text/plain": [
       "  0%|          | 0/18846 [00:00<?, ?it/s]"
      ]
     },
     "metadata": {},
     "output_type": "display_data"
    },
    {
     "data": {
      "text/plain": [
       "515"
      ]
     },
     "execution_count": 11,
     "metadata": {},
     "output_type": "execute_result"
    }
   ],
   "source": [
    "not_empty = []\n",
    "for k, data in enumerate(tqdm(new_xs)): \n",
    "    word_count = len(str(data).split())\n",
    "    if word_count != 0: not_empty.append(k)\n",
    "\n",
    "len(new_xs) - len(not_empty)"
   ]
  },
  {
   "cell_type": "markdown",
   "metadata": {},
   "source": [
    "Some doesn't even have data in it. With EDA we found out that. We need to delete them. "
   ]
  },
  {
   "cell_type": "code",
   "execution_count": 12,
   "metadata": {},
   "outputs": [],
   "source": [
    "not_empty = np.array(not_empty)\n",
    "assert isinstance(new_xs, np.ndarray)\n",
    "assert isinstance(new_y, np.ndarray)\n",
    "\n",
    "new_xs = new_xs[not_empty]\n",
    "new_y = new_y[not_empty]"
   ]
  },
  {
   "cell_type": "markdown",
   "metadata": {},
   "source": [
    "Fastai have some built-in functions for unit testing. `test_eq` is equivalent to `assert a == b` (but with other built in for different types) and if numpy, it'll do `assert (a == b).all()` for example, so it's more easier, not requires to think too much. "
   ]
  },
  {
   "cell_type": "code",
   "execution_count": 13,
   "metadata": {},
   "outputs": [],
   "source": [
    "test_eq(len(new_xs), len(not_empty))\n",
    "test_eq(len(new_y), len(not_empty))"
   ]
  },
  {
   "cell_type": "markdown",
   "metadata": {},
   "source": [
    "What we need to note for the `dls` functio below is that, we take in the **column name** from the `TextBlock.from_df` first arg, while the `get_x=ColReader(\"text\")` is always fixed with \"text\" because the output from `TextBlock.from_df` is a pandas Series with a column named \"text\". If you confused with it and changed it, it'll not work. "
   ]
  },
  {
   "cell_type": "code",
   "execution_count": 14,
   "metadata": {},
   "outputs": [],
   "source": [
    "import gc\n",
    "def clear_cache(del_learn_dls=False):\n",
    "    if del_learn_dls:\n",
    "        try:\n",
    "            global learn, dls\n",
    "            del learn, dls\n",
    "        except Exception: pass\n",
    "    gc.collect()\n",
    "    torch.cuda.empty_cache()"
   ]
  },
  {
   "cell_type": "code",
   "execution_count": 15,
   "metadata": {},
   "outputs": [],
   "source": [
    "clear_cache()  # assert that it works without defining learn and dls. "
   ]
  },
  {
   "cell_type": "code",
   "execution_count": 16,
   "metadata": {},
   "outputs": [],
   "source": [
    "def numpy_to_pd_to_dls(xs, y, seq_len=72, bs=32, num_workers=0, **kwargs):\n",
    "    \"\"\"\n",
    "    Take xs and y as numpy array, convert it to pandas dataframe, \n",
    "    and make a dataloader from it. \n",
    "\n",
    "    :return: fastai DataLoaders. \n",
    "    \"\"\"\n",
    "    df = pd.DataFrame([xs, y]).T\n",
    "    df.columns = [\"text_\", \"category\"]\n",
    "\n",
    "    dls = DataBlock(\n",
    "        blocks=(TextBlock.from_df(\"text_\", seq_len=seq_len, tok=SpacyTokenizer(\"en\")),\n",
    "                CategoryBlock),\n",
    "        get_x=ColReader(\"text\"), get_y=ColReader(\"category\"),\n",
    "        splitter=RandomSplitter(0.1)\n",
    "    ).dataloaders(df, bs=bs, num_workers=num_workers, seq_len=seq_len, **kwargs)\n",
    "\n",
    "    return dls"
   ]
  },
  {
   "cell_type": "markdown",
   "metadata": {},
   "source": [
    "We want to know a baseline. Now we could make a baseline. "
   ]
  },
  {
   "cell_type": "code",
   "execution_count": 17,
   "metadata": {},
   "outputs": [
    {
     "data": {
      "text/html": [],
      "text/plain": [
       "<IPython.core.display.HTML object>"
      ]
     },
     "metadata": {},
     "output_type": "display_data"
    },
    {
     "name": "stderr",
     "output_type": "stream",
     "text": [
      "/anaconda/envs/fastai/lib/python3.8/site-packages/numpy/core/_asarray.py:102: VisibleDeprecationWarning: Creating an ndarray from ragged nested sequences (which is a list-or-tuple of lists-or-tuples-or ndarrays with different lengths or shapes) is deprecated. If you meant to do this, you must specify 'dtype=object' when creating the ndarray.\n",
      "  return array(a, dtype, copy=False, order=order)\n"
     ]
    },
    {
     "data": {
      "text/html": [
       "<table border=\"1\" class=\"dataframe\">\n",
       "  <thead>\n",
       "    <tr style=\"text-align: right;\">\n",
       "      <th></th>\n",
       "      <th>text</th>\n",
       "      <th>category</th>\n",
       "    </tr>\n",
       "  </thead>\n",
       "  <tbody>\n",
       "    <tr>\n",
       "      <th>0</th>\n",
       "      <td>xxbos xxmaj try this one on for size . xxmaj i 'd rather not post her name , but if you \\n email me , xxmaj i 'll tell you who she is . xxmaj enjoy ! \\n\\n begin 640 xxunk \\n xxup xxunk # ! ! 0 ( , ! xxunk ! +8 [ p ( xxunk \\n xxup xxunk # xxunk \\ # xxup xxunk ] xxunk [ # xxup xxunk \\ xxup i8 \\n xxup xxunk - xxunk # ; xxunk : xxunk xxrep 3 ( xxunk \\n m \\ &lt; / xxup xxunk \\ _ xxunk &lt; xxunk / % \\ _ / e \\ xxup xxunk ? # xxunk \\n xxup m3 = xxunk &amp; / $ _ &amp; , xxunk / + xxunk ( xxrep 3 g % r. / [ ] xxunk \\ \\ xxunk \\ \\n xxup xxunk / , xxunk =</td>\n",
       "      <td>2</td>\n",
       "    </tr>\n",
       "    <tr>\n",
       "      <th>1</th>\n",
       "      <td>xxbos xxmaj accounts of anti - armenian xxmaj human xxmaj right xxmaj violations in xxmaj azerbaijan # 008 xxmaj part b \\n▁ xxmaj prelude to xxmaj current xxmaj events in nagorno - karabakh \\n\\n\\t\\t\\t\\t ( part b of # 008 ) \\n\\n▁ + xxrep 66 - + \\n▁ | | \\n▁ | \" oh , yes , i just remembered . xxmaj while they were raping me they | \\n▁ | repeated quite frequently , \" let the xxmaj armenian women have babies | \\n▁ | for us , xxmaj muslim babies , let them bear xxmaj azerbaijanis for the | \\n▁ | struggle against the xxmaj armenians . \" xxmaj then they said , \" those | \\n▁ | xxmaj muslims can carry on our holy cause . xxmaj heroes ! \" xxmaj they repeated | \\n▁ | it very often . \" | \\n▁ | | \\n▁ +</td>\n",
       "      <td>17</td>\n",
       "    </tr>\n",
       "  </tbody>\n",
       "</table>"
      ],
      "text/plain": [
       "<IPython.core.display.HTML object>"
      ]
     },
     "metadata": {},
     "output_type": "display_data"
    }
   ],
   "source": [
    "dls = numpy_to_pd_to_dls(new_xs, new_y)\n",
    "dls.show_batch(max_n=2)"
   ]
  },
  {
   "cell_type": "code",
   "execution_count": 18,
   "metadata": {},
   "outputs": [],
   "source": [
    "def get_learner(dls):\n",
    "    return text_classifier_learner(dls, AWD_LSTM, metrics=[accuracy, Perplexity()],\n",
    "                wd=0.1, drop_mult=0.3, pretrained=True).to_fp16()"
   ]
  },
  {
   "cell_type": "code",
   "execution_count": 19,
   "metadata": {},
   "outputs": [
    {
     "data": {
      "text/html": [],
      "text/plain": [
       "<IPython.core.display.HTML object>"
      ]
     },
     "metadata": {},
     "output_type": "display_data"
    },
    {
     "name": "stderr",
     "output_type": "stream",
     "text": [
      "/anaconda/envs/fastai/lib/python3.8/site-packages/fastai/callback/schedule.py:269: UserWarning: color is redundantly defined by the 'color' keyword argument and the fmt string \"ro\" (-> color='r'). The keyword argument will take precedence.\n",
      "  ax.plot(val, idx, 'ro', label=nm, c=color)\n"
     ]
    },
    {
     "data": {
      "text/plain": [
       "SuggestedLRs(valley=0.00363078061491251)"
      ]
     },
     "execution_count": 19,
     "metadata": {},
     "output_type": "execute_result"
    },
    {
     "data": {
      "image/png": "[encoded data removed]",
      "text/plain": [
       "<Figure size 432x288 with 1 Axes>"
      ]
     },
     "metadata": {
      "needs_background": "light"
     },
     "output_type": "display_data"
    }
   ],
   "source": [
    "learn = get_learner(dls)\n",
    "learn.lr_find()"
   ]
  },
  {
   "cell_type": "code",
   "execution_count": 20,
   "metadata": {},
   "outputs": [
    {
     "data": {
      "text/html": [
       "<table border=\"1\" class=\"dataframe\">\n",
       "  <thead>\n",
       "    <tr style=\"text-align: left;\">\n",
       "      <th>epoch</th>\n",
       "      <th>train_loss</th>\n",
       "      <th>valid_loss</th>\n",
       "      <th>accuracy</th>\n",
       "      <th>perplexity</th>\n",
       "      <th>time</th>\n",
       "    </tr>\n",
       "  </thead>\n",
       "  <tbody>\n",
       "    <tr>\n",
       "      <td>0</td>\n",
       "      <td>1.835328</td>\n",
       "      <td>1.673899</td>\n",
       "      <td>0.490453</td>\n",
       "      <td>5.332922</td>\n",
       "      <td>06:21</td>\n",
       "    </tr>\n",
       "    <tr>\n",
       "      <td>1</td>\n",
       "      <td>1.740741</td>\n",
       "      <td>1.527778</td>\n",
       "      <td>0.513912</td>\n",
       "      <td>4.607928</td>\n",
       "      <td>06:25</td>\n",
       "    </tr>\n",
       "    <tr>\n",
       "      <td>2</td>\n",
       "      <td>1.586338</td>\n",
       "      <td>1.393964</td>\n",
       "      <td>0.559193</td>\n",
       "      <td>4.030795</td>\n",
       "      <td>06:27</td>\n",
       "    </tr>\n",
       "  </tbody>\n",
       "</table>"
      ],
      "text/plain": [
       "<IPython.core.display.HTML object>"
      ]
     },
     "metadata": {},
     "output_type": "display_data"
    }
   ],
   "source": [
    "learn.fit_one_cycle(3, 3e-2)"
   ]
  },
  {
   "cell_type": "code",
   "execution_count": 21,
   "metadata": {},
   "outputs": [],
   "source": [
    "clear_cache(True)"
   ]
  },
  {
   "cell_type": "code",
   "execution_count": 22,
   "metadata": {},
   "outputs": [
    {
     "data": {
      "text/html": [],
      "text/plain": [
       "<IPython.core.display.HTML object>"
      ]
     },
     "metadata": {},
     "output_type": "display_data"
    },
    {
     "name": "stderr",
     "output_type": "stream",
     "text": [
      "/anaconda/envs/fastai/lib/python3.8/site-packages/numpy/core/_asarray.py:102: VisibleDeprecationWarning: Creating an ndarray from ragged nested sequences (which is a list-or-tuple of lists-or-tuples-or ndarrays with different lengths or shapes) is deprecated. If you meant to do this, you must specify 'dtype=object' when creating the ndarray.\n",
      "  return array(a, dtype, copy=False, order=order)\n"
     ]
    }
   ],
   "source": [
    "new_xs, new_y = line_threshold(all_xs, all_y, 7)\n",
    "dls = numpy_to_pd_to_dls(new_xs, new_y)"
   ]
  },
  {
   "cell_type": "code",
   "execution_count": 23,
   "metadata": {},
   "outputs": [
    {
     "data": {
      "text/html": [],
      "text/plain": [
       "<IPython.core.display.HTML object>"
      ]
     },
     "metadata": {},
     "output_type": "display_data"
    },
    {
     "name": "stderr",
     "output_type": "stream",
     "text": [
      "/anaconda/envs/fastai/lib/python3.8/site-packages/fastai/callback/schedule.py:269: UserWarning: color is redundantly defined by the 'color' keyword argument and the fmt string \"ro\" (-> color='r'). The keyword argument will take precedence.\n",
      "  ax.plot(val, idx, 'ro', label=nm, c=color)\n"
     ]
    },
    {
     "data": {
      "text/plain": [
       "SuggestedLRs(valley=0.002511886414140463)"
      ]
     },
     "execution_count": 23,
     "metadata": {},
     "output_type": "execute_result"
    },
    {
     "data": {
      "image/png": "[encoded data removed]",
      "text/plain": [
       "<Figure size 432x288 with 1 Axes>"
      ]
     },
     "metadata": {
      "needs_background": "light"
     },
     "output_type": "display_data"
    }
   ],
   "source": [
    "learn = get_learner(dls)\n",
    "learn.lr_find()"
   ]
  },
  {
   "cell_type": "code",
   "execution_count": 24,
   "metadata": {},
   "outputs": [
    {
     "data": {
      "text/html": [
       "<table border=\"1\" class=\"dataframe\">\n",
       "  <thead>\n",
       "    <tr style=\"text-align: left;\">\n",
       "      <th>epoch</th>\n",
       "      <th>train_loss</th>\n",
       "      <th>valid_loss</th>\n",
       "      <th>accuracy</th>\n",
       "      <th>perplexity</th>\n",
       "      <th>time</th>\n",
       "    </tr>\n",
       "  </thead>\n",
       "  <tbody>\n",
       "    <tr>\n",
       "      <td>0</td>\n",
       "      <td>1.582780</td>\n",
       "      <td>1.381094</td>\n",
       "      <td>0.537744</td>\n",
       "      <td>3.979253</td>\n",
       "      <td>05:38</td>\n",
       "    </tr>\n",
       "    <tr>\n",
       "      <td>1</td>\n",
       "      <td>1.395534</td>\n",
       "      <td>1.191371</td>\n",
       "      <td>0.612383</td>\n",
       "      <td>3.291592</td>\n",
       "      <td>05:37</td>\n",
       "    </tr>\n",
       "    <tr>\n",
       "      <td>2</td>\n",
       "      <td>1.235379</td>\n",
       "      <td>1.070925</td>\n",
       "      <td>0.648007</td>\n",
       "      <td>2.918077</td>\n",
       "      <td>05:41</td>\n",
       "    </tr>\n",
       "  </tbody>\n",
       "</table>"
      ],
      "text/plain": [
       "<IPython.core.display.HTML object>"
      ]
     },
     "metadata": {},
     "output_type": "display_data"
    }
   ],
   "source": [
    "learn.fit_one_cycle(3, 3e-2)"
   ]
  },
  {
   "cell_type": "markdown",
   "metadata": {},
   "source": [
    "Next, we want to use regex to clean some unwanted data. Perhaps we could leave the newline attached, or change it into space if it's not that important. This could be tuned. However, other things we might consider removing them that doesn't really contribute directly to training, such as line separator. \n",
    "\n",
    "Here the cleaning is included for some symbols that one sees manually. It's unknown whether there are additional symbols that're present that we don't want to delete. Note we use \"delete\" (re.sub) rather than \"keep\" (re.match, etc). They have their own advantage: \n",
    "- If we use \"keep\": we keep what we want. What we're unsure is whether there are things that we want to keep but we aren't aware of. \n",
    "- If we use \"delete\": we delete only what we see. What we aren't sure is whether there are things we want to delete but we aren't aware of. \n",
    "\n",
    "So they have their own advantage and their disadvantages. Choose as you please. "
   ]
  },
  {
   "cell_type": "code",
   "execution_count": 25,
   "metadata": {},
   "outputs": [],
   "source": [
    "import re\n",
    "\n",
    "def clean_data(text, include_newline=False):\n",
    "    # text = re.sub(\"[<>\\t]\", \" \", text)\n",
    "    text = re.sub(r'[\\^]{2,}', '', text)\n",
    "    text = re.sub(\"\\x0c\", '', text)\n",
    "    text = re.sub(r'[A-Za-z0-9]+@[A-Za-z0-9.]+', '', text)  # replace away emails.\n",
    "    text = re.sub(r'_+/', '', text)   # ____/__/__/\n",
    "    text = re.sub(r'(/\\\\)+', '', text)  # /\\/\\/\\/\\/\\/\\/\\/\\/\\/\\\n",
    "    text = re.sub(r'(/\\|)+', '', text)  # /|/|/|/|/|/|/|/|/|/|\n",
    "    text = re.sub(r'\\|+', '', text)  # ||||||||||||\n",
    "    text = re.sub(r'\\(\\d+\\) \\d+', '', text)  # Telephone and fax numbers. 'Fax: (908) 3027267' --> 'Fax: '.\n",
    "    text = re.sub(r'\\(\\d+\\)\\d+', '', text)  # if without space. \n",
    "    text = re.sub(r'\\d{10,11}', '', text)  # purely numbers. \n",
    "    # text = re.sub(r'[-*=]{3,}', '', text)  # no more ==, but separator =======.\n",
    "    # text = re.sub('\\(;', '', text)   # (; (; (; (; (;  # perhaps not removing \"emoticons\"\n",
    "    if include_newline: text = re.sub(\"\\n\", \" \", text)\n",
    "\n",
    "    # This may not require because it appears only in print() out? \n",
    "    text = text.split(\"\\'\")  # .replace(\"\\\\\", \"\") doesn't work. \n",
    "    text = \"'\".join(text)\n",
    "    return text"
   ]
  },
  {
   "cell_type": "code",
   "execution_count": 26,
   "metadata": {},
   "outputs": [
    {
     "data": {
      "application/vnd.jupyter.widget-view+json": {
       "model_id": "43536c3bfb9a4c319d021a5c0fc2eb9b",
       "version_major": 2,
       "version_minor": 0
      },
      "text/plain": [
       "  0%|          | 0/11794 [00:00<?, ?it/s]"
      ]
     },
     "metadata": {},
     "output_type": "display_data"
    }
   ],
   "source": [
    "from tqdm.notebook import tqdm\n",
    "\n",
    "new_xs_subbed = np.array([clean_data(x, False) for x in tqdm(new_xs)])\n",
    "# new_y is unchanged. "
   ]
  },
  {
   "cell_type": "code",
   "execution_count": 27,
   "metadata": {},
   "outputs": [
    {
     "data": {
      "text/html": [],
      "text/plain": [
       "<IPython.core.display.HTML object>"
      ]
     },
     "metadata": {},
     "output_type": "display_data"
    },
    {
     "name": "stderr",
     "output_type": "stream",
     "text": [
      "/anaconda/envs/fastai/lib/python3.8/site-packages/numpy/core/_asarray.py:102: VisibleDeprecationWarning: Creating an ndarray from ragged nested sequences (which is a list-or-tuple of lists-or-tuples-or ndarrays with different lengths or shapes) is deprecated. If you meant to do this, you must specify 'dtype=object' when creating the ndarray.\n",
      "  return array(a, dtype, copy=False, order=order)\n"
     ]
    },
    {
     "data": {
      "text/html": [
       "<table border=\"1\" class=\"dataframe\">\n",
       "  <thead>\n",
       "    <tr style=\"text-align: right;\">\n",
       "      <th></th>\n",
       "      <th>text</th>\n",
       "      <th>category</th>\n",
       "    </tr>\n",
       "  </thead>\n",
       "  <tbody>\n",
       "    <tr>\n",
       "      <th>0</th>\n",
       "      <td>xxbos xxmaj try this one on for size . xxmaj i 'd rather not post her name , but if you \\n email me , xxmaj i 'll tell you who she is . xxmaj enjoy ! \\n\\n begin 640 xxunk \\n xxup xxunk # ! ! 0 ( , ! xxunk ! +8 [ p ( xxunk \\n xxup xxunk # xxunk \\ # xxup xxunk ] xxunk : ( ; [ # xxup xxunk \\ xxup i8 \\n xxup xxunk - xxunk # ; xxunk : xxunk xxrep 3 ( xxunk \\n m \\ &lt; / xxup xxunk \\ _ xxunk &lt; xxunk / % \\ e \\ xxup xxunk ? # xxunk \\n xxup m3 = xxunk &amp; / $ _ &amp; , xxunk / + xxunk ( xxrep 3 g % r. / [ ] xxunk \\ \\ xxunk \\ \\n xxup xxunk / , xxunk</td>\n",
       "      <td>2</td>\n",
       "    </tr>\n",
       "    <tr>\n",
       "      <th>1</th>\n",
       "      <td>xxbos xxrep 10 - cut here xxrep 10 - part 02 / 03 \\n xxup xxunk k / $ xxunk ) xxunk \\n xxup xxunk # xxunk [ ) ' xxunk / $ xxunk ? ' # &amp; xxunk / h # xxup c ' ! \\ xxunk \\n xxup xxunk = xxunk _ . * &gt; o \\ xxunk \\n xxup xxunk ; \\ xxunk \\ &lt; xxunk , z = k ( / xxup sn = q \\n xxup xxunk ' \\ &gt; xxunk _ ' / xxup xxunk = xxunk &lt; xxunk &gt; i \\n xxup xxunk \\ xxunk \" ' # xxunk \\n xxup xxunk / .x : p$ / 1q &lt; xxunk / % xxunk / % h &lt; xxunk \\n xxup mpa , xxunk \" / xxup xxunk xxup xxunk : ul xxunk &gt; cv , pj 4 \\n xxup xxunk \\ &amp; xxunk</td>\n",
       "      <td>2</td>\n",
       "    </tr>\n",
       "  </tbody>\n",
       "</table>"
      ],
      "text/plain": [
       "<IPython.core.display.HTML object>"
      ]
     },
     "metadata": {},
     "output_type": "display_data"
    }
   ],
   "source": [
    "dls = numpy_to_pd_to_dls(new_xs_subbed, new_y)\n",
    "dls.show_batch(max_n=2)"
   ]
  },
  {
   "cell_type": "markdown",
   "metadata": {},
   "source": [
    "Actually, we haven't finish cleaning. The reason we make the `DataLoaders` first is we want to know more about the data itself. What are the data after we tokenize it using `SpacyTokenizer`? Some data have lots of `xxunk` (meanings these words aren't available in the dictionary, for whatever reasons like count less than the threshold to put into dictionary, or dictionary already reached max word (60000) specified by `SpacyTokenizer` (default value, can be changed), or other reasons) hence they're not useful. We want to delete these. With this, we can access the tokenizer using `dls.tok`, creating a tokenized text, and from there we can delete those unwanted text. We can also set a `threshold` for deletion. In this case, we use 0.3 for the moment (can be tuned further. 0.3 is just a primitive guess). \n",
    "\n",
    "Extra note: you see some other tokenization in the data. E.g. of those that are often seen: (The `xx` is just a signifier, while those characters behind it is the meaning):\n",
    "- `xxbos`: **b**eginning **o**f **s**entence. \n",
    "- `xxeos`: end of sentence. \n",
    "- `xxpad`: padding. \n",
    "- `xxmaj`: capital letter present in the next word. "
   ]
  },
  {
   "cell_type": "code",
   "execution_count": 28,
   "metadata": {},
   "outputs": [
    {
     "data": {
      "text/plain": [
       "(#39744) ['xxunk','xxpad','xxbos','xxeos','xxfld','xxrep','xxwrep','xxup','xxmaj','\\n'...]"
      ]
     },
     "execution_count": 28,
     "metadata": {},
     "output_type": "execute_result"
    }
   ],
   "source": [
    "L(dls.vocab[0])"
   ]
  },
  {
   "cell_type": "markdown",
   "metadata": {},
   "source": [
    "`L` is a fastai's object. We pass through it because it has the ability to not print everything (unlike Python's list which does that and it's annoying). \n",
    "\n",
    "Now, we want to do something we called `stoi` (string to int). We know that the data are arranged such that the position of the vocab corresponds to the actual tokenization. See that in the code below for an example. (`itos` means int to string). "
   ]
  },
  {
   "cell_type": "code",
   "execution_count": 29,
   "metadata": {},
   "outputs": [],
   "source": [
    "def itos(vocab, word, join=False, ignore_pad=False): \n",
    "    import fastai\n",
    "    if not isinstance(vocab, np.ndarray): vocab = np.array(vocab)\n",
    "    if type(word) in [tuple, fastai.text.data.TensorText]: \n",
    "        word = np.array(word)\n",
    "    word = vocab[word]\n",
    "    if ignore_pad: word = word[word != \"xxpad\"]\n",
    "    if join: return \" \".join(word)\n",
    "\n",
    "    return word"
   ]
  },
  {
   "cell_type": "code",
   "execution_count": 30,
   "metadata": {},
   "outputs": [
    {
     "data": {
      "text/plain": [
       "(TensorText([    2,     8,   144, 19852,    38,   788,    20, 27755,    97,    33,\n",
       "            21,   111,  1410,    10,   177,     9,  1504,    30,    11,   521,\n",
       "            21,    16,  2745, 27756,    14,    66,  6452, 11052,    12,     8,\n",
       "            33,     9,   108,    46,   357,    22, 27755,    21,   374,    10,\n",
       "            90,    95,   116,  2749,   976,    20,     9,    11,     8,  1287,\n",
       "             8,  1261,    21,   374,   132,     8,   466,    15,     8,  1021,\n",
       "           114,   178,    30,    27,    12,    60,     8,  7519,    10, 15986,\n",
       "            21,   539,    32,    11,  2964,    10,    15,    68,    43,     8,\n",
       "           570,   126,     9,   465,    33,    15,   239,    59,    71,  9615,\n",
       "           100,    55, 15986,    13,     8,  1007,    12,     8,   103,     9]),\n",
       " \"xxbos xxmaj many pagans are involved in environmentalism -- this is only natural , since \\n respect for the earth is a fundamental tenet of all pagan denominations . xxmaj this \\n does n't mean that environmentalism is wrong , any more than supporting peace in \\n the xxmaj middle xxmaj east is wrong because xxmaj jews and xxmaj muslims also work for it . \\n\\n▁ xxmaj nonetheless , paganism is certainly on the rise , and we as xxmaj christians should \\n address this and look at what draws people from paganism to xxmaj christianity . xxmaj like \\n\")"
      ]
     },
     "execution_count": 30,
     "metadata": {},
     "output_type": "execute_result"
    }
   ],
   "source": [
    "example_partial_sentence = dls.train_ds[0][0][:100]\n",
    "example_partial_sentence, itos(dls.vocab[0], example_partial_sentence, True)"
   ]
  },
  {
   "cell_type": "code",
   "execution_count": 31,
   "metadata": {},
   "outputs": [],
   "source": [
    "new_vocab = {key: index for index, key in enumerate(dls.vocab[0])}"
   ]
  },
  {
   "cell_type": "code",
   "execution_count": 32,
   "metadata": {},
   "outputs": [
    {
     "data": {
      "text/plain": [
       "0"
      ]
     },
     "execution_count": 32,
     "metadata": {},
     "output_type": "execute_result"
    }
   ],
   "source": [
    "new_vocab[\"xxunk\"]"
   ]
  },
  {
   "cell_type": "markdown",
   "metadata": {},
   "source": [
    "But if we use stoi to convert it back, we requires to use `np.where` with each single word, which is very slow. Instead, a key-value dictionary pair speeds up searching, so we need to convert our vocab to such type first (inside our `stoi` for general function). "
   ]
  },
  {
   "cell_type": "code",
   "execution_count": 33,
   "metadata": {},
   "outputs": [],
   "source": [
    "def stoi(vocab, word):\n",
    "    \"\"\"\n",
    "    If single word, we will convert it to list. \n",
    "    If not single word str, it will make it a list. \n",
    "    Then we want the type to be correct, else we raise error. \n",
    "    \"\"\"\n",
    "    import fastcore\n",
    "\n",
    "    # Convert array to dict for vocab, if it is\n",
    "    if type(vocab) in [np.ndarray, list, fastcore.foundation.L]:\n",
    "        vocab = {key: index for index, key in enumerate(vocab)}\n",
    "\n",
    "    # type checks and do stoi. \n",
    "    if isinstance(word, str): word = word.split(\" \")  # convert to list\n",
    "    if type(word) in [list, tuple, np.ndarray, fastcore.foundation.L]:\n",
    "        m = np.zeros((len(word), )).astype(np.uint8)\n",
    "        for k in range(len(word)):\n",
    "            try: m[k] = vocab[word[k]]\n",
    "            except KeyError: m[k] = 0  # xxunk assigned, word not in dict. \n",
    "        return m\n",
    "    else: raise NotImplementedError(f\"{type(word)} not implemented\")"
   ]
  },
  {
   "cell_type": "code",
   "execution_count": 34,
   "metadata": {},
   "outputs": [
    {
     "name": "stdout",
     "output_type": "stream",
     "text": [
      "2 µs ± 10.9 ns per loop (mean ± std. dev. of 7 runs, 100000 loops each)\n"
     ]
    }
   ],
   "source": [
    "%timeit stoi(new_vocab, \"xxunk\")"
   ]
  },
  {
   "cell_type": "markdown",
   "metadata": {},
   "source": [
    "Now we can think about creating a tokenized df. WE have a function in fastai for this, where we can pass in the df to tokenize, and the column, and then the tokenizer `dls.tok`. "
   ]
  },
  {
   "cell_type": "code",
   "execution_count": 35,
   "metadata": {},
   "outputs": [
    {
     "data": {
      "text/html": [],
      "text/plain": [
       "<IPython.core.display.HTML object>"
      ]
     },
     "metadata": {},
     "output_type": "display_data"
    },
    {
     "name": "stderr",
     "output_type": "stream",
     "text": [
      "/anaconda/envs/fastai/lib/python3.8/site-packages/numpy/core/_asarray.py:102: VisibleDeprecationWarning: Creating an ndarray from ragged nested sequences (which is a list-or-tuple of lists-or-tuples-or ndarrays with different lengths or shapes) is deprecated. If you meant to do this, you must specify 'dtype=object' when creating the ndarray.\n",
      "  return array(a, dtype, copy=False, order=order)\n"
     ]
    }
   ],
   "source": [
    "df_new_subbed = pd.DataFrame([new_xs_subbed, new_y]).T\n",
    "df_new_subbed.columns = [\"text\", \"category\"]\n",
    "\n",
    "df_new_toked = tokenize_df(df_new_subbed, \"text\", n_workers=os.cpu_count(),\n",
    "                    tok=dls.tok)[0]"
   ]
  },
  {
   "cell_type": "markdown",
   "metadata": {},
   "source": [
    "We take number 0 output, which is the pandas DataFrame we want. Number 1 output is the Counter which contains how many total counts for each occurrence of words, which we don't need. "
   ]
  },
  {
   "cell_type": "code",
   "execution_count": 36,
   "metadata": {},
   "outputs": [
    {
     "data": {
      "text/html": [
       "<div>\n",
       "<style scoped>\n",
       "    .dataframe tbody tr th:only-of-type {\n",
       "        vertical-align: middle;\n",
       "    }\n",
       "\n",
       "    .dataframe tbody tr th {\n",
       "        vertical-align: top;\n",
       "    }\n",
       "\n",
       "    .dataframe thead th {\n",
       "        text-align: right;\n",
       "    }\n",
       "</style>\n",
       "<table border=\"1\" class=\"dataframe\">\n",
       "  <thead>\n",
       "    <tr style=\"text-align: right;\">\n",
       "      <th></th>\n",
       "      <th>category</th>\n",
       "      <th>text</th>\n",
       "      <th>text_length</th>\n",
       "    </tr>\n",
       "  </thead>\n",
       "  <tbody>\n",
       "    <tr>\n",
       "      <th>0</th>\n",
       "      <td>10</td>\n",
       "      <td>[xxbos, i, am, sure, some, bashers, of, xxmaj, pens, fans, are, pretty, confused, about, the, lack, \\n, of, any, kind, of, posts, about, the, recent, xxmaj, pens, massacre, of, the, xxmaj, devils, ., xxmaj, actually, ,, \\n, i, am, bit, puzzled, too, and, a, bit, relieved, ., xxmaj, however, ,, i, am, going, to, put, an, end, \\n, to, non, -, pittsburghers, ', relief, with, a, bit, of, praise, for, the, xxmaj, pens, ., xxmaj, man, ,, they, \\n, are, killing, those, xxmaj, devils, worse, than, i, thought, ., xxmaj, jagr, just, showed, you, why, \\n, he, is, much, better, ...]</td>\n",
       "      <td>179</td>\n",
       "    </tr>\n",
       "    <tr>\n",
       "      <th>1</th>\n",
       "      <td>3</td>\n",
       "      <td>[xxbos, xxmaj, my, brother, is, in, the, market, for, a, high, -, performance, video, card, that, supports, \\n, xxup, vesa, local, bus, with, 1, -, 2, mb, xxup, ram, ., xxmaj, does, anyone, have, suggestions, /, ideas, on, :, \\n\\n▁, -, xxmaj, diamond, xxmaj, stealth, xxmaj, pro, xxmaj, local, xxmaj, bus, \\n\\n▁, -, xxmaj, orchid, xxmaj, farenheit, 1280, \\n\\n▁, -, xxup, ati, xxmaj, graphics, xxmaj, ultra, xxmaj, pro, \\n\\n▁, -, xxmaj, any, other, high, -, performance, xxup, vlb, card, \\n\\n\\n, xxmaj, please, post, or, email, ., xxmaj, thank, you, !, \\n\\n▁, -, xxmaj, matt]</td>\n",
       "      <td>94</td>\n",
       "    </tr>\n",
       "  </tbody>\n",
       "</table>\n",
       "</div>"
      ],
      "text/plain": [
       "  category  \\\n",
       "0       10   \n",
       "1        3   \n",
       "\n",
       "                                                                                                                                                                                                                                                                                                                                                                                                                                                                                                                                                                                                text  \\\n",
       "0  [xxbos, i, am, sure, some, bashers, of, xxmaj, pens, fans, are, pretty, confused, about, the, lack, \\n, of, any, kind, of, posts, about, the, recent, xxmaj, pens, massacre, of, the, xxmaj, devils, ., xxmaj, actually, ,, \\n, i, am, bit, puzzled, too, and, a, bit, relieved, ., xxmaj, however, ,, i, am, going, to, put, an, end, \\n, to, non, -, pittsburghers, ', relief, with, a, bit, of, praise, for, the, xxmaj, pens, ., xxmaj, man, ,, they, \\n, are, killing, those, xxmaj, devils, worse, than, i, thought, ., xxmaj, jagr, just, showed, you, why, \\n, he, is, much, better, ...]   \n",
       "1     [xxbos, xxmaj, my, brother, is, in, the, market, for, a, high, -, performance, video, card, that, supports, \\n, xxup, vesa, local, bus, with, 1, -, 2, mb, xxup, ram, ., xxmaj, does, anyone, have, suggestions, /, ideas, on, :, \\n\\n▁, -, xxmaj, diamond, xxmaj, stealth, xxmaj, pro, xxmaj, local, xxmaj, bus, \\n\\n▁, -, xxmaj, orchid, xxmaj, farenheit, 1280, \\n\\n▁, -, xxup, ati, xxmaj, graphics, xxmaj, ultra, xxmaj, pro, \\n\\n▁, -, xxmaj, any, other, high, -, performance, xxup, vlb, card, \\n\\n\\n, xxmaj, please, post, or, email, ., xxmaj, thank, you, !, \\n\\n▁, -, xxmaj, matt]   \n",
       "\n",
       "   text_length  \n",
       "0          179  \n",
       "1           94  "
      ]
     },
     "execution_count": 36,
     "metadata": {},
     "output_type": "execute_result"
    }
   ],
   "source": [
    "df_new_toked.head(2)"
   ]
  },
  {
   "cell_type": "markdown",
   "metadata": {},
   "source": [
    "Note that here we even have `text_length` which could be used instead to threshold the number of words we want for our sentence. However, this length includes all the special tokens (that starts with `xx`), but you can still use it as threshold irregardless, if you want to. We won't be doing that here. "
   ]
  },
  {
   "cell_type": "code",
   "execution_count": 37,
   "metadata": {},
   "outputs": [
    {
     "data": {
      "application/vnd.jupyter.widget-view+json": {
       "model_id": "df3d477b25ca4e32aff4845ea66e64e5",
       "version_major": 2,
       "version_minor": 0
      },
      "text/plain": [
       "  0%|          | 0/11794 [00:00<?, ?it/s]"
      ]
     },
     "metadata": {},
     "output_type": "display_data"
    }
   ],
   "source": [
    "choice = np.zeros((len(df_new_toked), )).astype(np.float32)\n",
    "loop_over = df_new_toked[\"text\"].to_numpy()\n",
    "\n",
    "for k, data in enumerate(tqdm(loop_over)):\n",
    "    g = stoi(new_vocab, data)\n",
    "    choice[k] = (g == 0).sum() / len(g)"
   ]
  },
  {
   "cell_type": "markdown",
   "metadata": {},
   "source": [
    "Actually before we use the dictionary, this thing takes more than 5 minutes to complete just to tokenize. Now looks how long it takes! "
   ]
  },
  {
   "cell_type": "code",
   "execution_count": 38,
   "metadata": {},
   "outputs": [
    {
     "data": {
      "text/plain": [
       "2"
      ]
     },
     "execution_count": 38,
     "metadata": {},
     "output_type": "execute_result"
    }
   ],
   "source": [
    "(choice >= 0.3).sum()   # Threshold 30% xxunk"
   ]
  },
  {
   "cell_type": "markdown",
   "metadata": {},
   "source": [
    "Let's look at one of these. "
   ]
  },
  {
   "cell_type": "code",
   "execution_count": 39,
   "metadata": {},
   "outputs": [
    {
     "data": {
      "text/html": [
       "<div>\n",
       "<style scoped>\n",
       "    .dataframe tbody tr th:only-of-type {\n",
       "        vertical-align: middle;\n",
       "    }\n",
       "\n",
       "    .dataframe tbody tr th {\n",
       "        vertical-align: top;\n",
       "    }\n",
       "\n",
       "    .dataframe thead th {\n",
       "        text-align: right;\n",
       "    }\n",
       "</style>\n",
       "<table border=\"1\" class=\"dataframe\">\n",
       "  <thead>\n",
       "    <tr style=\"text-align: right;\">\n",
       "      <th></th>\n",
       "      <th>text</th>\n",
       "      <th>category</th>\n",
       "    </tr>\n",
       "  </thead>\n",
       "  <tbody>\n",
       "    <tr>\n",
       "      <th>663</th>\n",
       "      <td>Sterrenkundig symposium 'Compacte Objecten'\\n                                             op 26 april 1993\\n\\n\\nIn het jaar 1643, zeven jaar na de oprichting van de\\nUniversiteit van Utrecht, benoemde de universiteit haar\\neerste sterrenkundige waarnemer. Hiermee ontstond de tweede\\nuniversiteitssterrenwacht ter wereld. Aert Jansz, de eerste\\nwaarnemer, en zijn opvolgers voerden de Utrechtse sterrenkunde\\nin de daaropvolgende jaren, decennia en eeuwen naar de\\nvoorhoede van het astronomisch onderzoek. Dit jaar is het 350\\njaar geleden dat deze historische benoeming plaatsvond.\\n\\nDe huidig...</td>\n",
       "      <td>14</td>\n",
       "    </tr>\n",
       "    <tr>\n",
       "      <th>1723</th>\n",
       "      <td>From: Center for Policy Research &lt;cpr&gt;\\nSubject: Poem by Erich Fried \\n\\n\\nPoem by German-Jewish poet Erich Fried (Holocaust survivor)\\n\\nEin Jude an die zionistischen Kaempfer - 1988\\n\\n    von Erich Fried\\n\\nWas wollt ihr eigentlich ?  Wollt ihr wirklich die uebertreffen\\ndie euch niedergetreten haben vor einem Menschenalter in euer\\neigenes Blut und in euren eigenen Kot ?\\n\\n\\t *\\n\\nWollt ihr die alten Foltern jetzt an andere weitergeben mit allen\\nblutigen dreckigen Einzelheiten mit allem brutalen Genuss die\\nFolterknechte wie unsere Vaeter sie damals erlitten haben ?\\n\\n       *\\n\\nWo...</td>\n",
       "      <td>17</td>\n",
       "    </tr>\n",
       "    <tr>\n",
       "      <th>1925</th>\n",
       "      <td>\\n------------ Part 4 of 14 ------------\\nM)G(F&amp;G*Z&lt;G*R)G(:NB8:NAHFNAJZ&lt;AHF&lt;AJZ)AH:&amp;K*R&amp;B9R)G(F&amp;KHF&amp;AJZ\\nM&lt;AJR&amp;B9R)AHF&lt;G)R&amp;AJR&amp;AJRNK)R&amp;AIR&amp;KIRNG(:NB:Z&amp;G(FNAJZ)KJZ&lt;KHF\\nMNB;\"NAHFLEU=771T772Z772R)L)]NGT(\"`@(\"`@(\"`@(\"`@(\"`@(\"`@(\"`@(\\nM\"`@(\"`@(\"`@(\"`@(\"`@(\"`@(\"`@(\"`@(\"`@(\"`@(\"`@(\"`@(\"`@(\"`@(\"`@(\\nM\"`@(\"`@(\"`@(\"`@(\"`@(\"`@(\"`@(\"`@(\"`@(\"`@(\"`@(\"`@(\"`@(\"`@(\"`@(\\nM\"`@(\"`@(\"`@(\"`@(\",M_?W_4?]-34U-34U`)+;FX^IHY&lt;,RLK*Y6$`)5V\\nM(4,,#`Q#0T-#.R$,(3L[?71_;F[I1)MA*YPG%_51')SA5E9&lt;8X.;LYJ:OK-D\\nM\\2(B'&lt;&gt;&amp;O[\\UQS4UD&lt;&lt;U+&amp;EI:8:_Q\\&lt;(\"`@(\"`@(\"`@(\"`@(\"`@(\"`@(\"`@(\\nM\"`@(\"`@(\"`@(\"`@(\"`@(\"`@(\"`@(\"`@(\"`@(\"+H:NG)RLF$1$9`1...</td>\n",
       "      <td>2</td>\n",
       "    </tr>\n",
       "    <tr>\n",
       "      <th>2185</th>\n",
       "      <td>---------- cut here ---------- part 03/03\\nM2C3,JSG  A\\-\\($J7LUS?30XC;16@\"Y DK&lt;(ME&lt;#T(F6;;,3QX\";&gt;?H!80H(\\nMGNM U )D@/D&amp;\"!YW0\"R\"&lt;T!2V&lt;XLFP6#F9?&amp;:'&amp;B AD.\"/,( ,V1#&amp;W;\\nM'&lt;]6P- 3$BU['L:P$]FVI@&lt;L8'Q\"W\\X&amp;-AQ(LP,9VNF5[90%! ]HF&amp;-8MNG2\\nM/ ''J-A9#\\1RS2FE.RXF6ML*XFG;KJJI-#N5H8BU%,;&gt;CF[;831;&amp;$?0[R0)\\nM=\".B4G!M&lt;W13VW!-]SV.;\\ZFFUT9\"UO&amp;JVLT=W8L&lt;3FY88&gt;4[% #0CG+@2S-\\nMJ2S;MU2Y8(6!:E!=[+,%R]42K.8%%$F\"&lt;2S+#JC*%JQLXN:&amp;F:AL'\\nM%&amp;0+I@&amp;-6S7B7:Z,$UEV(JC&amp;K:&amp;:PT,UJYU0[7FHYO10S?&amp;AFGUT;\\'JH5J8\\nM9&lt;&gt;&amp;:G'Z&lt;HX-U7IW%^_NXMU=O+N+=W?Q[B[&gt;7&lt;=RJ-:T'1NJA9F^X]EW/-NQ\\nMH=KX4,U#H9IS0C77A6H^\"-5&lt;%*JY'50S2'.JSE#-(:\":!T(U-X5J;@[5'!2...</td>\n",
       "      <td>2</td>\n",
       "    </tr>\n",
       "    <tr>\n",
       "      <th>3720</th>\n",
       "      <td>---------- cut here ---------- part 01/01\\nbegin 644 1260wn31.exe\\nM35KO 1D    &amp; -$,__\\@ P $     ?#_'@     !0V]P&gt;7)I9VAT(#$Y.#DM\\nM,3DY,\"!02U=!+B!!;&amp;:'1S(%)E&lt;V5R=F5D+@T*        \\nM        _\"Z,#F\\$H0( C,N!PP (.\\-R RT !BT@ /J\\  *.T/LM00\"C&lt;02.\\nMP.B9 *%[!*-Y!*%]!*-W!(S BQY_!+Y_!.AM \"ZC&lt;P2[Y &amp;^F +H8 !0OGL$\\nMO^$!I:6+'GL$BQ9]!(OK@&gt;7_#XK?BOJQ!-/KB]73ZD(KPH[ B\\N&amp;Z0,V?P2,\\nMV@/1CMJ+S8ON,__1Z1/Z6%VW04_LR.P/[.CMJY  @S_XOU\\Z5+Z^B.V#/ \\nM4,O1ZXO+T&gt;O1Z]'K0RO#CL S__.EPS/V,]LSTC/_BHPP NA- (J70@*+ZB:(\\nM3@ FB)X  0/H@?T  7+O0_[-=&gt;2*C#D\"Z\"H A]^*EX(\"B^I#0R:(C@ \")HB&gt;\\nM  ,#Z(']  %R[DO^S77AA_M&amp;@_X)&lt;JW#BNF1L032...</td>\n",
       "      <td>2</td>\n",
       "    </tr>\n",
       "    <tr>\n",
       "      <th>5472</th>\n",
       "      <td>part 2/2 of xrastool 1.0\\n---cut here---\\nM%]F+[P'R8G=KW'AQY!=@$L^-QJZJH]?1WBB=$022&amp;X,B1)N#(7XL) !V;#HJ\\nM')^.S /&amp;'WB&amp;Z0ASW#LB'M56V,:W5=PQ: 1?%\"_N%Q.$HT3+X\\-%O=0$B\"_J\\nM'6=&lt;A&lt;?&amp;XXR+\\0AM?#P.Q=\".U$:U(VRP[6A=C#PVKH8T\\&lt;7(U&gt;2*8 ,O0RE(\\nM&amp;DU@@3$'(!:#!XW1Q\\,!4FT4-8Z?QRP2ABA(,-_(5#&amp;?\"P6%&gt;X2#@\\nM4;B%XD\"28.4J7IAVO!%*#%N!&amp;L!2XQ50TU&lt;+1#3&gt; CU]$;_?E\"&amp;QHNB]$2?U\\nM(%@7#0C*R%VA/*\"-0AW:_&gt;QE?T=SH_4Q3,/&lt;&gt;CGRF$Z.(T=X'H* [IC20Q!E\\nM''F$],&gt;^3^CQ_K@+S#\\&amp;&amp;[9VRP/&amp;(P'2WKA[Q\"N.R&gt;QX?9__8AZQ86CSV_=X\\nM&amp;).)(,: ^ \\V*\\D&lt; I#(1K#@9O\"QZ!LN*C3O-W?]12#B\"5\"N&amp;\\nM%&gt;F*6T4(EN#.&lt;0=7G#^V(.6*+)%DQLQA]O =^GJ:-H8&amp;#X=J1I =G3 (:\\nM S-]=49...</td>\n",
       "      <td>5</td>\n",
       "    </tr>\n",
       "    <tr>\n",
       "      <th>7976</th>\n",
       "      <td>Here are four pseudo-random character generators, based on\\nirreducible trinomials.  Each contains 16 separate trinomials,\\none of which is selected on initialization (there are 64\\ndistinct trinomials between the 4 PRCGs).  The PRCGs are\\ninitialized with a 32-bit seed, and a 4-bit trinomial-\\nselector.\\n\\nI would like to get comments on these by anyone who is\\ninterested enough to look them over.  Please email,\\nbecause our news is on the fritz (Note that this was\\nposted via email).\\n\\nPeter K. Boucher    &lt;&gt;\\n\\n================ CLIP CLIP =================================\\n\\nbegin 660 rn...</td>\n",
       "      <td>11</td>\n",
       "    </tr>\n",
       "    <tr>\n",
       "      <th>9288</th>\n",
       "      <td>\\n\\n\\nSource: A. Alper Gazigiray, \"Osmanlilardan Gunumuze Kadar Vesikalarla \\n        Ermeni Teroru'nun Kaynaklari,\" Gozen Kitabevi, Istanbul, 1982.\\n\\npp. 267-268.\\n\\n\"Van'dan sonra ilk isyan Sebinkarahisar'da basladi. 1915 senesi 5 \\n haziran da, Sivasli Murat [Hamparsum Boyaciyan - sa] denilen bir \\n caninin emri altinda 500 kadar cete Sebinkarahisari basti. Burasi o \\n zaman en onemli askeri bir yerdi. Erzurum bolgesinde Rus ordusu ile \\n savasan Osmanli Ordularinin butun ikmal araclari buradan gecmekte idi. \\n Ermeniler boyle onemli bir yer isgal ettikleri takdirde Turk \\n ordularinin...</td>\n",
       "      <td>17</td>\n",
       "    </tr>\n",
       "    <tr>\n",
       "      <th>9311</th>\n",
       "      <td>(...)\\n(...)\\n\\nAtt man skulle bli tvyngen att {ndra premisserna kunde man inte lista\\nut p} frhand. Huvudsak att man inte flyttar *ner* fel lag.\\n\\stersund var en solklar fix som sagt, men V{stervik!! Att det beror p}\\nNykping tror jag inte p}, man kunde ju lika g{rna \"flytta ner\" Roma\\ntill sdra (iaf om man g}r efter bredgraderna). Mest r{ttvist vore att\\nl}ta Tierp och V{stervik gra upp, men d} skulle Roma/Nykpinks vara\\neller inte vara i stra ocks} avgras. Vad skulle de s{ga om det?\\nDet strsta felet med }rets indelning {r *exakt* samma som frra }ret,\\nfast v{rre. DET [R INTE R[TVIST I...</td>\n",
       "      <td>10</td>\n",
       "    </tr>\n",
       "    <tr>\n",
       "      <th>9465</th>\n",
       "      <td>\\n\\nTry this one on for size.  I'd rather not post her name, but if you\\nemail me, I'll tell you who she is.  Enjoy!\\n\\nbegin 640 big1.zip\\nM4$L#!!0    ( ,!V?AKDL':76L$! +8[ P (    0E545\"Y\"35\"L?%]H&amp;W&gt;^\\nM[YQ[6TBA#^5P!'K8A\\#HH6 ]I&amp;%G8J$5=[BH:(;[#WT8C(578JPLP\\I8\\nMID93B-D&gt;8HN%#;D]KH,=&amp;D,3\"LE\"T0F+P^[AIJ0L1:E-+]XN)BI8M'I(((9Z\\nM\\&lt;/F:&gt;_G\\_V.G+3G7N[A&lt;B5;&amp;HW^./%\\E\\OI_O]S?_];_]OOB?#5[L5PSC\\nM3=S_E_]D&amp;/$_&amp;,8_&amp;&amp;=D_^4+^OR/+V=&gt;&gt;&lt;7(GGG%R./[]3-O&amp;*^\\\\8KQQAM\\\\nM_(;Q^NM9XY4L'F&lt;-/,X:6=R_D3V#^S-&amp;'OM?S[YAY%X_:[R&gt;P^NQ??;L&amp;&gt;/,\\nMV7_\"-EY[]@VC_$]9XQSV9&lt;]F\\1RWLT8U&gt;];(YLX:;[X^9;R)^_PY?-:;&gt;'WN\\nM3&gt;.-&lt;_]D_!3[WCG[$SSW...</td>\n",
       "      <td>2</td>\n",
       "    </tr>\n",
       "    <tr>\n",
       "      <th>9593</th>\n",
       "      <td>begin 644 outOfControl.gif\\nM1TE&amp;.#=AN@*6`?```````/___RP`````N@*6`0`\"_@)O-[XQ4#IYX::Z3\\nM9PUB4ZAY9`&lt;NY59*:/!2L0C-J^W&gt;2(&gt;?[-C3Q70,6A`H9)&amp;2OA=*ELQ)?RW+\\nMP3HT5F%1RQ%INGZNVMF4&amp;WR0?4+&gt;\"OO!,-7(-SO,K#^I=2_&lt;=J?4,QB(`X-V\\nMN)-X&gt;+;C1^B&amp;UI7C&amp;#E)=7E&amp;F)?9\"?9X`OEH.77CE(*I!5KI^08H-I8PMC9:\\nM26HW\"RLFN]LK&gt;@NH1PN[UT&gt;YQ,&amp;ETL#[)#=BVO0&lt;ZZ=VB7S=**D)!?G+\\]M&amp;\\nM%`[&lt;2MY]$=[*JFW8V&gt;6ZYHSZG6V.#DVZ-XS?[8*X:`@M6;SB;5M'&lt;\"\"U3VS&amp;\\nM-5E5J-JT8)P&lt;%&gt;&amp;#$=I#_CH2O40*\")#=/6\\.3QW,(JY,IB,C4[6\\-Y(EPTW\"\\nMRIP[*:AB'X&gt;Z/\"K2MV5805T:/&amp;LIQ+AVY,6$%G\"@]4X]\"SVM2:THGS\\nM;MIJ$9)1/W&lt;AO'I]-S%F2S-!SU9URXFBW))7N[95E!'4W*':5+CZ*(/;W+'R\\nM\\DK9Q-$HU...</td>\n",
       "      <td>16</td>\n",
       "    </tr>\n",
       "    <tr>\n",
       "      <th>11042</th>\n",
       "      <td>*** NATIONAL HOCKEY LEAGUE ***\\n                                 92-93 SEASON\\n\\n                            HOME ATTENDANCE REPORT\\n\\n Each Qtr. represents 10 home games,   Qtr. 4 will have 11 home games.\\n Neutral site games are not included.  S/O indicates the number of sell-outs.\\n\\nTeam\\nName   Qtr. 1   S/O  Qtr. 2   S/O  Qtr. 3   S/O  Qtr. 4   S/O   Totals   Average\\n================================================================================\\nBOS    140,573   5   142,694   7   142,768   6   152,468   8    578,503   14,109\\nBUF    144,701   0   148,516   3   152,133   5   168,878...</td>\n",
       "      <td>10</td>\n",
       "    </tr>\n",
       "    <tr>\n",
       "      <th>11472</th>\n",
       "      <td>---------- cut here ---------- part 02/03\\nM_XN.GGHOL*(3IZ!02'C'\"YM=*][*&amp;WT%S;)5:&amp;$V8A= K/$F[(J )CABC\\nM=8H#9!C@^.0%CF]P[  )'._@V/$5S@ ?'#&amp;-G1/H#C'!\\0)T7(*^Q\\nM._[3L4,X=K08CH]P[$N&gt;7&lt;*Q\"SKV\"&lt;&gt;N_.* &gt;O\\.PW,0[X6@-FN+:O\\nM+QB0.X7KXP(XWM2QR_EV))8Z0!;?7I; \\2Z.O72\"XU\\&lt;.^L%[Y,Z=K(/SN=Q\\nM[H^.O&lt;&gt;Q;SIV'\\&gt;.[-A_'/N=8P]R[(-6W@\"C''N?8Y=R[%&gt;.G&lt;JQ]SCV*G&gt;I\\nMA&gt;.Q'+OS\"E=_[6KO%'$'*.;+SOO!E_?W))&lt;Z\\5^W&amp;:@:;8\"U31L\"'#3\"K\\nM%&lt;@6/.X:P$/1Q &lt;XG0MB=@BNFP?I/%Z:.$;AA^5X/%H &lt;TTA&amp;9JFZ0 \\nMPA,YC\"/P&gt;([!F1^(-L3V(T.R;?92C&amp;N!@&lt;QX MZBO8 :UL 9SQ)Q&gt;CV,PJ 4\\nMOJFUQ8*P=\"C3\\&amp;NF]I&gt;Q#G5-ZKJF4D_8UD&amp;;; GK01) QE/H6IYUP3.U 7-&lt;\\nM8N^E=I0\"G...</td>\n",
       "      <td>2</td>\n",
       "    </tr>\n",
       "  </tbody>\n",
       "</table>\n",
       "</div>"
      ],
      "text/plain": [
       "                                                                                                                                                                                                                                                                                                                                                                                                                                                                                                                                                                                                                          text  \\\n",
       "663    Sterrenkundig symposium 'Compacte Objecten'\\n                                             op 26 april 1993\\n\\n\\nIn het jaar 1643, zeven jaar na de oprichting van de\\nUniversiteit van Utrecht, benoemde de universiteit haar\\neerste sterrenkundige waarnemer. Hiermee ontstond de tweede\\nuniversiteitssterrenwacht ter wereld. Aert Jansz, de eerste\\nwaarnemer, en zijn opvolgers voerden de Utrechtse sterrenkunde\\nin de daaropvolgende jaren, decennia en eeuwen naar de\\nvoorhoede van het astronomisch onderzoek. Dit jaar is het 350\\njaar geleden dat deze historische benoeming plaatsvond.\\n\\nDe huidig...   \n",
       "1723   From: Center for Policy Research <cpr>\\nSubject: Poem by Erich Fried \\n\\n\\nPoem by German-Jewish poet Erich Fried (Holocaust survivor)\\n\\nEin Jude an die zionistischen Kaempfer - 1988\\n\\n    von Erich Fried\\n\\nWas wollt ihr eigentlich ?  Wollt ihr wirklich die uebertreffen\\ndie euch niedergetreten haben vor einem Menschenalter in euer\\neigenes Blut und in euren eigenen Kot ?\\n\\n\\t *\\n\\nWollt ihr die alten Foltern jetzt an andere weitergeben mit allen\\nblutigen dreckigen Einzelheiten mit allem brutalen Genuss die\\nFolterknechte wie unsere Vaeter sie damals erlitten haben ?\\n\\n       *\\n\\nWo...   \n",
       "1925   \\n------------ Part 4 of 14 ------------\\nM)G(F&G*Z<G*R)G(:NB8:NAHFNAJZ<AHF<AJZ)AH:&K*R&B9R)G(F&KHF&AJZ\\nM<AJR&B9R)AHF<G)R&AJR&AJRNK)R&AIR&KIRNG(:NB:Z&G(FNAJZ)KJZ<KHF\\nMNB;\"NAHFLEU=771T772Z772R)L)]NGT(\"`@(\"`@(\"`@(\"`@(\"`@(\"`@(\"`@(\\nM\"`@(\"`@(\"`@(\"`@(\"`@(\"`@(\"`@(\"`@(\"`@(\"`@(\"`@(\"`@(\"`@(\"`@(\"`@(\\nM\"`@(\"`@(\"`@(\"`@(\"`@(\"`@(\"`@(\"`@(\"`@(\"`@(\"`@(\"`@(\"`@(\"`@(\"`@(\\nM\"`@(\"`@(\"`@(\"`@(\",M_?W_4?]-34U-34U`)+;FX^IHY<,RLK*Y6$`)5V\\nM(4,,#`Q#0T-#.R$,(3L[?71_;F[I1)MA*YPG%_51')SA5E9<8X.;LYJ:OK-D\\nM\\2(B'<>&O[\\UQS4UD<<U+&EI:8:_Q\\<(\"`@(\"`@(\"`@(\"`@(\"`@(\"`@(\"`@(\\nM\"`@(\"`@(\"`@(\"`@(\"`@(\"`@(\"`@(\"`@(\"`@(\"+H:NG)RLF$1$9`1...   \n",
       "2185   ---------- cut here ---------- part 03/03\\nM2C3,JSG  A\\-\\($J7LUS?30XC;16@\"Y DK<(ME<#T(F6;;,3QX\";>?H!80H(\\nMGNM U )D@/D&\"!YW0\"R\"<T!2V<XLFP6#F9?&:'&B AD.\"/,( ,V1#&W;\\nM'<]6P- 3$BU['L:P$]FVI@<L8'Q\"W\\X&-AQ(LP,9VNF5[90%! ]HF&-8MNG2\\nM/ ''J-A9#\\1RS2FE.RXF6ML*XFG;KJJI-#N5H8BU%,;>CF[;831;&$?0[R0)\\nM=\".B4G!M<W13VW!-]SV.;\\ZFFUT9\"UO&JVLT=W8L<3FY88>4[% #0CG+@2S-\\nMJ2S;MU2Y8(6!:E!=[+,%R]42K.8%%$F\"<2S+#JC*%JQLXN:&F:AL'\\nM%&0+I@&-6S7B7:Z,$UEV(JC&K:&:PT,UJYU0[7FHYO10S?&AFGUT;\\'JH5J8\\nM9<>&:G'Z<HX-U7IW%^_NXMU=O+N+=W?Q[B[>7<=RJ-:T'1NJA9F^X]EW/-NQ\\nMH=KX4,U#H9IS0C77A6H^\"-5<%*JY'50S2'.JSE#-(:\":!T(U-X5J;@[5'!2...   \n",
       "3720   ---------- cut here ---------- part 01/01\\nbegin 644 1260wn31.exe\\nM35KO 1D    & -$,__\\@ P $     ?#_'@     !0V]P>7)I9VAT(#$Y.#DM\\nM,3DY,\"!02U=!+B!!;&:'1S(%)E<V5R=F5D+@T*        \\nM        _\"Z,#F\\$H0( C,N!PP (.\\-R RT !BT@ /J\\  *.T/LM00\"C<02.\\nMP.B9 *%[!*-Y!*%]!*-W!(S BQY_!+Y_!.AM \"ZC<P2[Y &^F +H8 !0OGL$\\nMO^$!I:6+'GL$BQ9]!(OK@>7_#XK?BOJQ!-/KB]73ZD(KPH[ B\\N&Z0,V?P2,\\nMV@/1CMJ+S8ON,__1Z1/Z6%VW04_LR.P/[.CMJY  @S_XOU\\Z5+Z^B.V#/ \\nM4,O1ZXO+T>O1Z]'K0RO#CL S__.EPS/V,]LSTC/_BHPP NA- (J70@*+ZB:(\\nM3@ FB)X  0/H@?T  7+O0_[-=>2*C#D\"Z\"H A]^*EX(\"B^I#0R:(C@ \")HB>\\nM  ,#Z(']  %R[DO^S77AA_M&@_X)<JW#BNF1L032...   \n",
       "5472   part 2/2 of xrastool 1.0\\n---cut here---\\nM%]F+[P'R8G=KW'AQY!=@$L^-QJZJH]?1WBB=$022&X,B1)N#(7XL) !V;#HJ\\nM')^.S /&'WB&Z0ASW#LB'M56V,:W5=PQ: 1?%\"_N%Q.$HT3+X\\-%O=0$B\"_J\\nM'6=<A<?&XXR+\\0AM?#P.Q=\".U$:U(VRP[6A=C#PVKH8T\\<7(U>2*8 ,O0RE(\\nM&DU@@3$'(!:#!XW1Q\\,!4FT4-8Z?QRP2ABA(,-_(5#&?\"P6%>X2#@\\nM4;B%XD\"28.4J7IAVO!%*#%N!&L!2XQ50TU<+1#3> CU]$;_?E\"&QHNB]$2?U\\nM(%@7#0C*R%VA/*\"-0AW:_>QE?T=SH_4Q3,/<>CGRF$Z.(T=X'H* [IC20Q!E\\nM''F$],>^3^CQ_K@+S#\\&&[9VRP/&(P'2WKA[Q\"N.R>QX?9__8AZQ86CSV_=X\\nM&).)(,: ^ \\V*\\D< I#(1K#@9O\"QZ!LN*C3O-W?]12#B\"5\"N&\\nM%>F*6T4(EN#.<0=7G#^V(.6*+)%DQLQA]O =^GJ:-H8&#X=J1I =G3 (:\\nM S-]=49...   \n",
       "7976   Here are four pseudo-random character generators, based on\\nirreducible trinomials.  Each contains 16 separate trinomials,\\none of which is selected on initialization (there are 64\\ndistinct trinomials between the 4 PRCGs).  The PRCGs are\\ninitialized with a 32-bit seed, and a 4-bit trinomial-\\nselector.\\n\\nI would like to get comments on these by anyone who is\\ninterested enough to look them over.  Please email,\\nbecause our news is on the fritz (Note that this was\\nposted via email).\\n\\nPeter K. Boucher    <>\\n\\n================ CLIP CLIP =================================\\n\\nbegin 660 rn...   \n",
       "9288   \\n\\n\\nSource: A. Alper Gazigiray, \"Osmanlilardan Gunumuze Kadar Vesikalarla \\n        Ermeni Teroru'nun Kaynaklari,\" Gozen Kitabevi, Istanbul, 1982.\\n\\npp. 267-268.\\n\\n\"Van'dan sonra ilk isyan Sebinkarahisar'da basladi. 1915 senesi 5 \\n haziran da, Sivasli Murat [Hamparsum Boyaciyan - sa] denilen bir \\n caninin emri altinda 500 kadar cete Sebinkarahisari basti. Burasi o \\n zaman en onemli askeri bir yerdi. Erzurum bolgesinde Rus ordusu ile \\n savasan Osmanli Ordularinin butun ikmal araclari buradan gecmekte idi. \\n Ermeniler boyle onemli bir yer isgal ettikleri takdirde Turk \\n ordularinin...   \n",
       "9311   (...)\\n(...)\\n\\nAtt man skulle bli tvyngen att {ndra premisserna kunde man inte lista\\nut p} frhand. Huvudsak att man inte flyttar *ner* fel lag.\\n\\stersund var en solklar fix som sagt, men V{stervik!! Att det beror p}\\nNykping tror jag inte p}, man kunde ju lika g{rna \"flytta ner\" Roma\\ntill sdra (iaf om man g}r efter bredgraderna). Mest r{ttvist vore att\\nl}ta Tierp och V{stervik gra upp, men d} skulle Roma/Nykpinks vara\\neller inte vara i stra ocks} avgras. Vad skulle de s{ga om det?\\nDet strsta felet med }rets indelning {r *exakt* samma som frra }ret,\\nfast v{rre. DET [R INTE R[TVIST I...   \n",
       "9465   \\n\\nTry this one on for size.  I'd rather not post her name, but if you\\nemail me, I'll tell you who she is.  Enjoy!\\n\\nbegin 640 big1.zip\\nM4$L#!!0    ( ,!V?AKDL':76L$! +8[ P (    0E545\"Y\"35\"L?%]H&W>^\\nM[YQ[6TBA#^5P!'K8A\\#HH6 ]I&%G8J$5=[BH:(;[#WT8C(578JPLP\\I8\\nMID93B-D>8HN%#;D]KH,=&D,3\"LE\"T0F+P^[AIJ0L1:E-+]XN)BI8M'I(((9Z\\nM\\</F:>_G\\_V.G+3G7N[A<B5;&HW^./%\\E\\OI_O]S?_];_]OOB?#5[L5PSC\\nM3=S_E_]D&/$_&,8_&&=D_^4+^OR/+V=>><7(GGG%R./[]3-O&*^\\\\8KQQAM\\\\nM_(;Q^NM9XY4L'F<-/,X:6=R_D3V#^S-&'OM?S[YAY%X_:[R>P^NQ??;L&>/,\\nMV7_\"-EY[]@VC_$]9XQSV9<]F\\1RWLT8U>];(YLX:;[X^9;R)^_PY?-:;>'WN\\nM3>.-<_]D_!3[WCG[$SSW...   \n",
       "9593   begin 644 outOfControl.gif\\nM1TE&.#=AN@*6`?```````/___RP`````N@*6`0`\"_@)O-[XQ4#IYX::Z3\\nM9PUB4ZAY9`<NY59*:/!2L0C-J^W>2(>?[-C3Q70,6A`H9)&2OA=*ELQ)?RW+\\nMP3HT5F%1RQ%INGZNVMF4&WR0?4+>\"OO!,-7(-SO,K#^I=2_<=J?4,QB(`X-V\\nMN)-X>+;C1^B&UI7C&#E)=7E&F)?9\"?9X`OEH.77CE(*I!5KI^08H-I8PMC9:\\nM26HW\"RLFN]LK>@NH1PN[UT>YQ,&ETL#[)#=BVO0<ZZ=VB7S=**D)!?G+\\]M&\\nM%`[<2MY]$=[*JFW8V>6ZYHSZG6V.#DVZ-XS?[8*X:`@M6;SB;5M'<\"\"U3VS&\\nM-5E5J-JT8)P<%>&#$=I#_CH2O40*\")#=/6\\.3QW,(JY,IB,C4[6\\-Y(EPTW\"\\nMRIP[*:AB'X>Z/\"K2MV5805T:/&LIQ+AVY,6$%G\"@]4X]\"SVM2:THGS\\nM;MIJ$9)1/W<AO'I]-S%F2S-!SU9URXFBW))7N[95E!'4W*':5+CZ*(/;W+'R\\nM\\DK9Q-$HU...   \n",
       "11042  *** NATIONAL HOCKEY LEAGUE ***\\n                                 92-93 SEASON\\n\\n                            HOME ATTENDANCE REPORT\\n\\n Each Qtr. represents 10 home games,   Qtr. 4 will have 11 home games.\\n Neutral site games are not included.  S/O indicates the number of sell-outs.\\n\\nTeam\\nName   Qtr. 1   S/O  Qtr. 2   S/O  Qtr. 3   S/O  Qtr. 4   S/O   Totals   Average\\n================================================================================\\nBOS    140,573   5   142,694   7   142,768   6   152,468   8    578,503   14,109\\nBUF    144,701   0   148,516   3   152,133   5   168,878...   \n",
       "11472  ---------- cut here ---------- part 02/03\\nM_XN.GGHOL*(3IZ!02'C'\"YM=*][*&WT%S;)5:&$V8A= K/$F[(J )CABC\\nM=8H#9!C@^.0%CF]P[  )'._@V/$5S@ ?'#&-G1/H#C'!\\0)T7(*^Q\\nM._[3L4,X=K08CH]P[$N>7<*Q\"SKV\"<>N_.* >O\\.PW,0[X6@-FN+:O\\nM+QB0.X7KXP(XWM2QR_EV))8Z0!;?7I; \\2Z.O72\"XU\\<.^L%[Y,Z=K(/SN=Q\\nM[H^.O<>Q;SIV'\\>.[-A_'/N=8P]R[(-6W@\"C''N?8Y=R[%>.G<JQ]SCV*G>I\\nMA>.Q'+OS\"E=_[6KO%'$'*.;+SOO!E_?W))<Z\\5^W&:@:;8\"U31L\"'#3\"K\\nM%<@6/.X:P$/1Q <XG0MB=@BNFP?I/%Z:.$;AA^5X/%H <TTA&9JFZ0 \\nMPA,YC\"/P>([!F1^(-L3V(T.R;?92C&N!@<QX MZBO8 :UL 9SQ)Q>CV,PJ 4\\nMOJFUQ8*P=\"C3\\&NF]I>Q#G5-ZKJF4D_8UD&;; GK01) QE/H6IYUP3.U 7-<\\nM8N^E=I0\"G...   \n",
       "\n",
       "      category  \n",
       "663         14  \n",
       "1723        17  \n",
       "1925         2  \n",
       "2185         2  \n",
       "3720         2  \n",
       "5472         5  \n",
       "7976        11  \n",
       "9288        17  \n",
       "9311        10  \n",
       "9465         2  \n",
       "9593        16  \n",
       "11042       10  \n",
       "11472        2  "
      ]
     },
     "execution_count": 39,
     "metadata": {},
     "output_type": "execute_result"
    }
   ],
   "source": [
    "df_new_subbed[choice >= 0.25]"
   ]
  },
  {
   "cell_type": "markdown",
   "metadata": {},
   "source": [
    " We have German reports, which just isn't english. Some contains sequences of numbers (and a lot of them) which aren't tokenized as english. We have some that are illegible (not even understandable what it means), and we have some that are specialized for the specific that looks more like representation of position (like the NATIONAL HOCKEY LEAGUE) (8368). Certainly these are the ones we want to remove. "
   ]
  },
  {
   "cell_type": "code",
   "execution_count": 40,
   "metadata": {},
   "outputs": [
    {
     "data": {
      "text/plain": [
       "86"
      ]
     },
     "execution_count": 40,
     "metadata": {},
     "output_type": "execute_result"
    }
   ],
   "source": [
    "(choice >= 0.1).sum()  # how much of threshold 10% xxunk? "
   ]
  },
  {
   "cell_type": "markdown",
   "metadata": {},
   "source": [
    "Then, we need to remove these data, based on our threshold (you can tune this). Make sure you take those **less than** threshold, don't take the wrong subset. "
   ]
  },
  {
   "cell_type": "code",
   "execution_count": 41,
   "metadata": {},
   "outputs": [],
   "source": [
    "threshold_del = 0.1\n",
    "thres = choice < threshold_del\n",
    "xs_subbed_deleted = new_xs_subbed[thres]\n",
    "y_subbed_deleted = new_y[thres]"
   ]
  },
  {
   "cell_type": "code",
   "execution_count": 42,
   "metadata": {},
   "outputs": [],
   "source": [
    "np.save(\"choice\", choice)"
   ]
  },
  {
   "cell_type": "markdown",
   "metadata": {},
   "source": [
    "Note that we have two choice now: whether to create a data based on new vocabulary or without using new vocabulary. Here, one chose to create new vocabulary, but you could equally choose not to. "
   ]
  },
  {
   "cell_type": "code",
   "execution_count": 43,
   "metadata": {},
   "outputs": [],
   "source": [
    "clear_cache(True)"
   ]
  },
  {
   "cell_type": "code",
   "execution_count": 44,
   "metadata": {},
   "outputs": [
    {
     "data": {
      "text/html": [],
      "text/plain": [
       "<IPython.core.display.HTML object>"
      ]
     },
     "metadata": {},
     "output_type": "display_data"
    },
    {
     "name": "stderr",
     "output_type": "stream",
     "text": [
      "/anaconda/envs/fastai/lib/python3.8/site-packages/numpy/core/_asarray.py:102: VisibleDeprecationWarning: Creating an ndarray from ragged nested sequences (which is a list-or-tuple of lists-or-tuples-or ndarrays with different lengths or shapes) is deprecated. If you meant to do this, you must specify 'dtype=object' when creating the ndarray.\n",
      "  return array(a, dtype, copy=False, order=order)\n"
     ]
    }
   ],
   "source": [
    "dls = numpy_to_pd_to_dls(xs_subbed_deleted, y_subbed_deleted)"
   ]
  },
  {
   "cell_type": "code",
   "execution_count": 45,
   "metadata": {},
   "outputs": [],
   "source": [
    "def num_xxunk(xs, y, dls):\n",
    "    df_new_subbed = pd.DataFrame([xs, y]).T\n",
    "    df_new_subbed.columns = [\"text\", \"category\"]\n",
    "\n",
    "    df_new_toked = tokenize_df(df_new_subbed, \"text\", n_workers=os.cpu_count(),\n",
    "                        tok=dls.tok)[0]\n",
    "\n",
    "    choice = np.zeros((len(df_new_toked), )).astype(np.float32)\n",
    "    loop_over = df_new_toked[\"text\"].to_numpy()\n",
    "\n",
    "    for k, data in enumerate(tqdm(loop_over)):\n",
    "        g = stoi(new_vocab, data)\n",
    "        choice[k] = (g == 0).sum() / len(g)\n",
    "\n",
    "    del df_new_subbed, df_new_toked, loop_over\n",
    "    clear_cache()\n",
    "    return choice"
   ]
  },
  {
   "cell_type": "code",
   "execution_count": 46,
   "metadata": {},
   "outputs": [
    {
     "name": "stdout",
     "output_type": "stream",
     "text": [
      "Threshold 0.1:  0\n",
      "Threshold 0.05:  556\n"
     ]
    }
   ],
   "source": [
    "from IPython.display import clear_output\n",
    "choice = num_xxunk(xs_subbed_deleted, y_subbed_deleted, dls)\n",
    "clear_output()\n",
    "print(\"Threshold 0.1: \", (choice >= 0.1).sum())\n",
    "print(\"Threshold 0.05: \", (choice >= 0.05).sum())"
   ]
  },
  {
   "cell_type": "markdown",
   "metadata": {},
   "source": [
    "With that looking okay, it seems like creating from new still creates a (somewhat similar set of words) vocabulary, that's why we don't have high xxunk anymore (though the vocab might not be totally similar depending on their mappings though, but the words might be the same). \n",
    "\n",
    "We can now create a `Learner` to do classification and see how it works. \n",
    "\n",
    "## Note\n",
    "We are doing data cleaning in this notebook, not model training. So the model training tricks will not be used here. We are just wanting to see how things goes. "
   ]
  },
  {
   "cell_type": "code",
   "execution_count": 47,
   "metadata": {},
   "outputs": [
    {
     "data": {
      "text/html": [],
      "text/plain": [
       "<IPython.core.display.HTML object>"
      ]
     },
     "metadata": {},
     "output_type": "display_data"
    },
    {
     "name": "stderr",
     "output_type": "stream",
     "text": [
      "/anaconda/envs/fastai/lib/python3.8/site-packages/fastai/callback/schedule.py:269: UserWarning: color is redundantly defined by the 'color' keyword argument and the fmt string \"ro\" (-> color='r'). The keyword argument will take precedence.\n",
      "  ax.plot(val, idx, 'ro', label=nm, c=color)\n"
     ]
    },
    {
     "data": {
      "text/plain": [
       "SuggestedLRs(valley=0.0014454397605732083)"
      ]
     },
     "execution_count": 47,
     "metadata": {},
     "output_type": "execute_result"
    },
    {
     "data": {
      "image/png": "[encoded data removed]",
      "text/plain": [
       "<Figure size 432x288 with 1 Axes>"
      ]
     },
     "metadata": {
      "needs_background": "light"
     },
     "output_type": "display_data"
    }
   ],
   "source": [
    "learn = text_classifier_learner(dls, AWD_LSTM, metrics=[accuracy, Perplexity()],\n",
    "                wd=0.1, drop_mult=0.3, pretrained=True).to_fp16()\n",
    "learn.lr_find()"
   ]
  },
  {
   "cell_type": "code",
   "execution_count": 48,
   "metadata": {},
   "outputs": [
    {
     "data": {
      "text/html": [
       "<table border=\"1\" class=\"dataframe\">\n",
       "  <thead>\n",
       "    <tr style=\"text-align: left;\">\n",
       "      <th>epoch</th>\n",
       "      <th>train_loss</th>\n",
       "      <th>valid_loss</th>\n",
       "      <th>accuracy</th>\n",
       "      <th>perplexity</th>\n",
       "      <th>time</th>\n",
       "    </tr>\n",
       "  </thead>\n",
       "  <tbody>\n",
       "    <tr>\n",
       "      <td>0</td>\n",
       "      <td>1.554441</td>\n",
       "      <td>1.349704</td>\n",
       "      <td>0.565812</td>\n",
       "      <td>3.856284</td>\n",
       "      <td>05:10</td>\n",
       "    </tr>\n",
       "    <tr>\n",
       "      <td>1</td>\n",
       "      <td>1.408030</td>\n",
       "      <td>1.182550</td>\n",
       "      <td>0.626496</td>\n",
       "      <td>3.262684</td>\n",
       "      <td>05:09</td>\n",
       "    </tr>\n",
       "    <tr>\n",
       "      <td>2</td>\n",
       "      <td>1.132111</td>\n",
       "      <td>1.106048</td>\n",
       "      <td>0.651282</td>\n",
       "      <td>3.022391</td>\n",
       "      <td>05:09</td>\n",
       "    </tr>\n",
       "  </tbody>\n",
       "</table>"
      ],
      "text/plain": [
       "<IPython.core.display.HTML object>"
      ]
     },
     "metadata": {},
     "output_type": "display_data"
    }
   ],
   "source": [
    "learn.fit_one_cycle(3, 3e-2)"
   ]
  },
  {
   "cell_type": "markdown",
   "metadata": {},
   "source": [
    "What can be tried: perhaps cleaning set `include_newline=False`. \n",
    "\n",
    "Starting accuracy is better than baseline. Ending accuracy isn't too much difference (slightly worse) (mostly due to the nature of model and randomness?). Anyway, we can say this is successful cleaning. \n",
    "\n",
    "Don't clean away some of the stuffs as they might contain information."
   ]
  },
  {
   "cell_type": "code",
   "execution_count": null,
   "metadata": {},
   "outputs": [],
   "source": []
  }
 ],
 "metadata": {
  "interpreter": {
   "hash": "4b0643101043d44332c97f08722999715e3a8fa1d34470aacaa5a755be91c349"
  },
  "kernelspec": {
   "display_name": "Python 3.8.11 64-bit ('fastai': conda)",
   "language": "python",
   "name": "python3"
  },
  "language_info": {
   "codemirror_mode": {
    "name": "ipython",
    "version": 3
   },
   "file_extension": ".py",
   "mimetype": "text/x-python",
   "name": "python",
   "nbconvert_exporter": "python",
   "pygments_lexer": "ipython3",
   "version": "3.8.11"
  },
  "orig_nbformat": 4
 },
 "nbformat": 4,
 "nbformat_minor": 2
}
