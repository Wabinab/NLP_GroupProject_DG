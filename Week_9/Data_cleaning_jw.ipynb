{
 "cells": [
  {
   "cell_type": "code",
   "execution_count": 1,
   "metadata": {},
   "outputs": [],
   "source": [
    "%load_ext autoreload\n",
    "%autoreload 2"
   ]
  },
  {
   "cell_type": "markdown",
   "metadata": {},
   "source": [
    "**Note:** This notebook requires high RAM if you are to run headless. To remain low memory, delete some data (such as don't use a new variable everytime you take a subset of data, for no repetition, etc). \n",
    "\n",
    "This VM runs on Azure STANDARD_NC6 instance (or equivalent).\n",
    "- CPU: 6 cores\n",
    "- RAM: 56 GB. \n",
    "- GPU: 1 K80."
   ]
  },
  {
   "cell_type": "code",
   "execution_count": 2,
   "metadata": {},
   "outputs": [],
   "source": [
    "from sklearn.datasets import fetch_20newsgroups\n",
    "all_xs, all_y = fetch_20newsgroups(subset=\"all\", remove=('headers', 'footers', 'quotes'),\n",
    "                    shuffle=True, return_X_y=True)"
   ]
  },
  {
   "cell_type": "code",
   "execution_count": 3,
   "metadata": {},
   "outputs": [],
   "source": [
    "def split_data(data, idx=None):\n",
    "    \"\"\"Split data for easier visualization. NOT FOR TRAINING.\"\"\"\n",
    "    if idx is not None: x = data[idx].split(\"\\n\")\n",
    "    else: x = data.split(\"\\n\")\n",
    "    x = list(filter(lambda a: a != '', x))\n",
    "    return x"
   ]
  },
  {
   "cell_type": "code",
   "execution_count": 4,
   "metadata": {},
   "outputs": [],
   "source": [
    "from fastai.text.all import *"
   ]
  },
  {
   "cell_type": "markdown",
   "metadata": {},
   "source": [
    "There are a few cleanings we'll have to do. Normally, we need to lower all characters, but based on what one learns in fastai, there are things that trains better with capital letters. And when we pass through fastai tokenizer, it will lower it for us, and adding a `xxmaj` for us just before this. We'll discuss about this `xxmaj` later when we came to it. "
   ]
  },
  {
   "cell_type": "code",
   "execution_count": 5,
   "metadata": {},
   "outputs": [],
   "source": [
    "# Make sure to lower all characters. \n",
    "# all_xs = [g.lower() for g in all_xs]\n",
    "\n",
    "assert len(all_xs) == len(all_y) == 18846"
   ]
  },
  {
   "cell_type": "markdown",
   "metadata": {},
   "source": [
    "This step is optional. We can either use the whole dataset, or we choose a subset. Here, to speed up training, I use a subset. However, you could just tune this value to get the best results, or just use the whole dataset. \n",
    "\n",
    "The idea is this: it's not necessary all short sentence gives good results. So we only keep the longer articles and discard those that are one or two sentence long (about threshold=5). Here we did it for larger threshold to speed up training, but could be tuned again for better results. "
   ]
  },
  {
   "cell_type": "code",
   "execution_count": 6,
   "metadata": {},
   "outputs": [],
   "source": [
    "def threshold_subset(all_xs, threshold=10):\n",
    "    \"\"\"\n",
    "    Will return a numpy array containing all the data that is to be kept.\n",
    "    Threshold means the number of lines (after separated using `split_data`)\n",
    "    for the data to be retained, inclusive. By default, threshold=10 means\n",
    "    if data is less than 10 lines it will be discarded. \n",
    "    \"\"\"\n",
    "    to_keep = []\n",
    "    for k, x in enumerate(all_xs):\n",
    "        sentence_len = len(split_data(x))\n",
    "        if sentence_len >= threshold: to_keep.append(k)\n",
    "\n",
    "    return np.array(to_keep)"
   ]
  },
  {
   "cell_type": "code",
   "execution_count": 7,
   "metadata": {},
   "outputs": [],
   "source": [
    "to_keep = threshold_subset(all_xs)"
   ]
  },
  {
   "cell_type": "code",
   "execution_count": 8,
   "metadata": {},
   "outputs": [
    {
     "data": {
      "text/plain": [
       "(8940, 18845, 2)"
      ]
     },
     "execution_count": 8,
     "metadata": {},
     "output_type": "execute_result"
    }
   ],
   "source": [
    "assert len(to_keep) == len(np.unique(to_keep))\n",
    "len(to_keep), to_keep.max(), to_keep.min()"
   ]
  },
  {
   "cell_type": "code",
   "execution_count": 9,
   "metadata": {},
   "outputs": [],
   "source": [
    "new_xs = np.array(all_xs)[to_keep]\n",
    "new_y = np.array(all_y)[to_keep]"
   ]
  },
  {
   "cell_type": "markdown",
   "metadata": {},
   "source": [
    "What we need to note for the `dls` functio below is that, we take in the **column name** from the `TextBlock.from_df` first arg, while the `get_x=ColReader(\"text\")` is always fixed with \"text\" because the output from `TextBlock.from_df` is a pandas Series with a column named \"text\". If you confused with it and changed it, it'll not work. "
   ]
  },
  {
   "cell_type": "code",
   "execution_count": 10,
   "metadata": {},
   "outputs": [],
   "source": [
    "import gc\n",
    "def clear_cache(del_learn_dls=False):\n",
    "    if del_learn_dls:\n",
    "        try:\n",
    "            global learn, dls\n",
    "            del learn, dls\n",
    "        except Exception: pass\n",
    "    gc.collect()\n",
    "    torch.cuda.empty_cache()"
   ]
  },
  {
   "cell_type": "code",
   "execution_count": 11,
   "metadata": {},
   "outputs": [],
   "source": [
    "clear_cache()  # assert that it works without defining learn and dls. "
   ]
  },
  {
   "cell_type": "code",
   "execution_count": 12,
   "metadata": {},
   "outputs": [],
   "source": [
    "def numpy_to_pd_to_dls(xs, y, seq_len=72, bs=32, num_workers=0, **kwargs):\n",
    "    \"\"\"\n",
    "    Take xs and y as numpy array, convert it to pandas dataframe, \n",
    "    and make a dataloader from it. \n",
    "\n",
    "    :return: fastai DataLoaders. \n",
    "    \"\"\"\n",
    "    df = pd.DataFrame([xs, y]).T\n",
    "    df.columns = [\"text_\", \"category\"]\n",
    "\n",
    "    dls = DataBlock(\n",
    "        blocks=(TextBlock.from_df(\"text_\", seq_len=seq_len, tok=SpacyTokenizer(\"en\")),\n",
    "                CategoryBlock),\n",
    "        get_x=ColReader(\"text\"), get_y=ColReader(\"category\"),\n",
    "        splitter=RandomSplitter(0.1)\n",
    "    ).dataloaders(df, bs=bs, num_workers=num_workers, seq_len=seq_len, **kwargs)\n",
    "\n",
    "    return dls"
   ]
  },
  {
   "cell_type": "markdown",
   "metadata": {},
   "source": [
    "We want to know a baseline. Now we could make a baseline. "
   ]
  },
  {
   "cell_type": "code",
   "execution_count": 13,
   "metadata": {},
   "outputs": [
    {
     "data": {
      "text/html": [],
      "text/plain": [
       "<IPython.core.display.HTML object>"
      ]
     },
     "metadata": {},
     "output_type": "display_data"
    },
    {
     "name": "stderr",
     "output_type": "stream",
     "text": [
      "/anaconda/envs/fastai/lib/python3.8/site-packages/numpy/core/_asarray.py:102: VisibleDeprecationWarning: Creating an ndarray from ragged nested sequences (which is a list-or-tuple of lists-or-tuples-or ndarrays with different lengths or shapes) is deprecated. If you meant to do this, you must specify 'dtype=object' when creating the ndarray.\n",
      "  return array(a, dtype, copy=False, order=order)\n"
     ]
    },
    {
     "data": {
      "text/html": [
       "<table border=\"1\" class=\"dataframe\">\n",
       "  <thead>\n",
       "    <tr style=\"text-align: right;\">\n",
       "      <th></th>\n",
       "      <th>text</th>\n",
       "      <th>category</th>\n",
       "    </tr>\n",
       "  </thead>\n",
       "  <tbody>\n",
       "    <tr>\n",
       "      <th>0</th>\n",
       "      <td>xxbos xxmaj due to the resolution and size it is in 14 parts . \\n\\n xxmaj this is a uuencoded bitmap . xxunk 256 colors . \\n xxmaj the picture is a xxunk xxunk on a desert with blue sky background . \\n xxmaj the size is just right for centered wallpaper on a 1024x768 display \\n because it leaves a border at the bottom just big enough for icons \\n to fit in without being on top of the picture . xxmaj xxunk image \\n quality and resolution - i have not seen much better . \\n\\n xxmaj for those of you who have n't worked with xxunk image files , here \\n is how to put it back together . \\n\\t 1 . save the 14 parts to 14 individual files \\n\\t 2 . use a text editor to remove the header and xxunk \\n\\t▁ in each file</td>\n",
       "      <td>2</td>\n",
       "    </tr>\n",
       "    <tr>\n",
       "      <th>1</th>\n",
       "      <td>xxbos xxmaj try the firearms archive . xxmaj larry xxmaj cipriani 's instructions follow . xxmaj by \\n the way , thanks for the archive xxmaj larry .. \\n\\n xxmaj this year is the 103rd congress directory . \\n\\n▁ xxrep 28 - \\n xxmaj from \\n xxunk \\n xxunk . \\n xxunk xxmaj thu xxmaj apr 8 xxunk 1993 \\n xxmaj article : xxunk of talk.politics.guns \\n xxmaj path : \\n xxunk \\n xxunk . \\n xxunk \\n xxmaj from : xxunk \\n xxmaj newsgroups : talk.politics.guns \\n xxmaj subject : xxmaj information about the anonymous ftp xxup rkba archive \\n message - id : &lt; xxunk &gt; \\n xxmaj date : 8 xxmaj apr 93 xxunk xxup gmt \\n xxmaj sender : xxunk \\n xxmaj organization : xxmaj ideology xxmaj busters , xxmaj inc . \\n xxmaj lines : xxunk \\n\\n xxmaj this is the xxup index file for</td>\n",
       "      <td>16</td>\n",
       "    </tr>\n",
       "  </tbody>\n",
       "</table>"
      ],
      "text/plain": [
       "<IPython.core.display.HTML object>"
      ]
     },
     "metadata": {},
     "output_type": "display_data"
    }
   ],
   "source": [
    "dls = numpy_to_pd_to_dls(new_xs, new_y)\n",
    "dls.show_batch(max_n=2)"
   ]
  },
  {
   "cell_type": "code",
   "execution_count": 14,
   "metadata": {},
   "outputs": [],
   "source": [
    "def get_learner(dls):\n",
    "    return text_classifier_learner(dls, AWD_LSTM, metrics=[accuracy, Perplexity()],\n",
    "                wd=0.1, drop_mult=0.3, pretrained=True).to_fp16()"
   ]
  },
  {
   "cell_type": "code",
   "execution_count": 15,
   "metadata": {},
   "outputs": [
    {
     "data": {
      "text/html": [],
      "text/plain": [
       "<IPython.core.display.HTML object>"
      ]
     },
     "metadata": {},
     "output_type": "display_data"
    },
    {
     "name": "stderr",
     "output_type": "stream",
     "text": [
      "/anaconda/envs/fastai/lib/python3.8/site-packages/fastai/callback/schedule.py:269: UserWarning: color is redundantly defined by the 'color' keyword argument and the fmt string \"ro\" (-> color='r'). The keyword argument will take precedence.\n",
      "  ax.plot(val, idx, 'ro', label=nm, c=color)\n"
     ]
    },
    {
     "data": {
      "text/plain": [
       "SuggestedLRs(valley=0.004365158267319202)"
      ]
     },
     "execution_count": 15,
     "metadata": {},
     "output_type": "execute_result"
    },
    {
     "data": {
      "image/png": "[encoded data removed]",
      "text/plain": [
       "<Figure size 432x288 with 1 Axes>"
      ]
     },
     "metadata": {
      "needs_background": "light"
     },
     "output_type": "display_data"
    }
   ],
   "source": [
    "learn = get_learner(dls)\n",
    "learn.lr_find()"
   ]
  },
  {
   "cell_type": "code",
   "execution_count": 16,
   "metadata": {},
   "outputs": [
    {
     "data": {
      "text/html": [
       "<table border=\"1\" class=\"dataframe\">\n",
       "  <thead>\n",
       "    <tr style=\"text-align: left;\">\n",
       "      <th>epoch</th>\n",
       "      <th>train_loss</th>\n",
       "      <th>valid_loss</th>\n",
       "      <th>accuracy</th>\n",
       "      <th>perplexity</th>\n",
       "      <th>time</th>\n",
       "    </tr>\n",
       "  </thead>\n",
       "  <tbody>\n",
       "    <tr>\n",
       "      <td>0</td>\n",
       "      <td>1.522053</td>\n",
       "      <td>1.345554</td>\n",
       "      <td>0.561521</td>\n",
       "      <td>3.840313</td>\n",
       "      <td>05:05</td>\n",
       "    </tr>\n",
       "    <tr>\n",
       "      <td>1</td>\n",
       "      <td>1.315707</td>\n",
       "      <td>1.092473</td>\n",
       "      <td>0.631991</td>\n",
       "      <td>2.981637</td>\n",
       "      <td>05:09</td>\n",
       "    </tr>\n",
       "    <tr>\n",
       "      <td>2</td>\n",
       "      <td>1.050113</td>\n",
       "      <td>1.013177</td>\n",
       "      <td>0.678971</td>\n",
       "      <td>2.754338</td>\n",
       "      <td>05:09</td>\n",
       "    </tr>\n",
       "  </tbody>\n",
       "</table>"
      ],
      "text/plain": [
       "<IPython.core.display.HTML object>"
      ]
     },
     "metadata": {},
     "output_type": "display_data"
    }
   ],
   "source": [
    "learn.fit_one_cycle(3, 3e-2)"
   ]
  },
  {
   "cell_type": "markdown",
   "metadata": {},
   "source": [
    "Next, we want to use regex to clean some unwanted data. Perhaps we could leave the newline attached, or change it into space if it's not that important. This could be tuned. However, other things we might consider removing them that doesn't really contribute directly to training, such as line separator. \n",
    "\n",
    "Here the cleaning is included for some symbols that one sees manually. It's unknown whether there are additional symbols that're present that we don't want to delete. Note we use \"delete\" (re.sub) rather than \"keep\" (re.match, etc). They have their own advantage: \n",
    "- If we use \"keep\": we keep what we want. What we're unsure is whether there are things that we want to keep but we aren't aware of. \n",
    "- If we use \"delete\": we delete only what we see. What we aren't sure is whether there are things we want to delete but we aren't aware of. \n",
    "\n",
    "So they have their own advantage and their disadvantages. Choose as you please. "
   ]
  },
  {
   "cell_type": "code",
   "execution_count": 17,
   "metadata": {},
   "outputs": [],
   "source": [
    "import re\n",
    "\n",
    "def clean_data(text, include_newline=True):\n",
    "    text = re.sub(\"[:<>\\t*-]\", \"\", text)\n",
    "    if include_newline: text = re.sub(\"\\n\", \" \", text)\n",
    "    text = text.split(\"\\'\")  # .replace(\"\\\\\", \"\") doesn't work. \n",
    "    text = \"'\".join(text)\n",
    "    return text"
   ]
  },
  {
   "cell_type": "code",
   "execution_count": 18,
   "metadata": {},
   "outputs": [
    {
     "data": {
      "application/vnd.jupyter.widget-view+json": {
       "model_id": "8476f8b3974c43f289c9fd16a1f74927",
       "version_major": 2,
       "version_minor": 0
      },
      "text/plain": [
       "  0%|          | 0/8940 [00:00<?, ?it/s]"
      ]
     },
     "metadata": {},
     "output_type": "display_data"
    }
   ],
   "source": [
    "from tqdm.notebook import tqdm\n",
    "\n",
    "new_xs_subbed = np.array([clean_data(x) for x in tqdm(new_xs)])\n",
    "# new_y is unchanged. "
   ]
  },
  {
   "cell_type": "code",
   "execution_count": 19,
   "metadata": {},
   "outputs": [
    {
     "data": {
      "text/html": [],
      "text/plain": [
       "<IPython.core.display.HTML object>"
      ]
     },
     "metadata": {},
     "output_type": "display_data"
    },
    {
     "name": "stderr",
     "output_type": "stream",
     "text": [
      "/anaconda/envs/fastai/lib/python3.8/site-packages/numpy/core/_asarray.py:102: VisibleDeprecationWarning: Creating an ndarray from ragged nested sequences (which is a list-or-tuple of lists-or-tuples-or ndarrays with different lengths or shapes) is deprecated. If you meant to do this, you must specify 'dtype=object' when creating the ndarray.\n",
      "  return array(a, dtype, copy=False, order=order)\n"
     ]
    },
    {
     "data": {
      "text/html": [
       "<table border=\"1\" class=\"dataframe\">\n",
       "  <thead>\n",
       "    <tr style=\"text-align: right;\">\n",
       "      <th></th>\n",
       "      <th>text</th>\n",
       "      <th>category</th>\n",
       "    </tr>\n",
       "  </thead>\n",
       "  <tbody>\n",
       "    <tr>\n",
       "      <th>0</th>\n",
       "      <td>xxbos xxmaj try this one on for size . xxmaj i 'd rather not post her name , but if you \\n email me , xxmaj i 'll tell you who she is . xxmaj enjoy ! \\n\\n begin 640 xxunk \\n xxup xxunk # ! ! 0 ( , ! xxunk ! +8 [ p ( xxunk \\n xxup xxunk # xxunk \\ # xxup xxunk ] xxunk [ # xxup xxunk \\ xxup i8 \\n xxup xxunk - xxunk # ; xxunk : xxunk xxrep 3 ( xxunk \\n m \\ &lt; / xxup xxunk \\ _ xxunk &lt; xxunk / % \\ _ / e \\ xxup xxunk ? # xxunk \\n xxup m3 = xxunk &amp; / $ _ &amp; , xxunk / + xxunk ( xxrep 3 g % r. / [ ] xxunk \\ \\ xxunk \\ \\n xxup xxunk / , xxunk =</td>\n",
       "      <td>2</td>\n",
       "    </tr>\n",
       "    <tr>\n",
       "      <th>1</th>\n",
       "      <td>xxbos xxrep 12 - xxmaj part 2 of 14 xxrep 12 - \\n xxup m0 . / xxup xxunk / xxup cbn / xxup xxunk / xxup xxunk , xxunk , n- [ \\n xxup xxunk \\ _ -8 \\n xxup my _ / xxup sys * / xxup xxunk \\ xxup xxunk &gt; / xxup c^ &gt; / xxup cx_s \\ xxup xxunk _ / xxup sc _ . / xxup xxunk _ . / xxup c _ / xxup gcx^ / xxup y _ . / \\n m \\ xxup x_scx^ / \\ _ . / xxup c _ / s \\ _ . / \\ xxup x^ / \\ xxup x^ / xxup cx_scx^ / xxup c _ . / xxup cx^ / \\ xxup x^ / xxup c _ . / xxup cx^ / xxup cx^ / \\n m \\ xxup xxunk _ . / \\</td>\n",
       "      <td>2</td>\n",
       "    </tr>\n",
       "  </tbody>\n",
       "</table>"
      ],
      "text/plain": [
       "<IPython.core.display.HTML object>"
      ]
     },
     "metadata": {},
     "output_type": "display_data"
    }
   ],
   "source": [
    "dls = numpy_to_pd_to_dls(new_xs, new_y)\n",
    "dls.show_batch(max_n=2)"
   ]
  },
  {
   "cell_type": "markdown",
   "metadata": {},
   "source": [
    "Actually, we haven't finish cleaning. The reason we make the `DataLoaders` first is we want to know more about the data itself. What are the data after we tokenize it using `SpacyTokenizer`? Some data have lots of `xxunk` (meanings these words aren't available in the dictionary, for whatever reasons like count less than the threshold to put into dictionary, or dictionary already reached max word (60000) specified by `SpacyTokenizer` (default value, can be changed), or other reasons) hence they're not useful. We want to delete these. With this, we can access the tokenizer using `dls.tok`, creating a tokenized text, and from there we can delete those unwanted text. We can also set a `threshold` for deletion. In this case, we use 0.3 for the moment (can be tuned further. 0.3 is just a primitive guess). \n",
    "\n",
    "Extra note: you see some other tokenization in the data. E.g. of those that are often seen: (The `xx` is just a signifier, while those characters behind it is the meaning):\n",
    "- `xxbos`: **b**eginning **o**f **s**entence. \n",
    "- `xxeos`: end of sentence. \n",
    "- `xxpad`: padding. \n",
    "- `xxmaj`: capital letter present in the next word. "
   ]
  },
  {
   "cell_type": "code",
   "execution_count": 20,
   "metadata": {},
   "outputs": [
    {
     "data": {
      "text/plain": [
       "(#39024) ['xxunk','xxpad','xxbos','xxeos','xxfld','xxrep','xxwrep','xxup','xxmaj','\\n'...]"
      ]
     },
     "execution_count": 20,
     "metadata": {},
     "output_type": "execute_result"
    }
   ],
   "source": [
    "L(dls.vocab[0])"
   ]
  },
  {
   "cell_type": "markdown",
   "metadata": {},
   "source": [
    "`L` is a fastai's object. We pass through it because it has the ability to not print everything (unlike Python's list which does that and it's annoying). \n",
    "\n",
    "Now, we want to do something we called `stoi` (string to int). We know that the data are arranged such that the position of the vocab corresponds to the actual tokenization. See that in the code below for an example. (`itos` means int to string). "
   ]
  },
  {
   "cell_type": "code",
   "execution_count": 21,
   "metadata": {},
   "outputs": [],
   "source": [
    "def itos(vocab, word, join=False, ignore_pad=False): \n",
    "    import fastai\n",
    "    if not isinstance(vocab, np.ndarray): vocab = np.array(vocab)\n",
    "    if type(word) in [tuple, fastai.text.data.TensorText]: \n",
    "        word = np.array(word)\n",
    "    word = vocab[word]\n",
    "    if ignore_pad: word = word[word != \"xxpad\"]\n",
    "    if join: return \" \".join(word)\n",
    "\n",
    "    return word"
   ]
  },
  {
   "cell_type": "code",
   "execution_count": 22,
   "metadata": {},
   "outputs": [
    {
     "data": {
      "text/plain": [
       "(TensorText([    2,    19,   158,   136,   537,    20,  7537,    14, 12940,    30,\n",
       "          6814,   622,    12,     9,    19,   158,    11,   862,     8,   745,\n",
       "             0,    15,    40,  2622,   701,  1371,    17,    15,     0,    20,\n",
       "             0,   180,    20,  4352,   848,    15,    72,   105,    17,    13,\n",
       "           180,    32,    33,   186,    12,     9,     8,    63,   898,   332,\n",
       "            97,    11, 23360,    14,    11,  4384,    46,     8,   701,     8,\n",
       "          2973,   171,     9,  1013,   375,    14,   411, 12940,    30,    11,\n",
       "           622,    39,  8715,    38,     9,     8,   113,    19,    72,   105,\n",
       "            13,   273,  1013,  4730,    41,  8872,    91,     9,  3875,    41,\n",
       "          7537,    20,    33,   848,    12,     9,    19,    72,    34,   136]),\n",
       " 'xxbos i am very interested in investigations of starvation for improving health . \\n i am the young xxmaj russian xxunk and have highest medical education \\n▁ and xxunk in xxunk work in biological field and would like \\n▁ to work on this problem . \\n xxmaj can anybody send me the adresses of the hospitals or xxmaj medical xxmaj centers where \\n scientific problems of human starvation for the health are investigated ? \\n xxmaj also i would like to set scientific contacts with colleagues who \\n deals with investigations in this field . \\n i would be very')"
      ]
     },
     "execution_count": 22,
     "metadata": {},
     "output_type": "execute_result"
    }
   ],
   "source": [
    "example_partial_sentence = dls.train_ds[0][0][:100]\n",
    "example_partial_sentence, itos(dls.vocab[0], example_partial_sentence, True)"
   ]
  },
  {
   "cell_type": "code",
   "execution_count": 23,
   "metadata": {},
   "outputs": [],
   "source": [
    "new_vocab = {key: index for index, key in enumerate(dls.vocab[0])}"
   ]
  },
  {
   "cell_type": "code",
   "execution_count": 24,
   "metadata": {},
   "outputs": [
    {
     "data": {
      "text/plain": [
       "0"
      ]
     },
     "execution_count": 24,
     "metadata": {},
     "output_type": "execute_result"
    }
   ],
   "source": [
    "new_vocab[\"xxunk\"]"
   ]
  },
  {
   "cell_type": "markdown",
   "metadata": {},
   "source": [
    "But if we use stoi to convert it back, we requires to use `np.where` with each single word, which is very slow. Instead, a key-value dictionary pair speeds up searching, so we need to convert our vocab to such type first (inside our `stoi` for general function). "
   ]
  },
  {
   "cell_type": "code",
   "execution_count": 25,
   "metadata": {},
   "outputs": [],
   "source": [
    "def stoi(vocab, word):\n",
    "    \"\"\"\n",
    "    If single word, we will convert it to list. \n",
    "    If not single word str, it will make it a list. \n",
    "    Then we want the type to be correct, else we raise error. \n",
    "    \"\"\"\n",
    "    import fastcore\n",
    "\n",
    "    # Convert array to dict for vocab, if it is\n",
    "    if type(vocab) in [np.ndarray, list, fastcore.foundation.L]:\n",
    "        vocab = {key: index for index, key in enumerate(vocab)}\n",
    "\n",
    "    # type checks and do stoi. \n",
    "    if isinstance(word, str): word = word.split(\" \")  # convert to list\n",
    "    if type(word) in [list, tuple, np.ndarray, fastcore.foundation.L]:\n",
    "        m = np.zeros((len(word), )).astype(np.uint8)\n",
    "        for k in range(len(word)):\n",
    "            try: m[k] = vocab[word[k]]\n",
    "            except KeyError: m[k] = 0  # xxunk assigned, word not in dict. \n",
    "        return m\n",
    "    else: raise NotImplementedError(f\"{type(word)} not implemented\")"
   ]
  },
  {
   "cell_type": "code",
   "execution_count": 26,
   "metadata": {},
   "outputs": [
    {
     "name": "stdout",
     "output_type": "stream",
     "text": [
      "2.07 µs ± 16.3 ns per loop (mean ± std. dev. of 7 runs, 100000 loops each)\n"
     ]
    }
   ],
   "source": [
    "%timeit stoi(new_vocab, \"xxunk\")"
   ]
  },
  {
   "cell_type": "markdown",
   "metadata": {},
   "source": [
    "Now we can think about creating a tokenized df. WE have a function in fastai for this, where we can pass in the df to tokenize, and the column, and then the tokenizer `dls.tok`. "
   ]
  },
  {
   "cell_type": "code",
   "execution_count": 27,
   "metadata": {},
   "outputs": [
    {
     "data": {
      "text/html": [],
      "text/plain": [
       "<IPython.core.display.HTML object>"
      ]
     },
     "metadata": {},
     "output_type": "display_data"
    },
    {
     "name": "stderr",
     "output_type": "stream",
     "text": [
      "/anaconda/envs/fastai/lib/python3.8/site-packages/numpy/core/_asarray.py:102: VisibleDeprecationWarning: Creating an ndarray from ragged nested sequences (which is a list-or-tuple of lists-or-tuples-or ndarrays with different lengths or shapes) is deprecated. If you meant to do this, you must specify 'dtype=object' when creating the ndarray.\n",
      "  return array(a, dtype, copy=False, order=order)\n"
     ]
    }
   ],
   "source": [
    "df_new_subbed = pd.DataFrame([new_xs_subbed, new_y]).T\n",
    "df_new_subbed.columns = [\"text\", \"category\"]\n",
    "\n",
    "df_new_toked = tokenize_df(df_new_subbed, \"text\", n_workers=os.cpu_count(),\n",
    "                    tok=dls.tok)[0]"
   ]
  },
  {
   "cell_type": "markdown",
   "metadata": {},
   "source": [
    "We take number 0 output, which is the pandas DataFrame we want. Number 1 output is the Counter which contains how many total counts for each occurrence of words, which we don't need. "
   ]
  },
  {
   "cell_type": "code",
   "execution_count": 28,
   "metadata": {},
   "outputs": [
    {
     "data": {
      "text/html": [
       "<div>\n",
       "<style scoped>\n",
       "    .dataframe tbody tr th:only-of-type {\n",
       "        vertical-align: middle;\n",
       "    }\n",
       "\n",
       "    .dataframe tbody tr th {\n",
       "        vertical-align: top;\n",
       "    }\n",
       "\n",
       "    .dataframe thead th {\n",
       "        text-align: right;\n",
       "    }\n",
       "</style>\n",
       "<table border=\"1\" class=\"dataframe\">\n",
       "  <thead>\n",
       "    <tr style=\"text-align: right;\">\n",
       "      <th></th>\n",
       "      <th>category</th>\n",
       "      <th>text</th>\n",
       "      <th>text_length</th>\n",
       "    </tr>\n",
       "  </thead>\n",
       "  <tbody>\n",
       "    <tr>\n",
       "      <th>0</th>\n",
       "      <td>17</td>\n",
       "      <td>[xxbos, xxmaj, finally, you, said, what, you, dream, about, ., xxmaj, mediterranean, xxrep, 4, ?, xxmaj, that, was, new, …, ., xxmaj, the, area, will, be, \", greater, \", after, some, years, ,, like, your, \", holocaust, \", numbers, …, …, xxmaj, is't, xxmaj, july, in, xxup, usa, now, xxrep, 5, ?, xxmaj, here, in, xxmaj, sweden, it, 's, xxmaj, april, and, still, cold, ., xxmaj, or, have, you, changed, your, calendar, xxrep, 3, ?, xxup, nothing, xxup, of, xxup, the, xxup, mentioned, xxup, is, xxup, true, ,, xxup, but, xxup, let, xxup, say, it, 's, xxup, true, ., xxup, ...]</td>\n",
       "      <td>384</td>\n",
       "    </tr>\n",
       "    <tr>\n",
       "      <th>1</th>\n",
       "      <td>3</td>\n",
       "      <td>[xxbos, xxmaj, think, !, xxmaj, it, 's, the, xxup, scsi, card, doing, the, xxup, dma, transfers, xxup, not, the, disks, …, xxmaj, the, xxup, scsi, card, can, do, xxup, dma, transfers, containing, data, from, any, of, the, xxup, scsi, devices, it, is, attached, when, it, wants, to, ., xxmaj, an, important, feature, of, xxup, scsi, is, the, ability, to, detach, a, device, ., xxmaj, this, frees, the, xxup, scsi, bus, for, other, devices, ., xxmaj, this, is, typically, used, in, a, multitasking, xxup, os, to, start, transfers, on, several, devices, ., xxmaj, while, each, device, is, seeking, t...</td>\n",
       "      <td>176</td>\n",
       "    </tr>\n",
       "  </tbody>\n",
       "</table>\n",
       "</div>"
      ],
      "text/plain": [
       "  category  \\\n",
       "0       17   \n",
       "1        3   \n",
       "\n",
       "                                                                                                                                                                                                                                                                                                                                                                                                                                                                                                                                                                                                                      text  \\\n",
       "0                          [xxbos, xxmaj, finally, you, said, what, you, dream, about, ., xxmaj, mediterranean, xxrep, 4, ?, xxmaj, that, was, new, …, ., xxmaj, the, area, will, be, \", greater, \", after, some, years, ,, like, your, \", holocaust, \", numbers, …, …, xxmaj, is't, xxmaj, july, in, xxup, usa, now, xxrep, 5, ?, xxmaj, here, in, xxmaj, sweden, it, 's, xxmaj, april, and, still, cold, ., xxmaj, or, have, you, changed, your, calendar, xxrep, 3, ?, xxup, nothing, xxup, of, xxup, the, xxup, mentioned, xxup, is, xxup, true, ,, xxup, but, xxup, let, xxup, say, it, 's, xxup, true, ., xxup, ...]   \n",
       "1  [xxbos, xxmaj, think, !, xxmaj, it, 's, the, xxup, scsi, card, doing, the, xxup, dma, transfers, xxup, not, the, disks, …, xxmaj, the, xxup, scsi, card, can, do, xxup, dma, transfers, containing, data, from, any, of, the, xxup, scsi, devices, it, is, attached, when, it, wants, to, ., xxmaj, an, important, feature, of, xxup, scsi, is, the, ability, to, detach, a, device, ., xxmaj, this, frees, the, xxup, scsi, bus, for, other, devices, ., xxmaj, this, is, typically, used, in, a, multitasking, xxup, os, to, start, transfers, on, several, devices, ., xxmaj, while, each, device, is, seeking, t...   \n",
       "\n",
       "   text_length  \n",
       "0          384  \n",
       "1          176  "
      ]
     },
     "execution_count": 28,
     "metadata": {},
     "output_type": "execute_result"
    }
   ],
   "source": [
    "df_new_toked.head(2)"
   ]
  },
  {
   "cell_type": "markdown",
   "metadata": {},
   "source": [
    "Note that here we even have `text_length` which could be used instead to threshold the number of words we want for our sentence. However, this length includes all the special tokens (that starts with `xx`), but you can still use it as threshold irregardless, if you want to. We won't be doing that here. "
   ]
  },
  {
   "cell_type": "code",
   "execution_count": 29,
   "metadata": {},
   "outputs": [
    {
     "data": {
      "application/vnd.jupyter.widget-view+json": {
       "model_id": "d85b1075d9484b788c7e427c2d81cfbf",
       "version_major": 2,
       "version_minor": 0
      },
      "text/plain": [
       "  0%|          | 0/8940 [00:00<?, ?it/s]"
      ]
     },
     "metadata": {},
     "output_type": "display_data"
    }
   ],
   "source": [
    "choice = np.zeros((len(df_new_toked), )).astype(np.float32)\n",
    "loop_over = df_new_toked[\"text\"].to_numpy()\n",
    "\n",
    "for k, data in enumerate(tqdm(loop_over)):\n",
    "    g = stoi(new_vocab, data)\n",
    "    choice[k] = (g == 0).sum() / len(g)"
   ]
  },
  {
   "cell_type": "markdown",
   "metadata": {},
   "source": [
    "Actually before we use the dictionary, this thing takes more than 5 minutes to complete just to tokenize. Now looks how long it takes! "
   ]
  },
  {
   "cell_type": "code",
   "execution_count": 30,
   "metadata": {},
   "outputs": [
    {
     "data": {
      "text/plain": [
       "15"
      ]
     },
     "execution_count": 30,
     "metadata": {},
     "output_type": "execute_result"
    }
   ],
   "source": [
    "(choice >= 0.3).sum()   # Threshold 30% xxunk have 15 occurrences."
   ]
  },
  {
   "cell_type": "markdown",
   "metadata": {},
   "source": [
    "Let's look at one of these. "
   ]
  },
  {
   "cell_type": "code",
   "execution_count": 31,
   "metadata": {},
   "outputs": [
    {
     "data": {
      "text/html": [
       "<div>\n",
       "<style scoped>\n",
       "    .dataframe tbody tr th:only-of-type {\n",
       "        vertical-align: middle;\n",
       "    }\n",
       "\n",
       "    .dataframe tbody tr th {\n",
       "        vertical-align: top;\n",
       "    }\n",
       "\n",
       "    .dataframe thead th {\n",
       "        text-align: right;\n",
       "    }\n",
       "</style>\n",
       "<table border=\"1\" class=\"dataframe\">\n",
       "  <thead>\n",
       "    <tr style=\"text-align: right;\">\n",
       "      <th></th>\n",
       "      <th>text</th>\n",
       "      <th>category</th>\n",
       "    </tr>\n",
       "  </thead>\n",
       "  <tbody>\n",
       "    <tr>\n",
       "      <th>502</th>\n",
       "      <td>Sterrenkundig symposium 'Compacte Objecten'                                              op 26 april 1993   In het jaar 1643, zeven jaar na de oprichting van de Universiteit van Utrecht, benoemde de universiteit haar eerste sterrenkundige waarnemer. Hiermee ontstond de tweede universiteitssterrenwacht ter wereld. Aert Jansz, de eerste waarnemer, en zijn opvolgers voerden de Utrechtse sterrenkunde in de daaropvolgende jaren, decennia en eeuwen naar de voorhoede van het astronomisch onderzoek. Dit jaar is het 350 jaar geleden dat deze historische benoeming plaatsvond.  De huidige generatie U...</td>\n",
       "      <td>14</td>\n",
       "    </tr>\n",
       "    <tr>\n",
       "      <th>1093</th>\n",
       "      <td>Here are the standings after the April 6 update.  I'll be leaving for Japan in 1.5 hours, and I won't be back until April 17.  Consequently, I will not post  the week 27 results until April 18.  Email sent between April 13 and April 18 will be processed using the numbers available April 18.   Andrew  USENET Hockey Draft Standings Week 26  PosnTeamPtsProjCashLast Posn  1.Dave Wessels                    14781575.31.9(1) 2.Gilles Carmel                   13891533.856.3(5) 3.Bob Hill                        14181530.824.0(2) 4.The Awesome Oilers              13661509.968.6(3) 5.Seppo Kemppainen...</td>\n",
       "      <td>10</td>\n",
       "    </tr>\n",
       "    <tr>\n",
       "      <th>1314</th>\n",
       "      <td>From Center for Policy Research cpr Subject Poem by Erich Fried    Poem by GermanJewish poet Erich Fried (Holocaust survivor)  Ein Jude an die zionistischen Kaempfer  1988      von Erich Fried  Was wollt ihr eigentlich ?  Wollt ihr wirklich die uebertreffen die euch niedergetreten haben vor einem Menschenalter in euer eigenes Blut und in euren eigenen Kot ?     Wollt ihr die alten Foltern jetzt an andere weitergeben mit allen blutigen dreckigen Einzelheiten mit allem brutalen Genuss die Folterknechte wie unsere Vaeter sie damals erlitten haben ?           Wollt jetzt wirklich ihr die neue ...</td>\n",
       "      <td>17</td>\n",
       "    </tr>\n",
       "    <tr>\n",
       "      <th>1758</th>\n",
       "      <td>Well, I'm back from Tokyo, so here are the standings after the April 13 update.   Andrew  USENET Hockey Draft Standings Week 27  PosnTeamPtsProjCashLast Posn  1.Dave Wessels                    15361572.81.9(1) 2.Bob Hill                        14811538.124.0(3) 3.Gilles Carmel                   14921529.91.0(2) 4.Seppo Kemppainen                14301514.047.2(5) 5.The Awesome Oilers              14121504.468.6(4) 6.Hillside Raiders                14561495.27.0(7) 7.Mak \"The Knife\" Paranjape       14241491.731.0(6) 8.Jan Stein                       14121483.235.3(8) 9.this years model      ...</td>\n",
       "      <td>10</td>\n",
       "    </tr>\n",
       "    <tr>\n",
       "      <th>4095</th>\n",
       "      <td>Here is the price list for the week April 6 to April 12.   Andrew  BuySellPtsTeamPlayer 157.5141.8150PITMario_Lemieux 152.1136.9143BUFPat_LaFontaine 139.3125.4131BOSAdam_Oates 133.8120.4129DETSteve_Yzerman 132.9119.6125WPGTeemu_Selanne 132.9119.6125TORDoug_Gilmour 130.9117.8120NYIPierre_Turgeon 129.7116.7122BUFAlexander_Mogilny 126.0113.4117PHIMark_Recchi 120.2108.2113LALuc_Robitaille 115.9104.3109QUEMats_Sundin 111.3100.2106PITKevin_Stevens 108.597.7102STLCraig_Janney 108.597.7102VANPavel_Bure 106.395.7100CHIJeremy_Roenick 105.394.899QUEJoe_Sakic 104.093.699PITRick_Tocchet 103.192.897STLB...</td>\n",
       "      <td>10</td>\n",
       "    </tr>\n",
       "    <tr>\n",
       "      <th>5520</th>\n",
       "      <td>Here are the final stadings for the USENET Hockey Draft.  Congratulations to this year's winner, Dave Wessels of Victoria, B.C., who parlayed his initial 1000 points into 1575.9 points!  Thanks to all 262 teams for entering the biggest USENET Hockey Draft ever! I hope to hear from you all again this September, for the 7th Annual draft.  It has been my pleasure running the draft, and I hope you all had fun.   Andrew  USENET Hockey Draft Standings Week 28  PosnTeamTotalPtsCashLast Posn  1.Dave Wessels                    1575.915741.9(1) 2.Gilles Carmel                   1539.015381.0(3) Bob ...</td>\n",
       "      <td>10</td>\n",
       "    </tr>\n",
       "    <tr>\n",
       "      <th>5758</th>\n",
       "      <td>Part 12 of 14  MAX'AX'AX'AX'AX'AX'AX'AX'AX'AX'AX'AX'AX'AX'AX' MAX'AX'AX'AX'AX'AX'AX'AX'AX'AX'AX'AX'AX'AX'AX' MAX'AX'AX'AX'AX'AX'AX'AX'AX'AX'AX'AX'AX'AX'AX' MAX'AX'AX'AX'AX'AX'AX'AX'AX'AX'AX'AX'AX'AX'AX' MAX',3$9@L+I5'W]_?W]_?W]_?GIZBJ[N[M7EY7EY7@,#`P,#`P M`P,#`PBHJKN[N[M`P,#`PNRHJBIZ1PMF,8'AX'AX'AX'AX' MAX'AX'AX'AX'AX'AX'AX'AX'AX'AX'AX'AX'AX'AX'AX' MAX'AX'AX'AX'AX'AX'AX'AX'AX'AX'AX'AX'AX'AX'AX' MAX'AX'AX'AX'AX'AX'AX'AX'AX'AX'AX'AX'AX'AX'AX' MAX'AX'AX'AX'AX'AX'AX'AX'AX'AX'AX'AX'AX'AX'AX' MAX'AX'AX'AX'AX'AX'AX'AX'AX'AX'AX'AX'AX'AX'AX' MAX'AX'AX'AX'AX'AX'AX'AX'AX'AX'AX'AX'AX'AX'AX' MAX'AX'A...</td>\n",
       "      <td>2</td>\n",
       "    </tr>\n",
       "    <tr>\n",
       "      <th>6133</th>\n",
       "      <td>O.K., only one series is done.  But I need to post something.  By the way, the Islanders just scored.   Rank Team Name                  Points   Final 4   1. roland_behunin                  5   CAL6 QUE7 QUE7    2. Milton_Keynes_Kings             0   DET6 PIT5 PIT5       Barfly                          0   TOR6 BOS7 TOR6       Dean's                          0   DET5 PIT5 PIT7       Oz                              0   LAK6 BOS6 LAK6       Garry                           0   TOR6 BOS6 BOS4       Brian_Bergman                   0   DET6 PIT6 DET6       Mopar_Muscle_Men                0   CHI...</td>\n",
       "      <td>10</td>\n",
       "    </tr>\n",
       "    <tr>\n",
       "      <th>6266</th>\n",
       "      <td>Here is the price list for the week April 13 to April 19.   Andrew  BuySellPtsTeamPlayer 158.9143.0157PITMario_Lemieux 148.5133.7145BUFPat_LaFontaine 142.7128.4141BOSAdam_Oates 137.6123.8136DETSteve_Yzerman 132.1118.9129WPGTeemu_Selanne 131.7118.5127NYIPierre_Turgeon 130.1117.1127TORDoug_Gilmour 126.0113.4123BUFAlexander_Mogilny 123.4111.1119PHIMark_Recchi 121.9109.7119LALuc_Robitaille 113.3102.0112QUEMats_Sundin 111.3100.2110PITKevin_Stevens 110.699.5108VANPavel_Bure 108.697.7106STLCraig_Janney 108.397.5107PITRick_Tocchet 107.696.8105CHIJeremy_Roenick 105.394.8104QUEJoe_Sakic 103.593.2101...</td>\n",
       "      <td>10</td>\n",
       "    </tr>\n",
       "    <tr>\n",
       "      <th>6327</th>\n",
       "      <td>Here are the final point totals for players chosen in the USENET Hockey Draft. Note that only 114 players scored more than 55 points (the minimum cost) although 254 different players were chosen.   Andrew  PointsTeamPlayer 160PITMario_Lemieux 148BUFPat_LaFontaine 142BOSAdam_Oates 137DETSteve_Yzerman 132WPGTeemu_Selanne 132NYIPierre_Turgeon 127BUFAlexander_Mogilny 127TORDoug_Gilmour 125LALuc_Robitaille 123PHIMark_Recchi 114QUEMats_Sundin 111PITKevin_Stevens 110VANPavel_Bure 109PITRick_Tocchet 107CHIJeremy_Roenick 106STLCraig_Janney 105QUEJoe_Sakic 102BOSJoe_Juneau 101STLBrett_Hull 100CGYThe...</td>\n",
       "      <td>10</td>\n",
       "    </tr>\n",
       "    <tr>\n",
       "      <th>6655</th>\n",
       "      <td>SW8,SW7number of 5.25\" drives 0,01 drive 0,12 drives 1,03 drives 1,14 drives  SW6,SW5type of display 0,0reserved 0,140x25 color (mono mode) 1,080x25 color (mono mode) 1,1mono 80x25  SW4,SW3amount of memory on system board 64k chips256k chips 0,064k256k 0,1128k512k 1,0192k576k 1,1256k640k</td>\n",
       "      <td>12</td>\n",
       "    </tr>\n",
       "    <tr>\n",
       "      <th>7034</th>\n",
       "      <td>Source A. Alper Gazigiray, \"Osmanlilardan Gunumuze Kadar Vesikalarla          Ermeni Teroru'nun Kaynaklari,\" Gozen Kitabevi, Istanbul, 1982.  pp. 267268.  \"Van'dan sonra ilk isyan Sebinkarahisar'da basladi. 1915 senesi 5   haziran da, Sivasli Murat [Hamparsum Boyaciyan  sa] denilen bir   caninin emri altinda 500 kadar cete Sebinkarahisari basti. Burasi o   zaman en onemli askeri bir yerdi. Erzurum bolgesinde Rus ordusu ile   savasan Osmanli Ordularinin butun ikmal araclari buradan gecmekte idi.   Ermeniler boyle onemli bir yer isgal ettikleri takdirde Turk   ordularinin ikmali yapilamay...</td>\n",
       "      <td>17</td>\n",
       "    </tr>\n",
       "    <tr>\n",
       "      <th>7263</th>\n",
       "      <td>begin 644 outOfControl.gif M1TE&amp;.#=AN@6`?```````/___RP`````N@6`0`\"_@Q@J)O[XQ4#IYXZ3 M9PUB4ZAY9`NY59/!2L0CJ^W2(?[C3Q70,6A`H9)&amp;2OA=ELQ)?RW+ MP3HT5F%1RQ%INGZNVMF4&amp;WR0?4+\"OO!,7(SO,K#^I=2_=J?4,QB(`XV MN)X+;C1^B&amp;UI7C&amp;#E)=7E&amp;F)?9\"?9X`OEH.77CE(I!5KI^08HI8PMC9 M26HW\"RLFN]LK@NH1PN[UTYQ,&amp;ETL#[)#=BVO0ZZ=VB7S=D)!?G+\\]M&amp; M%`[2MY]$=[JFW8V6ZYHSZG6V.#DVZXS?[8X`@M6;SB;5M'\"\"U3VS&amp; M5E5JJT8)P%&amp;#$=I#_CH2O40\")#=/6\\.3QW,(JY,IB,C4[6\\Y(EPTW\" MRIP[AB'XZ/\"K2MV5805T/YD@28G&amp;LIQ+AVY,6$%G\"@]4X]\"SVM2THGS M;MIJ$9)1/WAO'I]S%F2S!SU9URXFBW))7N[95E!'4W'5+CZ(/;W+'R M\\DK9Q$HUH4/56+.C5K6L'$V%HQQ\\O,P.+#70RLJAS+]LW2ZBC M8KK.QAQW2FK...</td>\n",
       "      <td>16</td>\n",
       "    </tr>\n",
       "    <tr>\n",
       "      <th>7268</th>\n",
       "      <td>Standings reflecting 2 completed series in Round 1      Participant                Points   Final 4  1. roland_behunin                  5   CAL6 QUE7 QUE7      Dave_Wessels                    5   VAN7 PIT6 PIT5   3. Barfly                          0   TOR6 BOS7 TOR6      Dean's                          0   DET5 PIT5 PIT7      Oz                              0   LAK6 BOS6 LAK6      Garry                           0   TOR6 BOS6 BOS4      Brian_Bergman                   0   DET6 PIT6 DET6      Mopar_Muscle_Men                0   CHI5 PIT6 PIT5      BH's_Last_Place_Picks           0   CHI5 PIT...</td>\n",
       "      <td>10</td>\n",
       "    </tr>\n",
       "    <tr>\n",
       "      <th>8368</th>\n",
       "      <td>NATIONAL HOCKEY LEAGUE                                   9293 SEASON                              HOME ATTENDANCE REPORT   Each Qtr. represents 10 home games,   Qtr. 4 will have 11 home games.  Neutral site games are not included.  S/O indicates the number of sellouts.  Team Name   Qtr. 1   S/O  Qtr. 2   S/O  Qtr. 3   S/O  Qtr. 4   S/O   Totals   Average ================================================================================ BOS    140,573   5   142,694   7   142,768   6   152,468   8    578,503   14,109 BUF    144,701   0   148,516   3   152,133   5   168,878   4    614,228   14...</td>\n",
       "      <td>10</td>\n",
       "    </tr>\n",
       "  </tbody>\n",
       "</table>\n",
       "</div>"
      ],
      "text/plain": [
       "                                                                                                                                                                                                                                                                                                                                                                                                                                                                                                                                                                                                                         text  \\\n",
       "502   Sterrenkundig symposium 'Compacte Objecten'                                              op 26 april 1993   In het jaar 1643, zeven jaar na de oprichting van de Universiteit van Utrecht, benoemde de universiteit haar eerste sterrenkundige waarnemer. Hiermee ontstond de tweede universiteitssterrenwacht ter wereld. Aert Jansz, de eerste waarnemer, en zijn opvolgers voerden de Utrechtse sterrenkunde in de daaropvolgende jaren, decennia en eeuwen naar de voorhoede van het astronomisch onderzoek. Dit jaar is het 350 jaar geleden dat deze historische benoeming plaatsvond.  De huidige generatie U...   \n",
       "1093  Here are the standings after the April 6 update.  I'll be leaving for Japan in 1.5 hours, and I won't be back until April 17.  Consequently, I will not post  the week 27 results until April 18.  Email sent between April 13 and April 18 will be processed using the numbers available April 18.   Andrew  USENET Hockey Draft Standings Week 26  PosnTeamPtsProjCashLast Posn  1.Dave Wessels                    14781575.31.9(1) 2.Gilles Carmel                   13891533.856.3(5) 3.Bob Hill                        14181530.824.0(2) 4.The Awesome Oilers              13661509.968.6(3) 5.Seppo Kemppainen...   \n",
       "1314  From Center for Policy Research cpr Subject Poem by Erich Fried    Poem by GermanJewish poet Erich Fried (Holocaust survivor)  Ein Jude an die zionistischen Kaempfer  1988      von Erich Fried  Was wollt ihr eigentlich ?  Wollt ihr wirklich die uebertreffen die euch niedergetreten haben vor einem Menschenalter in euer eigenes Blut und in euren eigenen Kot ?     Wollt ihr die alten Foltern jetzt an andere weitergeben mit allen blutigen dreckigen Einzelheiten mit allem brutalen Genuss die Folterknechte wie unsere Vaeter sie damals erlitten haben ?           Wollt jetzt wirklich ihr die neue ...   \n",
       "1758  Well, I'm back from Tokyo, so here are the standings after the April 13 update.   Andrew  USENET Hockey Draft Standings Week 27  PosnTeamPtsProjCashLast Posn  1.Dave Wessels                    15361572.81.9(1) 2.Bob Hill                        14811538.124.0(3) 3.Gilles Carmel                   14921529.91.0(2) 4.Seppo Kemppainen                14301514.047.2(5) 5.The Awesome Oilers              14121504.468.6(4) 6.Hillside Raiders                14561495.27.0(7) 7.Mak \"The Knife\" Paranjape       14241491.731.0(6) 8.Jan Stein                       14121483.235.3(8) 9.this years model      ...   \n",
       "4095  Here is the price list for the week April 6 to April 12.   Andrew  BuySellPtsTeamPlayer 157.5141.8150PITMario_Lemieux 152.1136.9143BUFPat_LaFontaine 139.3125.4131BOSAdam_Oates 133.8120.4129DETSteve_Yzerman 132.9119.6125WPGTeemu_Selanne 132.9119.6125TORDoug_Gilmour 130.9117.8120NYIPierre_Turgeon 129.7116.7122BUFAlexander_Mogilny 126.0113.4117PHIMark_Recchi 120.2108.2113LALuc_Robitaille 115.9104.3109QUEMats_Sundin 111.3100.2106PITKevin_Stevens 108.597.7102STLCraig_Janney 108.597.7102VANPavel_Bure 106.395.7100CHIJeremy_Roenick 105.394.899QUEJoe_Sakic 104.093.699PITRick_Tocchet 103.192.897STLB...   \n",
       "5520  Here are the final stadings for the USENET Hockey Draft.  Congratulations to this year's winner, Dave Wessels of Victoria, B.C., who parlayed his initial 1000 points into 1575.9 points!  Thanks to all 262 teams for entering the biggest USENET Hockey Draft ever! I hope to hear from you all again this September, for the 7th Annual draft.  It has been my pleasure running the draft, and I hope you all had fun.   Andrew  USENET Hockey Draft Standings Week 28  PosnTeamTotalPtsCashLast Posn  1.Dave Wessels                    1575.915741.9(1) 2.Gilles Carmel                   1539.015381.0(3) Bob ...   \n",
       "5758    Part 12 of 14  MAX'AX'AX'AX'AX'AX'AX'AX'AX'AX'AX'AX'AX'AX'AX' MAX'AX'AX'AX'AX'AX'AX'AX'AX'AX'AX'AX'AX'AX'AX' MAX'AX'AX'AX'AX'AX'AX'AX'AX'AX'AX'AX'AX'AX'AX' MAX'AX'AX'AX'AX'AX'AX'AX'AX'AX'AX'AX'AX'AX'AX' MAX',3$9@L+I5'W]_?W]_?W]_?GIZBJ[N[M7EY7EY7@,#`P,#`P M`P,#`PBHJKN[N[M`P,#`PNRHJBIZ1PMF,8'AX'AX'AX'AX' MAX'AX'AX'AX'AX'AX'AX'AX'AX'AX'AX'AX'AX'AX'AX' MAX'AX'AX'AX'AX'AX'AX'AX'AX'AX'AX'AX'AX'AX'AX' MAX'AX'AX'AX'AX'AX'AX'AX'AX'AX'AX'AX'AX'AX'AX' MAX'AX'AX'AX'AX'AX'AX'AX'AX'AX'AX'AX'AX'AX'AX' MAX'AX'AX'AX'AX'AX'AX'AX'AX'AX'AX'AX'AX'AX'AX' MAX'AX'AX'AX'AX'AX'AX'AX'AX'AX'AX'AX'AX'AX'AX' MAX'AX'A...   \n",
       "6133  O.K., only one series is done.  But I need to post something.  By the way, the Islanders just scored.   Rank Team Name                  Points   Final 4   1. roland_behunin                  5   CAL6 QUE7 QUE7    2. Milton_Keynes_Kings             0   DET6 PIT5 PIT5       Barfly                          0   TOR6 BOS7 TOR6       Dean's                          0   DET5 PIT5 PIT7       Oz                              0   LAK6 BOS6 LAK6       Garry                           0   TOR6 BOS6 BOS4       Brian_Bergman                   0   DET6 PIT6 DET6       Mopar_Muscle_Men                0   CHI...   \n",
       "6266  Here is the price list for the week April 13 to April 19.   Andrew  BuySellPtsTeamPlayer 158.9143.0157PITMario_Lemieux 148.5133.7145BUFPat_LaFontaine 142.7128.4141BOSAdam_Oates 137.6123.8136DETSteve_Yzerman 132.1118.9129WPGTeemu_Selanne 131.7118.5127NYIPierre_Turgeon 130.1117.1127TORDoug_Gilmour 126.0113.4123BUFAlexander_Mogilny 123.4111.1119PHIMark_Recchi 121.9109.7119LALuc_Robitaille 113.3102.0112QUEMats_Sundin 111.3100.2110PITKevin_Stevens 110.699.5108VANPavel_Bure 108.697.7106STLCraig_Janney 108.397.5107PITRick_Tocchet 107.696.8105CHIJeremy_Roenick 105.394.8104QUEJoe_Sakic 103.593.2101...   \n",
       "6327  Here are the final point totals for players chosen in the USENET Hockey Draft. Note that only 114 players scored more than 55 points (the minimum cost) although 254 different players were chosen.   Andrew  PointsTeamPlayer 160PITMario_Lemieux 148BUFPat_LaFontaine 142BOSAdam_Oates 137DETSteve_Yzerman 132WPGTeemu_Selanne 132NYIPierre_Turgeon 127BUFAlexander_Mogilny 127TORDoug_Gilmour 125LALuc_Robitaille 123PHIMark_Recchi 114QUEMats_Sundin 111PITKevin_Stevens 110VANPavel_Bure 109PITRick_Tocchet 107CHIJeremy_Roenick 106STLCraig_Janney 105QUEJoe_Sakic 102BOSJoe_Juneau 101STLBrett_Hull 100CGYThe...   \n",
       "6655                                                                                                                                                                                                                                                                                                                         SW8,SW7number of 5.25\" drives 0,01 drive 0,12 drives 1,03 drives 1,14 drives  SW6,SW5type of display 0,0reserved 0,140x25 color (mono mode) 1,080x25 color (mono mode) 1,1mono 80x25  SW4,SW3amount of memory on system board 64k chips256k chips 0,064k256k 0,1128k512k 1,0192k576k 1,1256k640k   \n",
       "7034     Source A. Alper Gazigiray, \"Osmanlilardan Gunumuze Kadar Vesikalarla          Ermeni Teroru'nun Kaynaklari,\" Gozen Kitabevi, Istanbul, 1982.  pp. 267268.  \"Van'dan sonra ilk isyan Sebinkarahisar'da basladi. 1915 senesi 5   haziran da, Sivasli Murat [Hamparsum Boyaciyan  sa] denilen bir   caninin emri altinda 500 kadar cete Sebinkarahisari basti. Burasi o   zaman en onemli askeri bir yerdi. Erzurum bolgesinde Rus ordusu ile   savasan Osmanli Ordularinin butun ikmal araclari buradan gecmekte idi.   Ermeniler boyle onemli bir yer isgal ettikleri takdirde Turk   ordularinin ikmali yapilamay...   \n",
       "7263  begin 644 outOfControl.gif M1TE&.#=AN@6`?```````/___RP`````N@6`0`\"_@Q@J)O[XQ4#IYXZ3 M9PUB4ZAY9`NY59/!2L0CJ^W2(?[C3Q70,6A`H9)&2OA=ELQ)?RW+ MP3HT5F%1RQ%INGZNVMF4&WR0?4+\"OO!,7(SO,K#^I=2_=J?4,QB(`XV MN)X+;C1^B&UI7C&#E)=7E&F)?9\"?9X`OEH.77CE(I!5KI^08HI8PMC9 M26HW\"RLFN]LK@NH1PN[UTYQ,&ETL#[)#=BVO0ZZ=VB7S=D)!?G+\\]M& M%`[2MY]$=[JFW8V6ZYHSZG6V.#DVZXS?[8X`@M6;SB;5M'\"\"U3VS& M5E5JJT8)P%&#$=I#_CH2O40\")#=/6\\.3QW,(JY,IB,C4[6\\Y(EPTW\" MRIP[AB'XZ/\"K2MV5805T/YD@28G&LIQ+AVY,6$%G\"@]4X]\"SVM2THGS M;MIJ$9)1/WAO'I]S%F2S!SU9URXFBW))7N[95E!'4W'5+CZ(/;W+'R M\\DK9Q$HUH4/56+.C5K6L'$V%HQQ\\O,P.+#70RLJAS+]LW2ZBC M8KK.QAQW2FK...   \n",
       "7268  Standings reflecting 2 completed series in Round 1      Participant                Points   Final 4  1. roland_behunin                  5   CAL6 QUE7 QUE7      Dave_Wessels                    5   VAN7 PIT6 PIT5   3. Barfly                          0   TOR6 BOS7 TOR6      Dean's                          0   DET5 PIT5 PIT7      Oz                              0   LAK6 BOS6 LAK6      Garry                           0   TOR6 BOS6 BOS4      Brian_Bergman                   0   DET6 PIT6 DET6      Mopar_Muscle_Men                0   CHI5 PIT6 PIT5      BH's_Last_Place_Picks           0   CHI5 PIT...   \n",
       "8368   NATIONAL HOCKEY LEAGUE                                   9293 SEASON                              HOME ATTENDANCE REPORT   Each Qtr. represents 10 home games,   Qtr. 4 will have 11 home games.  Neutral site games are not included.  S/O indicates the number of sellouts.  Team Name   Qtr. 1   S/O  Qtr. 2   S/O  Qtr. 3   S/O  Qtr. 4   S/O   Totals   Average ================================================================================ BOS    140,573   5   142,694   7   142,768   6   152,468   8    578,503   14,109 BUF    144,701   0   148,516   3   152,133   5   168,878   4    614,228   14...   \n",
       "\n",
       "     category  \n",
       "502        14  \n",
       "1093       10  \n",
       "1314       17  \n",
       "1758       10  \n",
       "4095       10  \n",
       "5520       10  \n",
       "5758        2  \n",
       "6133       10  \n",
       "6266       10  \n",
       "6327       10  \n",
       "6655       12  \n",
       "7034       17  \n",
       "7263       16  \n",
       "7268       10  \n",
       "8368       10  "
      ]
     },
     "execution_count": 31,
     "metadata": {},
     "output_type": "execute_result"
    }
   ],
   "source": [
    "df_new_subbed[choice >= 0.3]"
   ]
  },
  {
   "cell_type": "markdown",
   "metadata": {},
   "source": [
    "We have German reports, which just isn't english. Some contains sequences of numbers (and a lot of them) which aren't tokenized as english. We have some that are illegible (not even understandable what it means), and we have some that are specialized for the specific that looks more like representation of position (like the NATIONAL HOCKEY LEAGUE) (8368). Certainly these are the ones we want to remove. "
   ]
  },
  {
   "cell_type": "code",
   "execution_count": 32,
   "metadata": {},
   "outputs": [
    {
     "data": {
      "text/plain": [
       "49"
      ]
     },
     "execution_count": 32,
     "metadata": {},
     "output_type": "execute_result"
    }
   ],
   "source": [
    "(choice >= 0.2).sum()  # how much of threshold 20% xxunk? "
   ]
  },
  {
   "cell_type": "markdown",
   "metadata": {},
   "source": [
    "Then, we need to remove these data, based on our threshold (you can tune this). Make sure you take those **less than** threshold, don't take the wrong subset. "
   ]
  },
  {
   "cell_type": "code",
   "execution_count": 33,
   "metadata": {},
   "outputs": [],
   "source": [
    "threshold_del = 0.3\n",
    "thres = choice < threshold_del\n",
    "xs_subbed_deleted = new_xs_subbed[thres]\n",
    "y_subbed_deleted = new_y[thres]"
   ]
  },
  {
   "cell_type": "markdown",
   "metadata": {},
   "source": [
    "Note that we have two choice now: whether to create a data based on new vocabulary or without using new vocabulary. Here, one chose to create new vocabulary, but you could equally choose not to. "
   ]
  },
  {
   "cell_type": "code",
   "execution_count": null,
   "metadata": {},
   "outputs": [],
   "source": [
    "clear_cache(True)"
   ]
  },
  {
   "cell_type": "code",
   "execution_count": 38,
   "metadata": {},
   "outputs": [
    {
     "data": {
      "text/html": [],
      "text/plain": [
       "<IPython.core.display.HTML object>"
      ]
     },
     "metadata": {},
     "output_type": "display_data"
    },
    {
     "name": "stderr",
     "output_type": "stream",
     "text": [
      "/anaconda/envs/fastai/lib/python3.8/site-packages/numpy/core/_asarray.py:102: VisibleDeprecationWarning: Creating an ndarray from ragged nested sequences (which is a list-or-tuple of lists-or-tuples-or ndarrays with different lengths or shapes) is deprecated. If you meant to do this, you must specify 'dtype=object' when creating the ndarray.\n",
      "  return array(a, dtype, copy=False, order=order)\n"
     ]
    }
   ],
   "source": [
    "dls = numpy_to_pd_to_dls(xs_subbed_deleted, y_subbed_deleted)"
   ]
  },
  {
   "cell_type": "code",
   "execution_count": 35,
   "metadata": {},
   "outputs": [],
   "source": [
    "def num_xxunk(xs, y, dls):\n",
    "    df_new_subbed = pd.DataFrame([xs, y]).T\n",
    "    df_new_subbed.columns = [\"text\", \"category\"]\n",
    "\n",
    "    df_new_toked = tokenize_df(df_new_subbed, \"text\", n_workers=os.cpu_count(),\n",
    "                        tok=dls.tok)[0]\n",
    "\n",
    "    choice = np.zeros((len(df_new_toked), )).astype(np.float32)\n",
    "    loop_over = df_new_toked[\"text\"].to_numpy()\n",
    "\n",
    "    for k, data in enumerate(tqdm(loop_over)):\n",
    "        g = stoi(new_vocab, data)\n",
    "        choice[k] = (g == 0).sum() / len(g)\n",
    "\n",
    "    del df_new_subbed, df_new_toked, loop_over\n",
    "    clear_cache()\n",
    "    return choice"
   ]
  },
  {
   "cell_type": "code",
   "execution_count": 36,
   "metadata": {},
   "outputs": [
    {
     "name": "stdout",
     "output_type": "stream",
     "text": [
      "Threshold 0.3:  0\n",
      "Threshold 0.2:  34\n"
     ]
    }
   ],
   "source": [
    "from IPython.display import clear_output\n",
    "choice = num_xxunk(xs_subbed_deleted, y_subbed_deleted, dls)\n",
    "clear_output()\n",
    "print(\"Threshold 0.3: \", (choice >= 0.3).sum())\n",
    "print(\"Threshold 0.2: \", (choice >= 0.2).sum())"
   ]
  },
  {
   "cell_type": "markdown",
   "metadata": {},
   "source": [
    "With that looking okay, it seems like creating from new still creates a (somewhat similar set of words) vocabulary, that's why we don't have high xxunk anymore (though the vocab might not be totally similar depending on their mappings though, but the words might be the same). \n",
    "\n",
    "We can now create a `Learner` to do classification and see how it works. \n",
    "\n",
    "## Note\n",
    "We are doing data cleaning in this notebook, not model training. So the model training tricks will not be used here. We are just wanting to see how things goes. "
   ]
  },
  {
   "cell_type": "code",
   "execution_count": 39,
   "metadata": {},
   "outputs": [
    {
     "data": {
      "text/html": [],
      "text/plain": [
       "<IPython.core.display.HTML object>"
      ]
     },
     "metadata": {},
     "output_type": "display_data"
    },
    {
     "name": "stderr",
     "output_type": "stream",
     "text": [
      "/anaconda/envs/fastai/lib/python3.8/site-packages/fastai/callback/schedule.py:269: UserWarning: color is redundantly defined by the 'color' keyword argument and the fmt string \"ro\" (-> color='r'). The keyword argument will take precedence.\n",
      "  ax.plot(val, idx, 'ro', label=nm, c=color)\n"
     ]
    },
    {
     "data": {
      "text/plain": [
       "SuggestedLRs(valley=0.004365158267319202)"
      ]
     },
     "execution_count": 39,
     "metadata": {},
     "output_type": "execute_result"
    },
    {
     "data": {
      "image/png": "[encoded data removed]",
      "text/plain": [
       "<Figure size 432x288 with 1 Axes>"
      ]
     },
     "metadata": {
      "needs_background": "light"
     },
     "output_type": "display_data"
    }
   ],
   "source": [
    "learn = text_classifier_learner(dls, AWD_LSTM, metrics=[accuracy, Perplexity()],\n",
    "                wd=0.1, drop_mult=0.3, pretrained=True).to_fp16()\n",
    "learn.lr_find()"
   ]
  },
  {
   "cell_type": "code",
   "execution_count": 40,
   "metadata": {},
   "outputs": [
    {
     "data": {
      "text/html": [
       "<table border=\"1\" class=\"dataframe\">\n",
       "  <thead>\n",
       "    <tr style=\"text-align: left;\">\n",
       "      <th>epoch</th>\n",
       "      <th>train_loss</th>\n",
       "      <th>valid_loss</th>\n",
       "      <th>accuracy</th>\n",
       "      <th>perplexity</th>\n",
       "      <th>time</th>\n",
       "    </tr>\n",
       "  </thead>\n",
       "  <tbody>\n",
       "    <tr>\n",
       "      <td>0</td>\n",
       "      <td>1.472181</td>\n",
       "      <td>1.185549</td>\n",
       "      <td>0.605381</td>\n",
       "      <td>3.272482</td>\n",
       "      <td>04:32</td>\n",
       "    </tr>\n",
       "    <tr>\n",
       "      <td>1</td>\n",
       "      <td>1.301080</td>\n",
       "      <td>1.080424</td>\n",
       "      <td>0.624439</td>\n",
       "      <td>2.945928</td>\n",
       "      <td>04:33</td>\n",
       "    </tr>\n",
       "    <tr>\n",
       "      <td>2</td>\n",
       "      <td>1.093660</td>\n",
       "      <td>0.971025</td>\n",
       "      <td>0.672646</td>\n",
       "      <td>2.640648</td>\n",
       "      <td>04:33</td>\n",
       "    </tr>\n",
       "  </tbody>\n",
       "</table>"
      ],
      "text/plain": [
       "<IPython.core.display.HTML object>"
      ]
     },
     "metadata": {},
     "output_type": "display_data"
    }
   ],
   "source": [
    "learn.fit_one_cycle(3, 3e-2)"
   ]
  },
  {
   "cell_type": "markdown",
   "metadata": {},
   "source": [
    "What can be tried: perhaps cleaning set `include_newline=False`. \n",
    "\n",
    "Starting accuracy is better than baseline. Ending accuracy isn't too much difference (slightly worse) (mostly due to the nature of model and randomness?). Anyway, we can say this is successful cleaning. "
   ]
  },
  {
   "cell_type": "code",
   "execution_count": null,
   "metadata": {},
   "outputs": [],
   "source": []
  }
 ],
 "metadata": {
  "interpreter": {
   "hash": "4b0643101043d44332c97f08722999715e3a8fa1d34470aacaa5a755be91c349"
  },
  "kernelspec": {
   "display_name": "Python 3.8.11 64-bit ('fastai': conda)",
   "language": "python",
   "name": "python3"
  },
  "language_info": {
   "codemirror_mode": {
    "name": "ipython",
    "version": 3
   },
   "file_extension": ".py",
   "mimetype": "text/x-python",
   "name": "python",
   "nbconvert_exporter": "python",
   "pygments_lexer": "ipython3",
   "version": "3.8.11"
  },
  "orig_nbformat": 4
 },
 "nbformat": 4,
 "nbformat_minor": 2
}
