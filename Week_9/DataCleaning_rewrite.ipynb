{
 "cells": [
  {
   "cell_type": "code",
   "execution_count": 1,
   "metadata": {},
   "outputs": [],
   "source": [
    "%load_ext autoreload\n",
    "%autoreload 2"
   ]
  },
  {
   "cell_type": "code",
   "execution_count": 2,
   "metadata": {},
   "outputs": [],
   "source": [
    "from sklearn.datasets import fetch_20newsgroups\n",
    "dataset = fetch_20newsgroups(subset=\"all\", remove=('headers', 'footers', 'quotes'),\n",
    "            shuffle=True, return_X_y=True)"
   ]
  },
  {
   "cell_type": "code",
   "execution_count": 3,
   "metadata": {},
   "outputs": [
    {
     "data": {
      "text/plain": [
       "10"
      ]
     },
     "execution_count": 3,
     "metadata": {},
     "output_type": "execute_result"
    }
   ],
   "source": [
    "dataset[1][0]"
   ]
  },
  {
   "cell_type": "code",
   "execution_count": 4,
   "metadata": {},
   "outputs": [
    {
     "data": {
      "text/plain": [
       "\"\\n\\nI am sure some bashers of Pens fans are pretty confused about the lack\\nof any kind of posts about the recent Pens massacre of the Devils. Actually,\\nI am  bit puzzled too and a bit relieved. However, I am going to put an end\\nto non-PIttsburghers' relief with a bit of praise for the Pens. Man, they\\nare killing those Devils worse than I thought. Jagr just showed you why\\nhe is much better than his regular season stats. He is also a lot\\nfo fun to watch in the playoffs. Bowman should let JAgr have a lot of\\nfun in the next couple of games since the Pens are going to beat the pulp out of Jersey anyway. I was very disappointed not to see the Islanders lose the final\\nregular season game.          PENS RULE!!!\\n\\n\""
      ]
     },
     "execution_count": 4,
     "metadata": {},
     "output_type": "execute_result"
    }
   ],
   "source": [
    "dataset[0][0]"
   ]
  },
  {
   "cell_type": "code",
   "execution_count": 5,
   "metadata": {},
   "outputs": [
    {
     "data": {
      "text/plain": [
       "['I am sure some bashers of Pens fans are pretty confused about the lack',\n",
       " 'of any kind of posts about the recent Pens massacre of the Devils. Actually,',\n",
       " 'I am  bit puzzled too and a bit relieved. However, I am going to put an end',\n",
       " \"to non-PIttsburghers' relief with a bit of praise for the Pens. Man, they\",\n",
       " 'are killing those Devils worse than I thought. Jagr just showed you why',\n",
       " 'he is much better than his regular season stats. He is also a lot',\n",
       " 'fo fun to watch in the playoffs. Bowman should let JAgr have a lot of',\n",
       " 'fun in the next couple of games since the Pens are going to beat the pulp out of Jersey anyway. I was very disappointed not to see the Islanders lose the final',\n",
       " 'regular season game.          PENS RULE!!!']"
      ]
     },
     "execution_count": 5,
     "metadata": {},
     "output_type": "execute_result"
    }
   ],
   "source": [
    "g = dataset[0][0].split(\"\\n\")\n",
    "g = list(filter(lambda a: a != '', g))\n",
    "g"
   ]
  },
  {
   "cell_type": "code",
   "execution_count": 6,
   "metadata": {},
   "outputs": [
    {
     "data": {
      "text/plain": [
       "(18846, 18846)"
      ]
     },
     "execution_count": 6,
     "metadata": {},
     "output_type": "execute_result"
    }
   ],
   "source": [
    "len(dataset[0]), len(dataset[1])"
   ]
  },
  {
   "cell_type": "code",
   "execution_count": 7,
   "metadata": {},
   "outputs": [],
   "source": [
    "def split_data(data, idx): \n",
    "    \"\"\"Split data for easy visualization. NOT FOR TRAINING.\"\"\"\n",
    "    x = data[idx].split(\"\\n\")\n",
    "    x = list(filter(lambda a: a != '', x))\n",
    "    return x"
   ]
  },
  {
   "cell_type": "code",
   "execution_count": 8,
   "metadata": {},
   "outputs": [
    {
     "data": {
      "text/plain": [
       "[': ',\n",
       " ': I am considering buying a 1993 Chevy or GMC 4x4 full-size pickup with',\n",
       " ': the extended cab.  Any opinions about these vehicles?  Have there been',\n",
       " ': any significant problems?',\n",
       " ': ',\n",
       " ': -- ',\n",
       " ': Dick Grady           Salem, NH,  USA            grady@world.std.com',\n",
       " ': So many newsgroups, so little time!',\n",
       " 'I bought a brand new 1992 Chevrolet K2500 HD 4x4 extended cab last',\n",
       " 'May.  It has had many, many problems.  See my earler post that describes',\n",
       " 'the situation.  I went to BBB arbitration, and they ruled that Chevrolet',\n",
       " 'must buy it back from me.  If you do get one, stay away from the 5 speed',\n",
       " 'manual with the deep low first gear.  They have put three of them in my',\n",
       " 'truck so far.  After about 1,500 miles, overdrive either starts',\n",
       " 'rattling or hissing loudly.  There is no way to fix them.  Chevrolet ',\n",
       " 'says that the noise is \"a characteristic of the transmission.\"',\n",
       " 'Also, if you are planning to use your truck to tow, the',\n",
       " 'gear ratios in that tranny suck.  On a steep hill, you get up to about',\n",
       " '55 MPH in second gear at 4,000 RPM (yellow line).  If you shift to third,',\n",
       " 'the RPM drop to only 2,500, and you begin to loose speed.  I should',\n",
       " 'point out that the 350 V8 they put in the HD (8600 GVW) trucks is a',\n",
       " 'detuned motor compared to the one they put in the light duty ones.  They',\n",
       " 'dropped the compression ratio, supposedly for \"engine longevity\"',\n",
       " 'reasons.  So the light duty 350 may pull better than my truck does.',\n",
       " 'Other things that have gone wrong include the ventilation fan (3 times ',\n",
       " 'so far), paint (had specs of rust embedded in the paint from being',\n",
       " 'shipped by rail with no covering), and suspension parts (link between',\n",
       " 'stabilizer and control arm fell off).',\n",
       " 'Any company can make a bad individual car, Chevrolet included.  What',\n",
       " 'really bothered me was the way they reacted.  They made no attempt',\n",
       " 'to deal with me except to tell me to take it back to the dealer for ',\n",
       " 'them to attempt to fix it one more time.  So I bought a brand new',\n",
       " 'Ford F250 HD Super Cab with a 460 and an automatic.  I will never',\n",
       " 'buy another Chevrolet.']"
      ]
     },
     "execution_count": 8,
     "metadata": {},
     "output_type": "execute_result"
    }
   ],
   "source": [
    "split_data(dataset[0], 20)"
   ]
  },
  {
   "cell_type": "markdown",
   "metadata": {},
   "source": [
    "# Initial training and see how it goes. "
   ]
  },
  {
   "cell_type": "code",
   "execution_count": 9,
   "metadata": {},
   "outputs": [],
   "source": [
    "from fastai.text.all import *"
   ]
  },
  {
   "cell_type": "code",
   "execution_count": 167,
   "metadata": {},
   "outputs": [],
   "source": [
    "train_xs = [g.lower() for g in dataset[0]]  # Make all lower case.\n",
    "y = dataset[1]"
   ]
  },
  {
   "cell_type": "code",
   "execution_count": 11,
   "metadata": {},
   "outputs": [],
   "source": [
    "assert len(train_xs) == 18846\n",
    "assert len(y) == 18846"
   ]
  },
  {
   "cell_type": "code",
   "execution_count": 12,
   "metadata": {},
   "outputs": [],
   "source": [
    "import pandas as pd\n",
    "df = pd.DataFrame([train_xs, y]).T\n",
    "df.columns = [\"text\", \"category\"]"
   ]
  },
  {
   "cell_type": "code",
   "execution_count": 13,
   "metadata": {},
   "outputs": [
    {
     "data": {
      "text/html": [
       "<div>\n",
       "<style scoped>\n",
       "    .dataframe tbody tr th:only-of-type {\n",
       "        vertical-align: middle;\n",
       "    }\n",
       "\n",
       "    .dataframe tbody tr th {\n",
       "        vertical-align: top;\n",
       "    }\n",
       "\n",
       "    .dataframe thead th {\n",
       "        text-align: right;\n",
       "    }\n",
       "</style>\n",
       "<table border=\"1\" class=\"dataframe\">\n",
       "  <thead>\n",
       "    <tr style=\"text-align: right;\">\n",
       "      <th></th>\n",
       "      <th>text</th>\n",
       "      <th>category</th>\n",
       "    </tr>\n",
       "  </thead>\n",
       "  <tbody>\n",
       "    <tr>\n",
       "      <th>0</th>\n",
       "      <td>\\n\\ni am sure some bashers of pens fans are pretty confused about the lack\\nof any kind of posts about the recent pens massacre of the devils. actually,\\ni am  bit puzzled too and a bit relieved. however, i am going to put an end\\nto non-pittsburghers' relief with a bit of praise for the pens. man, they\\nare killing those devils worse than i thought. jagr just showed you why\\nhe is much better than his regular season stats. he is also a lot\\nfo fun to watch in the playoffs. bowman should let jagr have a lot of\\nfun in the next couple of games since the pens are going to beat the pulp out o...</td>\n",
       "      <td>10</td>\n",
       "    </tr>\n",
       "    <tr>\n",
       "      <th>1</th>\n",
       "      <td>my brother is in the market for a high-performance video card that supports\\nvesa local bus with 1-2mb ram.  does anyone have suggestions/ideas on:\\n\\n  - diamond stealth pro local bus\\n\\n  - orchid farenheit 1280\\n\\n  - ati graphics ultra pro\\n\\n  - any other high-performance vlb card\\n\\n\\nplease post or email.  thank you!\\n\\n  - matt\\n</td>\n",
       "      <td>3</td>\n",
       "    </tr>\n",
       "  </tbody>\n",
       "</table>\n",
       "</div>"
      ],
      "text/plain": [
       "                                                                                                                                                                                                                                                                                                                                                                                                                                                                                                                                                                                                                      text  \\\n",
       "0  \\n\\ni am sure some bashers of pens fans are pretty confused about the lack\\nof any kind of posts about the recent pens massacre of the devils. actually,\\ni am  bit puzzled too and a bit relieved. however, i am going to put an end\\nto non-pittsburghers' relief with a bit of praise for the pens. man, they\\nare killing those devils worse than i thought. jagr just showed you why\\nhe is much better than his regular season stats. he is also a lot\\nfo fun to watch in the playoffs. bowman should let jagr have a lot of\\nfun in the next couple of games since the pens are going to beat the pulp out o...   \n",
       "1                                                                                                                                                                                                                                                                      my brother is in the market for a high-performance video card that supports\\nvesa local bus with 1-2mb ram.  does anyone have suggestions/ideas on:\\n\\n  - diamond stealth pro local bus\\n\\n  - orchid farenheit 1280\\n\\n  - ati graphics ultra pro\\n\\n  - any other high-performance vlb card\\n\\n\\nplease post or email.  thank you!\\n\\n  - matt\\n   \n",
       "\n",
       "  category  \n",
       "0       10  \n",
       "1        3  "
      ]
     },
     "execution_count": 13,
     "metadata": {},
     "output_type": "execute_result"
    }
   ],
   "source": [
    "df.head(2)"
   ]
  },
  {
   "cell_type": "markdown",
   "metadata": {},
   "source": [
    "**Note for bottom**: Your `ColReader()` should **always** be `text` for the text files (that is, whenever you use `TextBlock.from_df(\"actual_col_name\", ...)` in the `blocks`), it has nothing to do with the column names, but it's a pandas Series \"col name\" that is done internally. This is the part which confuses in the documentation. "
   ]
  },
  {
   "cell_type": "code",
   "execution_count": 14,
   "metadata": {},
   "outputs": [
    {
     "data": {
      "text/html": [],
      "text/plain": [
       "<IPython.core.display.HTML object>"
      ]
     },
     "metadata": {},
     "output_type": "display_data"
    },
    {
     "name": "stderr",
     "output_type": "stream",
     "text": [
      "/anaconda/envs/fastai/lib/python3.8/site-packages/numpy/core/_asarray.py:102: VisibleDeprecationWarning: Creating an ndarray from ragged nested sequences (which is a list-or-tuple of lists-or-tuples-or ndarrays with different lengths or shapes) is deprecated. If you meant to do this, you must specify 'dtype=object' when creating the ndarray.\n",
      "  return array(a, dtype, copy=False, order=order)\n"
     ]
    }
   ],
   "source": [
    "seq_len = 36  # Sequence length, useful for data and for LSTM/RNN. \n",
    "\n",
    "dls = DataBlock(\n",
    "    blocks=(TextBlock.from_df(\"text\", seq_len=seq_len, tok=SpacyTokenizer(\"en\")),\n",
    "            CategoryBlock),\n",
    "    get_x=ColReader(\"text\"), get_y=ColReader(\"category\"),\n",
    "    splitter=RandomSplitter(0.1)\n",
    ").dataloaders(df, bs=32, num_workers=0, seq_len=seq_len)"
   ]
  },
  {
   "cell_type": "code",
   "execution_count": 15,
   "metadata": {},
   "outputs": [
    {
     "data": {
      "text/html": [
       "<table border=\"1\" class=\"dataframe\">\n",
       "  <thead>\n",
       "    <tr style=\"text-align: right;\">\n",
       "      <th></th>\n",
       "      <th>text</th>\n",
       "      <th>category</th>\n",
       "    </tr>\n",
       "  </thead>\n",
       "  <tbody>\n",
       "    <tr>\n",
       "      <th>0</th>\n",
       "      <td>xxbos try this one on for size . i 'd rather not post her name , but if you \\n email me , i 'll tell you who she is . enjoy ! \\n\\n begin 640 xxunk \\n xxunk # ! ! 0 ( , ! xxunk ! +8 [ p ( xxunk \\n xxunk # xxunk \\ # xxunk ] xxunk [ # xxunk \\ i8 \\n xxunk - xxunk # ; xxunk : xxunk xxrep 3 ( xxunk \\n m \\ &lt; / xxunk \\ _ xxunk &lt; xxunk / % \\ _ / e \\ xxunk ? # xxunk \\n m3 = xxunk &amp; / $ _ &amp; , xxunk / + xxunk ( xxrep 3 g % r. / [ ] xxunk \\ \\ xxunk \\ \\n xxunk / , xxunk = xxunk # xxunk &gt; xxunk &amp; &gt; / , \\n xxunk \\ xxunk \\n</td>\n",
       "      <td>2</td>\n",
       "    </tr>\n",
       "    <tr>\n",
       "      <th>1</th>\n",
       "      <td>xxbos here 's a listing that i came accross a while ago . this question seems to \\n come up often enough that i figured this would be of interest . note that \\n the server \" x appeal \" for dos is available in demo form on the internet via \\n anonymous ftp . this is one way of quickly checking out the feasability of \\n using your system as an x server . enjoy ! \\n\\n - pete \\n\\n▁ xxrep 31 - begin enclosure xxrep 28 - \\n from : mccoy@gothamcity.jsc.nasa.gov ( daniel j. mccoy ) \\n newsgroups : comp.windows.x , news.answers \\n subject : x servers for dos , microsoft windows , os / 2 , macs , amigas , atari \\n reply - to : mccoy@gothamcity.jsc.nasa.gov ( daniel j. mccoy ) \\n organization : i - net inc . \\n summary : this is a guide</td>\n",
       "      <td>5</td>\n",
       "    </tr>\n",
       "  </tbody>\n",
       "</table>"
      ],
      "text/plain": [
       "<IPython.core.display.HTML object>"
      ]
     },
     "metadata": {},
     "output_type": "display_data"
    }
   ],
   "source": [
    "dls.show_batch(max_n=2)"
   ]
  },
  {
   "cell_type": "code",
   "execution_count": 16,
   "metadata": {},
   "outputs": [
    {
     "data": {
      "text/plain": [
       "(#41464) ['xxunk','xxpad','xxbos','xxeos','xxfld','xxrep','xxwrep','xxup','xxmaj','\\n'...]"
      ]
     },
     "execution_count": 16,
     "metadata": {},
     "output_type": "execute_result"
    }
   ],
   "source": [
    "L(dls.vocab[0])  # L object will shorten the output. "
   ]
  },
  {
   "cell_type": "code",
   "execution_count": 17,
   "metadata": {},
   "outputs": [
    {
     "data": {
      "text/plain": [
       "[0, 1, 2, 3, 4, 5, 6, 7, 8, 9, 10, 11, 12, 13, 14, 15, 16, 17, 18, 19]"
      ]
     },
     "execution_count": 17,
     "metadata": {},
     "output_type": "execute_result"
    }
   ],
   "source": [
    "dls.vocab[1]"
   ]
  },
  {
   "cell_type": "code",
   "execution_count": 18,
   "metadata": {},
   "outputs": [],
   "source": [
    "learn = text_classifier_learner(dls, AWD_LSTM, metrics=[accuracy, Perplexity()],\n",
    "                wd=0.1, drop_mult=0.3, pretrained=True).to_fp16()"
   ]
  },
  {
   "cell_type": "code",
   "execution_count": 19,
   "metadata": {},
   "outputs": [
    {
     "data": {
      "text/html": [],
      "text/plain": [
       "<IPython.core.display.HTML object>"
      ]
     },
     "metadata": {},
     "output_type": "display_data"
    },
    {
     "name": "stderr",
     "output_type": "stream",
     "text": [
      "/anaconda/envs/fastai/lib/python3.8/site-packages/fastai/callback/schedule.py:269: UserWarning: color is redundantly defined by the 'color' keyword argument and the fmt string \"ro\" (-> color='r'). The keyword argument will take precedence.\n",
      "  ax.plot(val, idx, 'ro', label=nm, c=color)\n"
     ]
    },
    {
     "data": {
      "text/plain": [
       "SuggestedLRs(valley=0.0030199517495930195)"
      ]
     },
     "execution_count": 19,
     "metadata": {},
     "output_type": "execute_result"
    },
    {
     "data": {
      "image/png": "[encoded data removed]",
      "text/plain": [
       "<Figure size 432x288 with 1 Axes>"
      ]
     },
     "metadata": {
      "needs_background": "light"
     },
     "output_type": "display_data"
    }
   ],
   "source": [
    "learn.lr_find()"
   ]
  },
  {
   "cell_type": "code",
   "execution_count": 20,
   "metadata": {},
   "outputs": [
    {
     "data": {
      "text/html": [
       "<table border=\"1\" class=\"dataframe\">\n",
       "  <thead>\n",
       "    <tr style=\"text-align: left;\">\n",
       "      <th>epoch</th>\n",
       "      <th>train_loss</th>\n",
       "      <th>valid_loss</th>\n",
       "      <th>accuracy</th>\n",
       "      <th>perplexity</th>\n",
       "      <th>time</th>\n",
       "    </tr>\n",
       "  </thead>\n",
       "  <tbody>\n",
       "    <tr>\n",
       "      <td>0</td>\n",
       "      <td>1.990998</td>\n",
       "      <td>2.000274</td>\n",
       "      <td>0.423567</td>\n",
       "      <td>7.391082</td>\n",
       "      <td>05:40</td>\n",
       "    </tr>\n",
       "    <tr>\n",
       "      <td>1</td>\n",
       "      <td>1.776122</td>\n",
       "      <td>1.646409</td>\n",
       "      <td>0.511677</td>\n",
       "      <td>5.188315</td>\n",
       "      <td>05:44</td>\n",
       "    </tr>\n",
       "  </tbody>\n",
       "</table>"
      ],
      "text/plain": [
       "<IPython.core.display.HTML object>"
      ]
     },
     "metadata": {},
     "output_type": "display_data"
    }
   ],
   "source": [
    "learn.fit_one_cycle(2, 3e-2)"
   ]
  },
  {
   "cell_type": "markdown",
   "metadata": {},
   "source": [
    "Try again with `num_workers=os.cpu_count()` if possible to speed up things (plus a stronger GPU if possible). Only change back to `num_workers=0` if you encountered CUDA error (whatever error it is, usually it's this problem but it could be a variety of CUDA errors). "
   ]
  },
  {
   "cell_type": "markdown",
   "metadata": {},
   "source": [
    "Next we want to know whether removing those that are less than 35 lines (our threshold) will improve the score or not. "
   ]
  },
  {
   "cell_type": "code",
   "execution_count": 25,
   "metadata": {},
   "outputs": [],
   "source": [
    "def split_data(data, idx=None): \n",
    "    \"\"\"Split data for easy visualization. NOT FOR TRAINING.\"\"\"\n",
    "    if idx is not None: x = data[idx].split(\"\\n\")\n",
    "    else: x = data.split(\"\\n\")\n",
    "    x = list(filter(lambda a: a != '', x))\n",
    "    return x"
   ]
  },
  {
   "cell_type": "code",
   "execution_count": 27,
   "metadata": {},
   "outputs": [
    {
     "name": "stdout",
     "output_type": "stream",
     "text": [
      "9\n",
      "8\n",
      "38\n",
      "12\n",
      "11\n"
     ]
    }
   ],
   "source": [
    "for i in train_xs[:5]: print(len(split_data(i)))"
   ]
  },
  {
   "cell_type": "code",
   "execution_count": 34,
   "metadata": {},
   "outputs": [
    {
     "data": {
      "text/plain": [
       "array([    2,    12,    18, ..., 18820, 18832, 18838])"
      ]
     },
     "execution_count": 34,
     "metadata": {},
     "output_type": "execute_result"
    }
   ],
   "source": [
    "to_keep = []\n",
    "threshold = 35\n",
    "\n",
    "for k, x in enumerate(train_xs): \n",
    "    sentence_len = len(split_data(x))\n",
    "    if sentence_len >= threshold: to_keep.append(k)\n",
    "    else: pass\n",
    "\n",
    "to_keep = np.array(to_keep)\n",
    "to_keep"
   ]
  },
  {
   "cell_type": "code",
   "execution_count": 35,
   "metadata": {},
   "outputs": [
    {
     "data": {
      "text/plain": [
       "(1862, 18838, 2, 1862)"
      ]
     },
     "execution_count": 35,
     "metadata": {},
     "output_type": "execute_result"
    }
   ],
   "source": [
    "len(to_keep), to_keep.max(), to_keep.min(), len(np.unique(to_keep))"
   ]
  },
  {
   "cell_type": "code",
   "execution_count": 39,
   "metadata": {},
   "outputs": [],
   "source": [
    "new_xs = np.array(train_xs)[to_keep]\n",
    "new_y = np.array(y)[to_keep]"
   ]
  },
  {
   "cell_type": "code",
   "execution_count": 40,
   "metadata": {},
   "outputs": [],
   "source": [
    "assert len(new_xs) == len(to_keep)\n",
    "assert len(new_y) == len(to_keep)"
   ]
  },
  {
   "cell_type": "code",
   "execution_count": 47,
   "metadata": {},
   "outputs": [],
   "source": [
    "def numpy_to_pd_to_dls(train_xs, y, seq_len=seq_len):\n",
    "    df = pd.DataFrame([train_xs, y]).T\n",
    "    df.columns = [\"text\", \"category\"]\n",
    "\n",
    "    dls = DataBlock(\n",
    "        blocks=(TextBlock.from_df(\"text\", seq_len=seq_len, tok=SpacyTokenizer(\"en\")),\n",
    "                CategoryBlock),\n",
    "        get_x=ColReader(\"text\"), get_y=ColReader(\"category\"),\n",
    "        splitter=RandomSplitter(0.1)\n",
    "    ).dataloaders(df, bs=32, num_workers=0, seq_len=seq_len)\n",
    "\n",
    "    return dls"
   ]
  },
  {
   "cell_type": "code",
   "execution_count": 43,
   "metadata": {},
   "outputs": [
    {
     "data": {
      "text/plain": [
       "16093"
      ]
     },
     "execution_count": 43,
     "metadata": {},
     "output_type": "execute_result"
    }
   ],
   "source": [
    "# Clear some memory. \n",
    "del learn, dls\n",
    "import gc\n",
    "gc.collect()\n",
    "torch.cuda.empty_cache()"
   ]
  },
  {
   "cell_type": "code",
   "execution_count": 48,
   "metadata": {},
   "outputs": [
    {
     "data": {
      "text/html": [],
      "text/plain": [
       "<IPython.core.display.HTML object>"
      ]
     },
     "metadata": {},
     "output_type": "display_data"
    },
    {
     "name": "stderr",
     "output_type": "stream",
     "text": [
      "/anaconda/envs/fastai/lib/python3.8/site-packages/numpy/core/_asarray.py:102: VisibleDeprecationWarning: Creating an ndarray from ragged nested sequences (which is a list-or-tuple of lists-or-tuples-or ndarrays with different lengths or shapes) is deprecated. If you meant to do this, you must specify 'dtype=object' when creating the ndarray.\n",
      "  return array(a, dtype, copy=False, order=order)\n"
     ]
    }
   ],
   "source": [
    "dls = numpy_to_pd_to_dls(new_xs, new_y)"
   ]
  },
  {
   "cell_type": "code",
   "execution_count": 49,
   "metadata": {},
   "outputs": [
    {
     "data": {
      "text/html": [
       "<table border=\"1\" class=\"dataframe\">\n",
       "  <thead>\n",
       "    <tr style=\"text-align: right;\">\n",
       "      <th></th>\n",
       "      <th>text</th>\n",
       "      <th>category</th>\n",
       "    </tr>\n",
       "  </thead>\n",
       "  <tbody>\n",
       "    <tr>\n",
       "      <th>0</th>\n",
       "      <td>xxbos try this one on for size . i 'd rather not post her name , but if you \\n email me , i 'll tell you who she is . enjoy ! \\n\\n begin 640 xxunk \\n xxunk # ! ! 0 ( , ! xxunk ! +8 [ p ( xxunk \\n xxunk # xxunk \\ # xxunk ] xxunk [ # xxunk \\ i8 \\n xxunk - xxunk # ; xxunk : xxunk xxrep 3 ( xxunk \\n m \\ &lt; / xxunk \\ _ xxunk &lt; xxunk / % \\ _ / e \\ xxunk ? # xxunk \\n m3 = xxunk &amp; / $ _ &amp; , xxunk / + xxunk ( xxrep 3 g % r. / [ ] xxunk \\ \\ xxunk \\ \\n xxunk / , xxunk = xxunk # xxunk &gt; xxunk &amp; &gt; / , \\n xxunk \\ xxunk \\n</td>\n",
       "      <td>2</td>\n",
       "    </tr>\n",
       "    <tr>\n",
       "      <th>1</th>\n",
       "      <td>xxbos due to the resolution and size it is in 14 parts . \\n\\n this is a uuencoded bitmap . xxunk 256 colors . \\n the picture is a xxunk xxunk on a desert with blue sky background . \\n the size is just right for centered wallpaper on a 1024x768 display \\n because it leaves a border at the bottom just big enough for icons \\n to fit in without being on top of the picture . xxunk image \\n quality and resolution - i have not seen much better . \\n\\n for those of you who have n't worked with xxunk image files , here \\n is how to put it back together . \\n\\t 1 . save the 14 parts to 14 individual files \\n\\t 2 . use a text editor to remove the header and xxunk \\n\\t▁ in each file . \\n\\t 3 . xxunk all</td>\n",
       "      <td>2</td>\n",
       "    </tr>\n",
       "  </tbody>\n",
       "</table>"
      ],
      "text/plain": [
       "<IPython.core.display.HTML object>"
      ]
     },
     "metadata": {},
     "output_type": "display_data"
    }
   ],
   "source": [
    "dls.show_batch(max_n=2)"
   ]
  },
  {
   "cell_type": "code",
   "execution_count": 50,
   "metadata": {},
   "outputs": [
    {
     "data": {
      "text/html": [],
      "text/plain": [
       "<IPython.core.display.HTML object>"
      ]
     },
     "metadata": {},
     "output_type": "display_data"
    },
    {
     "name": "stderr",
     "output_type": "stream",
     "text": [
      "/anaconda/envs/fastai/lib/python3.8/site-packages/fastai/callback/schedule.py:269: UserWarning: color is redundantly defined by the 'color' keyword argument and the fmt string \"ro\" (-> color='r'). The keyword argument will take precedence.\n",
      "  ax.plot(val, idx, 'ro', label=nm, c=color)\n"
     ]
    },
    {
     "data": {
      "text/plain": [
       "SuggestedLRs(valley=0.12022644281387329)"
      ]
     },
     "execution_count": 50,
     "metadata": {},
     "output_type": "execute_result"
    },
    {
     "data": {
      "image/png": "[encoded data removed]",
      "text/plain": [
       "<Figure size 432x288 with 1 Axes>"
      ]
     },
     "metadata": {
      "needs_background": "light"
     },
     "output_type": "display_data"
    }
   ],
   "source": [
    "learn = text_classifier_learner(dls, AWD_LSTM, metrics=[accuracy, Perplexity()],\n",
    "                wd=0.1, drop_mult=0.3, pretrained=True).to_fp16()\n",
    "learn.lr_find()"
   ]
  },
  {
   "cell_type": "code",
   "execution_count": 51,
   "metadata": {},
   "outputs": [
    {
     "data": {
      "text/html": [
       "<table border=\"1\" class=\"dataframe\">\n",
       "  <thead>\n",
       "    <tr style=\"text-align: left;\">\n",
       "      <th>epoch</th>\n",
       "      <th>train_loss</th>\n",
       "      <th>valid_loss</th>\n",
       "      <th>accuracy</th>\n",
       "      <th>perplexity</th>\n",
       "      <th>time</th>\n",
       "    </tr>\n",
       "  </thead>\n",
       "  <tbody>\n",
       "    <tr>\n",
       "      <td>0</td>\n",
       "      <td>2.887219</td>\n",
       "      <td>2.606261</td>\n",
       "      <td>0.225806</td>\n",
       "      <td>13.548306</td>\n",
       "      <td>02:38</td>\n",
       "    </tr>\n",
       "    <tr>\n",
       "      <td>1</td>\n",
       "      <td>2.562971</td>\n",
       "      <td>2.460787</td>\n",
       "      <td>0.268817</td>\n",
       "      <td>11.714030</td>\n",
       "      <td>02:39</td>\n",
       "    </tr>\n",
       "  </tbody>\n",
       "</table>"
      ],
      "text/plain": [
       "<IPython.core.display.HTML object>"
      ]
     },
     "metadata": {},
     "output_type": "display_data"
    }
   ],
   "source": [
    "learn.fit_one_cycle(2, 3e-2)"
   ]
  },
  {
   "cell_type": "code",
   "execution_count": 52,
   "metadata": {},
   "outputs": [
    {
     "data": {
      "text/html": [],
      "text/plain": [
       "<IPython.core.display.HTML object>"
      ]
     },
     "metadata": {},
     "output_type": "display_data"
    },
    {
     "data": {
      "image/png": "[encoded data removed]",
      "text/plain": [
       "<Figure size 432x288 with 1 Axes>"
      ]
     },
     "metadata": {
      "needs_background": "light"
     },
     "output_type": "display_data"
    }
   ],
   "source": [
    "interp = ClassificationInterpretation.from_learner(learn)\n",
    "interp.plot_confusion_matrix()"
   ]
  },
  {
   "cell_type": "code",
   "execution_count": 117,
   "metadata": {},
   "outputs": [
    {
     "data": {
      "text/html": [
       "<table border=\"1\" class=\"dataframe\">\n",
       "  <thead>\n",
       "    <tr style=\"text-align: right;\">\n",
       "      <th></th>\n",
       "      <th>input</th>\n",
       "      <th>target</th>\n",
       "      <th>predicted</th>\n",
       "      <th>probability</th>\n",
       "      <th>loss</th>\n",
       "    </tr>\n",
       "  </thead>\n",
       "  <tbody>\n",
       "    <tr>\n",
       "      <th>0</th>\n",
       "      <td>xxbos another f2 rider had similiar problems , and this is the mail i sent him , \\n hope this helps resolve you problem ! \\n\\n at \\n\\n\\n good point , did not catch this in the original post . the only other things \\n which come to mind , since this is a gravity feed fuel system , is this . \\n the fuel petcock valve is vacuum controlled from the # 1 xxunk . let \\n suppose there is a small hole or bad seal either in the hose itself or the \\n vacuum valve in the fuel petcock . when it is cold , the hole is open enough \\n to open the valve just enough to allow gas to the carbs with the choke on , \\n since the choke creates more low pressure in the carbs when on to draw gas , \\n and as</td>\n",
       "      <td>8</td>\n",
       "      <td>15</td>\n",
       "      <td>0.11897174268960953</td>\n",
       "      <td>4.11470890045166</td>\n",
       "    </tr>\n",
       "    <tr>\n",
       "      <th>1</th>\n",
       "      <td>xxbos % \\n % request for opinions : \\t\\n % \\n % which is better - a one - piece xxunk or a two - piece xxunk ? \\n % \\n\\n\\n like most everyone else , i ended up getting two different sizes for \\n the top and bottom . my top is a xxunk and the bottom is a xxunk . for the \\n bottom , the waist is far too large , but the thighs fit just right ( the \\n 46 had a better waist , but cut off the circulation in my legs , i have \\n large , xxunk thighs , and no , i did n't use the xxunk to get \\n them :-) . the jacket fits me ok in the chest , slightly snug at the \\n waist , and too small in the arms . i ca n't imagine finding a</td>\n",
       "      <td>8</td>\n",
       "      <td>18</td>\n",
       "      <td>0.11166947335004807</td>\n",
       "      <td>4.036938667297363</td>\n",
       "    </tr>\n",
       "  </tbody>\n",
       "</table>"
      ],
      "text/plain": [
       "<IPython.core.display.HTML object>"
      ]
     },
     "metadata": {},
     "output_type": "display_data"
    }
   ],
   "source": [
    "interp.plot_top_losses(2)"
   ]
  },
  {
   "cell_type": "code",
   "execution_count": 56,
   "metadata": {},
   "outputs": [
    {
     "data": {
      "text/plain": [
       "31032"
      ]
     },
     "execution_count": 56,
     "metadata": {},
     "output_type": "execute_result"
    }
   ],
   "source": [
    "len(dls.vocab[0])"
   ]
  },
  {
   "cell_type": "code",
   "execution_count": 67,
   "metadata": {},
   "outputs": [
    {
     "data": {
      "text/plain": [
       "'    finally you said what you dream about. mediterranean???? that was new.... the area will be \"greater\" after some years, like your \"holocaust\" numbers......      is\\'t july in usa now????? here in sweden it\\'s april and still cold. or have you changed your calendar???                    nothing of the mentioned is true, but let say it\\'s true.  shall the azeri women and children going to pay the price with      being raped, killed and tortured by the armenians??????????  have you hearded something called: \"geneva convention\"??????? you facist!!!!!    ohhh i forgot, this is how armenians fight, nobody has forgot you killings, rapings and torture against the kurds and turks once upon a time!                  ohhhh so swedish redcross workers do lie they too? what ever you say \"regional killer\", if you don\\'t like the person then shoot him that\\'s your policy.....l   i i i confused?????i i         search turkish planes? you don\\'t know what you are talking about.i         turkey\\'s government has announced that it\\'s giving weapons  <-----------i         to azerbadjan since armenia started to attack azerbadjan         it self, not the karabag province. so why search a plane for weapons         since it\\'s content is announced to be weapons?     if there is one that\\'s confused then that\\'s you! we have the right (and we do) to give weapons to the azeris, since armenians started the fight in azerbadjan!     shoot down with what? armenian bread and butter? or the arms and personel  of the russian army?   '"
      ]
     },
     "execution_count": 67,
     "metadata": {},
     "output_type": "execute_result"
    }
   ],
   "source": [
    "import re\n",
    "test_2 = re.sub(r'[\\t*]', '', train_xs[2])\n",
    "test_2 = re.sub(r'[\\n]', ' ', test_2)\n",
    "test_2"
   ]
  },
  {
   "cell_type": "code",
   "execution_count": 104,
   "metadata": {},
   "outputs": [
    {
     "data": {
      "text/plain": [
       "'victor johnson, on the thu, 22 apr 1993 000110 gmt wibbled    }honda  a \"v\" designates a v engine street bike. \"vf\" for v-4, \"vt\" for v-twin.      so how about my honda hawk (nt 650)? it\\'s a twin, but not called a vt.   --      that\\'s because they took the old vt 500 engine and stepped on it to make    the plant for the hawk - \"new twin\".  or does that only fly for microsoft    nt (new technology)?     i\\'ve been at this too long today ...     cheers,    victor \"dances with hawks\" johnson    ----------------------------------   also the bmw stuff.  k100rs.  k = kraut, rs = really slow,  100, i suppose that\\'s how much you have to spend each week to keep the damn thing on the road. --  nick (the pissed off with his bike again biker)   dod 1069   concise oxford  m\\'lud.'"
      ]
     },
     "execution_count": 104,
     "metadata": {},
     "output_type": "execute_result"
    }
   ],
   "source": [
    "test_3 = re.sub(\"[:<>]\", \"\", train_xs[2463])\n",
    "test_3 = re.sub(\"\\n\", ' ', test_3)\n",
    "test_3 = test_3.replace(\"\\\\\", \"\")\n",
    "# test_3 = re.sub(r'\\\\', \"\", test_3)\n",
    "# test_3 = re.sub(\"\\w+\\'\", \"+'\", test_3)\n",
    "test_3"
   ]
  },
  {
   "cell_type": "code",
   "execution_count": 99,
   "metadata": {},
   "outputs": [
    {
     "data": {
      "text/plain": [
       "\"We've ... here's why ... That's how ... it's\""
      ]
     },
     "execution_count": 99,
     "metadata": {},
     "output_type": "execute_result"
    }
   ],
   "source": [
    "text = \"We\\'ve ... here\\'s why ... That\\'s how ... it\\'s\"\n",
    "text = text.replace(\"\\\\\", \"\")\n",
    "text"
   ]
  },
  {
   "cell_type": "code",
   "execution_count": 110,
   "metadata": {},
   "outputs": [
    {
     "data": {
      "text/plain": [
       "'victor johnson, on the thu, 22 apr 1993 00 01 10 gmt wibbled       }honda   a \"v\" designates a v engine street bike. \"vf\" for v-4, \"vt\" for v-twin.          so how about my honda hawk  nt 650   it\\'s a twin, but not called a vt.     --       that\\'s because they took the old vt 500 engine and stepped on it to make     the plant for the hawk -  \"new twin\".  or does that only fly for microsoft     nt  new technology        i\\'ve been at this too long today ...      cheers,     victor \"dances with hawks\" johnson     ----------------------------------   also the bmw stuff.  k100rs.  k = kraut, rs = really slow,  100, i suppose that\\'s how much you have to spend each week to keep the damn thing on the road. --  nick  the pissed off with his bike again biker    dod 1069   concise oxford  m\\'lud.'"
      ]
     },
     "execution_count": 110,
     "metadata": {},
     "output_type": "execute_result"
    }
   ],
   "source": [
    "p = re.compile('[\\n/:()<>|?*]|(\\\\\\)')\n",
    "p.sub(\" \", train_xs[2463])"
   ]
  },
  {
   "cell_type": "markdown",
   "metadata": {},
   "source": [
    "Failure to replace `\\` with what we wanted. "
   ]
  },
  {
   "cell_type": "code",
   "execution_count": 123,
   "metadata": {},
   "outputs": [],
   "source": [
    "def substitute(text): \n",
    "    text = re.sub(\"[:<>\\t*]\", \"\", text)\n",
    "    text = re.sub(\"\\n\", \" \", text)\n",
    "    # this is not working for unknown reason.\n",
    "    ### text = text.replace(\"\\\\\", \"\")  \n",
    "    # So we use this instead. \n",
    "    text = text.split(\"\\'\")\n",
    "    text = \"'\".join(text)\n",
    "    return text"
   ]
  },
  {
   "cell_type": "markdown",
   "metadata": {},
   "source": [
    "Let's do retraining. "
   ]
  },
  {
   "cell_type": "code",
   "execution_count": 124,
   "metadata": {},
   "outputs": [
    {
     "data": {
      "text/plain": [
       "' the supreme court seems to disagree with you -- they have stated that \"the people\" is a term of art refering to an individual right, and have explicitly mentioned the second amendment as an example.  i quote    \"... \\'the people\\' seems to have been a term of art employed in   select parts of the constitution.  the preamble declares that the   constitution is ordained, and established by \\'the people of the   the u.s.\\'  the second amendment protects the right of the people   to keep and bear arms ....\" - supreme court of the u.s.,  u.s. v. uerdugo-uriquidez (1990).  furthermore, in the miller decision, they only permitted prosecution for possession of a sawed-off shotgun because the defense had not presented testimony and they therefore accepted the argument of the government that such weapons have no military value -- they held that the amendment protected the individual right to possess military weapons. unfortunately, no second amendment case has successfully gotten to the court in fifty years. however, that does not change the interpretation.  furthermore, it appears that others disagree with you as well, vis   \"the conclusion is thus inescapable that the history, concept,   and wording of the second amendment to the constitution of the   united states, as well as its interpretation by every major   commentator and court in the first half-century after its ratifi-   cation, indicates that what is protected is an individual right   of a private citizen to own and carry firearms in a peaceful manner.\"    - report of the subcommittee on the constitution of the      committee on the judiciary, united states senate,      97th congress, second session ( february 1982 )  you might rightfully ask \"well then, what does that first bit about militias mean?\"  well, \"militia\" in historical context basically means the whole of the adult males of the country. (indeed, the u.s. code still defines \"militia\" as all armed men over the age of 17).     \"the militia comprised all males physically capable of acting     in concert for the common defense ....  and ... these men were     expected to appear bearing arms supplied by themselves and of     the kind in common use at the time.\" - supreme court of the united states,  u.s. v. miller (1939).  the reason for the phrase being there was to explain the rationale behind the amendment, which was this by depending on the people to bear arms in defense of the country, no centralization of military power could ever occur which would permit tyranny -- in short, the government would remain perpetually in fear of the people, rather than the other way around.     \"no free man shall ever be debarred the use of arms.  the strongest reason    for the people to retain the right to keep and bear arms is, as a last    resort, to protect themselves against tyranny in government.\"      - thomas jefferson, proposal virginia constitution, june 1776        1 thomas jefferson papers, 334 (c. j. boyd, ed., 1950).     \"and what country can preserve its liberties, if its rulers are not    warned from time to time that this people preserve the spirit of    resistance ?  let them take arms ... the tree of liberty must be    refreshed from time to time, with the blood of patriots and tyrants.\"      - thomas jefferson (letter to william s. smith, 1787, in        jefferson, on democracy 20, s. padover, ed., 1939).     \"before a standing army can rule, the people must be disarmed;    as they are in almost every kingdom of europe.  the supreme    power in america cannot enforce unjust laws by the sword;    because the whole body of the people are armed, and constitute    a force superior to any bands of regular troops that can be, on    any pretense, raised in the united states.\"      - noah webster, \"an examination into the leading principles        of the federal constitution\" (1787), in pamphlets on the        constitution of the united states (p. ford, 1888).  you may disagree with the second amendment, and wish that it be repealed, but please do not pretend that it isn\\'t there and that it doesn\\'t mean what it says. you might argue that conditions have changed and that it should no longer be present, but you can\\'t imagine it away.  i could fill a book with detailed argumentation. many have already.  however, none of this has anything to do with cryptography.  lets get it out of here. if you insist on discussing this, please do it in talk.politics.guns, where people will gladly discuss this matter with you.  -- perry metzgerpmetzger@shearson.com'"
      ]
     },
     "execution_count": 124,
     "metadata": {},
     "output_type": "execute_result"
    }
   ],
   "source": [
    "new_xs_subbed = np.array([substitute(x) for x in new_xs])\n",
    "new_xs_subbed[2]"
   ]
  },
  {
   "cell_type": "code",
   "execution_count": 125,
   "metadata": {},
   "outputs": [],
   "source": [
    "# Clear some memory. \n",
    "del learn, dls\n",
    "import gc\n",
    "gc.collect()\n",
    "torch.cuda.empty_cache()"
   ]
  },
  {
   "cell_type": "code",
   "execution_count": 126,
   "metadata": {},
   "outputs": [
    {
     "data": {
      "text/html": [],
      "text/plain": [
       "<IPython.core.display.HTML object>"
      ]
     },
     "metadata": {},
     "output_type": "display_data"
    },
    {
     "name": "stderr",
     "output_type": "stream",
     "text": [
      "/anaconda/envs/fastai/lib/python3.8/site-packages/numpy/core/_asarray.py:102: VisibleDeprecationWarning: Creating an ndarray from ragged nested sequences (which is a list-or-tuple of lists-or-tuples-or ndarrays with different lengths or shapes) is deprecated. If you meant to do this, you must specify 'dtype=object' when creating the ndarray.\n",
      "  return array(a, dtype, copy=False, order=order)\n"
     ]
    },
    {
     "data": {
      "text/html": [
       "<table border=\"1\" class=\"dataframe\">\n",
       "  <thead>\n",
       "    <tr style=\"text-align: right;\">\n",
       "      <th></th>\n",
       "      <th>text</th>\n",
       "      <th>category</th>\n",
       "    </tr>\n",
       "  </thead>\n",
       "  <tbody>\n",
       "    <tr>\n",
       "      <th>0</th>\n",
       "      <td>xxbos try this one on for size . i 'd rather not post her name , but if you email me , i 'll tell you who she is . enjoy ! begin 640 xxunk xxunk # ! ! 0 ( , ! xxunk ! +8 [ p ( xxunk xxunk # xxunk \\ # xxunk ] xxunk [ # xxunk \\ xxunk xxunk - xxunk # ; xxunk xxrep 3 ( xxunk m \\ / xxunk \\ _ xxunk / % \\ _ / e \\ xxunk ? # xxunk m3 = xxunk &amp; / $ _ &amp; , xxunk / + xxunk ( xxrep 3 g % r. / [ ] xxunk \\ \\ xxunk \\ xxunk / , x6 = xxunk # xxunk &amp; / , xxunk \\ xxunk xxunk \\ xxunk xxunk \\ xxunk / xxunk / ' . xxunk / xxunk \\ % xxunk /</td>\n",
       "      <td>2</td>\n",
       "    </tr>\n",
       "    <tr>\n",
       "      <th>1</th>\n",
       "      <td>xxbos due to the resolution and size it is in 14 parts . this is a uuencoded bitmap . xxunk 256 colors . the picture is a xxunk xxunk on a desert with blue sky background . the size is just right for centered wallpaper on a 1024x768 display because it leaves a border at the bottom just big enough for icons to fit in without being on top of the picture . xxunk image quality and resolution - i have not seen much better . for those of you who have n't worked with xxunk image files , here is how to put it back together . 1 . save the 14 parts to 14 individual files 2 . use a text editor to remove the header and xxunk in each file . 3 . xxunk all the parts into a single file 4 . uudecode the file there</td>\n",
       "      <td>2</td>\n",
       "    </tr>\n",
       "  </tbody>\n",
       "</table>"
      ],
      "text/plain": [
       "<IPython.core.display.HTML object>"
      ]
     },
     "metadata": {},
     "output_type": "display_data"
    }
   ],
   "source": [
    "dls = numpy_to_pd_to_dls(new_xs_subbed, new_y)\n",
    "dls.show_batch(max_n=2)"
   ]
  },
  {
   "cell_type": "code",
   "execution_count": 127,
   "metadata": {},
   "outputs": [],
   "source": [
    "def get_learner(dls): \n",
    "    return text_classifier_learner(dls, AWD_LSTM, metrics=[accuracy, Perplexity()],\n",
    "                wd=0.1, drop_mult=0.3, pretrained=True).to_fp16()"
   ]
  },
  {
   "cell_type": "code",
   "execution_count": 128,
   "metadata": {},
   "outputs": [
    {
     "data": {
      "text/html": [],
      "text/plain": [
       "<IPython.core.display.HTML object>"
      ]
     },
     "metadata": {},
     "output_type": "display_data"
    },
    {
     "name": "stderr",
     "output_type": "stream",
     "text": [
      "/anaconda/envs/fastai/lib/python3.8/site-packages/fastai/callback/schedule.py:269: UserWarning: color is redundantly defined by the 'color' keyword argument and the fmt string \"ro\" (-> color='r'). The keyword argument will take precedence.\n",
      "  ax.plot(val, idx, 'ro', label=nm, c=color)\n"
     ]
    },
    {
     "data": {
      "text/plain": [
       "SuggestedLRs(valley=0.04786301031708717)"
      ]
     },
     "execution_count": 128,
     "metadata": {},
     "output_type": "execute_result"
    },
    {
     "data": {
      "image/png": "[encoded data removed]",
      "text/plain": [
       "<Figure size 432x288 with 1 Axes>"
      ]
     },
     "metadata": {
      "needs_background": "light"
     },
     "output_type": "display_data"
    }
   ],
   "source": [
    "learn = get_learner(dls)\n",
    "learn.lr_find()"
   ]
  },
  {
   "cell_type": "code",
   "execution_count": 129,
   "metadata": {},
   "outputs": [
    {
     "data": {
      "text/html": [
       "<table border=\"1\" class=\"dataframe\">\n",
       "  <thead>\n",
       "    <tr style=\"text-align: left;\">\n",
       "      <th>epoch</th>\n",
       "      <th>train_loss</th>\n",
       "      <th>valid_loss</th>\n",
       "      <th>accuracy</th>\n",
       "      <th>perplexity</th>\n",
       "      <th>time</th>\n",
       "    </tr>\n",
       "  </thead>\n",
       "  <tbody>\n",
       "    <tr>\n",
       "      <td>0</td>\n",
       "      <td>2.835243</td>\n",
       "      <td>2.528243</td>\n",
       "      <td>0.301075</td>\n",
       "      <td>12.531464</td>\n",
       "      <td>02:19</td>\n",
       "    </tr>\n",
       "    <tr>\n",
       "      <td>1</td>\n",
       "      <td>2.533997</td>\n",
       "      <td>2.341905</td>\n",
       "      <td>0.327957</td>\n",
       "      <td>10.401032</td>\n",
       "      <td>02:20</td>\n",
       "    </tr>\n",
       "  </tbody>\n",
       "</table>"
      ],
      "text/plain": [
       "<IPython.core.display.HTML object>"
      ]
     },
     "metadata": {},
     "output_type": "display_data"
    }
   ],
   "source": [
    "learn.fit_one_cycle(2, 3e-2)"
   ]
  },
  {
   "cell_type": "markdown",
   "metadata": {},
   "source": [
    "Previously we have about 0.26 accuracy. Now: \n",
    "- without replacing `\\` we get 0.36.\n",
    "- with replacing `\\` we get 0.32."
   ]
  },
  {
   "cell_type": "code",
   "execution_count": 168,
   "metadata": {},
   "outputs": [
    {
     "data": {
      "text/html": [],
      "text/plain": [
       "<IPython.core.display.HTML object>"
      ]
     },
     "metadata": {},
     "output_type": "display_data"
    },
    {
     "data": {
      "image/png": "[encoded data removed]",
      "text/plain": [
       "<Figure size 432x288 with 1 Axes>"
      ]
     },
     "metadata": {
      "needs_background": "light"
     },
     "output_type": "display_data"
    }
   ],
   "source": [
    "interp = ClassificationInterpretation.from_learner(learn)\n",
    "interp.plot_confusion_matrix()"
   ]
  },
  {
   "cell_type": "markdown",
   "metadata": {},
   "source": [
    "One notices there are some data with **a lot** of `xxunk` undefined sequences. They do not make up a good dataset, so we'll have to delete them. \n",
    "\n",
    "Do remember, we're still using our subset here. The steps will be the same to deal with the full dataset. "
   ]
  },
  {
   "cell_type": "code",
   "execution_count": 187,
   "metadata": {},
   "outputs": [],
   "source": [
    "choice = np.zeros((len(dls.train_ds), )).astype(np.float32)\n",
    "for k, (our_x, _) in enumerate(dls.train_ds): \n",
    "    choice[k] = int((our_x == 0).sum()) / len(our_x)"
   ]
  },
  {
   "cell_type": "code",
   "execution_count": 204,
   "metadata": {},
   "outputs": [],
   "source": [
    "df_new_sub = pd.DataFrame([new_xs_subbed, new_y]).T\n",
    "df_new_sub.columns = df.columns"
   ]
  },
  {
   "cell_type": "code",
   "execution_count": 250,
   "metadata": {},
   "outputs": [],
   "source": [
    "def itos(vocab, word, join=False, ignore_pad=False): \n",
    "    import fastai\n",
    "    if not isinstance(vocab, np.ndarray): vocab = np.array(vocab)\n",
    "    if type(word) in [tuple, fastai.text.data.TensorText]: \n",
    "        word = np.array(word)\n",
    "    word = vocab[word]\n",
    "    if ignore_pad: word = word[word != \"xxpad\"]\n",
    "    if join: return \" \".join(word)\n",
    "\n",
    "    return word"
   ]
  },
  {
   "cell_type": "code",
   "execution_count": 297,
   "metadata": {},
   "outputs": [],
   "source": [
    "def stoi(vocab, word): \n",
    "    import fastcore\n",
    "    if isinstance(word, fastcore.foundation.L): raise NotImplementedError\n",
    "    if not isinstance(vocab, np.ndarray): vocab = np.array(vocab)\n",
    "    if type(word) in [list, tuple, np.ndarray]: \n",
    "        m = np.zeros((len(word), )).astype(np.uint8)\n",
    "        for k in range(len(word)):\n",
    "            try: m[k] = np.where(vocab == word[k])[0].item()\n",
    "            except ValueError: m[k] = 0\n",
    "        return m\n",
    "    try: return np.where(vocab == word)[0].item()\n",
    "    except ValueError: raise ValueError(\"word not in vocab\")"
   ]
  },
  {
   "cell_type": "code",
   "execution_count": 304,
   "metadata": {},
   "outputs": [
    {
     "data": {
      "text/html": [],
      "text/plain": [
       "<IPython.core.display.HTML object>"
      ]
     },
     "metadata": {},
     "output_type": "display_data"
    },
    {
     "name": "stderr",
     "output_type": "stream",
     "text": [
      "/anaconda/envs/fastai/lib/python3.8/site-packages/numpy/core/_asarray.py:102: VisibleDeprecationWarning: Creating an ndarray from ragged nested sequences (which is a list-or-tuple of lists-or-tuples-or ndarrays with different lengths or shapes) is deprecated. If you meant to do this, you must specify 'dtype=object' when creating the ndarray.\n",
      "  return array(a, dtype, copy=False, order=order)\n"
     ]
    }
   ],
   "source": [
    "df_new_toked = tokenize_df(df_new_sub, \"text\", n_workers=os.cpu_count(),\n",
    "                tok=dls.tok)[0]"
   ]
  },
  {
   "cell_type": "markdown",
   "metadata": {},
   "source": [
    "The above function returns two objects: we took the zeroth object which is a pandas dataframe, while the first object is a counter counting how many of each vocab are present inside the data. Note that this tokenization doesn't have tokenize to \"xxunk\" which is what we want, and shall we deal with that now. "
   ]
  },
  {
   "cell_type": "code",
   "execution_count": 311,
   "metadata": {},
   "outputs": [],
   "source": [
    "from tqdm.auto import tqdm"
   ]
  },
  {
   "cell_type": "code",
   "execution_count": 317,
   "metadata": {},
   "outputs": [],
   "source": [
    "choice_list = []\n",
    "def make_choice(k, data, threshold=0.3):\n",
    "    g = stoi(dls.vocab[0], \" \".join(data))\n",
    "    # choice[k] = (g == 0).sum() / len(g)\n",
    "    if (g == 0).sum() / len(g) > threshold: choice_list.append(k)"
   ]
  },
  {
   "cell_type": "code",
   "execution_count": 318,
   "metadata": {},
   "outputs": [
    {
     "data": {
      "application/vnd.jupyter.widget-view+json": {
       "model_id": "ebd5f480d3334e46b7c7c817039d0eb8",
       "version_major": 2,
       "version_minor": 0
      },
      "text/plain": [
       "  0%|          | 0/1862 [00:00<?, ?it/s]"
      ]
     },
     "metadata": {},
     "output_type": "display_data"
    }
   ],
   "source": [
    "choice = np.zeros((len(df_new_toked), )).astype(np.float32)\n",
    "loop_over = df_new_toked[\"text\"].to_numpy()\n",
    "\n",
    "# parallelize\n",
    "import joblib\n",
    "\n",
    "_ = joblib.Parallel(n_jobs=os.cpu_count(), prefer=\"threads\")(\n",
    "    joblib.delayed(make_choice)(k, data) \n",
    "    for k, data in enumerate(tqdm(loop_over))\n",
    ")\n",
    "\n",
    "# for k, data in enumerate(tqdm(loop_over)): \n",
    "#     g = stoi(dls.vocab[0], \" \".join(data))\n",
    "#     choice[k] = (g == 0).sum() / len(g)"
   ]
  },
  {
   "cell_type": "code",
   "execution_count": 320,
   "metadata": {},
   "outputs": [],
   "source": [
    "np.save(\"temp_choice_subset\", np.array(choice_list))"
   ]
  },
  {
   "cell_type": "markdown",
   "metadata": {},
   "source": [
    "I would like to see whether I can improve the `stoi` function or not, because this function is just too slow to do stuffs. "
   ]
  },
  {
   "cell_type": "markdown",
   "metadata": {},
   "source": [
    "# Experimentation phase\n",
    "- Convert vocab to python dictionary\n",
    "- Use dictionary to access values. "
   ]
  },
  {
   "cell_type": "code",
   "execution_count": 325,
   "metadata": {},
   "outputs": [
    {
     "data": {
      "text/plain": [
       "{'xxunk': 0,\n",
       " 'xxpad': 1,\n",
       " 'xxbos': 2,\n",
       " 'xxeos': 3,\n",
       " 'xxfld': 4,\n",
       " 'xxrep': 5,\n",
       " 'xxwrep': 6,\n",
       " 'xxup': 7,\n",
       " 'xxmaj': 8,\n",
       " ',': 9,\n",
       " 'the': 10,\n",
       " '.': 11,\n",
       " 'of': 12,\n",
       " 'to': 13,\n",
       " 'and': 14,\n",
       " '-': 15,\n",
       " 'a': 16,\n",
       " '/': 17,\n",
       " 'in': 18,\n",
       " ')': 19,\n",
       " '\"': 20,\n",
       " 'is': 21,\n",
       " '(': 22,\n",
       " 'that': 23,\n",
       " 'i': 24,\n",
       " '#': 25,\n",
       " 'it': 26,\n",
       " 'for': 27,\n",
       " '\\\\': 28,\n",
       " 'you': 29,\n",
       " \"'\": 30,\n",
       " '=': 31,\n",
       " 'on': 32,\n",
       " 'this': 33,\n",
       " 'are': 34,\n",
       " 'be': 35,\n",
       " 'not': 36,\n",
       " 'with': 37,\n",
       " '?': 38,\n",
       " 'as': 39,\n",
       " \"'s\": 40,\n",
       " 'have': 41,\n",
       " '3': 42,\n",
       " ';': 43,\n",
       " 'or': 44,\n",
       " 'was': 45,\n",
       " 'by': 46,\n",
       " 'they': 47,\n",
       " 'from': 48,\n",
       " '1': 49,\n",
       " \"n't\": 50,\n",
       " 'but': 51,\n",
       " 'do': 52,\n",
       " 'if': 53,\n",
       " 'at': 54,\n",
       " 'we': 55,\n",
       " ']': 56,\n",
       " '0': 57,\n",
       " 'x': 58,\n",
       " 'an': 59,\n",
       " '$': 60,\n",
       " 'can': 61,\n",
       " 'he': 62,\n",
       " 'will': 63,\n",
       " 'all': 64,\n",
       " 'what': 65,\n",
       " 'there': 66,\n",
       " 'one': 67,\n",
       " '2': 68,\n",
       " '_': 69,\n",
       " '!': 70,\n",
       " '[': 71,\n",
       " '…': 72,\n",
       " 'were': 73,\n",
       " 'would': 74,\n",
       " 'your': 75,\n",
       " 'has': 76,\n",
       " 'about': 77,\n",
       " 'which': 78,\n",
       " 'no': 79,\n",
       " 'my': 80,\n",
       " 'who': 81,\n",
       " 'their': 82,\n",
       " 'so': 83,\n",
       " '4': 84,\n",
       " 'some': 85,\n",
       " 'people': 86,\n",
       " 'other': 87,\n",
       " 'more': 88,\n",
       " '--': 89,\n",
       " \"max'ax'ax'ax'ax'ax'ax'ax'ax'ax'ax'ax'ax'ax'ax\": 90,\n",
       " 'his': 91,\n",
       " 'out': 92,\n",
       " 'had': 93,\n",
       " '&': 94,\n",
       " 'when': 95,\n",
       " 'them': 96,\n",
       " 'any': 97,\n",
       " 'been': 98,\n",
       " 'also': 99,\n",
       " 'me': 100,\n",
       " 'only': 101,\n",
       " 'up': 102,\n",
       " '5': 103,\n",
       " 'than': 104,\n",
       " 'does': 105,\n",
       " 'these': 106,\n",
       " 'how': 107,\n",
       " 'use': 108,\n",
       " '`': 109,\n",
       " '+': 110,\n",
       " '%': 111,\n",
       " 'like': 112,\n",
       " 'time': 113,\n",
       " 'may': 114,\n",
       " 'then': 115,\n",
       " 'did': 116,\n",
       " 'm': 117,\n",
       " 'just': 118,\n",
       " 'get': 119,\n",
       " 'know': 120,\n",
       " 'god': 121,\n",
       " 'should': 122,\n",
       " 'our': 123,\n",
       " 'new': 124,\n",
       " 'into': 125,\n",
       " 'first': 126,\n",
       " 'because': 127,\n",
       " '6': 128,\n",
       " 'think': 129,\n",
       " 'could': 130,\n",
       " 'two': 131,\n",
       " 'see': 132,\n",
       " 'us': 133,\n",
       " 'many': 134,\n",
       " 'well': 135,\n",
       " 'even': 136,\n",
       " 'file': 137,\n",
       " 'said': 138,\n",
       " 'such': 139,\n",
       " 'very': 140,\n",
       " 'system': 141,\n",
       " 'now': 142,\n",
       " 'most': 143,\n",
       " 'those': 144,\n",
       " '|': 145,\n",
       " 'its': 146,\n",
       " 'good': 147,\n",
       " 'over': 148,\n",
       " 'say': 149,\n",
       " 'make': 150,\n",
       " 'way': 151,\n",
       " 'here': 152,\n",
       " 'him': 153,\n",
       " 'after': 154,\n",
       " '7': 155,\n",
       " 'much': 156,\n",
       " 'where': 157,\n",
       " 'information': 158,\n",
       " 'why': 159,\n",
       " 'used': 160,\n",
       " '8': 161,\n",
       " 'q': 162,\n",
       " 'right': 163,\n",
       " 'being': 164,\n",
       " 'c': 165,\n",
       " '10': 166,\n",
       " 'available': 167,\n",
       " 't': 168,\n",
       " 'same': 169,\n",
       " 'p': 170,\n",
       " 'data': 171,\n",
       " \"'m\": 172,\n",
       " 'want': 173,\n",
       " 'number': 174,\n",
       " 'work': 175,\n",
       " 'program': 176,\n",
       " 'since': 177,\n",
       " 'before': 178,\n",
       " 'space': 179,\n",
       " 'image': 180,\n",
       " 'government': 181,\n",
       " 'must': 182,\n",
       " 'through': 183,\n",
       " \"'re\": 184,\n",
       " 'am': 185,\n",
       " '9': 186,\n",
       " 'going': 187,\n",
       " 'believe': 188,\n",
       " 'years': 189,\n",
       " 'both': 190,\n",
       " 'go': 191,\n",
       " 'off': 192,\n",
       " 'made': 193,\n",
       " 'each': 194,\n",
       " \"'ve\": 195,\n",
       " 'w': 196,\n",
       " 'while': 197,\n",
       " 'back': 198,\n",
       " 'last': 199,\n",
       " 'under': 200,\n",
       " 'still': 201,\n",
       " 'need': 202,\n",
       " 'something': 203,\n",
       " 'point': 204,\n",
       " 'find': 205,\n",
       " 'take': 206,\n",
       " 'part': 207,\n",
       " 'between': 208,\n",
       " 'she': 209,\n",
       " 's': 210,\n",
       " 'year': 211,\n",
       " 'law': 212,\n",
       " 'using': 213,\n",
       " 'her': 214,\n",
       " 'g9v': 215,\n",
       " 'too': 216,\n",
       " '}': 217,\n",
       " 'another': 218,\n",
       " 'own': 219,\n",
       " 'against': 220,\n",
       " 'things': 221,\n",
       " \"'ll\": 222,\n",
       " 'without': 223,\n",
       " 'software': 224,\n",
       " 'armenian': 225,\n",
       " 'down': 226,\n",
       " 'world': 227,\n",
       " 'president': 228,\n",
       " 'version': 229,\n",
       " 'read': 230,\n",
       " 'look': 231,\n",
       " 'ca': 232,\n",
       " 'dos': 233,\n",
       " 'list': 234,\n",
       " 'come': 235,\n",
       " 'jesus': 236,\n",
       " 'might': 237,\n",
       " 'name': 238,\n",
       " 'general': 239,\n",
       " 'power': 240,\n",
       " 'however': 241,\n",
       " 'problem': 242,\n",
       " 'again': 243,\n",
       " 'files': 244,\n",
       " 'really': 245,\n",
       " 'set': 246,\n",
       " 'mr': 247,\n",
       " 'better': 248,\n",
       " 'never': 249,\n",
       " 'let': 250,\n",
       " '15': 251,\n",
       " 'question': 252,\n",
       " 'based': 253,\n",
       " 'mail': 254,\n",
       " 'fact': 255,\n",
       " 'etc': 256,\n",
       " 'case': 257,\n",
       " 'support': 258,\n",
       " '11': 259,\n",
       " '1993': 260,\n",
       " 'different': 261,\n",
       " 'public': 262,\n",
       " 'key': 263,\n",
       " 'second': 264,\n",
       " 'long': 265,\n",
       " 'man': 266,\n",
       " 'day': 267,\n",
       " 'three': 268,\n",
       " 'every': 269,\n",
       " '{': 270,\n",
       " 'state': 271,\n",
       " 'around': 272,\n",
       " 'free': 273,\n",
       " 'help': 274,\n",
       " 'called': 275,\n",
       " 'please': 276,\n",
       " 'children': 277,\n",
       " 'windows': 278,\n",
       " 'send': 279,\n",
       " 'subject': 280,\n",
       " 'life': 281,\n",
       " 'jpeg': 282,\n",
       " '12': 283,\n",
       " '20': 284,\n",
       " 'few': 285,\n",
       " 'following': 286,\n",
       " 'armenians': 287,\n",
       " 'b': 288,\n",
       " 'high': 289,\n",
       " 'university': 290,\n",
       " 'example': 291,\n",
       " 'line': 292,\n",
       " 'end': 293,\n",
       " 'note': 294,\n",
       " 'least': 295,\n",
       " 'sure': 296,\n",
       " 'ftp': 297,\n",
       " 'true': 298,\n",
       " 'put': 299,\n",
       " 'above': 300,\n",
       " 'group': 301,\n",
       " 'g': 302,\n",
       " 'national': 303,\n",
       " 'o': 304,\n",
       " 'anything': 305,\n",
       " 'others': 306,\n",
       " 'run': 307,\n",
       " 'give': 308,\n",
       " '70': 309,\n",
       " 'either': 310,\n",
       " 'several': 311,\n",
       " 'got': 312,\n",
       " '16': 313,\n",
       " 'little': 314,\n",
       " 'graphics': 315,\n",
       " 'found': 316,\n",
       " 'pub': 317,\n",
       " 'order': 318,\n",
       " 'though': 319,\n",
       " 'non': 320,\n",
       " 'during': 321,\n",
       " 'states': 322,\n",
       " 'far': 323,\n",
       " 'include': 324,\n",
       " 'probably': 325,\n",
       " 'd': 326,\n",
       " 'thing': 327,\n",
       " 'next': 328,\n",
       " 'april': 329,\n",
       " '..': 330,\n",
       " '14': 331,\n",
       " 'try': 332,\n",
       " 'control': 333,\n",
       " 'course': 334,\n",
       " 'person': 335,\n",
       " 'source': 336,\n",
       " 'e': 337,\n",
       " 'turkish': 338,\n",
       " 'great': 339,\n",
       " 'real': 340,\n",
       " 'best': 341,\n",
       " 'including': 342,\n",
       " 'enough': 343,\n",
       " 'systems': 344,\n",
       " 'tell': 345,\n",
       " 'less': 346,\n",
       " 'human': 347,\n",
       " 'drive': 348,\n",
       " 'possible': 349,\n",
       " 'hard': 350,\n",
       " 'place': 351,\n",
       " 'gun': 352,\n",
       " 'someone': 353,\n",
       " 'rather': 354,\n",
       " 'says': 355,\n",
       " 'call': 356,\n",
       " 'word': 357,\n",
       " 'old': 358,\n",
       " 'lot': 359,\n",
       " '^': 360,\n",
       " 'images': 361,\n",
       " 'book': 362,\n",
       " 'message': 363,\n",
       " 'server': 364,\n",
       " 'given': 365,\n",
       " 'american': 366,\n",
       " 'mean': 367,\n",
       " 'left': 368,\n",
       " 'open': 369,\n",
       " 'questions': 370,\n",
       " 'reason': 371,\n",
       " 'db': 372,\n",
       " 'nothing': 373,\n",
       " 'yet': 374,\n",
       " 'done': 375,\n",
       " 'means': 376,\n",
       " '25': 377,\n",
       " 'programs': 378,\n",
       " 'times': 379,\n",
       " 'research': 380,\n",
       " 'jews': 381,\n",
       " 'full': 382,\n",
       " 'actually': 383,\n",
       " 'code': 384,\n",
       " '13': 385,\n",
       " '30': 386,\n",
       " 'evidence': 387,\n",
       " 'keep': 388,\n",
       " 'seems': 389,\n",
       " 'went': 390,\n",
       " 'came': 391,\n",
       " 'computer': 392,\n",
       " 'christ': 393,\n",
       " 'yes': 394,\n",
       " 'bible': 395,\n",
       " 'whether': 396,\n",
       " \"'d\": 397,\n",
       " 'church': 398,\n",
       " 'change': 399,\n",
       " 'later': 400,\n",
       " 'history': 401,\n",
       " 'package': 402,\n",
       " 'once': 403,\n",
       " 'disk': 404,\n",
       " 'war': 405,\n",
       " 'john': 406,\n",
       " 'period': 407,\n",
       " 'ms': 408,\n",
       " 'large': 409,\n",
       " 'issue': 410,\n",
       " 'color': 411,\n",
       " 'home': 412,\n",
       " 'contact': 413,\n",
       " 'told': 414,\n",
       " 'anyone': 415,\n",
       " 'christian': 416,\n",
       " 'often': 417,\n",
       " 'bit': 418,\n",
       " 'today': 419,\n",
       " 'else': 420,\n",
       " 'game': 421,\n",
       " 'window': 422,\n",
       " 'already': 423,\n",
       " 'current': 424,\n",
       " 'earth': 425,\n",
       " 'until': 426,\n",
       " 'able': 427,\n",
       " 'israel': 428,\n",
       " 'having': 429,\n",
       " 'problems': 430,\n",
       " 'men': 431,\n",
       " 'away': 432,\n",
       " 'ask': 433,\n",
       " 'thought': 434,\n",
       " 'press': 435,\n",
       " 'anonymous': 436,\n",
       " 'user': 437,\n",
       " 'address': 438,\n",
       " 'rights': 439,\n",
       " 'display': 440,\n",
       " 'pc': 441,\n",
       " 'local': 442,\n",
       " 'n': 443,\n",
       " 'center': 444,\n",
       " 'post': 445,\n",
       " 'small': 446,\n",
       " '18': 447,\n",
       " 'united': 448,\n",
       " 'wrong': 449,\n",
       " 'always': 450,\n",
       " 'saying': 451,\n",
       " 'faq': 452,\n",
       " '17': 453,\n",
       " 'among': 454,\n",
       " 'format': 455,\n",
       " 'whole': 456,\n",
       " 'standard': 457,\n",
       " 'important': 458,\n",
       " 'start': 459,\n",
       " 'sun': 460,\n",
       " 'u.s': 461,\n",
       " 'house': 462,\n",
       " '24': 463,\n",
       " 'v': 464,\n",
       " 'article': 465,\n",
       " 'type': 466,\n",
       " 'health': 467,\n",
       " 'team': 468,\n",
       " 'quite': 469,\n",
       " 'answer': 470,\n",
       " 'days': 471,\n",
       " 'trying': 472,\n",
       " 'matter': 473,\n",
       " 'stephanopoulos': 474,\n",
       " 'doing': 475,\n",
       " '@': 476,\n",
       " 'groups': 477,\n",
       " 'email': 478,\n",
       " 'within': 479,\n",
       " 'security': 480,\n",
       " 'section': 481,\n",
       " 'known': 482,\n",
       " 'ever': 483,\n",
       " '21': 484,\n",
       " 'asked': 485,\n",
       " 'encryption': 486,\n",
       " 'text': 487,\n",
       " 'although': 488,\n",
       " '50': 489,\n",
       " '100': 490,\n",
       " 'women': 491,\n",
       " 'words': 492,\n",
       " 'lord': 493,\n",
       " 'started': 494,\n",
       " 'entry': 495,\n",
       " 'simply': 496,\n",
       " 'russian': 497,\n",
       " 'paul': 498,\n",
       " 'idea': 499,\n",
       " 'per': 500,\n",
       " 'users': 501,\n",
       " 'faith': 502,\n",
       " 'working': 503,\n",
       " 'took': 504,\n",
       " 'four': 505,\n",
       " 'size': 506,\n",
       " 'single': 507,\n",
       " 'technology': 508,\n",
       " 'access': 509,\n",
       " 'science': 510,\n",
       " 'christians': 511,\n",
       " 'show': 512,\n",
       " 'play': 513,\n",
       " 'news': 514,\n",
       " '1992': 515,\n",
       " 'seen': 516,\n",
       " 'car': 517,\n",
       " 'info': 518,\n",
       " 'bad': 519,\n",
       " 'themselves': 520,\n",
       " 'third': 521,\n",
       " 'hand': 522,\n",
       " 'force': 523,\n",
       " 'l': 524,\n",
       " 'body': 525,\n",
       " 'jewish': 526,\n",
       " 'feel': 527,\n",
       " '19': 528,\n",
       " 'mac': 529,\n",
       " 'original': 530,\n",
       " 'makes': 531,\n",
       " 'city': 532,\n",
       " '93': 533,\n",
       " 'includes': 534,\n",
       " 'father': 535,\n",
       " 'live': 536,\n",
       " 'kind': 537,\n",
       " 'perhaps': 538,\n",
       " '40': 539,\n",
       " 'directory': 540,\n",
       " 'killed': 541,\n",
       " 'instead': 542,\n",
       " 'particular': 543,\n",
       " 'clear': 544,\n",
       " 'maybe': 545,\n",
       " 'side': 546,\n",
       " 'thus': 547,\n",
       " 'common': 548,\n",
       " 'specific': 549,\n",
       " 'everything': 550,\n",
       " 'via': 551,\n",
       " 'service': 552,\n",
       " 'machine': 553,\n",
       " 'return': 554,\n",
       " 'police': 555,\n",
       " 'getting': 556,\n",
       " 'provide': 557,\n",
       " 'big': 558,\n",
       " 'upon': 559,\n",
       " 'david': 560,\n",
       " 'written': 561,\n",
       " 'country': 562,\n",
       " 'certain': 563,\n",
       " 'h': 564,\n",
       " 'love': 565,\n",
       " 'heard': 566,\n",
       " 'white': 567,\n",
       " 'internet': 568,\n",
       " 'study': 569,\n",
       " 'almost': 570,\n",
       " 'death': 571,\n",
       " 'area': 572,\n",
       " 'become': 573,\n",
       " 'application': 574,\n",
       " 'dead': 575,\n",
       " 'various': 576,\n",
       " 'write': 577,\n",
       " 'medical': 578,\n",
       " 'care': 579,\n",
       " 'international': 580,\n",
       " 'form': 581,\n",
       " 'applications': 582,\n",
       " 'situation': 583,\n",
       " 'discussion': 584,\n",
       " 'check': 585,\n",
       " 'understand': 586,\n",
       " 'administration': 587,\n",
       " 'itself': 588,\n",
       " 'unix': 589,\n",
       " 'york': 590,\n",
       " 'cause': 591,\n",
       " 'chip': 592,\n",
       " 'members': 593,\n",
       " '22': 594,\n",
       " 'works': 595,\n",
       " 'volume': 596,\n",
       " 'claim': 597,\n",
       " 'card': 598,\n",
       " 'price': 599,\n",
       " 'together': 600,\n",
       " 'major': 601,\n",
       " 'money': 602,\n",
       " 'r': 603,\n",
       " 'books': 604,\n",
       " 'future': 605,\n",
       " 'argument': 606,\n",
       " 'phone': 607,\n",
       " 'shall': 608,\n",
       " '26': 609,\n",
       " 'j': 610,\n",
       " 'making': 611,\n",
       " 'saw': 612,\n",
       " '\\n': 613,\n",
       " 'hope': 614,\n",
       " 'greek': 615,\n",
       " 'military': 616,\n",
       " 'hardware': 617,\n",
       " 'process': 618,\n",
       " 'mind': 619,\n",
       " 'series': 620,\n",
       " 'fire': 621,\n",
       " 'test': 622,\n",
       " 'sent': 623,\n",
       " 'seem': 624,\n",
       " 'level': 625,\n",
       " 'posting': 626,\n",
       " 'remember': 627,\n",
       " 'copy': 628,\n",
       " 'similar': 629,\n",
       " 'special': 630,\n",
       " 'personal': 631,\n",
       " 'likely': 632,\n",
       " 'private': 633,\n",
       " 'related': 634,\n",
       " 'anti': 635,\n",
       " 'religion': 636,\n",
       " 'population': 637,\n",
       " 'speed': 638,\n",
       " 'taken': 639,\n",
       " 'bill': 640,\n",
       " 'society': 641,\n",
       " 'religious': 642,\n",
       " 'running': 643,\n",
       " 'view': 644,\n",
       " 'archive': 645,\n",
       " 'consider': 646,\n",
       " 'f': 647,\n",
       " 'gif': 648,\n",
       " 'output': 649,\n",
       " 'soviet': 650,\n",
       " 'office': 651,\n",
       " 'son': 652,\n",
       " '0t-': 653,\n",
       " 'la': 654,\n",
       " '23': 655,\n",
       " 'uses': 656,\n",
       " 'further': 657,\n",
       " 'truth': 658,\n",
       " 'mb': 659,\n",
       " 'comes': 660,\n",
       " 'below': 661,\n",
       " 'turkey': 662,\n",
       " 'according': 663,\n",
       " 'stuff': 664,\n",
       " 'privacy': 665,\n",
       " 'political': 666,\n",
       " 'ed': 667,\n",
       " 'certainly': 668,\n",
       " 'network': 669,\n",
       " 'present': 670,\n",
       " '27': 671,\n",
       " 'conference': 672,\n",
       " 'building': 673,\n",
       " 'unless': 674,\n",
       " 'page': 675,\n",
       " 'fax': 676,\n",
       " '92': 677,\n",
       " 'usually': 678,\n",
       " 'included': 679,\n",
       " 'p.': 680,\n",
       " 'y': 681,\n",
       " 'self': 682,\n",
       " 'involved': 683,\n",
       " 'value': 684,\n",
       " 'short': 685,\n",
       " 'numbers': 686,\n",
       " '28': 687,\n",
       " 'statement': 688,\n",
       " 'lost': 689,\n",
       " 'himself': 690,\n",
       " 'action': 691,\n",
       " 'agree': 692,\n",
       " 'myers': 693,\n",
       " 'school': 694,\n",
       " 'analysis': 695,\n",
       " 'report': 696,\n",
       " 'armenia': 697,\n",
       " 'therefore': 698,\n",
       " 'sense': 699,\n",
       " 'usenet': 700,\n",
       " 'million': 701,\n",
       " 'low': 702,\n",
       " 'error': 703,\n",
       " 'posted': 704,\n",
       " '1st': 705,\n",
       " 'cost': 706,\n",
       " 'necessary': 707,\n",
       " 'head': 708,\n",
       " 'cases': 709,\n",
       " 'wo': 710,\n",
       " 'position': 711,\n",
       " 'family': 712,\n",
       " 'looking': 713,\n",
       " 'net': 714,\n",
       " 'x11': 715,\n",
       " 'top': 716,\n",
       " 'week': 717,\n",
       " '04': 718,\n",
       " 'fbi': 719,\n",
       " 'dr': 720,\n",
       " 'keys': 721,\n",
       " 'interface': 722,\n",
       " '80': 723,\n",
       " 'young': 724,\n",
       " 'crime': 725,\n",
       " 'widget': 726,\n",
       " 'issues': 727,\n",
       " 'box': 728,\n",
       " 'washington': 729,\n",
       " 'water': 730,\n",
       " 'israeli': 731,\n",
       " 'nor': 732,\n",
       " 'win': 733,\n",
       " 'ground': 734,\n",
       " 'early': 735,\n",
       " 'everyone': 736,\n",
       " 'simple': 737,\n",
       " 'release': 738,\n",
       " 'considered': 739,\n",
       " 'congress': 740,\n",
       " 'ago': 741,\n",
       " 'k': 742,\n",
       " 'library': 743,\n",
       " 'black': 744,\n",
       " 'rules': 745,\n",
       " 'near': 746,\n",
       " 'policy': 747,\n",
       " 'nasa': 748,\n",
       " 'ii': 749,\n",
       " 'complete': 750,\n",
       " 'site': 751,\n",
       " 'memory': 752,\n",
       " 'result': 753,\n",
       " 'higher': 754,\n",
       " 'especially': 755,\n",
       " 'due': 756,\n",
       " 'goal': 757,\n",
       " 'except': 758,\n",
       " 'drug': 759,\n",
       " 'kill': 760,\n",
       " 'command': 761,\n",
       " 'language': 762,\n",
       " 'date': 763,\n",
       " '29': 764,\n",
       " 'happened': 765,\n",
       " 'rate': 766,\n",
       " 'nature': 767,\n",
       " 'pp': 768,\n",
       " 'past': 769,\n",
       " 'st': 770,\n",
       " 'azerbaijan': 771,\n",
       " 'inc': 772,\n",
       " 'contains': 773,\n",
       " 'launch': 774,\n",
       " 'light': 775,\n",
       " 'individual': 776,\n",
       " 'half': 777,\n",
       " 'exactly': 778,\n",
       " 'exist': 779,\n",
       " 'comments': 780,\n",
       " 'rest': 781,\n",
       " 'strong': 782,\n",
       " 'term': 783,\n",
       " 'points': 784,\n",
       " 'add': 785,\n",
       " 'move': 786,\n",
       " 'community': 787,\n",
       " 'san': 788,\n",
       " 'sources': 789,\n",
       " 'outside': 790,\n",
       " 'season': 791,\n",
       " 'a.': 792,\n",
       " 'muslim': 793,\n",
       " 'difference': 794,\n",
       " 'sometimes': 795,\n",
       " 'night': 796,\n",
       " 'expect': 797,\n",
       " 'mark': 798,\n",
       " 'close': 799,\n",
       " 'coming': 800,\n",
       " 'total': 801,\n",
       " 'build': 802,\n",
       " 'sin': 803,\n",
       " 'federal': 804,\n",
       " 'built': 805,\n",
       " 'games': 806,\n",
       " 'act': 807,\n",
       " 'genocide': 808,\n",
       " 'guns': 809,\n",
       " 'ibm': 810,\n",
       " 'commercial': 811,\n",
       " 'behind': 812,\n",
       " 'tried': 813,\n",
       " 'wanted': 814,\n",
       " 'existence': 815,\n",
       " 'effect': 816,\n",
       " 'stop': 817,\n",
       " 'appears': 818,\n",
       " '32': 819,\n",
       " 'department': 820,\n",
       " 'quality': 821,\n",
       " 'clearly': 822,\n",
       " 'pretty': 823,\n",
       " 'gave': 824,\n",
       " 'purpose': 825,\n",
       " 'enforcement': 826,\n",
       " 'scientific': 827,\n",
       " 'field': 828,\n",
       " 'usa': 829,\n",
       " 'final': 830,\n",
       " 'cover': 831,\n",
       " 'reference': 832,\n",
       " 'sites': 833,\n",
       " 'vs': 834,\n",
       " 'development': 835,\n",
       " 'talk': 836,\n",
       " '1991': 837,\n",
       " 'response': 838,\n",
       " 'face': 839,\n",
       " 'turks': 840,\n",
       " 'allow': 841,\n",
       " '03': 842,\n",
       " 'needed': 843,\n",
       " 'author': 844,\n",
       " 'sort': 845,\n",
       " 'details': 846,\n",
       " 'meaning': 847,\n",
       " 'child': 848,\n",
       " 'main': 849,\n",
       " 'defense': 850,\n",
       " 'currently': 851,\n",
       " 'taking': 852,\n",
       " 'months': 853,\n",
       " 'cut': 854,\n",
       " 'save': 855,\n",
       " 'required': 856,\n",
       " 'five': 857,\n",
       " 'results': 858,\n",
       " 'belief': 859,\n",
       " 'lines': 860,\n",
       " 'laws': 861,\n",
       " 'motif': 862,\n",
       " 'video': 863,\n",
       " 'league': 864,\n",
       " 'decision': 865,\n",
       " 'received': 866,\n",
       " 'driver': 867,\n",
       " 'along': 868,\n",
       " 'bits': 869,\n",
       " '00': 870,\n",
       " 'features': 871,\n",
       " 'canada': 872,\n",
       " 'clipper': 873,\n",
       " 'function': 874,\n",
       " 'interested': 875,\n",
       " 'easy': 876,\n",
       " 'longer': 877,\n",
       " '31': 878,\n",
       " 'needs': 879,\n",
       " 'supports': 880,\n",
       " 'cx^': 881,\n",
       " 'created': 882,\n",
       " 'entire': 883,\n",
       " 'mode': 884,\n",
       " 'ones': 885,\n",
       " 'performance': 886,\n",
       " '02': 887,\n",
       " 'fast': 888,\n",
       " 'cancer': 889,\n",
       " 'talking': 890,\n",
       " 'whose': 891,\n",
       " 'road': 892,\n",
       " 'official': 893,\n",
       " 'provides': 894,\n",
       " 'runs': 895,\n",
       " 'screen': 896,\n",
       " 'continue': 897,\n",
       " 'committee': 898,\n",
       " 'spirit': 899,\n",
       " 'accept': 900,\n",
       " 'reading': 901,\n",
       " 'create': 902,\n",
       " 'basic': 903,\n",
       " 'court': 904,\n",
       " 'useful': 905,\n",
       " 'environment': 906,\n",
       " 'addition': 907,\n",
       " 'disease': 908,\n",
       " 'opinion': 909,\n",
       " 'living': 910,\n",
       " 'reported': 911,\n",
       " 'plan': 912,\n",
       " 'knowledge': 913,\n",
       " 'couple': 914,\n",
       " 'yourself': 915,\n",
       " 'hell': 916,\n",
       " 'u': 917,\n",
       " 'deal': 918,\n",
       " 'soldiers': 919,\n",
       " 'theory': 920,\n",
       " 'experience': 921,\n",
       " 'march': 922,\n",
       " 'correct': 923,\n",
       " 'business': 924,\n",
       " 'pts': 925,\n",
       " 'red': 926,\n",
       " 'completely': 927,\n",
       " 'goes': 928,\n",
       " 'resources': 929,\n",
       " 'myself': 930,\n",
       " 'muslims': 931,\n",
       " 'land': 932,\n",
       " 'processing': 933,\n",
       " 'indeed': 934,\n",
       " 'j.': 935,\n",
       " 'leave': 936,\n",
       " 'model': 937,\n",
       " '01': 938,\n",
       " 'van': 939,\n",
       " 'designed': 940,\n",
       " 'attack': 941,\n",
       " 'none': 942,\n",
       " 'whatever': 943,\n",
       " 'algorithm': 944,\n",
       " 'approach': 945,\n",
       " 'shot': 946,\n",
       " 'context': 947,\n",
       " 'art': 948,\n",
       " 'anyway': 949,\n",
       " 'z': 950,\n",
       " 'army': 951,\n",
       " 'interesting': 952,\n",
       " 'design': 953,\n",
       " 'happen': 954,\n",
       " 'thanks': 955,\n",
       " 'distribution': 956,\n",
       " 'job': 957,\n",
       " 'developed': 958,\n",
       " 'material': 959,\n",
       " 'parts': 960,\n",
       " 'peace': 961,\n",
       " 'terms': 962,\n",
       " 'held': 963,\n",
       " 'letter': 964,\n",
       " 'tools': 965,\n",
       " 'provided': 966,\n",
       " 'define': 967,\n",
       " 'published': 968,\n",
       " 'secret': 969,\n",
       " 'weapons': 970,\n",
       " 'age': 971,\n",
       " 'ray': 972,\n",
       " 'scsi': 973,\n",
       " 'party': 974,\n",
       " 'physical': 975,\n",
       " 'south': 976,\n",
       " 'turn': 977,\n",
       " 'professor': 978,\n",
       " 'energy': 979,\n",
       " 'average': 980,\n",
       " 'claims': 981,\n",
       " 'organization': 982,\n",
       " 'i.e.': 983,\n",
       " 'arms': 984,\n",
       " '800': 985,\n",
       " 'appropriate': 986,\n",
       " 'western': 987,\n",
       " 'device': 988,\n",
       " 'machines': 989,\n",
       " 'ways': 990,\n",
       " 'follow': 991,\n",
       " 'street': 992,\n",
       " 'wide': 993,\n",
       " 'firearms': 994,\n",
       " 'front': 995,\n",
       " '34': 996,\n",
       " 'described': 997,\n",
       " 'california': 998,\n",
       " 'choice': 999,\n",
       " ...}"
      ]
     },
     "execution_count": 325,
     "metadata": {},
     "output_type": "execute_result"
    }
   ],
   "source": [
    "yourList = dls.vocab[0]\n",
    "result = {key: index for index, key in enumerate(yourList)}\n",
    "result"
   ]
  },
  {
   "cell_type": "code",
   "execution_count": 326,
   "metadata": {},
   "outputs": [
    {
     "name": "stdout",
     "output_type": "stream",
     "text": [
      "46.9 ns ± 0.723 ns per loop (mean ± std. dev. of 7 runs, 10000000 loops each)\n"
     ]
    }
   ],
   "source": [
    "%timeit result[\"xxup\"]"
   ]
  },
  {
   "cell_type": "code",
   "execution_count": null,
   "metadata": {},
   "outputs": [],
   "source": []
  }
 ],
 "metadata": {
  "interpreter": {
   "hash": "2332e3d2bb5a0777e9aeaf29763188d62a394303965da046a80937952abed10b"
  },
  "kernelspec": {
   "display_name": "Python 3.8.11 64-bit ('dg1': conda)",
   "language": "python",
   "name": "python3"
  },
  "language_info": {
   "codemirror_mode": {
    "name": "ipython",
    "version": 3
   },
   "file_extension": ".py",
   "mimetype": "text/x-python",
   "name": "python",
   "nbconvert_exporter": "python",
   "pygments_lexer": "ipython3",
   "version": "3.8.11"
  },
  "orig_nbformat": 4
 },
 "nbformat": 4,
 "nbformat_minor": 2
}
