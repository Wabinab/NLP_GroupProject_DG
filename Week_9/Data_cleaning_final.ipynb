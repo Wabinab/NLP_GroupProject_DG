{
 "cells": [
  {
   "cell_type": "code",
   "execution_count": 1,
   "metadata": {},
   "outputs": [],
   "source": [
    "%load_ext autoreload\n",
    "%autoreload 2"
   ]
  },
  {
   "cell_type": "markdown",
   "metadata": {},
   "source": [
    "**Note:** This notebook requires high RAM if you are to run headless. To remain low memory, delete some data (such as don't use a new variable everytime you take a subset of data, for no repetition, etc). \n",
    "\n",
    "This VM runs on Azure STANDARD_NC6 instance (or equivalent).\n",
    "- CPU: 6 cores\n",
    "- RAM: 56 GB. \n",
    "- GPU: 1 K80."
   ]
  },
  {
   "cell_type": "code",
   "execution_count": 2,
   "metadata": {},
   "outputs": [],
   "source": [
    "from sklearn.datasets import fetch_20newsgroups\n",
    "all_xs, all_y = fetch_20newsgroups(subset=\"all\", remove=('headers', 'footers', 'quotes'),\n",
    "                    shuffle=True, return_X_y=True)"
   ]
  },
  {
   "cell_type": "code",
   "execution_count": 3,
   "metadata": {},
   "outputs": [],
   "source": [
    "def split_data(data, idx=None):\n",
    "    \"\"\"Split data for easier visualization. NOT FOR TRAINING.\"\"\"\n",
    "    if idx is not None: x = data[idx].split(\"\\n\")\n",
    "    else: x = data.split(\"\\n\")\n",
    "    x = list(filter(lambda a: a != '', x))\n",
    "    return x"
   ]
  },
  {
   "cell_type": "code",
   "execution_count": 4,
   "metadata": {},
   "outputs": [],
   "source": [
    "from fastai.text.all import *"
   ]
  },
  {
   "cell_type": "markdown",
   "metadata": {},
   "source": [
    "There are a few cleanings we'll have to do. Normally, we need to lower all characters, but based on what one learns in fastai, there are things that trains better with capital letters. And when we pass through fastai tokenizer, it will lower it for us, and adding a `xxmaj` for us just before this. We'll discuss about this `xxmaj` later when we came to it. "
   ]
  },
  {
   "cell_type": "code",
   "execution_count": 5,
   "metadata": {},
   "outputs": [],
   "source": [
    "# Make sure to lower all characters. \n",
    "# all_xs = [g.lower() for g in all_xs]\n",
    "\n",
    "assert len(all_xs) == len(all_y) == 18846"
   ]
  },
  {
   "cell_type": "markdown",
   "metadata": {},
   "source": [
    "This step is optional. We can either use the whole dataset, or we choose a subset. Here, to speed up training, I use a subset. However, you could just tune this value to get the best results, or just use the whole dataset. \n",
    "\n",
    "The idea is this: it's not necessary all short sentence gives good results. So we only keep the longer articles and discard those that are one or two sentence long (about threshold=5). Here we did it for larger threshold to speed up training, but could be tuned again for better results. "
   ]
  },
  {
   "cell_type": "code",
   "execution_count": 6,
   "metadata": {},
   "outputs": [],
   "source": [
    "def threshold_subset(all_xs, threshold=10):\n",
    "    \"\"\"\n",
    "    Will return a numpy array containing all the data that is to be kept.\n",
    "    Threshold means the number of lines (after separated using `split_data`)\n",
    "    for the data to be retained, inclusive. By default, threshold=10 means\n",
    "    if data is less than 10 lines it will be discarded. \n",
    "    \"\"\"\n",
    "    to_keep = []\n",
    "    for k, x in enumerate(all_xs):\n",
    "        sentence_len = len(split_data(x))\n",
    "        if sentence_len >= threshold: to_keep.append(k)\n",
    "\n",
    "    return np.array(to_keep)"
   ]
  },
  {
   "cell_type": "code",
   "execution_count": 7,
   "metadata": {},
   "outputs": [],
   "source": [
    "def line_threshold(xs, y, threshold):\n",
    "    \"\"\"\n",
    "    Give a threshold, check for assertions, and return corresponding data.\n",
    "    \"\"\"\n",
    "    to_keep = threshold_subset(all_xs, threshold)\n",
    "    np.save(f\"to_keep_{threshold}\", to_keep)\n",
    "\n",
    "    assert len(to_keep) == len(np.unique(to_keep))\n",
    "\n",
    "    return np.array(all_xs)[to_keep], np.array(all_y)[to_keep]"
   ]
  },
  {
   "cell_type": "code",
   "execution_count": 8,
   "metadata": {},
   "outputs": [],
   "source": [
    "new_xs, new_y = line_threshold(all_xs, all_y, 0)"
   ]
  },
  {
   "cell_type": "markdown",
   "metadata": {},
   "source": [
    "What we need to note for the `dls` functio below is that, we take in the **column name** from the `TextBlock.from_df` first arg, while the `get_x=ColReader(\"text\")` is always fixed with \"text\" because the output from `TextBlock.from_df` is a pandas Series with a column named \"text\". If you confused with it and changed it, it'll not work. "
   ]
  },
  {
   "cell_type": "code",
   "execution_count": 9,
   "metadata": {},
   "outputs": [],
   "source": [
    "import gc\n",
    "def clear_cache(del_learn_dls=False):\n",
    "    if del_learn_dls:\n",
    "        try:\n",
    "            global learn, dls\n",
    "            del learn, dls\n",
    "        except Exception: pass\n",
    "    gc.collect()\n",
    "    torch.cuda.empty_cache()"
   ]
  },
  {
   "cell_type": "code",
   "execution_count": 10,
   "metadata": {},
   "outputs": [],
   "source": [
    "clear_cache()  # assert that it works without defining learn and dls. "
   ]
  },
  {
   "cell_type": "code",
   "execution_count": 11,
   "metadata": {},
   "outputs": [],
   "source": [
    "def numpy_to_pd_to_dls(xs, y, seq_len=72, bs=32, num_workers=0, **kwargs):\n",
    "    \"\"\"\n",
    "    Take xs and y as numpy array, convert it to pandas dataframe, \n",
    "    and make a dataloader from it. \n",
    "\n",
    "    :return: fastai DataLoaders. \n",
    "    \"\"\"\n",
    "    df = pd.DataFrame([xs, y]).T\n",
    "    df.columns = [\"text_\", \"category\"]\n",
    "\n",
    "    dls = DataBlock(\n",
    "        blocks=(TextBlock.from_df(\"text_\", seq_len=seq_len, tok=SpacyTokenizer(\"en\")),\n",
    "                CategoryBlock),\n",
    "        get_x=ColReader(\"text\"), get_y=ColReader(\"category\"),\n",
    "        splitter=RandomSplitter(0.1)\n",
    "    ).dataloaders(df, bs=bs, num_workers=num_workers, seq_len=seq_len, **kwargs)\n",
    "\n",
    "    return dls"
   ]
  },
  {
   "cell_type": "markdown",
   "metadata": {},
   "source": [
    "We want to know a baseline. Now we could make a baseline. "
   ]
  },
  {
   "cell_type": "code",
   "execution_count": 12,
   "metadata": {},
   "outputs": [
    {
     "data": {
      "text/html": [],
      "text/plain": [
       "<IPython.core.display.HTML object>"
      ]
     },
     "metadata": {},
     "output_type": "display_data"
    },
    {
     "name": "stderr",
     "output_type": "stream",
     "text": [
      "/anaconda/envs/fastai/lib/python3.8/site-packages/numpy/core/_asarray.py:102: VisibleDeprecationWarning: Creating an ndarray from ragged nested sequences (which is a list-or-tuple of lists-or-tuples-or ndarrays with different lengths or shapes) is deprecated. If you meant to do this, you must specify 'dtype=object' when creating the ndarray.\n",
      "  return array(a, dtype, copy=False, order=order)\n"
     ]
    },
    {
     "data": {
      "text/html": [
       "<table border=\"1\" class=\"dataframe\">\n",
       "  <thead>\n",
       "    <tr style=\"text-align: right;\">\n",
       "      <th></th>\n",
       "      <th>text</th>\n",
       "      <th>category</th>\n",
       "    </tr>\n",
       "  </thead>\n",
       "  <tbody>\n",
       "    <tr>\n",
       "      <th>0</th>\n",
       "      <td>xxbos xxmaj try this one on for size . xxmaj i 'd rather not post her name , but if you \\n email me , xxmaj i 'll tell you who she is . xxmaj enjoy ! \\n\\n begin 640 xxunk \\n xxup xxunk # ! ! 0 ( , ! xxunk ! +8 [ p ( xxunk \\n xxup xxunk # xxunk \\ # xxup xxunk ] xxunk [ # xxup xxunk \\ xxup i8 \\n xxup xxunk - xxunk # ; xxunk : xxunk xxrep 3 ( xxunk \\n m \\ &lt; / xxup xxunk \\ _ xxunk &lt; xxunk / % \\ _ / e \\ xxup xxunk ? # xxunk \\n xxup m3 = xxunk &amp; / $ _ &amp; , xxunk / + xxunk ( xxrep 3 g % r. / [ ] xxunk \\ \\ xxunk \\ \\n xxup xxunk / , xxunk =</td>\n",
       "      <td>2</td>\n",
       "    </tr>\n",
       "    <tr>\n",
       "      <th>1</th>\n",
       "      <td>xxbos xxrep 12 - xxmaj part 2 of 14 xxrep 12 - \\n xxup m0 . / xxup xxunk / xxup cbn / xxup xxunk / xxup xxunk , xxunk , n- [ \\n xxup xxunk \\ _ -8 \\n xxup my _ / xxup sys * / xxup xxunk \\ xxup xxunk &gt; / xxup c^ &gt; / xxup cx_s \\ xxup xxunk _ / xxup sc _ . / xxup xxunk _ . / xxup c _ / xxup gcx^ / xxup y _ . / \\n m \\ xxup x_scx^ / \\ _ . / xxup c _ / s \\ _ . / \\ xxup x^ / \\ xxup x^ / xxup cx_scx^ / xxup c _ . / xxup cx^ / \\ xxup x^ / xxup c _ . / xxup cx^ / xxup cx^ / \\n m \\ xxup xxunk _ . / \\</td>\n",
       "      <td>2</td>\n",
       "    </tr>\n",
       "  </tbody>\n",
       "</table>"
      ],
      "text/plain": [
       "<IPython.core.display.HTML object>"
      ]
     },
     "metadata": {},
     "output_type": "display_data"
    }
   ],
   "source": [
    "dls = numpy_to_pd_to_dls(new_xs, new_y)\n",
    "dls.show_batch(max_n=2)"
   ]
  },
  {
   "cell_type": "code",
   "execution_count": 13,
   "metadata": {},
   "outputs": [],
   "source": [
    "def get_learner(dls):\n",
    "    return text_classifier_learner(dls, AWD_LSTM, metrics=[accuracy, Perplexity()],\n",
    "                wd=0.1, drop_mult=0.3, pretrained=True).to_fp16()"
   ]
  },
  {
   "cell_type": "code",
   "execution_count": 14,
   "metadata": {},
   "outputs": [
    {
     "data": {
      "text/html": [],
      "text/plain": [
       "<IPython.core.display.HTML object>"
      ]
     },
     "metadata": {},
     "output_type": "display_data"
    },
    {
     "name": "stderr",
     "output_type": "stream",
     "text": [
      "/anaconda/envs/fastai/lib/python3.8/site-packages/fastai/callback/schedule.py:269: UserWarning: color is redundantly defined by the 'color' keyword argument and the fmt string \"ro\" (-> color='r'). The keyword argument will take precedence.\n",
      "  ax.plot(val, idx, 'ro', label=nm, c=color)\n"
     ]
    },
    {
     "data": {
      "text/plain": [
       "SuggestedLRs(valley=0.001737800776027143)"
      ]
     },
     "execution_count": 14,
     "metadata": {},
     "output_type": "execute_result"
    },
    {
     "data": {
      "image/png": "[encoded data removed]",
      "text/plain": [
       "<Figure size 432x288 with 1 Axes>"
      ]
     },
     "metadata": {
      "needs_background": "light"
     },
     "output_type": "display_data"
    }
   ],
   "source": [
    "learn = get_learner(dls)\n",
    "learn.lr_find()"
   ]
  },
  {
   "cell_type": "code",
   "execution_count": 15,
   "metadata": {},
   "outputs": [
    {
     "data": {
      "text/html": [
       "<table border=\"1\" class=\"dataframe\">\n",
       "  <thead>\n",
       "    <tr style=\"text-align: left;\">\n",
       "      <th>epoch</th>\n",
       "      <th>train_loss</th>\n",
       "      <th>valid_loss</th>\n",
       "      <th>accuracy</th>\n",
       "      <th>perplexity</th>\n",
       "      <th>time</th>\n",
       "    </tr>\n",
       "  </thead>\n",
       "  <tbody>\n",
       "    <tr>\n",
       "      <td>0</td>\n",
       "      <td>1.900342</td>\n",
       "      <td>1.821486</td>\n",
       "      <td>0.414013</td>\n",
       "      <td>6.181037</td>\n",
       "      <td>06:44</td>\n",
       "    </tr>\n",
       "    <tr>\n",
       "      <td>1</td>\n",
       "      <td>1.927652</td>\n",
       "      <td>1.685858</td>\n",
       "      <td>0.488854</td>\n",
       "      <td>5.397079</td>\n",
       "      <td>06:45</td>\n",
       "    </tr>\n",
       "    <tr>\n",
       "      <td>2</td>\n",
       "      <td>1.694308</td>\n",
       "      <td>1.541702</td>\n",
       "      <td>0.528662</td>\n",
       "      <td>4.672538</td>\n",
       "      <td>06:44</td>\n",
       "    </tr>\n",
       "  </tbody>\n",
       "</table>"
      ],
      "text/plain": [
       "<IPython.core.display.HTML object>"
      ]
     },
     "metadata": {},
     "output_type": "display_data"
    }
   ],
   "source": [
    "learn.fit_one_cycle(3, 3e-2)"
   ]
  },
  {
   "cell_type": "code",
   "execution_count": 16,
   "metadata": {},
   "outputs": [],
   "source": [
    "clear_cache(True)"
   ]
  },
  {
   "cell_type": "code",
   "execution_count": 17,
   "metadata": {},
   "outputs": [
    {
     "data": {
      "text/html": [],
      "text/plain": [
       "<IPython.core.display.HTML object>"
      ]
     },
     "metadata": {},
     "output_type": "display_data"
    },
    {
     "name": "stderr",
     "output_type": "stream",
     "text": [
      "/anaconda/envs/fastai/lib/python3.8/site-packages/numpy/core/_asarray.py:102: VisibleDeprecationWarning: Creating an ndarray from ragged nested sequences (which is a list-or-tuple of lists-or-tuples-or ndarrays with different lengths or shapes) is deprecated. If you meant to do this, you must specify 'dtype=object' when creating the ndarray.\n",
      "  return array(a, dtype, copy=False, order=order)\n"
     ]
    }
   ],
   "source": [
    "new_xs, new_y = line_threshold(all_xs, all_y, 7)\n",
    "dls = numpy_to_pd_to_dls(new_xs, new_y)"
   ]
  },
  {
   "cell_type": "code",
   "execution_count": 18,
   "metadata": {},
   "outputs": [
    {
     "data": {
      "text/html": [],
      "text/plain": [
       "<IPython.core.display.HTML object>"
      ]
     },
     "metadata": {},
     "output_type": "display_data"
    },
    {
     "name": "stderr",
     "output_type": "stream",
     "text": [
      "/anaconda/envs/fastai/lib/python3.8/site-packages/fastai/callback/schedule.py:269: UserWarning: color is redundantly defined by the 'color' keyword argument and the fmt string \"ro\" (-> color='r'). The keyword argument will take precedence.\n",
      "  ax.plot(val, idx, 'ro', label=nm, c=color)\n"
     ]
    },
    {
     "data": {
      "text/plain": [
       "SuggestedLRs(valley=0.0020892962347716093)"
      ]
     },
     "execution_count": 18,
     "metadata": {},
     "output_type": "execute_result"
    },
    {
     "data": {
      "image/png": "[encoded data removed]",
      "text/plain": [
       "<Figure size 432x288 with 1 Axes>"
      ]
     },
     "metadata": {
      "needs_background": "light"
     },
     "output_type": "display_data"
    }
   ],
   "source": [
    "learn = get_learner(dls)\n",
    "learn.lr_find()"
   ]
  },
  {
   "cell_type": "code",
   "execution_count": 19,
   "metadata": {},
   "outputs": [
    {
     "data": {
      "text/html": [
       "<table border=\"1\" class=\"dataframe\">\n",
       "  <thead>\n",
       "    <tr style=\"text-align: left;\">\n",
       "      <th>epoch</th>\n",
       "      <th>train_loss</th>\n",
       "      <th>valid_loss</th>\n",
       "      <th>accuracy</th>\n",
       "      <th>perplexity</th>\n",
       "      <th>time</th>\n",
       "    </tr>\n",
       "  </thead>\n",
       "  <tbody>\n",
       "    <tr>\n",
       "      <td>0</td>\n",
       "      <td>1.568860</td>\n",
       "      <td>1.305940</td>\n",
       "      <td>0.570823</td>\n",
       "      <td>3.691157</td>\n",
       "      <td>05:56</td>\n",
       "    </tr>\n",
       "    <tr>\n",
       "      <td>1</td>\n",
       "      <td>1.395447</td>\n",
       "      <td>1.193493</td>\n",
       "      <td>0.601357</td>\n",
       "      <td>3.298582</td>\n",
       "      <td>05:54</td>\n",
       "    </tr>\n",
       "    <tr>\n",
       "      <td>2</td>\n",
       "      <td>1.273953</td>\n",
       "      <td>1.067229</td>\n",
       "      <td>0.662426</td>\n",
       "      <td>2.907312</td>\n",
       "      <td>05:54</td>\n",
       "    </tr>\n",
       "  </tbody>\n",
       "</table>"
      ],
      "text/plain": [
       "<IPython.core.display.HTML object>"
      ]
     },
     "metadata": {},
     "output_type": "display_data"
    }
   ],
   "source": [
    "learn.fit_one_cycle(3, 3e-2)"
   ]
  },
  {
   "cell_type": "markdown",
   "metadata": {},
   "source": [
    "Next, we want to use regex to clean some unwanted data. Perhaps we could leave the newline attached, or change it into space if it's not that important. This could be tuned. However, other things we might consider removing them that doesn't really contribute directly to training, such as line separator. \n",
    "\n",
    "Here the cleaning is included for some symbols that one sees manually. It's unknown whether there are additional symbols that're present that we don't want to delete. Note we use \"delete\" (re.sub) rather than \"keep\" (re.match, etc). They have their own advantage: \n",
    "- If we use \"keep\": we keep what we want. What we're unsure is whether there are things that we want to keep but we aren't aware of. \n",
    "- If we use \"delete\": we delete only what we see. What we aren't sure is whether there are things we want to delete but we aren't aware of. \n",
    "\n",
    "So they have their own advantage and their disadvantages. Choose as you please. "
   ]
  },
  {
   "cell_type": "code",
   "execution_count": 20,
   "metadata": {},
   "outputs": [],
   "source": [
    "import re\n",
    "\n",
    "def clean_data(text, include_newline=True):\n",
    "    text = re.sub(\"[<>\\t]\", \" \", text)\n",
    "    text = re.sub(r'[A-Za-z0-9]+@[A-Za-z0-9.]+', text)  # replace away emails.\n",
    "    if include_newline: text = re.sub(\"\\n\", \" \", text)\n",
    "\n",
    "    # This may not require? \n",
    "    text = text.split(\"\\'\")  # .replace(\"\\\\\", \"\") doesn't work. \n",
    "    text = \"'\".join(text)\n",
    "    return text"
   ]
  },
  {
   "cell_type": "code",
   "execution_count": 21,
   "metadata": {},
   "outputs": [
    {
     "data": {
      "application/vnd.jupyter.widget-view+json": {
       "model_id": "f33a528c70b04671811e090f3031d29d",
       "version_major": 2,
       "version_minor": 0
      },
      "text/plain": [
       "  0%|          | 0/11794 [00:00<?, ?it/s]"
      ]
     },
     "metadata": {},
     "output_type": "display_data"
    }
   ],
   "source": [
    "from tqdm.notebook import tqdm\n",
    "\n",
    "new_xs_subbed = np.array([clean_data(x, False) for x in tqdm(new_xs)])\n",
    "# new_y is unchanged. "
   ]
  },
  {
   "cell_type": "code",
   "execution_count": 22,
   "metadata": {},
   "outputs": [
    {
     "data": {
      "text/html": [],
      "text/plain": [
       "<IPython.core.display.HTML object>"
      ]
     },
     "metadata": {},
     "output_type": "display_data"
    },
    {
     "name": "stderr",
     "output_type": "stream",
     "text": [
      "/anaconda/envs/fastai/lib/python3.8/site-packages/numpy/core/_asarray.py:102: VisibleDeprecationWarning: Creating an ndarray from ragged nested sequences (which is a list-or-tuple of lists-or-tuples-or ndarrays with different lengths or shapes) is deprecated. If you meant to do this, you must specify 'dtype=object' when creating the ndarray.\n",
      "  return array(a, dtype, copy=False, order=order)\n"
     ]
    },
    {
     "data": {
      "text/html": [
       "<table border=\"1\" class=\"dataframe\">\n",
       "  <thead>\n",
       "    <tr style=\"text-align: right;\">\n",
       "      <th></th>\n",
       "      <th>text</th>\n",
       "      <th>category</th>\n",
       "    </tr>\n",
       "  </thead>\n",
       "  <tbody>\n",
       "    <tr>\n",
       "      <th>0</th>\n",
       "      <td>xxbos xxmaj try this one on for size . xxmaj i 'd rather not post her name , but if you \\n email me , xxmaj i 'll tell you who she is . xxmaj enjoy ! \\n\\n begin 640 xxunk \\n xxup xxunk # ! ! 0 ( , ! xxunk ! +8 [ p ( xxunk \\n xxup xxunk # xxunk \\ # xxup xxunk ] xxunk [ # xxup xxunk \\ xxup i8 \\n xxup xxunk - xxunk # ; xxunk : xxunk xxrep 3 ( xxunk \\n m \\ &lt; / xxup xxunk \\ _ xxunk &lt; xxunk / % \\ _ / e \\ xxup xxunk ? # xxunk \\n xxup m3 = xxunk &amp; / $ _ &amp; , xxunk / + xxunk ( xxrep 3 g % r. / [ ] xxunk \\ \\ xxunk \\ \\n xxup xxunk / , xxunk =</td>\n",
       "      <td>2</td>\n",
       "    </tr>\n",
       "    <tr>\n",
       "      <th>1</th>\n",
       "      <td>xxbos xxrep 12 - xxmaj part 2 of 14 xxrep 12 - \\n xxup m0 . / xxup xxunk / xxup cbn / xxup xxunk / xxup xxunk , xxunk , n- [ \\n xxup xxunk \\ _ -8 \\n xxup my _ / xxup sys * / xxup xxunk \\ xxup xxunk &gt; / xxup c^ &gt; / xxup cx_s \\ xxup xxunk _ / xxup sc _ . / xxup xxunk _ . / xxup c _ / xxup gcx^ / xxup y _ . / \\n m \\ xxup x_scx^ / \\ _ . / xxup c _ / s \\ _ . / \\ xxup x^ / \\ xxup x^ / xxup cx_scx^ / xxup c _ . / xxup cx^ / \\ xxup x^ / xxup c _ . / xxup cx^ / xxup cx^ / \\n m \\ xxup xxunk _ . / \\</td>\n",
       "      <td>2</td>\n",
       "    </tr>\n",
       "  </tbody>\n",
       "</table>"
      ],
      "text/plain": [
       "<IPython.core.display.HTML object>"
      ]
     },
     "metadata": {},
     "output_type": "display_data"
    }
   ],
   "source": [
    "dls = numpy_to_pd_to_dls(new_xs, new_y)\n",
    "dls.show_batch(max_n=2)"
   ]
  },
  {
   "cell_type": "markdown",
   "metadata": {},
   "source": [
    "Actually, we haven't finish cleaning. The reason we make the `DataLoaders` first is we want to know more about the data itself. What are the data after we tokenize it using `SpacyTokenizer`? Some data have lots of `xxunk` (meanings these words aren't available in the dictionary, for whatever reasons like count less than the threshold to put into dictionary, or dictionary already reached max word (60000) specified by `SpacyTokenizer` (default value, can be changed), or other reasons) hence they're not useful. We want to delete these. With this, we can access the tokenizer using `dls.tok`, creating a tokenized text, and from there we can delete those unwanted text. We can also set a `threshold` for deletion. In this case, we use 0.3 for the moment (can be tuned further. 0.3 is just a primitive guess). \n",
    "\n",
    "Extra note: you see some other tokenization in the data. E.g. of those that are often seen: (The `xx` is just a signifier, while those characters behind it is the meaning):\n",
    "- `xxbos`: **b**eginning **o**f **s**entence. \n",
    "- `xxeos`: end of sentence. \n",
    "- `xxpad`: padding. \n",
    "- `xxmaj`: capital letter present in the next word. "
   ]
  },
  {
   "cell_type": "code",
   "execution_count": 23,
   "metadata": {},
   "outputs": [
    {
     "data": {
      "text/plain": [
       "(#40184) ['xxunk','xxpad','xxbos','xxeos','xxfld','xxrep','xxwrep','xxup','xxmaj','\\n'...]"
      ]
     },
     "execution_count": 23,
     "metadata": {},
     "output_type": "execute_result"
    }
   ],
   "source": [
    "L(dls.vocab[0])"
   ]
  },
  {
   "cell_type": "markdown",
   "metadata": {},
   "source": [
    "`L` is a fastai's object. We pass through it because it has the ability to not print everything (unlike Python's list which does that and it's annoying). \n",
    "\n",
    "Now, we want to do something we called `stoi` (string to int). We know that the data are arranged such that the position of the vocab corresponds to the actual tokenization. See that in the code below for an example. (`itos` means int to string). "
   ]
  },
  {
   "cell_type": "code",
   "execution_count": 24,
   "metadata": {},
   "outputs": [],
   "source": [
    "def itos(vocab, word, join=False, ignore_pad=False): \n",
    "    import fastai\n",
    "    if not isinstance(vocab, np.ndarray): vocab = np.array(vocab)\n",
    "    if type(word) in [tuple, fastai.text.data.TensorText]: \n",
    "        word = np.array(word)\n",
    "    word = vocab[word]\n",
    "    if ignore_pad: word = word[word != \"xxpad\"]\n",
    "    if join: return \" \".join(word)\n",
    "\n",
    "    return word"
   ]
  },
  {
   "cell_type": "code",
   "execution_count": 25,
   "metadata": {},
   "outputs": [
    {
     "data": {
      "text/plain": [
       "(TensorText([    2,    18,  1703,    94,    14,   120,    32,    74,   208,   909,\n",
       "            13,    33,  2114,    15,    18,    50,    47,     9,   117,    52,\n",
       "            28,    49,   762,    46,    36,    51,    12,    18,    37,   230,\n",
       "           435,    14,   198,    23,     9,   107,    13,   682,   184,    20,\n",
       "            11,   444,  2460,     0,    23,   107,    16,   182,     9,    59,\n",
       "            66,    39,     8, 10143,     8,  4152,    12,     8,    53,   128,\n",
       "            14,   387,    23,    31,   123,    47,     9,   117,    71,    31,\n",
       "            93,   402,    15,  1939,   118,    13,   699,    11,   182,    12,\n",
       "             9,     8,    51,    28,  7279,    43,    31,   123,    47,   290,\n",
       "           110,   147,    14,    16,  1017,    13,   699,     9,   215,    59]),\n",
       " \"xxbos i ran out of time on my last reply to this string and i do n't \\n know if it was sent or not but . i have never heard of anyone that \\n had to return something in the 30 grace xxunk that had a problem \\n at all with xxmaj midwest xxmaj micro . xxmaj they may of thought that you did n't \\n know what you were doing and suggested how to correct the problem . \\n xxmaj but it sounded as you did n't give them much of a chance to correct \\n things at\")"
      ]
     },
     "execution_count": 25,
     "metadata": {},
     "output_type": "execute_result"
    }
   ],
   "source": [
    "example_partial_sentence = dls.train_ds[0][0][:100]\n",
    "example_partial_sentence, itos(dls.vocab[0], example_partial_sentence, True)"
   ]
  },
  {
   "cell_type": "code",
   "execution_count": 26,
   "metadata": {},
   "outputs": [],
   "source": [
    "new_vocab = {key: index for index, key in enumerate(dls.vocab[0])}"
   ]
  },
  {
   "cell_type": "code",
   "execution_count": 27,
   "metadata": {},
   "outputs": [
    {
     "data": {
      "text/plain": [
       "0"
      ]
     },
     "execution_count": 27,
     "metadata": {},
     "output_type": "execute_result"
    }
   ],
   "source": [
    "new_vocab[\"xxunk\"]"
   ]
  },
  {
   "cell_type": "markdown",
   "metadata": {},
   "source": [
    "But if we use stoi to convert it back, we requires to use `np.where` with each single word, which is very slow. Instead, a key-value dictionary pair speeds up searching, so we need to convert our vocab to such type first (inside our `stoi` for general function). "
   ]
  },
  {
   "cell_type": "code",
   "execution_count": 28,
   "metadata": {},
   "outputs": [],
   "source": [
    "def stoi(vocab, word):\n",
    "    \"\"\"\n",
    "    If single word, we will convert it to list. \n",
    "    If not single word str, it will make it a list. \n",
    "    Then we want the type to be correct, else we raise error. \n",
    "    \"\"\"\n",
    "    import fastcore\n",
    "\n",
    "    # Convert array to dict for vocab, if it is\n",
    "    if type(vocab) in [np.ndarray, list, fastcore.foundation.L]:\n",
    "        vocab = {key: index for index, key in enumerate(vocab)}\n",
    "\n",
    "    # type checks and do stoi. \n",
    "    if isinstance(word, str): word = word.split(\" \")  # convert to list\n",
    "    if type(word) in [list, tuple, np.ndarray, fastcore.foundation.L]:\n",
    "        m = np.zeros((len(word), )).astype(np.uint8)\n",
    "        for k in range(len(word)):\n",
    "            try: m[k] = vocab[word[k]]\n",
    "            except KeyError: m[k] = 0  # xxunk assigned, word not in dict. \n",
    "        return m\n",
    "    else: raise NotImplementedError(f\"{type(word)} not implemented\")"
   ]
  },
  {
   "cell_type": "code",
   "execution_count": 29,
   "metadata": {},
   "outputs": [
    {
     "name": "stdout",
     "output_type": "stream",
     "text": [
      "2.03 µs ± 9.52 ns per loop (mean ± std. dev. of 7 runs, 100000 loops each)\n"
     ]
    }
   ],
   "source": [
    "%timeit stoi(new_vocab, \"xxunk\")"
   ]
  },
  {
   "cell_type": "markdown",
   "metadata": {},
   "source": [
    "Now we can think about creating a tokenized df. WE have a function in fastai for this, where we can pass in the df to tokenize, and the column, and then the tokenizer `dls.tok`. "
   ]
  },
  {
   "cell_type": "code",
   "execution_count": 30,
   "metadata": {},
   "outputs": [
    {
     "data": {
      "text/html": [],
      "text/plain": [
       "<IPython.core.display.HTML object>"
      ]
     },
     "metadata": {},
     "output_type": "display_data"
    },
    {
     "name": "stderr",
     "output_type": "stream",
     "text": [
      "/anaconda/envs/fastai/lib/python3.8/site-packages/numpy/core/_asarray.py:102: VisibleDeprecationWarning: Creating an ndarray from ragged nested sequences (which is a list-or-tuple of lists-or-tuples-or ndarrays with different lengths or shapes) is deprecated. If you meant to do this, you must specify 'dtype=object' when creating the ndarray.\n",
      "  return array(a, dtype, copy=False, order=order)\n"
     ]
    }
   ],
   "source": [
    "df_new_subbed = pd.DataFrame([new_xs_subbed, new_y]).T\n",
    "df_new_subbed.columns = [\"text\", \"category\"]\n",
    "\n",
    "df_new_toked = tokenize_df(df_new_subbed, \"text\", n_workers=os.cpu_count(),\n",
    "                    tok=dls.tok)[0]"
   ]
  },
  {
   "cell_type": "markdown",
   "metadata": {},
   "source": [
    "We take number 0 output, which is the pandas DataFrame we want. Number 1 output is the Counter which contains how many total counts for each occurrence of words, which we don't need. "
   ]
  },
  {
   "cell_type": "code",
   "execution_count": 31,
   "metadata": {},
   "outputs": [
    {
     "data": {
      "text/html": [
       "<div>\n",
       "<style scoped>\n",
       "    .dataframe tbody tr th:only-of-type {\n",
       "        vertical-align: middle;\n",
       "    }\n",
       "\n",
       "    .dataframe tbody tr th {\n",
       "        vertical-align: top;\n",
       "    }\n",
       "\n",
       "    .dataframe thead th {\n",
       "        text-align: right;\n",
       "    }\n",
       "</style>\n",
       "<table border=\"1\" class=\"dataframe\">\n",
       "  <thead>\n",
       "    <tr style=\"text-align: right;\">\n",
       "      <th></th>\n",
       "      <th>category</th>\n",
       "      <th>text</th>\n",
       "      <th>text_length</th>\n",
       "    </tr>\n",
       "  </thead>\n",
       "  <tbody>\n",
       "    <tr>\n",
       "      <th>0</th>\n",
       "      <td>10</td>\n",
       "      <td>[xxbos, i, am, sure, some, bashers, of, xxmaj, pens, fans, are, pretty, confused, about, the, lack, \\n, of, any, kind, of, posts, about, the, recent, xxmaj, pens, massacre, of, the, xxmaj, devils, ., xxmaj, actually, ,, \\n, i, am, bit, puzzled, too, and, a, bit, relieved, ., xxmaj, however, ,, i, am, going, to, put, an, end, \\n, to, non, -, pittsburghers, ', relief, with, a, bit, of, praise, for, the, xxmaj, pens, ., xxmaj, man, ,, they, \\n, are, killing, those, xxmaj, devils, worse, than, i, thought, ., xxmaj, jagr, just, showed, you, why, \\n, he, is, much, better, ...]</td>\n",
       "      <td>179</td>\n",
       "    </tr>\n",
       "    <tr>\n",
       "      <th>1</th>\n",
       "      <td>3</td>\n",
       "      <td>[xxbos, xxmaj, my, brother, is, in, the, market, for, a, high, -, performance, video, card, that, supports, \\n, xxup, vesa, local, bus, with, 1, -, 2, mb, xxup, ram, ., xxmaj, does, anyone, have, suggestions, /, ideas, on, :, \\n\\n▁, -, xxmaj, diamond, xxmaj, stealth, xxmaj, pro, xxmaj, local, xxmaj, bus, \\n\\n▁, -, xxmaj, orchid, xxmaj, farenheit, 1280, \\n\\n▁, -, xxup, ati, xxmaj, graphics, xxmaj, ultra, xxmaj, pro, \\n\\n▁, -, xxmaj, any, other, high, -, performance, xxup, vlb, card, \\n\\n\\n, xxmaj, please, post, or, email, ., xxmaj, thank, you, !, \\n\\n▁, -, xxmaj, matt]</td>\n",
       "      <td>94</td>\n",
       "    </tr>\n",
       "  </tbody>\n",
       "</table>\n",
       "</div>"
      ],
      "text/plain": [
       "  category  \\\n",
       "0       10   \n",
       "1        3   \n",
       "\n",
       "                                                                                                                                                                                                                                                                                                                                                                                                                                                                                                                                                                                                text  \\\n",
       "0  [xxbos, i, am, sure, some, bashers, of, xxmaj, pens, fans, are, pretty, confused, about, the, lack, \\n, of, any, kind, of, posts, about, the, recent, xxmaj, pens, massacre, of, the, xxmaj, devils, ., xxmaj, actually, ,, \\n, i, am, bit, puzzled, too, and, a, bit, relieved, ., xxmaj, however, ,, i, am, going, to, put, an, end, \\n, to, non, -, pittsburghers, ', relief, with, a, bit, of, praise, for, the, xxmaj, pens, ., xxmaj, man, ,, they, \\n, are, killing, those, xxmaj, devils, worse, than, i, thought, ., xxmaj, jagr, just, showed, you, why, \\n, he, is, much, better, ...]   \n",
       "1     [xxbos, xxmaj, my, brother, is, in, the, market, for, a, high, -, performance, video, card, that, supports, \\n, xxup, vesa, local, bus, with, 1, -, 2, mb, xxup, ram, ., xxmaj, does, anyone, have, suggestions, /, ideas, on, :, \\n\\n▁, -, xxmaj, diamond, xxmaj, stealth, xxmaj, pro, xxmaj, local, xxmaj, bus, \\n\\n▁, -, xxmaj, orchid, xxmaj, farenheit, 1280, \\n\\n▁, -, xxup, ati, xxmaj, graphics, xxmaj, ultra, xxmaj, pro, \\n\\n▁, -, xxmaj, any, other, high, -, performance, xxup, vlb, card, \\n\\n\\n, xxmaj, please, post, or, email, ., xxmaj, thank, you, !, \\n\\n▁, -, xxmaj, matt]   \n",
       "\n",
       "   text_length  \n",
       "0          179  \n",
       "1           94  "
      ]
     },
     "execution_count": 31,
     "metadata": {},
     "output_type": "execute_result"
    }
   ],
   "source": [
    "df_new_toked.head(2)"
   ]
  },
  {
   "cell_type": "markdown",
   "metadata": {},
   "source": [
    "Note that here we even have `text_length` which could be used instead to threshold the number of words we want for our sentence. However, this length includes all the special tokens (that starts with `xx`), but you can still use it as threshold irregardless, if you want to. We won't be doing that here. "
   ]
  },
  {
   "cell_type": "code",
   "execution_count": 32,
   "metadata": {},
   "outputs": [
    {
     "data": {
      "application/vnd.jupyter.widget-view+json": {
       "model_id": "e64d00600ed743cf9fad8c61030300cb",
       "version_major": 2,
       "version_minor": 0
      },
      "text/plain": [
       "  0%|          | 0/11794 [00:00<?, ?it/s]"
      ]
     },
     "metadata": {},
     "output_type": "display_data"
    }
   ],
   "source": [
    "choice = np.zeros((len(df_new_toked), )).astype(np.float32)\n",
    "loop_over = df_new_toked[\"text\"].to_numpy()\n",
    "\n",
    "for k, data in enumerate(tqdm(loop_over)):\n",
    "    g = stoi(new_vocab, data)\n",
    "    choice[k] = (g == 0).sum() / len(g)"
   ]
  },
  {
   "cell_type": "markdown",
   "metadata": {},
   "source": [
    "Actually before we use the dictionary, this thing takes more than 5 minutes to complete just to tokenize. Now looks how long it takes! "
   ]
  },
  {
   "cell_type": "code",
   "execution_count": 33,
   "metadata": {},
   "outputs": [
    {
     "data": {
      "text/plain": [
       "6"
      ]
     },
     "execution_count": 33,
     "metadata": {},
     "output_type": "execute_result"
    }
   ],
   "source": [
    "(choice >= 0.3).sum()   # Threshold 30% xxunk have 15 occurrences."
   ]
  },
  {
   "cell_type": "markdown",
   "metadata": {},
   "source": [
    "Let's look at one of these. "
   ]
  },
  {
   "cell_type": "code",
   "execution_count": 34,
   "metadata": {},
   "outputs": [
    {
     "data": {
      "text/html": [
       "<div>\n",
       "<style scoped>\n",
       "    .dataframe tbody tr th:only-of-type {\n",
       "        vertical-align: middle;\n",
       "    }\n",
       "\n",
       "    .dataframe tbody tr th {\n",
       "        vertical-align: top;\n",
       "    }\n",
       "\n",
       "    .dataframe thead th {\n",
       "        text-align: right;\n",
       "    }\n",
       "</style>\n",
       "<table border=\"1\" class=\"dataframe\">\n",
       "  <thead>\n",
       "    <tr style=\"text-align: right;\">\n",
       "      <th></th>\n",
       "      <th>text</th>\n",
       "      <th>category</th>\n",
       "    </tr>\n",
       "  </thead>\n",
       "  <tbody>\n",
       "    <tr>\n",
       "      <th>1723</th>\n",
       "      <td>From: Center for Policy Research cpr\\nSubject: Poem by Erich Fried \\n\\n\\nPoem by German-Jewish poet Erich Fried (Holocaust survivor)\\n\\nEin Jude an die zionistischen Kaempfer - 1988\\n\\n    von Erich Fried\\n\\nWas wollt ihr eigentlich ?  Wollt ihr wirklich die uebertreffen\\ndie euch niedergetreten haben vor einem Menschenalter in euer\\neigenes Blut und in euren eigenen Kot ?\\n\\n \\n\\nWollt ihr die alten Foltern jetzt an andere weitergeben mit allen\\nblutigen dreckigen Einzelheiten mit allem brutalen Genuss die\\nFolterknechte wie unsere Vaeter sie damals erlitten haben ?\\n\\n       \\n\\nWollt je...</td>\n",
       "      <td>17</td>\n",
       "    </tr>\n",
       "    <tr>\n",
       "      <th>5431</th>\n",
       "      <td>Here is the price list for the week April 6 to April 12.\\n\\n- Andrew\\n\\nBuySellPtsTeamPlayer\\n157.5141.8150PITMario_Lemieux\\n152.1136.9143BUFPat_LaFontaine\\n139.3125.4131BOSAdam_Oates\\n133.8120.4129DETSteve_Yzerman\\n132.9119.6125WPGTeemu_Selanne\\n132.9119.6125TORDoug_Gilmour\\n130.9117.8120NYIPierre_Turgeon\\n129.7116.7122BUFAlexander_Mogilny\\n126.0113.4117PHIMark_Recchi\\n120.2108.2113LALuc_Robitaille\\n115.9104.3109QUEMats_Sundin\\n111.3100.2106PITKevin_Stevens\\n108.597.7102STLCraig_Janney\\n108.597.7102VANPavel_Bure\\n106.395.7100CHIJeremy_Roenick\\n105.394.899QUEJoe_Sakic\\n104.093.699PITRick_T...</td>\n",
       "      <td>10</td>\n",
       "    </tr>\n",
       "    <tr>\n",
       "      <th>8270</th>\n",
       "      <td>Here is the price list for the week April 13 to April 19.\\n\\n- Andrew\\n\\nBuySellPtsTeamPlayer\\n158.9143.0157PITMario_Lemieux\\n148.5133.7145BUFPat_LaFontaine\\n142.7128.4141BOSAdam_Oates\\n137.6123.8136DETSteve_Yzerman\\n132.1118.9129WPGTeemu_Selanne\\n131.7118.5127NYIPierre_Turgeon\\n130.1117.1127TORDoug_Gilmour\\n126.0113.4123BUFAlexander_Mogilny\\n123.4111.1119PHIMark_Recchi\\n121.9109.7119LALuc_Robitaille\\n113.3102.0112QUEMats_Sundin\\n111.3100.2110PITKevin_Stevens\\n110.699.5108VANPavel_Bure\\n108.697.7106STLCraig_Janney\\n108.397.5107PITRick_Tocchet\\n107.696.8105CHIJeremy_Roenick\\n105.394.8104QUE...</td>\n",
       "      <td>10</td>\n",
       "    </tr>\n",
       "    <tr>\n",
       "      <th>8348</th>\n",
       "      <td>Here are the final point totals for players chosen in the USENET Hockey Draft.\\nNote that only 114 players scored more than 55 points (the minimum cost)\\nalthough 254 different players were chosen.\\n\\n- Andrew\\n\\nPointsTeamPlayer\\n160PITMario_Lemieux\\n148BUFPat_LaFontaine\\n142BOSAdam_Oates\\n137DETSteve_Yzerman\\n132WPGTeemu_Selanne\\n132NYIPierre_Turgeon\\n127BUFAlexander_Mogilny\\n127TORDoug_Gilmour\\n125LALuc_Robitaille\\n123PHIMark_Recchi\\n114QUEMats_Sundin\\n111PITKevin_Stevens\\n110VANPavel_Bure\\n109PITRick_Tocchet\\n107CHIJeremy_Roenick\\n106STLCraig_Janney\\n105QUEJoe_Sakic\\n102BOSJoe_Juneau\\n...</td>\n",
       "      <td>10</td>\n",
       "    </tr>\n",
       "    <tr>\n",
       "      <th>9288</th>\n",
       "      <td>\\n\\n\\nSource: A. Alper Gazigiray, \"Osmanlilardan Gunumuze Kadar Vesikalarla \\n        Ermeni Teroru'nun Kaynaklari,\" Gozen Kitabevi, Istanbul, 1982.\\n\\npp. 267-268.\\n\\n\"Van'dan sonra ilk isyan Sebinkarahisar'da basladi. 1915 senesi 5 \\n haziran da, Sivasli Murat [Hamparsum Boyaciyan - sa] denilen bir \\n caninin emri altinda 500 kadar cete Sebinkarahisari basti. Burasi o \\n zaman en onemli askeri bir yerdi. Erzurum bolgesinde Rus ordusu ile \\n savasan Osmanli Ordularinin butun ikmal araclari buradan gecmekte idi. \\n Ermeniler boyle onemli bir yer isgal ettikleri takdirde Turk \\n ordularinin...</td>\n",
       "      <td>17</td>\n",
       "    </tr>\n",
       "    <tr>\n",
       "      <th>11042</th>\n",
       "      <td>NATIONAL HOCKEY LEAGUE \\n                                 92-93 SEASON\\n\\n                            HOME ATTENDANCE REPORT\\n\\n Each Qtr. represents 10 home games,   Qtr. 4 will have 11 home games.\\n Neutral site games are not included.  S/O indicates the number of sell-outs.\\n\\nTeam\\nName   Qtr. 1   S/O  Qtr. 2   S/O  Qtr. 3   S/O  Qtr. 4   S/O   Totals   Average\\n================================================================================\\nBOS    140,573   5   142,694   7   142,768   6   152,468   8    578,503   14,109\\nBUF    144,701   0   148,516   3   152,133   5   168,878   4  ...</td>\n",
       "      <td>10</td>\n",
       "    </tr>\n",
       "  </tbody>\n",
       "</table>\n",
       "</div>"
      ],
      "text/plain": [
       "                                                                                                                                                                                                                                                                                                                                                                                                                                                                                                                                                                                                                          text  \\\n",
       "1723   From: Center for Policy Research cpr\\nSubject: Poem by Erich Fried \\n\\n\\nPoem by German-Jewish poet Erich Fried (Holocaust survivor)\\n\\nEin Jude an die zionistischen Kaempfer - 1988\\n\\n    von Erich Fried\\n\\nWas wollt ihr eigentlich ?  Wollt ihr wirklich die uebertreffen\\ndie euch niedergetreten haben vor einem Menschenalter in euer\\neigenes Blut und in euren eigenen Kot ?\\n\\n \\n\\nWollt ihr die alten Foltern jetzt an andere weitergeben mit allen\\nblutigen dreckigen Einzelheiten mit allem brutalen Genuss die\\nFolterknechte wie unsere Vaeter sie damals erlitten haben ?\\n\\n       \\n\\nWollt je...   \n",
       "5431   Here is the price list for the week April 6 to April 12.\\n\\n- Andrew\\n\\nBuySellPtsTeamPlayer\\n157.5141.8150PITMario_Lemieux\\n152.1136.9143BUFPat_LaFontaine\\n139.3125.4131BOSAdam_Oates\\n133.8120.4129DETSteve_Yzerman\\n132.9119.6125WPGTeemu_Selanne\\n132.9119.6125TORDoug_Gilmour\\n130.9117.8120NYIPierre_Turgeon\\n129.7116.7122BUFAlexander_Mogilny\\n126.0113.4117PHIMark_Recchi\\n120.2108.2113LALuc_Robitaille\\n115.9104.3109QUEMats_Sundin\\n111.3100.2106PITKevin_Stevens\\n108.597.7102STLCraig_Janney\\n108.597.7102VANPavel_Bure\\n106.395.7100CHIJeremy_Roenick\\n105.394.899QUEJoe_Sakic\\n104.093.699PITRick_T...   \n",
       "8270   Here is the price list for the week April 13 to April 19.\\n\\n- Andrew\\n\\nBuySellPtsTeamPlayer\\n158.9143.0157PITMario_Lemieux\\n148.5133.7145BUFPat_LaFontaine\\n142.7128.4141BOSAdam_Oates\\n137.6123.8136DETSteve_Yzerman\\n132.1118.9129WPGTeemu_Selanne\\n131.7118.5127NYIPierre_Turgeon\\n130.1117.1127TORDoug_Gilmour\\n126.0113.4123BUFAlexander_Mogilny\\n123.4111.1119PHIMark_Recchi\\n121.9109.7119LALuc_Robitaille\\n113.3102.0112QUEMats_Sundin\\n111.3100.2110PITKevin_Stevens\\n110.699.5108VANPavel_Bure\\n108.697.7106STLCraig_Janney\\n108.397.5107PITRick_Tocchet\\n107.696.8105CHIJeremy_Roenick\\n105.394.8104QUE...   \n",
       "8348   Here are the final point totals for players chosen in the USENET Hockey Draft.\\nNote that only 114 players scored more than 55 points (the minimum cost)\\nalthough 254 different players were chosen.\\n\\n- Andrew\\n\\nPointsTeamPlayer\\n160PITMario_Lemieux\\n148BUFPat_LaFontaine\\n142BOSAdam_Oates\\n137DETSteve_Yzerman\\n132WPGTeemu_Selanne\\n132NYIPierre_Turgeon\\n127BUFAlexander_Mogilny\\n127TORDoug_Gilmour\\n125LALuc_Robitaille\\n123PHIMark_Recchi\\n114QUEMats_Sundin\\n111PITKevin_Stevens\\n110VANPavel_Bure\\n109PITRick_Tocchet\\n107CHIJeremy_Roenick\\n106STLCraig_Janney\\n105QUEJoe_Sakic\\n102BOSJoe_Juneau\\n...   \n",
       "9288   \\n\\n\\nSource: A. Alper Gazigiray, \"Osmanlilardan Gunumuze Kadar Vesikalarla \\n        Ermeni Teroru'nun Kaynaklari,\" Gozen Kitabevi, Istanbul, 1982.\\n\\npp. 267-268.\\n\\n\"Van'dan sonra ilk isyan Sebinkarahisar'da basladi. 1915 senesi 5 \\n haziran da, Sivasli Murat [Hamparsum Boyaciyan - sa] denilen bir \\n caninin emri altinda 500 kadar cete Sebinkarahisari basti. Burasi o \\n zaman en onemli askeri bir yerdi. Erzurum bolgesinde Rus ordusu ile \\n savasan Osmanli Ordularinin butun ikmal araclari buradan gecmekte idi. \\n Ermeniler boyle onemli bir yer isgal ettikleri takdirde Turk \\n ordularinin...   \n",
       "11042   NATIONAL HOCKEY LEAGUE \\n                                 92-93 SEASON\\n\\n                            HOME ATTENDANCE REPORT\\n\\n Each Qtr. represents 10 home games,   Qtr. 4 will have 11 home games.\\n Neutral site games are not included.  S/O indicates the number of sell-outs.\\n\\nTeam\\nName   Qtr. 1   S/O  Qtr. 2   S/O  Qtr. 3   S/O  Qtr. 4   S/O   Totals   Average\\n================================================================================\\nBOS    140,573   5   142,694   7   142,768   6   152,468   8    578,503   14,109\\nBUF    144,701   0   148,516   3   152,133   5   168,878   4  ...   \n",
       "\n",
       "      category  \n",
       "1723        17  \n",
       "5431        10  \n",
       "8270        10  \n",
       "8348        10  \n",
       "9288        17  \n",
       "11042       10  "
      ]
     },
     "execution_count": 34,
     "metadata": {},
     "output_type": "execute_result"
    }
   ],
   "source": [
    "df_new_subbed[choice >= 0.3]"
   ]
  },
  {
   "cell_type": "markdown",
   "metadata": {},
   "source": [
    "We have German reports, which just isn't english. Some contains sequences of numbers (and a lot of them) which aren't tokenized as english. We have some that are illegible (not even understandable what it means), and we have some that are specialized for the specific that looks more like representation of position (like the NATIONAL HOCKEY LEAGUE) (8368). Certainly these are the ones we want to remove. "
   ]
  },
  {
   "cell_type": "code",
   "execution_count": 35,
   "metadata": {},
   "outputs": [
    {
     "data": {
      "text/plain": [
       "35"
      ]
     },
     "execution_count": 35,
     "metadata": {},
     "output_type": "execute_result"
    }
   ],
   "source": [
    "(choice >= 0.2).sum()  # how much of threshold 20% xxunk? "
   ]
  },
  {
   "cell_type": "markdown",
   "metadata": {},
   "source": [
    "Then, we need to remove these data, based on our threshold (you can tune this). Make sure you take those **less than** threshold, don't take the wrong subset. "
   ]
  },
  {
   "cell_type": "code",
   "execution_count": 36,
   "metadata": {},
   "outputs": [],
   "source": [
    "threshold_del = 0.25\n",
    "thres = choice < threshold_del\n",
    "xs_subbed_deleted = new_xs_subbed[thres]\n",
    "y_subbed_deleted = new_y[thres]"
   ]
  },
  {
   "cell_type": "code",
   "execution_count": 37,
   "metadata": {},
   "outputs": [],
   "source": [
    "np.save(\"choice\", choice)"
   ]
  },
  {
   "cell_type": "markdown",
   "metadata": {},
   "source": [
    "Note that we have two choice now: whether to create a data based on new vocabulary or without using new vocabulary. Here, one chose to create new vocabulary, but you could equally choose not to. "
   ]
  },
  {
   "cell_type": "code",
   "execution_count": 38,
   "metadata": {},
   "outputs": [],
   "source": [
    "clear_cache(True)"
   ]
  },
  {
   "cell_type": "code",
   "execution_count": 39,
   "metadata": {},
   "outputs": [
    {
     "data": {
      "text/html": [],
      "text/plain": [
       "<IPython.core.display.HTML object>"
      ]
     },
     "metadata": {},
     "output_type": "display_data"
    },
    {
     "name": "stderr",
     "output_type": "stream",
     "text": [
      "/anaconda/envs/fastai/lib/python3.8/site-packages/numpy/core/_asarray.py:102: VisibleDeprecationWarning: Creating an ndarray from ragged nested sequences (which is a list-or-tuple of lists-or-tuples-or ndarrays with different lengths or shapes) is deprecated. If you meant to do this, you must specify 'dtype=object' when creating the ndarray.\n",
      "  return array(a, dtype, copy=False, order=order)\n"
     ]
    }
   ],
   "source": [
    "dls = numpy_to_pd_to_dls(xs_subbed_deleted, y_subbed_deleted)"
   ]
  },
  {
   "cell_type": "code",
   "execution_count": 40,
   "metadata": {},
   "outputs": [],
   "source": [
    "def num_xxunk(xs, y, dls):\n",
    "    df_new_subbed = pd.DataFrame([xs, y]).T\n",
    "    df_new_subbed.columns = [\"text\", \"category\"]\n",
    "\n",
    "    df_new_toked = tokenize_df(df_new_subbed, \"text\", n_workers=os.cpu_count(),\n",
    "                        tok=dls.tok)[0]\n",
    "\n",
    "    choice = np.zeros((len(df_new_toked), )).astype(np.float32)\n",
    "    loop_over = df_new_toked[\"text\"].to_numpy()\n",
    "\n",
    "    for k, data in enumerate(tqdm(loop_over)):\n",
    "        g = stoi(new_vocab, data)\n",
    "        choice[k] = (g == 0).sum() / len(g)\n",
    "\n",
    "    del df_new_subbed, df_new_toked, loop_over\n",
    "    clear_cache()\n",
    "    return choice"
   ]
  },
  {
   "cell_type": "code",
   "execution_count": 41,
   "metadata": {},
   "outputs": [
    {
     "name": "stdout",
     "output_type": "stream",
     "text": [
      "Threshold 0.3:  0\n",
      "Threshold 0.2:  13\n"
     ]
    }
   ],
   "source": [
    "from IPython.display import clear_output\n",
    "choice = num_xxunk(xs_subbed_deleted, y_subbed_deleted, dls)\n",
    "clear_output()\n",
    "print(\"Threshold 0.3: \", (choice >= 0.3).sum())\n",
    "print(\"Threshold 0.2: \", (choice >= 0.2).sum())"
   ]
  },
  {
   "cell_type": "markdown",
   "metadata": {},
   "source": [
    "With that looking okay, it seems like creating from new still creates a (somewhat similar set of words) vocabulary, that's why we don't have high xxunk anymore (though the vocab might not be totally similar depending on their mappings though, but the words might be the same). \n",
    "\n",
    "We can now create a `Learner` to do classification and see how it works. \n",
    "\n",
    "## Note\n",
    "We are doing data cleaning in this notebook, not model training. So the model training tricks will not be used here. We are just wanting to see how things goes. "
   ]
  },
  {
   "cell_type": "code",
   "execution_count": 42,
   "metadata": {},
   "outputs": [
    {
     "data": {
      "text/html": [],
      "text/plain": [
       "<IPython.core.display.HTML object>"
      ]
     },
     "metadata": {},
     "output_type": "display_data"
    },
    {
     "name": "stderr",
     "output_type": "stream",
     "text": [
      "/anaconda/envs/fastai/lib/python3.8/site-packages/fastai/callback/schedule.py:269: UserWarning: color is redundantly defined by the 'color' keyword argument and the fmt string \"ro\" (-> color='r'). The keyword argument will take precedence.\n",
      "  ax.plot(val, idx, 'ro', label=nm, c=color)\n"
     ]
    },
    {
     "data": {
      "text/plain": [
       "SuggestedLRs(valley=0.0014454397605732083)"
      ]
     },
     "execution_count": 42,
     "metadata": {},
     "output_type": "execute_result"
    },
    {
     "data": {
      "image/png": "[encoded data removed]",
      "text/plain": [
       "<Figure size 432x288 with 1 Axes>"
      ]
     },
     "metadata": {
      "needs_background": "light"
     },
     "output_type": "display_data"
    }
   ],
   "source": [
    "learn = text_classifier_learner(dls, AWD_LSTM, metrics=[accuracy, Perplexity()],\n",
    "                wd=0.1, drop_mult=0.3, pretrained=True).to_fp16()\n",
    "learn.lr_find()"
   ]
  },
  {
   "cell_type": "code",
   "execution_count": 43,
   "metadata": {},
   "outputs": [
    {
     "data": {
      "text/html": [
       "<table border=\"1\" class=\"dataframe\">\n",
       "  <thead>\n",
       "    <tr style=\"text-align: left;\">\n",
       "      <th>epoch</th>\n",
       "      <th>train_loss</th>\n",
       "      <th>valid_loss</th>\n",
       "      <th>accuracy</th>\n",
       "      <th>perplexity</th>\n",
       "      <th>time</th>\n",
       "    </tr>\n",
       "  </thead>\n",
       "  <tbody>\n",
       "    <tr>\n",
       "      <td>0</td>\n",
       "      <td>1.596319</td>\n",
       "      <td>1.336622</td>\n",
       "      <td>0.556500</td>\n",
       "      <td>3.806166</td>\n",
       "      <td>05:29</td>\n",
       "    </tr>\n",
       "    <tr>\n",
       "      <td>1</td>\n",
       "      <td>1.366293</td>\n",
       "      <td>1.175974</td>\n",
       "      <td>0.613424</td>\n",
       "      <td>3.241299</td>\n",
       "      <td>05:30</td>\n",
       "    </tr>\n",
       "    <tr>\n",
       "      <td>2</td>\n",
       "      <td>1.238036</td>\n",
       "      <td>1.085009</td>\n",
       "      <td>0.638063</td>\n",
       "      <td>2.959466</td>\n",
       "      <td>05:27</td>\n",
       "    </tr>\n",
       "  </tbody>\n",
       "</table>"
      ],
      "text/plain": [
       "<IPython.core.display.HTML object>"
      ]
     },
     "metadata": {},
     "output_type": "display_data"
    }
   ],
   "source": [
    "learn.fit_one_cycle(3, 3e-2)"
   ]
  },
  {
   "cell_type": "markdown",
   "metadata": {},
   "source": [
    "What can be tried: perhaps cleaning set `include_newline=False`. \n",
    "\n",
    "Starting accuracy is better than baseline. Ending accuracy isn't too much difference (slightly worse) (mostly due to the nature of model and randomness?). Anyway, we can say this is successful cleaning. "
   ]
  },
  {
   "cell_type": "code",
   "execution_count": null,
   "metadata": {},
   "outputs": [],
   "source": []
  }
 ],
 "metadata": {
  "interpreter": {
   "hash": "4b0643101043d44332c97f08722999715e3a8fa1d34470aacaa5a755be91c349"
  },
  "kernelspec": {
   "display_name": "Python 3.8.11 64-bit ('fastai': conda)",
   "language": "python",
   "name": "python3"
  },
  "language_info": {
   "codemirror_mode": {
    "name": "ipython",
    "version": 3
   },
   "file_extension": ".py",
   "mimetype": "text/x-python",
   "name": "python",
   "nbconvert_exporter": "python",
   "pygments_lexer": "ipython3",
   "version": "3.8.11"
  },
  "orig_nbformat": 4
 },
 "nbformat": 4,
 "nbformat_minor": 2
}
