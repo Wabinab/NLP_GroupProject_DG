{
 "cells": [
  {
   "cell_type": "code",
   "execution_count": 1,
   "metadata": {},
   "outputs": [],
   "source": [
    "%load_ext autoreload\n",
    "%autoreload 2"
   ]
  },
  {
   "cell_type": "markdown",
   "metadata": {},
   "source": [
    "# EDA\n",
    "We will go through EDA with the help of [this notebook](https://www.kaggle.com/gunesevitan/nlp-with-disaster-tweets-eda-cleaning-and-bert/notebook) from Kaggle, by [Gunes Evitan](https://www.kaggle.com/gunesevitan)"
   ]
  },
  {
   "cell_type": "code",
   "execution_count": 2,
   "metadata": {},
   "outputs": [],
   "source": [
    "from sklearn.datasets import fetch_20newsgroups\n",
    "all_xs, all_y = fetch_20newsgroups(subset=\"all\", remove=('headers', 'footers', 'quotes'),\n",
    "                    shuffle=True, return_X_y=True)"
   ]
  },
  {
   "cell_type": "code",
   "execution_count": 3,
   "metadata": {},
   "outputs": [
    {
     "data": {
      "text/plain": [
       "18846"
      ]
     },
     "execution_count": 3,
     "metadata": {},
     "output_type": "execute_result"
    }
   ],
   "source": [
    "len(all_xs)"
   ]
  },
  {
   "cell_type": "code",
   "execution_count": 4,
   "metadata": {},
   "outputs": [],
   "source": [
    "import matplotlib.pyplot as plt\n",
    "import numpy as np\n",
    "import os\n",
    "import pandas as pd\n",
    "import seaborn as sns\n",
    "from pathlib import Path\n",
    "from fastai.text.all import *\n",
    "\n",
    "plt.rcParams[\"figure.dpi\"] = 100"
   ]
  },
  {
   "cell_type": "code",
   "execution_count": 5,
   "metadata": {},
   "outputs": [],
   "source": [
    "import sys\n",
    "# NOTE: you NEED to change PATH yourself manually, for now. \n",
    "path = Path(\"/home/fastai2/notebooks/DataGlacier\")  \n",
    "sys.path.append(str(path/\"NLP_GroupProject_DG/python_files\"))"
   ]
  },
  {
   "cell_type": "code",
   "execution_count": 6,
   "metadata": {},
   "outputs": [],
   "source": [
    "from nlputils import split_data, stoi"
   ]
  },
  {
   "cell_type": "code",
   "execution_count": 7,
   "metadata": {},
   "outputs": [
    {
     "data": {
      "text/html": [
       "<div>\n",
       "<style scoped>\n",
       "    .dataframe tbody tr th:only-of-type {\n",
       "        vertical-align: middle;\n",
       "    }\n",
       "\n",
       "    .dataframe tbody tr th {\n",
       "        vertical-align: top;\n",
       "    }\n",
       "\n",
       "    .dataframe thead th {\n",
       "        text-align: right;\n",
       "    }\n",
       "</style>\n",
       "<table border=\"1\" class=\"dataframe\">\n",
       "  <thead>\n",
       "    <tr style=\"text-align: right;\">\n",
       "      <th></th>\n",
       "      <th>text</th>\n",
       "      <th>category</th>\n",
       "    </tr>\n",
       "  </thead>\n",
       "  <tbody>\n",
       "    <tr>\n",
       "      <th>0</th>\n",
       "      <td>\\n\\nI am sure some bashers of Pens fans are pretty confused about the lack\\nof any kind of posts about the recent Pens massacre of the Devils. Actually,\\nI am  bit puzzled too and a bit relieved. However, I am going to put an end\\nto non-PIttsburghers' relief with a bit of praise for the Pens. Man, they\\nare killing those Devils worse than I thought. Jagr just showed you why\\nhe is much better than his regular season stats. He is also a lot\\nfo fun to watch in the playoffs. Bowman should let JAgr have a lot of\\nfun in the next couple of games since the Pens are going to beat the pulp out o...</td>\n",
       "      <td>10</td>\n",
       "    </tr>\n",
       "    <tr>\n",
       "      <th>1</th>\n",
       "      <td>My brother is in the market for a high-performance video card that supports\\nVESA local bus with 1-2MB RAM.  Does anyone have suggestions/ideas on:\\n\\n  - Diamond Stealth Pro Local Bus\\n\\n  - Orchid Farenheit 1280\\n\\n  - ATI Graphics Ultra Pro\\n\\n  - Any other high-performance VLB card\\n\\n\\nPlease post or email.  Thank you!\\n\\n  - Matt\\n</td>\n",
       "      <td>3</td>\n",
       "    </tr>\n",
       "  </tbody>\n",
       "</table>\n",
       "</div>"
      ],
      "text/plain": [
       "                                                                                                                                                                                                                                                                                                                                                                                                                                                                                                                                                                                                                      text  \\\n",
       "0  \\n\\nI am sure some bashers of Pens fans are pretty confused about the lack\\nof any kind of posts about the recent Pens massacre of the Devils. Actually,\\nI am  bit puzzled too and a bit relieved. However, I am going to put an end\\nto non-PIttsburghers' relief with a bit of praise for the Pens. Man, they\\nare killing those Devils worse than I thought. Jagr just showed you why\\nhe is much better than his regular season stats. He is also a lot\\nfo fun to watch in the playoffs. Bowman should let JAgr have a lot of\\nfun in the next couple of games since the Pens are going to beat the pulp out o...   \n",
       "1                                                                                                                                                                                                                                                                      My brother is in the market for a high-performance video card that supports\\nVESA local bus with 1-2MB RAM.  Does anyone have suggestions/ideas on:\\n\\n  - Diamond Stealth Pro Local Bus\\n\\n  - Orchid Farenheit 1280\\n\\n  - ATI Graphics Ultra Pro\\n\\n  - Any other high-performance VLB card\\n\\n\\nPlease post or email.  Thank you!\\n\\n  - Matt\\n   \n",
       "\n",
       "  category  \n",
       "0       10  \n",
       "1        3  "
      ]
     },
     "execution_count": 7,
     "metadata": {},
     "output_type": "execute_result"
    }
   ],
   "source": [
    "# We'll do some further cleaning later on. \n",
    "df = pd.DataFrame([all_xs, all_y]).T\n",
    "df.columns = [\"text\", \"category\"]\n",
    "df.head(2)"
   ]
  },
  {
   "cell_type": "markdown",
   "metadata": {},
   "source": [
    "## Cleaning out for non-useful data\n",
    "These are the ones that are one-off. E.g. they contains pure coordinates, pure programming code, pure german language, etc. Previously we did this and saved the data, but only if we choose those data with sentence higher than threshold then we can use that here. Since we're using the full data here, we shall do the cleaning again. We shall build the `DataLoaders` from original code, to imitate the originals as close as possible. "
   ]
  },
  {
   "cell_type": "code",
   "execution_count": 8,
   "metadata": {},
   "outputs": [],
   "source": [
    "sl = 72  # seq_len\n",
    "\n",
    "try: tok = load_pickle(\"tok.pkl\")\n",
    "except Exception:\n",
    "    dls = DataBlock(\n",
    "        blocks=(TextBlock.from_df(\"text\", seq_len=sl, tok=SpacyTokenizer(\"en\")),\n",
    "                CategoryBlock),\n",
    "        get_x=ColReader(\"text\"), get_y=ColReader(\"category\"),\n",
    "        splitter=RandomSplitter(0.1)\n",
    "    ).dataloaders(df, bs=32, num_workers=os.cpu_count(), seq_len=sl)\n",
    "\n",
    "    save_pickle(\"tok.pkl\", dls.tok)\n",
    "    tok = dls.tok"
   ]
  },
  {
   "cell_type": "code",
   "execution_count": 9,
   "metadata": {},
   "outputs": [
    {
     "data": {
      "text/html": [],
      "text/plain": [
       "<IPython.core.display.HTML object>"
      ]
     },
     "metadata": {},
     "output_type": "display_data"
    },
    {
     "name": "stderr",
     "output_type": "stream",
     "text": [
      "/anaconda/envs/fastai/lib/python3.8/site-packages/numpy/core/_asarray.py:102: VisibleDeprecationWarning: Creating an ndarray from ragged nested sequences (which is a list-or-tuple of lists-or-tuples-or ndarrays with different lengths or shapes) is deprecated. If you meant to do this, you must specify 'dtype=object' when creating the ndarray.\n",
      "  return array(a, dtype, copy=False, order=order)\n"
     ]
    },
    {
     "data": {
      "text/html": [
       "<div>\n",
       "<style scoped>\n",
       "    .dataframe tbody tr th:only-of-type {\n",
       "        vertical-align: middle;\n",
       "    }\n",
       "\n",
       "    .dataframe tbody tr th {\n",
       "        vertical-align: top;\n",
       "    }\n",
       "\n",
       "    .dataframe thead th {\n",
       "        text-align: right;\n",
       "    }\n",
       "</style>\n",
       "<table border=\"1\" class=\"dataframe\">\n",
       "  <thead>\n",
       "    <tr style=\"text-align: right;\">\n",
       "      <th></th>\n",
       "      <th>category</th>\n",
       "      <th>text</th>\n",
       "      <th>text_length</th>\n",
       "    </tr>\n",
       "  </thead>\n",
       "  <tbody>\n",
       "    <tr>\n",
       "      <th>0</th>\n",
       "      <td>10</td>\n",
       "      <td>[xxbos, i, am, sure, some, bashers, of, xxmaj, pens, fans, are, pretty, confused, about, the, lack, \\n, of, any, kind, of, posts, about, the, recent, xxmaj, pens, massacre, of, the, xxmaj, devils, ., xxmaj, actually, ,, \\n, i, am, bit, puzzled, too, and, a, bit, relieved, ., xxmaj, however, ,, i, am, going, to, put, an, end, \\n, to, non, -, pittsburghers, ', relief, with, a, bit, of, praise, for, the, xxmaj, pens, ., xxmaj, man, ,, they, \\n, are, killing, those, xxmaj, devils, worse, than, i, thought, ., xxmaj, jagr, just, showed, you, why, \\n, he, is, much, better, ...]</td>\n",
       "      <td>179</td>\n",
       "    </tr>\n",
       "    <tr>\n",
       "      <th>1</th>\n",
       "      <td>3</td>\n",
       "      <td>[xxbos, xxmaj, my, brother, is, in, the, market, for, a, high, -, performance, video, card, that, supports, \\n, xxup, vesa, local, bus, with, 1, -, 2, mb, xxup, ram, ., xxmaj, does, anyone, have, suggestions, /, ideas, on, :, \\n\\n▁, -, xxmaj, diamond, xxmaj, stealth, xxmaj, pro, xxmaj, local, xxmaj, bus, \\n\\n▁, -, xxmaj, orchid, xxmaj, farenheit, 1280, \\n\\n▁, -, xxup, ati, xxmaj, graphics, xxmaj, ultra, xxmaj, pro, \\n\\n▁, -, xxmaj, any, other, high, -, performance, xxup, vlb, card, \\n\\n\\n, xxmaj, please, post, or, email, ., xxmaj, thank, you, !, \\n\\n▁, -, xxmaj, matt]</td>\n",
       "      <td>94</td>\n",
       "    </tr>\n",
       "  </tbody>\n",
       "</table>\n",
       "</div>"
      ],
      "text/plain": [
       "  category  \\\n",
       "0       10   \n",
       "1        3   \n",
       "\n",
       "                                                                                                                                                                                                                                                                                                                                                                                                                                                                                                                                                                                                text  \\\n",
       "0  [xxbos, i, am, sure, some, bashers, of, xxmaj, pens, fans, are, pretty, confused, about, the, lack, \\n, of, any, kind, of, posts, about, the, recent, xxmaj, pens, massacre, of, the, xxmaj, devils, ., xxmaj, actually, ,, \\n, i, am, bit, puzzled, too, and, a, bit, relieved, ., xxmaj, however, ,, i, am, going, to, put, an, end, \\n, to, non, -, pittsburghers, ', relief, with, a, bit, of, praise, for, the, xxmaj, pens, ., xxmaj, man, ,, they, \\n, are, killing, those, xxmaj, devils, worse, than, i, thought, ., xxmaj, jagr, just, showed, you, why, \\n, he, is, much, better, ...]   \n",
       "1     [xxbos, xxmaj, my, brother, is, in, the, market, for, a, high, -, performance, video, card, that, supports, \\n, xxup, vesa, local, bus, with, 1, -, 2, mb, xxup, ram, ., xxmaj, does, anyone, have, suggestions, /, ideas, on, :, \\n\\n▁, -, xxmaj, diamond, xxmaj, stealth, xxmaj, pro, xxmaj, local, xxmaj, bus, \\n\\n▁, -, xxmaj, orchid, xxmaj, farenheit, 1280, \\n\\n▁, -, xxup, ati, xxmaj, graphics, xxmaj, ultra, xxmaj, pro, \\n\\n▁, -, xxmaj, any, other, high, -, performance, xxup, vlb, card, \\n\\n\\n, xxmaj, please, post, or, email, ., xxmaj, thank, you, !, \\n\\n▁, -, xxmaj, matt]   \n",
       "\n",
       "   text_length  \n",
       "0          179  \n",
       "1           94  "
      ]
     },
     "execution_count": 9,
     "metadata": {},
     "output_type": "execute_result"
    }
   ],
   "source": [
    "df_tok, unique_words = tokenize_df(df, \"text\", tok=tok)\n",
    "df_tok[[\"category\", \"text\", \"text_length\"]].head(2)"
   ]
  },
  {
   "cell_type": "code",
   "execution_count": 10,
   "metadata": {},
   "outputs": [],
   "source": [
    "try: choice = np.load(\"choice.npy\")\n",
    "except Exception:\n",
    "    choice = np.zeros((len(df_tok), )).astype(np.float32)\n",
    "    loop_over = df_tok[\"text\"].to_numpy()\n",
    "\n",
    "    vocab = dls.vocab[0]\n",
    "    for k, data in enumerate(tqdm(loop_over)):\n",
    "        x = stoi(vocab, data)\n",
    "\n",
    "        # Total number of xxunk / total number of words. \n",
    "        choice[k] = (x == 0).sum() / len(x)\n",
    "\n",
    "    del loop_over, vocab, x, data\n",
    "    gc.collect()\n",
    "    np.save(\"choice\", choice)"
   ]
  },
  {
   "cell_type": "code",
   "execution_count": 11,
   "metadata": {},
   "outputs": [],
   "source": [
    "del_thres = choice < 0.25\n",
    "df = df[del_thres].reset_index(level=0, drop=True)\n",
    "df_tok = df_tok[del_thres].reset_index(level=0, drop=True)"
   ]
  },
  {
   "cell_type": "code",
   "execution_count": 12,
   "metadata": {},
   "outputs": [
    {
     "data": {
      "text/plain": [
       "18794"
      ]
     },
     "execution_count": 12,
     "metadata": {},
     "output_type": "execute_result"
    }
   ],
   "source": [
    "len(df)"
   ]
  },
  {
   "cell_type": "markdown",
   "metadata": {},
   "source": [
    "Parallel compute using joblib threads takes: 3 min 07 sec.  \n",
    "Singular compute using for-loop takes: 2 min 38.8 sec. \n",
    "\n",
    "### Let's continue with data analysis"
   ]
  },
  {
   "cell_type": "code",
   "execution_count": 13,
   "metadata": {},
   "outputs": [
    {
     "data": {
      "text/html": [
       "<div>\n",
       "<style scoped>\n",
       "    .dataframe tbody tr th:only-of-type {\n",
       "        vertical-align: middle;\n",
       "    }\n",
       "\n",
       "    .dataframe tbody tr th {\n",
       "        vertical-align: top;\n",
       "    }\n",
       "\n",
       "    .dataframe thead th {\n",
       "        text-align: right;\n",
       "    }\n",
       "</style>\n",
       "<table border=\"1\" class=\"dataframe\">\n",
       "  <thead>\n",
       "    <tr style=\"text-align: right;\">\n",
       "      <th></th>\n",
       "      <th>text</th>\n",
       "      <th>category</th>\n",
       "    </tr>\n",
       "  </thead>\n",
       "  <tbody>\n",
       "    <tr>\n",
       "      <th>0</th>\n",
       "      <td>\\n\\nI am sure some bashers of Pens fans are pretty confused about the lack\\nof any kind of posts about the recent Pens massacre of the Devils. Actually,\\nI am  bit puzzled too and a bit relieved. However, I am going to put an end\\nto non-PIttsburghers' relief with a bit of praise for the Pens. Man, they\\nare killing those Devils worse than I thought. Jagr just showed you why\\nhe is much better than his regular season stats. He is also a lot\\nfo fun to watch in the playoffs. Bowman should let JAgr have a lot of\\nfun in the next couple of games since the Pens are going to beat the pulp out o...</td>\n",
       "      <td>10</td>\n",
       "    </tr>\n",
       "    <tr>\n",
       "      <th>7</th>\n",
       "      <td>\\n[stuff deleted]\\n\\nOk, here's the solution to your problem.  Move to Canada.  Yesterday I was able\\nto watch FOUR games...the NJ-PITT at 1:00 on ABC, LA-CAL at 3:00 (CBC), \\nBUFF-BOS at 7:00 (TSN and FOX), and MON-QUE at 7:30 (CBC).  I think that if\\neach series goes its max I could be watching hockey playoffs for 40-some odd\\nconsecutive nights (I haven't counted so that's a pure guess).\\n\\nI have two tv's in my house, and I set them up side-by-side to watch MON-QUE\\nand keep an eye on BOS-BUFF at the same time.  I did the same for the two\\nafternoon games.\\n\\nBtw, those ABC commentater...</td>\n",
       "      <td>10</td>\n",
       "    </tr>\n",
       "  </tbody>\n",
       "</table>\n",
       "</div>"
      ],
      "text/plain": [
       "                                                                                                                                                                                                                                                                                                                                                                                                                                                                                                                                                                                                                      text  \\\n",
       "0  \\n\\nI am sure some bashers of Pens fans are pretty confused about the lack\\nof any kind of posts about the recent Pens massacre of the Devils. Actually,\\nI am  bit puzzled too and a bit relieved. However, I am going to put an end\\nto non-PIttsburghers' relief with a bit of praise for the Pens. Man, they\\nare killing those Devils worse than I thought. Jagr just showed you why\\nhe is much better than his regular season stats. He is also a lot\\nfo fun to watch in the playoffs. Bowman should let JAgr have a lot of\\nfun in the next couple of games since the Pens are going to beat the pulp out o...   \n",
       "7  \\n[stuff deleted]\\n\\nOk, here's the solution to your problem.  Move to Canada.  Yesterday I was able\\nto watch FOUR games...the NJ-PITT at 1:00 on ABC, LA-CAL at 3:00 (CBC), \\nBUFF-BOS at 7:00 (TSN and FOX), and MON-QUE at 7:30 (CBC).  I think that if\\neach series goes its max I could be watching hockey playoffs for 40-some odd\\nconsecutive nights (I haven't counted so that's a pure guess).\\n\\nI have two tv's in my house, and I set them up side-by-side to watch MON-QUE\\nand keep an eye on BOS-BUFF at the same time.  I did the same for the two\\nafternoon games.\\n\\nBtw, those ABC commentater...   \n",
       "\n",
       "  category  \n",
       "0       10  \n",
       "7       10  "
      ]
     },
     "execution_count": 13,
     "metadata": {},
     "output_type": "execute_result"
    }
   ],
   "source": [
    "df[df.category == 10].head(2)"
   ]
  },
  {
   "cell_type": "markdown",
   "metadata": {},
   "source": [
    "Line numbers count and \"potentially\" word count."
   ]
  },
  {
   "cell_type": "code",
   "execution_count": 14,
   "metadata": {},
   "outputs": [
    {
     "name": "stdout",
     "output_type": "stream",
     "text": [
      "CPU times: user 361 ms, sys: 4.02 ms, total: 365 ms\n",
      "Wall time: 364 ms\n"
     ]
    }
   ],
   "source": [
    "%%time\n",
    "df[\"word_count\"] = df[\"text\"].apply(lambda x: len(str(x).split()))\n",
    "df[\"line_count\"] = df[\"text\"].apply(lambda x: len(split_data(str(x))))"
   ]
  },
  {
   "cell_type": "code",
   "execution_count": 15,
   "metadata": {},
   "outputs": [
    {
     "data": {
      "text/html": [
       "<div>\n",
       "<style scoped>\n",
       "    .dataframe tbody tr th:only-of-type {\n",
       "        vertical-align: middle;\n",
       "    }\n",
       "\n",
       "    .dataframe tbody tr th {\n",
       "        vertical-align: top;\n",
       "    }\n",
       "\n",
       "    .dataframe thead th {\n",
       "        text-align: right;\n",
       "    }\n",
       "</style>\n",
       "<table border=\"1\" class=\"dataframe\">\n",
       "  <thead>\n",
       "    <tr style=\"text-align: right;\">\n",
       "      <th></th>\n",
       "      <th>text</th>\n",
       "      <th>category</th>\n",
       "      <th>word_count</th>\n",
       "      <th>line_count</th>\n",
       "    </tr>\n",
       "  </thead>\n",
       "  <tbody>\n",
       "    <tr>\n",
       "      <th>0</th>\n",
       "      <td>\\n\\nI am sure some bashers of Pens fans are pretty confused about the lack\\nof any kind of posts about the recent Pens massacre of the Devils. Actually,\\nI am  bit puzzled too and a bit relieved. However, I am going to put an end\\nto non-PIttsburghers' relief with a bit of praise for the Pens. Man, they\\nare killing those Devils worse than I thought. Jagr just showed you why\\nhe is much better than his regular season stats. He is also a lot\\nfo fun to watch in the playoffs. Bowman should let JAgr have a lot of\\nfun in the next couple of games since the Pens are going to beat the pulp out o...</td>\n",
       "      <td>10</td>\n",
       "      <td>137</td>\n",
       "      <td>9</td>\n",
       "    </tr>\n",
       "    <tr>\n",
       "      <th>1</th>\n",
       "      <td>My brother is in the market for a high-performance video card that supports\\nVESA local bus with 1-2MB RAM.  Does anyone have suggestions/ideas on:\\n\\n  - Diamond Stealth Pro Local Bus\\n\\n  - Orchid Farenheit 1280\\n\\n  - ATI Graphics Ultra Pro\\n\\n  - Any other high-performance VLB card\\n\\n\\nPlease post or email.  Thank you!\\n\\n  - Matt\\n</td>\n",
       "      <td>3</td>\n",
       "      <td>53</td>\n",
       "      <td>8</td>\n",
       "    </tr>\n",
       "    <tr>\n",
       "      <th>2</th>\n",
       "      <td>\\n\\n\\n\\n\\tFinally you said what you dream about. Mediterranean???? That was new....\\n\\tThe area will be \"greater\" after some years, like your \"holocaust\" numbers......\\n\\n\\n\\n\\n\\t\\t*****\\n\\tIs't July in USA now????? Here in Sweden it's April and still cold.\\n\\tOr have you changed your calendar???\\n\\n\\n\\t\\t\\t\\t\\t\\t    ****************\\n\\t\\t\\t\\t\\t\\t    ******************\\n\\t\\t\\t    ***************\\n\\n\\n\\tNOTHING OF THE MENTIONED IS TRUE, BUT LET SAY IT's TRUE.\\n\\t\\n\\tSHALL THE AZERI WOMEN AND CHILDREN GOING TO PAY THE PRICE WITH\\n\\t\\t\\t\\t\\t\\t    **************\\n\\tBEING RAPED, KILLED AND TORT...</td>\n",
       "      <td>17</td>\n",
       "      <td>241</td>\n",
       "      <td>38</td>\n",
       "    </tr>\n",
       "    <tr>\n",
       "      <th>3</th>\n",
       "      <td>\\nThink!\\n\\nIt's the SCSI card doing the DMA transfers NOT the disks...\\n\\nThe SCSI card can do DMA transfers containing data from any of the SCSI devices\\nit is attached when it wants to.\\n\\nAn important feature of SCSI is the ability to detach a device. This frees the\\nSCSI bus for other devices. This is typically used in a multi-tasking OS to\\nstart transfers on several devices. While each device is seeking the data the\\nbus is free for other commands and data transfers. When the devices are\\nready to transfer the data they can aquire the bus and send the data.\\n\\nOn an IDE bus when you...</td>\n",
       "      <td>3</td>\n",
       "      <td>144</td>\n",
       "      <td>12</td>\n",
       "    </tr>\n",
       "    <tr>\n",
       "      <th>4</th>\n",
       "      <td>1)    I have an old Jasmine drive which I cannot use with my new system.\\n My understanding is that I have to upsate the driver with a more modern\\none in order to gain compatability with system 7.0.1.  does anyone know\\nof an inexpensive program to do this?  ( I have seen formatters for &lt;$20\\nbuit have no idea if they will work)\\n \\n2)     I have another ancient device, this one a tape drive for which\\nthe back utility freezes the system if I try to use it.  THe drive is a\\njasmine direct tape (bought used for $150 w/ 6 tapes, techmar\\nmechanism).  Essentially I have the same question as ...</td>\n",
       "      <td>4</td>\n",
       "      <td>125</td>\n",
       "      <td>11</td>\n",
       "    </tr>\n",
       "  </tbody>\n",
       "</table>\n",
       "</div>"
      ],
      "text/plain": [
       "                                                                                                                                                                                                                                                                                                                                                                                                                                                                                                                                                                                                                      text  \\\n",
       "0  \\n\\nI am sure some bashers of Pens fans are pretty confused about the lack\\nof any kind of posts about the recent Pens massacre of the Devils. Actually,\\nI am  bit puzzled too and a bit relieved. However, I am going to put an end\\nto non-PIttsburghers' relief with a bit of praise for the Pens. Man, they\\nare killing those Devils worse than I thought. Jagr just showed you why\\nhe is much better than his regular season stats. He is also a lot\\nfo fun to watch in the playoffs. Bowman should let JAgr have a lot of\\nfun in the next couple of games since the Pens are going to beat the pulp out o...   \n",
       "1                                                                                                                                                                                                                                                                      My brother is in the market for a high-performance video card that supports\\nVESA local bus with 1-2MB RAM.  Does anyone have suggestions/ideas on:\\n\\n  - Diamond Stealth Pro Local Bus\\n\\n  - Orchid Farenheit 1280\\n\\n  - ATI Graphics Ultra Pro\\n\\n  - Any other high-performance VLB card\\n\\n\\nPlease post or email.  Thank you!\\n\\n  - Matt\\n   \n",
       "2  \\n\\n\\n\\n\\tFinally you said what you dream about. Mediterranean???? That was new....\\n\\tThe area will be \"greater\" after some years, like your \"holocaust\" numbers......\\n\\n\\n\\n\\n\\t\\t*****\\n\\tIs't July in USA now????? Here in Sweden it's April and still cold.\\n\\tOr have you changed your calendar???\\n\\n\\n\\t\\t\\t\\t\\t\\t    ****************\\n\\t\\t\\t\\t\\t\\t    ******************\\n\\t\\t\\t    ***************\\n\\n\\n\\tNOTHING OF THE MENTIONED IS TRUE, BUT LET SAY IT's TRUE.\\n\\t\\n\\tSHALL THE AZERI WOMEN AND CHILDREN GOING TO PAY THE PRICE WITH\\n\\t\\t\\t\\t\\t\\t    **************\\n\\tBEING RAPED, KILLED AND TORT...   \n",
       "3  \\nThink!\\n\\nIt's the SCSI card doing the DMA transfers NOT the disks...\\n\\nThe SCSI card can do DMA transfers containing data from any of the SCSI devices\\nit is attached when it wants to.\\n\\nAn important feature of SCSI is the ability to detach a device. This frees the\\nSCSI bus for other devices. This is typically used in a multi-tasking OS to\\nstart transfers on several devices. While each device is seeking the data the\\nbus is free for other commands and data transfers. When the devices are\\nready to transfer the data they can aquire the bus and send the data.\\n\\nOn an IDE bus when you...   \n",
       "4  1)    I have an old Jasmine drive which I cannot use with my new system.\\n My understanding is that I have to upsate the driver with a more modern\\none in order to gain compatability with system 7.0.1.  does anyone know\\nof an inexpensive program to do this?  ( I have seen formatters for <$20\\nbuit have no idea if they will work)\\n \\n2)     I have another ancient device, this one a tape drive for which\\nthe back utility freezes the system if I try to use it.  THe drive is a\\njasmine direct tape (bought used for $150 w/ 6 tapes, techmar\\nmechanism).  Essentially I have the same question as ...   \n",
       "\n",
       "  category  word_count  line_count  \n",
       "0       10         137           9  \n",
       "1        3          53           8  \n",
       "2       17         241          38  \n",
       "3        3         144          12  \n",
       "4        4         125          11  "
      ]
     },
     "execution_count": 15,
     "metadata": {},
     "output_type": "execute_result"
    }
   ],
   "source": [
    "df.head()"
   ]
  },
  {
   "cell_type": "code",
   "execution_count": 16,
   "metadata": {},
   "outputs": [
    {
     "data": {
      "text/plain": [
       "<AxesSubplot:xlabel='word_count', ylabel='Count'>"
      ]
     },
     "execution_count": 16,
     "metadata": {},
     "output_type": "execute_result"
    },
    {
     "data": {
      "image/png": "[encoded data removed]",
      "text/plain": [
       "<Figure size 600x400 with 1 Axes>"
      ]
     },
     "metadata": {
      "needs_background": "light"
     },
     "output_type": "display_data"
    }
   ],
   "source": [
    "sns.histplot(df[\"word_count\"])"
   ]
  },
  {
   "cell_type": "markdown",
   "metadata": {},
   "source": [
    "Looks like word count we have a very long tail (and very means very very very...). Most of the data are short, and perhaps they're more representative? \n",
    "\n",
    "For example, previously we take a threshold which says: *for data less than this number of lines, we discard it*. Perhaps we should have been doing the other way round: *for data more than certain number of lines, we discard it* is the better way! \n",
    "\n",
    "We have updated `threshold_subset` to include an arg called `geq` to do this. "
   ]
  },
  {
   "cell_type": "code",
   "execution_count": 17,
   "metadata": {},
   "outputs": [
    {
     "data": {
      "text/plain": [
       "<AxesSubplot:xlabel='word_count', ylabel='Count'>"
      ]
     },
     "execution_count": 17,
     "metadata": {},
     "output_type": "execute_result"
    },
    {
     "data": {
      "image/png": "[encoded data removed]",
      "text/plain": [
       "<Figure size 600x400 with 1 Axes>"
      ]
     },
     "metadata": {
      "needs_background": "light"
     },
     "output_type": "display_data"
    }
   ],
   "source": [
    "sns.histplot(df[df[\"word_count\"] < 300][\"word_count\"], bins=30)"
   ]
  },
  {
   "cell_type": "code",
   "execution_count": 18,
   "metadata": {},
   "outputs": [
    {
     "data": {
      "text/plain": [
       "<AxesSubplot:xlabel='line_count', ylabel='Count'>"
      ]
     },
     "execution_count": 18,
     "metadata": {},
     "output_type": "execute_result"
    },
    {
     "data": {
      "image/png": "[encoded data removed]",
      "text/plain": [
       "<Figure size 600x400 with 1 Axes>"
      ]
     },
     "metadata": {
      "needs_background": "light"
     },
     "output_type": "display_data"
    }
   ],
   "source": [
    "sns.histplot(df[\"line_count\"])"
   ]
  },
  {
   "cell_type": "code",
   "execution_count": 19,
   "metadata": {},
   "outputs": [
    {
     "data": {
      "text/plain": [
       "<AxesSubplot:xlabel='line_count', ylabel='Count'>"
      ]
     },
     "execution_count": 19,
     "metadata": {},
     "output_type": "execute_result"
    },
    {
     "data": {
      "image/png": "[encoded data removed]",
      "text/plain": [
       "<Figure size 600x400 with 1 Axes>"
      ]
     },
     "metadata": {
      "needs_background": "light"
     },
     "output_type": "display_data"
    }
   ],
   "source": [
    "sns.histplot(df[df.line_count < 30].line_count)"
   ]
  },
  {
   "cell_type": "markdown",
   "metadata": {},
   "source": [
    "### Food for thoughts:\n",
    "- This is NLP, not Tabular data. Do you think it's better to remove data that are outliers? \n",
    "- Do you think really most of the information are aggregated in the long articles? Or most in short articles? What are their differences? \n",
    "\n",
    "These are not something that you can visualize using graphs. Honestly to deal with them, EDA isn't the best way. There are 2 ways to do: \n",
    "- EDA: **manually** read the paragraphs yourself and determine whether they're useful or not, either by yourself, with a group, via debate, or any other means to make decisions. \n",
    "- ML: Train a model with and without certain group, and see how does the loss do. And make decisions based on loss, accuracy, or any other metrics we define to meet our needs. (Black box decision making).\n",
    "\n",
    "The latter being a faster decision maker, and more useful if you would like to optimize for better ML results making rather than understanding. "
   ]
  },
  {
   "cell_type": "markdown",
   "metadata": {},
   "source": [
    "Let us continue next and look at stop word count, and we also do unique word count. "
   ]
  },
  {
   "cell_type": "code",
   "execution_count": 20,
   "metadata": {},
   "outputs": [],
   "source": [
    "from sklearn.feature_extraction import _stop_words\n",
    "STOPWORDS = _stop_words.ENGLISH_STOP_WORDS"
   ]
  },
  {
   "cell_type": "code",
   "execution_count": 21,
   "metadata": {},
   "outputs": [],
   "source": [
    "df[\"stop_word_count\"] = df[\"text\"].apply(lambda x: len([w for w in str(x).lower().split() if w in STOPWORDS]))"
   ]
  },
  {
   "cell_type": "code",
   "execution_count": 22,
   "metadata": {},
   "outputs": [
    {
     "data": {
      "text/html": [
       "<div>\n",
       "<style scoped>\n",
       "    .dataframe tbody tr th:only-of-type {\n",
       "        vertical-align: middle;\n",
       "    }\n",
       "\n",
       "    .dataframe tbody tr th {\n",
       "        vertical-align: top;\n",
       "    }\n",
       "\n",
       "    .dataframe thead th {\n",
       "        text-align: right;\n",
       "    }\n",
       "</style>\n",
       "<table border=\"1\" class=\"dataframe\">\n",
       "  <thead>\n",
       "    <tr style=\"text-align: right;\">\n",
       "      <th></th>\n",
       "      <th>text</th>\n",
       "      <th>category</th>\n",
       "      <th>word_count</th>\n",
       "      <th>line_count</th>\n",
       "      <th>stop_word_count</th>\n",
       "    </tr>\n",
       "  </thead>\n",
       "  <tbody>\n",
       "    <tr>\n",
       "      <th>0</th>\n",
       "      <td>\\n\\nI am sure some bashers of Pens fans are pretty confused about the lack\\nof any kind of posts about the recent Pens massacre of the Devils. Actually,\\nI am  bit puzzled too and a bit relieved. However, I am going to put an end\\nto non-PIttsburghers' relief with a bit of praise for the Pens. Man, they\\nare killing those Devils worse than I thought. Jagr just showed you why\\nhe is much better than his regular season stats. He is also a lot\\nfo fun to watch in the playoffs. Bowman should let JAgr have a lot of\\nfun in the next couple of games since the Pens are going to beat the pulp out o...</td>\n",
       "      <td>10</td>\n",
       "      <td>137</td>\n",
       "      <td>9</td>\n",
       "      <td>72</td>\n",
       "    </tr>\n",
       "    <tr>\n",
       "      <th>1</th>\n",
       "      <td>My brother is in the market for a high-performance video card that supports\\nVESA local bus with 1-2MB RAM.  Does anyone have suggestions/ideas on:\\n\\n  - Diamond Stealth Pro Local Bus\\n\\n  - Orchid Farenheit 1280\\n\\n  - ATI Graphics Ultra Pro\\n\\n  - Any other high-performance VLB card\\n\\n\\nPlease post or email.  Thank you!\\n\\n  - Matt\\n</td>\n",
       "      <td>3</td>\n",
       "      <td>53</td>\n",
       "      <td>8</td>\n",
       "      <td>14</td>\n",
       "    </tr>\n",
       "  </tbody>\n",
       "</table>\n",
       "</div>"
      ],
      "text/plain": [
       "                                                                                                                                                                                                                                                                                                                                                                                                                                                                                                                                                                                                                      text  \\\n",
       "0  \\n\\nI am sure some bashers of Pens fans are pretty confused about the lack\\nof any kind of posts about the recent Pens massacre of the Devils. Actually,\\nI am  bit puzzled too and a bit relieved. However, I am going to put an end\\nto non-PIttsburghers' relief with a bit of praise for the Pens. Man, they\\nare killing those Devils worse than I thought. Jagr just showed you why\\nhe is much better than his regular season stats. He is also a lot\\nfo fun to watch in the playoffs. Bowman should let JAgr have a lot of\\nfun in the next couple of games since the Pens are going to beat the pulp out o...   \n",
       "1                                                                                                                                                                                                                                                                      My brother is in the market for a high-performance video card that supports\\nVESA local bus with 1-2MB RAM.  Does anyone have suggestions/ideas on:\\n\\n  - Diamond Stealth Pro Local Bus\\n\\n  - Orchid Farenheit 1280\\n\\n  - ATI Graphics Ultra Pro\\n\\n  - Any other high-performance VLB card\\n\\n\\nPlease post or email.  Thank you!\\n\\n  - Matt\\n   \n",
       "\n",
       "  category  word_count  line_count  stop_word_count  \n",
       "0       10         137           9               72  \n",
       "1        3          53           8               14  "
      ]
     },
     "execution_count": 22,
     "metadata": {},
     "output_type": "execute_result"
    }
   ],
   "source": [
    "df.head(2)"
   ]
  },
  {
   "cell_type": "code",
   "execution_count": 23,
   "metadata": {},
   "outputs": [
    {
     "data": {
      "text/plain": [
       "<AxesSubplot:xlabel='stop_word_count', ylabel='Count'>"
      ]
     },
     "execution_count": 23,
     "metadata": {},
     "output_type": "execute_result"
    },
    {
     "data": {
      "image/png": "[encoded data removed]",
      "text/plain": [
       "<Figure size 600x400 with 1 Axes>"
      ]
     },
     "metadata": {
      "needs_background": "light"
     },
     "output_type": "display_data"
    }
   ],
   "source": [
    "sns.histplot(df[\"stop_word_count\"])"
   ]
  },
  {
   "cell_type": "code",
   "execution_count": 24,
   "metadata": {},
   "outputs": [
    {
     "data": {
      "text/plain": [
       "<AxesSubplot:xlabel='stop_word_count', ylabel='Count'>"
      ]
     },
     "execution_count": 24,
     "metadata": {},
     "output_type": "execute_result"
    },
    {
     "data": {
      "image/png": "[encoded data removed]",
      "text/plain": [
       "<Figure size 600x400 with 1 Axes>"
      ]
     },
     "metadata": {
      "needs_background": "light"
     },
     "output_type": "display_data"
    }
   ],
   "source": [
    "sns.histplot(df[df.stop_word_count < 300].stop_word_count)"
   ]
  },
  {
   "cell_type": "markdown",
   "metadata": {},
   "source": [
    "### Stop words count / word count (ratio)"
   ]
  },
  {
   "cell_type": "code",
   "execution_count": 25,
   "metadata": {},
   "outputs": [
    {
     "name": "stdout",
     "output_type": "stream",
     "text": [
      "515\n"
     ]
    }
   ],
   "source": [
    "df[\"stop_word_ratio\"] = df.stop_word_count / df.word_count\n",
    "print((df.stop_word_ratio.isna()).sum())\n",
    "df[\"stop_word_ratio\"].fillna(0, inplace=True)"
   ]
  },
  {
   "cell_type": "code",
   "execution_count": 26,
   "metadata": {},
   "outputs": [
    {
     "name": "stdout",
     "output_type": "stream",
     "text": [
      "Median:  0.4745762711864407\n",
      "Mean:  0.443714166539526\n",
      "Std:  0.13075392883348091\n"
     ]
    }
   ],
   "source": [
    "print(\"Median: \", df.stop_word_ratio.median())\n",
    "print(\"Mean: \", df.stop_word_ratio.mean())\n",
    "print(\"Std: \", df.stop_word_ratio.std())"
   ]
  },
  {
   "cell_type": "code",
   "execution_count": 27,
   "metadata": {},
   "outputs": [
    {
     "data": {
      "text/plain": [
       "<AxesSubplot:xlabel='stop_word_ratio', ylabel='Count'>"
      ]
     },
     "execution_count": 27,
     "metadata": {},
     "output_type": "execute_result"
    },
    {
     "data": {
      "image/png": "[encoded data removed]",
      "text/plain": [
       "<Figure size 600x400 with 1 Axes>"
      ]
     },
     "metadata": {
      "needs_background": "light"
     },
     "output_type": "display_data"
    }
   ],
   "source": [
    "sns.histplot(df.stop_word_ratio)"
   ]
  },
  {
   "cell_type": "code",
   "execution_count": 28,
   "metadata": {},
   "outputs": [
    {
     "data": {
      "text/plain": [
       "2"
      ]
     },
     "execution_count": 28,
     "metadata": {},
     "output_type": "execute_result"
    }
   ],
   "source": [
    "(df[\"stop_word_ratio\"] == 1).sum()"
   ]
  },
  {
   "cell_type": "markdown",
   "metadata": {},
   "source": [
    "The only reason why we have quite high 0 is because we have 515 that have word count = 0. This means these are the \"broken articles\" that doesn't have space in between.  \n",
    "We want to see which are max, for 100 percentile. Hence, we need to round all floats to 2 decimal places first. "
   ]
  },
  {
   "cell_type": "code",
   "execution_count": 29,
   "metadata": {},
   "outputs": [
    {
     "data": {
      "text/plain": [
       "[(0.5, 1223), (0.47, 980), (0.48, 951), (0.51, 940), (0.49, 919)]"
      ]
     },
     "execution_count": 29,
     "metadata": {},
     "output_type": "execute_result"
    }
   ],
   "source": [
    "df[\"stop_word_ratio\"] = df[\"stop_word_ratio\"].apply(lambda x: round(x, 2))\n",
    "Counter(df.stop_word_ratio).most_common(5)"
   ]
  },
  {
   "cell_type": "markdown",
   "metadata": {},
   "source": [
    "Somewhat like Gaussian but more heavily weighted at the left side. It's almost impossible for the entire set of sentences to be made of stop words, but it's somewhat likely (much much more likely compared to everything being stop words, although not impossible) that there are no stop words present in the data as well. \n",
    "\n",
    "## Punctuation Count\n",
    "Let's look a bit at punctuation count. "
   ]
  },
  {
   "cell_type": "code",
   "execution_count": 30,
   "metadata": {},
   "outputs": [],
   "source": [
    "import string\n",
    "df[\"punctuation_count\"] = df[\"text\"].apply(lambda x: len([c for c in str(x)\n",
    "                                if c in string.punctuation]))"
   ]
  },
  {
   "cell_type": "code",
   "execution_count": 31,
   "metadata": {},
   "outputs": [
    {
     "data": {
      "text/plain": [
       "<AxesSubplot:xlabel='punctuation_count', ylabel='Count'>"
      ]
     },
     "execution_count": 31,
     "metadata": {},
     "output_type": "execute_result"
    },
    {
     "data": {
      "image/png": "[encoded data removed]",
      "text/plain": [
       "<Figure size 600x400 with 1 Axes>"
      ]
     },
     "metadata": {
      "needs_background": "light"
     },
     "output_type": "display_data"
    }
   ],
   "source": [
    "sns.histplot(df.punctuation_count)"
   ]
  },
  {
   "cell_type": "markdown",
   "metadata": {},
   "source": [
    "As usual that doesn't tell much. We can divide them by the number of words to get a ratio as well. "
   ]
  },
  {
   "cell_type": "code",
   "execution_count": 32,
   "metadata": {},
   "outputs": [
    {
     "name": "stdout",
     "output_type": "stream",
     "text": [
      "0\n"
     ]
    }
   ],
   "source": [
    "df[\"punctuation_ratio\"] = df.punctuation_count / df.word_count\n",
    "print((df.punctuation_count.isna()).sum())\n",
    "df[\"punctuation_ratio\"].fillna(0, inplace=True)"
   ]
  },
  {
   "cell_type": "markdown",
   "metadata": {},
   "source": [
    "So it's true that when we don't have words, we don't have punctuations. Or we would get NaNs. "
   ]
  },
  {
   "cell_type": "code",
   "execution_count": 33,
   "metadata": {},
   "outputs": [
    {
     "data": {
      "text/plain": [
       "<AxesSubplot:xlabel='punctuation_ratio', ylabel='Count'>"
      ]
     },
     "execution_count": 33,
     "metadata": {},
     "output_type": "execute_result"
    },
    {
     "data": {
      "image/png": "[encoded data removed]",
      "text/plain": [
       "<Figure size 600x400 with 1 Axes>"
      ]
     },
     "metadata": {
      "needs_background": "light"
     },
     "output_type": "display_data"
    }
   ],
   "source": [
    "sns.histplot(df.punctuation_ratio)"
   ]
  },
  {
   "cell_type": "markdown",
   "metadata": {},
   "source": [
    "There are quite a wide range (long tail), but overall it's not too many for most of the data. Perhaps those are the outliers that we'll clean away later on. We'll get back to counting stop words and punctuations after we clean the data later on at the end. "
   ]
  },
  {
   "cell_type": "code",
   "execution_count": 34,
   "metadata": {},
   "outputs": [
    {
     "data": {
      "text/plain": [
       "<AxesSubplot:xlabel='punctuation_ratio', ylabel='Count'>"
      ]
     },
     "execution_count": 34,
     "metadata": {},
     "output_type": "execute_result"
    },
    {
     "data": {
      "image/png": "[encoded data removed]",
      "text/plain": [
       "<Figure size 600x400 with 1 Axes>"
      ]
     },
     "metadata": {
      "needs_background": "light"
     },
     "output_type": "display_data"
    }
   ],
   "source": [
    "sns.histplot(df[df.punctuation_ratio <= 1].punctuation_ratio)"
   ]
  },
  {
   "cell_type": "markdown",
   "metadata": {},
   "source": [
    "### Let's look at the unique words a bit."
   ]
  },
  {
   "cell_type": "code",
   "execution_count": 35,
   "metadata": {},
   "outputs": [
    {
     "data": {
      "text/plain": [
       "[('xxmaj', 398490),\n",
       " ('\\n', 226834),\n",
       " (',', 173896),\n",
       " ('the', 173555),\n",
       " ('.', 172199),\n",
       " ('xxup', 132119),\n",
       " ('to', 86846),\n",
       " ('of', 77161),\n",
       " ('a', 70645),\n",
       " ('and', 70035),\n",
       " ('i', 56893),\n",
       " ('\\n▁', 53948),\n",
       " ('-', 52311),\n",
       " ('in', 50811),\n",
       " ('is', 49977),\n",
       " ('that', 46006),\n",
       " (')', 45216),\n",
       " ('\"', 43028),\n",
       " ('\\n\\n', 42575),\n",
       " ('(', 41654),\n",
       " ('it', 38539),\n",
       " ('/', 37311),\n",
       " (':', 34311),\n",
       " ('for', 32286),\n",
       " ('you', 30474),\n",
       " ('?', 23910),\n",
       " ('on', 23587),\n",
       " ('this', 23493),\n",
       " ('be', 21992),\n",
       " ('have', 21899),\n",
       " ('not', 21489),\n",
       " ('are', 21359),\n",
       " ('with', 20888),\n",
       " ('>', 19569),\n",
       " (\"'s\", 19335),\n",
       " ('#', 18943),\n",
       " ('xxbos', 18846),\n",
       " ('as', 18717),\n",
       " ('or', 17336),\n",
       " (\"n't\", 17085),\n",
       " (\"'\", 16991),\n",
       " ('xxrep', 16523),\n",
       " ('\\\\', 16475),\n",
       " ('was', 16377),\n",
       " ('do', 15880),\n",
       " ('if', 15746),\n",
       " ('*', 15699),\n",
       " ('but', 15531),\n",
       " ('they', 15273),\n",
       " ('from', 13555)]"
      ]
     },
     "execution_count": 35,
     "metadata": {},
     "output_type": "execute_result"
    }
   ],
   "source": [
    "unique_words.most_common(50)"
   ]
  },
  {
   "cell_type": "markdown",
   "metadata": {},
   "source": [
    "This isn't too explaining actually. But we can see some words appears quite often, but they didn't really distinguish between different categories, seriously speaking. Capital letters `xxmaj` seems to flood the articles, even more than punctuations like full stop. \n",
    "\n",
    "Also note that this counter is expired. We count it when we still have the dirty data, but now we have one pass through to clean those with lots of xxunk (threshold value 0.25). \n",
    "\n",
    "However, we may get some insights if we get the max number of counts after we split the data based on their categories. "
   ]
  },
  {
   "cell_type": "code",
   "execution_count": 36,
   "metadata": {},
   "outputs": [
    {
     "data": {
      "text/plain": [
       "(18794,)"
      ]
     },
     "execution_count": 36,
     "metadata": {},
     "output_type": "execute_result"
    }
   ],
   "source": [
    "tok_text = df_tok[\"text\"].to_numpy()\n",
    "tok_text.shape"
   ]
  },
  {
   "cell_type": "code",
   "execution_count": 37,
   "metadata": {},
   "outputs": [
    {
     "data": {
      "text/plain": [
       "[0, 1, 2, 3, 4, 5, 6, 7, 8, 9, 10, 11, 12, 13, 14, 15, 16, 17, 18, 19]"
      ]
     },
     "execution_count": 37,
     "metadata": {},
     "output_type": "execute_result"
    }
   ],
   "source": [
    "sorted(df_tok.category.unique())"
   ]
  },
  {
   "cell_type": "code",
   "execution_count": 38,
   "metadata": {},
   "outputs": [],
   "source": [
    "import gc\n",
    "from tqdm.notebook import tqdm\n",
    "from collections import Counter\n",
    "import joblib"
   ]
  },
  {
   "cell_type": "code",
   "execution_count": 39,
   "metadata": {},
   "outputs": [],
   "source": [
    "def cat_counter(df_tok):\n",
    "    \"\"\"\n",
    "    Counter of most frequent words based on category. \n",
    "    Sorted by category already. \n",
    "    \"\"\"\n",
    "    cache = []  # {}\n",
    "\n",
    "    # def inner_(cat): \n",
    "    #     counter = Counter()\n",
    "    #     temp_np = df_tok[df_tok.category == cat].text.to_numpy()\n",
    "    #     for sentence in temp_np: counter += Counter(sentence)\n",
    "    #     cache[cat] = counter\n",
    "    #     del counter, temp_np, sentence\n",
    "\n",
    "    # _ = joblib.Parallel(n_jobs=os.cpu_count(), prefer=\"threads\")(\n",
    "    #     joblib.delayed(inner_)(cat)\n",
    "    #     for cat in tqdm(range(20))\n",
    "    # )\n",
    "\n",
    "    for cat in tqdm(range(20)):  # sorted\n",
    "        counter = Counter()\n",
    "        temp_np = df_tok[df_tok.category == cat].text.to_numpy()\n",
    "        for sentence in temp_np: counter += Counter(sentence)\n",
    "        # cache[cat] = counter\n",
    "        cache.append(counter)\n",
    "        del counter, temp_np, sentence\n",
    "    gc.collect()\n",
    "    return cache"
   ]
  },
  {
   "cell_type": "code",
   "execution_count": 40,
   "metadata": {},
   "outputs": [
    {
     "data": {
      "application/vnd.jupyter.widget-view+json": {
       "model_id": "f7ffff1f44a145fdab7b9a667a5f9a71",
       "version_major": 2,
       "version_minor": 0
      },
      "text/plain": [
       "  0%|          | 0/20 [00:00<?, ?it/s]"
      ]
     },
     "metadata": {},
     "output_type": "display_data"
    }
   ],
   "source": [
    "counters = cat_counter(df_tok)"
   ]
  },
  {
   "cell_type": "code",
   "execution_count": 41,
   "metadata": {},
   "outputs": [],
   "source": [
    "import re\n",
    "from tabulate import tabulate\n",
    "from IPython.display import display, HTML"
   ]
  },
  {
   "cell_type": "code",
   "execution_count": 42,
   "metadata": {},
   "outputs": [],
   "source": [
    "def print_top_k_common(counters, k=10, return_val=False, to_be_deleted=None):\n",
    "    \"\"\"\n",
    "    Display top k words with html table. \n",
    "\n",
    "    :return_val: (bool) Whether to return result or not. Default: False. \n",
    "    :to_be_deleted: (list) What to exclude from count. Default: None\n",
    "        (so only xxmaj excluded. )\n",
    "    \"\"\"\n",
    "    r = re.compile(r'\\n+')\n",
    "    to_del = [\"xxmaj\"]\n",
    "    if to_be_deleted is None: to_be_deleted = to_del\n",
    "    else: to_be_deleted += to_del\n",
    "    # +50 to replace the ones in the line marked **. Have caveats. \n",
    "    # only works as long as you don't exhaust the below. \n",
    "    top_k = [counter.most_common(k+len(to_be_deleted)+50) for counter in counters]\n",
    "    top_k = [np.array([list(word) for word in counter])\n",
    "                for counter in top_k]\n",
    "    for i in range(len(top_k)): \n",
    "        a = top_k[i][:, 0]\n",
    "        to_be_deleted += list(set(filter(r.match, a)))  # **\n",
    "        for d in to_be_deleted: a = np.delete(a, np.where(a == d))\n",
    "        if len(a) > k: a = a[:k]\n",
    "        top_k[i] = [i] + list(a)\n",
    "        \n",
    "\n",
    "    display(HTML(tabulate(top_k, \n",
    "                    headers=[\"category\", *range(k)],\n",
    "                    tablefmt=\"html\")))\n",
    "    if return_val: return top_k"
   ]
  },
  {
   "cell_type": "code",
   "execution_count": 43,
   "metadata": {},
   "outputs": [
    {
     "data": {
      "text/html": [
       "<table>\n",
       "<thead>\n",
       "<tr><th style=\"text-align: right;\">  category</th><th>0    </th><th>1    </th><th>2                                                          </th><th>3    </th><th>4      </th><th>5       </th><th>6    </th><th>7    </th><th>8     </th><th>9     </th><th>10   </th><th>11   </th><th>12   </th><th>13      </th><th>14   </th></tr>\n",
       "</thead>\n",
       "<tbody>\n",
       "<tr><td style=\"text-align: right;\">         0</td><td>do   </td><td>&gt;    </td><td>what                                                       </td><td>an   </td><td>by     </td><td>one     </td><td>can  </td><td>so   </td><td>god   </td><td>there </td><td>your </td><td>all  </td><td>from </td><td>no      </td><td>would</td></tr>\n",
       "<tr><td style=\"text-align: right;\">         1</td><td>xxrep</td><td>image</td><td>from                                                       </td><td>can  </td><td>jpeg   </td><td>graphics</td><td>an   </td><td>do   </td><td>3     </td><td>by    </td><td>will </td><td>]    </td><td>file </td><td>there   </td><td>[    </td></tr>\n",
       "<tr><td style=\"text-align: right;\">         2</td><td>&gt;    </td><td>&lt;    </td><td>max&gt;&#x27;ax&gt;&#x27;ax&gt;&#x27;ax&gt;&#x27;ax&gt;&#x27;ax&gt;&#x27;ax&gt;&#x27;ax&gt;&#x27;ax&gt;&#x27;ax&gt;&#x27;ax&gt;&#x27;ax&gt;&#x27;ax&gt;&#x27;ax&gt;&#x27;ax</td><td>_    </td><td>windows</td><td>]       </td><td>g9v  </td><td>m    </td><td>w     </td><td>p     </td><td>$    </td><td>xxrep</td><td>t    </td><td>g)r     </td><td>do   </td></tr>\n",
       "<tr><td style=\"text-align: right;\">         3</td><td>xxrep</td><td>my   </td><td>drive                                                      </td><td>can  </td><td>do     </td><td>3       </td><td>an   </td><td>any  </td><td>from  </td><td>2     </td><td>there</td><td>card </td><td>will </td><td>one     </td><td>would</td></tr>\n",
       "<tr><td style=\"text-align: right;\">         4</td><td>can  </td><td>my   </td><td>xxrep                                                      </td><td>do   </td><td>mac    </td><td>from    </td><td>an   </td><td>apple</td><td>3     </td><td>what  </td><td>one  </td><td>would</td><td>any  </td><td>has     </td><td>there</td></tr>\n",
       "<tr><td style=\"text-align: right;\">         5</td><td>x    </td><td>xxrep</td><td>3                                                          </td><td>     </td><td>can    </td><td>an      </td><td>from </td><td>do   </td><td>by    </td><td>window</td><td>file </td><td>use  </td><td>your </td><td>&gt;       </td><td>$    </td></tr>\n",
       "<tr><td style=\"text-align: right;\">         6</td><td>$    </td><td>1    </td><td>2                                                          </td><td>xxrep</td><td>3      </td><td>all     </td><td>     </td><td>new  </td><td>4     </td><td>me    </td><td>sale </td><td>     </td><td>5    </td><td>will    </td><td>one  </td></tr>\n",
       "<tr><td style=\"text-align: right;\">         7</td><td>car  </td><td>my   </td><td>xxrep                                                      </td><td>do   </td><td>about  </td><td>3       </td><td>there</td><td>would</td><td>can   </td><td>from  </td><td>an   </td><td>all  </td><td>your </td><td>out     </td><td>so   </td></tr>\n",
       "<tr><td style=\"text-align: right;\">         8</td><td>my   </td><td>do   </td><td>bike                                                       </td><td>xxrep</td><td>your   </td><td>me      </td><td>about</td><td>one  </td><td>from  </td><td>so    </td><td>there</td><td>&gt;    </td><td>all  </td><td>would   </td><td>out  </td></tr>\n",
       "<tr><td style=\"text-align: right;\">         9</td><td>3    </td><td>xxrep</td><td>1                                                          </td><td>do   </td><td>his    </td><td>4       </td><td>0    </td><td>would</td><td>2     </td><td>year  </td><td>     </td><td>game </td><td>has  </td><td>so      </td><td>out  </td></tr>\n",
       "<tr><td style=\"text-align: right;\">        10</td><td>1    </td><td>0    </td><td>3                                                          </td><td>     </td><td>2      </td><td>4       </td><td>xxrep</td><td>5    </td><td>game  </td><td>6     </td><td>7    </td><td>team </td><td>--   </td><td>will    </td><td>25   </td></tr>\n",
       "<tr><td style=\"text-align: right;\">        11</td><td>xxrep</td><td>&gt;    </td><td>will                                                       </td><td>key  </td><td>can    </td><td>by      </td><td>do   </td><td>3    </td><td>from  </td><td>what  </td><td>would</td><td>an   </td><td>1    </td><td>0       </td><td>]    </td></tr>\n",
       "<tr><td style=\"text-align: right;\">        12</td><td>do   </td><td>can  </td><td>xxrep                                                      </td><td>an   </td><td>would  </td><td>|       </td><td>one  </td><td>&gt;    </td><td>from  </td><td>there </td><td>what </td><td>use  </td><td>will </td><td>about   </td><td>your </td></tr>\n",
       "<tr><td style=\"text-align: right;\">        13</td><td>do   </td><td>my   </td><td>by                                                         </td><td>from </td><td>can    </td><td>xxrep   </td><td>an   </td><td>there</td><td>one   </td><td>has   </td><td>about</td><td>your </td><td>some </td><td>what    </td><td>would</td></tr>\n",
       "<tr><td style=\"text-align: right;\">        14</td><td>space</td><td>from </td><td>by                                                         </td><td>would</td><td>xxrep  </td><td>3       </td><td>an   </td><td>do   </td><td>will  </td><td>there </td><td>can  </td><td>about</td><td>one  </td><td>which   </td><td>some </td></tr>\n",
       "<tr><td style=\"text-align: right;\">        15</td><td>god  </td><td>do   </td><td>by                                                         </td><td>from </td><td>who    </td><td>what    </td><td>his  </td><td>all  </td><td>there </td><td>would </td><td>can  </td><td>one  </td><td>my   </td><td>will    </td><td>about</td></tr>\n",
       "<tr><td style=\"text-align: right;\">        16</td><td>by   </td><td>do   </td><td>would                                                      </td><td>xxrep</td><td>gun    </td><td>from    </td><td>an   </td><td>what </td><td>people</td><td>all   </td><td>no   </td><td>one  </td><td>their</td><td>about   </td><td>there</td></tr>\n",
       "<tr><td style=\"text-align: right;\">        17</td><td>by   </td><td>from </td><td>there                                                      </td><td>their</td><td>]      </td><td>do      </td><td>had  </td><td>who  </td><td>all   </td><td>people</td><td>an   </td><td>what </td><td>one  </td><td>armenian</td><td>no   </td></tr>\n",
       "<tr><td style=\"text-align: right;\">        18</td><td>do   </td><td>what </td><td>--                                                         </td><td>▁    </td><td>q      </td><td>would   </td><td>there</td><td>by   </td><td>about </td><td>people</td><td>from </td><td>all  </td><td>has  </td><td>will    </td><td>no   </td></tr>\n",
       "<tr><td style=\"text-align: right;\">        19</td><td>do   </td><td>by   </td><td>god                                                        </td><td>what </td><td>from   </td><td>all     </td><td>&gt;    </td><td>your </td><td>who   </td><td>his   </td><td>my   </td><td>one  </td><td>will </td><td>there   </td><td>an   </td></tr>\n",
       "</tbody>\n",
       "</table>"
      ],
      "text/plain": [
       "<IPython.core.display.HTML object>"
      ]
     },
     "metadata": {},
     "output_type": "display_data"
    }
   ],
   "source": [
    "m = print_top_k_common(counters, 15, True, \n",
    "    to_be_deleted=\"\"\". , \" ' / # \\\\ = : - ( ) ; * ▁ to and xxup i a of the\n",
    "                    you that in xxbos is it for not ? ! … `\n",
    "                    this with have but if n't they was are as or\n",
    "                    be at on were he 's we\"\"\".split())"
   ]
  },
  {
   "cell_type": "markdown",
   "metadata": {},
   "source": [
    "You notice something like `n't` because fastai knows that a word such as `don't` should be split up (just like stemming and lemmatization) into `do` and `n't`. The contractions aren't split into full by fastai's method. "
   ]
  },
  {
   "cell_type": "code",
   "execution_count": 44,
   "metadata": {},
   "outputs": [
    {
     "data": {
      "text/plain": [
       "[10,\n",
       " '1',\n",
       " '0',\n",
       " '3',\n",
       " '\\t',\n",
       " '2',\n",
       " '4',\n",
       " 'xxrep',\n",
       " '5',\n",
       " 'game',\n",
       " '6',\n",
       " '7',\n",
       " 'team',\n",
       " '--',\n",
       " 'will',\n",
       " '25']"
      ]
     },
     "execution_count": 44,
     "metadata": {},
     "output_type": "execute_result"
    }
   ],
   "source": [
    "m[10]"
   ]
  },
  {
   "cell_type": "markdown",
   "metadata": {},
   "source": [
    "And category 10 seems to have quite a few numbers inside. One wonders what category 10 represents that it uses quite some numbers. OR it may be due to that kind of data that's dirty (there're data we see before during data cleaning that contains lots of coordinates), which may result in this. \n",
    "\n",
    "Looks like we need to make further cleaning. "
   ]
  },
  {
   "cell_type": "code",
   "execution_count": 45,
   "metadata": {},
   "outputs": [
    {
     "data": {
      "text/plain": [
       "[('xxup', 21490),\n",
       " ('\\n', 17368),\n",
       " ('xxmaj', 11155),\n",
       " ('/', 9165),\n",
       " ('\\\\', 7337),\n",
       " ('>', 7028),\n",
       " (',', 7006),\n",
       " ('.', 6275),\n",
       " (\"'\", 5958),\n",
       " ('=', 5591),\n",
       " ('#', 5440)]"
      ]
     },
     "execution_count": 45,
     "metadata": {},
     "output_type": "execute_result"
    }
   ],
   "source": [
    "counters[2].most_common(11)"
   ]
  },
  {
   "cell_type": "markdown",
   "metadata": {},
   "source": [
    "Up till now we have delete quite a lot of words and we still can't find a unique set of words to distinguish between the categories. So either we continue to delete words, or we just stop here and see through it (let it be) as a failed experiment. \n",
    "\n",
    "However one insight one wants to talk about is this category 2 have a count for this: `max>'ax>'ax>'ax>'ax>'ax>'ax>'ax>'ax>'ax>'ax>'ax>'ax>'ax>'ax`, and if one is sure about it, it might be True for the problematic set of data that keeps repeating this. One thinks one deleted the file during training (data cleaning) but not here for EDA. \n",
    "\n",
    "Well, that's for unigram. One just noticed that we can do this from the [reference notebook](https://www.kaggle.com/gunesevitan/nlp-with-disaster-tweets-eda-cleaning-and-bert/notebook)\n",
    "\n",
    "To deal with bigram and trigrams, we might have to strip away punctuations in the data? Let's also do for unigram with this different method and see how it works. This time, without those cleaning (deleting unnecessary things)"
   ]
  },
  {
   "cell_type": "code",
   "execution_count": 46,
   "metadata": {},
   "outputs": [],
   "source": [
    "def generate_ngrams(text, n_gram=1):\n",
    "    token = [token for token in text.lower().split(' ') if token != '' if token not in STOPWORDS]\n",
    "    ngrams = zip(*[token[i:] for i in range(n_gram)])\n",
    "    return [' '.join(ngram) for ngram in ngrams]"
   ]
  },
  {
   "cell_type": "code",
   "execution_count": 47,
   "metadata": {},
   "outputs": [],
   "source": [
    "from collections import defaultdict"
   ]
  },
  {
   "cell_type": "code",
   "execution_count": 48,
   "metadata": {},
   "outputs": [],
   "source": [
    "def ngram_counter(df, n_gram):\n",
    "    \"\"\"\n",
    "    counter of ngram words based on `generate_ngrams`. \n",
    "\n",
    "    :df: (pandas.DataFrame) Original dataframe. NOT tokenized by fastai. \n",
    "    :n_gram: What types of n-gram wanted? \n",
    "\n",
    "    :return: n_grams for each category\n",
    "    \"\"\"\n",
    "    cache = []\n",
    "\n",
    "    for cat in tqdm(range(20)):  # sorted\n",
    "        counter = defaultdict(int)\n",
    "        temp_np = df[df.category == cat].text.to_numpy()\n",
    "        for text in temp_np:\n",
    "            for word in generate_ngrams(text, n_gram=n_gram): \n",
    "                counter[word] += 1\n",
    "        cache.append(Counter(counter))\n",
    "        del counter, temp_np, text\n",
    "    gc.collect()\n",
    "    return cache"
   ]
  },
  {
   "cell_type": "code",
   "execution_count": 49,
   "metadata": {},
   "outputs": [
    {
     "data": {
      "application/vnd.jupyter.widget-view+json": {
       "model_id": "56e46c82303e4e09a8b0c7d3db6a9c4f",
       "version_major": 2,
       "version_minor": 0
      },
      "text/plain": [
       "  0%|          | 0/20 [00:00<?, ?it/s]"
      ]
     },
     "metadata": {},
     "output_type": "display_data"
    }
   ],
   "source": [
    "unigrams = ngram_counter(df, 1)"
   ]
  },
  {
   "cell_type": "code",
   "execution_count": 50,
   "metadata": {},
   "outputs": [
    {
     "data": {
      "text/plain": [
       "[('\\n', 584),\n",
       " (\"don't\", 362),\n",
       " ('people', 346),\n",
       " ('god', 310),\n",
       " ('think', 298),\n",
       " ('just', 296),\n",
       " ('does', 277),\n",
       " ('believe', 227),\n",
       " ('-', 221),\n",
       " ('like', 216)]"
      ]
     },
     "execution_count": 50,
     "metadata": {},
     "output_type": "execute_result"
    }
   ],
   "source": [
    "unigrams[0].most_common(10)"
   ]
  },
  {
   "cell_type": "markdown",
   "metadata": {},
   "source": [
    "Ok let's do this for separating categories, just like before. "
   ]
  },
  {
   "cell_type": "code",
   "execution_count": 51,
   "metadata": {},
   "outputs": [],
   "source": [
    "def n_gram_by_category(n_grams, k=10, return_val=False):\n",
    "    \"\"\"\n",
    "    :n_grams: (list) containing list of Counters for each category. \n",
    "    :k: (int) Top k n-grams displayed. Defaults: 10. \n",
    "    :return_val: (bool) Whether to return result or not. Default: False. \n",
    "\n",
    "    :caveat: Doesn't display frequency. \n",
    "    \"\"\"\n",
    "    # +50 to replace the ones in the line marked **. Have caveats. \n",
    "    # only works as long as you don't exhaust the below. \n",
    "    top_k = [counter.most_common(k) for counter in n_grams]\n",
    "    top_k = [np.array([list(word) for word in counter])\n",
    "                for counter in top_k]\n",
    "    for i in range(len(top_k)): \n",
    "        a = top_k[i][:, 0]\n",
    "        top_k[i] = [i] + list(a)\n",
    "        \n",
    "\n",
    "    display(HTML(tabulate(top_k, \n",
    "                    headers=[\"category\", *range(k)],\n",
    "                    tablefmt=\"html\")))\n",
    "    if return_val: return top_k"
   ]
  },
  {
   "cell_type": "code",
   "execution_count": 52,
   "metadata": {},
   "outputs": [
    {
     "data": {
      "text/html": [
       "<table>\n",
       "<thead>\n",
       "<tr><th style=\"text-align: right;\">  category</th><th>0      </th><th>1      </th><th>2       </th><th>3     </th><th>4         </th><th>5         </th><th>6     </th><th>7              </th><th>8     </th><th>9        </th><th>10     </th><th>11    </th><th>12     </th><th>13        </th><th>14      </th></tr>\n",
       "</thead>\n",
       "<tbody>\n",
       "<tr><td style=\"text-align: right;\">         0</td><td>       </td><td>don&#x27;t  </td><td>people  </td><td>god   </td><td>think     </td><td>just      </td><td>does  </td><td>believe        </td><td>-     </td><td>like     </td><td>say    </td><td>know  </td><td>it&#x27;s   </td><td>make      </td><td>said    </td></tr>\n",
       "<tr><td style=\"text-align: right;\">         1</td><td>image  </td><td>-      </td><td>jpeg    </td><td>file  </td><td>graphics  </td><td>available </td><td>use   </td><td>               </td><td>=     </td><td>data     </td><td>like   </td><td>images</td><td>program</td><td>software  </td><td>don&#x27;t   </td></tr>\n",
       "<tr><td style=\"text-align: right;\">         2</td><td>windows</td><td>use    </td><td>dos     </td><td>file  </td><td>like      </td><td>using     </td><td>just  </td><td>don&#x27;t          </td><td>know  </td><td>does     </td><td>files  </td><td>run   </td><td>-      </td><td>program   </td><td>        </td></tr>\n",
       "<tr><td style=\"text-align: right;\">         3</td><td>       </td><td>drive  </td><td>-       </td><td>scsi  </td><td>use       </td><td>card      </td><td>hard  </td><td>disk           </td><td>just  </td><td>know     </td><td>does   </td><td>like  </td><td>ide    </td><td>controller</td><td>2       </td></tr>\n",
       "<tr><td style=\"text-align: right;\">         4</td><td>       </td><td>mac    </td><td>apple   </td><td>know  </td><td>use       </td><td>like      </td><td>just  </td><td>does           </td><td>drive </td><td>don&#x27;t    </td><td>-      </td><td>i&#x27;m   </td><td>problem</td><td>need      </td><td>new     </td></tr>\n",
       "<tr><td style=\"text-align: right;\">         5</td><td>-      </td><td>x      </td><td>=       </td><td>use   </td><td>window    </td><td>file      </td><td>*     </td><td>server         </td><td>using </td><td>         </td><td>program</td><td>set   </td><td>like   </td><td>available </td><td>does    </td></tr>\n",
       "<tr><td style=\"text-align: right;\">         6</td><td>-      </td><td>$      </td><td>        </td><td>1     </td><td>.         </td><td>&amp;         </td><td>new   </td><td>2              </td><td>like  </td><td>good     </td><td>asking </td><td>sell  </td><td>best   </td><td>(1st      </td><td>price   </td></tr>\n",
       "<tr><td style=\"text-align: right;\">         7</td><td>car    </td><td>like   </td><td>just    </td><td>don&#x27;t </td><td>know      </td><td>-         </td><td>      </td><td>new            </td><td>/     </td><td>cars     </td><td>think  </td><td>good  </td><td>it&#x27;s   </td><td>engine    </td><td>i&#x27;m     </td></tr>\n",
       "<tr><td style=\"text-align: right;\">         8</td><td>bike   </td><td>like   </td><td>just    </td><td>don&#x27;t </td><td>it&#x27;s      </td><td>          </td><td>i&#x27;m   </td><td>know           </td><td>dod   </td><td>-        </td><td>good   </td><td>think </td><td>new    </td><td>ride      </td><td>got     </td></tr>\n",
       "<tr><td style=\"text-align: right;\">         9</td><td>don&#x27;t  </td><td>1      </td><td>think   </td><td>-     </td><td>just      </td><td>like      </td><td>game  </td><td>good           </td><td>0     </td><td>team     </td><td>2      </td><td>year  </td><td>3      </td><td>hit       </td><td>won     </td></tr>\n",
       "<tr><td style=\"text-align: right;\">        10</td><td>0      </td><td>1      </td><td>2       </td><td>-     </td><td>3         </td><td>4         </td><td>game  </td><td>               </td><td>5     </td><td>0        </td><td>team   </td><td>7     </td><td>hockey </td><td>6         </td><td>think   </td></tr>\n",
       "<tr><td style=\"text-align: right;\">        11</td><td>&gt;      </td><td>       </td><td>key     </td><td>use   </td><td>encryption</td><td>government</td><td>people</td><td>-              </td><td>chip  </td><td>don&#x27;t    </td><td>just   </td><td>like  </td><td>clipper</td><td>know      </td><td>security</td></tr>\n",
       "<tr><td style=\"text-align: right;\">        12</td><td>use    </td><td>-      </td><td>like    </td><td>|     </td><td>don&#x27;t     </td><td>know      </td><td>just  </td><td>used           </td><td>does  </td><td>need     </td><td>power  </td><td>it&#x27;s  </td><td>want   </td><td>good      </td><td>        </td></tr>\n",
       "<tr><td style=\"text-align: right;\">        13</td><td>       </td><td>medical</td><td>-       </td><td>don&#x27;t </td><td>like      </td><td>know      </td><td>use   </td><td>health         </td><td>people</td><td>just     </td><td>|      </td><td>--    </td><td>think  </td><td>new       </td><td>it&#x27;s    </td></tr>\n",
       "<tr><td style=\"text-align: right;\">        14</td><td>       </td><td>space  </td><td>-       </td><td>like  </td><td>--        </td><td>just      </td><td>launch</td><td>nasa           </td><td>don&#x27;t </td><td>shuttle  </td><td>new    </td><td>data  </td><td>think  </td><td>solar     </td><td>people  </td></tr>\n",
       "<tr><td style=\"text-align: right;\">        15</td><td>god    </td><td>people </td><td>think   </td><td>don&#x27;t </td><td>does      </td><td>jesus     </td><td>know  </td><td>believe        </td><td>just  </td><td>like     </td><td>church </td><td>      </td><td>say    </td><td>did       </td><td>-       </td></tr>\n",
       "<tr><td style=\"text-align: right;\">        16</td><td>-      </td><td>gun    </td><td>people  </td><td>don&#x27;t </td><td>          </td><td>like      </td><td>just  </td><td>think          </td><td>--    </td><td>fbi      </td><td>right  </td><td>guns  </td><td>did    </td><td>know      </td><td>use     </td></tr>\n",
       "<tr><td style=\"text-align: right;\">        17</td><td>       </td><td>people </td><td>armenian</td><td>.     </td><td>turkish   </td><td>armenians </td><td>like  </td><td>-              </td><td>just  </td><td>said     </td><td>israel </td><td>don&#x27;t </td><td>jews   </td><td>israeli   </td><td>did     </td></tr>\n",
       "<tr><td style=\"text-align: right;\">        18</td><td>       </td><td>q      </td><td>--      </td><td>people</td><td>mr.       </td><td>think     </td><td>don&#x27;t </td><td>stephanopoulos:</td><td>it&#x27;s  </td><td>president</td><td>just   </td><td>going </td><td>       </td><td>-         </td><td>know    </td></tr>\n",
       "<tr><td style=\"text-align: right;\">        19</td><td>       </td><td>god    </td><td>people  </td><td>don&#x27;t </td><td>jesus     </td><td>think     </td><td>just  </td><td>know           </td><td>say   </td><td>does     </td><td>like   </td><td>did   </td><td>believe</td><td>bible     </td><td>said    </td></tr>\n",
       "</tbody>\n",
       "</table>"
      ],
      "text/plain": [
       "<IPython.core.display.HTML object>"
      ]
     },
     "metadata": {},
     "output_type": "display_data"
    }
   ],
   "source": [
    "n_gram_by_category(unigrams, 15)"
   ]
  },
  {
   "cell_type": "markdown",
   "metadata": {},
   "source": [
    "And we repeat for bigrams and trigrams. "
   ]
  },
  {
   "cell_type": "code",
   "execution_count": 53,
   "metadata": {},
   "outputs": [
    {
     "data": {
      "application/vnd.jupyter.widget-view+json": {
       "model_id": "94b11f3b6d074e8f8b4e339632db4c67",
       "version_major": 2,
       "version_minor": 0
      },
      "text/plain": [
       "  0%|          | 0/20 [00:00<?, ?it/s]"
      ]
     },
     "metadata": {},
     "output_type": "display_data"
    },
    {
     "data": {
      "text/html": [
       "<table>\n",
       "<thead>\n",
       "<tr><th style=\"text-align: right;\">  category</th><th>0                 </th><th>1                  </th><th>2             </th><th>3                </th><th>4               </th><th>5                                </th><th>6                   </th><th>7                  </th><th>8               </th><th>9                  </th><th>10                 </th><th>11          </th><th>12                </th><th>13               </th><th>14                   </th></tr>\n",
       "</thead>\n",
       "<tbody>\n",
       "<tr><td style=\"text-align: right;\">         0</td><td>                  </td><td>don&#x27;t think        </td><td>don&#x27;t know    </td><td>. .              </td><td>bob beauchaine  </td><td>beauchaine bobbe@vice.ico.tek.com</td><td>bobbe@vice.ico.tek.com \n",
       "\n",
       "they                     </td><td>they said          </td><td>said queens     </td><td>queens stay,       </td><td>stay, blew         </td><td>blew bronx  </td><td>bronx away,\n",
       "and                   </td><td>away,\n",
       "and sank                  </td><td>sank manhattan       </td></tr>\n",
       "<tr><td style=\"text-align: right;\">         1</td><td>image processing  </td><td>computer graphics  </td><td>anonymous ftp </td><td>24 bit           </td><td>source code     </td><td>don&#x27;t know                       </td><td>image quality       </td><td>|\n",
       " |                    </td><td>does know       </td><td>available anonymous</td><td>file format        </td><td>free jpeg   </td><td>i&#x27;m sure          </td><td>8 bit            </td><td>user interface       </td></tr>\n",
       "<tr><td style=\"text-align: right;\">         2</td><td>_/ _/             </td><td>windows 3.1        </td><td>cross linked  </td><td>linked allocation</td><td>allocation unit </td><td>_ _                              </td><td>don&#x27;t know          </td><td>* *                </td><td>windows nt      </td><td>does know          </td><td>ftp site           </td><td>swap file   </td><td>run windows       </td><td>dos 6            </td><td>don&#x27;t think          </td></tr>\n",
       "<tr><td style=\"text-align: right;\">         3</td><td>hard disk         </td><td>local bus          </td><td>rom bios      </td><td>                 </td><td>controller card </td><td>hard drive                       </td><td>disk drives         </td><td>floppy disk        </td><td>don&#x27;t know      </td><td>. .                </td><td>disk controller    </td><td>_/ _/       </td><td>tape drive        </td><td>bios             </td><td>isa bus              </td></tr>\n",
       "<tr><td style=\"text-align: right;\">         4</td><td>does know         </td><td>- -                </td><td>don&#x27;t know    </td><td>hard drive       </td><td>32 32           </td><td>hard disk                        </td><td>25 mhz              </td><td>                   </td><td>centris 610     </td><td>| |                </td><td>power supply       </td><td>(pc week    </td><td>vv vv             </td><td>-- --            </td><td>|\n",
       " |                      </td></tr>\n",
       "<tr><td style=\"text-align: right;\">         5</td><td>- -               </td><td>window manager     </td><td>/*\n",
       "x *               </td><td>x server         </td><td>*/\n",
       "x char                 </td><td>*\n",
       "x *                                  </td><td>open look           </td><td>x window           </td><td>anonymous ftp   </td><td>output file        </td><td>stream */\n",
       "x                    </td><td>*/\n",
       "x int             </td><td>ms windows        </td><td>file stream      </td><td>user interface       </td></tr>\n",
       "<tr><td style=\"text-align: right;\">         6</td><td>. .               </td><td>appears) $         </td><td>(1st app      </td><td>- good           </td><td>good -          </td><td>1 (signed                        </td><td>(signed liefeld,    </td><td>liefeld, bagged,   </td><td>brand new       </td><td>(2 copies)         </td><td>- excellent        </td><td>copies) $2  </td><td>appear) $         </td><td>(1st appearance  </td><td>&amp; pom                </td></tr>\n",
       "<tr><td style=\"text-align: right;\">         7</td><td>/ /               </td><td>don&#x27;t know         </td><td>(send requests</td><td>| /              </td><td>/ |             </td><td>| |                              </td><td>don&#x27;t think         </td><td>/ \\                </td><td>\\ /             </td><td>oil change         </td><td>consumer reports   </td><td>/           </td><td>i&#x27;m sure          </td><td>/                </td><td>|\n",
       " |                      </td></tr>\n",
       "<tr><td style=\"text-align: right;\">         8</td><td>don&#x27;t know        </td><td>----===== dod      </td><td>dod #8177     </td><td>#8177 =          </td><td>= technician(dr.</td><td>technician(dr. speed)            </td><td>speed) .not.        </td><td>.not. student      </td><td>. .             </td><td>biker) dod         </td><td>dod 1069           </td><td>1069 concise</td><td>)-:               </td><td>:-(              </td><td>student =====----    </td></tr>\n",
       "<tr><td style=\"text-align: right;\">         9</td><td>---- ----         </td><td>0 0                </td><td>- -           </td><td>won 1            </td><td>lost 1          </td><td>red sox                          </td><td>| |                 </td><td>don&#x27;t know         </td><td>don&#x27;t think     </td><td>suck cubs          </td><td>cubs suck          </td><td>won 2       </td><td>1 1               </td><td>major league     </td><td>blue jays            </td></tr>\n",
       "<tr><td style=\"text-align: right;\">        10</td><td>0 0               </td><td>1 0                </td><td>0 1           </td><td>1 1              </td><td>2 2             </td><td>2 0                              </td><td>- -                 </td><td>0 0                </td><td>0 2             </td><td>3 0                </td><td>1 2                </td><td>2 1         </td><td>1 -               </td><td>--- ---          </td><td>power play:          </td></tr>\n",
       "<tr><td style=\"text-align: right;\">        11</td><td>&gt;                 </td><td>law enforcement    </td><td>clipper chip  </td><td>&gt;                </td><td>public key      </td><td>anonymous ftp                    </td><td>serial number       </td><td>the\n",
       " &gt;                    </td><td>&quot;clipper chip&quot;  </td><td>don&#x27;t know         </td><td>available anonymous</td><td>. .         </td><td>s1 s2             </td><td>don&#x27;t think      </td><td>anonymous posting    </td></tr>\n",
       "<tr><td style=\"text-align: right;\">        12</td><td>| |               </td><td>| |                </td><td>don&#x27;t know    </td><td>- -              </td><td>|\n",
       " |                 </td><td>does know                        </td><td>i&#x27;ve seen           </td><td>make sure          </td><td>r r             </td><td>copy protection    </td><td>. .                </td><td>i&#x27;ve got    </td><td>i&#x27;d like          </td><td>i&#x27;m looking      </td><td>radio shack          </td></tr>\n",
       "<tr><td style=\"text-align: right;\">        13</td><td>medical newsletter</td><td>newsletter page    </td><td>6, number     </td><td>banks n3jxp      </td><td>n3jxp |         </td><td>| &quot;skepticism                    </td><td>&quot;skepticism chastity</td><td>chastity intellect,</td><td>----------------------------------------------------------------------------\n",
       "gordon banks                 </td><td>intellect, and\n",
       "geb@cadre.dsl.pitt.edu                    </td><td>and\n",
       "geb@cadre.dsl.pitt.edu |                    </td><td>| shameful  </td><td>shameful surrender</td><td>surrender soon.&quot; </td><td>number 11            </td></tr>\n",
       "<tr><td style=\"text-align: right;\">        14</td><td>                  </td><td>space station      </td><td>space shuttle </td><td>| |              </td><td>anonymous ftp   </td><td>?? -                             </td><td>don&#x27;t think         </td><td>don&#x27;t know         </td><td>nasa ames       </td><td>people don&#x27;t       </td><td>commercial space   </td><td>gamma ray   </td><td>&quot;insisting perfect</td><td>perfect safety   </td><td>safety people        </td></tr>\n",
       "<tr><td style=\"text-align: right;\">        15</td><td>_/ _/             </td><td>don&#x27;t know         </td><td>holy spirit   </td><td>don&#x27;t think      </td><td>don&#x27;t believe   </td><td>new testament                    </td><td>jesus christ        </td><td>|                  </td><td>does mean       </td><td>catholic church    </td><td>i&#x27;m sure           </td><td>q.          </td><td>second coming     </td><td>lord jesus       </td><td>god does             </td></tr>\n",
       "<tr><td style=\"text-align: right;\">        16</td><td>- -               </td><td>gun control        </td><td>united states </td><td>second amendment </td><td>                </td><td>law enforcement                  </td><td>don&#x27;t know          </td><td>tear gas           </td><td>don&#x27;t think     </td><td>bear arms          </td><td>. .                </td><td>gun owners  </td><td>branch davidians  </td><td>i&#x27;m sure         </td><td>right people         </td></tr>\n",
       "<tr><td style=\"text-align: right;\">        17</td><td>. .               </td><td>professor history, </td><td>human rights  </td><td>|\n",
       " |                  </td><td>2.5 million     </td><td>don&#x27;t know                       </td><td>armenian government </td><td>                   </td><td>new york        </td><td>ottoman empire     </td><td>muslim population  </td><td>world war   </td><td>genocide 2.5      </td><td>x-soviet armenian</td><td>new york,            </td></tr>\n",
       "<tr><td style=\"text-align: right;\">        18</td><td>q                 </td><td>mr. stephanopoulos:</td><td>mr.           </td><td>ms. myers:       </td><td>ms.             </td><td>- -                              </td><td>                    </td><td>--                 </td><td>don&#x27;t know      </td><td>united states      </td><td>president:         </td><td>health care </td><td>don&#x27;t think       </td><td>q\t george,                  </td><td>senior administration</td></tr>\n",
       "<tr><td style=\"text-align: right;\">        19</td><td>                  </td><td>lord [jehovah]     </td><td>. .           </td><td>don&#x27;t think      </td><td>lord [jehovah], </td><td>* *                              </td><td>god [elohim]        </td><td>don&#x27;t know         </td><td>(emphasis added)</td><td>said unto          </td><td>thou shalt         </td><td>_/ _/       </td><td>jesus christ      </td><td>does mean        </td><td>(promised messiah,   </td></tr>\n",
       "</tbody>\n",
       "</table>"
      ],
      "text/plain": [
       "<IPython.core.display.HTML object>"
      ]
     },
     "metadata": {},
     "output_type": "display_data"
    }
   ],
   "source": [
    "bigrams = ngram_counter(df, 2)\n",
    "n_gram_by_category(bigrams, 15)"
   ]
  },
  {
   "cell_type": "code",
   "execution_count": 54,
   "metadata": {},
   "outputs": [
    {
     "data": {
      "application/vnd.jupyter.widget-view+json": {
       "model_id": "bac19e54c2614dfb91cda86f5f58900e",
       "version_major": 2,
       "version_minor": 0
      },
      "text/plain": [
       "  0%|          | 0/20 [00:00<?, ?it/s]"
      ]
     },
     "metadata": {},
     "output_type": "display_data"
    },
    {
     "data": {
      "text/html": [
       "<table>\n",
       "<thead>\n",
       "<tr><th style=\"text-align: right;\">  category</th><th>0                      </th><th>1                                    </th><th>2                           </th><th>3                       </th><th>4                              </th><th>5                       </th><th>6                                 </th><th>7                                 </th><th>8                              </th><th>9                      </th><th>10                        </th><th>11                             </th><th>12                                </th><th>13                             </th><th>14                                              </th></tr>\n",
       "</thead>\n",
       "<tbody>\n",
       "<tr><td style=\"text-align: right;\">         0</td><td>                       </td><td>bob beauchaine bobbe@vice.ico.tek.com</td><td>beauchaine bobbe@vice.ico.tek.com \n",
       "\n",
       "they                             </td><td>bobbe@vice.ico.tek.com \n",
       "\n",
       "they said                         </td><td>they said queens               </td><td>said queens stay,       </td><td>queens stay, blew                 </td><td>stay, blew bronx                  </td><td>blew bronx away,\n",
       "and                                </td><td>bronx away,\n",
       "and sank                        </td><td>away,\n",
       "and sank manhattan                           </td><td>sank manhattan sea.            </td><td>. . .                             </td><td>_/ _/ _/                       </td><td>michael a. cobb                                 </td></tr>\n",
       "<tr><td style=\"text-align: right;\">         1</td><td>available anonymous ftp</td><td>+44 (0)61 275                        </td><td>*= t;                       </td><td>mirror sites (see       </td><td>sites (see note                </td><td>(see note below),       </td><td>note below), file                 </td><td>send subscription requests        </td><td># # #                          </td><td>free ijg jpeg          </td><td>lilley\n",
       "----------------------------------------------------------------------------\n",
       "technical author, itti                           </td><td>author, itti computer          </td><td>itti computer graphics            </td><td>computer graphics visualisation</td><td>graphics visualisation training                 </td></tr>\n",
       "<tr><td style=\"text-align: right;\">         2</td><td>_/ _/ _/               </td><td>cross linked allocation              </td><td>linked allocation unit      </td><td>_ _ _                   </td><td>* * *                          </td><td>notebook file name:     </td><td>_/ _/ _/                          </td><td>&quot; &quot; &quot;                             </td><td>allocation error, size         </td><td>notebook file          </td><td>march 15, 1991            </td><td>15, 1991\n",
       "\n",
       "\n",
       "\n",
       "\n",
       "\n",
       "\t\t\t\t -                                </td><td>does anybody know                 </td><td>case western reserve           </td><td>_/ _/\n",
       " _/                                                 </td></tr>\n",
       "<tr><td style=\"text-align: right;\">         3</td><td>. . .                  </td><td>_/ _/ _/                             </td><td>hard disk controller        </td><td>rom bios                </td><td>floppy disk drives             </td><td>hard disk               </td><td>- hard disk                       </td><td>inches\n",
       " max resolution:                                   </td><td>st506/st412 interface. supports</td><td>disk controller card   </td><td>interface. supports 2     </td><td>optional rom bios              </td><td>controller card                   </td><td>hard disk drives               </td><td>blue wave/qwk v2.10                             </td></tr>\n",
       "<tr><td style=\"text-align: right;\">         4</td><td>- - -                  </td><td>32 32 32                             </td><td>-- -- --                    </td><td>|\n",
       " | |                         </td><td>25 mhz operational\n",
       "\theat                                </td><td>mhz operational\n",
       "\theat sink                         </td><td>o o o                             </td><td>h+\n",
       "-- \n",
       " --                                   </td><td>-- jon                         </td><td>-- jon w{tte,          </td><td>jon w{tte, h+@nada.kth.se,</td><td>w{tte, h+@nada.kth.se, mac     </td><td>h+@nada.kth.se, mac hacker        </td><td>mac hacker deluxe              </td><td>hacker deluxe --                                </td></tr>\n",
       "<tr><td style=\"text-align: right;\">         5</td><td>- - -                  </td><td>file stream */\n",
       "x                                      </td><td>stream */\n",
       "x char                             </td><td>available anonymous ftp </td><td>}\n",
       "x\n",
       "x /*\n",
       "x *                                </td><td>/*\n",
       "x * write                         </td><td>output file stream                </td><td>*/\n",
       "x char *oname;\t\t/*                                   </td><td>char *oname;\t\t/* output                                </td><td>check_io(output, oname, eof_not_ok);\n",
       "x\n",
       "x                        </td><td>landon curt noll          </td><td>*/\n",
       "x\n",
       "x /*\n",
       "x *                                </td><td>file *output;\t\t/* entry&#x27;s                                   </td><td>*output;\t\t/* entry&#x27;s output                                </td><td>entry&#x27;s output file                             </td></tr>\n",
       "<tr><td style=\"text-align: right;\">         6</td><td>. . .                  </td><td>- good -                             </td><td>1 (signed liefeld,          </td><td>(signed liefeld, bagged,</td><td>- excellent -                  </td><td>(2 copies) $2           </td><td>2001 tie in)                      </td><td>trek generation 1                 </td><td>1 copy left!!!)                </td><td>(armegedon 2001 tie    </td><td>1 (1st app                </td><td>comics near mint               </td><td>(ron lim art,                     </td><td>lim art, black                 </td><td>art, black panther)\t$                                                 </td></tr>\n",
       "<tr><td style=\"text-align: right;\">         7</td><td>/ / /                  </td><td>/ | /                                </td><td>/ /__ __/                   </td><td>/ ___ /                 </td><td>___ / /                        </td><td>/ \\ /                   </td><td>\\ /                               </td><td>| / |                             </td><td>| | |                          </td><td>. \n",
       " /                        </td><td>/ \n",
       "larry                           </td><td>/ \n",
       "larry __/                                </td><td>larry __/ _______/_               </td><td>__/ _______/_ \n",
       "keys@csmes.ncsl.nist.gov                                </td><td>_______/_ \n",
       "keys@csmes.ncsl.nist.gov /                                                 </td></tr>\n",
       "<tr><td style=\"text-align: right;\">         8</td><td>----===== dod #8177    </td><td>dod #8177 =                          </td><td>#8177 = technician(dr.      </td><td>= technician(dr. speed) </td><td>technician(dr. speed) .not.    </td><td>speed) .not. student    </td><td>biker) dod 1069                   </td><td>dod 1069 concise                  </td><td>)-: \n",
       " :-(                                </td><td>.not. student =====----</td><td>1069 concise oxford       </td><td>tom coradeschi &lt;+&gt;             </td><td>coradeschi &lt;+&gt; tcora@pica.army.mil</td><td>jorg klinger |                 </td><td>klinger | gsxr1100                              </td></tr>\n",
       "<tr><td style=\"text-align: right;\">         9</td><td>- - -                  </td><td>---- ---- ----                       </td><td>0 0 0                       </td><td>cubs suck cubs          </td><td>suck cubs suck                 </td><td>dale j. stephenson      </td><td>j. stephenson |*|                 </td><td>stephenson |*| (steph@cs.uiuc.edu)</td><td>|*| (steph@cs.uiuc.edu) |*|    </td><td>mike jones |           </td><td>jones | aix               </td><td>| aix high-end                 </td><td>aix high-end development          </td><td>high-end development |         </td><td>development | mjones@donald.aix.kingston.ibm.com</td></tr>\n",
       "<tr><td style=\"text-align: right;\">        10</td><td>0 0 0                  </td><td>- - -                                </td><td>0 1 1                       </td><td>2 2 2                   </td><td>1 0 1                          </td><td>1 1 0                   </td><td>2 0 0                             </td><td>1 0 0                             </td><td>g pts\n",
       "--------------- ---                                </td><td>pts\n",
       "--------------- --- ---                        </td><td>0 0 0                     </td><td>0 1 0                          </td><td>3 0 0                             </td><td>1 0 0                          </td><td>0 2 2                                           </td></tr>\n",
       "<tr><td style=\"text-align: right;\">        11</td><td>&gt; \n",
       " &gt;                        </td><td>available anonymous ftp              </td><td>. . .                       </td><td>&gt;                       </td><td>s1]; s2]; s1]                  </td><td>law enforcement agencies</td><td>-----begin pgp signed             </td><td>parts sci.crypt faq.              </td><td>sci.crypt faq. parts           </td><td>faq. parts are\n",
       "mostly                        </td><td>parts are\n",
       "mostly independent,                           </td><td>are\n",
       "mostly independent, read                                </td><td>time send missing                 </td><td>send missing parts             </td><td>missing parts mail,                             </td></tr>\n",
       "<tr><td style=\"text-align: right;\">        12</td><td>- - -                  </td><td>| | |                                </td><td>| |\n",
       " |                             </td><td>--------------------------------------------------------------------\n",
       " dave medin\t\t\tphone:\t(205)                         </td><td>dave medin\t\t\tphone:\t(205) 730-3169                                </td><td>medin\t\t\tphone:\t(205) 730-3169 (w)                         </td><td>730-3169 (w)\n",
       " ssd--networking\t\t\t\t(205)                                   </td><td>(w)\n",
       " ssd--networking\t\t\t\t(205) 837-1174                                   </td><td>ssd--networking\t\t\t\t(205) 837-1174 (h)                                </td><td>837-1174 (h)\n",
       " intergraph                        </td><td>(h)\n",
       " intergraph corp.                           </td><td>intergraph corp.\n",
       " m/s                                </td><td>corp.\n",
       " m/s gd3004                                   </td><td>m/s gd3004 \t\tinternet:                                </td><td>gd3004 \t\tinternet: dtmedin@catbyte.b30.ingr.com                                                 </td></tr>\n",
       "<tr><td style=\"text-align: right;\">        13</td><td>medical newsletter page</td><td>banks n3jxp |                        </td><td>n3jxp | &quot;skepticism         </td><td>| &quot;skepticism chastity  </td><td>&quot;skepticism chastity intellect,</td><td>----------------------------------------------------------------------------\n",
       "gordon banks n3jxp                         </td><td>chastity intellect, and\n",
       "geb@cadre.dsl.pitt.edu                                   </td><td>intellect, and\n",
       "geb@cadre.dsl.pitt.edu |                                   </td><td>and\n",
       "geb@cadre.dsl.pitt.edu | shameful                                </td><td>| shameful surrender   </td><td>shameful surrender soon.&quot; </td><td>6, number 11                   </td><td>number 11 april                   </td><td>11 april 25,                   </td><td>6, number 10                                    </td></tr>\n",
       "<tr><td style=\"text-align: right;\">        14</td><td>                       </td><td>| | |                                </td><td>&quot;insisting perfect safety   </td><td>perfect safety people   </td><td>safety people don&#x27;t            </td><td>people don&#x27;t balls      </td><td>don&#x27;t balls live                  </td><td>balls live\n",
       " real                                   </td><td>live\n",
       " real world.&quot;                                </td><td>real world.&quot; --        </td><td>world.&quot; -- mary           </td><td>-- mary shafer,                </td><td>mary shafer, nasa                 </td><td>shafer, nasa ames              </td><td>nasa ames dryden                                </td></tr>\n",
       "<tr><td style=\"text-align: right;\">        15</td><td>_/ _/ _/               </td><td>| &gt;                                  </td><td>_/ _/ *                     </td><td>r r oo                  </td><td>father, son, holy              </td><td>:\n",
       " r r                         </td><td>r oo oo                           </td><td>oo oo b                           </td><td>b b :                          </td><td>dead sea scrolls       </td><td>| \n",
       " |                           </td><td>bernadette did know            </td><td>:\n",
       " : :                                   </td><td>: :\n",
       " :                                </td><td>b :\n",
       " r                                                 </td></tr>\n",
       "<tr><td style=\"text-align: right;\">        16</td><td>- - -                  </td><td>title 18, united                     </td><td>18, united states           </td><td>new england journal     </td><td>united states code,            </td><td>dave feustel n9myi      </td><td>feustel n9myi &lt;feustel@netcom.com&gt;</td><td>- - -\n",
       "==================================================================                                   </td><td>. . .                          </td><td>right people bear      </td><td>                          </td><td>amend title 18,                </td><td>england journal medicine.         </td><td>/ iftccu:talk.politics.guns /  </td><td>right bear arms                                 </td></tr>\n",
       "<tr><td style=\"text-align: right;\">        17</td><td>. . .                  </td><td>professor history, university        </td><td>x-soviet armenian government</td><td>genocide 2.5 million    </td><td>center policy research         </td><td>shostack \t\t\t\t adam@das.harvard.edu                         </td><td>armenians did slaughter           </td><td>2.5 million muslim                </td><td>from: center policy            </td><td>policy research &lt;cpr&gt;\n",
       "subject:                        </td><td>armenian genocide 2.5     </td><td>&quot;muharrerat-i umumiye mecmuasi,</td><td>umumiye mecmuasi, v.              </td><td>city party committee           </td><td>&quot;history ottoman empire                         </td></tr>\n",
       "<tr><td style=\"text-align: right;\">        18</td><td>mr. stephanopoulos:    </td><td>ms. myers:                           </td><td>- - -                       </td><td>--\n",
       "\t \n",
       "\t mr.                         </td><td>q                              </td><td>q\t george,                         </td><td>senior administration official:   </td><td>--\n",
       "\t \n",
       "\t q                                   </td><td>mr. stephanopoulos: don&#x27;t      </td><td>senior administration  </td><td>mr. stephanopoulos: think </td><td>q\t did                                </td><td>mr. stephanopoulos: well,         </td><td>------ ------ ------           </td><td>it.\n",
       "\t \n",
       "\t q                                                 </td></tr>\n",
       "<tr><td style=\"text-align: right;\">        19</td><td>                       </td><td>* * *                                </td><td>. . .                       </td><td>day christmas truelove  </td><td>christmas truelove served      </td><td>truelove served me...   </td><td>general unified theory            </td><td>_/ _/ _/                          </td><td>(promised messiah, p.          </td><td>physicist dewey b.     </td><td>unified theory physical   </td><td>comprehensive general unified  </td><td>english lexicon new               </td><td>served me... leftover          </td><td>me... leftover turkey!\n",
       "on                                                 </td></tr>\n",
       "</tbody>\n",
       "</table>"
      ],
      "text/plain": [
       "<IPython.core.display.HTML object>"
      ]
     },
     "metadata": {},
     "output_type": "display_data"
    }
   ],
   "source": [
    "trigrams = ngram_counter(df, 3)\n",
    "n_gram_by_category(trigrams, 15)"
   ]
  },
  {
   "cell_type": "code",
   "execution_count": 55,
   "metadata": {},
   "outputs": [
    {
     "data": {
      "text/plain": [
       "0"
      ]
     },
     "execution_count": 55,
     "metadata": {},
     "output_type": "execute_result"
    }
   ],
   "source": [
    "del unigrams, bigrams, trigrams\n",
    "gc.collect()"
   ]
  },
  {
   "cell_type": "markdown",
   "metadata": {},
   "source": [
    "We can see there are some dirty data's that could be cleaned out. Particularly, one thought that it might be due to the `xxunk` threshold setting too high. Perhaps we could lower it. And we can see there are some things like hash tags, ||, emails, unknown stuffs (n3jxp) that exists inside, that one thinks should be removed when cleaning data. "
   ]
  },
  {
   "cell_type": "markdown",
   "metadata": {},
   "source": [
    "## Further cleaning of `xxunk` threshold. \n",
    "Previously, we set the threshold to 0.25, but there are still some bad data. Let's look at 0.1 threshold. And we shall do this again with our unigram, bigrams, and trigrams and see how it works. "
   ]
  },
  {
   "cell_type": "code",
   "execution_count": 56,
   "metadata": {},
   "outputs": [],
   "source": [
    "temp_y = all_y[choice < 0.25]\n",
    "temp_choice = choice[choice < 0.25]"
   ]
  },
  {
   "cell_type": "code",
   "execution_count": 57,
   "metadata": {},
   "outputs": [
    {
     "data": {
      "text/plain": [
       "array([ 2,  9, 12, 10,  2, 13,  4,  2,  6, 14,  9,  7, 13,  2,  9,  2,  4,\n",
       "        2,  4,  5,  2,  6, 18])"
      ]
     },
     "execution_count": 57,
     "metadata": {},
     "output_type": "execute_result"
    }
   ],
   "source": [
    "temp_y[temp_choice > 0.2]  # 0.2 threshold. "
   ]
  },
  {
   "cell_type": "code",
   "execution_count": 58,
   "metadata": {},
   "outputs": [
    {
     "data": {
      "text/html": [
       "<div>\n",
       "<style scoped>\n",
       "    .dataframe tbody tr th:only-of-type {\n",
       "        vertical-align: middle;\n",
       "    }\n",
       "\n",
       "    .dataframe tbody tr th {\n",
       "        vertical-align: top;\n",
       "    }\n",
       "\n",
       "    .dataframe thead th {\n",
       "        text-align: right;\n",
       "    }\n",
       "</style>\n",
       "<table border=\"1\" class=\"dataframe\">\n",
       "  <thead>\n",
       "    <tr style=\"text-align: right;\">\n",
       "      <th></th>\n",
       "      <th>text</th>\n",
       "      <th>category</th>\n",
       "      <th>word_count</th>\n",
       "      <th>line_count</th>\n",
       "      <th>stop_word_count</th>\n",
       "      <th>stop_word_ratio</th>\n",
       "      <th>punctuation_count</th>\n",
       "      <th>punctuation_ratio</th>\n",
       "    </tr>\n",
       "  </thead>\n",
       "  <tbody>\n",
       "    <tr>\n",
       "      <th>126</th>\n",
       "      <td>I had a similar problem - try changing the netmask to 0.0.0.0 or 255.255.254.0</td>\n",
       "      <td>2</td>\n",
       "      <td>14</td>\n",
       "      <td>1</td>\n",
       "      <td>6</td>\n",
       "      <td>0.43</td>\n",
       "      <td>7</td>\n",
       "      <td>0.500000</td>\n",
       "    </tr>\n",
       "    <tr>\n",
       "      <th>1796</th>\n",
       "      <td>\\n------------ Part 3 of 14 ------------\\nM\"`@(\"`@(\"`@(\"`@(\"`@(G.3DY.3DY.3DY.3DY.3DY.3DY.3DY.2#IJ:FIJ:F\\nM@^3DY.3DG.OKZZNKJZOKZYSDY.2#IJ9$B-RYB(C&lt;$!\"(H#YM.LISRG-SV#HZ\\nMRG/8&lt;]C*&lt;VW8.MC8V#K*RLIS.M@Z&lt;]C*&lt;]C8V,HZ.FW*.MAM&lt;W-S&lt;W,Z&lt;\\IM\\nM;&lt;J6&lt;]@\\RD%M&lt;\\IM\"`@(\"`@(\"`@(\"`@```\"\"$Q.\"`\"MAFYN;/JZ(N;G&lt;B*Z@\\nM/IN;\"I\\7]1&gt;?@0H*FYN;FSX^/J\"@KJZNB(C&lt;N;FYN;:VN;FYN;FYN;FY/#Q%\\nMW3S==]W1W3S=17?=/$5%=]UW147117?=W7?==W=W=]W=T7=WW=W==X6%W=UW\\nM0(5`0-W==W?==X710-W=A4!WW=V%A=W==]U`2=U)=]UW=W=W=]U`W2/=A85W\\nM0-W=A=V%W=%`T=UW0'?=T87=T7=W=T\"%=W=WT='==W=WA=W1T7?=A='=W=%W\\nM1=W=W7&lt;\\T=W=W44\\/-$\\1=W=W=U%=T5%T=W1W=W=T3P\\/-W=/...</td>\n",
       "      <td>2</td>\n",
       "      <td>966</td>\n",
       "      <td>954</td>\n",
       "      <td>5</td>\n",
       "      <td>0.01</td>\n",
       "      <td>27053</td>\n",
       "      <td>28.005176</td>\n",
       "    </tr>\n",
       "    <tr>\n",
       "      <th>2689</th>\n",
       "      <td>MAX&gt;'AX&gt;'AX&gt;'AX&gt;'AX&gt;'AX&gt;'AX&gt;'AX&gt;'AX&gt;'AX&gt;'AX&gt;'AX&gt;'AX&gt;'AX&gt;'AX&gt;'\\nMAX&gt;'AX&gt;'AX&gt;'AX&gt;',3'$9F8+\"Z5'1]_?W]_?WWIZ&gt;BHJ*BHJ*BHJ*BHJ*GIZ\\nM&gt;GIZ&gt;GIZ*BHJ*GIZ&gt;M_?1T&gt;EI0L+\"V9F9F9FR,A_?W_(5Z(46Q04%%=75VO4\\nMU-34U-34U`(\"`@(\"`@(\"`M34?W]_?]#084O#%%O`.#AUG@&amp;$`0$Y.?518)0&amp;\\nMC#`P8V-55555555559-65@HWGV`7]?7U%Q&gt;?GY^?GP!@45$&amp;*2G:VBDIGIZ'\\nMAX&gt;'AX&gt;'AX&gt;'AX&gt;'AX&gt;'AX&gt;'AX&gt;'AX&gt;'AX&gt;'AX&gt;'AX&gt;'AX&gt;'AX&gt;'AX&gt;'AX&gt;'\\nMAX&gt;'AX&gt;'AX&gt;'34T2P&lt;'HP&lt;$2$A+!P&lt;'!P1(2$A)-34U-34TM,)11-];6UM;6\\nMUM8[(3N^AX&gt;'AX&gt;'AX&gt;'AX&gt;'AX?$9@NE1]]Z*BJ[`SW2&amp;;!3[8LTQ&lt;7%9V=G\\nM9V=G9V=G9V=G9V=GQ&lt;4TBXN+B^WM4U.P&amp;7'2TCT]F0.[&gt;D&lt;+9C&amp;'AX&gt;'AX&gt;'\\nMAX&gt;'AX&gt;'AX&gt;'AX&gt;'AX&gt;'AX&gt;'AVYA...</td>\n",
       "      <td>2</td>\n",
       "      <td>960</td>\n",
       "      <td>953</td>\n",
       "      <td>3</td>\n",
       "      <td>0.00</td>\n",
       "      <td>25303</td>\n",
       "      <td>26.357292</td>\n",
       "    </tr>\n",
       "    <tr>\n",
       "      <th>4362</th>\n",
       "      <td>Due to the resolution and size it is in 14 parts.\\n\\nThis is a uuencoded bitmap.  960X600 256 colors.\\nThe picture is a marbled gazebo on a desert with blue sky background.\\nThe size is just right for centered wallpaper on a 1024x768 display\\nbecause it leaves a border at the bottom just big enough for icons\\nto fit in without being on top of the picture. Reguarding image\\nquality and resolution - I have not seen much better.\\n\\nFor those of you who haven't worked with pieced image files, here\\nis how to put it back together.\\n\\t1. save the 14 parts to 14 individual files\\n\\t2. use a text ...</td>\n",
       "      <td>2</td>\n",
       "      <td>1137</td>\n",
       "      <td>971</td>\n",
       "      <td>94</td>\n",
       "      <td>0.08</td>\n",
       "      <td>24761</td>\n",
       "      <td>21.777485</td>\n",
       "    </tr>\n",
       "    <tr>\n",
       "      <th>4569</th>\n",
       "      <td>\\nThe host file requires the names that you'll be using in addition to the ip address\\n\\nsucb as\\n\\n100.0.0.1 name.server.name\\n100.2.2.1 name.router.name</td>\n",
       "      <td>2</td>\n",
       "      <td>22</td>\n",
       "      <td>4</td>\n",
       "      <td>8</td>\n",
       "      <td>0.36</td>\n",
       "      <td>11</td>\n",
       "      <td>0.500000</td>\n",
       "    </tr>\n",
       "    <tr>\n",
       "      <th>4864</th>\n",
       "      <td>\\n[...]\\n\\n   ~~~~~~~~~~~~~~~~~~~~~~~~~~~~~~~~\\n\\n[...]\\n\\nMy Problem: I wasn't aware of the fact that I would need an *SCSI*-CD-ROM for\\nWindows NT when ordering the Beta-SDK-Package. So my question: Is there any driver\\navailable that will allow me to use my Mitsumi (Non-SCSI) CD-ROM for installation ?\\nIf there is one, from which place (ftp-site) can I get it ?\\n\\nMany thanks in advance\\n\\n\\tStefan Kuehnel\\n---\\n\\n----------------------------------------------------------------------\\n   /\\  Stefan K\"uhnel\\n  |   \\n  |/   kuehnel@rvs.uni-hannover.de   \\n  |\\   kuehnel@swl.uni-hannover.d...</td>\n",
       "      <td>2</td>\n",
       "      <td>100</td>\n",
       "      <td>18</td>\n",
       "      <td>33</td>\n",
       "      <td>0.33</td>\n",
       "      <td>161</td>\n",
       "      <td>1.610000</td>\n",
       "    </tr>\n",
       "    <tr>\n",
       "      <th>5006</th>\n",
       "      <td>\\n\\n------------ Part 11 of 14 ------------\\nMR1865%22DM75U=75U4)\"0IV=G9V=G9V=G9V=G9V=G9V=G9V=G9V=G9V=G9V=\\nMG9V=G9V=G9V=G9V=G9V=G9V=G9V=G9V=G9V=G9V=G9V=G9V=G9V=G9V=G9V=\\nMG9V=G9V=G9V=G9V=G9V=G9V=G9V=G9V=G9V=G9V=G9V=G9V=G9V=G9V=G9V=\\nMG9V=0M75U=625!;)B8E,3`]G9S2+[&gt;WM4QD]F0-&gt;7EXJWZ5F,8&gt;'AX&gt;'AX&gt;'\\nMAX&gt;'AX&gt;'AX&gt;'AX&gt;'AX&gt;'AX&gt;'AX&gt;'AX&gt;'AX&gt;'AX&gt;'AX&gt;'AX&gt;'AX&gt;'AX&gt;'AX&gt;'\\nMAX&gt;'AX&gt;'AX&gt;'AX&gt;'AX&gt;'AX&gt;'AX&gt;'AX&gt;'AX&gt;'AX&gt;'AX&gt;'AX&gt;'AX&gt;'AX&gt;'AX&gt;'\\nMAX&gt;'AX&gt;'AX&gt;'AX&gt;'AX&gt;'AX&gt;'AX&gt;'AX&gt;'AX&gt;'AX&gt;'AX&gt;'AX&gt;'AX&gt;'AX&gt;'AX&gt;'\\nMAX&gt;'AX&gt;'AX&gt;'AX&gt;'AX&gt;'AX&gt;'AX&gt;'AX&gt;'AX&gt;'AX&gt;'AX&gt;'AX&gt;'AX&gt;'AX&gt;'AX&gt;'\\nMAX&gt;'AX&lt;Q9J5ZNP.9F3V9F9F9F3W2TG%Q&amp;1FPL%-3[&gt;WM[&gt;...</td>\n",
       "      <td>2</td>\n",
       "      <td>966</td>\n",
       "      <td>954</td>\n",
       "      <td>5</td>\n",
       "      <td>0.01</td>\n",
       "      <td>26156</td>\n",
       "      <td>27.076605</td>\n",
       "    </tr>\n",
       "    <tr>\n",
       "      <th>5385</th>\n",
       "      <td>\\n\\n------------ Part 14 of 14 ------------\\nM&lt;1D9&amp;;\"P4U/M[&gt;V+BXN+-#0T-#0TQ33%Q6=G9V=G#P\\/#P\\/9V?%Q&lt;7%Q30T\\nM-#0T-#0TBXOM[&gt;WM4U.PL+\"P&amp;1D9&amp;1D9&amp;1D9&amp;1D9&amp;1D9&amp;1D9&amp;1D9&lt;7%Q&lt;7$9\\nM&amp;7%Q&lt;7%Q&lt;=+2TCT]/9F9F0,#7EY&gt;N[N[*BHJ&gt;GIZW]_?W]_?W]]'1T='I:6E\\nMI4='I:6E\"PL+\"V9FQ,0Q,8&gt;'AX&gt;'AX&gt;'AX&gt;'AX&gt;'AX&gt;'AX&gt;'AX&gt;'AS$Q,&lt;3$\\nMQ&amp;9F9F9F\"PL+\"PL+I:6EI:6EI4='1T='1T='W]_?&gt;GIZ*BJ[N[N[NUY&gt;`P.9\\nMF3W2&lt;1D9&amp;;\"P4U/M[8N+-#0T-#0T-#0T-#0T-#0T-,7%Q&lt;7%9V=G9V=G9P\\/\\nM#TQ,3$Q,3(F)B8F)B8F)B8F)B8F)B8F)B8F)B4Q,3$Q,3$Q,3`\\/9\\7%Q&lt;4T\\nM-(N+[;`9&lt;=(]F0-&gt;NRIZWT='I0MF9L3$,8&gt;'AX&gt;'AX&gt;'AX&gt;'AX&gt;'AX&gt;'AX&gt;'\\nMAX&gt;'AX&gt;'AX&gt;'AX&gt;'AX&gt;'AX&gt;'AX&gt;'AX&gt;'AX&gt;'AX&gt;'AX&gt;'AX...</td>\n",
       "      <td>2</td>\n",
       "      <td>459</td>\n",
       "      <td>447</td>\n",
       "      <td>5</td>\n",
       "      <td>0.01</td>\n",
       "      <td>12343</td>\n",
       "      <td>26.891068</td>\n",
       "    </tr>\n",
       "    <tr>\n",
       "      <th>6119</th>\n",
       "      <td>From article &lt;a4Fm3B1w165w@vicuna.ocunix.on.ca&gt;, by Steve Frampton &lt;frampton@vicuna.ocunix.on.ca&gt;:\\n\\nYes!  In the usual ftp sites.</td>\n",
       "      <td>2</td>\n",
       "      <td>13</td>\n",
       "      <td>2</td>\n",
       "      <td>4</td>\n",
       "      <td>0.31</td>\n",
       "      <td>16</td>\n",
       "      <td>1.230769</td>\n",
       "    </tr>\n",
       "    <tr>\n",
       "      <th>6235</th>\n",
       "      <td>Pardonon, mi ofte konfuzigxas pri \"mola\" kaj \"malmola\".  Do: \"mol-vara\"?\\n\\n     (I was confused between \"soft\" and \"hard\", as in \"software\".)</td>\n",
       "      <td>2</td>\n",
       "      <td>20</td>\n",
       "      <td>2</td>\n",
       "      <td>5</td>\n",
       "      <td>0.25</td>\n",
       "      <td>21</td>\n",
       "      <td>1.050000</td>\n",
       "    </tr>\n",
       "    <tr>\n",
       "      <th>6858</th>\n",
       "      <td>\\n------------ Part 2 of 14 ------------\\nM0./CXT!)27M)X^-)X^/CBN/C24E[X^.*X^/CX^.*X^,RBN.*,HKC,GOC,N-[\\nMBC)[XS(R6'OC3C)[&gt;XJ*,EA.BN&gt;*&gt;S+GBE@R6(KSYXKSBHI86$Y.Y^&lt;R\\_-8\\nMY_/SYS*/CT[S\\X_S3N&gt;/C^&gt;/CX_S\\UA.Y_/SC_./C_-8C_./C_/GCX^/Y_./\\nM\\X_SCX^/\\_./C_/S\\_./\\X^/\\X^/CX_SCX^/C_./CX^/\\X^/C_./CX^/CX^/\\nM\\X^OC_./\\X^/C_./CX_SCX_S\\X^/\\_./CX^/\\X_SCX_SCX^/CX^/CX^/C_./\\nMCX^/CX_SCX^/C_./CX\\ORI&amp;1RI$Z0&lt;K*D2\\O.MC8.CK*.D$ZRCK*V#I!V,IM\\nM;&lt;K*.CK*;3HZ0=C8V&amp;UMV,K*RCHZ.MC8;7/*RG-!RCK8.LIS.FW8V#K*;3I!\\nM.LHZ.CHO+T$Z.CK*+SIMRCK8+T'*.CI!V,K*V#HOD9&amp;1.CHO+SHZ08;*.CHZ\\nM:9$ZAI$Z+SHZAD$ORI$Z.B\\ZQR^&amp;:6EIACK'D9&amp;1+SHZQY&amp;&amp;D...</td>\n",
       "      <td>2</td>\n",
       "      <td>966</td>\n",
       "      <td>955</td>\n",
       "      <td>5</td>\n",
       "      <td>0.01</td>\n",
       "      <td>24207</td>\n",
       "      <td>25.059006</td>\n",
       "    </tr>\n",
       "    <tr>\n",
       "      <th>7435</th>\n",
       "      <td>\\n\\n\\nIt sounds like something/one may have set the 1000's separator to \".\" in\\nContol Panel (under International).  This makes 23,482 look like 23.482\\nand File Manager is chopping off what it thinks is the decimal part of\\nthe file size. 3,356,345 becomes 3.356.345, and again, File Manager is\\nconfused by the decimal points where there should be commas, chopping\\noff everything to the right of the first period.\\n\\n-- \\nTony DeBari          FQDN: tonyd@ssc60.sbwk.nj.us     CI$: 73117,452\\n                     UUCP: ...!uunet!ssc60!tonyd      *P*: GHRW14B</td>\n",
       "      <td>2</td>\n",
       "      <td>79</td>\n",
       "      <td>9</td>\n",
       "      <td>33</td>\n",
       "      <td>0.42</td>\n",
       "      <td>39</td>\n",
       "      <td>0.493671</td>\n",
       "    </tr>\n",
       "    <tr>\n",
       "      <th>7715</th>\n",
       "      <td>\\n\\nBBS number\\n510-226-2365</td>\n",
       "      <td>2</td>\n",
       "      <td>3</td>\n",
       "      <td>2</td>\n",
       "      <td>0</td>\n",
       "      <td>0.00</td>\n",
       "      <td>2</td>\n",
       "      <td>0.666667</td>\n",
       "    </tr>\n",
       "    <tr>\n",
       "      <th>7814</th>\n",
       "      <td>\\n\\n------------ Part 13 of 14 ------------\\nMTM(]/3V9F0-&gt;7EY&gt;7EZ[N[LJ*GK?W]]'1T&gt;EI:6EI:6E1T='1Z4+I:5'1Z4+\\nM\"V;$Q#&amp;'AX&gt;'AX&gt;'AX&gt;'AX&gt;'AX&gt;'AX&gt;'AX&gt;'AX&gt;'AX&gt;'AX&gt;'AX&gt;'AX&gt;'AX&gt;'\\nMAX&gt;'AX&gt;'AX&gt;'AX&gt;'AX&gt;'AX&gt;'AX&gt;'AX&gt;'AX&gt;'AX&gt;'AX&gt;'AX&gt;'AX&gt;'AX&gt;'AX&gt;'\\nMAX&gt;'AX&gt;'AX&gt;'AX&gt;'AX&gt;'AX&gt;'AX&gt;'AX&gt;'AX&gt;'AX&gt;'AX&gt;'AX&gt;'AX&gt;'AX&gt;'AX&gt;'\\nMAX&gt;'AX&gt;'AX&gt;'AX&gt;'AX&gt;'AX&gt;'AX&gt;'AX&gt;'AX&gt;'AX&gt;'AX&gt;'AX&gt;'AX&gt;'AX&gt;'AX&gt;'\\nMAX&gt;'AX&gt;'AX&gt;'AX&gt;'AX&gt;'AX&gt;'AX&gt;'AX&gt;'AX&gt;'AX&gt;'AX&gt;'AX&gt;'AX&gt;'AX&gt;'AX&gt;'\\nMAX&gt;'AX&gt;'AX&gt;'AX&gt;'AX&gt;'AX&gt;'AX&gt;'AX&gt;'AX&gt;'AX&gt;'AX&gt;'AX&gt;'AX&gt;'AX&gt;'AX&gt;'\\nMAX&gt;'AX&gt;'AX&gt;'AX&gt;'AX&gt;'AX&gt;'AX&gt;'AX&gt;'AX&gt;'AX&gt;'AX&gt;'AX&gt;'AX&gt;'AX&gt;'AX&gt;'\\nMAX&gt;'AX&gt;'AX&gt;'AX&gt;'AX&gt;'AX&gt;'AX&gt;'AX&gt;'AX&gt;'AX&gt;'AX&gt;'AX...</td>\n",
       "      <td>2</td>\n",
       "      <td>966</td>\n",
       "      <td>954</td>\n",
       "      <td>5</td>\n",
       "      <td>0.01</td>\n",
       "      <td>26845</td>\n",
       "      <td>27.789855</td>\n",
       "    </tr>\n",
       "    <tr>\n",
       "      <th>8039</th>\n",
       "      <td>I had a question abo</td>\n",
       "      <td>2</td>\n",
       "      <td>5</td>\n",
       "      <td>1</td>\n",
       "      <td>3</td>\n",
       "      <td>0.60</td>\n",
       "      <td>0</td>\n",
       "      <td>0.000000</td>\n",
       "    </tr>\n",
       "    <tr>\n",
       "      <th>8206</th>\n",
       "      <td>\\nJohn White from STAC Electronics can be reached at compuserv as 72370,1005.\\nFor me 72370.1005@compuserve.com would as email address work from Internet.\\n\\n------------------------------------------------------------------------------\\ninternet: ffritze@hpwbe007.wad.hp.com\\nphone:    Germany 7243 602296\\naddress:  Fromut FRITZE, Waldbronn Analytic Division R&amp;D,\\n\\t  Hewlett Packard Str, D 7517 Waldbronn 2, Germany</td>\n",
       "      <td>2</td>\n",
       "      <td>44</td>\n",
       "      <td>7</td>\n",
       "      <td>10</td>\n",
       "      <td>0.23</td>\n",
       "      <td>96</td>\n",
       "      <td>2.181818</td>\n",
       "    </tr>\n",
       "    <tr>\n",
       "      <th>8437</th>\n",
       "      <td>\\n------------ Part 7 of 14 ------------\\nMI:6EI:6EI:6EI:6EI:6EI:6EI:6EI4='1T='1T='1T='I:6EI:6EI:6EI0L+\\nM\"PL+\"PL+\"PL+\"PL+\"PL+I:6EI:6E1T='1T='W]_?W]]Z&gt;GHJ*BJ[NUY&gt;`P,#\\nM`YF9F9D]/3T]/9F9F0-&gt;7KN[N[N[7EX#`P.9F9F'AX&gt;'AX&gt;'AX&gt;'AX&gt;'AX&gt;'\\nMAX&gt;'AX&gt;'AX&gt;'AX&gt;'AX&gt;'AX&gt;'AX&gt;'AX&gt;'AX&gt;'AX&gt;'AX&gt;'AX&gt;'AX&gt;'AX&gt;'AX&gt;'\\nMAX&gt;'AX&gt;'AX&gt;'AX&gt;'AX&gt;'AX&gt;'AX&gt;'AX&gt;'AX&gt;'AX&gt;'AX&gt;'AX&gt;'AX&gt;'AX&gt;'AX&gt;'\\nMAX&gt;'AX&gt;'AX&gt;'AX&gt;'AX&gt;'AX&gt;'AX&gt;'AX&gt;'AX&gt;'AX&gt;'AX&gt;'AX&gt;'AX&gt;'AX&gt;'AX&gt;'\\nMAX&gt;'AX&gt;'AX&gt;'AX&gt;'AX&gt;'AX&gt;'AX&gt;'AX&gt;'AX&gt;'AX&gt;'AX&gt;'AX&gt;'AX&gt;'AX&gt;'AX&gt;'\\nMAX&gt;'AX&gt;'AX&gt;'AX&gt;'AX&gt;'AX&gt;'AX&gt;'AX&gt;'AX&gt;'AX&gt;'AX&gt;'AX&gt;'AX&gt;'AX&gt;'AX&gt;'\\nMASC`P,!;;L`X.$O#P\\!;`M2YYK9:5]3/R%?/`A2JKB+L._$^A...</td>\n",
       "      <td>2</td>\n",
       "      <td>966</td>\n",
       "      <td>955</td>\n",
       "      <td>5</td>\n",
       "      <td>0.01</td>\n",
       "      <td>26681</td>\n",
       "      <td>27.620083</td>\n",
       "    </tr>\n",
       "    <tr>\n",
       "      <th>9126</th>\n",
       "      <td>\\n\\nBeen messin roun progman.ini have ye?  I'm gessing you've been \"tuning\"\\nthe system, that's the only way I can remember getting a blank screen\\nfrom CTRL-ESC.... when one of the PROGMAN.INI parameters was twinked to\\n0 or 3, can't remember.  I've never seen Win 3 do something like that on \\nher own, Captain.</td>\n",
       "      <td>2</td>\n",
       "      <td>53</td>\n",
       "      <td>5</td>\n",
       "      <td>23</td>\n",
       "      <td>0.43</td>\n",
       "      <td>20</td>\n",
       "      <td>0.377358</td>\n",
       "    </tr>\n",
       "    <tr>\n",
       "      <th>9423</th>\n",
       "      <td>\\n------------ Part 8 of 14 ------------\\nMAX&gt;'AX&gt;'AX&gt;'AX&gt;'AYZ&gt;8=#0T\"L!A%(!*]#0T\"4E)&lt;-N;@+(U,C(;CZ;1-/3\\nMTXU*IH?4JH!75\\B`P2&amp;((F[JZ$/Q[/&amp;J3;YJ+2WE&lt;\"3T*0:4E,SUAX&gt;'AY\\*\\nMFYL^/J\"@PR4E)=#0T\"4E2VY+)1$1D&amp;[4U-34U-34AX&gt;'AX&gt;'AX&gt;'AX&gt;'AX&gt;'\\nMAX&gt;'AX&gt;'AX&gt;'AX&gt;'AX&gt;'AX&gt;'AX&lt;Y824E%!17@$JN%!1-(;GO?NKHM:=:6FQ*\\nMKNSL\\3ND\\&gt;QJ+2F'AX&gt;'AX&amp;!UM8DFYL^/CZ@B+40B*`^/IN;FYN;)24E)6%A\\nMT-#0T-!A)25+P\\/#-L#`P%L45U?R(&gt;#@AX&gt;'AX&gt;'AX&gt;'AX&gt;'AX&gt;'AX&gt;'AX&gt;'\\nMAX&gt;'AX&gt;'AX&gt;'AX&gt;'AX&gt;'AX&gt;'AX&gt;'AX&gt;'AX&gt;'AX&gt;'AX&gt;'AX&gt;'AX&gt;'AX&gt;'AX&gt;'\\nMAX&gt;'AX&gt;'AX&gt;'AX&gt;'AX&gt;'AX&gt;'AX&gt;'AX&gt;'AX&gt;'AX&gt;'AX&gt;'AX&gt;'AX&gt;'AX&gt;'AX&gt;'\\nMAX&gt;'AX&gt;'AX&gt;'AX&gt;'AX&gt;'AX&gt;'AX&gt;'AX&gt;'AX&gt;'AX&gt;'AX&gt;'AX&gt;'A...</td>\n",
       "      <td>2</td>\n",
       "      <td>966</td>\n",
       "      <td>954</td>\n",
       "      <td>5</td>\n",
       "      <td>0.01</td>\n",
       "      <td>26112</td>\n",
       "      <td>27.031056</td>\n",
       "    </tr>\n",
       "    <tr>\n",
       "      <th>10474</th>\n",
       "      <td>From article &lt;1993May15.091822.14174@lth.se&gt;, by knut@tts.lth.se (Ake Knutsson):\\n\\n  Put ProgMan (with the hotkey) in your StartUp -group. Should do it.</td>\n",
       "      <td>2</td>\n",
       "      <td>19</td>\n",
       "      <td>2</td>\n",
       "      <td>8</td>\n",
       "      <td>0.42</td>\n",
       "      <td>18</td>\n",
       "      <td>0.947368</td>\n",
       "    </tr>\n",
       "    <tr>\n",
       "      <th>11015</th>\n",
       "      <td>\\n\\n\\n\\n\\n\\n\\n\\nYou do not need the SDK. What you need (and can get free) are\\n\\nLocation: ftp.cica.indiana.edu\\nindex:      /pub/pc/win3/INDEX\\n\\nFirst get /pub/pc/win3/uploads/what.zip (~1.3M) This contains the help\\ncompiler among other things. It is free from Microsoft.\\n\\nThen get these (I think these are free too)\\n\\ndir:\\t/pub/pc/win3/programr\\nfiles:  hag.zip, whag.zip wfwhlp.zip\\n\\nThese are shareware\\n\\ndir:    /pub/pc/win3/util\\nfiles:\\thwab21.zip, qdhelp.zip, qdtool.zip\\n\\ndir:\\t/pub/pc/win3/winword\\nfiles:\\tdrhelpev.zip (macros for word 2.0 to convert doc to hlp files).\\n\\n---...</td>\n",
       "      <td>2</td>\n",
       "      <td>88</td>\n",
       "      <td>17</td>\n",
       "      <td>29</td>\n",
       "      <td>0.33</td>\n",
       "      <td>143</td>\n",
       "      <td>1.625000</td>\n",
       "    </tr>\n",
       "    <tr>\n",
       "      <th>11900</th>\n",
       "      <td>\\n\\n------------ Part 10 of 14 ------------\\nM:J\"U$$,^UM[&gt;WE/M[&gt;V+BXN+BXN+BXN+BXOM[&gt;U34U-34[\"PL!D9&lt;7'2TM+2\\nM/3T]/3T]F9F9`P,#7EY&gt;NRIZWT='I0MFQ#&amp;'AX&gt;'AX&gt;'AX&gt;'AX&gt;'AX&gt;'AX&gt;'\\nMAX&gt;'AX&gt;'AX&gt;'AX&gt;'AX&gt;'AX&gt;'AX&gt;'AX&gt;'AX&gt;'AX&gt;'AX&gt;'AX&gt;'AX&gt;'AX&gt;'AX&gt;'\\nMAX&gt;'AX&gt;'AX&gt;'AX&gt;'AX&gt;'AX&gt;'AX&gt;'AX&gt;'AX&gt;'AX&gt;'AX&gt;'AX&gt;'AX&gt;'AX&gt;'AX&gt;'\\nMAX&gt;'AX&gt;'AX&gt;'AX&gt;'AX&gt;'AX&gt;'AX&gt;'AX&gt;'AX&gt;'AX&gt;'AX&gt;'AX&gt;'AX&gt;'AX&gt;'AX&gt;'\\nMAX&gt;'AX&gt;'AX&gt;'AX&gt;'AX=34U-34U-3[&gt;WM[8N+-(LT-#3%Q&lt;4T-#0T-,7%-#2+\\nM[5-3L+\"P4U-34U-34U-34U-34U-3[&gt;V+BXN+BS0TQ6=G#P],3$Q,3(F)B8G)\\nMR&lt;F)B8F)B8F)B8F)R8F)B4Q,3$Q,#P]G9\\7%Q6=G9V=GQ6&lt;/#TQ,B8F)R&lt;G)\\nMR1865%14DI*2DI+5U=75U=75U=75U=75U=75DI*2DI*2DE...</td>\n",
       "      <td>2</td>\n",
       "      <td>966</td>\n",
       "      <td>954</td>\n",
       "      <td>5</td>\n",
       "      <td>0.01</td>\n",
       "      <td>24023</td>\n",
       "      <td>24.868530</td>\n",
       "    </tr>\n",
       "    <tr>\n",
       "      <th>12019</th>\n",
       "      <td>\\n------------ Part 12 of 14 ------------\\nMAX&gt;'AX&gt;'AX&gt;'AX&gt;'AX&gt;'AX&gt;'AX&gt;'AX&gt;'AX&gt;'AX&gt;'AX&gt;'AX&gt;'AX&gt;'AX&gt;'AX&gt;'\\nMAX&gt;'AX&gt;'AX&gt;'AX&gt;'AX&gt;'AX&gt;'AX&gt;'AX&gt;'AX&gt;'AX&gt;'AX&gt;'AX&gt;'AX&gt;'AX&gt;'AX&gt;'\\nMAX&gt;'AX&gt;'AX&gt;'AX&gt;'AX&gt;'AX&gt;'AX&gt;'AX&gt;'AX&gt;'AX&gt;'AX&gt;'AX&gt;'AX&gt;'AX&gt;'AX&gt;'\\nMAX&gt;'AX&gt;'AX&gt;'AX&gt;'AX&gt;'AX&gt;'AX&gt;'AX&gt;'AX&gt;'AX&gt;'AX&gt;'AX&gt;'AX&gt;'AX&gt;'AX&gt;'\\nMAX&gt;',&lt;3$9@L+I:5'W]_?W]_?W]_?&gt;GIZ*BJ[N[M&gt;7EY&gt;7EY&gt;7@,#`P,#`P-&gt;\\nM`P,#`P-&gt;*BHJ*KN[N[M&gt;`P,#`P-&gt;NRHJ*BIZ1PMF,8&gt;'AX&gt;'AX&gt;'AX&gt;'AX&gt;'\\nMAX&gt;'AX&gt;'AX&gt;'AX&gt;'AX&gt;'AX&gt;'AX&gt;'AX&gt;'AX&gt;'AX&gt;'AX&gt;'AX&gt;'AX&gt;'AX&gt;'AX&gt;'\\nMAX&gt;'AX&gt;'AX&gt;'AX&gt;'AX&gt;'AX&gt;'AX&gt;'AX&gt;'AX&gt;'AX&gt;'AX&gt;'AX&gt;'AX&gt;'AX&gt;'AX&gt;'\\nMAX&gt;'AX&gt;'AX&gt;'AX&gt;'AX&gt;'AX&gt;'AX&gt;'AX&gt;'AX&gt;'AX&gt;'AX&gt;'AX&gt;'...</td>\n",
       "      <td>2</td>\n",
       "      <td>966</td>\n",
       "      <td>954</td>\n",
       "      <td>5</td>\n",
       "      <td>0.01</td>\n",
       "      <td>27671</td>\n",
       "      <td>28.644928</td>\n",
       "    </tr>\n",
       "    <tr>\n",
       "      <th>12273</th>\n",
       "      <td>I'm using BC++'s ObjectWindows (3.1), trying to resond to the left button\\ndouble click message WM_LBUTTONDBLCLK in a combo box. My codes look like:\\n\\nclass MyComboBox : public TComboBox\\n{\\npublic:\\n\\tMyComboBox(PTWindowsObject AParent, int ResourceId, WORD ATextLen) :\\n\\t\\tTComboBox(AParent, ResourceId, ATextLen) {};\\n\\tvirtual void WMLButtonDblClk(RTMessage Msg) = [WM_FIRST + WM_LBUTTONDBLCLK];\\n};\\n\\nvoid MyComboBox::WMLButtonDblClk(RTMessage Msg)\\n{\\n\\t...\\t// responding to the message (selecting the item in the list box)\\n}\\n\\nAnything wrong with my program? Any help would be apprec...</td>\n",
       "      <td>2</td>\n",
       "      <td>79</td>\n",
       "      <td>14</td>\n",
       "      <td>17</td>\n",
       "      <td>0.22</td>\n",
       "      <td>52</td>\n",
       "      <td>0.658228</td>\n",
       "    </tr>\n",
       "    <tr>\n",
       "      <th>12624</th>\n",
       "      <td>\\n------------ Part 6 of 14 ------------\\nMAZ)75U=7R!1KP\"5A8=F&gt;`7;UG)\\&amp;V0&amp;&gt;*YZ&gt;*W5&amp;$'Z]M;T0AX&gt;'AX&gt;'AX&gt;'\\nMAX=7HLAL(;7(5U\\,MEIH@$H^,#\",4*&amp;?8%'U#6#,-V`W!H&gt;'AX&gt;'AX&gt;'AX&gt;'\\nMAX&gt;'AX&gt;'AX&gt;'AX&gt;'AX&gt;'AX&gt;'AX&gt;'AX&gt;'AX&gt;'AX&gt;'A[0E9:0E97PM8]8M9#MH\\nM6CNL]%&amp;'AX&gt;'AX&gt;'AX&gt;'AX&gt;'AUL4SU=7Z/*V&amp;U&lt;2X!!:6M3BYK7L:.Q-TZ#Q\\nM[/%#\\&gt;SL[.R'AX&gt;'A\\!$%$-:U`Q7S]1_S\\BB%!2B5Q2'AX&gt;'AX&gt;'AX&gt;'AX&gt;'\\nMAX&gt;'AX&gt;'AX&gt;'AX&gt;'AX&gt;'AX&gt;'AX&gt;'AX&gt;'AX&gt;'AX&gt;'AX&gt;'AX&gt;'AX&gt;'AX&gt;'A\\\"@\\nM`B'Q(DCQ[$H=L;FGO;5:X(&gt;'AX&gt;J\"&lt;]75\\B`P;Z@,-\"X@^&amp;?S%$&lt;JPV?-P;K\\nMH9\\WS!=@-XQ&lt;AX&gt;'AS'$9@L+I4=Z&gt;BJ[P#9U)5L4`LA75P);V6$KGJEXE5-3\\nM[&gt;V+BXN+BXN+BXN+BXLT-,7%-#0T-#0T-#0T-#0TBXN+[&gt;WM4...</td>\n",
       "      <td>2</td>\n",
       "      <td>966</td>\n",
       "      <td>955</td>\n",
       "      <td>5</td>\n",
       "      <td>0.01</td>\n",
       "      <td>25322</td>\n",
       "      <td>26.213251</td>\n",
       "    </tr>\n",
       "    <tr>\n",
       "      <th>14473</th>\n",
       "      <td>Brandon Wise\\nbwise@nyx.cs.du.edu\\n\\n\\n</td>\n",
       "      <td>2</td>\n",
       "      <td>3</td>\n",
       "      <td>2</td>\n",
       "      <td>0</td>\n",
       "      <td>0.00</td>\n",
       "      <td>4</td>\n",
       "      <td>1.333333</td>\n",
       "    </tr>\n",
       "    <tr>\n",
       "      <th>15159</th>\n",
       "      <td>My suggestion would be to contact Microsoft about the Video4Windows SDK.\\nYou would need to call Developer Services at (800)227-4679 extension 11771\\nfrom 6:30am to 5:30pm Pacific time.\\n\\n</td>\n",
       "      <td>2</td>\n",
       "      <td>28</td>\n",
       "      <td>3</td>\n",
       "      <td>13</td>\n",
       "      <td>0.46</td>\n",
       "      <td>7</td>\n",
       "      <td>0.250000</td>\n",
       "    </tr>\n",
       "    <tr>\n",
       "      <th>15608</th>\n",
       "      <td>Hallo !\\n\\nebosco@us.oracle.com wrote on 28.04.93\\nabout : emm386 and windows\\n\\n\\ne&gt;Von : ebosco@us.oracle.com (Mi, 28.04.93 18:03)\\ne&gt;Name: Eric Bosco\\n\\n[...]\\ne&gt;Should I use emm386 or should I remove it from my config.sys?\\n\\nBasically:\\nWindows prefers extendend memory instead of expanded (more work to do for Win)\\nand if no application desperatly needs EMS, you should leave emm386\\nwith a \"REM\" in your config.sys.\\n\\nBye,\\n    Chris\\n</td>\n",
       "      <td>2</td>\n",
       "      <td>66</td>\n",
       "      <td>13</td>\n",
       "      <td>23</td>\n",
       "      <td>0.35</td>\n",
       "      <td>37</td>\n",
       "      <td>0.560606</td>\n",
       "    </tr>\n",
       "    <tr>\n",
       "      <th>15794</th>\n",
       "      <td>I also had a simular problem with by NEC P7, it went away when I turned\\non the \"print directly to parallel port\" option in the printer setup\\napallette.\\n\\n-- \\n\\n\\nMencsh tract und Gott lacht</td>\n",
       "      <td>2</td>\n",
       "      <td>35</td>\n",
       "      <td>5</td>\n",
       "      <td>14</td>\n",
       "      <td>0.40</td>\n",
       "      <td>6</td>\n",
       "      <td>0.171429</td>\n",
       "    </tr>\n",
       "    <tr>\n",
       "      <th>17127</th>\n",
       "      <td>Here's an interesting table showing how much resources an application\\nuses and how much it gives back on shut down.  This is take from\\nWindows User May 1993 issue:\\n\\n\\nApplication\\t\\tMin. Resource Use\\tResource Not Returned\\n\\t\\t\\tGDI\\tUSER\\t\\tGDI\\tUSER\\n\\nWinSleuth Gold v3.03\\t10\\t6\\t\\t2\\t14\\nWord For Windows v2.0b\\t10\\t0\\t\\t5\\t0\\nLotus 123 v1.1\\t\\t13\\t3\\t\\t3\\t2\\nArts and Leters v3.12\\t7\\t7\\t\\t3\\t1\\nPowerPoint v3.0\\t\\t9\\t1\\t\\t3\\t0\\nCorel Draw v3.0\\t\\t10\\t6\\t\\t3\\t0\\nMicro. Designer v3.1\\t10\\t2\\t\\t2\\t0\\nCrossTalk v2.0\\t\\t0\\t0\\t\\t0\\t0\\nExcel v4.0a\\t\\t11\\t8\\t\\t0\\t0\\nHiJacck v1.0\\t\\t2\\t2\\t\\...</td>\n",
       "      <td>2</td>\n",
       "      <td>211</td>\n",
       "      <td>28</td>\n",
       "      <td>52</td>\n",
       "      <td>0.25</td>\n",
       "      <td>34</td>\n",
       "      <td>0.161137</td>\n",
       "    </tr>\n",
       "    <tr>\n",
       "      <th>17828</th>\n",
       "      <td>Iuj el \".ie\" (kiu lando?) demandis pri \"bitmap\"-oj, kaj iu el\\n\".fi\" (Finnlando) respondis, dirante pri libro en \"Software Development\\nKit\".  Eble, la demandinto *ne* havas la \"elvolvilo por malmol-varoj\".\\n\\n     (That was Esperanto.)\\n\\n     (Some from \".ie\" asked about bitmaps, and some from \".fi\" responded,\\nsaying about a book int the \"Software Development Kit\".  Possibly, the\\nasker does *not* have the development kit.)</td>\n",
       "      <td>2</td>\n",
       "      <td>62</td>\n",
       "      <td>7</td>\n",
       "      <td>12</td>\n",
       "      <td>0.19</td>\n",
       "      <td>46</td>\n",
       "      <td>0.741935</td>\n",
       "    </tr>\n",
       "    <tr>\n",
       "      <th>18232</th>\n",
       "      <td>I&gt;From: ccastco@prism.gatech.EDU (Costas Malamas)\\nssupports pkzip 2.04.  It does NOT require pkz/unzip in order to work, and \\nccosts only $10 to register.\\n</td>\n",
       "      <td>2</td>\n",
       "      <td>22</td>\n",
       "      <td>3</td>\n",
       "      <td>7</td>\n",
       "      <td>0.32</td>\n",
       "      <td>13</td>\n",
       "      <td>0.590909</td>\n",
       "    </tr>\n",
       "  </tbody>\n",
       "</table>\n",
       "</div>"
      ],
      "text/plain": [
       "                                                                                                                                                                                                                                                                                                                                                                                                                                                                                                                                                                                                                          text  \\\n",
       "126                                                                                                                                                                                                                                                                                                                                                                                                                                                                                                                                             I had a similar problem - try changing the netmask to 0.0.0.0 or 255.255.254.0   \n",
       "1796   \\n------------ Part 3 of 14 ------------\\nM\"`@(\"`@(\"`@(\"`@(\"`@(G.3DY.3DY.3DY.3DY.3DY.3DY.3DY.2#IJ:FIJ:F\\nM@^3DY.3DG.OKZZNKJZOKZYSDY.2#IJ9$B-RYB(C<$!\"(H#YM.LISRG-SV#HZ\\nMRG/8<]C*<VW8.MC8V#K*RLIS.M@Z<]C*<]C8V,HZ.FW*.MAM<W-S<W,Z<\\IM\\nM;<J6<]@\\RD%M<\\IM\"`@(\"`@(\"`@(\"`@```\"\"$Q.\"`\"MAFYN;/JZ(N;G<B*Z@\\nM/IN;\"I\\7]1>?@0H*FYN;FSX^/J\"@KJZNB(C<N;FYN;:VN;FYN;FYN;FY/#Q%\\nMW3S==]W1W3S=17?=/$5%=]UW147117?=W7?==W=W=]W=T7=WW=W==X6%W=UW\\nM0(5`0-W==W?==X710-W=A4!WW=V%A=W==]U`2=U)=]UW=W=W=]U`W2/=A85W\\nM0-W=A=V%W=%`T=UW0'?=T87=T7=W=T\"%=W=WT='==W=WA=W1T7?=A='=W=%W\\nM1=W=W7<\\T=W=W44\\/-$\\1=W=W=U%=T5%T=W1W=W=T3P\\/-W=/...   \n",
       "2689   MAX>'AX>'AX>'AX>'AX>'AX>'AX>'AX>'AX>'AX>'AX>'AX>'AX>'AX>'AX>'\\nMAX>'AX>'AX>'AX>',3'$9F8+\"Z5'1]_?W]_?WWIZ>BHJ*BHJ*BHJ*BHJ*GIZ\\nM>GIZ>GIZ*BHJ*GIZ>M_?1T>EI0L+\"V9F9F9FR,A_?W_(5Z(46Q04%%=75VO4\\nMU-34U-34U`(\"`@(\"`@(\"`M34?W]_?]#084O#%%O`.#AUG@&$`0$Y.?518)0&\\nMC#`P8V-55555555559-65@HWGV`7]?7U%Q>?GY^?GP!@45$&*2G:VBDIGIZ'\\nMAX>'AX>'AX>'AX>'AX>'AX>'AX>'AX>'AX>'AX>'AX>'AX>'AX>'AX>'AX>'\\nMAX>'AX>'AX>'34T2P<'HP<$2$A+!P<'!P1(2$A)-34U-34TM,)11-];6UM;6\\nMUM8[(3N^AX>'AX>'AX>'AX>'AX?$9@NE1]]Z*BJ[`SW2&;!3[8LTQ<7%9V=G\\nM9V=G9V=G9V=G9V=GQ<4TBXN+B^WM4U.P&7'2TCT]F0.[>D<+9C&'AX>'AX>'\\nMAX>'AX>'AX>'AX>'AX>'AX>'AVYA...   \n",
       "4362   Due to the resolution and size it is in 14 parts.\\n\\nThis is a uuencoded bitmap.  960X600 256 colors.\\nThe picture is a marbled gazebo on a desert with blue sky background.\\nThe size is just right for centered wallpaper on a 1024x768 display\\nbecause it leaves a border at the bottom just big enough for icons\\nto fit in without being on top of the picture. Reguarding image\\nquality and resolution - I have not seen much better.\\n\\nFor those of you who haven't worked with pieced image files, here\\nis how to put it back together.\\n\\t1. save the 14 parts to 14 individual files\\n\\t2. use a text ...   \n",
       "4569                                                                                                                                                                                                                                                                                                                                                                                                                                                                \\nThe host file requires the names that you'll be using in addition to the ip address\\n\\nsucb as\\n\\n100.0.0.1 name.server.name\\n100.2.2.1 name.router.name   \n",
       "4864   \\n[...]\\n\\n   ~~~~~~~~~~~~~~~~~~~~~~~~~~~~~~~~\\n\\n[...]\\n\\nMy Problem: I wasn't aware of the fact that I would need an *SCSI*-CD-ROM for\\nWindows NT when ordering the Beta-SDK-Package. So my question: Is there any driver\\navailable that will allow me to use my Mitsumi (Non-SCSI) CD-ROM for installation ?\\nIf there is one, from which place (ftp-site) can I get it ?\\n\\nMany thanks in advance\\n\\n\\tStefan Kuehnel\\n---\\n\\n----------------------------------------------------------------------\\n   /\\  Stefan K\"uhnel\\n  |   \\n  |/   kuehnel@rvs.uni-hannover.de   \\n  |\\   kuehnel@swl.uni-hannover.d...   \n",
       "5006   \\n\\n------------ Part 11 of 14 ------------\\nMR1865%22DM75U=75U4)\"0IV=G9V=G9V=G9V=G9V=G9V=G9V=G9V=G9V=G9V=\\nMG9V=G9V=G9V=G9V=G9V=G9V=G9V=G9V=G9V=G9V=G9V=G9V=G9V=G9V=G9V=\\nMG9V=G9V=G9V=G9V=G9V=G9V=G9V=G9V=G9V=G9V=G9V=G9V=G9V=G9V=G9V=\\nMG9V=0M75U=625!;)B8E,3`]G9S2+[>WM4QD]F0->7EXJWZ5F,8>'AX>'AX>'\\nMAX>'AX>'AX>'AX>'AX>'AX>'AX>'AX>'AX>'AX>'AX>'AX>'AX>'AX>'AX>'\\nMAX>'AX>'AX>'AX>'AX>'AX>'AX>'AX>'AX>'AX>'AX>'AX>'AX>'AX>'AX>'\\nMAX>'AX>'AX>'AX>'AX>'AX>'AX>'AX>'AX>'AX>'AX>'AX>'AX>'AX>'AX>'\\nMAX>'AX>'AX>'AX>'AX>'AX>'AX>'AX>'AX>'AX>'AX>'AX>'AX>'AX>'AX>'\\nMAX>'AX<Q9J5ZNP.9F3V9F9F9F3W2TG%Q&1FPL%-3[>WM[>...   \n",
       "5385   \\n\\n------------ Part 14 of 14 ------------\\nM<1D9&;\"P4U/M[>V+BXN+-#0T-#0TQ33%Q6=G9V=G#P\\/#P\\/9V?%Q<7%Q30T\\nM-#0T-#0TBXOM[>WM4U.PL+\"P&1D9&1D9&1D9&1D9&1D9&1D9&1D9<7%Q<7$9\\nM&7%Q<7%Q<=+2TCT]/9F9F0,#7EY>N[N[*BHJ>GIZW]_?W]_?W]]'1T='I:6E\\nMI4='I:6E\"PL+\"V9FQ,0Q,8>'AX>'AX>'AX>'AX>'AX>'AX>'AX>'AS$Q,<3$\\nMQ&9F9F9F\"PL+\"PL+I:6EI:6EI4='1T='1T='W]_?>GIZ*BJ[N[N[NUY>`P.9\\nMF3W2<1D9&;\"P4U/M[8N+-#0T-#0T-#0T-#0T-#0T-,7%Q<7%9V=G9V=G9P\\/\\nM#TQ,3$Q,3(F)B8F)B8F)B8F)B8F)B8F)B8F)B4Q,3$Q,3$Q,3`\\/9\\7%Q<4T\\nM-(N+[;`9<=(]F0->NRIZWT='I0MF9L3$,8>'AX>'AX>'AX>'AX>'AX>'AX>'\\nMAX>'AX>'AX>'AX>'AX>'AX>'AX>'AX>'AX>'AX>'AX>'AX...   \n",
       "6119                                                                                                                                                                                                                                                                                                                                                                                                                                                                                       From article <a4Fm3B1w165w@vicuna.ocunix.on.ca>, by Steve Frampton <frampton@vicuna.ocunix.on.ca>:\\n\\nYes!  In the usual ftp sites.   \n",
       "6235                                                                                                                                                                                                                                                                                                                                                                                                                                                                            Pardonon, mi ofte konfuzigxas pri \"mola\" kaj \"malmola\".  Do: \"mol-vara\"?\\n\\n     (I was confused between \"soft\" and \"hard\", as in \"software\".)   \n",
       "6858   \\n------------ Part 2 of 14 ------------\\nM0./CXT!)27M)X^-)X^/CBN/C24E[X^.*X^/CX^.*X^,RBN.*,HKC,GOC,N-[\\nMBC)[XS(R6'OC3C)[>XJ*,EA.BN>*>S+GBE@R6(KSYXKSBHI86$Y.Y^<R\\_-8\\nMY_/SYS*/CT[S\\X_S3N>/C^>/CX_S\\UA.Y_/SC_./C_-8C_./C_/GCX^/Y_./\\nM\\X_SCX^/\\_./C_/S\\_./\\X^/\\X^/CX_SCX^/C_./CX^/\\X^/C_./CX^/CX^/\\nM\\X^OC_./\\X^/C_./CX_SCX_S\\X^/\\_./CX^/\\X_SCX_SCX^/CX^/CX^/C_./\\nMCX^/CX_SCX^/C_./CX\\ORI&1RI$Z0<K*D2\\O.MC8.CK*.D$ZRCK*V#I!V,IM\\nM;<K*.CK*;3HZ0=C8V&UMV,K*RCHZ.MC8;7/*RG-!RCK8.LIS.FW8V#K*;3I!\\nM.LHZ.CHO+T$Z.CK*+SIMRCK8+T'*.CI!V,K*V#HOD9&1.CHO+SHZ08;*.CHZ\\nM:9$ZAI$Z+SHZAD$ORI$Z.B\\ZQR^&:6EIACK'D9&1+SHZQY&&D...   \n",
       "7435                                         \\n\\n\\nIt sounds like something/one may have set the 1000's separator to \".\" in\\nContol Panel (under International).  This makes 23,482 look like 23.482\\nand File Manager is chopping off what it thinks is the decimal part of\\nthe file size. 3,356,345 becomes 3.356.345, and again, File Manager is\\nconfused by the decimal points where there should be commas, chopping\\noff everything to the right of the first period.\\n\\n-- \\nTony DeBari          FQDN: tonyd@ssc60.sbwk.nj.us     CI$: 73117,452\\n                     UUCP: ...!uunet!ssc60!tonyd      *P*: GHRW14B   \n",
       "7715                                                                                                                                                                                                                                                                                                                                                                                                                                                                                                                                                                                              \\n\\nBBS number\\n510-226-2365   \n",
       "7814   \\n\\n------------ Part 13 of 14 ------------\\nMTM(]/3V9F0->7EY>7EZ[N[LJ*GK?W]]'1T>EI:6EI:6E1T='1Z4+I:5'1Z4+\\nM\"V;$Q#&'AX>'AX>'AX>'AX>'AX>'AX>'AX>'AX>'AX>'AX>'AX>'AX>'AX>'\\nMAX>'AX>'AX>'AX>'AX>'AX>'AX>'AX>'AX>'AX>'AX>'AX>'AX>'AX>'AX>'\\nMAX>'AX>'AX>'AX>'AX>'AX>'AX>'AX>'AX>'AX>'AX>'AX>'AX>'AX>'AX>'\\nMAX>'AX>'AX>'AX>'AX>'AX>'AX>'AX>'AX>'AX>'AX>'AX>'AX>'AX>'AX>'\\nMAX>'AX>'AX>'AX>'AX>'AX>'AX>'AX>'AX>'AX>'AX>'AX>'AX>'AX>'AX>'\\nMAX>'AX>'AX>'AX>'AX>'AX>'AX>'AX>'AX>'AX>'AX>'AX>'AX>'AX>'AX>'\\nMAX>'AX>'AX>'AX>'AX>'AX>'AX>'AX>'AX>'AX>'AX>'AX>'AX>'AX>'AX>'\\nMAX>'AX>'AX>'AX>'AX>'AX>'AX>'AX>'AX>'AX>'AX>'AX...   \n",
       "8039                                                                                                                                                                                                                                                                                                                                                                                                                                                                                                                                                                                                      I had a question abo   \n",
       "8206                                                                                                                                                                                       \\nJohn White from STAC Electronics can be reached at compuserv as 72370,1005.\\nFor me 72370.1005@compuserve.com would as email address work from Internet.\\n\\n------------------------------------------------------------------------------\\ninternet: ffritze@hpwbe007.wad.hp.com\\nphone:    Germany 7243 602296\\naddress:  Fromut FRITZE, Waldbronn Analytic Division R&D,\\n\\t  Hewlett Packard Str, D 7517 Waldbronn 2, Germany   \n",
       "8437   \\n------------ Part 7 of 14 ------------\\nMI:6EI:6EI:6EI:6EI:6EI:6EI:6EI4='1T='1T='1T='I:6EI:6EI:6EI0L+\\nM\"PL+\"PL+\"PL+\"PL+\"PL+I:6EI:6E1T='1T='W]_?W]]Z>GHJ*BJ[NUY>`P,#\\nM`YF9F9D]/3T]/9F9F0->7KN[N[N[7EX#`P.9F9F'AX>'AX>'AX>'AX>'AX>'\\nMAX>'AX>'AX>'AX>'AX>'AX>'AX>'AX>'AX>'AX>'AX>'AX>'AX>'AX>'AX>'\\nMAX>'AX>'AX>'AX>'AX>'AX>'AX>'AX>'AX>'AX>'AX>'AX>'AX>'AX>'AX>'\\nMAX>'AX>'AX>'AX>'AX>'AX>'AX>'AX>'AX>'AX>'AX>'AX>'AX>'AX>'AX>'\\nMAX>'AX>'AX>'AX>'AX>'AX>'AX>'AX>'AX>'AX>'AX>'AX>'AX>'AX>'AX>'\\nMAX>'AX>'AX>'AX>'AX>'AX>'AX>'AX>'AX>'AX>'AX>'AX>'AX>'AX>'AX>'\\nMASC`P,!;;L`X.$O#P\\!;`M2YYK9:5]3/R%?/`A2JKB+L._$^A...   \n",
       "9126                                                                                                                                                                                                                                                                                                 \\n\\nBeen messin roun progman.ini have ye?  I'm gessing you've been \"tuning\"\\nthe system, that's the only way I can remember getting a blank screen\\nfrom CTRL-ESC.... when one of the PROGMAN.INI parameters was twinked to\\n0 or 3, can't remember.  I've never seen Win 3 do something like that on \\nher own, Captain.   \n",
       "9423   \\n------------ Part 8 of 14 ------------\\nMAX>'AX>'AX>'AX>'AYZ>8=#0T\"L!A%(!*]#0T\"4E)<-N;@+(U,C(;CZ;1-/3\\nMTXU*IH?4JH!75\\B`P2&((F[JZ$/Q[/&J3;YJ+2WE<\"3T*0:4E,SUAX>'AY\\*\\nMFYL^/J\"@PR4E)=#0T\"4E2VY+)1$1D&[4U-34U-34AX>'AX>'AX>'AX>'AX>'\\nMAX>'AX>'AX>'AX>'AX>'AX>'AX<Y824E%!17@$JN%!1-(;GO?NKHM:=:6FQ*\\nMKNSL\\3ND\\>QJ+2F'AX>'AX&!UM8DFYL^/CZ@B+40B*`^/IN;FYN;)24E)6%A\\nMT-#0T-!A)25+P\\/#-L#`P%L45U?R(>#@AX>'AX>'AX>'AX>'AX>'AX>'AX>'\\nMAX>'AX>'AX>'AX>'AX>'AX>'AX>'AX>'AX>'AX>'AX>'AX>'AX>'AX>'AX>'\\nMAX>'AX>'AX>'AX>'AX>'AX>'AX>'AX>'AX>'AX>'AX>'AX>'AX>'AX>'AX>'\\nMAX>'AX>'AX>'AX>'AX>'AX>'AX>'AX>'AX>'AX>'AX>'AX>'A...   \n",
       "10474                                                                                                                                                                                                                                                                                                                                                                                                                                                                From article <1993May15.091822.14174@lth.se>, by knut@tts.lth.se (Ake Knutsson):\\n\\n  Put ProgMan (with the hotkey) in your StartUp -group. Should do it.   \n",
       "11015  \\n\\n\\n\\n\\n\\n\\n\\nYou do not need the SDK. What you need (and can get free) are\\n\\nLocation: ftp.cica.indiana.edu\\nindex:      /pub/pc/win3/INDEX\\n\\nFirst get /pub/pc/win3/uploads/what.zip (~1.3M) This contains the help\\ncompiler among other things. It is free from Microsoft.\\n\\nThen get these (I think these are free too)\\n\\ndir:\\t/pub/pc/win3/programr\\nfiles:  hag.zip, whag.zip wfwhlp.zip\\n\\nThese are shareware\\n\\ndir:    /pub/pc/win3/util\\nfiles:\\thwab21.zip, qdhelp.zip, qdtool.zip\\n\\ndir:\\t/pub/pc/win3/winword\\nfiles:\\tdrhelpev.zip (macros for word 2.0 to convert doc to hlp files).\\n\\n---...   \n",
       "11900  \\n\\n------------ Part 10 of 14 ------------\\nM:J\"U$$,^UM[>WE/M[>V+BXN+BXN+BXN+BXOM[>U34U-34[\"PL!D9<7'2TM+2\\nM/3T]/3T]F9F9`P,#7EY>NRIZWT='I0MFQ#&'AX>'AX>'AX>'AX>'AX>'AX>'\\nMAX>'AX>'AX>'AX>'AX>'AX>'AX>'AX>'AX>'AX>'AX>'AX>'AX>'AX>'AX>'\\nMAX>'AX>'AX>'AX>'AX>'AX>'AX>'AX>'AX>'AX>'AX>'AX>'AX>'AX>'AX>'\\nMAX>'AX>'AX>'AX>'AX>'AX>'AX>'AX>'AX>'AX>'AX>'AX>'AX>'AX>'AX>'\\nMAX>'AX>'AX>'AX>'AX=34U-34U-3[>WM[8N+-(LT-#3%Q<4T-#0T-,7%-#2+\\nM[5-3L+\"P4U-34U-34U-34U-34U-3[>V+BXN+BS0TQ6=G#P],3$Q,3(F)B8G)\\nMR<F)B8F)B8F)B8F)R8F)B4Q,3$Q,#P]G9\\7%Q6=G9V=GQ6</#TQ,B8F)R<G)\\nMR1865%14DI*2DI+5U=75U=75U=75U=75U=75DI*2DI*2DE...   \n",
       "12019  \\n------------ Part 12 of 14 ------------\\nMAX>'AX>'AX>'AX>'AX>'AX>'AX>'AX>'AX>'AX>'AX>'AX>'AX>'AX>'AX>'\\nMAX>'AX>'AX>'AX>'AX>'AX>'AX>'AX>'AX>'AX>'AX>'AX>'AX>'AX>'AX>'\\nMAX>'AX>'AX>'AX>'AX>'AX>'AX>'AX>'AX>'AX>'AX>'AX>'AX>'AX>'AX>'\\nMAX>'AX>'AX>'AX>'AX>'AX>'AX>'AX>'AX>'AX>'AX>'AX>'AX>'AX>'AX>'\\nMAX>',<3$9@L+I:5'W]_?W]_?W]_?>GIZ*BJ[N[M>7EY>7EY>7@,#`P,#`P->\\nM`P,#`P->*BHJ*KN[N[M>`P,#`P->NRHJ*BIZ1PMF,8>'AX>'AX>'AX>'AX>'\\nMAX>'AX>'AX>'AX>'AX>'AX>'AX>'AX>'AX>'AX>'AX>'AX>'AX>'AX>'AX>'\\nMAX>'AX>'AX>'AX>'AX>'AX>'AX>'AX>'AX>'AX>'AX>'AX>'AX>'AX>'AX>'\\nMAX>'AX>'AX>'AX>'AX>'AX>'AX>'AX>'AX>'AX>'AX>'AX>'...   \n",
       "12273  I'm using BC++'s ObjectWindows (3.1), trying to resond to the left button\\ndouble click message WM_LBUTTONDBLCLK in a combo box. My codes look like:\\n\\nclass MyComboBox : public TComboBox\\n{\\npublic:\\n\\tMyComboBox(PTWindowsObject AParent, int ResourceId, WORD ATextLen) :\\n\\t\\tTComboBox(AParent, ResourceId, ATextLen) {};\\n\\tvirtual void WMLButtonDblClk(RTMessage Msg) = [WM_FIRST + WM_LBUTTONDBLCLK];\\n};\\n\\nvoid MyComboBox::WMLButtonDblClk(RTMessage Msg)\\n{\\n\\t...\\t// responding to the message (selecting the item in the list box)\\n}\\n\\nAnything wrong with my program? Any help would be apprec...   \n",
       "12624  \\n------------ Part 6 of 14 ------------\\nMAZ)75U=7R!1KP\"5A8=F>`7;UG)\\&V0&>*YZ>*W5&$'Z]M;T0AX>'AX>'AX>'\\nMAX=7HLAL(;7(5U\\,MEIH@$H^,#\",4*&?8%'U#6#,-V`W!H>'AX>'AX>'AX>'\\nMAX>'AX>'AX>'AX>'AX>'AX>'AX>'AX>'AX>'AX>'A[0E9:0E97PM8]8M9#MH\\nM6CNL]%&'AX>'AX>'AX>'AX>'AUL4SU=7Z/*V&U<2X!!:6M3BYK7L:.Q-TZ#Q\\nM[/%#\\>SL[.R'AX>'A\\!$%$-:U`Q7S]1_S\\BB%!2B5Q2'AX>'AX>'AX>'AX>'\\nMAX>'AX>'AX>'AX>'AX>'AX>'AX>'AX>'AX>'AX>'AX>'AX>'AX>'AX>'A\\\"@\\nM`B'Q(DCQ[$H=L;FGO;5:X(>'AX>J\"<]75\\B`P;Z@,-\"X@^&?S%$<JPV?-P;K\\nMH9\\WS!=@-XQ<AX>'AS'$9@L+I4=Z>BJ[P#9U)5L4`LA75P);V6$KGJEXE5-3\\nM[>V+BXN+BXN+BXN+BXLT-,7%-#0T-#0T-#0T-#0TBXN+[>WM4...   \n",
       "14473                                                                                                                                                                                                                                                                                                                                                                                                                                                                                                                                                                                  Brandon Wise\\nbwise@nyx.cs.du.edu\\n\\n\\n   \n",
       "15159                                                                                                                                                                                                                                                                                                                                                                                                                            My suggestion would be to contact Microsoft about the Video4Windows SDK.\\nYou would need to call Developer Services at (800)227-4679 extension 11771\\nfrom 6:30am to 5:30pm Pacific time.\\n\\n   \n",
       "15608                                                                                                                                                             Hallo !\\n\\nebosco@us.oracle.com wrote on 28.04.93\\nabout : emm386 and windows\\n\\n\\ne>Von : ebosco@us.oracle.com (Mi, 28.04.93 18:03)\\ne>Name: Eric Bosco\\n\\n[...]\\ne>Should I use emm386 or should I remove it from my config.sys?\\n\\nBasically:\\nWindows prefers extendend memory instead of expanded (more work to do for Win)\\nand if no application desperatly needs EMS, you should leave emm386\\nwith a \"REM\" in your config.sys.\\n\\nBye,\\n    Chris\\n   \n",
       "15794                                                                                                                                                                                                                                                                                                                                                                                                                        I also had a simular problem with by NEC P7, it went away when I turned\\non the \"print directly to parallel port\" option in the printer setup\\napallette.\\n\\n-- \\n\\n\\nMencsh tract und Gott lacht   \n",
       "17127  Here's an interesting table showing how much resources an application\\nuses and how much it gives back on shut down.  This is take from\\nWindows User May 1993 issue:\\n\\n\\nApplication\\t\\tMin. Resource Use\\tResource Not Returned\\n\\t\\t\\tGDI\\tUSER\\t\\tGDI\\tUSER\\n\\nWinSleuth Gold v3.03\\t10\\t6\\t\\t2\\t14\\nWord For Windows v2.0b\\t10\\t0\\t\\t5\\t0\\nLotus 123 v1.1\\t\\t13\\t3\\t\\t3\\t2\\nArts and Leters v3.12\\t7\\t7\\t\\t3\\t1\\nPowerPoint v3.0\\t\\t9\\t1\\t\\t3\\t0\\nCorel Draw v3.0\\t\\t10\\t6\\t\\t3\\t0\\nMicro. Designer v3.1\\t10\\t2\\t\\t2\\t0\\nCrossTalk v2.0\\t\\t0\\t0\\t\\t0\\t0\\nExcel v4.0a\\t\\t11\\t8\\t\\t0\\t0\\nHiJacck v1.0\\t\\t2\\t2\\t\\...   \n",
       "17828                                                                                                                                                                           Iuj el \".ie\" (kiu lando?) demandis pri \"bitmap\"-oj, kaj iu el\\n\".fi\" (Finnlando) respondis, dirante pri libro en \"Software Development\\nKit\".  Eble, la demandinto *ne* havas la \"elvolvilo por malmol-varoj\".\\n\\n     (That was Esperanto.)\\n\\n     (Some from \".ie\" asked about bitmaps, and some from \".fi\" responded,\\nsaying about a book int the \"Software Development Kit\".  Possibly, the\\nasker does *not* have the development kit.)   \n",
       "18232                                                                                                                                                                                                                                                                                                                                                                                                                                                           I>From: ccastco@prism.gatech.EDU (Costas Malamas)\\nssupports pkzip 2.04.  It does NOT require pkz/unzip in order to work, and \\nccosts only $10 to register.\\n   \n",
       "\n",
       "      category  word_count  line_count  stop_word_count  stop_word_ratio  \\\n",
       "126          2          14           1                6             0.43   \n",
       "1796         2         966         954                5             0.01   \n",
       "2689         2         960         953                3             0.00   \n",
       "4362         2        1137         971               94             0.08   \n",
       "4569         2          22           4                8             0.36   \n",
       "4864         2         100          18               33             0.33   \n",
       "5006         2         966         954                5             0.01   \n",
       "5385         2         459         447                5             0.01   \n",
       "6119         2          13           2                4             0.31   \n",
       "6235         2          20           2                5             0.25   \n",
       "6858         2         966         955                5             0.01   \n",
       "7435         2          79           9               33             0.42   \n",
       "7715         2           3           2                0             0.00   \n",
       "7814         2         966         954                5             0.01   \n",
       "8039         2           5           1                3             0.60   \n",
       "8206         2          44           7               10             0.23   \n",
       "8437         2         966         955                5             0.01   \n",
       "9126         2          53           5               23             0.43   \n",
       "9423         2         966         954                5             0.01   \n",
       "10474        2          19           2                8             0.42   \n",
       "11015        2          88          17               29             0.33   \n",
       "11900        2         966         954                5             0.01   \n",
       "12019        2         966         954                5             0.01   \n",
       "12273        2          79          14               17             0.22   \n",
       "12624        2         966         955                5             0.01   \n",
       "14473        2           3           2                0             0.00   \n",
       "15159        2          28           3               13             0.46   \n",
       "15608        2          66          13               23             0.35   \n",
       "15794        2          35           5               14             0.40   \n",
       "17127        2         211          28               52             0.25   \n",
       "17828        2          62           7               12             0.19   \n",
       "18232        2          22           3                7             0.32   \n",
       "\n",
       "       punctuation_count  punctuation_ratio  \n",
       "126                    7           0.500000  \n",
       "1796               27053          28.005176  \n",
       "2689               25303          26.357292  \n",
       "4362               24761          21.777485  \n",
       "4569                  11           0.500000  \n",
       "4864                 161           1.610000  \n",
       "5006               26156          27.076605  \n",
       "5385               12343          26.891068  \n",
       "6119                  16           1.230769  \n",
       "6235                  21           1.050000  \n",
       "6858               24207          25.059006  \n",
       "7435                  39           0.493671  \n",
       "7715                   2           0.666667  \n",
       "7814               26845          27.789855  \n",
       "8039                   0           0.000000  \n",
       "8206                  96           2.181818  \n",
       "8437               26681          27.620083  \n",
       "9126                  20           0.377358  \n",
       "9423               26112          27.031056  \n",
       "10474                 18           0.947368  \n",
       "11015                143           1.625000  \n",
       "11900              24023          24.868530  \n",
       "12019              27671          28.644928  \n",
       "12273                 52           0.658228  \n",
       "12624              25322          26.213251  \n",
       "14473                  4           1.333333  \n",
       "15159                  7           0.250000  \n",
       "15608                 37           0.560606  \n",
       "15794                  6           0.171429  \n",
       "17127                 34           0.161137  \n",
       "17828                 46           0.741935  \n",
       "18232                 13           0.590909  "
      ]
     },
     "execution_count": 58,
     "metadata": {},
     "output_type": "execute_result"
    }
   ],
   "source": [
    "m = df[temp_choice > 0.1]  # 0.1 threshold. \n",
    "m[m.category == 2]  # Let's deal with category 2 for the max'ax'ax... stuff. "
   ]
  },
  {
   "cell_type": "markdown",
   "metadata": {},
   "source": [
    "We see that there are some that may be interesting already (that contains proper english although still have some numbers, etc, and some even have some Spanish?? )\n",
    "\n",
    "Use back the same variable if you are running out of memory. "
   ]
  },
  {
   "cell_type": "code",
   "execution_count": 59,
   "metadata": {},
   "outputs": [
    {
     "data": {
      "text/plain": [
       "18451"
      ]
     },
     "execution_count": 59,
     "metadata": {},
     "output_type": "execute_result"
    }
   ],
   "source": [
    "df_pointone = df[temp_choice < 0.1].reset_index(level=0, drop=True)\n",
    "len(df_pointone)"
   ]
  },
  {
   "cell_type": "code",
   "execution_count": 60,
   "metadata": {},
   "outputs": [
    {
     "data": {
      "application/vnd.jupyter.widget-view+json": {
       "model_id": "02e153b162ab44c08a8d700cebdb88a4",
       "version_major": 2,
       "version_minor": 0
      },
      "text/plain": [
       "  0%|          | 0/20 [00:00<?, ?it/s]"
      ]
     },
     "metadata": {},
     "output_type": "display_data"
    },
    {
     "data": {
      "text/html": [
       "<table>\n",
       "<thead>\n",
       "<tr><th style=\"text-align: right;\">  category</th><th>0      </th><th>1      </th><th>2       </th><th>3     </th><th>4         </th><th>5         </th><th>6     </th><th>7              </th><th>8     </th><th>9        </th><th>10     </th><th>11      </th><th>12     </th><th>13        </th><th>14      </th></tr>\n",
       "</thead>\n",
       "<tbody>\n",
       "<tr><td style=\"text-align: right;\">         0</td><td>       </td><td>don&#x27;t  </td><td>people  </td><td>god   </td><td>think     </td><td>just      </td><td>does  </td><td>believe        </td><td>-     </td><td>like     </td><td>say    </td><td>know    </td><td>it&#x27;s   </td><td>make      </td><td>said    </td></tr>\n",
       "<tr><td style=\"text-align: right;\">         1</td><td>image  </td><td>-      </td><td>jpeg    </td><td>file  </td><td>graphics  </td><td>available </td><td>use   </td><td>data           </td><td>like  </td><td>images   </td><td>program</td><td>software</td><td>       </td><td>don&#x27;t     </td><td>does    </td></tr>\n",
       "<tr><td style=\"text-align: right;\">         2</td><td>windows</td><td>use    </td><td>dos     </td><td>file  </td><td>like      </td><td>using     </td><td>just  </td><td>don&#x27;t          </td><td>know  </td><td>does     </td><td>files  </td><td>run     </td><td>-      </td><td>program   </td><td>        </td></tr>\n",
       "<tr><td style=\"text-align: right;\">         3</td><td>       </td><td>drive  </td><td>-       </td><td>scsi  </td><td>use       </td><td>card      </td><td>hard  </td><td>disk           </td><td>just  </td><td>know     </td><td>does   </td><td>like    </td><td>ide    </td><td>controller</td><td>2       </td></tr>\n",
       "<tr><td style=\"text-align: right;\">         4</td><td>       </td><td>mac    </td><td>apple   </td><td>know  </td><td>use       </td><td>like      </td><td>just  </td><td>does           </td><td>drive </td><td>don&#x27;t    </td><td>-      </td><td>i&#x27;m     </td><td>problem</td><td>need      </td><td>new     </td></tr>\n",
       "<tr><td style=\"text-align: right;\">         5</td><td>-      </td><td>x      </td><td>use     </td><td>=     </td><td>window    </td><td>file      </td><td>*     </td><td>server         </td><td>using </td><td>         </td><td>program</td><td>set     </td><td>like   </td><td>available </td><td>does    </td></tr>\n",
       "<tr><td style=\"text-align: right;\">         6</td><td>-      </td><td>$      </td><td>        </td><td>1     </td><td>.         </td><td>&amp;         </td><td>new   </td><td>2              </td><td>good  </td><td>like     </td><td>asking </td><td>sell    </td><td>(1st   </td><td>best      </td><td>email   </td></tr>\n",
       "<tr><td style=\"text-align: right;\">         7</td><td>car    </td><td>like   </td><td>just    </td><td>don&#x27;t </td><td>know      </td><td>          </td><td>-     </td><td>new            </td><td>/     </td><td>cars     </td><td>think  </td><td>good    </td><td>it&#x27;s   </td><td>engine    </td><td>i&#x27;m     </td></tr>\n",
       "<tr><td style=\"text-align: right;\">         8</td><td>bike   </td><td>like   </td><td>just    </td><td>don&#x27;t </td><td>it&#x27;s      </td><td>          </td><td>i&#x27;m   </td><td>know           </td><td>dod   </td><td>-        </td><td>good   </td><td>think   </td><td>new    </td><td>ride      </td><td>got     </td></tr>\n",
       "<tr><td style=\"text-align: right;\">         9</td><td>don&#x27;t  </td><td>1      </td><td>think   </td><td>-     </td><td>just      </td><td>like      </td><td>good  </td><td>game           </td><td>0     </td><td>team     </td><td>2      </td><td>year    </td><td>3      </td><td>hit       </td><td>won     </td></tr>\n",
       "<tr><td style=\"text-align: right;\">        10</td><td>0      </td><td>1      </td><td>2       </td><td>-     </td><td>3         </td><td>4         </td><td>game  </td><td>5              </td><td>0     </td><td>team     </td><td>7      </td><td>        </td><td>hockey </td><td>6         </td><td>think   </td></tr>\n",
       "<tr><td style=\"text-align: right;\">        11</td><td>&gt;      </td><td>       </td><td>key     </td><td>use   </td><td>encryption</td><td>government</td><td>people</td><td>-              </td><td>chip  </td><td>don&#x27;t    </td><td>just   </td><td>like    </td><td>clipper</td><td>know      </td><td>security</td></tr>\n",
       "<tr><td style=\"text-align: right;\">        12</td><td>use    </td><td>-      </td><td>|       </td><td>like  </td><td>don&#x27;t     </td><td>know      </td><td>just  </td><td>used           </td><td>does  </td><td>need     </td><td>power  </td><td>it&#x27;s    </td><td>want   </td><td>good      </td><td>        </td></tr>\n",
       "<tr><td style=\"text-align: right;\">        13</td><td>       </td><td>medical</td><td>-       </td><td>don&#x27;t </td><td>like      </td><td>know      </td><td>use   </td><td>health         </td><td>people</td><td>just     </td><td>|      </td><td>--      </td><td>think  </td><td>new       </td><td>cancer  </td></tr>\n",
       "<tr><td style=\"text-align: right;\">        14</td><td>       </td><td>space  </td><td>-       </td><td>like  </td><td>--        </td><td>just      </td><td>launch</td><td>nasa           </td><td>don&#x27;t </td><td>shuttle  </td><td>new    </td><td>think   </td><td>data   </td><td>solar     </td><td>people  </td></tr>\n",
       "<tr><td style=\"text-align: right;\">        15</td><td>god    </td><td>people </td><td>think   </td><td>don&#x27;t </td><td>does      </td><td>jesus     </td><td>know  </td><td>believe        </td><td>just  </td><td>like     </td><td>church </td><td>        </td><td>say    </td><td>did       </td><td>-       </td></tr>\n",
       "<tr><td style=\"text-align: right;\">        16</td><td>-      </td><td>gun    </td><td>people  </td><td>don&#x27;t </td><td>          </td><td>like      </td><td>just  </td><td>think          </td><td>--    </td><td>fbi      </td><td>right  </td><td>guns    </td><td>did    </td><td>know      </td><td>use     </td></tr>\n",
       "<tr><td style=\"text-align: right;\">        17</td><td>       </td><td>people </td><td>armenian</td><td>.     </td><td>turkish   </td><td>armenians </td><td>like  </td><td>-              </td><td>just  </td><td>said     </td><td>israel </td><td>don&#x27;t   </td><td>jews   </td><td>israeli   </td><td>did     </td></tr>\n",
       "<tr><td style=\"text-align: right;\">        18</td><td>       </td><td>q      </td><td>--      </td><td>people</td><td>mr.       </td><td>think     </td><td>don&#x27;t </td><td>stephanopoulos:</td><td>it&#x27;s  </td><td>president</td><td>just   </td><td>going   </td><td>       </td><td>-         </td><td>know    </td></tr>\n",
       "<tr><td style=\"text-align: right;\">        19</td><td>       </td><td>god    </td><td>people  </td><td>don&#x27;t </td><td>jesus     </td><td>think     </td><td>just  </td><td>know           </td><td>say   </td><td>does     </td><td>like   </td><td>did     </td><td>believe</td><td>bible     </td><td>said    </td></tr>\n",
       "</tbody>\n",
       "</table>"
      ],
      "text/plain": [
       "<IPython.core.display.HTML object>"
      ]
     },
     "metadata": {},
     "output_type": "display_data"
    }
   ],
   "source": [
    "unigrams = ngram_counter(df_pointone, 1)\n",
    "n_gram_by_category(unigrams, 15)"
   ]
  },
  {
   "cell_type": "markdown",
   "metadata": {},
   "source": [
    "Much better. "
   ]
  },
  {
   "cell_type": "code",
   "execution_count": 61,
   "metadata": {},
   "outputs": [
    {
     "data": {
      "application/vnd.jupyter.widget-view+json": {
       "model_id": "b4eec1c73e8e4ea1a486d2a73a8808a1",
       "version_major": 2,
       "version_minor": 0
      },
      "text/plain": [
       "  0%|          | 0/20 [00:00<?, ?it/s]"
      ]
     },
     "metadata": {},
     "output_type": "display_data"
    },
    {
     "data": {
      "text/html": [
       "<table>\n",
       "<thead>\n",
       "<tr><th style=\"text-align: right;\">  category</th><th>0                 </th><th>1                  </th><th>2             </th><th>3                </th><th>4               </th><th>5                                </th><th>6                   </th><th>7                  </th><th>8               </th><th>9              </th><th>10                 </th><th>11          </th><th>12                </th><th>13               </th><th>14                   </th></tr>\n",
       "</thead>\n",
       "<tbody>\n",
       "<tr><td style=\"text-align: right;\">         0</td><td>                  </td><td>don&#x27;t think        </td><td>don&#x27;t know    </td><td>. .              </td><td>bob beauchaine  </td><td>beauchaine bobbe@vice.ico.tek.com</td><td>bobbe@vice.ico.tek.com \n",
       "\n",
       "they                     </td><td>they said          </td><td>said queens     </td><td>queens stay,   </td><td>stay, blew         </td><td>blew bronx  </td><td>bronx away,\n",
       "and                   </td><td>away,\n",
       "and sank                  </td><td>sank manhattan       </td></tr>\n",
       "<tr><td style=\"text-align: right;\">         1</td><td>image processing  </td><td>computer graphics  </td><td>anonymous ftp </td><td>24 bit           </td><td>source code     </td><td>don&#x27;t know                       </td><td>image quality       </td><td>available anonymous</td><td>file format     </td><td>does know      </td><td>free jpeg          </td><td>i&#x27;m sure    </td><td>8 bit             </td><td>user interface   </td><td>i&#x27;m looking          </td></tr>\n",
       "<tr><td style=\"text-align: right;\">         2</td><td>_/ _/             </td><td>windows 3.1        </td><td>cross linked  </td><td>linked allocation</td><td>allocation unit </td><td>_ _                              </td><td>don&#x27;t know          </td><td>* *                </td><td>windows nt      </td><td>does know      </td><td>ftp site           </td><td>swap file   </td><td>run windows       </td><td>dos 6            </td><td>don&#x27;t think          </td></tr>\n",
       "<tr><td style=\"text-align: right;\">         3</td><td>hard disk         </td><td>local bus          </td><td>rom bios      </td><td>                 </td><td>controller card </td><td>hard drive                       </td><td>disk drives         </td><td>floppy disk        </td><td>don&#x27;t know      </td><td>. .            </td><td>disk controller    </td><td>_/ _/       </td><td>tape drive        </td><td>bios             </td><td>isa bus              </td></tr>\n",
       "<tr><td style=\"text-align: right;\">         4</td><td>- -               </td><td>does know          </td><td>don&#x27;t know    </td><td>hard drive       </td><td>32 32           </td><td>hard disk                        </td><td>25 mhz              </td><td>                   </td><td>centris 610     </td><td>| |            </td><td>power supply       </td><td>(pc week    </td><td>vv vv             </td><td>-- --            </td><td>|\n",
       " |                      </td></tr>\n",
       "<tr><td style=\"text-align: right;\">         5</td><td>- -               </td><td>window manager     </td><td>/*\n",
       "x *               </td><td>*/\n",
       "x char                  </td><td>x server        </td><td>*\n",
       "x *                                  </td><td>open look           </td><td>x window           </td><td>anonymous ftp   </td><td>output file    </td><td>stream */\n",
       "x                    </td><td>*/\n",
       "x int             </td><td>ms windows        </td><td>file stream      </td><td>user interface       </td></tr>\n",
       "<tr><td style=\"text-align: right;\">         6</td><td>. .               </td><td>appears) $         </td><td>(1st app      </td><td>- good           </td><td>good -          </td><td>1 (signed                        </td><td>(signed liefeld,    </td><td>liefeld, bagged,   </td><td>(2 copies)      </td><td>brand new      </td><td>copies) $2         </td><td>- excellent </td><td>appear) $         </td><td>(1st appearance  </td><td>&amp; pom                </td></tr>\n",
       "<tr><td style=\"text-align: right;\">         7</td><td>/ /               </td><td>don&#x27;t know         </td><td>(send requests</td><td>| /              </td><td>/ |             </td><td>| |                              </td><td>don&#x27;t think         </td><td>/ \\                </td><td>\\ /             </td><td>oil change     </td><td>consumer reports   </td><td>/           </td><td>i&#x27;m sure          </td><td>/                </td><td>|\n",
       " |                      </td></tr>\n",
       "<tr><td style=\"text-align: right;\">         8</td><td>don&#x27;t know        </td><td>----===== dod      </td><td>dod #8177     </td><td>#8177 =          </td><td>= technician(dr.</td><td>technician(dr. speed)            </td><td>speed) .not.        </td><td>.not. student      </td><td>. .             </td><td>biker) dod     </td><td>dod 1069           </td><td>1069 concise</td><td>)-:               </td><td>:-(              </td><td>student =====----    </td></tr>\n",
       "<tr><td style=\"text-align: right;\">         9</td><td>0 0               </td><td>- -                </td><td>won 1         </td><td>lost 1           </td><td>red sox         </td><td>| |                              </td><td>don&#x27;t know          </td><td>don&#x27;t think        </td><td>suck cubs       </td><td>cubs suck      </td><td>won 2              </td><td>1 1         </td><td>major league      </td><td>blue jays        </td><td>new york             </td></tr>\n",
       "<tr><td style=\"text-align: right;\">        10</td><td>0 0               </td><td>1 0                </td><td>0 1           </td><td>1 1              </td><td>2 2             </td><td>2 0                              </td><td>0 0                 </td><td>0 2                </td><td>- -             </td><td>3 0            </td><td>1 2                </td><td>2 1         </td><td>1 -               </td><td>--- ---          </td><td>power play:          </td></tr>\n",
       "<tr><td style=\"text-align: right;\">        11</td><td>&gt;                 </td><td>law enforcement    </td><td>clipper chip  </td><td>&gt;                </td><td>public key      </td><td>anonymous ftp                    </td><td>serial number       </td><td>the\n",
       " &gt;                    </td><td>&quot;clipper chip&quot;  </td><td>don&#x27;t know     </td><td>available anonymous</td><td>. .         </td><td>s1 s2             </td><td>don&#x27;t think      </td><td>anonymous posting    </td></tr>\n",
       "<tr><td style=\"text-align: right;\">        12</td><td>| |               </td><td>| |                </td><td>don&#x27;t know    </td><td>- -              </td><td>|\n",
       " |                 </td><td>does know                        </td><td>i&#x27;ve seen           </td><td>make sure          </td><td>r r             </td><td>copy protection</td><td>. .                </td><td>i&#x27;ve got    </td><td>i&#x27;m looking       </td><td>power supply     </td><td>i&#x27;d like             </td></tr>\n",
       "<tr><td style=\"text-align: right;\">        13</td><td>medical newsletter</td><td>newsletter page    </td><td>6, number     </td><td>banks n3jxp      </td><td>n3jxp |         </td><td>| &quot;skepticism                    </td><td>&quot;skepticism chastity</td><td>chastity intellect,</td><td>----------------------------------------------------------------------------\n",
       "gordon banks                 </td><td>intellect, and\n",
       "geb@cadre.dsl.pitt.edu                </td><td>and\n",
       "geb@cadre.dsl.pitt.edu |                    </td><td>| shameful  </td><td>shameful surrender</td><td>surrender soon.&quot; </td><td>number 11            </td></tr>\n",
       "<tr><td style=\"text-align: right;\">        14</td><td>                  </td><td>space station      </td><td>space shuttle </td><td>| |              </td><td>anonymous ftp   </td><td>?? -                             </td><td>don&#x27;t think         </td><td>don&#x27;t know         </td><td>nasa ames       </td><td>people don&#x27;t   </td><td>commercial space   </td><td>gamma ray   </td><td>&quot;insisting perfect</td><td>perfect safety   </td><td>safety people        </td></tr>\n",
       "<tr><td style=\"text-align: right;\">        15</td><td>_/ _/             </td><td>don&#x27;t know         </td><td>holy spirit   </td><td>don&#x27;t think      </td><td>don&#x27;t believe   </td><td>new testament                    </td><td>jesus christ        </td><td>|                  </td><td>does mean       </td><td>catholic church</td><td>i&#x27;m sure           </td><td>q.          </td><td>second coming     </td><td>lord jesus       </td><td>god does             </td></tr>\n",
       "<tr><td style=\"text-align: right;\">        16</td><td>- -               </td><td>gun control        </td><td>united states </td><td>second amendment </td><td>                </td><td>law enforcement                  </td><td>don&#x27;t know          </td><td>tear gas           </td><td>don&#x27;t think     </td><td>bear arms      </td><td>. .                </td><td>gun owners  </td><td>branch davidians  </td><td>i&#x27;m sure         </td><td>right people         </td></tr>\n",
       "<tr><td style=\"text-align: right;\">        17</td><td>. .               </td><td>professor history, </td><td>human rights  </td><td>|\n",
       " |                  </td><td>2.5 million     </td><td>don&#x27;t know                       </td><td>armenian government </td><td>                   </td><td>new york        </td><td>ottoman empire </td><td>muslim population  </td><td>world war   </td><td>genocide 2.5      </td><td>x-soviet armenian</td><td>new york,            </td></tr>\n",
       "<tr><td style=\"text-align: right;\">        18</td><td>q                 </td><td>mr. stephanopoulos:</td><td>mr.           </td><td>ms. myers:       </td><td>ms.             </td><td>- -                              </td><td>                    </td><td>--                 </td><td>don&#x27;t know      </td><td>united states  </td><td>president:         </td><td>health care </td><td>don&#x27;t think       </td><td>q\t george,                  </td><td>senior administration</td></tr>\n",
       "<tr><td style=\"text-align: right;\">        19</td><td>                  </td><td>lord [jehovah]     </td><td>. .           </td><td>don&#x27;t think      </td><td>lord [jehovah], </td><td>* *                              </td><td>god [elohim]        </td><td>don&#x27;t know         </td><td>(emphasis added)</td><td>said unto      </td><td>thou shalt         </td><td>_/ _/       </td><td>jesus christ      </td><td>does mean        </td><td>(promised messiah,   </td></tr>\n",
       "</tbody>\n",
       "</table>"
      ],
      "text/plain": [
       "<IPython.core.display.HTML object>"
      ]
     },
     "metadata": {},
     "output_type": "display_data"
    }
   ],
   "source": [
    "bigrams = ngram_counter(df_pointone, 2)\n",
    "n_gram_by_category(bigrams, 15)"
   ]
  },
  {
   "cell_type": "markdown",
   "metadata": {},
   "source": [
    "Of course, there are still some stuffs that we need to clean it out for better training. `don't know` and `don't think` also is quite active amongst the population: seems like there exist quite a strong opinion-based articles rather than fact-based? We couldn't know until investigation goes deep. \n",
    "\n",
    "And there are stuffs like 'mr. stephanopoulos'. One guess this refers to the [George Stephanopoulos](https://en.wikipedia.org/wiki/George_Stephanopoulos). One isn't sure if it's a good thing to learn about him to do classification or not, as we may want independence from a specific person as although one is a star of a certain area doesn't mean it is best represent that area. How about David Koresh as well? "
   ]
  },
  {
   "cell_type": "code",
   "execution_count": 62,
   "metadata": {},
   "outputs": [
    {
     "data": {
      "application/vnd.jupyter.widget-view+json": {
       "model_id": "e6a9d267eb0746edbcaa9b7dea373e52",
       "version_major": 2,
       "version_minor": 0
      },
      "text/plain": [
       "  0%|          | 0/20 [00:00<?, ?it/s]"
      ]
     },
     "metadata": {},
     "output_type": "display_data"
    },
    {
     "data": {
      "text/html": [
       "<table>\n",
       "<thead>\n",
       "<tr><th style=\"text-align: right;\">  category</th><th>0                      </th><th>1                                    </th><th>2                           </th><th>3                       </th><th>4                              </th><th>5                       </th><th>6                                 </th><th>7                          </th><th>8                              </th><th>9                      </th><th>10                        </th><th>11                             </th><th>12                                </th><th>13                                              </th><th>14                              </th></tr>\n",
       "</thead>\n",
       "<tbody>\n",
       "<tr><td style=\"text-align: right;\">         0</td><td>                       </td><td>bob beauchaine bobbe@vice.ico.tek.com</td><td>beauchaine bobbe@vice.ico.tek.com \n",
       "\n",
       "they                             </td><td>bobbe@vice.ico.tek.com \n",
       "\n",
       "they said                         </td><td>they said queens               </td><td>said queens stay,       </td><td>queens stay, blew                 </td><td>stay, blew bronx           </td><td>blew bronx away,\n",
       "and                                </td><td>bronx away,\n",
       "and sank                        </td><td>away,\n",
       "and sank manhattan                           </td><td>sank manhattan sea.            </td><td>. . .                             </td><td>_/ _/ _/                                        </td><td>michael a. cobb                 </td></tr>\n",
       "<tr><td style=\"text-align: right;\">         1</td><td>available anonymous ftp</td><td>+44 (0)61 275                        </td><td>mirror sites (see           </td><td>sites (see note         </td><td>(see note below),              </td><td>note below), file       </td><td>send subscription requests        </td><td># # #                      </td><td>free ijg jpeg                  </td><td>lilley\n",
       "----------------------------------------------------------------------------\n",
       "technical author, itti                        </td><td>author, itti computer     </td><td>itti computer graphics         </td><td>computer graphics visualisation   </td><td>graphics visualisation training                 </td><td>visualisation training project\n",
       "computer                                 </td></tr>\n",
       "<tr><td style=\"text-align: right;\">         2</td><td>_/ _/ _/               </td><td>cross linked allocation              </td><td>linked allocation unit      </td><td>_ _ _                   </td><td>* * *                          </td><td>notebook file name:     </td><td>_/ _/ _/                          </td><td>&quot; &quot; &quot;                      </td><td>allocation error, size         </td><td>notebook file          </td><td>march 15, 1991            </td><td>15, 1991\n",
       "\n",
       "\n",
       "\n",
       "\n",
       "\n",
       "\t\t\t\t -                                </td><td>does anybody know                 </td><td>case western reserve                            </td><td>_/ _/\n",
       " _/                                 </td></tr>\n",
       "<tr><td style=\"text-align: right;\">         3</td><td>. . .                  </td><td>_/ _/ _/                             </td><td>hard disk controller        </td><td>rom bios                </td><td>floppy disk drives             </td><td>hard disk               </td><td>- hard disk                       </td><td>inches\n",
       " max resolution:                            </td><td>st506/st412 interface. supports</td><td>disk controller card   </td><td>interface. supports 2     </td><td>optional rom bios              </td><td>controller card                   </td><td>hard disk drives                                </td><td>blue wave/qwk v2.10             </td></tr>\n",
       "<tr><td style=\"text-align: right;\">         4</td><td>- - -                  </td><td>32 32 32                             </td><td>-- -- --                    </td><td>|\n",
       " | |                         </td><td>25 mhz operational\n",
       "\theat                                </td><td>mhz operational\n",
       "\theat sink                         </td><td>o o o                             </td><td>h+\n",
       "-- \n",
       " --                            </td><td>-- jon                         </td><td>-- jon w{tte,          </td><td>jon w{tte, h+@nada.kth.se,</td><td>w{tte, h+@nada.kth.se, mac     </td><td>h+@nada.kth.se, mac hacker        </td><td>mac hacker deluxe                               </td><td>hacker deluxe --                </td></tr>\n",
       "<tr><td style=\"text-align: right;\">         5</td><td>- - -                  </td><td>file stream */\n",
       "x                                      </td><td>stream */\n",
       "x char                             </td><td>available anonymous ftp </td><td>}\n",
       "x\n",
       "x /*\n",
       "x *                                </td><td>/*\n",
       "x * write                         </td><td>output file stream                </td><td>*/\n",
       "x char *oname;\t\t/*                            </td><td>char *oname;\t\t/* output                                </td><td>check_io(output, oname, eof_not_ok);\n",
       "x\n",
       "x                        </td><td>landon curt noll          </td><td>*/\n",
       "x\n",
       "x /*\n",
       "x *                                </td><td>file *output;\t\t/* entry&#x27;s                                   </td><td>*output;\t\t/* entry&#x27;s output                                                 </td><td>entry&#x27;s output file             </td></tr>\n",
       "<tr><td style=\"text-align: right;\">         6</td><td>. . .                  </td><td>- good -                             </td><td>1 (signed liefeld,          </td><td>(signed liefeld, bagged,</td><td>- excellent -                  </td><td>(2 copies) $2           </td><td>2001 tie in)                      </td><td>trek generation 1          </td><td>1 copy left!!!)                </td><td>(armegedon 2001 tie    </td><td>1 (1st app                </td><td>comics near mint               </td><td>(ron lim art,                     </td><td>lim art, black                                  </td><td>art, black panther)\t$                                 </td></tr>\n",
       "<tr><td style=\"text-align: right;\">         7</td><td>/ / /                  </td><td>/ | /                                </td><td>/ /__ __/                   </td><td>/ ___ /                 </td><td>___ / /                        </td><td>/ \\ /                   </td><td>\\ /                               </td><td>| / |                      </td><td>| | |                          </td><td>. \n",
       " /                        </td><td>/ \n",
       "larry                           </td><td>/ \n",
       "larry __/                                </td><td>larry __/ _______/_               </td><td>__/ _______/_ \n",
       "keys@csmes.ncsl.nist.gov                                                 </td><td>_______/_ \n",
       "keys@csmes.ncsl.nist.gov /                                 </td></tr>\n",
       "<tr><td style=\"text-align: right;\">         8</td><td>----===== dod #8177    </td><td>dod #8177 =                          </td><td>#8177 = technician(dr.      </td><td>= technician(dr. speed) </td><td>technician(dr. speed) .not.    </td><td>speed) .not. student    </td><td>biker) dod 1069                   </td><td>dod 1069 concise           </td><td>)-: \n",
       " :-(                                </td><td>.not. student =====----</td><td>1069 concise oxford       </td><td>tom coradeschi &lt;+&gt;             </td><td>coradeschi &lt;+&gt; tcora@pica.army.mil</td><td>jorg klinger |                                  </td><td>klinger | gsxr1100              </td></tr>\n",
       "<tr><td style=\"text-align: right;\">         9</td><td>- - -                  </td><td>0 0 0                                </td><td>cubs suck cubs              </td><td>suck cubs suck          </td><td>dale j. stephenson             </td><td>j. stephenson |*|       </td><td>stephenson |*| (steph@cs.uiuc.edu)</td><td>|*| (steph@cs.uiuc.edu) |*|</td><td>mike jones |                   </td><td>jones | aix            </td><td>| aix high-end            </td><td>aix high-end development       </td><td>high-end development |            </td><td>development | mjones@donald.aix.kingston.ibm.com</td><td>(steph@cs.uiuc.edu) |*| baseball</td></tr>\n",
       "<tr><td style=\"text-align: right;\">        10</td><td>0 0 0                  </td><td>0 1 1                                </td><td>2 2 2                       </td><td>- - -                   </td><td>1 0 1                          </td><td>1 1 0                   </td><td>2 0 0                             </td><td>1 0 0                      </td><td>g pts\n",
       "--------------- ---                                </td><td>pts\n",
       "--------------- --- ---                        </td><td>0 0 0                     </td><td>0 1 0                          </td><td>3 0 0                             </td><td>1 0 0                                           </td><td>0 2 2                           </td></tr>\n",
       "<tr><td style=\"text-align: right;\">        11</td><td>&gt; \n",
       " &gt;                        </td><td>available anonymous ftp              </td><td>. . .                       </td><td>&gt;                       </td><td>s1]; s2]; s1]                  </td><td>law enforcement agencies</td><td>-----begin pgp signed             </td><td>parts sci.crypt faq.       </td><td>sci.crypt faq. parts           </td><td>faq. parts are\n",
       "mostly                        </td><td>parts are\n",
       "mostly independent,                           </td><td>are\n",
       "mostly independent, read                                </td><td>time send missing                 </td><td>send missing parts                              </td><td>missing parts mail,             </td></tr>\n",
       "<tr><td style=\"text-align: right;\">        12</td><td>- - -                  </td><td>| | |                                </td><td>| |\n",
       " |                             </td><td>--------------------------------------------------------------------\n",
       " dave medin\t\t\tphone:\t(205)                         </td><td>dave medin\t\t\tphone:\t(205) 730-3169                                </td><td>medin\t\t\tphone:\t(205) 730-3169 (w)                         </td><td>730-3169 (w)\n",
       " ssd--networking\t\t\t\t(205)                                   </td><td>(w)\n",
       " ssd--networking\t\t\t\t(205) 837-1174                            </td><td>ssd--networking\t\t\t\t(205) 837-1174 (h)                                </td><td>837-1174 (h)\n",
       " intergraph                        </td><td>(h)\n",
       " intergraph corp.                           </td><td>intergraph corp.\n",
       " m/s                                </td><td>corp.\n",
       " m/s gd3004                                   </td><td>m/s gd3004 \t\tinternet:                                                 </td><td>gd3004 \t\tinternet: dtmedin@catbyte.b30.ingr.com                                 </td></tr>\n",
       "<tr><td style=\"text-align: right;\">        13</td><td>medical newsletter page</td><td>banks n3jxp |                        </td><td>n3jxp | &quot;skepticism         </td><td>| &quot;skepticism chastity  </td><td>&quot;skepticism chastity intellect,</td><td>----------------------------------------------------------------------------\n",
       "gordon banks n3jxp                         </td><td>chastity intellect, and\n",
       "geb@cadre.dsl.pitt.edu                                   </td><td>intellect, and\n",
       "geb@cadre.dsl.pitt.edu |                            </td><td>and\n",
       "geb@cadre.dsl.pitt.edu | shameful                                </td><td>| shameful surrender   </td><td>shameful surrender soon.&quot; </td><td>6, number 11                   </td><td>number 11 april                   </td><td>11 april 25,                                    </td><td>6, number 10                    </td></tr>\n",
       "<tr><td style=\"text-align: right;\">        14</td><td>                       </td><td>| | |                                </td><td>&quot;insisting perfect safety   </td><td>perfect safety people   </td><td>safety people don&#x27;t            </td><td>people don&#x27;t balls      </td><td>don&#x27;t balls live                  </td><td>balls live\n",
       " real                            </td><td>live\n",
       " real world.&quot;                                </td><td>real world.&quot; --        </td><td>world.&quot; -- mary           </td><td>-- mary shafer,                </td><td>mary shafer, nasa                 </td><td>shafer, nasa ames                               </td><td>nasa ames dryden                </td></tr>\n",
       "<tr><td style=\"text-align: right;\">        15</td><td>_/ _/ _/               </td><td>| &gt;                                  </td><td>_/ _/ *                     </td><td>r r oo                  </td><td>father, son, holy              </td><td>:\n",
       " r r                         </td><td>r oo oo                           </td><td>oo oo b                    </td><td>b b :                          </td><td>dead sea scrolls       </td><td>| \n",
       " |                           </td><td>bernadette did know            </td><td>:\n",
       " : :                                   </td><td>: :\n",
       " :                                                 </td><td>b :\n",
       " r                                 </td></tr>\n",
       "<tr><td style=\"text-align: right;\">        16</td><td>- - -                  </td><td>title 18, united                     </td><td>18, united states           </td><td>new england journal     </td><td>united states code,            </td><td>dave feustel n9myi      </td><td>feustel n9myi &lt;feustel@netcom.com&gt;</td><td>- - -\n",
       "==================================================================                            </td><td>. . .                          </td><td>right people bear      </td><td>                          </td><td>amend title 18,                </td><td>england journal medicine.         </td><td>/ iftccu:talk.politics.guns /                   </td><td>right bear arms                 </td></tr>\n",
       "<tr><td style=\"text-align: right;\">        17</td><td>. . .                  </td><td>professor history, university        </td><td>x-soviet armenian government</td><td>genocide 2.5 million    </td><td>center policy research         </td><td>shostack \t\t\t\t adam@das.harvard.edu                         </td><td>armenians did slaughter           </td><td>2.5 million muslim         </td><td>from: center policy            </td><td>policy research &lt;cpr&gt;\n",
       "subject:                        </td><td>armenian genocide 2.5     </td><td>&quot;muharrerat-i umumiye mecmuasi,</td><td>umumiye mecmuasi, v.              </td><td>city party committee                            </td><td>&quot;history ottoman empire         </td></tr>\n",
       "<tr><td style=\"text-align: right;\">        18</td><td>mr. stephanopoulos:    </td><td>ms. myers:                           </td><td>- - -                       </td><td>--\n",
       "\t \n",
       "\t mr.                         </td><td>q                              </td><td>q\t george,                         </td><td>senior administration official:   </td><td>--\n",
       "\t \n",
       "\t q                            </td><td>mr. stephanopoulos: don&#x27;t      </td><td>senior administration  </td><td>mr. stephanopoulos: think </td><td>q\t did                                </td><td>mr. stephanopoulos: well,         </td><td>------ ------ ------                            </td><td>it.\n",
       "\t \n",
       "\t q                                 </td></tr>\n",
       "<tr><td style=\"text-align: right;\">        19</td><td>                       </td><td>* * *                                </td><td>. . .                       </td><td>day christmas truelove  </td><td>christmas truelove served      </td><td>truelove served me...   </td><td>general unified theory            </td><td>_/ _/ _/                   </td><td>(promised messiah, p.          </td><td>physicist dewey b.     </td><td>unified theory physical   </td><td>comprehensive general unified  </td><td>english lexicon new               </td><td>served me... leftover                           </td><td>me... leftover turkey!\n",
       "on                                 </td></tr>\n",
       "</tbody>\n",
       "</table>"
      ],
      "text/plain": [
       "<IPython.core.display.HTML object>"
      ]
     },
     "metadata": {},
     "output_type": "display_data"
    }
   ],
   "source": [
    "trigrams = ngram_counter(df_pointone, 3)\n",
    "n_gram_by_category(trigrams, 15)"
   ]
  },
  {
   "cell_type": "markdown",
   "metadata": {},
   "source": [
    "Do check out category 10: why it contains so much numerics. \n",
    "\n",
    "Note sometimes we see a long underscore in fastai-tokenized stuffs represent spaces (that are present in the original text), and spaces represent token boundaries. Usually this is for sub-word tokenization but you might also see some in word tokenization (though it might not be fastai's tokenizer problem but it originally present in the text, that requires investigation). \n",
    "\n",
    "Some are harder to decide whether to remove or not for data cleaning like (} } }): are they used for programming language or what? "
   ]
  },
  {
   "cell_type": "markdown",
   "metadata": {},
   "source": [
    "# American vs British english. \n",
    "Give one example where there's mix of different English. \n",
    "\n",
    "This also proves that this kind of data is very dirty and inconsistent. It is worth thinking how to make it more consistent (how to get a mapping dictionary that changes all to either British English or American English). "
   ]
  },
  {
   "cell_type": "code",
   "execution_count": 63,
   "metadata": {},
   "outputs": [
    {
     "data": {
      "text/plain": [
       "(47, 15)"
      ]
     },
     "execution_count": 63,
     "metadata": {},
     "output_type": "execute_result"
    }
   ],
   "source": [
    "unique_words[\"rumor\"], unique_words[\"rumour\"]"
   ]
  },
  {
   "cell_type": "markdown",
   "metadata": {},
   "source": [
    "## Final Recommendations\n",
    "To say about recommendations, there're not really a conclusion on things, unlike Tabular data. Rather, the conclusion one is about to discuss more likely expands to what we can do for data cleaning (for training purposes) other than the ones that we had already do. \n",
    "\n",
    "One is cleaning away those non-useful stuffs present in n-grams like email addresses, `\\/\\/\\/...` stuffs, etc. Another is changing American to British English (or vice versa) to make everything consistent. \n",
    "\n",
    "### What we didn't investigate here\n",
    "- Mislabelling of samples. \n",
    "\n",
    "## Extras added later\n",
    "These contains extra EDA later added. Particularly they're not really EDA anymore but cleaning of data. You can safely skip this section if your target is EDA, and have a read if your target is data cleaning. \n",
    "\n",
    "\n",
    "Let's check out category 10 for the numbers. "
   ]
  },
  {
   "cell_type": "code",
   "execution_count": 64,
   "metadata": {},
   "outputs": [
    {
     "data": {
      "text/html": [
       "<div>\n",
       "<style scoped>\n",
       "    .dataframe tbody tr th:only-of-type {\n",
       "        vertical-align: middle;\n",
       "    }\n",
       "\n",
       "    .dataframe tbody tr th {\n",
       "        vertical-align: top;\n",
       "    }\n",
       "\n",
       "    .dataframe thead th {\n",
       "        text-align: right;\n",
       "    }\n",
       "</style>\n",
       "<table border=\"1\" class=\"dataframe\">\n",
       "  <thead>\n",
       "    <tr style=\"text-align: right;\">\n",
       "      <th></th>\n",
       "      <th>text</th>\n",
       "      <th>category</th>\n",
       "    </tr>\n",
       "  </thead>\n",
       "  <tbody>\n",
       "    <tr>\n",
       "      <th>0</th>\n",
       "      <td>\\n\\nI am sure some bashers of Pens fans are pretty confused about the lack\\nof any kind of posts about the recent Pens massacre of the Devils. Actually,\\nI am  bit puzzled too and a bit relieved. However, I am going to put an end\\nto non-PIttsburghers' relief with a bit of praise for the Pens. Man, they\\nare killing those Devils worse than I thought. Jagr just showed you why\\nhe is much better than his regular season stats. He is also a lot\\nfo fun to watch in the playoffs. Bowman should let JAgr have a lot of\\nfun in the next couple of games since the Pens are going to beat the pulp out o...</td>\n",
       "      <td>10</td>\n",
       "    </tr>\n",
       "    <tr>\n",
       "      <th>7</th>\n",
       "      <td>\\n[stuff deleted]\\n\\nOk, here's the solution to your problem.  Move to Canada.  Yesterday I was able\\nto watch FOUR games...the NJ-PITT at 1:00 on ABC, LA-CAL at 3:00 (CBC), \\nBUFF-BOS at 7:00 (TSN and FOX), and MON-QUE at 7:30 (CBC).  I think that if\\neach series goes its max I could be watching hockey playoffs for 40-some odd\\nconsecutive nights (I haven't counted so that's a pure guess).\\n\\nI have two tv's in my house, and I set them up side-by-side to watch MON-QUE\\nand keep an eye on BOS-BUFF at the same time.  I did the same for the two\\nafternoon games.\\n\\nBtw, those ABC commentater...</td>\n",
       "      <td>10</td>\n",
       "    </tr>\n",
       "    <tr>\n",
       "      <th>8</th>\n",
       "      <td>\\n\\n\\nYeah, it's the second one.  And I believe that price too.  I've been trying\\nto get a good look at it on the Bruin-Sabre telecasts, and wow! does it ever\\nlook good.  Whoever did that paint job knew what they were doing.  And given\\nFuhr's play since he got it, I bet the Bruins are wishing he didn't have it:)\\n</td>\n",
       "      <td>10</td>\n",
       "    </tr>\n",
       "    <tr>\n",
       "      <th>24</th>\n",
       "      <td>I don't know the exact coverage in the states.  In Canada it is covered\\nby TSN, so maybe ESPN will grab their coverage!  I don't know!\\n\\nAs for the picks\\nOttawa picks #1 which means it is almost 100% that Alexander Daigle will \\ngo #1. He'll either stay or be traded in Montreal or Quebec.  IMO I would\\ntake Kariya.  He should alot of leadership in the NCAA and so far in\\nthe World Championships.  Daigle didn't show this for his junior team.\\n\\nSan Jose will then get Kariya.\\n\\nTampa Bay will either go for a russian Kozlov (I think that's it) or a \\n    defenseman Rob Niedemeyer (probabl...</td>\n",
       "      <td>10</td>\n",
       "    </tr>\n",
       "    <tr>\n",
       "      <th>64</th>\n",
       "      <td>\\n\\n\\n\\nWell, Dave, I would have to disagree with you there.  Satan himself could\\nown the team, and I'd be happy as long as the Oilers stayed in Edmonton.\\nSelfish, but true.  I don't want to see the Oilers move, no matter who\\ntheir owner is.</td>\n",
       "      <td>10</td>\n",
       "    </tr>\n",
       "    <tr>\n",
       "      <th>74</th>\n",
       "      <td>\\n\\nWhy not? I believe both the Devils and Islanders got 87 points.\\nSay for example, another team had this record : 20-37-47;\\nthey had 20*2+47*1+37*0=87 which is the same as their points total.\\n(The Islanders' and Devils' records are both 40-37-7.\\n\\nIt is simple arithmetics and involve no Calculus.\\n</td>\n",
       "      <td>10</td>\n",
       "    </tr>\n",
       "    <tr>\n",
       "      <th>77</th>\n",
       "      <td>\\n\\n  Well I think whenever ESPN covers the game they do a wonderful job. But\\n   what I don't understand is that they cut the OT just show some stupid\\n   baseball news which is not important at all. Then I waited for the scores\\n   to comeon Sportscenter, but they talk about Baseball, basketball and \\n   football. Then they showed Penguine highlight and went back to stupid\\n   basketball. Finally they showed a highlight of the OT goal but that\\n   was like 30 sec. I think they should give more attention to NHl during\\n   the playoffs then talking about boring basketball games..\\n\\n   I g...</td>\n",
       "      <td>10</td>\n",
       "    </tr>\n",
       "    <tr>\n",
       "      <th>95</th>\n",
       "      <td>Hey man! -\\n\\nHaving spent the past season learning to skate and having played a\\ncouple of sessions of mock hockey, I'm ready to invest in hockey\\nequipment (particularly since I will be taking summer 'hockey\\nlessons').  However, I am completely and profoundly ignorant when it\\ncomes to hockey equipment.  I've checked out local stores and looked\\nat catalogs, but I was hoping to solicit opinions/suggestions before\\nactually plunking down any money.  Having played football in high\\nschool and college I at least have that equipment as a basis for\\ncomparison.  But for example what are the ...</td>\n",
       "      <td>10</td>\n",
       "    </tr>\n",
       "    <tr>\n",
       "      <th>103</th>\n",
       "      <td>\\n\\nI haven't heard any news about ASN carrying any games but the local\\ncable station here in St. John's (Cable 9) is carrying the games live!\\n\\nHey, it's better than nothing!\\n\\nGO LEAFS GO!!!\\n\\nDale</td>\n",
       "      <td>10</td>\n",
       "    </tr>\n",
       "    <tr>\n",
       "      <th>124</th>\n",
       "      <td></td>\n",
       "      <td>10</td>\n",
       "    </tr>\n",
       "    <tr>\n",
       "      <th>130</th>\n",
       "      <td>\\nHow was this trade bad? I seem to recall Ratelle and Middleton making a pretty\\ngood centre - right wing combination, and the Bruins also got Brad Park in the\\ndeal (and they also lost Vadnais and somebody else). After the trade, the \\nBruins were in two finals and one semi-final, all of which, of course, they \\nlost to Montreal (which should please you to no end). I doubt, however, keeping\\nEsposito would have made a difference in those series, as he did not for\\nthe Rangers in '79 (or any of his years in Boston, for that matter).\\n\\nRiston\\n-- \\nRiston</td>\n",
       "      <td>10</td>\n",
       "    </tr>\n",
       "    <tr>\n",
       "      <th>176</th>\n",
       "      <td>Dear Ulf,\\n\\n\\tWould you possibly consider helpiMontreal Canadiens fans everywhere\\nby throwing a knee-check in the direction of Denis Savard during your upcoming\\ngame against Montreal? We just can't seem to win WITH him!\\n\\n\\t\\t\\t\\t\\t\\tThanx alot,\\n\\t\\t\\t\\t\\t\\tPete H.\\n\\n\\n:-)\\n</td>\n",
       "      <td>10</td>\n",
       "    </tr>\n",
       "    <tr>\n",
       "      <th>215</th>\n",
       "      <td>\\n[Much text deleted]\\n\\n:   plus/minus ... it is the most misleading hockey stat available.\\n\\nNot necessarily the most misleading, but you are right, it definitely\\nneeds to be taken in the proper perspective. A shining example is\\nif you look at the Penguins individual +/-, you will find very few minuses.\\nThat only makes common sense, since they didn't lose many games.\\n\\n:   Until the NHL publishes a more useful quantifiable statistic including ice\\n:   time per game and some measure of its \"quality\" (i.e., is the player put out\\n:   in key situations like protecting a lead late in th...</td>\n",
       "      <td>10</td>\n",
       "    </tr>\n",
       "    <tr>\n",
       "      <th>224</th>\n",
       "      <td>\\n\\n  Listen guys you can talk about this the whole playoffs.  I'm here in a\\nsmall town in southern Illinois at school.  I'm from Canada and I know\\nthat cbc and tsn have games on every night,  all you have to do is go to\\na bar with a satellite.  I have watched both games between Mon Que and\\ntoronto and detroit,  not to mention Van vs Winn and with cbc.  They\\nshow all goals from every game that evening so I haven't missed a goal\\nall playoffs.  Well have to go boy leafs are on Ciao.</td>\n",
       "      <td>10</td>\n",
       "    </tr>\n",
       "    <tr>\n",
       "      <th>232</th>\n",
       "      <td>You're right ... I'm sick of seeing all those white guys on skates\\nmyself ... the Vancouver Canucks should be half women, and overall \\none-third Oriental.\\n\\n\f\\n\\n(-; (-; (-; (-; (-; (-; \\n\\nAnd I'll gladly volunteer myself for the overage draft. (-;\\n\\ngld</td>\n",
       "      <td>10</td>\n",
       "    </tr>\n",
       "    <tr>\n",
       "      <th>233</th>\n",
       "      <td>\\nObviously some reporter for the Ottawa Sun got taken by an April\\nFools joke...probably started by someone with the Nordiques or the\\nBruins.  \\n\\nLike for example...who is going to reimburse the Flyers for the\\n$15 million they paid to the Nordiques...like the Senators are\\ngoing to get Lindros and $15 million.  The Flyers sent the\\nequivalent of 6 or 7 players (when you include the draft choices)\\nto Quebec, and they are going to get only four back.\\n\\nSome reporter was had real badly and someone must be having a\\nreal good laugh seeing as how the so much of the sports media\\nhas chose...</td>\n",
       "      <td>10</td>\n",
       "    </tr>\n",
       "    <tr>\n",
       "      <th>303</th>\n",
       "      <td>\\nNo no no!!!  It's a squid!  Keep the tradition alive!  (Kinda like the\\nfish at UNH games....)</td>\n",
       "      <td>10</td>\n",
       "    </tr>\n",
       "    <tr>\n",
       "      <th>350</th>\n",
       "      <td>Well I just read in the Boston Globe that while not confirming\\n(or denying) anything, Walsh may end up with the Rangers organizations\\nas an (assistant Coach?).  Keenan has talked with Walsh in the past\\n(he came up to see Kariya as he will be coaching him in the worlds,\\nfunny I guess he got to watch the Ferraro brothers as well.....) I'm\\nnot sure if walsh will go, but if Keenan is getting 700,000 and walsh\\neven gets 100,000 that's a 30% pay raise for walsh (not to mention\\na nice career move....) Anyone from New York Hear anything about\\nthis????????\\n\\n               Pat Ellis\\n\\n\\n\\...</td>\n",
       "      <td>10</td>\n",
       "    </tr>\n",
       "    <tr>\n",
       "      <th>357</th>\n",
       "      <td>\\n\\nAccording to what reasonable principle of justice does standing in intimate\\ngeographical and psychological relations to a league give one some privileged\\nright to play in it?</td>\n",
       "      <td>10</td>\n",
       "    </tr>\n",
       "    <tr>\n",
       "      <th>359</th>\n",
       "      <td>\\n\\n\\n     Depends on what you mean by classy. From what I've heard about\\nhim, he was about as classy as Harold Ballard.  Only difference was\\nthat back then almost all the owners were like that, so he seemed okay\\nby comparison.  Read the book \"Net Worth\" for one view of what Smythe\\n(and Norris and Adams and Campbell) were like. \\n\\n\\n\\n     Even more specifically, I think what Roger was saying (and I said\\nit previously too) is that these are NOT the people who made the\\nleague great, so why should divisions, conferences etc. be named after\\nthem instead of Morenz, Vezina, Howe, Orr et...</td>\n",
       "      <td>10</td>\n",
       "    </tr>\n",
       "  </tbody>\n",
       "</table>\n",
       "</div>"
      ],
      "text/plain": [
       "                                                                                                                                                                                                                                                                                                                                                                                                                                                                                                                                                                                                                        text  \\\n",
       "0    \\n\\nI am sure some bashers of Pens fans are pretty confused about the lack\\nof any kind of posts about the recent Pens massacre of the Devils. Actually,\\nI am  bit puzzled too and a bit relieved. However, I am going to put an end\\nto non-PIttsburghers' relief with a bit of praise for the Pens. Man, they\\nare killing those Devils worse than I thought. Jagr just showed you why\\nhe is much better than his regular season stats. He is also a lot\\nfo fun to watch in the playoffs. Bowman should let JAgr have a lot of\\nfun in the next couple of games since the Pens are going to beat the pulp out o...   \n",
       "7    \\n[stuff deleted]\\n\\nOk, here's the solution to your problem.  Move to Canada.  Yesterday I was able\\nto watch FOUR games...the NJ-PITT at 1:00 on ABC, LA-CAL at 3:00 (CBC), \\nBUFF-BOS at 7:00 (TSN and FOX), and MON-QUE at 7:30 (CBC).  I think that if\\neach series goes its max I could be watching hockey playoffs for 40-some odd\\nconsecutive nights (I haven't counted so that's a pure guess).\\n\\nI have two tv's in my house, and I set them up side-by-side to watch MON-QUE\\nand keep an eye on BOS-BUFF at the same time.  I did the same for the two\\nafternoon games.\\n\\nBtw, those ABC commentater...   \n",
       "8                                                                                                                                                                                                                                                                                             \\n\\n\\nYeah, it's the second one.  And I believe that price too.  I've been trying\\nto get a good look at it on the Bruin-Sabre telecasts, and wow! does it ever\\nlook good.  Whoever did that paint job knew what they were doing.  And given\\nFuhr's play since he got it, I bet the Bruins are wishing he didn't have it:)\\n   \n",
       "24   I don't know the exact coverage in the states.  In Canada it is covered\\nby TSN, so maybe ESPN will grab their coverage!  I don't know!\\n\\nAs for the picks\\nOttawa picks #1 which means it is almost 100% that Alexander Daigle will \\ngo #1. He'll either stay or be traded in Montreal or Quebec.  IMO I would\\ntake Kariya.  He should alot of leadership in the NCAA and so far in\\nthe World Championships.  Daigle didn't show this for his junior team.\\n\\nSan Jose will then get Kariya.\\n\\nTampa Bay will either go for a russian Kozlov (I think that's it) or a \\n    defenseman Rob Niedemeyer (probabl...   \n",
       "64                                                                                                                                                                                                                                                                                                                                                                      \\n\\n\\n\\nWell, Dave, I would have to disagree with you there.  Satan himself could\\nown the team, and I'd be happy as long as the Oilers stayed in Edmonton.\\nSelfish, but true.  I don't want to see the Oilers move, no matter who\\ntheir owner is.   \n",
       "74                                                                                                                                                                                                                                                                                                         \\n\\nWhy not? I believe both the Devils and Islanders got 87 points.\\nSay for example, another team had this record : 20-37-47;\\nthey had 20*2+47*1+37*0=87 which is the same as their points total.\\n(The Islanders' and Devils' records are both 40-37-7.\\n\\nIt is simple arithmetics and involve no Calculus.\\n   \n",
       "77   \\n\\n  Well I think whenever ESPN covers the game they do a wonderful job. But\\n   what I don't understand is that they cut the OT just show some stupid\\n   baseball news which is not important at all. Then I waited for the scores\\n   to comeon Sportscenter, but they talk about Baseball, basketball and \\n   football. Then they showed Penguine highlight and went back to stupid\\n   basketball. Finally they showed a highlight of the OT goal but that\\n   was like 30 sec. I think they should give more attention to NHl during\\n   the playoffs then talking about boring basketball games..\\n\\n   I g...   \n",
       "95   Hey man! -\\n\\nHaving spent the past season learning to skate and having played a\\ncouple of sessions of mock hockey, I'm ready to invest in hockey\\nequipment (particularly since I will be taking summer 'hockey\\nlessons').  However, I am completely and profoundly ignorant when it\\ncomes to hockey equipment.  I've checked out local stores and looked\\nat catalogs, but I was hoping to solicit opinions/suggestions before\\nactually plunking down any money.  Having played football in high\\nschool and college I at least have that equipment as a basis for\\ncomparison.  But for example what are the ...   \n",
       "103                                                                                                                                                                                                                                                                                                                                                                                                              \\n\\nI haven't heard any news about ASN carrying any games but the local\\ncable station here in St. John's (Cable 9) is carrying the games live!\\n\\nHey, it's better than nothing!\\n\\nGO LEAFS GO!!!\\n\\nDale   \n",
       "124                                                                                                                                                                                                                                                                                                                                                                                                                                                                                                                                                                                                                            \n",
       "130                                       \\nHow was this trade bad? I seem to recall Ratelle and Middleton making a pretty\\ngood centre - right wing combination, and the Bruins also got Brad Park in the\\ndeal (and they also lost Vadnais and somebody else). After the trade, the \\nBruins were in two finals and one semi-final, all of which, of course, they \\nlost to Montreal (which should please you to no end). I doubt, however, keeping\\nEsposito would have made a difference in those series, as he did not for\\nthe Rangers in '79 (or any of his years in Boston, for that matter).\\n\\nRiston\\n-- \\nRiston   \n",
       "176                                                                                                                                                                                                                                                                                                                                Dear Ulf,\\n\\n\\tWould you possibly consider helpiMontreal Canadiens fans everywhere\\nby throwing a knee-check in the direction of Denis Savard during your upcoming\\ngame against Montreal? We just can't seem to win WITH him!\\n\\n\\t\\t\\t\\t\\t\\tThanx alot,\\n\\t\\t\\t\\t\\t\\tPete H.\\n\\n\\n:-)\\n   \n",
       "215  \\n[Much text deleted]\\n\\n:   plus/minus ... it is the most misleading hockey stat available.\\n\\nNot necessarily the most misleading, but you are right, it definitely\\nneeds to be taken in the proper perspective. A shining example is\\nif you look at the Penguins individual +/-, you will find very few minuses.\\nThat only makes common sense, since they didn't lose many games.\\n\\n:   Until the NHL publishes a more useful quantifiable statistic including ice\\n:   time per game and some measure of its \"quality\" (i.e., is the player put out\\n:   in key situations like protecting a lead late in th...   \n",
       "224                                                                                                              \\n\\n  Listen guys you can talk about this the whole playoffs.  I'm here in a\\nsmall town in southern Illinois at school.  I'm from Canada and I know\\nthat cbc and tsn have games on every night,  all you have to do is go to\\na bar with a satellite.  I have watched both games between Mon Que and\\ntoronto and detroit,  not to mention Van vs Winn and with cbc.  They\\nshow all goals from every game that evening so I haven't missed a goal\\nall playoffs.  Well have to go boy leafs are on Ciao.   \n",
       "232                                                                                                                                                                                                                                                                                                                                                      You're right ... I'm sick of seeing all those white guys on skates\\nmyself ... the Vancouver Canucks should be half women, and overall \\none-third Oriental.\\n\\n\n",
       "\\n\\n(-; (-; (-; (-; (-; (-; \\n\\nAnd I'll gladly volunteer myself for the overage draft. (-;\\n\\ngld   \n",
       "233  \\nObviously some reporter for the Ottawa Sun got taken by an April\\nFools joke...probably started by someone with the Nordiques or the\\nBruins.  \\n\\nLike for example...who is going to reimburse the Flyers for the\\n$15 million they paid to the Nordiques...like the Senators are\\ngoing to get Lindros and $15 million.  The Flyers sent the\\nequivalent of 6 or 7 players (when you include the draft choices)\\nto Quebec, and they are going to get only four back.\\n\\nSome reporter was had real badly and someone must be having a\\nreal good laugh seeing as how the so much of the sports media\\nhas chose...   \n",
       "303                                                                                                                                                                                                                                                                                                                                                                                                                                                                                                                         \\nNo no no!!!  It's a squid!  Keep the tradition alive!  (Kinda like the\\nfish at UNH games....)   \n",
       "350  Well I just read in the Boston Globe that while not confirming\\n(or denying) anything, Walsh may end up with the Rangers organizations\\nas an (assistant Coach?).  Keenan has talked with Walsh in the past\\n(he came up to see Kariya as he will be coaching him in the worlds,\\nfunny I guess he got to watch the Ferraro brothers as well.....) I'm\\nnot sure if walsh will go, but if Keenan is getting 700,000 and walsh\\neven gets 100,000 that's a 30% pay raise for walsh (not to mention\\na nice career move....) Anyone from New York Hear anything about\\nthis????????\\n\\n               Pat Ellis\\n\\n\\n\\...   \n",
       "357                                                                                                                                                                                                                                                                                                                                                                                                                                     \\n\\nAccording to what reasonable principle of justice does standing in intimate\\ngeographical and psychological relations to a league give one some privileged\\nright to play in it?   \n",
       "359  \\n\\n\\n     Depends on what you mean by classy. From what I've heard about\\nhim, he was about as classy as Harold Ballard.  Only difference was\\nthat back then almost all the owners were like that, so he seemed okay\\nby comparison.  Read the book \"Net Worth\" for one view of what Smythe\\n(and Norris and Adams and Campbell) were like. \\n\\n\\n\\n     Even more specifically, I think what Roger was saying (and I said\\nit previously too) is that these are NOT the people who made the\\nleague great, so why should divisions, conferences etc. be named after\\nthem instead of Morenz, Vezina, Howe, Orr et...   \n",
       "\n",
       "    category  \n",
       "0         10  \n",
       "7         10  \n",
       "8         10  \n",
       "24        10  \n",
       "64        10  \n",
       "74        10  \n",
       "77        10  \n",
       "95        10  \n",
       "103       10  \n",
       "124       10  \n",
       "130       10  \n",
       "176       10  \n",
       "215       10  \n",
       "224       10  \n",
       "232       10  \n",
       "233       10  \n",
       "303       10  \n",
       "350       10  \n",
       "357       10  \n",
       "359       10  "
      ]
     },
     "execution_count": 64,
     "metadata": {},
     "output_type": "execute_result"
    }
   ],
   "source": [
    "df_pointone[df_pointone.category == 10][[\"text\", \"category\"]].head(20)"
   ]
  },
  {
   "cell_type": "markdown",
   "metadata": {},
   "source": [
    "The numbers looks quite natural from reading the texts. Although we can see there are some things that aren't removed but perhaps we might consider removing (\f). Now let's look at category 5."
   ]
  },
  {
   "cell_type": "code",
   "execution_count": 65,
   "metadata": {},
   "outputs": [
    {
     "data": {
      "text/html": [
       "<div>\n",
       "<style scoped>\n",
       "    .dataframe tbody tr th:only-of-type {\n",
       "        vertical-align: middle;\n",
       "    }\n",
       "\n",
       "    .dataframe tbody tr th {\n",
       "        vertical-align: top;\n",
       "    }\n",
       "\n",
       "    .dataframe thead th {\n",
       "        text-align: right;\n",
       "    }\n",
       "</style>\n",
       "<table border=\"1\" class=\"dataframe\">\n",
       "  <thead>\n",
       "    <tr style=\"text-align: right;\">\n",
       "      <th></th>\n",
       "      <th>text</th>\n",
       "      <th>category</th>\n",
       "    </tr>\n",
       "  </thead>\n",
       "  <tbody>\n",
       "    <tr>\n",
       "      <th>21</th>\n",
       "      <td>\\nSorry, that's a feature.  The ICCCM specifies how the app should set its title, so the wm is obliged to do it.  If this bothers you, complain to the app writer.\\n\\n\\nWrite your own wm that doesn't support the ICCCM.  Or write an program that you give a window ID and a title.  The your program can set the windows title for the app and then if the app changes it, your program switches it back again.\\n\\n</td>\n",
       "      <td>5</td>\n",
       "    </tr>\n",
       "    <tr>\n",
       "      <th>32</th>\n",
       "      <td>Has anybody generated an X server for Windows NT?  If so, are you willing\\nto share your config file and other tricks necessary to make it work?\\n\\nThanks for any information.</td>\n",
       "      <td>5</td>\n",
       "    </tr>\n",
       "    <tr>\n",
       "      <th>44</th>\n",
       "      <td>[This belongs in comp.windows.x.i386unix - I've redirected followups]\\n\\n\\nI know for a fact that the EISA version of the Orchid ProDesigner IIS\\nworks.  However, an EISA SVGA card is likely a waste of money.\\n\\nWhen XFree86 2.0 comes out, with support for accelerated chipsets, ISA,\\nEISA, and VLB will all be supported.\\n\\nThe more important question is \"what chipsets are supported?\".  The bus\\nis basically irrelevent as a compatibility issue.\\n\\n--\\nDavid Wexelblat &lt;dwex@mtgzfs3.att.com&gt;  (908) 957-5871  Fax: (908) 957-5627\\nAT&amp;T Bell Laboratories, 200 Laurel Ave - 3F-428, Middletown, NJ ...</td>\n",
       "      <td>5</td>\n",
       "    </tr>\n",
       "    <tr>\n",
       "      <th>66</th>\n",
       "      <td>Hi netlanders,\\n\\nDoes anybody know if there is something like Macintosh Hypercard for any UNIX \\nplatform?\\n\\n\\nThanks in advance\\n</td>\n",
       "      <td>5</td>\n",
       "    </tr>\n",
       "    <tr>\n",
       "      <th>80</th>\n",
       "      <td>Is there aything available for X similar to QuicKeys for the Macintosh --\\nsomething that will allow me to store and playback sequences of keystrokes,\\nmenu selections, and mouse actions - directing them towards another\\napplication?\\n\\nIf so, could someone send me information on its availability -- and if not,\\nhow hard do we think it might be to send input to other X applications and,\\nhopefully, deal with their responses appropriately?  (If an application is\\ngoing to take a few seconds to process I probably have to wait  for it to\\ncomplete before sending another command.)\\n\\nthanks,</td>\n",
       "      <td>5</td>\n",
       "    </tr>\n",
       "    <tr>\n",
       "      <th>97</th>\n",
       "      <td>Just opened up the distribution.\\n</td>\n",
       "      <td>5</td>\n",
       "    </tr>\n",
       "    <tr>\n",
       "      <th>111</th>\n",
       "      <td>\\nSorry, but olwm and tvtwm don't do it. They place the title at that position\\nand the window at a position below it.\\n\\nThis becomes a problem when you want a program to be able to save its current\\nconfiguration and restore is later.\\n\\nCurrently, my solution is:\\n\\n\\tXCreateWindow(...);\\n\\tXSetWMProperties(..);\\n\\tXMapWindow(...);\\n\\tXFlush(...);\\n\\tXMoveWindow(...);\\n\\n\\nIt works with olwm, but is less than elegant. All this leaves me wondering\\nif I'm overlooking something obvious.</td>\n",
       "      <td>5</td>\n",
       "    </tr>\n",
       "    <tr>\n",
       "      <th>140</th>\n",
       "      <td>We have an old Sun3/60 here which gets occasional use.  When X11R5 is started\\non it any console messages during startup are undeletable.  After X is fully\\nstarted we run an xterm as the \"console\" - the problem is that any messages\\nthat arrive before this starts go to the plain console.  \"Refresh window\" fails\\nto remove them.  The messages are a real pain since they sit in the middle of\\nthe screen obscuring anything else below them.\\n\\nAt boot time the 3/60 lists two framebuffers  -  /dev/cgfour0 and /dev/bwtwo1.\\nWe're running X in color, and I suspect that maybe the offending message...</td>\n",
       "      <td>5</td>\n",
       "    </tr>\n",
       "    <tr>\n",
       "      <th>171</th>\n",
       "      <td>please subscrive me.</td>\n",
       "      <td>5</td>\n",
       "    </tr>\n",
       "    <tr>\n",
       "      <th>199</th>\n",
       "      <td>Yes, it's possible... in fact, there's some gl widget code in\\n/usr/lpp/GL somewhere... (it's named Glib.c; my IBM's down right now\\nthough, so I can't find the exact location :)\\n\\n  WARNING: this code feels quite bogus. It does things like calling\\nnoport() before winopen(), and then extracting an X window id from it\\nanyway. It worked just fine under aix 3.1; I spent last weekend trying\\nto port it to 3.2 (gl under 3.2 doesn't seem to like it), and it's\\nturning into a Hard Job.\\n\\n  Check out your \"info\" pages; it has some pretty good documentation on\\nwhan you can and can't do when mi...</td>\n",
       "      <td>5</td>\n",
       "    </tr>\n",
       "    <tr>\n",
       "      <th>206</th>\n",
       "      <td>\\n\\nYou wanna do masking. Build a bitmap (pixmap of depth one) where all pixels\\nyou name \"opaque\" are 1 (that get copied) and the others are 0. Use this\\nbitmap as the clip_mask in the gc used for XCopyArea(), and remember to\\nadjust the clip_origin coordinates to the XCopyArea() blit origin.\\n\\nThe Mouse pointer (besides from that it is driven using RAMDAC analog\\nmapping on most hardwares) uses a mask, too.\\n\\nBut be warned: blitting through a mask and especially moving around this mask\\nis annoying slow on most xservers... it flickers even at 40 MIPS...\\n</td>\n",
       "      <td>5</td>\n",
       "    </tr>\n",
       "    <tr>\n",
       "      <th>207</th>\n",
       "      <td>\\nInteresting, I'd like to know why.\\n\\nBut try it again on a single ethernet with 100 X terminals on it,\\nand I think you'll find it much slower.</td>\n",
       "      <td>5</td>\n",
       "    </tr>\n",
       "    <tr>\n",
       "      <th>230</th>\n",
       "      <td>We recently got an NCD X-terminal to evaluate. This is running XRemote over\\na serial line.\\nI wanted to get some measurement of response time, so I wrote a small Xlib\\nprogram which simply creates a window, maps it and sends the first Expose \\nevent to itself. The program times the delay from sending the event, to \\nreceiving it.  I thought this was the simplest way to test client/X-server \\nround-trip delays. It's a similar concept to the ping(8C) program.\\n\\nIs this a valid test to perform ? I've also tried the xbench program, available\\nfrom ftp.uu.net, which bombards the server with g...</td>\n",
       "      <td>5</td>\n",
       "    </tr>\n",
       "    <tr>\n",
       "      <th>234</th>\n",
       "      <td>We have a program written with X11R5 and Motif 1.2.1.  It runs fine on the Sun\\nX11R5 server and MacX.  When that program is run under the Sparc 2 and the\\nOW server, the program crashed itself along with the server.  It crashed before\\nthe first window had showed up.\\n\\nI got the following error from X.\\nXIO:  fatal IO error 32 (Broken pipe) on X server \"perot:0.0\"\\n      after 62 requests (59 known processed) with 0 events remaining.\\n      The connection was probably broken by a server shutdown or KillClient.\\n\\nI have run the program with xmon and below is the last twenty lines or so f...</td>\n",
       "      <td>5</td>\n",
       "    </tr>\n",
       "    <tr>\n",
       "      <th>250</th>\n",
       "      <td>I'm look for current patches for color xterm for X11R5 pl19 ro higher.  Could\\nsomeone please tell me where to get them for e-mail them to me.\\n\\nThanks.\\n\\n</td>\n",
       "      <td>5</td>\n",
       "    </tr>\n",
       "    <tr>\n",
       "      <th>272</th>\n",
       "      <td>In the past, I have used named pipes to communicate between processes using\\nthe XtAddInput function to set up the event handling in Motif. Does anybody\\nknow of a way to do this with message passing ( IPC ) ? I tried it here and\\nno luck so far.</td>\n",
       "      <td>5</td>\n",
       "    </tr>\n",
       "    <tr>\n",
       "      <th>279</th>\n",
       "      <td>Bristol Technology announces the availability of \\nits HyperHelp(tm) and Xprinter(tm) demo for downloading.\\n\\nThis demo showcases the two products in the form of a \\ndiagram editor called DE.\\n\\nDownload the demo and see some of these exciting features for yourself:\\n\\n\\t o Complete on-line context sensitive help system.\\n\\n\\t o Printing support for PCL5 and PostScript.\\n\\n\\t o Rotated Text support!\\n\\n\\t o Source code for the demo is provided.\\n\\nThe demo is available via anonymous ftp from ftp.uu.net (137.39.1.9).\\n\\nThere are two versions of the demo located in the vendor/Bristol direc...</td>\n",
       "      <td>5</td>\n",
       "    </tr>\n",
       "    <tr>\n",
       "      <th>288</th>\n",
       "      <td>Hello,\\n\\n\\nOur application requires us to capture keypad presses for all windows\\nin a number of applications.  We are trying to use action translation\\ntables to implement this.  We have only succeeded by assigning the\\ntranslation table to every individual widget in all windows in a single\\napplication.  The Xt calls we make are included below.\\n\\nIt would be much more convenient if we could assign the translation\\ntable to a class of widgets rather than individual widget instantiations,\\nand also accomplish it for MULTIPLE applications.  If someone could\\ndescribe how do this it would ...</td>\n",
       "      <td>5</td>\n",
       "    </tr>\n",
       "    <tr>\n",
       "      <th>290</th>\n",
       "      <td>Dear Xperts:\\n\\n  I want to place a specific group of icons in an icon box and\\nhave my other icons appear outside of the box.  Does anyone\\nknow if there's a way I can do this??  I'm using X11R5 and\\nMotif 1.2.1.</td>\n",
       "      <td>5</td>\n",
       "    </tr>\n",
       "    <tr>\n",
       "      <th>293</th>\n",
       "      <td>\\nCould someone please send me the postal and email address of\\nCongruent Corporation (and any competitors they may have).\\n\\nThank you.\\n-- \\nsnail@lsl.co.uk</td>\n",
       "      <td>5</td>\n",
       "    </tr>\n",
       "  </tbody>\n",
       "</table>\n",
       "</div>"
      ],
      "text/plain": [
       "                                                                                                                                                                                                                                                                                                                                                                                                                                                                                                                                                                                                                        text  \\\n",
       "21                                                                                                                                                                                                    \\nSorry, that's a feature.  The ICCCM specifies how the app should set its title, so the wm is obliged to do it.  If this bothers you, complain to the app writer.\\n\\n\\nWrite your own wm that doesn't support the ICCCM.  Or write an program that you give a window ID and a title.  The your program can set the windows title for the app and then if the app changes it, your program switches it back again.\\n\\n   \n",
       "32                                                                                                                                                                                                                                                                                                                                                                                                                                           Has anybody generated an X server for Windows NT?  If so, are you willing\\nto share your config file and other tricks necessary to make it work?\\n\\nThanks for any information.   \n",
       "44   [This belongs in comp.windows.x.i386unix - I've redirected followups]\\n\\n\\nI know for a fact that the EISA version of the Orchid ProDesigner IIS\\nworks.  However, an EISA SVGA card is likely a waste of money.\\n\\nWhen XFree86 2.0 comes out, with support for accelerated chipsets, ISA,\\nEISA, and VLB will all be supported.\\n\\nThe more important question is \"what chipsets are supported?\".  The bus\\nis basically irrelevent as a compatibility issue.\\n\\n--\\nDavid Wexelblat <dwex@mtgzfs3.att.com>  (908) 957-5871  Fax: (908) 957-5627\\nAT&T Bell Laboratories, 200 Laurel Ave - 3F-428, Middletown, NJ ...   \n",
       "66                                                                                                                                                                                                                                                                                                                                                                                                                                                                                      Hi netlanders,\\n\\nDoes anybody know if there is something like Macintosh Hypercard for any UNIX \\nplatform?\\n\\n\\nThanks in advance\\n   \n",
       "80        Is there aything available for X similar to QuicKeys for the Macintosh --\\nsomething that will allow me to store and playback sequences of keystrokes,\\nmenu selections, and mouse actions - directing them towards another\\napplication?\\n\\nIf so, could someone send me information on its availability -- and if not,\\nhow hard do we think it might be to send input to other X applications and,\\nhopefully, deal with their responses appropriately?  (If an application is\\ngoing to take a few seconds to process I probably have to wait  for it to\\ncomplete before sending another command.)\\n\\nthanks,   \n",
       "97                                                                                                                                                                                                                                                                                                                                                                                                                                                                                                                                                                                        Just opened up the distribution.\\n   \n",
       "111                                                                                                             \\nSorry, but olwm and tvtwm don't do it. They place the title at that position\\nand the window at a position below it.\\n\\nThis becomes a problem when you want a program to be able to save its current\\nconfiguration and restore is later.\\n\\nCurrently, my solution is:\\n\\n\\tXCreateWindow(...);\\n\\tXSetWMProperties(..);\\n\\tXMapWindow(...);\\n\\tXFlush(...);\\n\\tXMoveWindow(...);\\n\\n\\nIt works with olwm, but is less than elegant. All this leaves me wondering\\nif I'm overlooking something obvious.   \n",
       "140  We have an old Sun3/60 here which gets occasional use.  When X11R5 is started\\non it any console messages during startup are undeletable.  After X is fully\\nstarted we run an xterm as the \"console\" - the problem is that any messages\\nthat arrive before this starts go to the plain console.  \"Refresh window\" fails\\nto remove them.  The messages are a real pain since they sit in the middle of\\nthe screen obscuring anything else below them.\\n\\nAt boot time the 3/60 lists two framebuffers  -  /dev/cgfour0 and /dev/bwtwo1.\\nWe're running X in color, and I suspect that maybe the offending message...   \n",
       "171                                                                                                                                                                                                                                                                                                                                                                                                                                                                                                                                                                                                     please subscrive me.   \n",
       "199  Yes, it's possible... in fact, there's some gl widget code in\\n/usr/lpp/GL somewhere... (it's named Glib.c; my IBM's down right now\\nthough, so I can't find the exact location :)\\n\\n  WARNING: this code feels quite bogus. It does things like calling\\nnoport() before winopen(), and then extracting an X window id from it\\nanyway. It worked just fine under aix 3.1; I spent last weekend trying\\nto port it to 3.2 (gl under 3.2 doesn't seem to like it), and it's\\nturning into a Hard Job.\\n\\n  Check out your \"info\" pages; it has some pretty good documentation on\\nwhan you can and can't do when mi...   \n",
       "206                                    \\n\\nYou wanna do masking. Build a bitmap (pixmap of depth one) where all pixels\\nyou name \"opaque\" are 1 (that get copied) and the others are 0. Use this\\nbitmap as the clip_mask in the gc used for XCopyArea(), and remember to\\nadjust the clip_origin coordinates to the XCopyArea() blit origin.\\n\\nThe Mouse pointer (besides from that it is driven using RAMDAC analog\\nmapping on most hardwares) uses a mask, too.\\n\\nBut be warned: blitting through a mask and especially moving around this mask\\nis annoying slow on most xservers... it flickers even at 40 MIPS...\\n   \n",
       "207                                                                                                                                                                                                                                                                                                                                                                                                                                                                       \\nInteresting, I'd like to know why.\\n\\nBut try it again on a single ethernet with 100 X terminals on it,\\nand I think you'll find it much slower.   \n",
       "230  We recently got an NCD X-terminal to evaluate. This is running XRemote over\\na serial line.\\nI wanted to get some measurement of response time, so I wrote a small Xlib\\nprogram which simply creates a window, maps it and sends the first Expose \\nevent to itself. The program times the delay from sending the event, to \\nreceiving it.  I thought this was the simplest way to test client/X-server \\nround-trip delays. It's a similar concept to the ping(8C) program.\\n\\nIs this a valid test to perform ? I've also tried the xbench program, available\\nfrom ftp.uu.net, which bombards the server with g...   \n",
       "234  We have a program written with X11R5 and Motif 1.2.1.  It runs fine on the Sun\\nX11R5 server and MacX.  When that program is run under the Sparc 2 and the\\nOW server, the program crashed itself along with the server.  It crashed before\\nthe first window had showed up.\\n\\nI got the following error from X.\\nXIO:  fatal IO error 32 (Broken pipe) on X server \"perot:0.0\"\\n      after 62 requests (59 known processed) with 0 events remaining.\\n      The connection was probably broken by a server shutdown or KillClient.\\n\\nI have run the program with xmon and below is the last twenty lines or so f...   \n",
       "250                                                                                                                                                                                                                                                                                                                                                                                                                                                            I'm look for current patches for color xterm for X11R5 pl19 ro higher.  Could\\nsomeone please tell me where to get them for e-mail them to me.\\n\\nThanks.\\n\\n   \n",
       "272                                                                                                                                                                                                                                                                                                                                                                   In the past, I have used named pipes to communicate between processes using\\nthe XtAddInput function to set up the event handling in Motif. Does anybody\\nknow of a way to do this with message passing ( IPC ) ? I tried it here and\\nno luck so far.   \n",
       "279  Bristol Technology announces the availability of \\nits HyperHelp(tm) and Xprinter(tm) demo for downloading.\\n\\nThis demo showcases the two products in the form of a \\ndiagram editor called DE.\\n\\nDownload the demo and see some of these exciting features for yourself:\\n\\n\\t o Complete on-line context sensitive help system.\\n\\n\\t o Printing support for PCL5 and PostScript.\\n\\n\\t o Rotated Text support!\\n\\n\\t o Source code for the demo is provided.\\n\\nThe demo is available via anonymous ftp from ftp.uu.net (137.39.1.9).\\n\\nThere are two versions of the demo located in the vendor/Bristol direc...   \n",
       "288  Hello,\\n\\n\\nOur application requires us to capture keypad presses for all windows\\nin a number of applications.  We are trying to use action translation\\ntables to implement this.  We have only succeeded by assigning the\\ntranslation table to every individual widget in all windows in a single\\napplication.  The Xt calls we make are included below.\\n\\nIt would be much more convenient if we could assign the translation\\ntable to a class of widgets rather than individual widget instantiations,\\nand also accomplish it for MULTIPLE applications.  If someone could\\ndescribe how do this it would ...   \n",
       "290                                                                                                                                                                                                                                                                                                                                                                                                    Dear Xperts:\\n\\n  I want to place a specific group of icons in an icon box and\\nhave my other icons appear outside of the box.  Does anyone\\nknow if there's a way I can do this??  I'm using X11R5 and\\nMotif 1.2.1.   \n",
       "293                                                                                                                                                                                                                                                                                                                                                                                                                                                     \\nCould someone please send me the postal and email address of\\nCongruent Corporation (and any competitors they may have).\\n\\nThank you.\\n-- \\nsnail@lsl.co.uk         \n",
       "\n",
       "    category  \n",
       "21         5  \n",
       "32         5  \n",
       "44         5  \n",
       "66         5  \n",
       "80         5  \n",
       "97         5  \n",
       "111        5  \n",
       "140        5  \n",
       "171        5  \n",
       "199        5  \n",
       "206        5  \n",
       "207        5  \n",
       "230        5  \n",
       "234        5  \n",
       "250        5  \n",
       "272        5  \n",
       "279        5  \n",
       "288        5  \n",
       "290        5  \n",
       "293        5  "
      ]
     },
     "execution_count": 65,
     "metadata": {},
     "output_type": "execute_result"
    }
   ],
   "source": [
    "df_pointone[df_pointone.category == 5][[\"text\", \"category\"]].head(20)"
   ]
  },
  {
   "cell_type": "markdown",
   "metadata": {},
   "source": [
    "This is something about programming languages, hence there are a lot of stuffs that aren't really understood by normal english people: more technical and perhaps requires a more technical tokenizers to deal with this if it is to train separately. But we don't have that and cannot do that as other classes cannot use this specialized tokenizer (if it exist). \n",
    "\n",
    "Let's do some data cleaning and see what are the new n-grams. "
   ]
  },
  {
   "cell_type": "markdown",
   "metadata": {},
   "source": [
    "**From this point onwards we're doing a repetitive process of checking bigrams and trigrams, then inclue our regex in `clean_data` and repeat the code cells below until we're satisfied.**\n",
    "\n",
    "One thing to note: **These are not necessarily used during training** as training have some other procedures to exclude and to not exclude does better. However, for visualization, we need to exclude stuffs like `\\t` and `\\n` for easier visualization (but not more accurate training, so we don't delete them during training)."
   ]
  },
  {
   "cell_type": "code",
   "execution_count": 66,
   "metadata": {},
   "outputs": [],
   "source": [
    "import re\n",
    "\n",
    "def clean_data(text, include_newline=False):\n",
    "    text = re.sub(\"[<>\\t\\^]\", \" \", text)\n",
    "    text = re.sub(\"\\x0c\", '', text)\n",
    "    text = re.sub(r'[A-Za-z0-9]+@[A-Za-z0-9.]+', '', text)  # replace away emails.\n",
    "    text = re.sub(r'_+/', '', text)   # ____/__/__/\n",
    "    text = re.sub(r'(/\\\\)+', '', text)  # /\\/\\/\\/\\/\\/\\/\\/\\/\\/\\\n",
    "    text = re.sub(r'(/\\|)+', '', text)  # /|/|/|/|/|/|/|/|/|/|\n",
    "    text = re.sub(r'\\|+', '', text)  # ||||||||||||\n",
    "    text = re.sub(r'\\(\\d+\\) \\d+', '', text)  # Telephone and fex numbers. 'Fax: (908) 3027267' --> 'Fax: '.\n",
    "    text = re.sub(r'\\(\\d+\\)\\d+', '', text)  # if without space. \n",
    "    text = re.sub(r'\\d{10,11}', '', text)  # purely numbers. \n",
    "    text = re.sub(r'={3,}', '', text)  # no more ==, but separator =======.\n",
    "    # text = re.sub('\\(;', '', text)   # (; (; (; (; (;  # perhaps not removing \"emoticons\"\n",
    "    if include_newline: text = re.sub(\"\\n\", \" \", text)\n",
    "\n",
    "    # This may not require because it appears only in print() out? \n",
    "    # text = text.split(\"\\'\")  # .replace(\"\\\\\", \"\") doesn't work. \n",
    "    # text = \"'\".join(text)\n",
    "    return text"
   ]
  },
  {
   "cell_type": "code",
   "execution_count": 67,
   "metadata": {},
   "outputs": [
    {
     "data": {
      "application/vnd.jupyter.widget-view+json": {
       "model_id": "0f581481bb51451c82992e36e212ff2f",
       "version_major": 2,
       "version_minor": 0
      },
      "text/plain": [
       "  0%|          | 0/18451 [00:00<?, ?it/s]"
      ]
     },
     "metadata": {},
     "output_type": "display_data"
    },
    {
     "data": {
      "text/html": [
       "<div>\n",
       "<style scoped>\n",
       "    .dataframe tbody tr th:only-of-type {\n",
       "        vertical-align: middle;\n",
       "    }\n",
       "\n",
       "    .dataframe tbody tr th {\n",
       "        vertical-align: top;\n",
       "    }\n",
       "\n",
       "    .dataframe thead th {\n",
       "        text-align: right;\n",
       "    }\n",
       "</style>\n",
       "<table border=\"1\" class=\"dataframe\">\n",
       "  <thead>\n",
       "    <tr style=\"text-align: right;\">\n",
       "      <th></th>\n",
       "      <th>text</th>\n",
       "      <th>category</th>\n",
       "    </tr>\n",
       "  </thead>\n",
       "  <tbody>\n",
       "    <tr>\n",
       "      <th>0</th>\n",
       "      <td>I am sure some bashers of Pens fans are pretty confused about the lack of any kind of posts about the recent Pens massacre of the Devils. Actually, I am  bit puzzled too and a bit relieved. However, I am going to put an end to non-PIttsburghers' relief with a bit of praise for the Pens. Man, they are killing those Devils worse than I thought. Jagr just showed you why he is much better than his regular season stats. He is also a lot fo fun to watch in the playoffs. Bowman should let JAgr have a lot of fun in the next couple of games since the Pens are going to beat the pulp out of Jersey ...</td>\n",
       "      <td>10</td>\n",
       "    </tr>\n",
       "    <tr>\n",
       "      <th>1</th>\n",
       "      <td>My brother is in the market for a high-performance video card that supports VESA local bus with 1-2MB RAM.  Does anyone have suggestions/ideas on:    - Diamond Stealth Pro Local Bus    - Orchid Farenheit 1280    - ATI Graphics Ultra Pro    - Any other high-performance VLB card   Please post or email.  Thank you!    - Matt</td>\n",
       "      <td>3</td>\n",
       "    </tr>\n",
       "    <tr>\n",
       "      <th>2</th>\n",
       "      <td>Finally you said what you dream about. Mediterranean???? That was new....  The area will be \"greater\" after some years, like your \"holocaust\" numbers......       *****  Is't July in USA now????? Here in Sweden it's April and still cold.  Or have you changed your calendar???             ****************           ******************        ***************    NOTHING OF THE MENTIONED IS TRUE, BUT LET SAY IT's TRUE.    SHALL THE AZERI WOMEN AND CHILDREN GOING TO PAY THE PRICE WITH           **************  BEING RAPED, KILLED AND TORTURED BY THE ARMENIANS??????????    HAVE YOU HEARDED SOM...</td>\n",
       "      <td>17</td>\n",
       "    </tr>\n",
       "    <tr>\n",
       "      <th>3</th>\n",
       "      <td>Think!  It's the SCSI card doing the DMA transfers NOT the disks...  The SCSI card can do DMA transfers containing data from any of the SCSI devices it is attached when it wants to.  An important feature of SCSI is the ability to detach a device. This frees the SCSI bus for other devices. This is typically used in a multi-tasking OS to start transfers on several devices. While each device is seeking the data the bus is free for other commands and data transfers. When the devices are ready to transfer the data they can aquire the bus and send the data.  On an IDE bus when you start a trans...</td>\n",
       "      <td>3</td>\n",
       "    </tr>\n",
       "    <tr>\n",
       "      <th>4</th>\n",
       "      <td>1)    I have an old Jasmine drive which I cannot use with my new system.  My understanding is that I have to upsate the driver with a more modern one in order to gain compatability with system 7.0.1.  does anyone know of an inexpensive program to do this?  ( I have seen formatters for  $20 buit have no idea if they will work)   2)     I have another ancient device, this one a tape drive for which the back utility freezes the system if I try to use it.  THe drive is a jasmine direct tape (bought used for $150 w/ 6 tapes, techmar mechanism).  Essentially I have the same question as above, an...</td>\n",
       "      <td>4</td>\n",
       "    </tr>\n",
       "  </tbody>\n",
       "</table>\n",
       "</div>"
      ],
      "text/plain": [
       "                                                                                                                                                                                                                                                                                                                                                                                                                                                                                                                                                                                                                      text  \\\n",
       "0    I am sure some bashers of Pens fans are pretty confused about the lack of any kind of posts about the recent Pens massacre of the Devils. Actually, I am  bit puzzled too and a bit relieved. However, I am going to put an end to non-PIttsburghers' relief with a bit of praise for the Pens. Man, they are killing those Devils worse than I thought. Jagr just showed you why he is much better than his regular season stats. He is also a lot fo fun to watch in the playoffs. Bowman should let JAgr have a lot of fun in the next couple of games since the Pens are going to beat the pulp out of Jersey ...   \n",
       "1                                                                                                                                                                                                                                                                                     My brother is in the market for a high-performance video card that supports VESA local bus with 1-2MB RAM.  Does anyone have suggestions/ideas on:    - Diamond Stealth Pro Local Bus    - Orchid Farenheit 1280    - ATI Graphics Ultra Pro    - Any other high-performance VLB card   Please post or email.  Thank you!    - Matt    \n",
       "2       Finally you said what you dream about. Mediterranean???? That was new....  The area will be \"greater\" after some years, like your \"holocaust\" numbers......       *****  Is't July in USA now????? Here in Sweden it's April and still cold.  Or have you changed your calendar???             ****************           ******************        ***************    NOTHING OF THE MENTIONED IS TRUE, BUT LET SAY IT's TRUE.    SHALL THE AZERI WOMEN AND CHILDREN GOING TO PAY THE PRICE WITH           **************  BEING RAPED, KILLED AND TORTURED BY THE ARMENIANS??????????    HAVE YOU HEARDED SOM...   \n",
       "3   Think!  It's the SCSI card doing the DMA transfers NOT the disks...  The SCSI card can do DMA transfers containing data from any of the SCSI devices it is attached when it wants to.  An important feature of SCSI is the ability to detach a device. This frees the SCSI bus for other devices. This is typically used in a multi-tasking OS to start transfers on several devices. While each device is seeking the data the bus is free for other commands and data transfers. When the devices are ready to transfer the data they can aquire the bus and send the data.  On an IDE bus when you start a trans...   \n",
       "4  1)    I have an old Jasmine drive which I cannot use with my new system.  My understanding is that I have to upsate the driver with a more modern one in order to gain compatability with system 7.0.1.  does anyone know of an inexpensive program to do this?  ( I have seen formatters for  $20 buit have no idea if they will work)   2)     I have another ancient device, this one a tape drive for which the back utility freezes the system if I try to use it.  THe drive is a jasmine direct tape (bought used for $150 w/ 6 tapes, techmar mechanism).  Essentially I have the same question as above, an...   \n",
       "\n",
       "  category  \n",
       "0       10  \n",
       "1        3  \n",
       "2       17  \n",
       "3        3  \n",
       "4        4  "
      ]
     },
     "execution_count": 67,
     "metadata": {},
     "output_type": "execute_result"
    }
   ],
   "source": [
    "xs = df_pointone.text.to_numpy()\n",
    "y = df_pointone.category.to_numpy()\n",
    "xs = np.array([clean_data(x, True) for x in tqdm(xs)])\n",
    "df_pointone = pd.DataFrame([xs, y]).T\n",
    "df_pointone.columns = [\"text\", \"category\"]\n",
    "df_pointone.head()"
   ]
  },
  {
   "cell_type": "code",
   "execution_count": 68,
   "metadata": {},
   "outputs": [
    {
     "data": {
      "text/plain": [
       "0"
      ]
     },
     "execution_count": 68,
     "metadata": {},
     "output_type": "execute_result"
    }
   ],
   "source": [
    "del unigrams, bigrams, trigrams\n",
    "gc.collect()"
   ]
  },
  {
   "cell_type": "code",
   "execution_count": 69,
   "metadata": {},
   "outputs": [
    {
     "data": {
      "application/vnd.jupyter.widget-view+json": {
       "model_id": "7cecb14b698340d192ed842235d54710",
       "version_major": 2,
       "version_minor": 0
      },
      "text/plain": [
       "  0%|          | 0/20 [00:00<?, ?it/s]"
      ]
     },
     "metadata": {},
     "output_type": "display_data"
    },
    {
     "data": {
      "text/html": [
       "<table>\n",
       "<thead>\n",
       "<tr><th style=\"text-align: right;\">  category</th><th>0      </th><th>1       </th><th>2         </th><th>3      </th><th>4         </th><th>5       </th><th>6    </th><th>7        </th><th>8     </th><th>9        </th><th>10                                                                    </th><th>11             </th><th>12      </th><th>13       </th><th>14        </th></tr>\n",
       "</thead>\n",
       "<tbody>\n",
       "<tr><td style=\"text-align: right;\">         0</td><td>#      </td><td>:       </td><td>don&#x27;t     </td><td>people </td><td>god       </td><td>just    </td><td>think</td><td>does     </td><td>-     </td><td>believe  </td><td>like                                                                  </td><td>say            </td><td>it&#x27;s    </td><td>know     </td><td>--        </td></tr>\n",
       "<tr><td style=\"text-align: right;\">         1</td><td>image  </td><td>-       </td><td>:         </td><td>jpeg   </td><td>file      </td><td>graphics</td><td>use  </td><td>available</td><td>data  </td><td>like     </td><td>images                                                                </td><td>software       </td><td>program </td><td>don&#x27;t    </td><td>does      </td></tr>\n",
       "<tr><td style=\"text-align: right;\">         2</td><td>windows</td><td>file    </td><td>use       </td><td>dos    </td><td>:         </td><td>like    </td><td>just </td><td>using    </td><td>-     </td><td>don&#x27;t    </td><td>--                                                                    </td><td>know           </td><td>does    </td><td>files    </td><td>run       </td></tr>\n",
       "<tr><td style=\"text-align: right;\">         3</td><td>drive  </td><td>:       </td><td>-         </td><td>scsi   </td><td>use       </td><td>card    </td><td>does </td><td>just     </td><td>know  </td><td>disk     </td><td>like                                                                  </td><td>hard           </td><td>ide     </td><td>i&#x27;m      </td><td>controller</td></tr>\n",
       "<tr><td style=\"text-align: right;\">         4</td><td>mac    </td><td>apple   </td><td>just      </td><td>does   </td><td>know      </td><td>use     </td><td>-    </td><td>like     </td><td>drive </td><td>i&#x27;m      </td><td>don&#x27;t                                                                 </td><td>problem        </td><td>new     </td><td>need     </td><td>--        </td></tr>\n",
       "<tr><td style=\"text-align: right;\">         5</td><td>x      </td><td>-       </td><td>*         </td><td>=      </td><td>*/        </td><td>use     </td><td>/*   </td><td>window   </td><td>file  </td><td>server   </td><td>using                                                                 </td><td>program        </td><td>set     </td><td>available</td><td>does      </td></tr>\n",
       "<tr><td style=\"text-align: right;\">         6</td><td>$      </td><td>-       </td><td>1         </td><td>$1     </td><td>2         </td><td>new     </td><td>$2   </td><td>.        </td><td>&amp;     </td><td>*        </td><td>good                                                                  </td><td>like           </td><td>dos     </td><td>asking   </td><td>shipping  </td></tr>\n",
       "<tr><td style=\"text-align: right;\">         7</td><td>car    </td><td>just    </td><td>like      </td><td>don&#x27;t  </td><td>-         </td><td>new     </td><td>:    </td><td>know     </td><td>/     </td><td>cars     </td><td>think                                                                 </td><td>good           </td><td>it&#x27;s    </td><td>i&#x27;m      </td><td>engine    </td></tr>\n",
       "<tr><td style=\"text-align: right;\">         8</td><td>:      </td><td>bike    </td><td>just      </td><td>like   </td><td>don&#x27;t     </td><td>it&#x27;s    </td><td>i&#x27;m  </td><td>-        </td><td>--    </td><td>dod      </td><td>know                                                                  </td><td>good           </td><td>think   </td><td>ride     </td><td>i&#x27;ve      </td></tr>\n",
       "<tr><td style=\"text-align: right;\">         9</td><td>0      </td><td>1       </td><td>don&#x27;t     </td><td>think  </td><td>--        </td><td>just    </td><td>-    </td><td>like     </td><td>game  </td><td>good     </td><td>2                                                                     </td><td>3              </td><td>team    </td><td>year     </td><td>hit       </td></tr>\n",
       "<tr><td style=\"text-align: right;\">        10</td><td>0      </td><td>1       </td><td>2         </td><td>-      </td><td>3         </td><td>4       </td><td>game </td><td>5        </td><td>team  </td><td>6        </td><td>7                                                                     </td><td>hockey         </td><td>---     </td><td>25       </td><td>--        </td></tr>\n",
       "<tr><td style=\"text-align: right;\">        11</td><td>key    </td><td>use     </td><td>encryption</td><td>db     </td><td>government</td><td>people  </td><td>-    </td><td>just     </td><td>don&#x27;t </td><td>chip     </td><td>:                                                                     </td><td>clipper        </td><td>like    </td><td>security </td><td>know      </td></tr>\n",
       "<tr><td style=\"text-align: right;\">        12</td><td>:      </td><td>use     </td><td>-         </td><td>like   </td><td>don&#x27;t     </td><td>just    </td><td>used </td><td>know     </td><td>does  </td><td>power    </td><td>need                                                                  </td><td>it&#x27;s           </td><td>good    </td><td>i&#x27;m      </td><td>--        </td></tr>\n",
       "<tr><td style=\"text-align: right;\">        13</td><td>-      </td><td>--      </td><td>medical   </td><td>don&#x27;t  </td><td>:         </td><td>like    </td><td>use  </td><td>know     </td><td>people</td><td>health   </td><td>just                                                                  </td><td>new            </td><td>patients</td><td>i&#x27;m      </td><td>it&#x27;s      </td></tr>\n",
       "<tr><td style=\"text-align: right;\">        14</td><td>space  </td><td>-       </td><td>--        </td><td>like   </td><td>launch    </td><td>just    </td><td>nasa </td><td>don&#x27;t    </td><td>new   </td><td>shuttle  </td><td>data                                                                  </td><td>solar          </td><td>think   </td><td>it&#x27;s     </td><td>earth     </td></tr>\n",
       "<tr><td style=\"text-align: right;\">        15</td><td>god    </td><td>people  </td><td>think     </td><td>does   </td><td>jesus     </td><td>don&#x27;t   </td><td>know </td><td>believe  </td><td>just  </td><td>like     </td><td>--                                                                    </td><td>church         </td><td>-       </td><td>say      </td><td>:         </td></tr>\n",
       "<tr><td style=\"text-align: right;\">        16</td><td>-      </td><td>gun     </td><td>people    </td><td>--     </td><td>:         </td><td>don&#x27;t   </td><td>just </td><td>like     </td><td>think </td><td>file:    </td><td>----------------------------------------------------------------------</td><td>fbi            </td><td>right   </td><td>guns     </td><td>did       </td></tr>\n",
       "<tr><td style=\"text-align: right;\">        17</td><td>people </td><td>armenian</td><td>.         </td><td>turkish</td><td>armenians </td><td>-       </td><td>just </td><td>israel   </td><td>like  </td><td>jews     </td><td>don&#x27;t                                                                 </td><td>said           </td><td>israeli </td><td>did      </td><td>know      </td></tr>\n",
       "<tr><td style=\"text-align: right;\">        18</td><td>#      </td><td>q       </td><td>--        </td><td>people </td><td>think     </td><td>mr.     </td><td>don&#x27;t</td><td>-        </td><td>it&#x27;s  </td><td>president</td><td>just                                                                  </td><td>stephanopoulos:</td><td>going   </td><td>know     </td><td>like      </td></tr>\n",
       "<tr><td style=\"text-align: right;\">        19</td><td>god    </td><td>people  </td><td>jesus     </td><td>:      </td><td>don&#x27;t     </td><td>just    </td><td>think</td><td>know     </td><td>does  </td><td>#        </td><td>say                                                                   </td><td>like           </td><td>did     </td><td>bible    </td><td>believe   </td></tr>\n",
       "</tbody>\n",
       "</table>"
      ],
      "text/plain": [
       "<IPython.core.display.HTML object>"
      ]
     },
     "metadata": {},
     "output_type": "display_data"
    }
   ],
   "source": [
    "unigrams = ngram_counter(df_pointone, 1)\n",
    "n_gram_by_category(unigrams, 15)"
   ]
  },
  {
   "cell_type": "code",
   "execution_count": 70,
   "metadata": {},
   "outputs": [
    {
     "data": {
      "application/vnd.jupyter.widget-view+json": {
       "model_id": "2f6d9e66c084448a92a08903ea368f60",
       "version_major": 2,
       "version_minor": 0
      },
      "text/plain": [
       "  0%|          | 0/20 [00:00<?, ?it/s]"
      ]
     },
     "metadata": {},
     "output_type": "display_data"
    },
    {
     "data": {
      "text/html": [
       "<table>\n",
       "<thead>\n",
       "<tr><th style=\"text-align: right;\">  category</th><th>0                  </th><th>1                                                                           </th><th>2              </th><th>3              </th><th>4               </th><th>5                 </th><th>6                                                                                  </th><th>7               </th><th>8                    </th><th>9                   </th><th>10                 </th><th>11                                                                             </th><th>12                 </th><th>13                </th><th>14                   </th></tr>\n",
       "</thead>\n",
       "<tbody>\n",
       "<tr><td style=\"text-align: right;\">         0</td><td># #                </td><td>: :                                                                         </td><td>don&#x27;t think    </td><td>don&#x27;t know     </td><td>don&#x27;t believe   </td><td>i&#x27;m sure          </td><td>. .                                                                                </td><td>god does        </td><td>cheers, kent         </td><td>bob beauchaine      </td><td>beauchaine said    </td><td>said queens                                                                    </td><td>queens stay,       </td><td>stay, blew        </td><td>blew bronx           </td></tr>\n",
       "<tr><td style=\"text-align: right;\">         1</td><td>image processing   </td><td>computer graphics                                                           </td><td>anonymous ftp  </td><td>24 bit         </td><td>source code     </td><td>                  </td><td>image quality                                                                      </td><td>: :             </td><td>don&#x27;t know           </td><td>does know           </td><td>free jpeg          </td><td>available anonymous                                                            </td><td>i&#x27;m looking        </td><td>i&#x27;m sure          </td><td>mirror sites         </td></tr>\n",
       "<tr><td style=\"text-align: right;\">         2</td><td>windows 3.1        </td><td>* *                                                                         </td><td>: :            </td><td>don&#x27;t know     </td><td>allocation unit </td><td>cross linked      </td><td>linked allocation                                                                  </td><td>_ _             </td><td>windows nt           </td><td>does know           </td><td>run windows        </td><td>swap file                                                                      </td><td>dos 6              </td><td>windows 3.1.      </td><td>ftp site             </td></tr>\n",
       "<tr><td style=\"text-align: right;\">         3</td><td>hard disk          </td><td>: :                                                                         </td><td>local bus      </td><td>controller card</td><td>rom bios        </td><td>disk drives       </td><td>don&#x27;t know                                                                         </td><td>hard drive      </td><td>floppy disk          </td><td>. .                 </td><td>does know          </td><td>disk controller                                                                </td><td>tape drive         </td><td>o o               </td><td>isa bus              </td></tr>\n",
       "<tr><td style=\"text-align: right;\">         4</td><td>does know          </td><td>hard drive                                                                  </td><td>25 mhz         </td><td>- -            </td><td>don&#x27;t know      </td><td>hard disk         </td><td>32 32                                                                              </td><td>-- --           </td><td>heat sink            </td><td>centris 610         </td><td>power supply       </td><td>thanks advance.                                                                </td><td>i&#x27;m sure           </td><td>(pc week          </td><td>vv vv                </td></tr>\n",
       "<tr><td style=\"text-align: right;\">         5</td><td>x x                </td><td>x *                                                                         </td><td>- -            </td><td>*/ x           </td><td>x /*            </td><td>{ x               </td><td>---------------------------------------------------------------------- subject:    </td><td>x }             </td><td>} x                  </td><td>x */                </td><td>window manager     </td><td>x char                                                                         </td><td>x server           </td><td>/* x              </td><td>* x                  </td></tr>\n",
       "<tr><td style=\"text-align: right;\">         6</td><td>. .                </td><td>appears) $                                                                  </td><td>$ 1.00         </td><td>$ 5.00         </td><td>$ 1.40          </td><td>$ 7.50            </td><td>$ 3.00                                                                             </td><td>$ 3.50          </td><td>best offer           </td><td>art) $              </td><td>brand new          </td><td>(1st app                                                                       </td><td>$ 2.10             </td><td>- good            </td><td>best offer.          </td></tr>\n",
       "<tr><td style=\"text-align: right;\">         7</td><td>/ /                </td><td>don&#x27;t know                                                                  </td><td>(send requests </td><td>: :            </td><td>\\ /             </td><td>/ \\               </td><td>don&#x27;t think                                                                        </td><td>i&#x27;m sure        </td><td>i&#x27;d like             </td><td>does know           </td><td>consumer reports   </td><td>___ /                                                                          </td><td>oil change         </td><td>i&#x27;ve seen         </td><td>i&#x27;m looking          </td></tr>\n",
       "<tr><td style=\"text-align: right;\">         8</td><td>: :                </td><td>don&#x27;t know                                                                  </td><td>. .            </td><td>nick (the      </td><td>---- dod        </td><td>dod #8177         </td><td>#8177 =                                                                            </td><td>= technician(dr.</td><td>technician(dr. speed)</td><td>speed) .not.        </td><td>.not. student      </td><td>student ----                                                                   </td><td>make sure          </td><td>i&#x27;m sure          </td><td>)-: :-(              </td></tr>\n",
       "<tr><td style=\"text-align: right;\">         9</td><td>0 0                </td><td>- -                                                                         </td><td>new york       </td><td>1 0            </td><td>red sox         </td><td>won 1             </td><td>lost 1                                                                             </td><td>0 1             </td><td>1 1                  </td><td>don&#x27;t know          </td><td>don&#x27;t think        </td><td>3 0                                                                            </td><td>cubs suck          </td><td>suck cubs         </td><td>major league         </td></tr>\n",
       "<tr><td style=\"text-align: right;\">        10</td><td>0 0                </td><td>0 1                                                                         </td><td>1 1            </td><td>1 0            </td><td>2 2             </td><td>2 0               </td><td>0 2                                                                                </td><td>1 2             </td><td>25 (--)              </td><td>--- ---             </td><td>- -                </td><td>3 0                                                                            </td><td>2 1                </td><td>1 -               </td><td>power play:          </td></tr>\n",
       "<tr><td style=\"text-align: right;\">        11</td><td>law enforcement    </td><td>clipper chip                                                                </td><td>public key     </td><td>serial number  </td><td>anonymous ftp   </td><td>&quot;clipper chip&quot;    </td><td>key escrow                                                                         </td><td>don&#x27;t know      </td><td>. .                  </td><td>available anonymous </td><td>: :                </td><td>encryption algorithm                                                           </td><td>s1 s2              </td><td>don&#x27;t think       </td><td>; ;                  </td></tr>\n",
       "<tr><td style=\"text-align: right;\">        12</td><td>: :                </td><td>don&#x27;t know                                                                  </td><td>does know      </td><td>_ _            </td><td>- -             </td><td>i&#x27;ve seen         </td><td>copy protection                                                                    </td><td>make sure       </td><td>i&#x27;d like             </td><td>radar detector      </td><td>i&#x27;ve got           </td><td>. .                                                                            </td><td>radio shack        </td><td>power supply      </td><td>r r                  </td></tr>\n",
       "<tr><td style=\"text-align: right;\">        13</td><td>medical newsletter </td><td>hicnet medical                                                              </td><td>newsletter page</td><td>volume 6,      </td><td>6, number       </td><td>gordon banks      </td><td>---------------------------------------------------------------------------- gordon</td><td>banks n3jxp     </td><td>n3jxp &quot;skepticism    </td><td>&quot;skepticism chastity</td><td>chastity intellect,</td><td>-- ----------------------------------------------------------------------------</td><td>intellect, shameful</td><td>shameful surrender</td><td>surrender soon.&quot;     </td></tr>\n",
       "<tr><td style=\"text-align: right;\">        14</td><td>space station      </td><td>space shuttle                                                               </td><td>anonymous ftp  </td><td>don&#x27;t think    </td><td>commercial space</td><td>don&#x27;t know        </td><td>nasa ames                                                                          </td><td>?? -            </td><td>remote sensing       </td><td>national space      </td><td>available anonymous</td><td>gamma ray                                                                      </td><td>people don&#x27;t       </td><td>washington, dc    </td><td>i&#x27;m sure             </td></tr>\n",
       "<tr><td style=\"text-align: right;\">        15</td><td>don&#x27;t know         </td><td>holy spirit                                                                 </td><td>don&#x27;t think    </td><td>: :            </td><td>new testament   </td><td>jesus christ      </td><td>does mean                                                                          </td><td>don&#x27;t believe   </td><td>i&#x27;m sure             </td><td>catholic church     </td><td>lord jesus         </td><td>sounds like                                                                    </td><td>don&#x27;t want         </td><td>god does          </td><td>i&#x27;d like             </td></tr>\n",
       "<tr><td style=\"text-align: right;\">        16</td><td>- -                </td><td>---------------------------------------------------------------------- file:</td><td>gun control    </td><td>united states  </td><td>: :             </td><td>second amendment  </td><td>law enforcement                                                                    </td><td>don&#x27;t know      </td><td>don&#x27;t think          </td><td>tear gas            </td><td>bear arms          </td><td>right bear                                                                     </td><td>david koresh       </td><td>. .               </td><td>gun owners           </td></tr>\n",
       "<tr><td style=\"text-align: right;\">        17</td><td>. .                </td><td>serdar argic                                                                </td><td>human rights   </td><td>2.5 million    </td><td>don&#x27;t know      </td><td>professor history,</td><td>armenian government                                                                </td><td>- -             </td><td>world war            </td><td>new york            </td><td>ottoman empire     </td><td>genocide 2.5                                                                   </td><td>muslim population  </td><td>x-soviet armenian </td><td>new york,            </td></tr>\n",
       "<tr><td style=\"text-align: right;\">        18</td><td>mr. stephanopoulos:</td><td>ms. myers:                                                                  </td><td>- -            </td><td># #            </td><td>don&#x27;t know      </td><td>united states     </td><td>white house                                                                        </td><td>health care     </td><td>don&#x27;t think          </td><td>-- mr.              </td><td># ##               </td><td>q george,                                                                      </td><td>-- q               </td><td>attorney general  </td><td>senior administration</td></tr>\n",
       "<tr><td style=\"text-align: right;\">        19</td><td>: :                </td><td>lord [jehovah]                                                              </td><td>cheers, kent   </td><td>* *            </td><td># #             </td><td>don&#x27;t think       </td><td>. .                                                                                </td><td>jesus christ    </td><td>lord [jehovah],      </td><td>don&#x27;t know          </td><td>god [elohim]       </td><td>does mean                                                                      </td><td>thou shalt         </td><td>david koresh      </td><td>said unto            </td></tr>\n",
       "</tbody>\n",
       "</table>"
      ],
      "text/plain": [
       "<IPython.core.display.HTML object>"
      ]
     },
     "metadata": {},
     "output_type": "display_data"
    }
   ],
   "source": [
    "bigrams = ngram_counter(df_pointone, 2)\n",
    "n_gram_by_category(bigrams, 15)"
   ]
  },
  {
   "cell_type": "code",
   "execution_count": 71,
   "metadata": {},
   "outputs": [
    {
     "data": {
      "text/plain": [
       "\"    Here in Australia most cars are manual (privately owned anyway).  Why? Not sure, I think it has something to do with the fact that our car industry in the past was more closely aligned with Europe than the US in the past. Now it's aligned with Asia.  Scott. _______________________________________________________________________________ Scott Fisher []  PH: Aus [61] Perth (09) Local (380 3272).                                                                              _--_\\\\       N Department of Psychology                                    /      \\\\    W + E University of Western Australia.      Perth [32S, 116E]--   *_.--.      S Nedlands, 6009.  PERTH, W.A.                                      v         Joy is a Jaguar XJ6 with a flat battery, a blown oil seal and an unsympathetic  wife, 9km outside of a small remote town, 3:15am on a cold wet winters morning.\""
      ]
     },
     "execution_count": 71,
     "metadata": {},
     "output_type": "execute_result"
    }
   ],
   "source": [
    "df_pointone.iloc[18366].text"
   ]
  },
  {
   "cell_type": "markdown",
   "metadata": {},
   "source": [
    "One is unsure how to clean this, and whether to clean it or not. "
   ]
  },
  {
   "cell_type": "code",
   "execution_count": 72,
   "metadata": {},
   "outputs": [
    {
     "data": {
      "application/vnd.jupyter.widget-view+json": {
       "model_id": "07f3682f76774af390302e475199f38c",
       "version_major": 2,
       "version_minor": 0
      },
      "text/plain": [
       "  0%|          | 0/20 [00:00<?, ?it/s]"
      ]
     },
     "metadata": {},
     "output_type": "display_data"
    },
    {
     "data": {
      "text/html": [
       "<table>\n",
       "<thead>\n",
       "<tr><th style=\"text-align: right;\">  category</th><th>0                        </th><th>1                      </th><th>2                        </th><th>3                                                                                        </th><th>4                                                                              </th><th>5                        </th><th>6                          </th><th>7                              </th><th>8                                                                                     </th><th>9                            </th><th>10                           </th><th>11                                                                         </th><th>12                                                                         </th><th>13                            </th><th>14                          </th></tr>\n",
       "</thead>\n",
       "<tbody>\n",
       "<tr><td style=\"text-align: right;\">         0</td><td># # #                    </td><td>bob beauchaine said    </td><td>beauchaine said queens   </td><td>said queens stay,                                                                        </td><td>queens stay, blew                                                              </td><td>stay, blew bronx         </td><td>blew bronx away,           </td><td>bronx away, sank               </td><td>away, sank manhattan                                                                  </td><td>sank manhattan sea.          </td><td>. . .                        </td><td>-- **************************************************************** michael</td><td>**************************************************************** michael a.</td><td>michael a. cobb               </td><td>a. cobb &quot;...and             </td></tr>\n",
       "<tr><td style=\"text-align: right;\">         1</td><td>available anonymous ftp  </td><td>simtel20 mirror sites  </td><td>mirror sites (see        </td><td>sites (see note                                                                          </td><td># # #                                                                          </td><td>(see note below),        </td><td>note below), file          </td><td>-- nfotis ]                    </td><td>free jpeg software                                                                    </td><td>available simtel20 mirror    </td><td>send subscription requests   </td><td>free ijg jpeg                                                              </td><td>amiga.physik.unizh.ch (and mirror                                          </td><td>does anybody know             </td><td>-- chris lilley             </td></tr>\n",
       "<tr><td style=\"text-align: right;\">         2</td><td>* * *                    </td><td>cross linked allocation</td><td>linked allocation unit   </td><td>_ _ _                                                                                    </td><td>case western reserve                                                           </td><td>notebook file name:      </td><td>ati graphics ultra         </td><td>&quot; &quot; &quot;                          </td><td>march 15, 1991                                                                        </td><td>thx dave l                   </td><td>does anybody know            </td><td>ati ultra pro                                                              </td><td>allocation error, size                                                     </td><td>error, size adjusted          </td><td>----------- notebook file   </td></tr>\n",
       "<tr><td style=\"text-align: right;\">         3</td><td>. . .                    </td><td>floppy disk drives     </td><td>hard disk controller     </td><td>o o o                                                                                    </td><td>hard disk drives                                                               </td><td>disk controller card     </td><td>controller card st506/st412</td><td>st506/st412 interface. supports</td><td>drives 16 heads                                                                       </td><td>card st506/st412 interface.  </td><td>- hard disk                  </td><td>inches max resolution:                                                     </td><td>16 heads 2048                                                              </td><td>interface. supports 2         </td><td>optional rom bios           </td></tr>\n",
       "<tr><td style=\"text-align: right;\">         4</td><td>- - -                    </td><td>32 32 32               </td><td>-- -- --                 </td><td>25 mhz operational                                                                       </td><td>heat sink cpu                                                                  </td><td>cheers, / h+             </td><td>mhz operational heat       </td><td>operational heat sink          </td><td>o o o                                                                                 </td><td>x x x                        </td><td>/ h+ --                      </td><td>h+ -- --                                                                   </td><td>-- -- jon                                                                  </td><td>-- jon w{tte,                 </td><td>jon w{tte, h+@nada.kth.se,  </td></tr>\n",
       "<tr><td style=\"text-align: right;\">         5</td><td>- - -                    </td><td>x x /*                 </td><td>x } x                    </td><td>x */ x                                                                                   </td><td>x /* x                                                                         </td><td>/* x *                   </td><td>x * x                      </td><td>* x *                          </td><td>*/ x char                                                                             </td><td>} x x                        </td><td>x check_io(output, oname,    </td><td>check_io(output, oname, eof_not_ok);                                       </td><td>oname, eof_not_ok); x                                                      </td><td>x/* x *                       </td><td>stream */ x                 </td></tr>\n",
       "<tr><td style=\"text-align: right;\">         6</td><td>. . .                    </td><td>- good -               </td><td>1 (signed liefeld,       </td><td>(signed liefeld, bagged,                                                                 </td><td>- excellent -                                                                  </td><td>x-force 1 (signed        </td><td>weapon x) $                </td><td>(b.w.smith, weapon x)          </td><td>(2 copies) $2                                                                         </td><td>2001 tie in)                 </td><td>(punisher appears) $         </td><td>ghost rider) $                                                             </td><td>(sabretooth appears) $                                                     </td><td>star trek generation          </td><td>trek generation 1           </td></tr>\n",
       "<tr><td style=\"text-align: right;\">         7</td><td>/ / /                    </td><td>/ / /__                </td><td>/ ___ /                  </td><td>___ / /                                                                                  </td><td>/ \\ /                                                                          </td><td>. . .                    </td><td>don&#x27;t know any.            </td><td>. / larry                      </td><td>/ larry _                                                                             </td><td>larry _ /                    </td><td>_ / \\                        </td><td>/ \\ _____                                                                  </td><td>\\ _____ __                                                                 </td><td>_____ __ _____                </td><td>__ _____ \\-------           </td></tr>\n",
       "<tr><td style=\"text-align: right;\">         8</td><td>---- dod #8177           </td><td>dod #8177 =            </td><td>#8177 = technician(dr.   </td><td>= technician(dr. speed)                                                                  </td><td>technician(dr. speed) .not.                                                    </td><td>speed) .not. student     </td><td>.not. student ----         </td><td>biker) dod 1069                </td><td>dod 1069 concise                                                                      </td><td>-- nick (the                 </td><td>1069 concise oxford          </td><td>gmt wibbled: :                                                             </td><td>. . .                                                                      </td><td>tom coradeschi +              </td><td>: : :                       </td></tr>\n",
       "<tr><td style=\"text-align: right;\">         9</td><td>0 0 0                    </td><td>- - -                  </td><td>1 0 0                    </td><td>cubs suck cubs                                                                           </td><td>suck cubs suck                                                                 </td><td>0 1 0                    </td><td>3 0 0                      </td><td>boston red sox                 </td><td>-- dale j.                                                                            </td><td>dale j. stephenson           </td><td>j. stephenson *              </td><td>stephenson * ()                                                            </td><td>* () *                                                                     </td><td>mike jones aix                </td><td>jones aix high-end          </td></tr>\n",
       "<tr><td style=\"text-align: right;\">        10</td><td>0 0 0                    </td><td>0 1 1                  </td><td>1 0 1                    </td><td>1 0 0                                                                                    </td><td>2 2 2                                                                          </td><td>- - -                    </td><td>2 0 0                      </td><td>1 1 0                          </td><td>0 2 2                                                                                 </td><td>1 1 2                        </td><td>--- --- ---                  </td><td>3 0 0                                                                      </td><td>scorer g pts                                                               </td><td>g pts ---------------         </td><td>pts --------------- ---     </td></tr>\n",
       "<tr><td style=\"text-align: right;\">        11</td><td>available anonymous ftp  </td><td>-- perry metzger       </td><td>. . .                    </td><td>law enforcement agencies                                                                 </td><td>&quot; db &quot;                                                                         </td><td>s1]; s2]; s1]            </td><td>security key escrow        </td><td>law enforcement block          </td><td>-----begin pgp signed                                                                 </td><td>pgp signed message-----      </td><td>-----begin pgp signature-----</td><td>pgp signature----- version:                                                </td><td>signature----- version: 2.2                                                </td><td>electronic frontier foundation</td><td>national institute standards</td></tr>\n",
       "<tr><td style=\"text-align: right;\">        12</td><td>- - -                    </td><td>_ _ _                  </td><td>: : :                    </td><td>-- -------------------------------------------------------------------- dave             </td><td>-------------------------------------------------------------------- dave medin</td><td>dave medin phone:        </td><td>medin phone: -3169         </td><td>phone: -3169 (w)               </td><td>-3169 (w) ssd--networking                                                             </td><td>(w) ssd--networking -1174    </td><td>ssd--networking -1174 (h)    </td><td>-1174 (h) intergraph                                                       </td><td>(h) intergraph corp.                                                       </td><td>intergraph corp. m/s          </td><td>corp. m/s gd3004            </td></tr>\n",
       "<tr><td style=\"text-align: right;\">        13</td><td>hicnet medical newsletter</td><td>medical newsletter page</td><td>volume 6, number         </td><td>---------------------------------------------------------------------------- gordon banks</td><td>gordon banks n3jxp                                                             </td><td>banks n3jxp &quot;skepticism  </td><td>n3jxp &quot;skepticism chastity </td><td>&quot;skepticism chastity intellect,</td><td>-- ---------------------------------------------------------------------------- gordon</td><td>chastity intellect, shameful </td><td>intellect, shameful surrender</td><td>shameful surrender soon.&quot;                                                  </td><td>6, number 11                                                               </td><td>number 11 april               </td><td>11 april 25,                </td></tr>\n",
       "<tr><td style=\"text-align: right;\">        14</td><td>available anonymous ftp  </td><td>-- &quot;insisting perfect  </td><td>&quot;insisting perfect safety</td><td>perfect safety people                                                                    </td><td>safety people don&#x27;t                                                            </td><td>people don&#x27;t balls       </td><td>don&#x27;t balls live           </td><td>balls live real                </td><td>live real world.&quot;                                                                     </td><td>real world.&quot; --              </td><td>world.&quot; -- mary              </td><td>-- mary shafer,                                                            </td><td>mary shafer, nasa                                                          </td><td>shafer, nasa ames             </td><td>nasa ames dryden            </td></tr>\n",
       "<tr><td style=\"text-align: right;\">        15</td><td>larry overacker ()       </td><td>overacker () --        </td><td>: : :                    </td><td>father, son, holy                                                                        </td><td>: r r                                                                          </td><td>r r oo                   </td><td>/ / /                      </td><td>dead sea scrolls               </td><td>r oo oo                                                                               </td><td>oo oo b                      </td><td>b b :                        </td><td>- - -                                                                      </td><td>c. s. lewis                                                                </td><td>yours, james kiefer           </td><td>bernadette did know         </td></tr>\n",
       "<tr><td style=\"text-align: right;\">        16</td><td>- - -                    </td><td>right people bear      </td><td>right bear arms          </td><td>new england journal                                                                      </td><td>title 18, united                                                               </td><td>18, united states        </td><td>united states code,        </td><td>. . .                          </td><td>-- dave feustel                                                                       </td><td>dave feustel n9myi           </td><td>necessary security free      </td><td>times likely used                                                          </td><td>[ ... ]                                                                    </td><td>/ iftccu:talk.politics.guns / </td><td>people bear arms,           </td></tr>\n",
       "<tr><td style=\"text-align: right;\">        17</td><td>. . .                    </td><td>genocide 2.5 million   </td><td>2.5 million muslim       </td><td>professor history, university                                                            </td><td>x-soviet armenian government                                                   </td><td>- - -                    </td><td>center policy research     </td><td>armenians did slaughter        </td><td>armenian genocide 2.5                                                                 </td><td>adam adam shostack           </td><td>2.5 million turks            </td><td>from: center policy                                                        </td><td>policy research cpr                                                        </td><td>research cpr subject:         </td><td>million muslim people       </td></tr>\n",
       "<tr><td style=\"text-align: right;\">        18</td><td>- - -                    </td><td>-- mr. stephanopoulos: </td><td># # #                    </td><td>senior administration official:                                                          </td><td>mr. stephanopoulos: don&#x27;t                                                      </td><td>mr. stephanopoulos: think</td><td>-- ms. myers:              </td><td>------ ------ ------           </td><td>mr. stephanopoulos: well,                                                             </td><td>* * *                        </td><td>q dee dee,                   </td><td>white house office                                                         </td><td>ms. myers: think                                                           </td><td>house office press            </td><td>office press secretary      </td></tr>\n",
       "<tr><td style=\"text-align: right;\">        19</td><td>* * *                    </td><td>. . .                  </td><td>general unified theory   </td><td>day christmas truelove                                                                   </td><td>christmas truelove served                                                      </td><td>truelove served me...    </td><td>(promised messiah, p.      </td><td>physicist dewey b.             </td><td>unified theory physical                                                               </td><td>comprehensive general unified</td><td>[ deleted ]                  </td><td>english lexicon new                                                        </td><td>late physicist dewey                                                       </td><td>vol 1, 11,                    </td><td>-- &quot;on day                  </td></tr>\n",
       "</tbody>\n",
       "</table>"
      ],
      "text/plain": [
       "<IPython.core.display.HTML object>"
      ]
     },
     "metadata": {},
     "output_type": "display_data"
    }
   ],
   "source": [
    "trigrams = ngram_counter(df_pointone, 3)\n",
    "n_gram_by_category(trigrams, 15)"
   ]
  },
  {
   "cell_type": "markdown",
   "metadata": {},
   "source": [
    "Last but not least, to check whether there are still stuffs that contains no word count. We deleted our columns before so we'll just do the calculations again since this is after cleaning, we might have a different word count now. (especially `\\n` are now replaced by spacing, and others as well. )"
   ]
  },
  {
   "cell_type": "code",
   "execution_count": 73,
   "metadata": {},
   "outputs": [
    {
     "data": {
      "text/plain": [
       "0    137\n",
       "1     53\n",
       "2    241\n",
       "3    144\n",
       "4    125\n",
       "Name: word_count, dtype: int64"
      ]
     },
     "execution_count": 73,
     "metadata": {},
     "output_type": "execute_result"
    }
   ],
   "source": [
    "df_pointone[\"word_count\"] = df_pointone.text.apply(lambda x: len(str(x).split()))\n",
    "df_pointone.word_count.head()"
   ]
  },
  {
   "cell_type": "code",
   "execution_count": 74,
   "metadata": {},
   "outputs": [
    {
     "data": {
      "text/plain": [
       "<AxesSubplot:xlabel='word_count', ylabel='Count'>"
      ]
     },
     "execution_count": 74,
     "metadata": {},
     "output_type": "execute_result"
    },
    {
     "data": {
      "image/png": "[encoded data removed]",
      "text/plain": [
       "<Figure size 600x400 with 1 Axes>"
      ]
     },
     "metadata": {
      "needs_background": "light"
     },
     "output_type": "display_data"
    }
   ],
   "source": [
    "sns.histplot(df_pointone.word_count)"
   ]
  },
  {
   "cell_type": "code",
   "execution_count": 75,
   "metadata": {},
   "outputs": [
    {
     "data": {
      "text/plain": [
       "<AxesSubplot:xlabel='word_count', ylabel='Count'>"
      ]
     },
     "execution_count": 75,
     "metadata": {},
     "output_type": "execute_result"
    },
    {
     "data": {
      "image/png": "[encoded data removed]",
      "text/plain": [
       "<Figure size 600x400 with 1 Axes>"
      ]
     },
     "metadata": {
      "needs_background": "light"
     },
     "output_type": "display_data"
    }
   ],
   "source": [
    "sns.histplot(df_pointone[df_pointone.word_count < 600].word_count)"
   ]
  },
  {
   "cell_type": "code",
   "execution_count": 77,
   "metadata": {},
   "outputs": [
    {
     "name": "stdout",
     "output_type": "stream",
     "text": [
      "Data without words:  519\n"
     ]
    }
   ],
   "source": [
    "print(\"Data without words: \", (df_pointone.word_count == 0).sum())"
   ]
  },
  {
   "cell_type": "markdown",
   "metadata": {},
   "source": [
    "As we promise, we'll talk more about stop words and punctuations here. "
   ]
  },
  {
   "cell_type": "code",
   "execution_count": 88,
   "metadata": {},
   "outputs": [],
   "source": [
    "df_pointone[\"stop_word_count\"] = df_pointone.text.apply(lambda x: len([w for w in str(x).lower().split() if w in STOPWORDS]))\n",
    "df_pointone[\"stop_word_ratio\"] = df_pointone.stop_word_count / df_pointone.word_count\n",
    "df.stop_word_ratio.fillna(0, inplace=True)"
   ]
  },
  {
   "cell_type": "code",
   "execution_count": 89,
   "metadata": {},
   "outputs": [
    {
     "name": "stdout",
     "output_type": "stream",
     "text": [
      "Median: 0.48\n",
      "Mean  : 0.4617719731439063\n",
      "Std   : 0.10352860063027619\n"
     ]
    }
   ],
   "source": [
    "print(f\"Median: {df_pointone.stop_word_ratio.median()}\")\n",
    "print(f\"Mean  : {df_pointone.stop_word_ratio.mean()}\")\n",
    "print(f\"Std   : {df_pointone.stop_word_ratio.std()}\")"
   ]
  },
  {
   "cell_type": "code",
   "execution_count": 92,
   "metadata": {},
   "outputs": [
    {
     "data": {
      "text/plain": [
       "<AxesSubplot:xlabel='stop_word_ratio', ylabel='Count'>"
      ]
     },
     "execution_count": 92,
     "metadata": {},
     "output_type": "execute_result"
    },
    {
     "data": {
      "image/png": "[encoded data removed]",
      "text/plain": [
       "<Figure size 600x400 with 1 Axes>"
      ]
     },
     "metadata": {
      "needs_background": "light"
     },
     "output_type": "display_data"
    }
   ],
   "source": [
    "sns.histplot(df_pointone.stop_word_ratio)"
   ]
  },
  {
   "cell_type": "code",
   "execution_count": 95,
   "metadata": {},
   "outputs": [
    {
     "data": {
      "text/plain": [
       "<AxesSubplot:xlabel='punctuation_ratio', ylabel='Count'>"
      ]
     },
     "execution_count": 95,
     "metadata": {},
     "output_type": "execute_result"
    },
    {
     "data": {
      "image/png": "[encoded data removed]",
      "text/plain": [
       "<Figure size 600x400 with 1 Axes>"
      ]
     },
     "metadata": {
      "needs_background": "light"
     },
     "output_type": "display_data"
    }
   ],
   "source": [
    "df_pointone[\"punctuation_count\"] = df_pointone.text.apply(\n",
    "    lambda x: len([c for c in str(x) if c in string.punctuation]))\n",
    "df_pointone[\"punctuation_ratio\"] = df_pointone.punctuation_count / df_pointone.word_count\n",
    "sns.histplot(df_pointone.punctuation_ratio)"
   ]
  },
  {
   "cell_type": "code",
   "execution_count": 96,
   "metadata": {},
   "outputs": [
    {
     "data": {
      "text/plain": [
       "<AxesSubplot:xlabel='punctuation_ratio', ylabel='Count'>"
      ]
     },
     "execution_count": 96,
     "metadata": {},
     "output_type": "execute_result"
    },
    {
     "data": {
      "image/png": "[encoded data removed]",
      "text/plain": [
       "<Figure size 600x400 with 1 Axes>"
      ]
     },
     "metadata": {
      "needs_background": "light"
     },
     "output_type": "display_data"
    }
   ],
   "source": [
    "g = df_pointone.punctuation_ratio\n",
    "sns.histplot(df_pointone[g < 1].punctuation_ratio)"
   ]
  },
  {
   "cell_type": "markdown",
   "metadata": {},
   "source": [
    "It's not the most satisfied, but we shall call it a day. "
   ]
  }
 ],
 "metadata": {
  "interpreter": {
   "hash": "2332e3d2bb5a0777e9aeaf29763188d62a394303965da046a80937952abed10b"
  },
  "kernelspec": {
   "display_name": "Python 3.8.11 64-bit ('dg1': conda)",
   "language": "python",
   "name": "python3"
  },
  "language_info": {
   "codemirror_mode": {
    "name": "ipython",
    "version": 3
   },
   "file_extension": ".py",
   "mimetype": "text/x-python",
   "name": "python",
   "nbconvert_exporter": "python",
   "pygments_lexer": "ipython3",
   "version": "3.8.11"
  },
  "orig_nbformat": 4
 },
 "nbformat": 4,
 "nbformat_minor": 2
}
