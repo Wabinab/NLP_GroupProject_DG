{
 "cells": [
  {
   "cell_type": "code",
   "execution_count": 1,
   "metadata": {},
   "outputs": [],
   "source": [
    "%load_ext autoreload\n",
    "%autoreload 2"
   ]
  },
  {
   "cell_type": "markdown",
   "metadata": {},
   "source": [
    "# EDA\n",
    "We will go through EDA with the help of [this notebook](https://www.kaggle.com/gunesevitan/nlp-with-disaster-tweets-eda-cleaning-and-bert/notebook) from Kaggle, by [Gunes Evitan](https://www.kaggle.com/gunesevitan)"
   ]
  },
  {
   "cell_type": "code",
   "execution_count": 2,
   "metadata": {},
   "outputs": [],
   "source": [
    "from sklearn.datasets import fetch_20newsgroups\n",
    "all_xs, all_y = fetch_20newsgroups(subset=\"all\", remove=('headers', 'footers', 'quotes'),\n",
    "                    shuffle=True, return_X_y=True)"
   ]
  },
  {
   "cell_type": "code",
   "execution_count": 19,
   "metadata": {},
   "outputs": [
    {
     "data": {
      "text/plain": [
       "18846"
      ]
     },
     "execution_count": 19,
     "metadata": {},
     "output_type": "execute_result"
    }
   ],
   "source": [
    "len(all_xs)"
   ]
  },
  {
   "cell_type": "code",
   "execution_count": 3,
   "metadata": {},
   "outputs": [],
   "source": [
    "import matplotlib.pyplot as plt\n",
    "import numpy as np\n",
    "import os\n",
    "import pandas as pd\n",
    "import seaborn as sns\n",
    "from pathlib import Path\n",
    "from fastai.text.all import *\n",
    "\n",
    "plt.rcParams[\"figure.dpi\"] = 100"
   ]
  },
  {
   "cell_type": "code",
   "execution_count": 4,
   "metadata": {},
   "outputs": [],
   "source": [
    "import sys\n",
    "# NOTE: you NEED to change PATH yourself manually, for now. \n",
    "path = Path(\"/home/fastai2/notebooks/DataGlacier\")  \n",
    "sys.path.append(str(path/\"NLP_GroupProject_DG/python_files\"))"
   ]
  },
  {
   "cell_type": "code",
   "execution_count": 5,
   "metadata": {},
   "outputs": [],
   "source": [
    "from nlputils import split_data, clean_data, stoi"
   ]
  },
  {
   "cell_type": "code",
   "execution_count": 6,
   "metadata": {},
   "outputs": [
    {
     "data": {
      "text/html": [
       "<div>\n",
       "<style scoped>\n",
       "    .dataframe tbody tr th:only-of-type {\n",
       "        vertical-align: middle;\n",
       "    }\n",
       "\n",
       "    .dataframe tbody tr th {\n",
       "        vertical-align: top;\n",
       "    }\n",
       "\n",
       "    .dataframe thead th {\n",
       "        text-align: right;\n",
       "    }\n",
       "</style>\n",
       "<table border=\"1\" class=\"dataframe\">\n",
       "  <thead>\n",
       "    <tr style=\"text-align: right;\">\n",
       "      <th></th>\n",
       "      <th>text</th>\n",
       "      <th>category</th>\n",
       "    </tr>\n",
       "  </thead>\n",
       "  <tbody>\n",
       "    <tr>\n",
       "      <th>0</th>\n",
       "      <td>I am sure some bashers of Pens fans are pretty confused about the lack of any kind of posts about the recent Pens massacre of the Devils. Actually, I am  bit puzzled too and a bit relieved. However, I am going to put an end to nonPIttsburghers' relief with a bit of praise for the Pens. Man, they are killing those Devils worse than I thought. Jagr just showed you why he is much better than his regular season stats. He is also a lot fo fun to watch in the playoffs. Bowman should let JAgr have a lot of fun in the next couple of games since the Pens are going to beat the pulp out of Jersey a...</td>\n",
       "      <td>10</td>\n",
       "    </tr>\n",
       "    <tr>\n",
       "      <th>1</th>\n",
       "      <td>My brother is in the market for a highperformance video card that supports VESA local bus with 12MB RAM.  Does anyone have suggestions/ideas on:     Diamond Stealth Pro Local Bus     Orchid Farenheit 1280     ATI Graphics Ultra Pro     Any other highperformance VLB card   Please post or email.  Thank you!     Matt</td>\n",
       "      <td>3</td>\n",
       "    </tr>\n",
       "  </tbody>\n",
       "</table>\n",
       "</div>"
      ],
      "text/plain": [
       "                                                                                                                                                                                                                                                                                                                                                                                                                                                                                                                                                                                                                      text  \\\n",
       "0    I am sure some bashers of Pens fans are pretty confused about the lack of any kind of posts about the recent Pens massacre of the Devils. Actually, I am  bit puzzled too and a bit relieved. However, I am going to put an end to nonPIttsburghers' relief with a bit of praise for the Pens. Man, they are killing those Devils worse than I thought. Jagr just showed you why he is much better than his regular season stats. He is also a lot fo fun to watch in the playoffs. Bowman should let JAgr have a lot of fun in the next couple of games since the Pens are going to beat the pulp out of Jersey a...   \n",
       "1                                                                                                                                                                                                                                                                                             My brother is in the market for a highperformance video card that supports VESA local bus with 12MB RAM.  Does anyone have suggestions/ideas on:     Diamond Stealth Pro Local Bus     Orchid Farenheit 1280     ATI Graphics Ultra Pro     Any other highperformance VLB card   Please post or email.  Thank you!     Matt    \n",
       "\n",
       "  category  \n",
       "0       10  \n",
       "1        3  "
      ]
     },
     "execution_count": 6,
     "metadata": {},
     "output_type": "execute_result"
    }
   ],
   "source": [
    "all_xs = [clean_data(text) for text in all_xs]  # basic cleaning. \n",
    "# further cleaning on removing those unneeded data can be done here\n",
    "# such as those with german, those illegible, etc. \n",
    "df = pd.DataFrame([all_xs, all_y]).T\n",
    "df.columns = [\"text\", \"category\"]\n",
    "df.head(2)"
   ]
  },
  {
   "cell_type": "markdown",
   "metadata": {},
   "source": [
    "## Cleaning out for non-useful data\n",
    "These are the ones that are one-off. E.g. they contains pure coordinates, pure programming code, pure german language, etc. Previously we did this and saved the data, but only if we choose those data with sentence higher than threshold then we can use that here. Since we're using the full data here, we shall do the cleaning again. We shall build the `DataLoaders` from original code, to imitate the originals as close as possible. "
   ]
  },
  {
   "cell_type": "code",
   "execution_count": 13,
   "metadata": {},
   "outputs": [],
   "source": [
    "sl = 72  # seq_len\n",
    "\n",
    "try: tok = load_pickle(\"tok.pkl\")\n",
    "except Exception:\n",
    "    dls = DataBlock(\n",
    "        blocks=(TextBlock.from_df(\"text\", seq_len=sl, tok=SpacyTokenizer(\"en\")),\n",
    "                CategoryBlock),\n",
    "        get_x=ColReader(\"text\"), get_y=ColReader(\"category\"),\n",
    "        splitter=RandomSplitter(0.1)\n",
    "    ).dataloaders(df, bs=32, num_workers=os.cpu_count(), seq_len=sl)\n",
    "\n",
    "    save_pickle(\"tok.pkl\", dls.tok)\n",
    "    tok = dls.tok"
   ]
  },
  {
   "cell_type": "code",
   "execution_count": 14,
   "metadata": {},
   "outputs": [
    {
     "data": {
      "text/html": [],
      "text/plain": [
       "<IPython.core.display.HTML object>"
      ]
     },
     "metadata": {},
     "output_type": "display_data"
    },
    {
     "name": "stderr",
     "output_type": "stream",
     "text": [
      "/anaconda/envs/fastai/lib/python3.8/site-packages/numpy/core/_asarray.py:102: VisibleDeprecationWarning: Creating an ndarray from ragged nested sequences (which is a list-or-tuple of lists-or-tuples-or ndarrays with different lengths or shapes) is deprecated. If you meant to do this, you must specify 'dtype=object' when creating the ndarray.\n",
      "  return array(a, dtype, copy=False, order=order)\n"
     ]
    },
    {
     "data": {
      "text/html": [
       "<div>\n",
       "<style scoped>\n",
       "    .dataframe tbody tr th:only-of-type {\n",
       "        vertical-align: middle;\n",
       "    }\n",
       "\n",
       "    .dataframe tbody tr th {\n",
       "        vertical-align: top;\n",
       "    }\n",
       "\n",
       "    .dataframe thead th {\n",
       "        text-align: right;\n",
       "    }\n",
       "</style>\n",
       "<table border=\"1\" class=\"dataframe\">\n",
       "  <thead>\n",
       "    <tr style=\"text-align: right;\">\n",
       "      <th></th>\n",
       "      <th>category</th>\n",
       "      <th>text</th>\n",
       "      <th>text_length</th>\n",
       "    </tr>\n",
       "  </thead>\n",
       "  <tbody>\n",
       "    <tr>\n",
       "      <th>0</th>\n",
       "      <td>10</td>\n",
       "      <td>[xxbos, i, am, sure, some, bashers, of, xxmaj, pens, fans, are, pretty, confused, about, the, lack, of, any, kind, of, posts, about, the, recent, xxmaj, pens, massacre, of, the, xxmaj, devils, ., xxmaj, actually, ,, i, am, bit, puzzled, too, and, a, bit, relieved, ., xxmaj, however, ,, i, am, going, to, put, an, end, to, nonpittsburghers, ', relief, with, a, bit, of, praise, for, the, xxmaj, pens, ., xxmaj, man, ,, they, are, killing, those, xxmaj, devils, worse, than, i, thought, ., xxmaj, jagr, just, showed, you, why, he, is, much, better, than, his, regular, season, stats, ., xxmaj, ...]</td>\n",
       "      <td>169</td>\n",
       "    </tr>\n",
       "    <tr>\n",
       "      <th>1</th>\n",
       "      <td>3</td>\n",
       "      <td>[xxbos, xxmaj, my, brother, is, in, the, market, for, a, highperformance, video, card, that, supports, xxup, vesa, local, bus, with, 12, mb, xxup, ram, ., xxmaj, does, anyone, have, suggestions, /, ideas, on, :, xxmaj, diamond, xxmaj, stealth, xxmaj, pro, xxmaj, local, xxmaj, bus, xxmaj, orchid, xxmaj, farenheit, 1280, xxup, ati, xxmaj, graphics, xxmaj, ultra, xxmaj, pro, xxmaj, any, other, highperformance, xxup, vlb, card, xxmaj, please, post, or, email, ., xxmaj, thank, you, !, xxmaj, matt]</td>\n",
       "      <td>76</td>\n",
       "    </tr>\n",
       "  </tbody>\n",
       "</table>\n",
       "</div>"
      ],
      "text/plain": [
       "  category  \\\n",
       "0       10   \n",
       "1        3   \n",
       "\n",
       "                                                                                                                                                                                                                                                                                                                                                                                                                                                                                                                                                                                                                    text  \\\n",
       "0  [xxbos, i, am, sure, some, bashers, of, xxmaj, pens, fans, are, pretty, confused, about, the, lack, of, any, kind, of, posts, about, the, recent, xxmaj, pens, massacre, of, the, xxmaj, devils, ., xxmaj, actually, ,, i, am, bit, puzzled, too, and, a, bit, relieved, ., xxmaj, however, ,, i, am, going, to, put, an, end, to, nonpittsburghers, ', relief, with, a, bit, of, praise, for, the, xxmaj, pens, ., xxmaj, man, ,, they, are, killing, those, xxmaj, devils, worse, than, i, thought, ., xxmaj, jagr, just, showed, you, why, he, is, much, better, than, his, regular, season, stats, ., xxmaj, ...]   \n",
       "1                                                                                                      [xxbos, xxmaj, my, brother, is, in, the, market, for, a, highperformance, video, card, that, supports, xxup, vesa, local, bus, with, 12, mb, xxup, ram, ., xxmaj, does, anyone, have, suggestions, /, ideas, on, :, xxmaj, diamond, xxmaj, stealth, xxmaj, pro, xxmaj, local, xxmaj, bus, xxmaj, orchid, xxmaj, farenheit, 1280, xxup, ati, xxmaj, graphics, xxmaj, ultra, xxmaj, pro, xxmaj, any, other, highperformance, xxup, vlb, card, xxmaj, please, post, or, email, ., xxmaj, thank, you, !, xxmaj, matt]   \n",
       "\n",
       "   text_length  \n",
       "0          169  \n",
       "1           76  "
      ]
     },
     "execution_count": 14,
     "metadata": {},
     "output_type": "execute_result"
    }
   ],
   "source": [
    "df_tok, unique_words = tokenize_df(df, \"text\", tok=tok)\n",
    "df_tok[[\"category\", \"text\", \"text_length\"]].head(2)"
   ]
  },
  {
   "cell_type": "code",
   "execution_count": 15,
   "metadata": {},
   "outputs": [],
   "source": [
    "try: choice = np.load(\"choice.npy\")\n",
    "except Exception:\n",
    "    choice = np.zeros((len(df_tok), )).astype(np.float32)\n",
    "    loop_over = df_tok[\"text\"].to_numpy()\n",
    "\n",
    "    vocab = dls.vocab[0]\n",
    "    for k, data in enumerate(tqdm(loop_over)):\n",
    "        x = stoi(vocab, data)\n",
    "\n",
    "        # Total number of xxunk / total number of words. \n",
    "        choice[k] = (x == 0).sum() / len(x)\n",
    "\n",
    "    del loop_over, vocab, x, data\n",
    "    gc.collect()\n",
    "    np.save(\"choice\", choice)"
   ]
  },
  {
   "cell_type": "code",
   "execution_count": 28,
   "metadata": {},
   "outputs": [],
   "source": [
    "del_thres = choice < 0.25\n",
    "df = df[del_thres].reset_index(level=0, drop=True)\n",
    "df_tok = df_tok[del_thres].reset_index(level=0, drop=True)"
   ]
  },
  {
   "cell_type": "code",
   "execution_count": 29,
   "metadata": {},
   "outputs": [
    {
     "data": {
      "text/plain": [
       "18794"
      ]
     },
     "execution_count": 29,
     "metadata": {},
     "output_type": "execute_result"
    }
   ],
   "source": [
    "len(df)"
   ]
  },
  {
   "cell_type": "markdown",
   "metadata": {},
   "source": [
    "Parallel compute using joblib threads takes: 3 min 07 sec.  \n",
    "Singular compute using for-loop takes: 2 min 38.8 sec. \n",
    "\n",
    "### Let's continue with data analysis"
   ]
  },
  {
   "cell_type": "code",
   "execution_count": 45,
   "metadata": {},
   "outputs": [
    {
     "data": {
      "text/html": [
       "<div>\n",
       "<style scoped>\n",
       "    .dataframe tbody tr th:only-of-type {\n",
       "        vertical-align: middle;\n",
       "    }\n",
       "\n",
       "    .dataframe tbody tr th {\n",
       "        vertical-align: top;\n",
       "    }\n",
       "\n",
       "    .dataframe thead th {\n",
       "        text-align: right;\n",
       "    }\n",
       "</style>\n",
       "<table border=\"1\" class=\"dataframe\">\n",
       "  <thead>\n",
       "    <tr style=\"text-align: right;\">\n",
       "      <th></th>\n",
       "      <th>text</th>\n",
       "      <th>category</th>\n",
       "    </tr>\n",
       "  </thead>\n",
       "  <tbody>\n",
       "    <tr>\n",
       "      <th>0</th>\n",
       "      <td>I am sure some bashers of Pens fans are pretty confused about the lack of any kind of posts about the recent Pens massacre of the Devils. Actually, I am  bit puzzled too and a bit relieved. However, I am going to put an end to nonPIttsburghers' relief with a bit of praise for the Pens. Man, they are killing those Devils worse than I thought. Jagr just showed you why he is much better than his regular season stats. He is also a lot fo fun to watch in the playoffs. Bowman should let JAgr have a lot of fun in the next couple of games since the Pens are going to beat the pulp out of Jersey a...</td>\n",
       "      <td>10</td>\n",
       "    </tr>\n",
       "    <tr>\n",
       "      <th>7</th>\n",
       "      <td>[stuff deleted]  Ok, here's the solution to your problem.  Move to Canada.  Yesterday I was able to watch FOUR games...the NJPITT at 1:00 on ABC, LACAL at 3:00 (CBC),  BUFFBOS at 7:00 (TSN and FOX), and MONQUE at 7:30 (CBC).  I think that if each series goes its max I could be watching hockey playoffs for 40some odd consecutive nights (I haven't counted so that's a pure guess).  I have two tv's in my house, and I set them up sidebyside to watch MONQUE and keep an eye on BOSBUFF at the same time.  I did the same for the two afternoon games.  Btw, those ABC commentaters were great!  I was q...</td>\n",
       "      <td>10</td>\n",
       "    </tr>\n",
       "  </tbody>\n",
       "</table>\n",
       "</div>"
      ],
      "text/plain": [
       "                                                                                                                                                                                                                                                                                                                                                                                                                                                                                                                                                                                                                      text  \\\n",
       "0    I am sure some bashers of Pens fans are pretty confused about the lack of any kind of posts about the recent Pens massacre of the Devils. Actually, I am  bit puzzled too and a bit relieved. However, I am going to put an end to nonPIttsburghers' relief with a bit of praise for the Pens. Man, they are killing those Devils worse than I thought. Jagr just showed you why he is much better than his regular season stats. He is also a lot fo fun to watch in the playoffs. Bowman should let JAgr have a lot of fun in the next couple of games since the Pens are going to beat the pulp out of Jersey a...   \n",
       "7   [stuff deleted]  Ok, here's the solution to your problem.  Move to Canada.  Yesterday I was able to watch FOUR games...the NJPITT at 1:00 on ABC, LACAL at 3:00 (CBC),  BUFFBOS at 7:00 (TSN and FOX), and MONQUE at 7:30 (CBC).  I think that if each series goes its max I could be watching hockey playoffs for 40some odd consecutive nights (I haven't counted so that's a pure guess).  I have two tv's in my house, and I set them up sidebyside to watch MONQUE and keep an eye on BOSBUFF at the same time.  I did the same for the two afternoon games.  Btw, those ABC commentaters were great!  I was q...   \n",
       "\n",
       "  category  \n",
       "0       10  \n",
       "7       10  "
      ]
     },
     "execution_count": 45,
     "metadata": {},
     "output_type": "execute_result"
    }
   ],
   "source": [
    "df[df.category == 10].head(2)"
   ]
  },
  {
   "cell_type": "markdown",
   "metadata": {},
   "source": [
    "Line numbers count and \"potentially\" word count."
   ]
  },
  {
   "cell_type": "code",
   "execution_count": 46,
   "metadata": {},
   "outputs": [
    {
     "name": "stdout",
     "output_type": "stream",
     "text": [
      "CPU times: user 346 ms, sys: 0 ns, total: 346 ms\n",
      "Wall time: 345 ms\n"
     ]
    }
   ],
   "source": [
    "%%time\n",
    "df[\"word_count\"] = df[\"text\"].apply(lambda x: len(str(x).split()))\n",
    "df[\"line_count\"] = df[\"text\"].apply(lambda x: len(split_data(str(x))))"
   ]
  },
  {
   "cell_type": "code",
   "execution_count": 47,
   "metadata": {},
   "outputs": [
    {
     "data": {
      "text/html": [
       "<div>\n",
       "<style scoped>\n",
       "    .dataframe tbody tr th:only-of-type {\n",
       "        vertical-align: middle;\n",
       "    }\n",
       "\n",
       "    .dataframe tbody tr th {\n",
       "        vertical-align: top;\n",
       "    }\n",
       "\n",
       "    .dataframe thead th {\n",
       "        text-align: right;\n",
       "    }\n",
       "</style>\n",
       "<table border=\"1\" class=\"dataframe\">\n",
       "  <thead>\n",
       "    <tr style=\"text-align: right;\">\n",
       "      <th></th>\n",
       "      <th>text</th>\n",
       "      <th>category</th>\n",
       "      <th>word_count</th>\n",
       "      <th>line_count</th>\n",
       "    </tr>\n",
       "  </thead>\n",
       "  <tbody>\n",
       "    <tr>\n",
       "      <th>0</th>\n",
       "      <td>I am sure some bashers of Pens fans are pretty confused about the lack of any kind of posts about the recent Pens massacre of the Devils. Actually, I am  bit puzzled too and a bit relieved. However, I am going to put an end to nonPIttsburghers' relief with a bit of praise for the Pens. Man, they are killing those Devils worse than I thought. Jagr just showed you why he is much better than his regular season stats. He is also a lot fo fun to watch in the playoffs. Bowman should let JAgr have a lot of fun in the next couple of games since the Pens are going to beat the pulp out of Jersey a...</td>\n",
       "      <td>10</td>\n",
       "      <td>137</td>\n",
       "      <td>1</td>\n",
       "    </tr>\n",
       "    <tr>\n",
       "      <th>1</th>\n",
       "      <td>My brother is in the market for a highperformance video card that supports VESA local bus with 12MB RAM.  Does anyone have suggestions/ideas on:     Diamond Stealth Pro Local Bus     Orchid Farenheit 1280     ATI Graphics Ultra Pro     Any other highperformance VLB card   Please post or email.  Thank you!     Matt</td>\n",
       "      <td>3</td>\n",
       "      <td>48</td>\n",
       "      <td>1</td>\n",
       "    </tr>\n",
       "    <tr>\n",
       "      <th>2</th>\n",
       "      <td>Finally you said what you dream about. Mediterranean???? That was new.... The area will be \"greater\" after some years, like your \"holocaust\" numbers......      Is't July in USA now????? Here in Sweden it's April and still cold. Or have you changed your calendar???                    NOTHING OF THE MENTIONED IS TRUE, BUT LET SAY IT's TRUE.  SHALL THE AZERI WOMEN AND CHILDREN GOING TO PAY THE PRICE WITH      BEING RAPED, KILLED AND TORTURED BY THE ARMENIANS??????????  HAVE YOU HEARDED SOMETHING CALLED: \"GENEVA CONVENTION\"??????? YOU FACIST!!!!!    Ohhh i forgot, this is how Armenians fig...</td>\n",
       "      <td>17</td>\n",
       "      <td>234</td>\n",
       "      <td>1</td>\n",
       "    </tr>\n",
       "    <tr>\n",
       "      <th>3</th>\n",
       "      <td>Think!  It's the SCSI card doing the DMA transfers NOT the disks...  The SCSI card can do DMA transfers containing data from any of the SCSI devices it is attached when it wants to.  An important feature of SCSI is the ability to detach a device. This frees the SCSI bus for other devices. This is typically used in a multitasking OS to start transfers on several devices. While each device is seeking the data the bus is free for other commands and data transfers. When the devices are ready to transfer the data they can aquire the bus and send the data.  On an IDE bus when you start a transf...</td>\n",
       "      <td>3</td>\n",
       "      <td>144</td>\n",
       "      <td>1</td>\n",
       "    </tr>\n",
       "    <tr>\n",
       "      <th>4</th>\n",
       "      <td>1)    I have an old Jasmine drive which I cannot use with my new system.  My understanding is that I have to upsate the driver with a more modern one in order to gain compatability with system 7.0.1.  does anyone know of an inexpensive program to do this?  ( I have seen formatters for $20 buit have no idea if they will work)   2)     I have another ancient device, this one a tape drive for which the back utility freezes the system if I try to use it.  THe drive is a jasmine direct tape (bought used for $150 w/ 6 tapes, techmar mechanism).  Essentially I have the same question as above, any...</td>\n",
       "      <td>4</td>\n",
       "      <td>125</td>\n",
       "      <td>1</td>\n",
       "    </tr>\n",
       "  </tbody>\n",
       "</table>\n",
       "</div>"
      ],
      "text/plain": [
       "                                                                                                                                                                                                                                                                                                                                                                                                                                                                                                                                                                                                                      text  \\\n",
       "0    I am sure some bashers of Pens fans are pretty confused about the lack of any kind of posts about the recent Pens massacre of the Devils. Actually, I am  bit puzzled too and a bit relieved. However, I am going to put an end to nonPIttsburghers' relief with a bit of praise for the Pens. Man, they are killing those Devils worse than I thought. Jagr just showed you why he is much better than his regular season stats. He is also a lot fo fun to watch in the playoffs. Bowman should let JAgr have a lot of fun in the next couple of games since the Pens are going to beat the pulp out of Jersey a...   \n",
       "1                                                                                                                                                                                                                                                                                             My brother is in the market for a highperformance video card that supports VESA local bus with 12MB RAM.  Does anyone have suggestions/ideas on:     Diamond Stealth Pro Local Bus     Orchid Farenheit 1280     ATI Graphics Ultra Pro     Any other highperformance VLB card   Please post or email.  Thank you!     Matt    \n",
       "2      Finally you said what you dream about. Mediterranean???? That was new.... The area will be \"greater\" after some years, like your \"holocaust\" numbers......      Is't July in USA now????? Here in Sweden it's April and still cold. Or have you changed your calendar???                    NOTHING OF THE MENTIONED IS TRUE, BUT LET SAY IT's TRUE.  SHALL THE AZERI WOMEN AND CHILDREN GOING TO PAY THE PRICE WITH      BEING RAPED, KILLED AND TORTURED BY THE ARMENIANS??????????  HAVE YOU HEARDED SOMETHING CALLED: \"GENEVA CONVENTION\"??????? YOU FACIST!!!!!    Ohhh i forgot, this is how Armenians fig...   \n",
       "3   Think!  It's the SCSI card doing the DMA transfers NOT the disks...  The SCSI card can do DMA transfers containing data from any of the SCSI devices it is attached when it wants to.  An important feature of SCSI is the ability to detach a device. This frees the SCSI bus for other devices. This is typically used in a multitasking OS to start transfers on several devices. While each device is seeking the data the bus is free for other commands and data transfers. When the devices are ready to transfer the data they can aquire the bus and send the data.  On an IDE bus when you start a transf...   \n",
       "4  1)    I have an old Jasmine drive which I cannot use with my new system.  My understanding is that I have to upsate the driver with a more modern one in order to gain compatability with system 7.0.1.  does anyone know of an inexpensive program to do this?  ( I have seen formatters for $20 buit have no idea if they will work)   2)     I have another ancient device, this one a tape drive for which the back utility freezes the system if I try to use it.  THe drive is a jasmine direct tape (bought used for $150 w/ 6 tapes, techmar mechanism).  Essentially I have the same question as above, any...   \n",
       "\n",
       "  category  word_count  line_count  \n",
       "0       10         137           1  \n",
       "1        3          48           1  \n",
       "2       17         234           1  \n",
       "3        3         144           1  \n",
       "4        4         125           1  "
      ]
     },
     "execution_count": 47,
     "metadata": {},
     "output_type": "execute_result"
    }
   ],
   "source": [
    "df.head()"
   ]
  },
  {
   "cell_type": "code",
   "execution_count": 48,
   "metadata": {},
   "outputs": [
    {
     "data": {
      "text/plain": [
       "<AxesSubplot:xlabel='word_count', ylabel='Count'>"
      ]
     },
     "execution_count": 48,
     "metadata": {},
     "output_type": "execute_result"
    },
    {
     "data": {
      "image/png": "[encoded data removed]",
      "text/plain": [
       "<Figure size 600x400 with 1 Axes>"
      ]
     },
     "metadata": {
      "needs_background": "light"
     },
     "output_type": "display_data"
    }
   ],
   "source": [
    "sns.histplot(df[\"word_count\"])"
   ]
  },
  {
   "cell_type": "markdown",
   "metadata": {},
   "source": [
    "Looks like word count we have a very long tail (and very means very very very...). Most of the data are short, and perhaps they're more representative? \n",
    "\n",
    "For example, previously we take a threshold which says: *for data less than this number of lines, we discard it*. Perhaps we should have been doing the other way round: *for data more than certain number of lines, we discard it* is the better way! \n",
    "\n",
    "We have updated `threshold_subset` to include an arg called `geq` to do this. "
   ]
  },
  {
   "cell_type": "code",
   "execution_count": 49,
   "metadata": {},
   "outputs": [
    {
     "data": {
      "text/plain": [
       "<AxesSubplot:xlabel='word_count', ylabel='Count'>"
      ]
     },
     "execution_count": 49,
     "metadata": {},
     "output_type": "execute_result"
    },
    {
     "data": {
      "image/png": "[encoded data removed]",
      "text/plain": [
       "<Figure size 600x400 with 1 Axes>"
      ]
     },
     "metadata": {
      "needs_background": "light"
     },
     "output_type": "display_data"
    }
   ],
   "source": [
    "sns.histplot(df[df[\"word_count\"] < 300][\"word_count\"], bins=30)"
   ]
  },
  {
   "cell_type": "code",
   "execution_count": 50,
   "metadata": {},
   "outputs": [
    {
     "data": {
      "text/plain": [
       "<AxesSubplot:xlabel='line_count', ylabel='Count'>"
      ]
     },
     "execution_count": 50,
     "metadata": {},
     "output_type": "execute_result"
    },
    {
     "data": {
      "image/png": "[encoded data removed]",
      "text/plain": [
       "<Figure size 600x400 with 1 Axes>"
      ]
     },
     "metadata": {
      "needs_background": "light"
     },
     "output_type": "display_data"
    }
   ],
   "source": [
    "sns.histplot(df[\"line_count\"])"
   ]
  },
  {
   "cell_type": "code",
   "execution_count": 51,
   "metadata": {},
   "outputs": [
    {
     "data": {
      "text/plain": [
       "<AxesSubplot:xlabel='line_count', ylabel='Count'>"
      ]
     },
     "execution_count": 51,
     "metadata": {},
     "output_type": "execute_result"
    },
    {
     "data": {
      "image/png": "[encoded data removed]",
      "text/plain": [
       "<Figure size 600x400 with 1 Axes>"
      ]
     },
     "metadata": {
      "needs_background": "light"
     },
     "output_type": "display_data"
    }
   ],
   "source": [
    "sns.histplot(df[df.line_count < 30].line_count)"
   ]
  },
  {
   "cell_type": "markdown",
   "metadata": {},
   "source": [
    "### Food for thoughts:\n",
    "- This is NLP, not Tabular data. Do you think it's better to remove data that are outliers? \n",
    "- Do you think really most of the information are aggregated in the long articles? Or most in short articles? What are their differences? \n",
    "\n",
    "These are not something that you can visualize using graphs. Honestly to deal with them, EDA isn't the best way. There are 2 ways to do: \n",
    "- EDA: **manually** read the paragraphs yourself and determine whether they're useful or not, either by yourself, with a group, via debate, or any other means to make decisions. \n",
    "- ML: Train a model with and without certain group, and see how does the loss do. And make decisions based on loss, accuracy, or any other metrics we define to meet our needs. (Black box decision making).\n",
    "\n",
    "The latter being a faster decision maker, and more useful if you would like to optimize for better ML results making rather than understanding. "
   ]
  },
  {
   "cell_type": "markdown",
   "metadata": {},
   "source": [
    "Let us continue next and look at stop word count, and we also do unique word count. "
   ]
  },
  {
   "cell_type": "code",
   "execution_count": 52,
   "metadata": {},
   "outputs": [],
   "source": [
    "from sklearn.feature_extraction import _stop_words\n",
    "STOPWORDS = _stop_words.ENGLISH_STOP_WORDS"
   ]
  },
  {
   "cell_type": "code",
   "execution_count": 53,
   "metadata": {},
   "outputs": [],
   "source": [
    "df[\"stop_word_count\"] = df[\"text\"].apply(lambda x: len([w for w in str(x).lower().split() if w in STOPWORDS]))"
   ]
  },
  {
   "cell_type": "code",
   "execution_count": 54,
   "metadata": {},
   "outputs": [
    {
     "data": {
      "text/html": [
       "<div>\n",
       "<style scoped>\n",
       "    .dataframe tbody tr th:only-of-type {\n",
       "        vertical-align: middle;\n",
       "    }\n",
       "\n",
       "    .dataframe tbody tr th {\n",
       "        vertical-align: top;\n",
       "    }\n",
       "\n",
       "    .dataframe thead th {\n",
       "        text-align: right;\n",
       "    }\n",
       "</style>\n",
       "<table border=\"1\" class=\"dataframe\">\n",
       "  <thead>\n",
       "    <tr style=\"text-align: right;\">\n",
       "      <th></th>\n",
       "      <th>text</th>\n",
       "      <th>category</th>\n",
       "      <th>word_count</th>\n",
       "      <th>line_count</th>\n",
       "      <th>stop_word_count</th>\n",
       "    </tr>\n",
       "  </thead>\n",
       "  <tbody>\n",
       "    <tr>\n",
       "      <th>0</th>\n",
       "      <td>I am sure some bashers of Pens fans are pretty confused about the lack of any kind of posts about the recent Pens massacre of the Devils. Actually, I am  bit puzzled too and a bit relieved. However, I am going to put an end to nonPIttsburghers' relief with a bit of praise for the Pens. Man, they are killing those Devils worse than I thought. Jagr just showed you why he is much better than his regular season stats. He is also a lot fo fun to watch in the playoffs. Bowman should let JAgr have a lot of fun in the next couple of games since the Pens are going to beat the pulp out of Jersey a...</td>\n",
       "      <td>10</td>\n",
       "      <td>137</td>\n",
       "      <td>1</td>\n",
       "      <td>72</td>\n",
       "    </tr>\n",
       "    <tr>\n",
       "      <th>1</th>\n",
       "      <td>My brother is in the market for a highperformance video card that supports VESA local bus with 12MB RAM.  Does anyone have suggestions/ideas on:     Diamond Stealth Pro Local Bus     Orchid Farenheit 1280     ATI Graphics Ultra Pro     Any other highperformance VLB card   Please post or email.  Thank you!     Matt</td>\n",
       "      <td>3</td>\n",
       "      <td>48</td>\n",
       "      <td>1</td>\n",
       "      <td>14</td>\n",
       "    </tr>\n",
       "  </tbody>\n",
       "</table>\n",
       "</div>"
      ],
      "text/plain": [
       "                                                                                                                                                                                                                                                                                                                                                                                                                                                                                                                                                                                                                      text  \\\n",
       "0    I am sure some bashers of Pens fans are pretty confused about the lack of any kind of posts about the recent Pens massacre of the Devils. Actually, I am  bit puzzled too and a bit relieved. However, I am going to put an end to nonPIttsburghers' relief with a bit of praise for the Pens. Man, they are killing those Devils worse than I thought. Jagr just showed you why he is much better than his regular season stats. He is also a lot fo fun to watch in the playoffs. Bowman should let JAgr have a lot of fun in the next couple of games since the Pens are going to beat the pulp out of Jersey a...   \n",
       "1                                                                                                                                                                                                                                                                                             My brother is in the market for a highperformance video card that supports VESA local bus with 12MB RAM.  Does anyone have suggestions/ideas on:     Diamond Stealth Pro Local Bus     Orchid Farenheit 1280     ATI Graphics Ultra Pro     Any other highperformance VLB card   Please post or email.  Thank you!     Matt    \n",
       "\n",
       "  category  word_count  line_count  stop_word_count  \n",
       "0       10         137           1               72  \n",
       "1        3          48           1               14  "
      ]
     },
     "execution_count": 54,
     "metadata": {},
     "output_type": "execute_result"
    }
   ],
   "source": [
    "df.head(2)"
   ]
  },
  {
   "cell_type": "code",
   "execution_count": 55,
   "metadata": {},
   "outputs": [
    {
     "data": {
      "text/plain": [
       "<AxesSubplot:xlabel='stop_word_count', ylabel='Count'>"
      ]
     },
     "execution_count": 55,
     "metadata": {},
     "output_type": "execute_result"
    },
    {
     "data": {
      "image/png": "[encoded data removed]",
      "text/plain": [
       "<Figure size 600x400 with 1 Axes>"
      ]
     },
     "metadata": {
      "needs_background": "light"
     },
     "output_type": "display_data"
    }
   ],
   "source": [
    "sns.histplot(df[\"stop_word_count\"])"
   ]
  },
  {
   "cell_type": "code",
   "execution_count": 56,
   "metadata": {},
   "outputs": [
    {
     "data": {
      "text/plain": [
       "<AxesSubplot:xlabel='stop_word_count', ylabel='Count'>"
      ]
     },
     "execution_count": 56,
     "metadata": {},
     "output_type": "execute_result"
    },
    {
     "data": {
      "image/png": "[encoded data removed]",
      "text/plain": [
       "<Figure size 600x400 with 1 Axes>"
      ]
     },
     "metadata": {
      "needs_background": "light"
     },
     "output_type": "display_data"
    }
   ],
   "source": [
    "sns.histplot(df[df.stop_word_count < 300].stop_word_count)"
   ]
  },
  {
   "cell_type": "markdown",
   "metadata": {},
   "source": [
    "### Let's look at the unique words a bit."
   ]
  },
  {
   "cell_type": "code",
   "execution_count": 57,
   "metadata": {},
   "outputs": [
    {
     "data": {
      "text/plain": [
       "[('xxmaj', 397733),\n",
       " (',', 174208),\n",
       " ('the', 173279),\n",
       " ('.', 171283),\n",
       " ('xxup', 132260),\n",
       " ('to', 86524),\n",
       " ('of', 76997),\n",
       " ('a', 70479),\n",
       " ('and', 69810),\n",
       " ('i', 56691),\n",
       " ('in', 50450),\n",
       " ('is', 49919),\n",
       " ('that', 45958),\n",
       " (')', 44595),\n",
       " ('\"', 42964),\n",
       " ('(', 40475),\n",
       " ('it', 38466),\n",
       " ('/', 37311),\n",
       " (':', 34670),\n",
       " ('for', 32227),\n",
       " ('you', 30444),\n",
       " ('?', 23926),\n",
       " ('this', 23479),\n",
       " ('on', 23317),\n",
       " ('be', 21961),\n",
       " ('have', 21891),\n",
       " ('not', 21417),\n",
       " ('are', 21349),\n",
       " ('with', 20868),\n",
       " (\"'s\", 19371),\n",
       " ('#', 18934),\n",
       " ('xxbos', 18846),\n",
       " ('as', 18674),\n",
       " ('or', 17262),\n",
       " (\"n't\", 17083),\n",
       " (\"'\", 17036),\n",
       " ('\\\\', 16463),\n",
       " ('was', 16368),\n",
       " ('do', 15831),\n",
       " ('if', 15692),\n",
       " ('but', 15499),\n",
       " ('they', 15255),\n",
       " ('from', 13533),\n",
       " ('by', 13232),\n",
       " ('=', 13017),\n",
       " ('at', 12601),\n",
       " ('can', 12197),\n",
       " ('an', 11689),\n",
       " ('3', 11213),\n",
       " ('there', 11089)]"
      ]
     },
     "execution_count": 57,
     "metadata": {},
     "output_type": "execute_result"
    }
   ],
   "source": [
    "unique_words.most_common(50)"
   ]
  },
  {
   "cell_type": "markdown",
   "metadata": {},
   "source": [
    "This isn't too explaining actually. But we can see some words appears quite often, but they didn't really distinguish between different categories, seriously speaking. Capital letters `xxmaj` seems to flood the articles, even more than punctuations like full stop. \n",
    "\n",
    "Also note that this counter is expired. We count it when we still have the dirty data, but now we have one pass through to clean those with lots of xxunk (threshold value 0.25). \n",
    "\n",
    "However, we may get some insights if we get the max number of counts after we split the data based on their categories. "
   ]
  },
  {
   "cell_type": "code",
   "execution_count": 60,
   "metadata": {},
   "outputs": [
    {
     "data": {
      "text/plain": [
       "(18794,)"
      ]
     },
     "execution_count": 60,
     "metadata": {},
     "output_type": "execute_result"
    }
   ],
   "source": [
    "tok_text = df_tok[\"text\"].to_numpy()\n",
    "tok_text.shape"
   ]
  },
  {
   "cell_type": "code",
   "execution_count": 61,
   "metadata": {},
   "outputs": [
    {
     "data": {
      "text/plain": [
       "[0, 1, 2, 3, 4, 5, 6, 7, 8, 9, 10, 11, 12, 13, 14, 15, 16, 17, 18, 19]"
      ]
     },
     "execution_count": 61,
     "metadata": {},
     "output_type": "execute_result"
    }
   ],
   "source": [
    "sorted(df_tok.category.unique())"
   ]
  },
  {
   "cell_type": "code",
   "execution_count": 62,
   "metadata": {},
   "outputs": [],
   "source": [
    "import gc\n",
    "from tqdm.notebook import tqdm\n",
    "from collections import Counter\n",
    "import joblib"
   ]
  },
  {
   "cell_type": "code",
   "execution_count": 63,
   "metadata": {},
   "outputs": [],
   "source": [
    "def cat_counter(df_tok):\n",
    "    \"\"\"\n",
    "    Counter of most frequent words based on category. \n",
    "    Sorted by category already. \n",
    "    \"\"\"\n",
    "    cache = []  # {}\n",
    "\n",
    "    # def inner_(cat): \n",
    "    #     counter = Counter()\n",
    "    #     temp_np = df_tok[df_tok.category == cat].text.to_numpy()\n",
    "    #     for sentence in temp_np: counter += Counter(sentence)\n",
    "    #     cache[cat] = counter\n",
    "    #     del counter, temp_np, sentence\n",
    "\n",
    "    # _ = joblib.Parallel(n_jobs=os.cpu_count(), prefer=\"threads\")(\n",
    "    #     joblib.delayed(inner_)(cat)\n",
    "    #     for cat in tqdm(range(20))\n",
    "    # )\n",
    "\n",
    "    for cat in tqdm(range(20)):  # sorted\n",
    "        counter = Counter()\n",
    "        temp_np = df_tok[df_tok.category == cat].text.to_numpy()\n",
    "        for sentence in temp_np: counter += Counter(sentence)\n",
    "        # cache[cat] = counter\n",
    "        cache.append(counter)\n",
    "        del counter, temp_np, sentence\n",
    "    gc.collect()\n",
    "    return cache"
   ]
  },
  {
   "cell_type": "code",
   "execution_count": 64,
   "metadata": {},
   "outputs": [
    {
     "data": {
      "application/vnd.jupyter.widget-view+json": {
       "model_id": "0af45b9a77674c8cafcf0b4eb5b9c059",
       "version_major": 2,
       "version_minor": 0
      },
      "text/plain": [
       "  0%|          | 0/20 [00:00<?, ?it/s]"
      ]
     },
     "metadata": {},
     "output_type": "display_data"
    }
   ],
   "source": [
    "counters = cat_counter(df_tok)"
   ]
  },
  {
   "cell_type": "code",
   "execution_count": 65,
   "metadata": {},
   "outputs": [],
   "source": [
    "import re\n",
    "from tabulate import tabulate\n",
    "from IPython.display import display, HTML"
   ]
  },
  {
   "cell_type": "code",
   "execution_count": 78,
   "metadata": {},
   "outputs": [],
   "source": [
    "def print_top_k_common(counters, k=10, return_val=False, to_be_deleted=None):\n",
    "    \"\"\"\n",
    "    Display top k words with html table. \n",
    "\n",
    "    :return_val: (bool) Whether to return result or not. Default: False. \n",
    "    :to_be_deleted: (list) What to exclude from count. Default: None\n",
    "        (so only xxmaj excluded. )\n",
    "    \"\"\"\n",
    "    r = re.compile(r'\\n+')\n",
    "    to_del = [\"xxmaj\"]\n",
    "    if to_be_deleted is None: to_be_deleted = to_del\n",
    "    else: to_be_deleted += to_del\n",
    "    # +50 to replace the ones in the line marked **. Have caveats. \n",
    "    # only works as long as you don't exhaust the below. \n",
    "    top_k = [counter.most_common(k+len(to_be_deleted)+50) for counter in counters]\n",
    "    top_k = [np.array([list(word) for word in counter])\n",
    "                for counter in top_k]\n",
    "    for i in range(len(top_k)): \n",
    "        a = top_k[i][:, 0]\n",
    "        to_be_deleted += list(set(filter(r.match, a)))  # **\n",
    "        for d in to_be_deleted: a = np.delete(a, np.where(a == d))\n",
    "        if len(a) > k: a = a[:k]\n",
    "        top_k[i] = [i] + list(a)\n",
    "        \n",
    "\n",
    "    display(HTML(tabulate(top_k, \n",
    "                    headers=[\"category\", *range(k)],\n",
    "                    tablefmt=\"html\")))\n",
    "    if return_val: return top_k"
   ]
  },
  {
   "cell_type": "code",
   "execution_count": 81,
   "metadata": {},
   "outputs": [
    {
     "data": {
      "text/html": [
       "<table>\n",
       "<thead>\n",
       "<tr><th style=\"text-align: right;\">  category</th><th>0                                            </th><th>1    </th><th>2    </th><th>3      </th><th>4    </th><th>5       </th><th>6    </th><th>7     </th><th>8     </th><th>9    </th><th>10   </th><th>11   </th><th>12    </th><th>13       </th><th>14    </th></tr>\n",
       "</thead>\n",
       "<tbody>\n",
       "<tr><td style=\"text-align: right;\">         0</td><td>do                                           </td><td>what </td><td>an   </td><td>by     </td><td>one  </td><td>can     </td><td>god  </td><td>there </td><td>so    </td><td>your </td><td>all  </td><td>from </td><td>no    </td><td>would    </td><td>people</td></tr>\n",
       "<tr><td style=\"text-align: right;\">         1</td><td>image                                        </td><td>from </td><td>can  </td><td>xxrep  </td><td>an   </td><td>graphics</td><td>jpeg </td><td>do    </td><td>by    </td><td>will </td><td>]    </td><td>3    </td><td>there </td><td>file     </td><td>[     </td></tr>\n",
       "<tr><td style=\"text-align: right;\">         2</td><td>max&#x27;ax&#x27;ax&#x27;ax&#x27;ax&#x27;ax&#x27;ax&#x27;ax&#x27;ax&#x27;ax&#x27;ax&#x27;ax&#x27;ax&#x27;ax&#x27;ax</td><td>_    </td><td>t    </td><td>windows</td><td>]    </td><td>g9v     </td><td>$    </td><td>p     </td><td>m     </td><td>%    </td><td>w    </td><td>&amp;    </td><td>do    </td><td>3        </td><td>xxrep </td></tr>\n",
       "<tr><td style=\"text-align: right;\">         3</td><td>my                                           </td><td>drive</td><td>can  </td><td>do     </td><td>an   </td><td>any     </td><td>3    </td><td>xxrep </td><td>from  </td><td>there</td><td>2    </td><td>card </td><td>will  </td><td>one      </td><td>would </td></tr>\n",
       "<tr><td style=\"text-align: right;\">         4</td><td>can                                          </td><td>my   </td><td>do   </td><td>mac    </td><td>from </td><td>an      </td><td>xxrep</td><td>apple </td><td>what  </td><td>3    </td><td>one  </td><td>would</td><td>any   </td><td>has      </td><td>there </td></tr>\n",
       "<tr><td style=\"text-align: right;\">         5</td><td>x                                            </td><td>3    </td><td>xxrep</td><td>can    </td><td>an   </td><td>from    </td><td>do   </td><td>by    </td><td>window</td><td>file </td><td>use  </td><td>your </td><td>$     </td><td>will     </td><td>my    </td></tr>\n",
       "<tr><td style=\"text-align: right;\">         6</td><td>$                                            </td><td>1    </td><td>2    </td><td>3      </td><td>all  </td><td>xxrep   </td><td>new  </td><td>me    </td><td>sale  </td><td>4    </td><td>will </td><td>email</td><td>please</td><td>offer    </td><td>one   </td></tr>\n",
       "<tr><td style=\"text-align: right;\">         7</td><td>car                                          </td><td>my   </td><td>do   </td><td>xxrep  </td><td>about</td><td>there   </td><td>3    </td><td>would </td><td>can   </td><td>from </td><td>an   </td><td>your </td><td>so    </td><td>any      </td><td>out   </td></tr>\n",
       "<tr><td style=\"text-align: right;\">         8</td><td>my                                           </td><td>do   </td><td>bike </td><td>your   </td><td>me   </td><td>about   </td><td>one  </td><td>from  </td><td>there </td><td>so   </td><td>would</td><td>all  </td><td>xxrep </td><td>just     </td><td>out   </td></tr>\n",
       "<tr><td style=\"text-align: right;\">         9</td><td>3                                            </td><td>do   </td><td>his  </td><td>would  </td><td>xxrep</td><td>1       </td><td>year </td><td>0     </td><td>has   </td><td>game </td><td>so   </td><td>out  </td><td>there </td><td>all      </td><td>up    </td></tr>\n",
       "<tr><td style=\"text-align: right;\">        10</td><td>1                                            </td><td>0    </td><td>2    </td><td>3      </td><td>4    </td><td>5       </td><td>game </td><td>team  </td><td>6     </td><td>will </td><td>xxrep</td><td>7    </td><td>from  </td><td>do       </td><td>his   </td></tr>\n",
       "<tr><td style=\"text-align: right;\">        11</td><td>xxrep                                        </td><td>will </td><td>can  </td><td>by     </td><td>do   </td><td>key     </td><td>3    </td><td>from  </td><td>what  </td><td>would</td><td>an   </td><td>1    </td><td>0     </td><td>]        </td><td>all   </td></tr>\n",
       "<tr><td style=\"text-align: right;\">        12</td><td>do                                           </td><td>can  </td><td>an   </td><td>would  </td><td>|    </td><td>one     </td><td>from </td><td>there </td><td>what  </td><td>use  </td><td>will </td><td>about</td><td>your  </td><td>some     </td><td>my    </td></tr>\n",
       "<tr><td style=\"text-align: right;\">        13</td><td>do                                           </td><td>my   </td><td>from </td><td>by     </td><td>can  </td><td>there   </td><td>an   </td><td>has   </td><td>about </td><td>one  </td><td>your </td><td>some </td><td>what  </td><td>would    </td><td>will  </td></tr>\n",
       "<tr><td style=\"text-align: right;\">        14</td><td>space                                        </td><td>from </td><td>by   </td><td>would  </td><td>an   </td><td>do      </td><td>will </td><td>3     </td><td>there </td><td>can  </td><td>about</td><td>xxrep</td><td>which </td><td>some     </td><td>one   </td></tr>\n",
       "<tr><td style=\"text-align: right;\">        15</td><td>god                                          </td><td>do   </td><td>by   </td><td>from   </td><td>who  </td><td>what    </td><td>his  </td><td>all   </td><td>there </td><td>would</td><td>can  </td><td>one  </td><td>my    </td><td>will     </td><td>about </td></tr>\n",
       "<tr><td style=\"text-align: right;\">        16</td><td>by                                           </td><td>do   </td><td>would</td><td>gun    </td><td>from </td><td>an      </td><td>what </td><td>people</td><td>all   </td><td>their</td><td>about</td><td>no   </td><td>there </td><td>one      </td><td>your  </td></tr>\n",
       "<tr><td style=\"text-align: right;\">        17</td><td>by                                           </td><td>from </td><td>there</td><td>their  </td><td>]    </td><td>do      </td><td>had  </td><td>who   </td><td>people</td><td>all  </td><td>an   </td><td>what </td><td>one   </td><td>no       </td><td>them  </td></tr>\n",
       "<tr><td style=\"text-align: right;\">        18</td><td>do                                           </td><td>what </td><td>q    </td><td>would  </td><td>there</td><td>about   </td><td>by   </td><td>people</td><td>from  </td><td>all  </td><td>has  </td><td>will </td><td>no    </td><td>president</td><td>who   </td></tr>\n",
       "<tr><td style=\"text-align: right;\">        19</td><td>do                                           </td><td>by   </td><td>god  </td><td>what   </td><td>from </td><td>all     </td><td>your </td><td>who   </td><td>his   </td><td>my   </td><td>one  </td><td>will </td><td>there </td><td>an       </td><td>me    </td></tr>\n",
       "</tbody>\n",
       "</table>"
      ],
      "text/plain": [
       "<IPython.core.display.HTML object>"
      ]
     },
     "metadata": {},
     "output_type": "display_data"
    }
   ],
   "source": [
    "m = print_top_k_common(counters, 15, True, \n",
    "    to_be_deleted=\"\"\". , \" ' / # \\\\ = : - ( ) ; * ▁ to and xxup i a of the\n",
    "                    you that in xxbos is it for not ? ! … `\n",
    "                    this with have but if n't they was are as or\n",
    "                    be at on were he 's we\"\"\".split())"
   ]
  },
  {
   "cell_type": "markdown",
   "metadata": {},
   "source": [
    "You notice something like `n't` because fastai knows that a word such as `don't` should be split up (just like stemming and lemmatization) into `do` and `n't`. The contractions aren't split into full by fastai's method. "
   ]
  },
  {
   "cell_type": "code",
   "execution_count": 82,
   "metadata": {},
   "outputs": [
    {
     "data": {
      "text/plain": [
       "[10,\n",
       " '1',\n",
       " '0',\n",
       " '2',\n",
       " '3',\n",
       " '4',\n",
       " '5',\n",
       " 'game',\n",
       " 'team',\n",
       " '6',\n",
       " 'will',\n",
       " 'xxrep',\n",
       " '7',\n",
       " 'from',\n",
       " 'do',\n",
       " 'his']"
      ]
     },
     "execution_count": 82,
     "metadata": {},
     "output_type": "execute_result"
    }
   ],
   "source": [
    "m[10]"
   ]
  },
  {
   "cell_type": "markdown",
   "metadata": {},
   "source": [
    "And category 10 seems to have quite a few numbers inside. One wonders what category 10 represents that it uses quite some numbers. OR it may be due to that kind of data that's dirty (there're data we see before during data cleaning that contains lots of coordinates), which may result in this. \n",
    "\n",
    "Looks like we need to make further cleaning. "
   ]
  },
  {
   "cell_type": "code",
   "execution_count": 84,
   "metadata": {},
   "outputs": [
    {
     "data": {
      "text/plain": [
       "[('xxup', 22253),\n",
       " ('xxmaj', 11149),\n",
       " ('/', 9165),\n",
       " ('\\\\', 7332),\n",
       " (',', 7121),\n",
       " ('.', 6279),\n",
       " (\"'\", 6005),\n",
       " ('=', 5780),\n",
       " ('#', 5438),\n",
       " ('the', 4897),\n",
       " (\"max'ax'ax'ax'ax'ax'ax'ax'ax'ax'ax'ax'ax'ax'ax\", 3201)]"
      ]
     },
     "execution_count": 84,
     "metadata": {},
     "output_type": "execute_result"
    }
   ],
   "source": [
    "counters[2].most_common(11)"
   ]
  },
  {
   "cell_type": "markdown",
   "metadata": {},
   "source": [
    "Up till now we have delete quite a lot of words and we still can't find a unique set of words to distinguish between the categories. So either we continue to delete words, or we just stop here and see through it (let it be) as a failed experiment. \n",
    "\n",
    "However one insight one wants to talk about is this category 2 have a count for this: `max>'ax>'ax>'ax>'ax>'ax>'ax>'ax>'ax>'ax>'ax>'ax>'ax>'ax>'ax`, and if one is sure about it, it might be True for the problematic set of data that keeps repeating this. One thinks one deleted the file during training (data cleaning) but not here for EDA. \n",
    "\n",
    "Well, that's for unigram. One just noticed that we can do this from the [reference notebook](https://www.kaggle.com/gunesevitan/nlp-with-disaster-tweets-eda-cleaning-and-bert/notebook)\n",
    "\n",
    "To deal with bigram and trigrams, we might have to strip away punctuations in the data? Let's also do for unigram with this different method and see how it works. This time, without those cleaning (deleting unnecessary things)"
   ]
  },
  {
   "cell_type": "code",
   "execution_count": 86,
   "metadata": {},
   "outputs": [],
   "source": [
    "def generate_ngrams(text, n_gram=1):\n",
    "    token = [token for token in text.lower().split(' ') if token != '' if token not in STOPWORDS]\n",
    "    ngrams = zip(*[token[i:] for i in range(n_gram)])\n",
    "    return [' '.join(ngram) for ngram in ngrams]"
   ]
  },
  {
   "cell_type": "code",
   "execution_count": null,
   "metadata": {},
   "outputs": [],
   "source": [
    "from collections import defaultdict"
   ]
  },
  {
   "cell_type": "code",
   "execution_count": 119,
   "metadata": {},
   "outputs": [],
   "source": [
    "def ngram_counter(df, n_gram):\n",
    "    \"\"\"\n",
    "    counter of ngram words based on `generate_ngrams`. \n",
    "\n",
    "    :df: (pandas.DataFrame) Original dataframe. NOT tokenized by fastai. \n",
    "    :n_gram: What types of n-gram wanted? \n",
    "\n",
    "    :return: n_grams for each category\n",
    "    \"\"\"\n",
    "    cache = []\n",
    "\n",
    "    for cat in tqdm(range(20)):  # sorted\n",
    "        counter = defaultdict(int)\n",
    "        temp_np = df[df.category == cat].text.to_numpy()\n",
    "        for text in temp_np:\n",
    "            for word in generate_ngrams(text, n_gram=n_gram): \n",
    "                counter[word] += 1\n",
    "        cache.append(Counter(counter))\n",
    "        del counter, temp_np, text\n",
    "    gc.collect()\n",
    "    return cache"
   ]
  },
  {
   "cell_type": "code",
   "execution_count": 120,
   "metadata": {},
   "outputs": [
    {
     "data": {
      "application/vnd.jupyter.widget-view+json": {
       "model_id": "08ee298990364bacadd0af0890458c72",
       "version_major": 2,
       "version_minor": 0
      },
      "text/plain": [
       "  0%|          | 0/20 [00:00<?, ?it/s]"
      ]
     },
     "metadata": {},
     "output_type": "display_data"
    }
   ],
   "source": [
    "unigrams = ngram_counter(df, 1)"
   ]
  },
  {
   "cell_type": "code",
   "execution_count": 121,
   "metadata": {},
   "outputs": [
    {
     "data": {
      "text/plain": [
       "[(':', 653),\n",
       " (\"don't\", 417),\n",
       " ('people', 411),\n",
       " ('god', 354),\n",
       " ('just', 342),\n",
       " ('think', 336),\n",
       " ('does', 322),\n",
       " ('#', 318),\n",
       " ('believe', 255),\n",
       " ('like', 245)]"
      ]
     },
     "execution_count": 121,
     "metadata": {},
     "output_type": "execute_result"
    }
   ],
   "source": [
    "unigrams[0].most_common(10)"
   ]
  },
  {
   "cell_type": "markdown",
   "metadata": {},
   "source": [
    "Ok let's do this for separating categories, just like before. "
   ]
  },
  {
   "cell_type": "code",
   "execution_count": 122,
   "metadata": {},
   "outputs": [],
   "source": [
    "def n_gram_by_category(n_grams, k=10, return_val=False):\n",
    "    \"\"\"\n",
    "    :n_grams: (list) containing list of Counters for each category. \n",
    "    :k: (int) Top k n-grams displayed. Defaults: 10. \n",
    "    :return_val: (bool) Whether to return result or not. Default: False. \n",
    "\n",
    "    :caveat: Doesn't display frequency. \n",
    "    \"\"\"\n",
    "    # +50 to replace the ones in the line marked **. Have caveats. \n",
    "    # only works as long as you don't exhaust the below. \n",
    "    top_k = [counter.most_common(k) for counter in n_grams]\n",
    "    top_k = [np.array([list(word) for word in counter])\n",
    "                for counter in top_k]\n",
    "    for i in range(len(top_k)): \n",
    "        a = top_k[i][:, 0]\n",
    "        top_k[i] = [i] + list(a)\n",
    "        \n",
    "\n",
    "    display(HTML(tabulate(top_k, \n",
    "                    headers=[\"category\", *range(k)],\n",
    "                    tablefmt=\"html\")))\n",
    "    if return_val: return top_k"
   ]
  },
  {
   "cell_type": "code",
   "execution_count": 137,
   "metadata": {},
   "outputs": [
    {
     "data": {
      "text/html": [
       "<table>\n",
       "<thead>\n",
       "<tr><th style=\"text-align: right;\">  category</th><th>0                                             </th><th>1       </th><th>2         </th><th>3      </th><th>4         </th><th>5     </th><th>6        </th><th>7        </th><th>8      </th><th>9              </th><th>10       </th><th>11      </th><th>12      </th><th>13        </th><th>14       </th></tr>\n",
       "</thead>\n",
       "<tbody>\n",
       "<tr><td style=\"text-align: right;\">         0</td><td>:                                             </td><td>don&#x27;t   </td><td>people    </td><td>god    </td><td>just      </td><td>think </td><td>does     </td><td>#        </td><td>believe</td><td>like           </td><td>say      </td><td>it&#x27;s    </td><td>know    </td><td>make      </td><td>i&#x27;m      </td></tr>\n",
       "<tr><td style=\"text-align: right;\">         1</td><td>image                                         </td><td>jpeg    </td><td>:         </td><td>file   </td><td>graphics  </td><td>use   </td><td>available</td><td>=        </td><td>data   </td><td>like           </td><td>images   </td><td>software</td><td>program </td><td>+         </td><td>does     </td></tr>\n",
       "<tr><td style=\"text-align: right;\">         2</td><td>max&#x27;ax&#x27;ax&#x27;ax&#x27;ax&#x27;ax&#x27;ax&#x27;ax&#x27;ax&#x27;ax&#x27;ax&#x27;ax&#x27;ax&#x27;ax&#x27;ax&#x27;</td><td>windows </td><td>file      </td><td>use    </td><td>dos       </td><td>:     </td><td>like     </td><td>just     </td><td>using  </td><td>don&#x27;t          </td><td>know     </td><td>does    </td><td>files   </td><td>run       </td><td>it&#x27;s     </td></tr>\n",
       "<tr><td style=\"text-align: right;\">         3</td><td>:                                             </td><td>drive   </td><td>scsi      </td><td>use    </td><td>card      </td><td>does  </td><td>just     </td><td>know     </td><td>disk   </td><td>like           </td><td>hard     </td><td>ide     </td><td>i&#x27;m     </td><td>controller</td><td>drives   </td></tr>\n",
       "<tr><td style=\"text-align: right;\">         4</td><td>mac                                           </td><td>apple   </td><td>does      </td><td>use    </td><td>just      </td><td>know  </td><td>like     </td><td>i&#x27;m      </td><td>drive  </td><td>don&#x27;t          </td><td>problem  </td><td>new     </td><td>|       </td><td>need      </td><td>disk     </td></tr>\n",
       "<tr><td style=\"text-align: right;\">         5</td><td>x                                             </td><td>/       </td><td>=         </td><td>use    </td><td>window    </td><td>file  </td><td>server   </td><td>using    </td><td>program</td><td>set            </td><td>available</td><td>does    </td><td>like    </td><td>{         </td><td>:        </td></tr>\n",
       "<tr><td style=\"text-align: right;\">         6</td><td>1                                             </td><td>$       </td><td>$1        </td><td>new    </td><td>2         </td><td>$2    </td><td>email    </td><td>.        </td><td>&amp;      </td><td>good           </td><td>like     </td><td>asking  </td><td>shipping</td><td>dos       </td><td>3        </td></tr>\n",
       "<tr><td style=\"text-align: right;\">         7</td><td>car                                           </td><td>just    </td><td>like      </td><td>don&#x27;t  </td><td>new       </td><td>know  </td><td>:        </td><td>cars     </td><td>think  </td><td>good           </td><td>it&#x27;s     </td><td>/       </td><td>i&#x27;m     </td><td>engine    </td><td>|        </td></tr>\n",
       "<tr><td style=\"text-align: right;\">         8</td><td>:                                             </td><td>bike    </td><td>just      </td><td>like   </td><td>don&#x27;t     </td><td>it&#x27;s  </td><td>i&#x27;m      </td><td>know     </td><td>dod    </td><td>good           </td><td>think    </td><td>ride    </td><td>make    </td><td>i&#x27;ve      </td><td>new      </td></tr>\n",
       "<tr><td style=\"text-align: right;\">         9</td><td>don&#x27;t                                         </td><td>1       </td><td>think     </td><td>just   </td><td>like      </td><td>game  </td><td>0        </td><td>good     </td><td>team   </td><td>2              </td><td>year     </td><td>hit     </td><td>3       </td><td>it&#x27;s      </td><td>better   </td></tr>\n",
       "<tr><td style=\"text-align: right;\">        10</td><td>0                                             </td><td>1       </td><td>2         </td><td>3      </td><td>4         </td><td>game  </td><td>5        </td><td>team     </td><td>7      </td><td>6              </td><td>hockey   </td><td>10      </td><td>think   </td><td>8         </td><td>just     </td></tr>\n",
       "<tr><td style=\"text-align: right;\">        11</td><td>key                                           </td><td>use     </td><td>encryption</td><td>db     </td><td>government</td><td>people</td><td>just     </td><td>don&#x27;t    </td><td>chip   </td><td>clipper        </td><td>like     </td><td>:       </td><td>security</td><td>know      </td><td>it&#x27;s     </td></tr>\n",
       "<tr><td style=\"text-align: right;\">        12</td><td>:                                             </td><td>|       </td><td>use       </td><td>like   </td><td>don&#x27;t     </td><td>just  </td><td>used     </td><td>know     </td><td>does   </td><td>power          </td><td>need     </td><td>it&#x27;s    </td><td>good    </td><td>i&#x27;m       </td><td>want     </td></tr>\n",
       "<tr><td style=\"text-align: right;\">        13</td><td>medical                                       </td><td>don&#x27;t   </td><td>use       </td><td>like   </td><td>:         </td><td>know  </td><td>people   </td><td>health   </td><td>just   </td><td>|              </td><td>new      </td><td>patients</td><td>i&#x27;m     </td><td>it&#x27;s      </td><td>think    </td></tr>\n",
       "<tr><td style=\"text-align: right;\">        14</td><td>space                                         </td><td>like    </td><td>launch    </td><td>just   </td><td>nasa      </td><td>don&#x27;t </td><td>shuttle  </td><td>new      </td><td>data   </td><td>solar          </td><td>think    </td><td>it&#x27;s    </td><td>earth   </td><td>time      </td><td>people   </td></tr>\n",
       "<tr><td style=\"text-align: right;\">        15</td><td>god                                           </td><td>people  </td><td>think     </td><td>does   </td><td>jesus     </td><td>don&#x27;t </td><td>know     </td><td>believe  </td><td>just   </td><td>like           </td><td>church   </td><td>:       </td><td>say     </td><td>did       </td><td>christian</td></tr>\n",
       "<tr><td style=\"text-align: right;\">        16</td><td>gun                                           </td><td>people  </td><td>don&#x27;t     </td><td>:      </td><td>just      </td><td>like  </td><td>think    </td><td>file:    </td><td>fbi    </td><td>right          </td><td>guns     </td><td>did     </td><td>it&#x27;s    </td><td>government</td><td>know     </td></tr>\n",
       "<tr><td style=\"text-align: right;\">        17</td><td>people                                        </td><td>armenian</td><td>.         </td><td>turkish</td><td>armenians </td><td>just  </td><td>like     </td><td>israel   </td><td>jews   </td><td>don&#x27;t          </td><td>said     </td><td>israeli </td><td>did     </td><td>know      </td><td>|        </td></tr>\n",
       "<tr><td style=\"text-align: right;\">        18</td><td>#                                             </td><td>q       </td><td>people    </td><td>think  </td><td>mr.       </td><td>don&#x27;t </td><td>it&#x27;s     </td><td>president</td><td>just   </td><td>stephanopoulos:</td><td>going    </td><td>know    </td><td>like    </td><td>government</td><td>did      </td></tr>\n",
       "<tr><td style=\"text-align: right;\">        19</td><td>god                                           </td><td>people  </td><td>jesus     </td><td>:      </td><td>don&#x27;t     </td><td>just  </td><td>think    </td><td>does     </td><td>know   </td><td>like           </td><td>say      </td><td>did     </td><td>bible   </td><td>believe   </td><td>good     </td></tr>\n",
       "</tbody>\n",
       "</table>"
      ],
      "text/plain": [
       "<IPython.core.display.HTML object>"
      ]
     },
     "metadata": {},
     "output_type": "display_data"
    }
   ],
   "source": [
    "n_gram_by_category(unigrams, 15)"
   ]
  },
  {
   "cell_type": "markdown",
   "metadata": {},
   "source": [
    "And we repeat for bigrams and trigrams. "
   ]
  },
  {
   "cell_type": "code",
   "execution_count": 139,
   "metadata": {},
   "outputs": [
    {
     "data": {
      "application/vnd.jupyter.widget-view+json": {
       "model_id": "7989ea0b3582453b869b8c31bcd338bc",
       "version_major": 2,
       "version_minor": 0
      },
      "text/plain": [
       "  0%|          | 0/20 [00:00<?, ?it/s]"
      ]
     },
     "metadata": {},
     "output_type": "display_data"
    },
    {
     "data": {
      "text/html": [
       "<table>\n",
       "<thead>\n",
       "<tr><th style=\"text-align: right;\">  category</th><th>0                                                                                            </th><th>1                </th><th>2               </th><th>3              </th><th>4             </th><th>5               </th><th>6                 </th><th>7                  </th><th>8                    </th><th>9                   </th><th>10                                                                      </th><th>11                               </th><th>12                               </th><th>13                         </th><th>14                 </th></tr>\n",
       "</thead>\n",
       "<tbody>\n",
       "<tr><td style=\"text-align: right;\">         0</td><td>: |                                                                                          </td><td># #              </td><td>don&#x27;t think     </td><td>don&#x27;t know     </td><td>: :           </td><td>. .             </td><td>don&#x27;t believe     </td><td>i&#x27;m sure           </td><td>god does             </td><td>cheers, kent        </td><td>/\\/\\/\\/\\/\\/\\/\\/\\/\\/\\/\\/\\/\\/\\/\\/\\/\\/\\/\\/\\/\\/\\/\\/\\/\\/\\/\\/\\/\\/\\/\\/\\/\\/\\ bob</td><td>bob beauchaine                   </td><td>beauchaine bobbe@vice.ico.tek.com</td><td>bobbe@vice.ico.tek.com said</td><td>said queens        </td></tr>\n",
       "<tr><td style=\"text-align: right;\">         1</td><td>image processing                                                                             </td><td>computer graphics</td><td>anonymous ftp   </td><td>| |            </td><td>24 bit        </td><td>source code     </td><td>                  </td><td>does know          </td><td>image quality        </td><td>don&#x27;t know          </td><td>: :                                                                     </td><td>free jpeg                        </td><td>+ +                              </td><td>available anonymous        </td><td>i&#x27;m sure           </td></tr>\n",
       "<tr><td style=\"text-align: right;\">         2</td><td>max&#x27;ax&#x27;ax&#x27;ax&#x27;ax&#x27;ax&#x27;ax&#x27;ax&#x27;ax&#x27;ax&#x27;ax&#x27;ax&#x27;ax&#x27;ax&#x27;ax&#x27; max&#x27;ax&#x27;ax&#x27;ax&#x27;ax&#x27;ax&#x27;ax&#x27;ax&#x27;ax&#x27;ax&#x27;ax&#x27;ax&#x27;ax&#x27;ax&#x27;ax&#x27;</td><td>windows 3.1      </td><td>_/ _/           </td><td>: :            </td><td>don&#x27;t know    </td><td>allocation unit </td><td>cross linked      </td><td>linked allocation  </td><td>_ _                  </td><td>windows nt          </td><td>does know                                                               </td><td>swap file                        </td><td>run windows                      </td><td>dos 6                      </td><td>windows 3.1.       </td></tr>\n",
       "<tr><td style=\"text-align: right;\">         3</td><td>hard disk                                                                                    </td><td>: :              </td><td>local bus       </td><td>controller card</td><td>rom bios      </td><td>disk drives     </td><td>don&#x27;t know        </td><td>hard drive         </td><td>floppy disk          </td><td>does know           </td><td>. .                                                                     </td><td>disk controller                  </td><td>_/ _/                            </td><td>tape drive                 </td><td>| |                </td></tr>\n",
       "<tr><td style=\"text-align: right;\">         4</td><td>does know                                                                                    </td><td>| |              </td><td>hard drive      </td><td>don&#x27;t know     </td><td>hard disk     </td><td>25 mhz          </td><td>32 32             </td><td>heat sink          </td><td>centris 610          </td><td>power supply        </td><td>thanks advance.                                                         </td><td>i&#x27;m sure                         </td><td>(pc week                         </td><td>vv vv                      </td><td>mac ii             </td></tr>\n",
       "<tr><td style=\"text-align: right;\">         5</td><td>x x                                                                                          </td><td>/ x              </td><td>x /             </td><td>x x/           </td><td>window manager</td><td>x char          </td><td>x }               </td><td>{ x                </td><td>x server             </td><td>x} x                </td><td>} x                                                                     </td><td>file /                           </td><td>open look                        </td><td>x window                   </td><td>oname, eof_not_ok);</td></tr>\n",
       "<tr><td style=\"text-align: right;\">         6</td><td>. .                                                                                          </td><td>appears) $       </td><td>brand new       </td><td>best offer     </td><td>(1st app      </td><td>best offer.     </td><td>+ shipping        </td><td>$ 7.50             </td><td>hard drive           </td><td>(2 copies)          </td><td>make offer.                                                             </td><td>incredible hulk                  </td><td>1 (signed                        </td><td>(signed liefeld,           </td><td>liefeld, bagged,   </td></tr>\n",
       "<tr><td style=\"text-align: right;\">         7</td><td>/ /                                                                                          </td><td>don&#x27;t know       </td><td>| |             </td><td>(send requests </td><td>: :           </td><td>| /             </td><td>\\ /               </td><td>/ |                </td><td>don&#x27;t think          </td><td>/ \\                 </td><td>i&#x27;m sure                                                                </td><td>i&#x27;d like                         </td><td>does know                        </td><td>consumer reports           </td><td>___ /              </td></tr>\n",
       "<tr><td style=\"text-align: right;\">         8</td><td>: :                                                                                          </td><td>don&#x27;t know       </td><td>. .             </td><td>nick (the      </td><td>===== dod     </td><td>dod #8177       </td><td>#8177 =           </td><td>= technician(dr.   </td><td>technician(dr. speed)</td><td>speed) .not.        </td><td>.not. student                                                           </td><td>student =====                    </td><td>make sure                        </td><td>i&#x27;m sure                   </td><td>): :(              </td></tr>\n",
       "<tr><td style=\"text-align: right;\">         9</td><td>0 0                                                                                          </td><td>won 1            </td><td>lost 1          </td><td>red sox        </td><td>new york      </td><td>don&#x27;t know      </td><td>don&#x27;t think       </td><td>| |                </td><td>cubs suck            </td><td>suck cubs           </td><td>st. louis                                                               </td><td>major league                     </td><td>los angeles                      </td><td>1 1                        </td><td>san francisco      </td></tr>\n",
       "<tr><td style=\"text-align: right;\">        10</td><td>0 0                                                                                          </td><td>0 1              </td><td>1 1             </td><td>1 0            </td><td>2 2           </td><td>2 0             </td><td>0 2               </td><td>1 2                </td><td>3 0                  </td><td>2 1                 </td><td>2 3                                                                     </td><td>power play:                      </td><td>g pts                            </td><td>3 4                        </td><td>! !                </td></tr>\n",
       "<tr><td style=\"text-align: right;\">        11</td><td>law enforcement                                                                              </td><td>clipper chip     </td><td>public key      </td><td>serial number  </td><td>anonymous ftp </td><td>&quot;clipper chip&quot;  </td><td>key escrow        </td><td>; ;                </td><td>don&#x27;t know           </td><td>. .                 </td><td>available anonymous                                                     </td><td>: :                              </td><td>encryption algorithm             </td><td>s1 s2                      </td><td>don&#x27;t think        </td></tr>\n",
       "<tr><td style=\"text-align: right;\">        12</td><td>| |                                                                                          </td><td>: :              </td><td>don&#x27;t know      </td><td>does know      </td><td>i&#x27;ve seen     </td><td>copy protection </td><td>i&#x27;d like          </td><td>make sure          </td><td>radar detector       </td><td>i&#x27;ve got            </td><td>radio shack                                                             </td><td>power supply                     </td><td>. .                              </td><td>r r                        </td><td>thanks advance.    </td></tr>\n",
       "<tr><td style=\"text-align: right;\">        13</td><td>medical newsletter                                                                           </td><td>hicnet medical   </td><td>newsletter page </td><td>volume 6,      </td><td>6, number     </td><td>gordon banks    </td><td>banks n3jxp       </td><td>n3jxp |            </td><td>| &quot;skepticism        </td><td>&quot;skepticism chastity</td><td>chastity intellect,                                                     </td><td>intellect, geb@cadre.dsl.pitt.edu</td><td>geb@cadre.dsl.pitt.edu |         </td><td>| shameful                 </td><td>shameful surrender </td></tr>\n",
       "<tr><td style=\"text-align: right;\">        14</td><td>space station                                                                                </td><td>space shuttle    </td><td>| |             </td><td>anonymous ftp  </td><td>don&#x27;t think   </td><td>commercial space</td><td>don&#x27;t know        </td><td>nasa ames          </td><td>remote sensing       </td><td>national space      </td><td>available anonymous                                                     </td><td>gamma ray                        </td><td>people don&#x27;t                     </td><td>washington, dc             </td><td>i&#x27;m sure           </td></tr>\n",
       "<tr><td style=\"text-align: right;\">        15</td><td>don&#x27;t know                                                                                   </td><td>holy spirit      </td><td>_/ _/           </td><td>: :            </td><td>don&#x27;t think   </td><td>jesus christ    </td><td>new testament     </td><td>does mean          </td><td>don&#x27;t believe        </td><td>i&#x27;m sure            </td><td>catholic church                                                         </td><td>don&#x27;t want                       </td><td>lord jesus                       </td><td>god does                   </td><td>sounds like        </td></tr>\n",
       "<tr><td style=\"text-align: right;\">        16</td><td>gun control                                                                                  </td><td>united states    </td><td>second amendment</td><td>: :            </td><td>don&#x27;t know    </td><td>law enforcement </td><td>don&#x27;t think       </td><td>tear gas           </td><td>right bear           </td><td>bear arms           </td><td>david koresh                                                            </td><td>. .                              </td><td>gun owners                       </td><td>right people               </td><td>branch davidians   </td></tr>\n",
       "<tr><td style=\"text-align: right;\">        17</td><td>. .                                                                                          </td><td>| |              </td><td>serdar argic    </td><td>human rights   </td><td>2.5 million   </td><td>don&#x27;t know      </td><td>professor history,</td><td>armenian government</td><td>world war            </td><td>genocide 2.5        </td><td>new york                                                                </td><td>ottoman empire                   </td><td>muslim population                </td><td>xsoviet armenian           </td><td>new york,          </td></tr>\n",
       "<tr><td style=\"text-align: right;\">        18</td><td>mr. stephanopoulos:                                                                          </td><td>ms. myers:       </td><td># #             </td><td>don&#x27;t know     </td><td>united states </td><td>white house     </td><td>health care       </td><td>don&#x27;t think        </td><td>q george,            </td><td># ##                </td><td>attorney general                                                        </td><td>senior administration            </td><td>administration official:         </td><td>stephanopoulos: don&#x27;t      </td><td>we&#x27;re going        </td></tr>\n",
       "<tr><td style=\"text-align: right;\">        19</td><td>: :                                                                                          </td><td>lord [jehovah]   </td><td>cheers, kent    </td><td>don&#x27;t think    </td><td>. .           </td><td>jesus christ    </td><td>lord [jehovah],   </td><td>don&#x27;t know         </td><td>god [elohim]         </td><td>does mean           </td><td>thou shalt                                                              </td><td>david koresh                     </td><td>said unto                        </td><td>(emphasis added)           </td><td>| |                </td></tr>\n",
       "</tbody>\n",
       "</table>"
      ],
      "text/plain": [
       "<IPython.core.display.HTML object>"
      ]
     },
     "metadata": {},
     "output_type": "display_data"
    }
   ],
   "source": [
    "bigrams = ngram_counter(df, 2)\n",
    "n_gram_by_category(bigrams, 15)"
   ]
  },
  {
   "cell_type": "code",
   "execution_count": 141,
   "metadata": {},
   "outputs": [
    {
     "data": {
      "application/vnd.jupyter.widget-view+json": {
       "model_id": "4fdf8bc27ff845c7b408a7e34dcf87f0",
       "version_major": 2,
       "version_minor": 0
      },
      "text/plain": [
       "  0%|          | 0/20 [00:00<?, ?it/s]"
      ]
     },
     "metadata": {},
     "output_type": "display_data"
    },
    {
     "data": {
      "text/html": [
       "<table>\n",
       "<thead>\n",
       "<tr><th style=\"text-align: right;\">  category</th><th>0                                                                                                                                           </th><th>1                                    </th><th>2                                     </th><th>3                                 </th><th>4                             </th><th>5                                </th><th>6                           </th><th>7                                 </th><th>8                                         </th><th>9                                  </th><th>10                               </th><th>11                                           </th><th>12                                                </th><th>13                                         </th><th>14                                  </th></tr>\n",
       "</thead>\n",
       "<tbody>\n",
       "<tr><td style=\"text-align: right;\">         0</td><td>/\\/\\/\\/\\/\\/\\/\\/\\/\\/\\/\\/\\/\\/\\/\\/\\/\\/\\/\\/\\/\\/\\/\\/\\/\\/\\/\\/\\/\\/\\/\\/\\/\\/\\ bob beauchaine                                                         </td><td>bob beauchaine bobbe@vice.ico.tek.com</td><td>beauchaine bobbe@vice.ico.tek.com said</td><td>bobbe@vice.ico.tek.com said queens</td><td>said queens stay,             </td><td>queens stay, blew                </td><td>stay, blew bronx            </td><td>blew bronx away,                  </td><td>bronx away, sank                          </td><td>away, sank manhattan               </td><td>sank manhattan sea.              </td><td>. . .                                        </td><td>_/ _/ _/                                          </td><td>michael a. cobb                            </td><td>a. cobb &quot;...and                     </td></tr>\n",
       "<tr><td style=\"text-align: right;\">         1</td><td>available anonymous ftp                                                                                                                     </td><td>simtel20 mirror sites                </td><td>mirror sites (see                     </td><td>sites (see note                   </td><td># # #                         </td><td>+44 (0)61 275                    </td><td>| | |                       </td><td>(see note below),                 </td><td>note below), file                         </td><td>free jpeg software                 </td><td>available simtel20 mirror        </td><td>send subscription requests                   </td><td>free ijg jpeg                                     </td><td>amiga.physik.unizh.ch (and mirror          </td><td>chris lilley technical              </td></tr>\n",
       "<tr><td style=\"text-align: right;\">         2</td><td>max&#x27;ax&#x27;ax&#x27;ax&#x27;ax&#x27;ax&#x27;ax&#x27;ax&#x27;ax&#x27;ax&#x27;ax&#x27;ax&#x27;ax&#x27;ax&#x27;ax&#x27; max&#x27;ax&#x27;ax&#x27;ax&#x27;ax&#x27;ax&#x27;ax&#x27;ax&#x27;ax&#x27;ax&#x27;ax&#x27;ax&#x27;ax&#x27;ax&#x27;ax&#x27; max&#x27;ax&#x27;ax&#x27;ax&#x27;ax&#x27;ax&#x27;ax&#x27;ax&#x27;ax&#x27;ax&#x27;ax&#x27;ax&#x27;ax&#x27;ax&#x27;ax&#x27;</td><td>_/ _/ _/                             </td><td>cross linked allocation               </td><td>linked allocation unit            </td><td>_ _ _                         </td><td>case western reserve             </td><td>notebook file name:         </td><td>&quot; &quot; &quot;                             </td><td>march 15, 1991                            </td><td>: | :                              </td><td>ati graphics ultra               </td><td>_/ _/ _/_/_/                                 </td><td>} } }                                             </td><td>thx dave l                                 </td><td>does anybody know                   </td></tr>\n",
       "<tr><td style=\"text-align: right;\">         3</td><td>. . .                                                                                                                                       </td><td>_/ _/ _/                             </td><td>floppy disk drives                    </td><td>hard disk controller              </td><td>hard disk drives              </td><td>disk controller card             </td><td>controller card st506/st412 </td><td>st506/st412 interface. supports   </td><td>drives 16 heads                           </td><td>card st506/st412 interface.        </td><td>o o o                            </td><td>inches max resolution:                       </td><td>16 heads 2048                                     </td><td>interface. supports 2                      </td><td>optional rom bios                   </td></tr>\n",
       "<tr><td style=\"text-align: right;\">         4</td><td>| | |                                                                                                                                       </td><td>32 32 32                             </td><td>25 mhz operational                    </td><td>heat sink cpu                     </td><td>cheers, / h+                  </td><td>mhz operational heat             </td><td>operational heat sink       </td><td>o o o                             </td><td>x x x                                     </td><td>/ h+ jon                           </td><td>h+ jon w{tte,                    </td><td>jon w{tte, h+@nada.kth.se,                   </td><td>w{tte, h+@nada.kth.se, mac                        </td><td>h+@nada.kth.se, mac hacker                 </td><td>mac hacker deluxe                   </td></tr>\n",
       "<tr><td style=\"text-align: right;\">         5</td><td>x / x                                                                                                                                       </td><td>x x /                                </td><td>/ x char                              </td><td>x } x                             </td><td>x} x x/                       </td><td>oname, eof_not_ok); x            </td><td>} x x                       </td><td>stream / x                        </td><td>x x/ x                                    </td><td>/ x int                            </td><td>file / x                         </td><td>file stream /                                </td><td>x check_io(output, oname,                         </td><td>check_io(output, oname, eof_not_ok);       </td><td>available anonymous ftp             </td></tr>\n",
       "<tr><td style=\"text-align: right;\">         6</td><td>. . .                                                                                                                                       </td><td>1 (signed liefeld,                   </td><td>(signed liefeld, bagged,              </td><td>xforce 1 (signed                  </td><td>(2 copies) $2                 </td><td>2001 tie in)                     </td><td>star trek generation        </td><td>trek generation 1                 </td><td>comics near mint                          </td><td>1 copy left!!!)                    </td><td>copy left!!!) $2                 </td><td>(armegedon 2001 tie                          </td><td>tie in) $1                                        </td><td>1 (1st app                                 </td><td>(ron lim art,                       </td></tr>\n",
       "<tr><td style=\"text-align: right;\">         7</td><td>| | |                                                                                                                                       </td><td>/ / /                                </td><td>/ | /                                 </td><td>| / |                             </td><td>/ /__ __/                     </td><td>/ ___ /                          </td><td>___ / /                     </td><td>/ \\ /                             </td><td>. . .                                     </td><td>don&#x27;t know any.                    </td><td>. / larry                        </td><td>/ larry __/                                  </td><td>larry __/ _______/_                               </td><td>__/ _______/_ keys@csmes.ncsl.nist.gov     </td><td>_______/_ keys@csmes.ncsl.nist.gov /</td></tr>\n",
       "<tr><td style=\"text-align: right;\">         8</td><td>===== dod #8177                                                                                                                             </td><td>dod #8177 =                          </td><td>#8177 = technician(dr.                </td><td>= technician(dr. speed)           </td><td>technician(dr. speed) .not.   </td><td>speed) .not. student             </td><td>.not. student =====         </td><td>biker) dod 1069                   </td><td>dod 1069 concise                          </td><td>1069 concise oxford                </td><td>gmt wibbled: :                   </td><td>. . .                                        </td><td>tom coradeschi +                                  </td><td>coradeschi + tcora@pica.army.mil           </td><td>: : :                               </td></tr>\n",
       "<tr><td style=\"text-align: right;\">         9</td><td>0 0 0                                                                                                                                       </td><td>cubs suck cubs                       </td><td>suck cubs suck                        </td><td>dale j. stephenson                </td><td>j. stephenson ||              </td><td>stephenson || (steph@cs.uiuc.edu)</td><td>|| (steph@cs.uiuc.edu) ||   </td><td>mike jones |                      </td><td>jones | aix                               </td><td>| aix highend                      </td><td>aix highend development          </td><td>highend development |                        </td><td>development | mjones@donald.aix.kingston.ibm.com  </td><td>(steph@cs.uiuc.edu) || baseball            </td><td>|| baseball fanatic                 </td></tr>\n",
       "<tr><td style=\"text-align: right;\">        10</td><td>0 0 0                                                                                                                                       </td><td>0 1 1                                </td><td>1 0 1                                 </td><td>1 0 0                             </td><td>2 2 2                         </td><td>2 0 0                            </td><td>1 1 0                       </td><td>1 1 2                             </td><td>0 2 2                                     </td><td>0 1 0                              </td><td>3 0 0                            </td><td>scorer g pts                                 </td><td>0 0 1                                             </td><td>0 0 2                                      </td><td>! ! !                               </td></tr>\n",
       "<tr><td style=\"text-align: right;\">        11</td><td>available anonymous ftp                                                                                                                     </td><td>. . .                                </td><td>law enforcement agencies              </td><td>; ; ;                             </td><td>s1]; s2]; s1]                 </td><td>security key escrow              </td><td>national institute standards</td><td>law enforcement block             </td><td>begin pgp signed                          </td><td>pgp signed message                 </td><td>begin pgp signature              </td><td>pgp signature version:                       </td><td>signature version: 2.2                            </td><td>electronic frontier foundation             </td><td>law enforcement agency              </td></tr>\n",
       "<tr><td style=\"text-align: right;\">        12</td><td>| | |                                                                                                                                       </td><td>dave medinphone:(205) 7303169        </td><td>medinphone:(205) 7303169 (w)          </td><td>7303169 (w) ssdnetworking(205)    </td><td>(w) ssdnetworking(205) 8371174</td><td>ssdnetworking(205) 8371174 (h)   </td><td>8371174 (h) intergraph      </td><td>(h) intergraph corp.              </td><td>intergraph corp. m/s                      </td><td>corp. m/s gd3004                   </td><td>m/s gd3004 internet:             </td><td>gd3004 internet: dtmedin@catbyte.b30.ingr.com</td><td>internet: dtmedin@catbyte.b30.ingr.com huntsville,</td><td>dtmedin@catbyte.b30.ingr.com huntsville, al</td><td>huntsville, al 35894uucp:           </td></tr>\n",
       "<tr><td style=\"text-align: right;\">        13</td><td>hicnet medical newsletter                                                                                                                   </td><td>medical newsletter page              </td><td>volume 6, number                      </td><td>gordon banks n3jxp                </td><td>banks n3jxp |                 </td><td>n3jxp | &quot;skepticism              </td><td>| &quot;skepticism chastity      </td><td>&quot;skepticism chastity intellect,   </td><td>chastity intellect, geb@cadre.dsl.pitt.edu</td><td>intellect, geb@cadre.dsl.pitt.edu |</td><td>geb@cadre.dsl.pitt.edu | shameful</td><td>| shameful surrender                         </td><td>shameful surrender soon.&quot;                         </td><td>6, number 11                               </td><td>number 11 april                     </td></tr>\n",
       "<tr><td style=\"text-align: right;\">        14</td><td>| | |                                                                                                                                       </td><td>available anonymous ftp              </td><td>&quot;insisting perfect safety             </td><td>perfect safety people             </td><td>safety people don&#x27;t           </td><td>people don&#x27;t balls               </td><td>don&#x27;t balls live            </td><td>balls live real                   </td><td>live real world.&quot;                         </td><td>real world.&quot; mary                  </td><td>world.&quot; mary shafer,             </td><td>mary shafer, nasa                            </td><td>shafer, nasa ames                                 </td><td>nasa ames dryden                           </td><td>space shuttle program               </td></tr>\n",
       "<tr><td style=\"text-align: right;\">        15</td><td>_/ _/ _/                                                                                                                                    </td><td>: : :                                </td><td>father, son, holy                     </td><td>larry overacker (llo@shell.com)   </td><td>r r oo                        </td><td>dead sea scrolls                 </td><td>_/_/_/_/ _/ _/              </td><td>: r r                             </td><td>r oo oo                                   </td><td>oo oo b                            </td><td>b b :                            </td><td>/ / /                                        </td><td>c. s. lewis                                       </td><td>bernadette did know                        </td><td>b : r                               </td></tr>\n",
       "<tr><td style=\"text-align: right;\">        16</td><td>right bear arms                                                                                                                             </td><td>right people bear                    </td><td>new england journal                   </td><td>title 18, united                  </td><td>18, united states             </td><td>united states code,              </td><td>. . .                       </td><td>dave feustel n9myi                </td><td>feustel n9myi feustel@netcom.com          </td><td>necessary security free            </td><td>times likely used                </td><td>[ ... ]                                      </td><td>/ iftccu:talk.politics.guns /                     </td><td>people bear arms,                          </td><td>amend title 18,                     </td></tr>\n",
       "<tr><td style=\"text-align: right;\">        17</td><td>. . .                                                                                                                                       </td><td>genocide 2.5 million                 </td><td>2.5 million muslim                    </td><td>professor history, university     </td><td>xsoviet armenian government   </td><td>| | |                            </td><td>center policy research      </td><td>adam shostack adam@das.harvard.edu</td><td>armenians did slaughter                   </td><td>armenian genocide 2.5              </td><td>adam adam shostack               </td><td>2.5 million turks                            </td><td>from: center policy                               </td><td>policy research cpr                        </td><td>research cpr subject:               </td></tr>\n",
       "<tr><td style=\"text-align: right;\">        18</td><td># # #                                                                                                                                       </td><td>senior administration official:      </td><td>mr. stephanopoulos: don&#x27;t             </td><td>mr. stephanopoulos: think         </td><td>mr. stephanopoulos: well,     </td><td>ms. myers: think                 </td><td>q dee dee,                  </td><td>white house office                </td><td>house office press                        </td><td>office press secretary             </td><td>ms. myers: don&#x27;t                 </td><td>immediate release april                      </td><td>q mr. president,                                  </td><td>stephanopoulos: don&#x27;t know                 </td><td>ms. myers: no,                      </td></tr>\n",
       "<tr><td style=\"text-align: right;\">        19</td><td>. . .                                                                                                                                       </td><td>general unified theory               </td><td>day christmas truelove                </td><td>christmas truelove served         </td><td>truelove served me...         </td><td>(promised messiah, p.            </td><td>physicist dewey b.          </td><td>unified theory physical           </td><td>comprehensive general unified             </td><td>_/ _/ _/                           </td><td>[ deleted ]                      </td><td>english lexicon new                          </td><td>late physicist dewey                              </td><td>| | |                                      </td><td>vol 1, 11,                          </td></tr>\n",
       "</tbody>\n",
       "</table>"
      ],
      "text/plain": [
       "<IPython.core.display.HTML object>"
      ]
     },
     "metadata": {},
     "output_type": "display_data"
    }
   ],
   "source": [
    "trigrams = ngram_counter(df, 3)\n",
    "n_gram_by_category(trigrams, 15)"
   ]
  },
  {
   "cell_type": "code",
   "execution_count": 142,
   "metadata": {},
   "outputs": [
    {
     "data": {
      "text/plain": [
       "0"
      ]
     },
     "execution_count": 142,
     "metadata": {},
     "output_type": "execute_result"
    }
   ],
   "source": [
    "del unigrams, bigrams, trigrams\n",
    "gc.collect()"
   ]
  },
  {
   "cell_type": "markdown",
   "metadata": {},
   "source": [
    "We can see there are some dirty data's that could be cleaned out. Particularly, one thought that it might be due to the `xxunk` threshold setting too high. Perhaps we could lower it. And we can see there are some things like hash tags, ||, emails, unknown stuffs (n3jxp) that exists inside, that one thinks should be removed when cleaning data. "
   ]
  },
  {
   "cell_type": "markdown",
   "metadata": {},
   "source": [
    "## Further cleaning of `xxunk` threshold. \n",
    "Previously, we set the threshold to 0.25, but there are still some bad data. Let's look at 0.1 threshold. And we shall do this again with our unigram, bigrams, and trigrams and see how it works. "
   ]
  },
  {
   "cell_type": "code",
   "execution_count": 143,
   "metadata": {},
   "outputs": [],
   "source": [
    "temp_y = all_y[choice < 0.25]\n",
    "temp_choice = choice[choice < 0.25]"
   ]
  },
  {
   "cell_type": "code",
   "execution_count": 144,
   "metadata": {},
   "outputs": [
    {
     "data": {
      "text/plain": [
       "array([ 2,  9, 12, 10,  2, 13,  4,  2,  6, 14,  9,  7, 13,  2,  9,  2,  4,\n",
       "        2,  4,  5,  2,  6, 18])"
      ]
     },
     "execution_count": 144,
     "metadata": {},
     "output_type": "execute_result"
    }
   ],
   "source": [
    "temp_y[temp_choice > 0.2]  # 0.2 threshold. "
   ]
  },
  {
   "cell_type": "code",
   "execution_count": 140,
   "metadata": {},
   "outputs": [
    {
     "data": {
      "text/html": [
       "<div>\n",
       "<style scoped>\n",
       "    .dataframe tbody tr th:only-of-type {\n",
       "        vertical-align: middle;\n",
       "    }\n",
       "\n",
       "    .dataframe tbody tr th {\n",
       "        vertical-align: top;\n",
       "    }\n",
       "\n",
       "    .dataframe thead th {\n",
       "        text-align: right;\n",
       "    }\n",
       "</style>\n",
       "<table border=\"1\" class=\"dataframe\">\n",
       "  <thead>\n",
       "    <tr style=\"text-align: right;\">\n",
       "      <th></th>\n",
       "      <th>text</th>\n",
       "      <th>category</th>\n",
       "      <th>word_count</th>\n",
       "      <th>line_count</th>\n",
       "      <th>stop_word_count</th>\n",
       "    </tr>\n",
       "  </thead>\n",
       "  <tbody>\n",
       "    <tr>\n",
       "      <th>126</th>\n",
       "      <td>I had a similar problem  try changing the netmask to 0.0.0.0 or 255.255.254.0</td>\n",
       "      <td>2</td>\n",
       "      <td>13</td>\n",
       "      <td>1</td>\n",
       "      <td>6</td>\n",
       "    </tr>\n",
       "    <tr>\n",
       "      <th>1796</th>\n",
       "      <td>Part 3 of 14  M\"`@(\"`@(\"`@(\"`@(\"`@(G.3DY.3DY.3DY.3DY.3DY.3DY.3DY.2#IJ:FIJ:F M@^3DY.3DG.OKZZNKJZOKZYSDY.2#IJ9$BRYB(C$!\"(H#YM.LISRGSV#HZ MRG/8]CVW8.MC8V#KRLIS.M@Z]C]C8V,HZ.FW.MAMWSW,Z\\IM M;J6]@\\RD%M\\IM\"`@(\"`@(\"`@(\"`@```\"\"$Q.\"`\"MAFYN;/JZ(N;GBZ@ M/IN;\"I\\7]1?@0HFYN;FSX^/J\"@KJZNB(CN;FYN;:VN;FYN;FYN;FY/#Q% MW3S==]W1W3S=17?=/$5%=]UW147117?=W7?==W=W=]W=T7=WW=W==X6%W=UW M0(5`0W==W?==X710W=A4!WW=V%A=W==]U`2=U)=]UW=W=W=]U`W2/=A85W M0W=A=V%W=%`T=UW0'?=T87=T7=W=T\"%=W=WT='==W=WA=W1T7?=A='=W=%W M1=W=W7\\T=W=W44\\/$\\1=W=W=U%=T5%T=W1W=W=T3P\\/W=/#S=T3Q%/$\\ M/%%T=$\\W3S1/'=/U%W3Q%1=W=W=W=/W=/$71/T\\W=T\\W45WW45%...</td>\n",
       "      <td>2</td>\n",
       "      <td>962</td>\n",
       "      <td>1</td>\n",
       "      <td>5</td>\n",
       "    </tr>\n",
       "    <tr>\n",
       "      <th>2689</th>\n",
       "      <td>MAX'AX'AX'AX'AX'AX'AX'AX'AX'AX'AX'AX'AX'AX'AX' MAX'AX'AX'AX',3'$9F8+\"Z5'1]_?W]_?WWIZBHJBHJBHJBHJGIZ MGIZGIZBHJGIZM_?1TEI0L+\"V9F9F9FR,A_?W_(5Z(46Q04%%=75VO4 MU34U34U`(\"`@(\"`@(\"`M34?W]_?]#084O#%%O`.#AUG@&amp;$`0$Y.?518)0&amp; MC#`P8V5555555555965@HWGV`7]?7U%Q?GY^?GP!@45$&amp;2G:VBDIGIZ' MAX'AX'AX'AX'AX'AX'AX'AX'AX'AX'AX'AX'AX'AX'AX' MAX'AX'AX'34T2P'HP$2$A+!P'!P1(2$A)34U34TM,)11];6UM;6 MUM8[(3N^AX'AX'AX'AX'AX?$9@NE1]]ZBJ[`SW2&amp;;!3[8LTQ7%9V=G M9V=G9V=G9V=G9V=GQ4TBXN+B^WM4U.P&amp;7'2TCT]F0.[D+9C&amp;'AX'AX' MAX'AX'AX'AX'AX'AX'AVYAA`$DF&amp;IJH\"NKJZ(B(B(WP0N;:VMK:V MMK:VN=R(KJ0M+2W:AX'AX'AX'AX'AX'AX'AX'AX'AX'AX'AX' MS^K...</td>\n",
       "      <td>2</td>\n",
       "      <td>958</td>\n",
       "      <td>1</td>\n",
       "      <td>3</td>\n",
       "    </tr>\n",
       "    <tr>\n",
       "      <th>4362</th>\n",
       "      <td>Due to the resolution and size it is in 14 parts.  This is a uuencoded bitmap.  960X600 256 colors. The picture is a marbled gazebo on a desert with blue sky background. The size is just right for centered wallpaper on a 1024x768 display because it leaves a border at the bottom just big enough for icons to fit in without being on top of the picture. Reguarding image quality and resolution  I have not seen much better.  For those of you who haven't worked with pieced image files, here is how to put it back together. 1. save the 14 parts to 14 individual files 2. use a text editor to remove ...</td>\n",
       "      <td>2</td>\n",
       "      <td>1131</td>\n",
       "      <td>1</td>\n",
       "      <td>94</td>\n",
       "    </tr>\n",
       "    <tr>\n",
       "      <th>4569</th>\n",
       "      <td>The host file requires the names that you'll be using in addition to the ip address  sucb as  100.0.0.1 name.server.name 100.2.2.1 name.router.name</td>\n",
       "      <td>2</td>\n",
       "      <td>22</td>\n",
       "      <td>1</td>\n",
       "      <td>8</td>\n",
       "    </tr>\n",
       "    <tr>\n",
       "      <th>4864</th>\n",
       "      <td>[...]     ~~~~~~~~~~~~~~~~~~~~~~~~~~~~~~~~  [...]  My Problem: I wasn't aware of the fact that I would need an SCSICDROM for Windows NT when ordering the BetaSDKPackage. So my question: Is there any driver available that will allow me to use my Mitsumi (NonSCSI) CDROM for installation ? If there is one, from which place (ftpsite) can I get it ?  Many thanks in advance  Stefan Kuehnel       /\\  Stefan K\"uhnel   |      |/   kuehnel@rvs.unihannover.de      |\\   kuehnel@swl.unihannover.de (neu ab. 17.04.1993)   |   \\/     Die oben wiedergegebene Meinung ist meine private und nicht die        ...</td>\n",
       "      <td>2</td>\n",
       "      <td>98</td>\n",
       "      <td>1</td>\n",
       "      <td>33</td>\n",
       "    </tr>\n",
       "    <tr>\n",
       "      <th>5006</th>\n",
       "      <td>Part 11 of 14  MR1865%22DM75U=75U4)\"0IV=G9V=G9V=G9V=G9V=G9V=G9V=G9V=G9V=G9V= MG9V=G9V=G9V=G9V=G9V=G9V=G9V=G9V=G9V=G9V=G9V=G9V=G9V=G9V=G9V= MG9V=G9V=G9V=G9V=G9V=G9V=G9V=G9V=G9V=G9V=G9V=G9V=G9V=G9V=G9V= MG9V=0M75U=625!;)B8E,3`]G9S2+[WM4QD]F07EXJWZ5F,8'AX'AX' MAX'AX'AX'AX'AX'AX'AX'AX'AX'AX'AX'AX'AX'AX'AX' MAX'AX'AX'AX'AX'AX'AX'AX'AX'AX'AX'AX'AX'AX'AX' MAX'AX'AX'AX'AX'AX'AX'AX'AX'AX'AX'AX'AX'AX'AX' MAX'AX'AX'AX'AX'AX'AX'AX'AX'AX'AX'AX'AX'AX'AX' MAX'AXQ9J5ZNP.9F3V9F9F9F3W2TG%Q&amp;1FPL%3[WM[WM[53L+!3L+`9 M&amp;1D9&amp;7%Q7%Q7%Q&amp;7'2TCT]/=+2TM+2TM+2/3T]/3T]/=+2TG%QTCV9F0,# M`P7EZ[N[LJGIZW]]'1Z6EI0L+9F9F9F...</td>\n",
       "      <td>2</td>\n",
       "      <td>962</td>\n",
       "      <td>1</td>\n",
       "      <td>5</td>\n",
       "    </tr>\n",
       "    <tr>\n",
       "      <th>5385</th>\n",
       "      <td>Part 14 of 14  M1D9&amp;;\"P4U/M[V+BXN+#0T#0TQ33%Q6=G9V=G#P\\/#P\\/9V?%Q7%Q30T M#0T#0TBXOM[WM4U.PL+\"P&amp;1D9&amp;1D9&amp;1D9&amp;1D9&amp;1D9&amp;1D9&amp;1D97%Q7$9 M&amp;7%Q7%Q=+2TCT]/9F9F0,#7EYN[N[BHJGIZW]_?W]_?W]]'1T='I:6E MI4='I:6E\"PL+\"V9FQ,0Q,8'AX'AX'AX'AX'AX'AX'AX'AS$Q,3$ MQ&amp;9F9F9F\"PL+\"PL+I:6EI:6EI4='1T='1T='W]_?GIZBJ[N[N[NUY`P.9 MF3W21D9&amp;;\"P4U/M[8N+#0T#0T#0T#0T#0T,7%Q7%9V=G9V=G9P\\/ M#TQ,3$Q,3(F)B8F)B8F)B8F)B8F)B8F)B8F)B4Q,3$Q,3$Q,3`\\/9\\7%Q4T M(N+[;`9=(]F0NRIZWT='I0MF9L3$,8'AX'AX'AX'AX'AX'AX' MAX'AX'AX'AX'AX'AX'AX'AX'AX'AX'AX'AX'AX'AX'AX' MAX'AX'AX'AX'AX'AX'AX'AX'AX'AX'AX'AX'AX'AX'AX' MAX'AX'AX'AX'AX'AX'AX'AX'AX'AX'AX'A...</td>\n",
       "      <td>2</td>\n",
       "      <td>455</td>\n",
       "      <td>1</td>\n",
       "      <td>5</td>\n",
       "    </tr>\n",
       "    <tr>\n",
       "      <th>6119</th>\n",
       "      <td>From article a4Fm3B1w165w@vicuna.ocunix.on.ca, by Steve Frampton frampton@vicuna.ocunix.on.ca:  Yes!  In the usual ftp sites.</td>\n",
       "      <td>2</td>\n",
       "      <td>13</td>\n",
       "      <td>1</td>\n",
       "      <td>4</td>\n",
       "    </tr>\n",
       "    <tr>\n",
       "      <th>6235</th>\n",
       "      <td>Pardonon, mi ofte konfuzigxas pri \"mola\" kaj \"malmola\".  Do: \"molvara\"?       (I was confused between \"soft\" and \"hard\", as in \"software\".)</td>\n",
       "      <td>2</td>\n",
       "      <td>20</td>\n",
       "      <td>1</td>\n",
       "      <td>5</td>\n",
       "    </tr>\n",
       "    <tr>\n",
       "      <th>6858</th>\n",
       "      <td>Part 2 of 14  M0./CXT!)27M)X^)X^/CBN/C24E[X^.X^/CX^.X^,RBN.,HKC,GOC,N[ MBC)[XS(R6'OC3C)[XJ,EA.BNS+GBE@R6(KSYXKSBHI86$Y.Y^R\\_8 MY_/SYS/CT[S\\X_S3N/C^/CX_S\\UA.Y_/SC_./C_8C_./C_/GCX^/Y_./ M\\X_SCX^/\\_./C_/S\\_./\\X^/\\X^/CX_SCX^/C_./CX^/\\X^/C_./CX^/CX^/ M\\X^OC_./\\X^/C_./CX_SCX_S\\X^/\\_./CX^/\\X_SCX_SCX^/CX^/CX^/C_./ MCX^/CX_SCX^/C_./CX\\ORI&amp;1RI$Z0KD2\\O.MC8.CK.D$ZRCKV#I!V,IM M;K.CK;3HZ0=C8V&amp;UMV,KRCHZ.MC8;7/RG!RCK8.LIS.FW8V#K;3I! M.LHZ.CHO+T$Z.CK+SIMRCK8+T'.CI!V,KV#HOD9&amp;1.CHO+SHZ08;.CHZ M:9$ZAI$Z+SHZAD$ORI$Z.B\\ZQR^&amp;:6EIACK'D9&amp;1+SHZQY&amp;&amp;D9&amp;1:2^1:2_' MALOQR_'D1QX;'D89IQ\\1D;^&amp;:?'QY&amp;&amp;QY$U:6G'QVF1:=I:89IAK...</td>\n",
       "      <td>2</td>\n",
       "      <td>962</td>\n",
       "      <td>1</td>\n",
       "      <td>5</td>\n",
       "    </tr>\n",
       "    <tr>\n",
       "      <th>7435</th>\n",
       "      <td>It sounds like something/one may have set the 1000's separator to \".\" in Contol Panel (under International).  This makes 23,482 look like 23.482 and File Manager is chopping off what it thinks is the decimal part of the file size. 3,356,345 becomes 3.356.345, and again, File Manager is confused by the decimal points where there should be commas, chopping off everything to the right of the first period.    Tony DeBari          FQDN: tonyd@ssc60.sbwk.nj.us     CI$: 73117,452                      UUCP: ...!uunet!ssc60!tonyd      P: GHRW14B</td>\n",
       "      <td>2</td>\n",
       "      <td>78</td>\n",
       "      <td>1</td>\n",
       "      <td>33</td>\n",
       "    </tr>\n",
       "    <tr>\n",
       "      <th>7715</th>\n",
       "      <td>BBS number 5102262365</td>\n",
       "      <td>2</td>\n",
       "      <td>3</td>\n",
       "      <td>1</td>\n",
       "      <td>0</td>\n",
       "    </tr>\n",
       "    <tr>\n",
       "      <th>7814</th>\n",
       "      <td>Part 13 of 14  MTM(]/3V9F07EY7EZ[N[LJGK?W]]'1TEI:6EI:6E1T='1Z4+I:5'1Z4+ M\"V;$Q#&amp;'AX'AX'AX'AX'AX'AX'AX'AX'AX'AX'AX'AX'AX' MAX'AX'AX'AX'AX'AX'AX'AX'AX'AX'AX'AX'AX'AX'AX' MAX'AX'AX'AX'AX'AX'AX'AX'AX'AX'AX'AX'AX'AX'AX' MAX'AX'AX'AX'AX'AX'AX'AX'AX'AX'AX'AX'AX'AX'AX' MAX'AX'AX'AX'AX'AX'AX'AX'AX'AX'AX'AX'AX'AX'AX' MAX'AX'AX'AX'AX'AX'AX'AX'AX'AX'AX'AX'AX'AX'AX' MAX'AX'AX'AX'AX'AX'AX'AX'AX'AX'AX'AX'AX'AX'AX' MAX'AX'AX'AX'AX'AX'AX'AX'AX'AX'AX'AX'AX'AX'AX' MAX'AX'AX'AX'AX'AX'AX'AX'AX'AX'AX'AX'AX'AS%F9@L+ MI4='WWJ[`YD]TM+21D9L%/MBS3%9P],3$R)B8F)B8F)B8F)B8F)B8E,3$P/ M9\\4TB^U3&amp;7$]F0GK?1Z4+9C&amp;'AX'AX'A...</td>\n",
       "      <td>2</td>\n",
       "      <td>962</td>\n",
       "      <td>1</td>\n",
       "      <td>5</td>\n",
       "    </tr>\n",
       "    <tr>\n",
       "      <th>8039</th>\n",
       "      <td>I had a question abo</td>\n",
       "      <td>2</td>\n",
       "      <td>5</td>\n",
       "      <td>1</td>\n",
       "      <td>3</td>\n",
       "    </tr>\n",
       "    <tr>\n",
       "      <th>8206</th>\n",
       "      <td>John White from STAC Electronics can be reached at compuserv as 72370,1005. For me 72370.1005@compuserve.com would as email address work from Internet.   internet: ffritze@hpwbe007.wad.hp.com phone:    Germany 7243 602296 address:  Fromut FRITZE, Waldbronn Analytic Division R&amp;D,   Hewlett Packard Str, D 7517 Waldbronn 2, Germany</td>\n",
       "      <td>2</td>\n",
       "      <td>43</td>\n",
       "      <td>1</td>\n",
       "      <td>10</td>\n",
       "    </tr>\n",
       "    <tr>\n",
       "      <th>8437</th>\n",
       "      <td>Part 7 of 14  MI:6EI:6EI:6EI:6EI:6EI:6EI:6EI4='1T='1T='1T='I:6EI:6EI:6EI0L+ M\"PL+\"PL+\"PL+\"PL+\"PL+I:6EI:6E1T='1T='W]_?W]]ZGHJBJ[NUY`P,# M`YF9F9D]/3T]/9F9F07KN[N[N[7EX#`P.9F9F'AX'AX'AX'AX'AX' MAX'AX'AX'AX'AX'AX'AX'AX'AX'AX'AX'AX'AX'AX'AX' MAX'AX'AX'AX'AX'AX'AX'AX'AX'AX'AX'AX'AX'AX'AX' MAX'AX'AX'AX'AX'AX'AX'AX'AX'AX'AX'AX'AX'AX'AX' MAX'AX'AX'AX'AX'AX'AX'AX'AX'AX'AX'AX'AX'AX'AX' MAX'AX'AX'AX'AX'AX'AX'AX'AX'AX'AX'AX'AX'AX'AX' MASC`P,!;;L`X.$O#P\\!;`M2YYK9:5]3/R%?/`A2JKB+L._$^AX'AX'AX' MAX=75\\@%2J##=4V^,\"F,N)P]5%1JZ$D61DOF1D9(ST!H'AX'AX'AX' MAX'AX'AX'AX'AX'AX'AX'AX'AX'AX'AVPVT_%N2IJL8YMD9#OQ M(...</td>\n",
       "      <td>2</td>\n",
       "      <td>962</td>\n",
       "      <td>1</td>\n",
       "      <td>5</td>\n",
       "    </tr>\n",
       "    <tr>\n",
       "      <th>9126</th>\n",
       "      <td>Been messin roun progman.ini have ye?  I'm gessing you've been \"tuning\" the system, that's the only way I can remember getting a blank screen from CTRLESC.... when one of the PROGMAN.INI parameters was twinked to 0 or 3, can't remember.  I've never seen Win 3 do something like that on  her own, Captain.</td>\n",
       "      <td>2</td>\n",
       "      <td>53</td>\n",
       "      <td>1</td>\n",
       "      <td>23</td>\n",
       "    </tr>\n",
       "    <tr>\n",
       "      <th>9423</th>\n",
       "      <td>Part 8 of 14  MAX'AX'AX'AX'AYZ8=#0T\"L!A%(!]#0T\"4E)N;@+(U,C(;CZ;1/3 MTXUIH?4JH!75\\B`P2&amp;((F[JZ$/Q[/&amp;J3;YJ+2WE\"3T0:4E,SUAX'AY\\ MFYL^/J\"@PR4E)=#0T\"4E2VY+)1$1D&amp;[4U34U34AX'AX'AX'AX'AX' MAX'AX'AX'AX'AX'AX'AXY824E%!17@$JN%!1(;GO?NKHM:=:6FQ MKNSL\\3ND\\QJ+2F'AX'AX&amp;!UM8DFYL^/CZ@B+40B`^/IN;FYN;)24E)6%A MT#0T!A)25+P\\/#L#`P%L45U?R(#@AX'AX'AX'AX'AX'AX'AX' MAX'AX'AX'AX'AX'AX'AX'AX'AX'AX'AX'AX'AX'AX'AX' MAX'AX'AX'AX'AX'AX'AX'AX'AX'AX'AX'AX'AX'AX'AX' MAX'AX'AX'AX'AX'AX'AX'AX'AX'AX'AX'AX'AX'AX'AX' MAX'AX'AX'AX'AX'AX'AX'AX'AX'AX'AX'AX'AX'AX'AX' MAX'AX'AX'AX'AX'AX'AX'AX'AX'AX'AX'AX'AX'AX'AX' MAX'AX'AX'AX'AX'A...</td>\n",
       "      <td>2</td>\n",
       "      <td>962</td>\n",
       "      <td>1</td>\n",
       "      <td>5</td>\n",
       "    </tr>\n",
       "    <tr>\n",
       "      <th>10474</th>\n",
       "      <td>From article 1993May15.091822.14174@lth.se, by knut@tts.lth.se (Ake Knutsson):    Put ProgMan (with the hotkey) in your StartUp group. Should do it.</td>\n",
       "      <td>2</td>\n",
       "      <td>19</td>\n",
       "      <td>1</td>\n",
       "      <td>8</td>\n",
       "    </tr>\n",
       "    <tr>\n",
       "      <th>11015</th>\n",
       "      <td>You do not need the SDK. What you need (and can get free) are  Location: ftp.cica.indiana.edu index:      /pub/pc/win3/INDEX  First get /pub/pc/win3/uploads/what.zip (~1.3M) This contains the help compiler among other things. It is free from Microsoft.  Then get these (I think these are free too)  dir:/pub/pc/win3/programr files:  hag.zip, whag.zip wfwhlp.zip  These are shareware  dir:    /pub/pc/win3/util files:hwab21.zip, qdhelp.zip, qdtool.zip  dir:/pub/pc/win3/winword files:drhelpev.zip (macros for word 2.0 to convert doc to hlp files).   Shiva Shenoy                           ...</td>\n",
       "      <td>2</td>\n",
       "      <td>82</td>\n",
       "      <td>1</td>\n",
       "      <td>29</td>\n",
       "    </tr>\n",
       "    <tr>\n",
       "      <th>11900</th>\n",
       "      <td>Part 10 of 14  M:J\"U$$,^UM[WE/M[V+BXN+BXN+BXN+BXOM[U34U34[\"PL!D97'2TM+2 M/3T]/3T]F9F9`P,#7EYNRIZWT='I0MFQ#&amp;'AX'AX'AX'AX'AX'AX' MAX'AX'AX'AX'AX'AX'AX'AX'AX'AX'AX'AX'AX'AX'AX' MAX'AX'AX'AX'AX'AX'AX'AX'AX'AX'AX'AX'AX'AX'AX' MAX'AX'AX'AX'AX'AX'AX'AX'AX'AX'AX'AX'AX'AX'AX' MAX'AX'AX'AX'AX=34U34U3[WM[8N+(LT#3%Q4T#0T,7%#2+ M[53L+\"P4U34U34U34U34U3[V+BXN+BS0TQ6=G#P],3$Q,3(F)B8G) MRF)B8F)B8F)B8F)R8F)B4Q,3$Q,#P]G9\\7%Q6=G9V=GQ6/#TQ,B8F)RG) MR1865%14DI2DI+5U=75U=75U=75U=75U=75DI2DI2DE145%145%145%14 M5%145%145%145%145%145%145%145%145%145%145%145%145%145%145%06 M%A86%A86%A86%A86%A86%LG)RG/HENCV=G9MG94M...</td>\n",
       "      <td>2</td>\n",
       "      <td>962</td>\n",
       "      <td>1</td>\n",
       "      <td>5</td>\n",
       "    </tr>\n",
       "    <tr>\n",
       "      <th>12019</th>\n",
       "      <td>Part 12 of 14  MAX'AX'AX'AX'AX'AX'AX'AX'AX'AX'AX'AX'AX'AX'AX' MAX'AX'AX'AX'AX'AX'AX'AX'AX'AX'AX'AX'AX'AX'AX' MAX'AX'AX'AX'AX'AX'AX'AX'AX'AX'AX'AX'AX'AX'AX' MAX'AX'AX'AX'AX'AX'AX'AX'AX'AX'AX'AX'AX'AX'AX' MAX',3$9@L+I:5'W]_?W]_?W]_?GIZBJ[N[M7EY7EY7@,#`P,#`P M`P,#`PBHJKN[N[M`P,#`PNRHJBIZ1PMF,8'AX'AX'AX'AX' MAX'AX'AX'AX'AX'AX'AX'AX'AX'AX'AX'AX'AX'AX'AX' MAX'AX'AX'AX'AX'AX'AX'AX'AX'AX'AX'AX'AX'AX'AX' MAX'AX'AX'AX'AX'AX'AX'AX'AX'AX'AX'AX'AX'AX'AX' MAX'AX'AX'AX'AX'AX'AX'AX'AX'AX'AX'AX'AX'AX'AX' MAX'AX'AX'AX'AX'AX'AX'AX'AX'AX'AX'AX'AX'AX'AX' MAX'AX'AX'AX'AX'AX'AX'AX'AX'AX'AX'AX'AX'AX'AX' MAX'AX'...</td>\n",
       "      <td>2</td>\n",
       "      <td>962</td>\n",
       "      <td>1</td>\n",
       "      <td>5</td>\n",
       "    </tr>\n",
       "    <tr>\n",
       "      <th>12273</th>\n",
       "      <td>I'm using BC++'s ObjectWindows (3.1), trying to resond to the left button double click message WM_LBUTTONDBLCLK in a combo box. My codes look like:  class MyComboBox : public TComboBox { public: MyComboBox(PTWindowsObject AParent, int ResourceId, WORD ATextLen) : TComboBox(AParent, ResourceId, ATextLen) {}; virtual void WMLButtonDblClk(RTMessage Msg) = [WM_FIRST + WM_LBUTTONDBLCLK]; };  void MyComboBox::WMLButtonDblClk(RTMessage Msg) { ...// responding to the message (selecting the item in the list box) }  Anything wrong with my program? Any help would be appreciated.</td>\n",
       "      <td>2</td>\n",
       "      <td>78</td>\n",
       "      <td>1</td>\n",
       "      <td>17</td>\n",
       "    </tr>\n",
       "    <tr>\n",
       "      <th>12624</th>\n",
       "      <td>Part 6 of 14  MAZ)75U=7R!1KP\"5A8=F`7;UG)\\&amp;V0&amp;YZW5&amp;$'Z]M;T0AX'AX'AX' MAX=7HLAL(;7(5U\\,MEIH@$H^,#\",4&amp;?8%'U#6#,V`W!H'AX'AX'AX' MAX'AX'AX'AX'AX'AX'AX'AX'AX'AX'A[0E9:0E97PM8]8M9#MH M6CNL]%&amp;'AX'AX'AX'AX'AUL4SU=7Z/V&amp;U2X!!:6M3BYK7L:.QTZ#Q M[/%#\\SL[.R'AX'A\\!$%$:U`Q7S]1_S\\BB%!2B5Q2'AX'AX'AX'AX' MAX'AX'AX'AX'AX'AX'AX'AX'AX'AX'AX'AX'AX'AX'A\\\"@ M`B'Q(DCQ[$H=L;FGO;5:X('AXJ\"]75\\B`P;Z@,\"X@^&amp;?S%$JPV?P;K MH9\\WS!=@XQAX'AS'$9@L+I4=ZBJ[P#9U)5L4`LA75P);V6$KGJEXE53 M[V+BXN+BXN+BXN+BXLT,7%#0T#0T#0T#0TBXN+[WM4[\"PSU?/@$H, M5\\](8AH:(#!0]QH:&amp;S30QVQ:$,0L;&amp;([/%'1T='W]_?W]_?W]^I=3:F:JQ2 M`2NTOJYN#N`0:.SP99LI])0GGV!1%X...</td>\n",
       "      <td>2</td>\n",
       "      <td>962</td>\n",
       "      <td>1</td>\n",
       "      <td>5</td>\n",
       "    </tr>\n",
       "    <tr>\n",
       "      <th>14473</th>\n",
       "      <td>Brandon Wise bwise@nyx.cs.du.edu</td>\n",
       "      <td>2</td>\n",
       "      <td>3</td>\n",
       "      <td>1</td>\n",
       "      <td>0</td>\n",
       "    </tr>\n",
       "    <tr>\n",
       "      <th>15159</th>\n",
       "      <td>My suggestion would be to contact Microsoft about the Video4Windows SDK. You would need to call Developer Services at (800)2274679 extension 11771 from 6:30am to 5:30pm Pacific time.</td>\n",
       "      <td>2</td>\n",
       "      <td>28</td>\n",
       "      <td>1</td>\n",
       "      <td>13</td>\n",
       "    </tr>\n",
       "    <tr>\n",
       "      <th>15608</th>\n",
       "      <td>Hallo !  ebosco@us.oracle.com wrote on 28.04.93 about : emm386 and windows   eVon : ebosco@us.oracle.com (Mi, 28.04.93 18:03) eName: Eric Bosco  [...] eShould I use emm386 or should I remove it from my config.sys?  Basically: Windows prefers extendend memory instead of expanded (more work to do for Win) and if no application desperatly needs EMS, you should leave emm386 with a \"REM\" in your config.sys.  Bye,     Chris</td>\n",
       "      <td>2</td>\n",
       "      <td>66</td>\n",
       "      <td>1</td>\n",
       "      <td>23</td>\n",
       "    </tr>\n",
       "    <tr>\n",
       "      <th>15794</th>\n",
       "      <td>I also had a simular problem with by NEC P7, it went away when I turned on the \"print directly to parallel port\" option in the printer setup apallette.      Mencsh tract und Gott lacht</td>\n",
       "      <td>2</td>\n",
       "      <td>34</td>\n",
       "      <td>1</td>\n",
       "      <td>14</td>\n",
       "    </tr>\n",
       "    <tr>\n",
       "      <th>17127</th>\n",
       "      <td>Here's an interesting table showing how much resources an application uses and how much it gives back on shut down.  This is take from Windows User May 1993 issue:   ApplicationMin. Resource UseResource Not Returned GDIUSERGDIUSER  WinSleuth Gold v3.03106214 Word For Windows v2.0b10050 Lotus 123 v1.113332 Arts and Leters v3.127731 PowerPoint v3.09130 Corel Draw v3.010630 Micro. Designer v3.110220 CrossTalk v2.00000 Excel v4.0a11800 HiJacck v1.02200 ImageIn Color Pro3200 PIcture Publisher v3.121800 PowerLeads!   Executive Ed. v1.030500 Adobe Type Manager v2.510NANA Skylight v2.01000  The nu...</td>\n",
       "      <td>2</td>\n",
       "      <td>146</td>\n",
       "      <td>1</td>\n",
       "      <td>53</td>\n",
       "    </tr>\n",
       "    <tr>\n",
       "      <th>17828</th>\n",
       "      <td>Iuj el \".ie\" (kiu lando?) demandis pri \"bitmap\"oj, kaj iu el \".fi\" (Finnlando) respondis, dirante pri libro en \"Software Development Kit\".  Eble, la demandinto ne havas la \"elvolvilo por malmolvaroj\".       (That was Esperanto.)       (Some from \".ie\" asked about bitmaps, and some from \".fi\" responded, saying about a book int the \"Software Development Kit\".  Possibly, the asker does not have the development kit.)</td>\n",
       "      <td>2</td>\n",
       "      <td>62</td>\n",
       "      <td>1</td>\n",
       "      <td>13</td>\n",
       "    </tr>\n",
       "    <tr>\n",
       "      <th>18232</th>\n",
       "      <td>IFrom: ccastco@prism.gatech.EDU (Costas Malamas) ssupports pkzip 2.04.  It does NOT require pkz/unzip in order to work, and  ccosts only $10 to register.</td>\n",
       "      <td>2</td>\n",
       "      <td>22</td>\n",
       "      <td>1</td>\n",
       "      <td>7</td>\n",
       "    </tr>\n",
       "  </tbody>\n",
       "</table>\n",
       "</div>"
      ],
      "text/plain": [
       "                                                                                                                                                                                                                                                                                                                                                                                                                                                                                                                                                                                                                          text  \\\n",
       "126                                                                                                                                                                                                                                                                                                                                                                                                                                                                                                                                              I had a similar problem  try changing the netmask to 0.0.0.0 or 255.255.254.0   \n",
       "1796     Part 3 of 14  M\"`@(\"`@(\"`@(\"`@(\"`@(G.3DY.3DY.3DY.3DY.3DY.3DY.3DY.2#IJ:FIJ:F M@^3DY.3DG.OKZZNKJZOKZYSDY.2#IJ9$BRYB(C$!\"(H#YM.LISRGSV#HZ MRG/8]CVW8.MC8V#KRLIS.M@Z]C]C8V,HZ.FW.MAMWSW,Z\\IM M;J6]@\\RD%M\\IM\"`@(\"`@(\"`@(\"`@```\"\"$Q.\"`\"MAFYN;/JZ(N;GBZ@ M/IN;\"I\\7]1?@0HFYN;FSX^/J\"@KJZNB(CN;FYN;:VN;FYN;FYN;FY/#Q% MW3S==]W1W3S=17?=/$5%=]UW147117?=W7?==W=W=]W=T7=WW=W==X6%W=UW M0(5`0W==W?==X710W=A4!WW=V%A=W==]U`2=U)=]UW=W=W=]U`W2/=A85W M0W=A=V%W=%`T=UW0'?=T87=T7=W=T\"%=W=WT='==W=WA=W1T7?=A='=W=%W M1=W=W7\\T=W=W44\\/$\\1=W=W=U%=T5%T=W1W=W=T3P\\/W=/#S=T3Q%/$\\ M/%%T=$\\W3S1/'=/U%W3Q%1=W=W=W=/W=/$71/T\\W=T\\W45WW45%...   \n",
       "2689   MAX'AX'AX'AX'AX'AX'AX'AX'AX'AX'AX'AX'AX'AX'AX' MAX'AX'AX'AX',3'$9F8+\"Z5'1]_?W]_?WWIZBHJBHJBHJBHJGIZ MGIZGIZBHJGIZM_?1TEI0L+\"V9F9F9FR,A_?W_(5Z(46Q04%%=75VO4 MU34U34U`(\"`@(\"`@(\"`M34?W]_?]#084O#%%O`.#AUG@&$`0$Y.?518)0& MC#`P8V5555555555965@HWGV`7]?7U%Q?GY^?GP!@45$&2G:VBDIGIZ' MAX'AX'AX'AX'AX'AX'AX'AX'AX'AX'AX'AX'AX'AX'AX' MAX'AX'AX'34T2P'HP$2$A+!P'!P1(2$A)34U34TM,)11];6UM;6 MUM8[(3N^AX'AX'AX'AX'AX?$9@NE1]]ZBJ[`SW2&;!3[8LTQ7%9V=G M9V=G9V=G9V=G9V=GQ4TBXN+B^WM4U.P&7'2TCT]F0.[D+9C&'AX'AX' MAX'AX'AX'AX'AX'AX'AVYAA`$DF&IJH\"NKJZ(B(B(WP0N;:VMK:V MMK:VN=R(KJ0M+2W:AX'AX'AX'AX'AX'AX'AX'AX'AX'AX'AX' MS^K...   \n",
       "4362   Due to the resolution and size it is in 14 parts.  This is a uuencoded bitmap.  960X600 256 colors. The picture is a marbled gazebo on a desert with blue sky background. The size is just right for centered wallpaper on a 1024x768 display because it leaves a border at the bottom just big enough for icons to fit in without being on top of the picture. Reguarding image quality and resolution  I have not seen much better.  For those of you who haven't worked with pieced image files, here is how to put it back together. 1. save the 14 parts to 14 individual files 2. use a text editor to remove ...   \n",
       "4569                                                                                                                                                                                                                                                                                                                                                                                                                                                                       The host file requires the names that you'll be using in addition to the ip address  sucb as  100.0.0.1 name.server.name 100.2.2.1 name.router.name   \n",
       "4864    [...]     ~~~~~~~~~~~~~~~~~~~~~~~~~~~~~~~~  [...]  My Problem: I wasn't aware of the fact that I would need an SCSICDROM for Windows NT when ordering the BetaSDKPackage. So my question: Is there any driver available that will allow me to use my Mitsumi (NonSCSI) CDROM for installation ? If there is one, from which place (ftpsite) can I get it ?  Many thanks in advance  Stefan Kuehnel       /\\  Stefan K\"uhnel   |      |/   kuehnel@rvs.unihannover.de      |\\   kuehnel@swl.unihannover.de (neu ab. 17.04.1993)   |   \\/     Die oben wiedergegebene Meinung ist meine private und nicht die        ...   \n",
       "5006      Part 11 of 14  MR1865%22DM75U=75U4)\"0IV=G9V=G9V=G9V=G9V=G9V=G9V=G9V=G9V=G9V= MG9V=G9V=G9V=G9V=G9V=G9V=G9V=G9V=G9V=G9V=G9V=G9V=G9V=G9V=G9V= MG9V=G9V=G9V=G9V=G9V=G9V=G9V=G9V=G9V=G9V=G9V=G9V=G9V=G9V=G9V= MG9V=0M75U=625!;)B8E,3`]G9S2+[WM4QD]F07EXJWZ5F,8'AX'AX' MAX'AX'AX'AX'AX'AX'AX'AX'AX'AX'AX'AX'AX'AX'AX' MAX'AX'AX'AX'AX'AX'AX'AX'AX'AX'AX'AX'AX'AX'AX' MAX'AX'AX'AX'AX'AX'AX'AX'AX'AX'AX'AX'AX'AX'AX' MAX'AX'AX'AX'AX'AX'AX'AX'AX'AX'AX'AX'AX'AX'AX' MAX'AXQ9J5ZNP.9F3V9F9F9F3W2TG%Q&1FPL%3[WM[WM[53L+!3L+`9 M&1D9&7%Q7%Q7%Q&7'2TCT]/=+2TM+2TM+2/3T]/3T]/=+2TG%QTCV9F0,# M`P7EZ[N[LJGIZW]]'1Z6EI0L+9F9F9F...   \n",
       "5385      Part 14 of 14  M1D9&;\"P4U/M[V+BXN+#0T#0TQ33%Q6=G9V=G#P\\/#P\\/9V?%Q7%Q30T M#0T#0TBXOM[WM4U.PL+\"P&1D9&1D9&1D9&1D9&1D9&1D9&1D97%Q7$9 M&7%Q7%Q=+2TCT]/9F9F0,#7EYN[N[BHJGIZW]_?W]_?W]]'1T='I:6E MI4='I:6E\"PL+\"V9FQ,0Q,8'AX'AX'AX'AX'AX'AX'AX'AS$Q,3$ MQ&9F9F9F\"PL+\"PL+I:6EI:6EI4='1T='1T='W]_?GIZBJ[N[N[NUY`P.9 MF3W21D9&;\"P4U/M[8N+#0T#0T#0T#0T#0T,7%Q7%9V=G9V=G9P\\/ M#TQ,3$Q,3(F)B8F)B8F)B8F)B8F)B8F)B8F)B4Q,3$Q,3$Q,3`\\/9\\7%Q4T M(N+[;`9=(]F0NRIZWT='I0MF9L3$,8'AX'AX'AX'AX'AX'AX' MAX'AX'AX'AX'AX'AX'AX'AX'AX'AX'AX'AX'AX'AX'AX' MAX'AX'AX'AX'AX'AX'AX'AX'AX'AX'AX'AX'AX'AX'AX' MAX'AX'AX'AX'AX'AX'AX'AX'AX'AX'AX'A...   \n",
       "6119                                                                                                                                                                                                                                                                                                                                                                                                                                                                                             From article a4Fm3B1w165w@vicuna.ocunix.on.ca, by Steve Frampton frampton@vicuna.ocunix.on.ca:  Yes!  In the usual ftp sites.   \n",
       "6235                                                                                                                                                                                                                                                                                                                                                                                                                                                                               Pardonon, mi ofte konfuzigxas pri \"mola\" kaj \"malmola\".  Do: \"molvara\"?       (I was confused between \"soft\" and \"hard\", as in \"software\".)   \n",
       "6858     Part 2 of 14  M0./CXT!)27M)X^)X^/CBN/C24E[X^.X^/CX^.X^,RBN.,HKC,GOC,N[ MBC)[XS(R6'OC3C)[XJ,EA.BNS+GBE@R6(KSYXKSBHI86$Y.Y^R\\_8 MY_/SYS/CT[S\\X_S3N/C^/CX_S\\UA.Y_/SC_./C_8C_./C_/GCX^/Y_./ M\\X_SCX^/\\_./C_/S\\_./\\X^/\\X^/CX_SCX^/C_./CX^/\\X^/C_./CX^/CX^/ M\\X^OC_./\\X^/C_./CX_SCX_S\\X^/\\_./CX^/\\X_SCX_SCX^/CX^/CX^/C_./ MCX^/CX_SCX^/C_./CX\\ORI&1RI$Z0KD2\\O.MC8.CK.D$ZRCKV#I!V,IM M;K.CK;3HZ0=C8V&UMV,KRCHZ.MC8;7/RG!RCK8.LIS.FW8V#K;3I! M.LHZ.CHO+T$Z.CK+SIMRCK8+T'.CI!V,KV#HOD9&1.CHO+SHZ08;.CHZ M:9$ZAI$Z+SHZAD$ORI$Z.B\\ZQR^&:6EIACK'D9&1+SHZQY&&D9&1:2^1:2_' MALOQR_'D1QX;'D89IQ\\1D;^&:?'QY&&QY$U:6G'QVF1:=I:89IAK...   \n",
       "7435                                                            It sounds like something/one may have set the 1000's separator to \".\" in Contol Panel (under International).  This makes 23,482 look like 23.482 and File Manager is chopping off what it thinks is the decimal part of the file size. 3,356,345 becomes 3.356.345, and again, File Manager is confused by the decimal points where there should be commas, chopping off everything to the right of the first period.    Tony DeBari          FQDN: tonyd@ssc60.sbwk.nj.us     CI$: 73117,452                      UUCP: ...!uunet!ssc60!tonyd      P: GHRW14B   \n",
       "7715                                                                                                                                                                                                                                                                                                                                                                                                                                                                                                                                                                                                     BBS number 5102262365   \n",
       "7814      Part 13 of 14  MTM(]/3V9F07EY7EZ[N[LJGK?W]]'1TEI:6EI:6E1T='1Z4+I:5'1Z4+ M\"V;$Q#&'AX'AX'AX'AX'AX'AX'AX'AX'AX'AX'AX'AX'AX' MAX'AX'AX'AX'AX'AX'AX'AX'AX'AX'AX'AX'AX'AX'AX' MAX'AX'AX'AX'AX'AX'AX'AX'AX'AX'AX'AX'AX'AX'AX' MAX'AX'AX'AX'AX'AX'AX'AX'AX'AX'AX'AX'AX'AX'AX' MAX'AX'AX'AX'AX'AX'AX'AX'AX'AX'AX'AX'AX'AX'AX' MAX'AX'AX'AX'AX'AX'AX'AX'AX'AX'AX'AX'AX'AX'AX' MAX'AX'AX'AX'AX'AX'AX'AX'AX'AX'AX'AX'AX'AX'AX' MAX'AX'AX'AX'AX'AX'AX'AX'AX'AX'AX'AX'AX'AX'AX' MAX'AX'AX'AX'AX'AX'AX'AX'AX'AX'AX'AX'AX'AS%F9@L+ MI4='WWJ[`YD]TM+21D9L%/MBS3%9P],3$R)B8F)B8F)B8F)B8F)B8E,3$P/ M9\\4TB^U3&7$]F0GK?1Z4+9C&'AX'AX'A...   \n",
       "8039                                                                                                                                                                                                                                                                                                                                                                                                                                                                                                                                                                                                      I had a question abo   \n",
       "8206                                                                                                                                                                                                                                                                                John White from STAC Electronics can be reached at compuserv as 72370,1005. For me 72370.1005@compuserve.com would as email address work from Internet.   internet: ffritze@hpwbe007.wad.hp.com phone:    Germany 7243 602296 address:  Fromut FRITZE, Waldbronn Analytic Division R&D,   Hewlett Packard Str, D 7517 Waldbronn 2, Germany   \n",
       "8437     Part 7 of 14  MI:6EI:6EI:6EI:6EI:6EI:6EI:6EI4='1T='1T='1T='I:6EI:6EI:6EI0L+ M\"PL+\"PL+\"PL+\"PL+\"PL+I:6EI:6E1T='1T='W]_?W]]ZGHJBJ[NUY`P,# M`YF9F9D]/3T]/9F9F07KN[N[N[7EX#`P.9F9F'AX'AX'AX'AX'AX' MAX'AX'AX'AX'AX'AX'AX'AX'AX'AX'AX'AX'AX'AX'AX' MAX'AX'AX'AX'AX'AX'AX'AX'AX'AX'AX'AX'AX'AX'AX' MAX'AX'AX'AX'AX'AX'AX'AX'AX'AX'AX'AX'AX'AX'AX' MAX'AX'AX'AX'AX'AX'AX'AX'AX'AX'AX'AX'AX'AX'AX' MAX'AX'AX'AX'AX'AX'AX'AX'AX'AX'AX'AX'AX'AX'AX' MASC`P,!;;L`X.$O#P\\!;`M2YYK9:5]3/R%?/`A2JKB+L._$^AX'AX'AX' MAX=75\\@%2J##=4V^,\"F,N)P]5%1JZ$D61DOF1D9(ST!H'AX'AX'AX' MAX'AX'AX'AX'AX'AX'AX'AX'AX'AX'AVPVT_%N2IJL8YMD9#OQ M(...   \n",
       "9126                                                                                                                                                                                                                                                                                                          Been messin roun progman.ini have ye?  I'm gessing you've been \"tuning\" the system, that's the only way I can remember getting a blank screen from CTRLESC.... when one of the PROGMAN.INI parameters was twinked to 0 or 3, can't remember.  I've never seen Win 3 do something like that on  her own, Captain.   \n",
       "9423     Part 8 of 14  MAX'AX'AX'AX'AYZ8=#0T\"L!A%(!]#0T\"4E)N;@+(U,C(;CZ;1/3 MTXUIH?4JH!75\\B`P2&((F[JZ$/Q[/&J3;YJ+2WE\"3T0:4E,SUAX'AY\\ MFYL^/J\"@PR4E)=#0T\"4E2VY+)1$1D&[4U34U34AX'AX'AX'AX'AX' MAX'AX'AX'AX'AX'AX'AXY824E%!17@$JN%!1(;GO?NKHM:=:6FQ MKNSL\\3ND\\QJ+2F'AX'AX&!UM8DFYL^/CZ@B+40B`^/IN;FYN;)24E)6%A MT#0T!A)25+P\\/#L#`P%L45U?R(#@AX'AX'AX'AX'AX'AX'AX' MAX'AX'AX'AX'AX'AX'AX'AX'AX'AX'AX'AX'AX'AX'AX' MAX'AX'AX'AX'AX'AX'AX'AX'AX'AX'AX'AX'AX'AX'AX' MAX'AX'AX'AX'AX'AX'AX'AX'AX'AX'AX'AX'AX'AX'AX' MAX'AX'AX'AX'AX'AX'AX'AX'AX'AX'AX'AX'AX'AX'AX' MAX'AX'AX'AX'AX'AX'AX'AX'AX'AX'AX'AX'AX'AX'AX' MAX'AX'AX'AX'AX'A...   \n",
       "10474                                                                                                                                                                                                                                                                                                                                                                                                                                                                     From article 1993May15.091822.14174@lth.se, by knut@tts.lth.se (Ake Knutsson):    Put ProgMan (with the hotkey) in your StartUp group. Should do it.   \n",
       "11015          You do not need the SDK. What you need (and can get free) are  Location: ftp.cica.indiana.edu index:      /pub/pc/win3/INDEX  First get /pub/pc/win3/uploads/what.zip (~1.3M) This contains the help compiler among other things. It is free from Microsoft.  Then get these (I think these are free too)  dir:/pub/pc/win3/programr files:  hag.zip, whag.zip wfwhlp.zip  These are shareware  dir:    /pub/pc/win3/util files:hwab21.zip, qdhelp.zip, qdtool.zip  dir:/pub/pc/win3/winword files:drhelpev.zip (macros for word 2.0 to convert doc to hlp files).   Shiva Shenoy                           ...   \n",
       "11900     Part 10 of 14  M:J\"U$$,^UM[WE/M[V+BXN+BXN+BXN+BXOM[U34U34[\"PL!D97'2TM+2 M/3T]/3T]F9F9`P,#7EYNRIZWT='I0MFQ#&'AX'AX'AX'AX'AX'AX' MAX'AX'AX'AX'AX'AX'AX'AX'AX'AX'AX'AX'AX'AX'AX' MAX'AX'AX'AX'AX'AX'AX'AX'AX'AX'AX'AX'AX'AX'AX' MAX'AX'AX'AX'AX'AX'AX'AX'AX'AX'AX'AX'AX'AX'AX' MAX'AX'AX'AX'AX=34U34U3[WM[8N+(LT#3%Q4T#0T,7%#2+ M[53L+\"P4U34U34U34U34U3[V+BXN+BS0TQ6=G#P],3$Q,3(F)B8G) MRF)B8F)B8F)B8F)R8F)B4Q,3$Q,#P]G9\\7%Q6=G9V=GQ6/#TQ,B8F)RG) MR1865%14DI2DI+5U=75U=75U=75U=75U=75DI2DI2DE145%145%145%14 M5%145%145%145%145%145%145%145%145%145%145%145%145%145%145%06 M%A86%A86%A86%A86%A86%LG)RG/HENCV=G9MG94M...   \n",
       "12019    Part 12 of 14  MAX'AX'AX'AX'AX'AX'AX'AX'AX'AX'AX'AX'AX'AX'AX' MAX'AX'AX'AX'AX'AX'AX'AX'AX'AX'AX'AX'AX'AX'AX' MAX'AX'AX'AX'AX'AX'AX'AX'AX'AX'AX'AX'AX'AX'AX' MAX'AX'AX'AX'AX'AX'AX'AX'AX'AX'AX'AX'AX'AX'AX' MAX',3$9@L+I:5'W]_?W]_?W]_?GIZBJ[N[M7EY7EY7@,#`P,#`P M`P,#`PBHJKN[N[M`P,#`PNRHJBIZ1PMF,8'AX'AX'AX'AX' MAX'AX'AX'AX'AX'AX'AX'AX'AX'AX'AX'AX'AX'AX'AX' MAX'AX'AX'AX'AX'AX'AX'AX'AX'AX'AX'AX'AX'AX'AX' MAX'AX'AX'AX'AX'AX'AX'AX'AX'AX'AX'AX'AX'AX'AX' MAX'AX'AX'AX'AX'AX'AX'AX'AX'AX'AX'AX'AX'AX'AX' MAX'AX'AX'AX'AX'AX'AX'AX'AX'AX'AX'AX'AX'AX'AX' MAX'AX'AX'AX'AX'AX'AX'AX'AX'AX'AX'AX'AX'AX'AX' MAX'AX'...   \n",
       "12273                           I'm using BC++'s ObjectWindows (3.1), trying to resond to the left button double click message WM_LBUTTONDBLCLK in a combo box. My codes look like:  class MyComboBox : public TComboBox { public: MyComboBox(PTWindowsObject AParent, int ResourceId, WORD ATextLen) : TComboBox(AParent, ResourceId, ATextLen) {}; virtual void WMLButtonDblClk(RTMessage Msg) = [WM_FIRST + WM_LBUTTONDBLCLK]; };  void MyComboBox::WMLButtonDblClk(RTMessage Msg) { ...// responding to the message (selecting the item in the list box) }  Anything wrong with my program? Any help would be appreciated.   \n",
       "12624    Part 6 of 14  MAZ)75U=7R!1KP\"5A8=F`7;UG)\\&V0&YZW5&$'Z]M;T0AX'AX'AX' MAX=7HLAL(;7(5U\\,MEIH@$H^,#\",4&?8%'U#6#,V`W!H'AX'AX'AX' MAX'AX'AX'AX'AX'AX'AX'AX'AX'AX'A[0E9:0E97PM8]8M9#MH M6CNL]%&'AX'AX'AX'AX'AUL4SU=7Z/V&U2X!!:6M3BYK7L:.QTZ#Q M[/%#\\SL[.R'AX'A\\!$%$:U`Q7S]1_S\\BB%!2B5Q2'AX'AX'AX'AX' MAX'AX'AX'AX'AX'AX'AX'AX'AX'AX'AX'AX'AX'AX'A\\\"@ M`B'Q(DCQ[$H=L;FGO;5:X('AXJ\"]75\\B`P;Z@,\"X@^&?S%$JPV?P;K MH9\\WS!=@XQAX'AS'$9@L+I4=ZBJ[P#9U)5L4`LA75P);V6$KGJEXE53 M[V+BXN+BXN+BXN+BXLT,7%#0T#0T#0T#0TBXN+[WM4[\"PSU?/@$H, M5\\](8AH:(#!0]QH:&S30QVQ:$,0L;&([/%'1T='W]_?W]_?W]^I=3:F:JQ2 M`2NTOJYN#N`0:.SP99LI])0GGV!1%X...   \n",
       "14473                                                                                                                                                                                                                                                                                                                                                                                                                                                                                                                                                                                      Brandon Wise bwise@nyx.cs.du.edu      \n",
       "15159                                                                                                                                                                                                                                                                                                                                                                                                                                 My suggestion would be to contact Microsoft about the Video4Windows SDK. You would need to call Developer Services at (800)2274679 extension 11771 from 6:30am to 5:30pm Pacific time.     \n",
       "15608                                                                                                                                                                                   Hallo !  ebosco@us.oracle.com wrote on 28.04.93 about : emm386 and windows   eVon : ebosco@us.oracle.com (Mi, 28.04.93 18:03) eName: Eric Bosco  [...] eShould I use emm386 or should I remove it from my config.sys?  Basically: Windows prefers extendend memory instead of expanded (more work to do for Win) and if no application desperatly needs EMS, you should leave emm386 with a \"REM\" in your config.sys.  Bye,     Chris    \n",
       "15794                                                                                                                                                                                                                                                                                                                                                                                                                                 I also had a simular problem with by NEC P7, it went away when I turned on the \"print directly to parallel port\" option in the printer setup apallette.      Mencsh tract und Gott lacht   \n",
       "17127  Here's an interesting table showing how much resources an application uses and how much it gives back on shut down.  This is take from Windows User May 1993 issue:   ApplicationMin. Resource UseResource Not Returned GDIUSERGDIUSER  WinSleuth Gold v3.03106214 Word For Windows v2.0b10050 Lotus 123 v1.113332 Arts and Leters v3.127731 PowerPoint v3.09130 Corel Draw v3.010630 Micro. Designer v3.110220 CrossTalk v2.00000 Excel v4.0a11800 HiJacck v1.02200 ImageIn Color Pro3200 PIcture Publisher v3.121800 PowerLeads!   Executive Ed. v1.030500 Adobe Type Manager v2.510NANA Skylight v2.01000  The nu...   \n",
       "17828                                                                                                                                                                                         Iuj el \".ie\" (kiu lando?) demandis pri \"bitmap\"oj, kaj iu el \".fi\" (Finnlando) respondis, dirante pri libro en \"Software Development Kit\".  Eble, la demandinto ne havas la \"elvolvilo por malmolvaroj\".       (That was Esperanto.)       (Some from \".ie\" asked about bitmaps, and some from \".fi\" responded, saying about a book int the \"Software Development Kit\".  Possibly, the asker does not have the development kit.)   \n",
       "18232                                                                                                                                                                                                                                                                                                                                                                                                                                                               IFrom: ccastco@prism.gatech.EDU (Costas Malamas) ssupports pkzip 2.04.  It does NOT require pkz/unzip in order to work, and  ccosts only $10 to register.    \n",
       "\n",
       "      category  word_count  line_count  stop_word_count  \n",
       "126          2          13           1                6  \n",
       "1796         2         962           1                5  \n",
       "2689         2         958           1                3  \n",
       "4362         2        1131           1               94  \n",
       "4569         2          22           1                8  \n",
       "4864         2          98           1               33  \n",
       "5006         2         962           1                5  \n",
       "5385         2         455           1                5  \n",
       "6119         2          13           1                4  \n",
       "6235         2          20           1                5  \n",
       "6858         2         962           1                5  \n",
       "7435         2          78           1               33  \n",
       "7715         2           3           1                0  \n",
       "7814         2         962           1                5  \n",
       "8039         2           5           1                3  \n",
       "8206         2          43           1               10  \n",
       "8437         2         962           1                5  \n",
       "9126         2          53           1               23  \n",
       "9423         2         962           1                5  \n",
       "10474        2          19           1                8  \n",
       "11015        2          82           1               29  \n",
       "11900        2         962           1                5  \n",
       "12019        2         962           1                5  \n",
       "12273        2          78           1               17  \n",
       "12624        2         962           1                5  \n",
       "14473        2           3           1                0  \n",
       "15159        2          28           1               13  \n",
       "15608        2          66           1               23  \n",
       "15794        2          34           1               14  \n",
       "17127        2         146           1               53  \n",
       "17828        2          62           1               13  \n",
       "18232        2          22           1                7  "
      ]
     },
     "execution_count": 140,
     "metadata": {},
     "output_type": "execute_result"
    }
   ],
   "source": [
    "m = df[temp_choice > 0.1]  # 0.1 threshold. \n",
    "m[m.category == 2]  # Let's deal with category 2 for the max'ax'ax... stuff. "
   ]
  },
  {
   "cell_type": "markdown",
   "metadata": {},
   "source": [
    "We see that there are some that may be interesting already (that contains proper english although still have some numbers, etc, and some even have some Spanish?? )\n",
    "\n",
    "Use back the same variable if you are running out of memory. "
   ]
  },
  {
   "cell_type": "code",
   "execution_count": 145,
   "metadata": {},
   "outputs": [
    {
     "data": {
      "text/plain": [
       "18451"
      ]
     },
     "execution_count": 145,
     "metadata": {},
     "output_type": "execute_result"
    }
   ],
   "source": [
    "df_pointone = df[temp_choice < 0.1].reset_index(level=0, drop=True)\n",
    "len(df_pointone)"
   ]
  },
  {
   "cell_type": "code",
   "execution_count": 147,
   "metadata": {},
   "outputs": [
    {
     "data": {
      "application/vnd.jupyter.widget-view+json": {
       "model_id": "863662f441664123848ca5b229ea2031",
       "version_major": 2,
       "version_minor": 0
      },
      "text/plain": [
       "  0%|          | 0/20 [00:00<?, ?it/s]"
      ]
     },
     "metadata": {},
     "output_type": "display_data"
    },
    {
     "data": {
      "text/html": [
       "<table>\n",
       "<thead>\n",
       "<tr><th style=\"text-align: right;\">  category</th><th>0      </th><th>1       </th><th>2         </th><th>3      </th><th>4         </th><th>5     </th><th>6        </th><th>7        </th><th>8      </th><th>9              </th><th>10       </th><th>11      </th><th>12      </th><th>13        </th><th>14       </th></tr>\n",
       "</thead>\n",
       "<tbody>\n",
       "<tr><td style=\"text-align: right;\">         0</td><td>:      </td><td>don&#x27;t   </td><td>people    </td><td>god    </td><td>just      </td><td>think </td><td>does     </td><td>#        </td><td>believe</td><td>like           </td><td>say      </td><td>it&#x27;s    </td><td>know    </td><td>make      </td><td>i&#x27;m      </td></tr>\n",
       "<tr><td style=\"text-align: right;\">         1</td><td>image  </td><td>jpeg    </td><td>:         </td><td>file   </td><td>graphics  </td><td>use   </td><td>available</td><td>data     </td><td>like   </td><td>images         </td><td>software </td><td>program </td><td>does    </td><td>don&#x27;t     </td><td>it&#x27;s     </td></tr>\n",
       "<tr><td style=\"text-align: right;\">         2</td><td>windows</td><td>file    </td><td>use       </td><td>dos    </td><td>:         </td><td>like  </td><td>just     </td><td>using    </td><td>don&#x27;t  </td><td>know           </td><td>does     </td><td>files   </td><td>run     </td><td>it&#x27;s      </td><td>program  </td></tr>\n",
       "<tr><td style=\"text-align: right;\">         3</td><td>:      </td><td>drive   </td><td>scsi      </td><td>use    </td><td>card      </td><td>does  </td><td>just     </td><td>know     </td><td>disk   </td><td>like           </td><td>hard     </td><td>ide     </td><td>i&#x27;m     </td><td>controller</td><td>drives   </td></tr>\n",
       "<tr><td style=\"text-align: right;\">         4</td><td>mac    </td><td>apple   </td><td>just      </td><td>does   </td><td>know      </td><td>use   </td><td>like     </td><td>drive    </td><td>i&#x27;m    </td><td>don&#x27;t          </td><td>problem  </td><td>new     </td><td>need    </td><td>|         </td><td>hard     </td></tr>\n",
       "<tr><td style=\"text-align: right;\">         5</td><td>x      </td><td>/       </td><td>=         </td><td>use    </td><td>window    </td><td>file  </td><td>server   </td><td>using    </td><td>program</td><td>set            </td><td>available</td><td>does    </td><td>like    </td><td>{         </td><td>version  </td></tr>\n",
       "<tr><td style=\"text-align: right;\">         6</td><td>1      </td><td>$       </td><td>$1        </td><td>2      </td><td>new       </td><td>$2    </td><td>email    </td><td>.        </td><td>&amp;      </td><td>good           </td><td>asking   </td><td>like    </td><td>shipping</td><td>dos       </td><td>3        </td></tr>\n",
       "<tr><td style=\"text-align: right;\">         7</td><td>car    </td><td>just    </td><td>like      </td><td>don&#x27;t  </td><td>new       </td><td>know  </td><td>:        </td><td>cars     </td><td>think  </td><td>good           </td><td>it&#x27;s     </td><td>/       </td><td>i&#x27;m     </td><td>engine    </td><td>|        </td></tr>\n",
       "<tr><td style=\"text-align: right;\">         8</td><td>:      </td><td>bike    </td><td>just      </td><td>like   </td><td>don&#x27;t     </td><td>it&#x27;s  </td><td>i&#x27;m      </td><td>know     </td><td>dod    </td><td>good           </td><td>think    </td><td>ride    </td><td>make    </td><td>i&#x27;ve      </td><td>new      </td></tr>\n",
       "<tr><td style=\"text-align: right;\">         9</td><td>don&#x27;t  </td><td>1       </td><td>think     </td><td>just   </td><td>like      </td><td>0     </td><td>game     </td><td>good     </td><td>team   </td><td>2              </td><td>year     </td><td>hit     </td><td>3       </td><td>it&#x27;s      </td><td>better   </td></tr>\n",
       "<tr><td style=\"text-align: right;\">        10</td><td>0      </td><td>1       </td><td>2         </td><td>3      </td><td>4         </td><td>game  </td><td>5        </td><td>6        </td><td>7      </td><td>team           </td><td>hockey   </td><td>10      </td><td>think   </td><td>8         </td><td>just     </td></tr>\n",
       "<tr><td style=\"text-align: right;\">        11</td><td>key    </td><td>use     </td><td>encryption</td><td>db     </td><td>government</td><td>people</td><td>just     </td><td>don&#x27;t    </td><td>chip   </td><td>clipper        </td><td>like     </td><td>:       </td><td>security</td><td>know      </td><td>it&#x27;s     </td></tr>\n",
       "<tr><td style=\"text-align: right;\">        12</td><td>:      </td><td>|       </td><td>use       </td><td>like   </td><td>don&#x27;t     </td><td>just  </td><td>used     </td><td>know     </td><td>does   </td><td>power          </td><td>need     </td><td>it&#x27;s    </td><td>good    </td><td>i&#x27;m       </td><td>want     </td></tr>\n",
       "<tr><td style=\"text-align: right;\">        13</td><td>medical</td><td>don&#x27;t   </td><td>like      </td><td>use    </td><td>:         </td><td>know  </td><td>people   </td><td>health   </td><td>just   </td><td>|              </td><td>new      </td><td>patients</td><td>i&#x27;m     </td><td>it&#x27;s      </td><td>think    </td></tr>\n",
       "<tr><td style=\"text-align: right;\">        14</td><td>space  </td><td>like    </td><td>launch    </td><td>just   </td><td>nasa      </td><td>don&#x27;t </td><td>new      </td><td>shuttle  </td><td>data   </td><td>solar          </td><td>think    </td><td>it&#x27;s    </td><td>earth   </td><td>people    </td><td>time     </td></tr>\n",
       "<tr><td style=\"text-align: right;\">        15</td><td>god    </td><td>people  </td><td>think     </td><td>does   </td><td>jesus     </td><td>don&#x27;t </td><td>know     </td><td>believe  </td><td>just   </td><td>like           </td><td>church   </td><td>:       </td><td>say     </td><td>did       </td><td>christian</td></tr>\n",
       "<tr><td style=\"text-align: right;\">        16</td><td>gun    </td><td>people  </td><td>don&#x27;t     </td><td>:      </td><td>just      </td><td>like  </td><td>think    </td><td>file:    </td><td>fbi    </td><td>right          </td><td>guns     </td><td>did     </td><td>it&#x27;s    </td><td>government</td><td>know     </td></tr>\n",
       "<tr><td style=\"text-align: right;\">        17</td><td>people </td><td>armenian</td><td>.         </td><td>turkish</td><td>armenians </td><td>just  </td><td>israel   </td><td>like     </td><td>jews   </td><td>don&#x27;t          </td><td>said     </td><td>israeli </td><td>did     </td><td>know      </td><td>|        </td></tr>\n",
       "<tr><td style=\"text-align: right;\">        18</td><td>#      </td><td>q       </td><td>people    </td><td>think  </td><td>mr.       </td><td>don&#x27;t </td><td>it&#x27;s     </td><td>president</td><td>just   </td><td>stephanopoulos:</td><td>going    </td><td>know    </td><td>like    </td><td>government</td><td>did      </td></tr>\n",
       "<tr><td style=\"text-align: right;\">        19</td><td>god    </td><td>people  </td><td>jesus     </td><td>:      </td><td>don&#x27;t     </td><td>just  </td><td>think    </td><td>does     </td><td>know   </td><td>say            </td><td>like     </td><td>did     </td><td>bible   </td><td>believe   </td><td>good     </td></tr>\n",
       "</tbody>\n",
       "</table>"
      ],
      "text/plain": [
       "<IPython.core.display.HTML object>"
      ]
     },
     "metadata": {},
     "output_type": "display_data"
    }
   ],
   "source": [
    "unigrams = ngram_counter(df_pointone, 1)\n",
    "n_gram_by_category(unigrams, 15)"
   ]
  },
  {
   "cell_type": "markdown",
   "metadata": {},
   "source": [
    "Much better. "
   ]
  },
  {
   "cell_type": "code",
   "execution_count": 148,
   "metadata": {},
   "outputs": [
    {
     "data": {
      "application/vnd.jupyter.widget-view+json": {
       "model_id": "a8caf3bcc6194c208fb9e2bb29a47334",
       "version_major": 2,
       "version_minor": 0
      },
      "text/plain": [
       "  0%|          | 0/20 [00:00<?, ?it/s]"
      ]
     },
     "metadata": {},
     "output_type": "display_data"
    },
    {
     "data": {
      "text/html": [
       "<table>\n",
       "<thead>\n",
       "<tr><th style=\"text-align: right;\">  category</th><th>0                  </th><th>1                </th><th>2               </th><th>3              </th><th>4              </th><th>5               </th><th>6                 </th><th>7                  </th><th>8                    </th><th>9                   </th><th>10                                                                      </th><th>11                               </th><th>12                               </th><th>13                         </th><th>14                 </th></tr>\n",
       "</thead>\n",
       "<tbody>\n",
       "<tr><td style=\"text-align: right;\">         0</td><td>: |                </td><td># #              </td><td>don&#x27;t think     </td><td>don&#x27;t know     </td><td>: :            </td><td>don&#x27;t believe   </td><td>i&#x27;m sure          </td><td>. .                </td><td>god does             </td><td>cheers, kent        </td><td>/\\/\\/\\/\\/\\/\\/\\/\\/\\/\\/\\/\\/\\/\\/\\/\\/\\/\\/\\/\\/\\/\\/\\/\\/\\/\\/\\/\\/\\/\\/\\/\\/\\/\\ bob</td><td>bob beauchaine                   </td><td>beauchaine bobbe@vice.ico.tek.com</td><td>bobbe@vice.ico.tek.com said</td><td>said queens        </td></tr>\n",
       "<tr><td style=\"text-align: right;\">         1</td><td>image processing   </td><td>computer graphics</td><td>anonymous ftp   </td><td>24 bit         </td><td>source code    </td><td>                </td><td>image quality     </td><td>don&#x27;t know         </td><td>does know            </td><td>: :                 </td><td>free jpeg                                                               </td><td>available anonymous              </td><td>+ +                              </td><td>i&#x27;m looking                </td><td>i&#x27;m sure           </td></tr>\n",
       "<tr><td style=\"text-align: right;\">         2</td><td>windows 3.1        </td><td>_/ _/            </td><td>: :             </td><td>don&#x27;t know     </td><td>allocation unit</td><td>cross linked    </td><td>linked allocation </td><td>_ _                </td><td>windows nt           </td><td>does know           </td><td>swap file                                                               </td><td>run windows                      </td><td>dos 6                            </td><td>windows 3.1.               </td><td>ftp site           </td></tr>\n",
       "<tr><td style=\"text-align: right;\">         3</td><td>hard disk          </td><td>: :              </td><td>local bus       </td><td>controller card</td><td>rom bios       </td><td>disk drives     </td><td>don&#x27;t know        </td><td>hard drive         </td><td>floppy disk          </td><td>does know           </td><td>. .                                                                     </td><td>disk controller                  </td><td>_/ _/                            </td><td>tape drive                 </td><td>| |                </td></tr>\n",
       "<tr><td style=\"text-align: right;\">         4</td><td>does know          </td><td>| |              </td><td>hard drive      </td><td>don&#x27;t know     </td><td>hard disk      </td><td>25 mhz          </td><td>32 32             </td><td>heat sink          </td><td>centris 610          </td><td>power supply        </td><td>thanks advance.                                                         </td><td>i&#x27;m sure                         </td><td>(pc week                         </td><td>vv vv                      </td><td>mac ii             </td></tr>\n",
       "<tr><td style=\"text-align: right;\">         5</td><td>x x                </td><td>/ x              </td><td>x /             </td><td>x x/           </td><td>window manager </td><td>x char          </td><td>x }               </td><td>{ x                </td><td>x server             </td><td>x} x                </td><td>} x                                                                     </td><td>file /                           </td><td>open look                        </td><td>x window                   </td><td>oname, eof_not_ok);</td></tr>\n",
       "<tr><td style=\"text-align: right;\">         6</td><td>. .                </td><td>appears) $       </td><td>brand new       </td><td>best offer     </td><td>(1st app       </td><td>best offer.     </td><td>+ shipping        </td><td>$ 7.50             </td><td>hard drive           </td><td>(2 copies)          </td><td>incredible hulk                                                         </td><td>1 (signed                        </td><td>(signed liefeld,                 </td><td>liefeld, bagged,           </td><td>make offer.        </td></tr>\n",
       "<tr><td style=\"text-align: right;\">         7</td><td>/ /                </td><td>don&#x27;t know       </td><td>| |             </td><td>(send requests </td><td>: :            </td><td>| /             </td><td>\\ /               </td><td>/ |                </td><td>don&#x27;t think          </td><td>/ \\                 </td><td>i&#x27;m sure                                                                </td><td>i&#x27;d like                         </td><td>does know                        </td><td>consumer reports           </td><td>___ /              </td></tr>\n",
       "<tr><td style=\"text-align: right;\">         8</td><td>: :                </td><td>don&#x27;t know       </td><td>. .             </td><td>nick (the      </td><td>===== dod      </td><td>dod #8177       </td><td>#8177 =           </td><td>= technician(dr.   </td><td>technician(dr. speed)</td><td>speed) .not.        </td><td>.not. student                                                           </td><td>student =====                    </td><td>make sure                        </td><td>i&#x27;m sure                   </td><td>): :(              </td></tr>\n",
       "<tr><td style=\"text-align: right;\">         9</td><td>0 0                </td><td>won 1            </td><td>lost 1          </td><td>red sox        </td><td>new york       </td><td>don&#x27;t know      </td><td>don&#x27;t think       </td><td>| |                </td><td>cubs suck            </td><td>suck cubs           </td><td>major league                                                            </td><td>st. louis                        </td><td>los angeles                      </td><td>1 1                        </td><td>san francisco      </td></tr>\n",
       "<tr><td style=\"text-align: right;\">        10</td><td>0 0                </td><td>0 1              </td><td>1 1             </td><td>1 0            </td><td>2 2            </td><td>2 0             </td><td>0 2               </td><td>1 2                </td><td>3 0                  </td><td>2 1                 </td><td>2 3                                                                     </td><td>power play:                      </td><td>g pts                            </td><td>3 4                        </td><td>! !                </td></tr>\n",
       "<tr><td style=\"text-align: right;\">        11</td><td>law enforcement    </td><td>clipper chip     </td><td>public key      </td><td>serial number  </td><td>anonymous ftp  </td><td>&quot;clipper chip&quot;  </td><td>key escrow        </td><td>; ;                </td><td>don&#x27;t know           </td><td>. .                 </td><td>available anonymous                                                     </td><td>: :                              </td><td>encryption algorithm             </td><td>s1 s2                      </td><td>don&#x27;t think        </td></tr>\n",
       "<tr><td style=\"text-align: right;\">        12</td><td>| |                </td><td>: :              </td><td>don&#x27;t know      </td><td>does know      </td><td>i&#x27;ve seen      </td><td>copy protection </td><td>make sure         </td><td>i&#x27;d like           </td><td>radar detector       </td><td>i&#x27;ve got            </td><td>. .                                                                     </td><td>radio shack                      </td><td>power supply                     </td><td>r r                        </td><td>i&#x27;m looking        </td></tr>\n",
       "<tr><td style=\"text-align: right;\">        13</td><td>medical newsletter </td><td>hicnet medical   </td><td>newsletter page </td><td>volume 6,      </td><td>6, number      </td><td>gordon banks    </td><td>banks n3jxp       </td><td>n3jxp |            </td><td>| &quot;skepticism        </td><td>&quot;skepticism chastity</td><td>chastity intellect,                                                     </td><td>intellect, geb@cadre.dsl.pitt.edu</td><td>geb@cadre.dsl.pitt.edu |         </td><td>| shameful                 </td><td>shameful surrender </td></tr>\n",
       "<tr><td style=\"text-align: right;\">        14</td><td>space station      </td><td>space shuttle    </td><td>| |             </td><td>anonymous ftp  </td><td>don&#x27;t think    </td><td>commercial space</td><td>don&#x27;t know        </td><td>nasa ames          </td><td>remote sensing       </td><td>national space      </td><td>gamma ray                                                               </td><td>available anonymous              </td><td>people don&#x27;t                     </td><td>washington, dc             </td><td>i&#x27;m sure           </td></tr>\n",
       "<tr><td style=\"text-align: right;\">        15</td><td>don&#x27;t know         </td><td>holy spirit      </td><td>_/ _/           </td><td>: :            </td><td>don&#x27;t think    </td><td>new testament   </td><td>does mean         </td><td>jesus christ       </td><td>don&#x27;t believe        </td><td>i&#x27;m sure            </td><td>catholic church                                                         </td><td>don&#x27;t want                       </td><td>lord jesus                       </td><td>god does                   </td><td>sounds like        </td></tr>\n",
       "<tr><td style=\"text-align: right;\">        16</td><td>gun control        </td><td>united states    </td><td>second amendment</td><td>: :            </td><td>don&#x27;t know     </td><td>law enforcement </td><td>don&#x27;t think       </td><td>tear gas           </td><td>right bear           </td><td>bear arms           </td><td>david koresh                                                            </td><td>. .                              </td><td>gun owners                       </td><td>right people               </td><td>branch davidians   </td></tr>\n",
       "<tr><td style=\"text-align: right;\">        17</td><td>. .                </td><td>| |              </td><td>serdar argic    </td><td>human rights   </td><td>2.5 million    </td><td>don&#x27;t know      </td><td>professor history,</td><td>armenian government</td><td>world war            </td><td>new york            </td><td>ottoman empire                                                          </td><td>genocide 2.5                     </td><td>muslim population                </td><td>xsoviet armenian           </td><td>new york,          </td></tr>\n",
       "<tr><td style=\"text-align: right;\">        18</td><td>mr. stephanopoulos:</td><td>ms. myers:       </td><td># #             </td><td>don&#x27;t know     </td><td>united states  </td><td>white house     </td><td>health care       </td><td>don&#x27;t think        </td><td>q george,            </td><td># ##                </td><td>attorney general                                                        </td><td>senior administration            </td><td>administration official:         </td><td>stephanopoulos: don&#x27;t      </td><td>we&#x27;re going        </td></tr>\n",
       "<tr><td style=\"text-align: right;\">        19</td><td>: :                </td><td>lord [jehovah]   </td><td>cheers, kent    </td><td>don&#x27;t think    </td><td>. .            </td><td>jesus christ    </td><td>lord [jehovah],   </td><td>don&#x27;t know         </td><td>god [elohim]         </td><td>does mean           </td><td>thou shalt                                                              </td><td>david koresh                     </td><td>said unto                        </td><td>(emphasis added)           </td><td>_/ _/              </td></tr>\n",
       "</tbody>\n",
       "</table>"
      ],
      "text/plain": [
       "<IPython.core.display.HTML object>"
      ]
     },
     "metadata": {},
     "output_type": "display_data"
    }
   ],
   "source": [
    "bigrams = ngram_counter(df_pointone, 2)\n",
    "n_gram_by_category(bigrams, 15)"
   ]
  },
  {
   "cell_type": "markdown",
   "metadata": {},
   "source": [
    "Of course, there are still some stuffs that we need to clean it out for better training. `don't know` and `don't think` also is quite active amongst the population: seems like there exist quite a strong opinion-based articles rather than fact-based? We couldn't know until investigation goes deep. "
   ]
  },
  {
   "cell_type": "code",
   "execution_count": 151,
   "metadata": {},
   "outputs": [
    {
     "data": {
      "application/vnd.jupyter.widget-view+json": {
       "model_id": "f5531f0c81414a318c954428de12e259",
       "version_major": 2,
       "version_minor": 0
      },
      "text/plain": [
       "  0%|          | 0/20 [00:00<?, ?it/s]"
      ]
     },
     "metadata": {},
     "output_type": "display_data"
    },
    {
     "data": {
      "text/html": [
       "<table>\n",
       "<thead>\n",
       "<tr><th style=\"text-align: right;\">  category</th><th>0                                                                                  </th><th>1                                    </th><th>2                                     </th><th>3                                 </th><th>4                             </th><th>5                                </th><th>6                          </th><th>7                                 </th><th>8                                         </th><th>9                                  </th><th>10                               </th><th>11                                           </th><th>12                                                </th><th>13                                         </th><th>14                                  </th></tr>\n",
       "</thead>\n",
       "<tbody>\n",
       "<tr><td style=\"text-align: right;\">         0</td><td>/\\/\\/\\/\\/\\/\\/\\/\\/\\/\\/\\/\\/\\/\\/\\/\\/\\/\\/\\/\\/\\/\\/\\/\\/\\/\\/\\/\\/\\/\\/\\/\\/\\/\\ bob beauchaine</td><td>bob beauchaine bobbe@vice.ico.tek.com</td><td>beauchaine bobbe@vice.ico.tek.com said</td><td>bobbe@vice.ico.tek.com said queens</td><td>said queens stay,             </td><td>queens stay, blew                </td><td>stay, blew bronx           </td><td>blew bronx away,                  </td><td>bronx away, sank                          </td><td>away, sank manhattan               </td><td>sank manhattan sea.              </td><td>. . .                                        </td><td>_/ _/ _/                                          </td><td>michael a. cobb                            </td><td>a. cobb &quot;...and                     </td></tr>\n",
       "<tr><td style=\"text-align: right;\">         1</td><td>available anonymous ftp                                                            </td><td>simtel20 mirror sites                </td><td>mirror sites (see                     </td><td>sites (see note                   </td><td># # #                         </td><td>+44 (0)61 275                    </td><td>(see note below),          </td><td>note below), file                 </td><td>free jpeg software                        </td><td>available simtel20 mirror          </td><td>send subscription requests       </td><td>free ijg jpeg                                </td><td>amiga.physik.unizh.ch (and mirror                 </td><td>chris lilley technical                     </td><td>lilley technical author,            </td></tr>\n",
       "<tr><td style=\"text-align: right;\">         2</td><td>_/ _/ _/                                                                           </td><td>cross linked allocation              </td><td>linked allocation unit                </td><td>_ _ _                             </td><td>case western reserve          </td><td>notebook file name:              </td><td>&quot; &quot; &quot;                      </td><td>march 15, 1991                    </td><td>: | :                                     </td><td>ati graphics ultra                 </td><td>_/ _/ _/_/_/                     </td><td>} } }                                        </td><td>thx dave l                                        </td><td>does anybody know                          </td><td>ati ultra pro                       </td></tr>\n",
       "<tr><td style=\"text-align: right;\">         3</td><td>. . .                                                                              </td><td>_/ _/ _/                             </td><td>floppy disk drives                    </td><td>hard disk controller              </td><td>hard disk drives              </td><td>disk controller card             </td><td>controller card st506/st412</td><td>st506/st412 interface. supports   </td><td>drives 16 heads                           </td><td>card st506/st412 interface.        </td><td>o o o                            </td><td>inches max resolution:                       </td><td>16 heads 2048                                     </td><td>interface. supports 2                      </td><td>optional rom bios                   </td></tr>\n",
       "<tr><td style=\"text-align: right;\">         4</td><td>| | |                                                                              </td><td>32 32 32                             </td><td>25 mhz operational                    </td><td>heat sink cpu                     </td><td>cheers, / h+                  </td><td>mhz operational heat             </td><td>operational heat sink      </td><td>o o o                             </td><td>x x x                                     </td><td>/ h+ jon                           </td><td>h+ jon w{tte,                    </td><td>jon w{tte, h+@nada.kth.se,                   </td><td>w{tte, h+@nada.kth.se, mac                        </td><td>h+@nada.kth.se, mac hacker                 </td><td>mac hacker deluxe                   </td></tr>\n",
       "<tr><td style=\"text-align: right;\">         5</td><td>x / x                                                                              </td><td>x x /                                </td><td>/ x char                              </td><td>x } x                             </td><td>x} x x/                       </td><td>oname, eof_not_ok); x            </td><td>} x x                      </td><td>stream / x                        </td><td>x x/ x                                    </td><td>/ x int                            </td><td>file / x                         </td><td>file stream /                                </td><td>x check_io(output, oname,                         </td><td>check_io(output, oname, eof_not_ok);       </td><td>available anonymous ftp             </td></tr>\n",
       "<tr><td style=\"text-align: right;\">         6</td><td>. . .                                                                              </td><td>1 (signed liefeld,                   </td><td>(signed liefeld, bagged,              </td><td>xforce 1 (signed                  </td><td>(2 copies) $2                 </td><td>2001 tie in)                     </td><td>star trek generation       </td><td>trek generation 1                 </td><td>comics near mint                          </td><td>1 copy left!!!)                    </td><td>copy left!!!) $2                 </td><td>(armegedon 2001 tie                          </td><td>tie in) $1                                        </td><td>1 (1st app                                 </td><td>(ron lim art,                       </td></tr>\n",
       "<tr><td style=\"text-align: right;\">         7</td><td>| | |                                                                              </td><td>/ / /                                </td><td>/ | /                                 </td><td>| / |                             </td><td>/ /__ __/                     </td><td>/ ___ /                          </td><td>___ / /                    </td><td>/ \\ /                             </td><td>. . .                                     </td><td>don&#x27;t know any.                    </td><td>. / larry                        </td><td>/ larry __/                                  </td><td>larry __/ _______/_                               </td><td>__/ _______/_ keys@csmes.ncsl.nist.gov     </td><td>_______/_ keys@csmes.ncsl.nist.gov /</td></tr>\n",
       "<tr><td style=\"text-align: right;\">         8</td><td>===== dod #8177                                                                    </td><td>dod #8177 =                          </td><td>#8177 = technician(dr.                </td><td>= technician(dr. speed)           </td><td>technician(dr. speed) .not.   </td><td>speed) .not. student             </td><td>.not. student =====        </td><td>biker) dod 1069                   </td><td>dod 1069 concise                          </td><td>1069 concise oxford                </td><td>gmt wibbled: :                   </td><td>. . .                                        </td><td>tom coradeschi +                                  </td><td>coradeschi + tcora@pica.army.mil           </td><td>: : :                               </td></tr>\n",
       "<tr><td style=\"text-align: right;\">         9</td><td>0 0 0                                                                              </td><td>cubs suck cubs                       </td><td>suck cubs suck                        </td><td>dale j. stephenson                </td><td>j. stephenson ||              </td><td>stephenson || (steph@cs.uiuc.edu)</td><td>|| (steph@cs.uiuc.edu) ||  </td><td>mike jones |                      </td><td>jones | aix                               </td><td>| aix highend                      </td><td>aix highend development          </td><td>highend development |                        </td><td>development | mjones@donald.aix.kingston.ibm.com  </td><td>(steph@cs.uiuc.edu) || baseball            </td><td>|| baseball fanatic                 </td></tr>\n",
       "<tr><td style=\"text-align: right;\">        10</td><td>0 0 0                                                                              </td><td>0 1 1                                </td><td>1 0 1                                 </td><td>1 0 0                             </td><td>2 2 2                         </td><td>2 0 0                            </td><td>1 1 0                      </td><td>1 1 2                             </td><td>0 2 2                                     </td><td>0 1 0                              </td><td>3 0 0                            </td><td>scorer g pts                                 </td><td>0 0 1                                             </td><td>0 0 2                                      </td><td>! ! !                               </td></tr>\n",
       "<tr><td style=\"text-align: right;\">        11</td><td>available anonymous ftp                                                            </td><td>. . .                                </td><td>law enforcement agencies              </td><td>; ; ;                             </td><td>s1]; s2]; s1]                 </td><td>security key escrow              </td><td>law enforcement block      </td><td>begin pgp signed                  </td><td>pgp signed message                        </td><td>begin pgp signature                </td><td>pgp signature version:           </td><td>signature version: 2.2                       </td><td>electronic frontier foundation                    </td><td>national institute standards               </td><td>law enforcement agency              </td></tr>\n",
       "<tr><td style=\"text-align: right;\">        12</td><td>| | |                                                                              </td><td>dave medinphone:(205) 7303169        </td><td>medinphone:(205) 7303169 (w)          </td><td>7303169 (w) ssdnetworking(205)    </td><td>(w) ssdnetworking(205) 8371174</td><td>ssdnetworking(205) 8371174 (h)   </td><td>8371174 (h) intergraph     </td><td>(h) intergraph corp.              </td><td>intergraph corp. m/s                      </td><td>corp. m/s gd3004                   </td><td>m/s gd3004 internet:             </td><td>gd3004 internet: dtmedin@catbyte.b30.ingr.com</td><td>internet: dtmedin@catbyte.b30.ingr.com huntsville,</td><td>dtmedin@catbyte.b30.ingr.com huntsville, al</td><td>huntsville, al 35894uucp:           </td></tr>\n",
       "<tr><td style=\"text-align: right;\">        13</td><td>hicnet medical newsletter                                                          </td><td>medical newsletter page              </td><td>volume 6, number                      </td><td>gordon banks n3jxp                </td><td>banks n3jxp |                 </td><td>n3jxp | &quot;skepticism              </td><td>| &quot;skepticism chastity     </td><td>&quot;skepticism chastity intellect,   </td><td>chastity intellect, geb@cadre.dsl.pitt.edu</td><td>intellect, geb@cadre.dsl.pitt.edu |</td><td>geb@cadre.dsl.pitt.edu | shameful</td><td>| shameful surrender                         </td><td>shameful surrender soon.&quot;                         </td><td>6, number 11                               </td><td>number 11 april                     </td></tr>\n",
       "<tr><td style=\"text-align: right;\">        14</td><td>| | |                                                                              </td><td>available anonymous ftp              </td><td>&quot;insisting perfect safety             </td><td>perfect safety people             </td><td>safety people don&#x27;t           </td><td>people don&#x27;t balls               </td><td>don&#x27;t balls live           </td><td>balls live real                   </td><td>live real world.&quot;                         </td><td>real world.&quot; mary                  </td><td>world.&quot; mary shafer,             </td><td>mary shafer, nasa                            </td><td>shafer, nasa ames                                 </td><td>nasa ames dryden                           </td><td>space shuttle program               </td></tr>\n",
       "<tr><td style=\"text-align: right;\">        15</td><td>_/ _/ _/                                                                           </td><td>: : :                                </td><td>father, son, holy                     </td><td>larry overacker (llo@shell.com)   </td><td>r r oo                        </td><td>dead sea scrolls                 </td><td>_/_/_/_/ _/ _/             </td><td>: r r                             </td><td>r oo oo                                   </td><td>oo oo b                            </td><td>b b :                            </td><td>/ / /                                        </td><td>c. s. lewis                                       </td><td>bernadette did know                        </td><td>b : r                               </td></tr>\n",
       "<tr><td style=\"text-align: right;\">        16</td><td>right bear arms                                                                    </td><td>right people bear                    </td><td>new england journal                   </td><td>title 18, united                  </td><td>18, united states             </td><td>united states code,              </td><td>. . .                      </td><td>dave feustel n9myi                </td><td>feustel n9myi feustel@netcom.com          </td><td>necessary security free            </td><td>times likely used                </td><td>[ ... ]                                      </td><td>/ iftccu:talk.politics.guns /                     </td><td>people bear arms,                          </td><td>amend title 18,                     </td></tr>\n",
       "<tr><td style=\"text-align: right;\">        17</td><td>. . .                                                                              </td><td>genocide 2.5 million                 </td><td>2.5 million muslim                    </td><td>professor history, university     </td><td>xsoviet armenian government   </td><td>| | |                            </td><td>center policy research     </td><td>adam shostack adam@das.harvard.edu</td><td>armenians did slaughter                   </td><td>armenian genocide 2.5              </td><td>adam adam shostack               </td><td>2.5 million turks                            </td><td>from: center policy                               </td><td>policy research cpr                        </td><td>research cpr subject:               </td></tr>\n",
       "<tr><td style=\"text-align: right;\">        18</td><td># # #                                                                              </td><td>senior administration official:      </td><td>mr. stephanopoulos: don&#x27;t             </td><td>mr. stephanopoulos: think         </td><td>mr. stephanopoulos: well,     </td><td>ms. myers: think                 </td><td>q dee dee,                 </td><td>white house office                </td><td>house office press                        </td><td>office press secretary             </td><td>ms. myers: don&#x27;t                 </td><td>immediate release april                      </td><td>q mr. president,                                  </td><td>stephanopoulos: don&#x27;t know                 </td><td>ms. myers: no,                      </td></tr>\n",
       "<tr><td style=\"text-align: right;\">        19</td><td>. . .                                                                              </td><td>general unified theory               </td><td>day christmas truelove                </td><td>christmas truelove served         </td><td>truelove served me...         </td><td>(promised messiah, p.            </td><td>physicist dewey b.         </td><td>unified theory physical           </td><td>comprehensive general unified             </td><td>_/ _/ _/                           </td><td>[ deleted ]                      </td><td>english lexicon new                          </td><td>late physicist dewey                              </td><td>vol 1, 11,                                 </td><td>&quot;on day christmas                   </td></tr>\n",
       "</tbody>\n",
       "</table>"
      ],
      "text/plain": [
       "<IPython.core.display.HTML object>"
      ]
     },
     "metadata": {},
     "output_type": "display_data"
    }
   ],
   "source": [
    "trigrams = ngram_counter(df_pointone, 3)\n",
    "n_gram_by_category(trigrams, 15)"
   ]
  },
  {
   "cell_type": "markdown",
   "metadata": {},
   "source": [
    "Do check out category 10: why it contains so much numerics. "
   ]
  },
  {
   "cell_type": "markdown",
   "metadata": {},
   "source": [
    "# American vs British english. \n",
    "Give one example where there's mix of different English. \n",
    "\n",
    "This also proves that this kind of data is very dirty and inconsistent. It is worth thinking how to make it more consistent (how to get a mapping dictionary that changes all to either British English or American English). "
   ]
  },
  {
   "cell_type": "code",
   "execution_count": 150,
   "metadata": {},
   "outputs": [
    {
     "data": {
      "text/plain": [
       "(42, 15)"
      ]
     },
     "execution_count": 150,
     "metadata": {},
     "output_type": "execute_result"
    }
   ],
   "source": [
    "unique_words[\"rumor\"], unique_words[\"rumour\"]"
   ]
  },
  {
   "cell_type": "code",
   "execution_count": null,
   "metadata": {},
   "outputs": [],
   "source": []
  }
 ],
 "metadata": {
  "interpreter": {
   "hash": "2332e3d2bb5a0777e9aeaf29763188d62a394303965da046a80937952abed10b"
  },
  "kernelspec": {
   "display_name": "Python 3.8.11 64-bit ('dg1': conda)",
   "language": "python",
   "name": "python3"
  },
  "language_info": {
   "codemirror_mode": {
    "name": "ipython",
    "version": 3
   },
   "file_extension": ".py",
   "mimetype": "text/x-python",
   "name": "python",
   "nbconvert_exporter": "python",
   "pygments_lexer": "ipython3",
   "version": "3.8.11"
  },
  "orig_nbformat": 4
 },
 "nbformat": 4,
 "nbformat_minor": 2
}
