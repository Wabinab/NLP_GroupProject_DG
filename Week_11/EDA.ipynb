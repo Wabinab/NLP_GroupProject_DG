{
 "cells": [
  {
   "cell_type": "code",
   "execution_count": 199,
   "metadata": {},
   "outputs": [
    {
     "name": "stderr",
     "output_type": "stream",
     "text": [
      "[nltk_data] Downloading package punkt to\n",
      "[nltk_data]     C:\\Users\\admin\\AppData\\Roaming\\nltk_data...\n",
      "[nltk_data]   Package punkt is already up-to-date!\n",
      "[nltk_data] Downloading package wordnet to\n",
      "[nltk_data]     C:\\Users\\admin\\AppData\\Roaming\\nltk_data...\n",
      "[nltk_data]   Package wordnet is already up-to-date!\n",
      "[nltk_data] Downloading package stopwords to\n",
      "[nltk_data]     C:\\Users\\admin\\AppData\\Roaming\\nltk_data...\n",
      "[nltk_data]   Package stopwords is already up-to-date!\n",
      "[nltk_data] Downloading package averaged_perceptron_tagger to\n",
      "[nltk_data]     C:\\Users\\admin\\AppData\\Roaming\\nltk_data...\n",
      "[nltk_data]   Package averaged_perceptron_tagger is already up-to-\n",
      "[nltk_data]       date!\n"
     ]
    }
   ],
   "source": [
    "import os\n",
    "import sys\n",
    "import re\n",
    "import gc\n",
    "import pandas as pd\n",
    "import numpy as np\n",
    "\n",
    "from collections import Counter\n",
    "from collections import defaultdict\n",
    "from tqdm.notebook import tqdm\n",
    "\n",
    "\n",
    "import nltk\n",
    "nltk.download('punkt')\n",
    "nltk.download('wordnet')\n",
    "nltk.download('stopwords')\n",
    "nltk.download('averaged_perceptron_tagger')\n",
    "from nltk.tokenize import word_tokenize\n",
    "from nltk.stem import WordNetLemmatizer\n",
    "from keras.preprocessing.text import Tokenizer\n",
    "from nltk.corpus import stopwords\n",
    "import matplotlib.pyplot as plt\n",
    "import seaborn as sns \n",
    "\n",
    "from tabulate import tabulate\n",
    "# tablefmt ---> keys,always,plain...\n",
    "\n",
    "# pd.set_option('display.max_colwidth', -1)"
   ]
  },
  {
   "cell_type": "code",
   "execution_count": 200,
   "metadata": {},
   "outputs": [],
   "source": [
    "\n",
    "BASE_DIR = ''\n",
    "GLOVE_DIR = os.path.join(BASE_DIR, 'glove.6B')\n",
    "TEXT_DATA_DIR = os.path.join(BASE_DIR, '20_newsgroups')\n",
    "# This code from http#s://www.kaggle.com/mansijharia with some edit\n",
    "# May take a few time \n",
    "\n",
    "texts = []\n",
    "labels_index = {}\n",
    "labels = []\n",
    "\n",
    "for name in sorted(os.listdir((BASE_DIR+'20_newsgroups'))):\n",
    "    path = os.path.join(BASE_DIR,'20_newsgroups', name)\n",
    "    if os.path.isdir(path):\n",
    "        label_id = len(labels_index)\n",
    "        labels_index[name] = label_id\n",
    "        for fname in sorted(os.listdir(path)):\n",
    "            if fname.isdigit():\n",
    "                fpath = os.path.join(path, fname)\n",
    "                args = {} if sys.version_info < (3,) else {'encoding': 'latin-1'}\n",
    "                with open(fpath, **args) as f:\n",
    "                    t = f.read()\n",
    "                    #Skip the matadata at 1st pragraph.\n",
    "                    i = t.find('\\n\\n')\n",
    "                    if 0 < i:\n",
    "                        t = t[i:]\n",
    "                    texts.append(t)\n",
    "                labels.append(label_id)"
   ]
  },
  {
   "cell_type": "code",
   "execution_count": 201,
   "metadata": {},
   "outputs": [
    {
     "name": "stdout",
     "output_type": "stream",
     "text": [
      "the data  19997  and the label 20\n"
     ]
    }
   ],
   "source": [
    "print('the data ',len(texts),' and the label',len(labels_index))"
   ]
  },
  {
   "cell_type": "code",
   "execution_count": 202,
   "metadata": {},
   "outputs": [],
   "source": [
    "#cleaing by RE \n",
    "for i in range(0,len(texts)):\n",
    "    texts[i] =texts[i].strip()\n",
    "    texts[i] =re.sub(r'\\=+',' ', texts[i])#To remove any == characters\n",
    "    texts[i] =re.sub(r'\\|+',' ', texts[i])#To remove any | characters\n",
    "    texts[i] =re.sub('[<>]', ' ',texts[i])#To remove < and > characters\n",
    "    texts[i] =re.sub(r'\\[\\]+',' ', texts[i])#To remove any [] characters\n",
    "    texts[i] =re.sub(r'\\(\\)+',' ', texts[i])#To remove any () empty parentheses\n",
    "    texts[i] =re.sub('--+', ' ',texts[i])#To remove multiple spaces \n",
    "    texts[i] =re.sub(\"[__]+\", ' ', texts[i])#To remove lines\n",
    "    texts[i] =re.sub('\\^+',' ', texts[i])#To remove ^ characters  \n",
    "    texts[i] =re.sub(r'[/*\\\\*/]',' ', texts[i])#To remove \\/ characters\n",
    "    texts[i] =re.sub('([\\w\\.-]+)@([\\w\\.-]+)',' ', texts[i])#To remove any emails \n",
    "    texts[i] =re.sub('[^a-zA-Z]',' ',texts[i])#To remove nunEnglish and digital characters\n",
    "    texts[i] =re.sub(r'\\~\\~+',' ', texts[i])#To remove any == characters\n",
    "    texts[i] =re.sub('\\n', ' ', texts[i])#To remove lines\n",
    "    texts[i] =re.sub('\\t', ' ',texts[i])#To remove tab spaces \n",
    "    # texts[i] =re.sub('(\\\\b[A-Za-z] \\\\b|\\\\b [A-Za-z]\\\\b)', ' ',texts[i])#To remove shoert and long words\n",
    "    texts[i] =re.sub('  +', ' ',texts[i])#To remove multiple spaces \n",
    "    # if i==9:\n",
    "    #     break\n",
    "\n"
   ]
  },
  {
   "cell_type": "code",
   "execution_count": 203,
   "metadata": {},
   "outputs": [
    {
     "data": {
      "text/plain": [
       "' Keith Ryan writes Then why do people keep asking the same questions over and over Because you rarely ever answer them Nope ve answered each question posed and most were answered multiple times keith'"
      ]
     },
     "execution_count": 203,
     "metadata": {},
     "output_type": "execute_result"
    }
   ],
   "source": [
    "texts[9]"
   ]
  },
  {
   "cell_type": "code",
   "execution_count": 204,
   "metadata": {},
   "outputs": [],
   "source": [
    "tokenizer=Tokenizer(num_words=10000)\n",
    "tokenizer.fit_on_texts(texts)\n",
    "encoded_docs=tokenizer.texts_to_sequences(texts)\n",
    "word_index=tokenizer.word_index\n"
   ]
  },
  {
   "cell_type": "code",
   "execution_count": 205,
   "metadata": {},
   "outputs": [],
   "source": [
    "clean_tokens=[]\n",
    "Lemmatizer=WordNetLemmatizer()\n",
    "stop_words= set(stopwords.words(\"english\"))\n",
    "for i in range(0,len(texts)):\n",
    "    tokens = word_tokenize(texts[i])\n",
    "    for tokn in tokens:\n",
    "        clean_tok= Lemmatizer.lemmatize(tokn) \n",
    "        if clean_tok not in stop_words:\n",
    "            clean_tokens.append(clean_tok)\n",
    " "
   ]
  },
  {
   "cell_type": "markdown",
   "metadata": {},
   "source": [
    "Notice: the is different number of tokens "
   ]
  },
  {
   "cell_type": "code",
   "execution_count": 206,
   "metadata": {},
   "outputs": [
    {
     "name": "stdout",
     "output_type": "stream",
     "text": [
      "unique words :103846\n",
      "unique words :3134610\n"
     ]
    }
   ],
   "source": [
    "print(\"unique words :{}\".format(len(word_index)))\n",
    "print(\"unique words :{}\".format(len(clean_tokens)))"
   ]
  },
  {
   "cell_type": "code",
   "execution_count": 207,
   "metadata": {},
   "outputs": [
    {
     "data": {
      "text/plain": [
       "795843"
      ]
     },
     "execution_count": 207,
     "metadata": {},
     "output_type": "execute_result"
    }
   ],
   "source": [
    "#here we need to reduce the number of words\n",
    "def size_word(clean_tokens):\n",
    "    short_words=[]\n",
    "    for i in range(0,len(clean_tokens)):\n",
    "        if (len(clean_tokens[i])>=3 | len(clean_tokens[i])<=20):\n",
    "            short_words.append(clean_tokens[i])\n",
    "            return short_words\n",
    "len(size_word(clean_tokens))\n"
   ]
  },
  {
   "cell_type": "code",
   "execution_count": 209,
   "metadata": {},
   "outputs": [
    {
     "data": {
      "text/plain": [
       "Text(0.5, 1.0, 'Count')"
      ]
     },
     "execution_count": 209,
     "metadata": {},
     "output_type": "execute_result"
    },
    {
     "data": {
      "image/png": "[encoded data removed]",
      "text/plain": [
       "<Figure size 2160x720 with 1 Axes>"
      ]
     },
     "metadata": {
      "needs_background": "light"
     },
     "output_type": "display_data"
    }
   ],
   "source": [
    "# plot the most frequent words in all the news\n",
    "df=pd.DataFrame(size_word(clean_tokens))\n",
    "data = pd.Series(df.value_counts()[:30])\n",
    "df=pd.DataFrame(data.items(), columns=['Words', 'Counts'])\n",
    "df.sort_values(by='Counts', axis=0, ascending=False)\n",
    "fig=plt.figure(figsize=(30,10))\n",
    "x_axis =  df['Words']\n",
    "y_axis =  df['Counts']\n",
    "sns.barplot(x=x_axis,y=y_axis,data=df,palette='twilight')\n",
    "plt.xlabel(\"the most frequent words\",fontsize=22)\n",
    "plt.title(\"Count\",fontsize=20)"
   ]
  },
  {
   "cell_type": "code",
   "execution_count": 210,
   "metadata": {},
   "outputs": [
    {
     "data": {
      "text/html": [
       "<div>\n",
       "<style scoped>\n",
       "    .dataframe tbody tr th:only-of-type {\n",
       "        vertical-align: middle;\n",
       "    }\n",
       "\n",
       "    .dataframe tbody tr th {\n",
       "        vertical-align: top;\n",
       "    }\n",
       "\n",
       "    .dataframe thead th {\n",
       "        text-align: right;\n",
       "    }\n",
       "</style>\n",
       "<table border=\"1\" class=\"dataframe\">\n",
       "  <thead>\n",
       "    <tr style=\"text-align: right;\">\n",
       "      <th></th>\n",
       "      <th>text</th>\n",
       "      <th>category</th>\n",
       "    </tr>\n",
       "  </thead>\n",
       "  <tbody>\n",
       "    <tr>\n",
       "      <th>0</th>\n",
       "      <td>Archive name atheism resources Alt atheism arc...</td>\n",
       "      <td>0</td>\n",
       "    </tr>\n",
       "    <tr>\n",
       "      <th>1</th>\n",
       "      <td>Archive name atheism introduction Alt atheism ...</td>\n",
       "      <td>0</td>\n",
       "    </tr>\n",
       "    <tr>\n",
       "      <th>2</th>\n",
       "      <td>In article Charley Wingate writes Well John ha...</td>\n",
       "      <td>0</td>\n",
       "    </tr>\n",
       "    <tr>\n",
       "      <th>3</th>\n",
       "      <td>until kings become philosophers or philosophe...</td>\n",
       "      <td>0</td>\n",
       "    </tr>\n",
       "    <tr>\n",
       "      <th>4</th>\n",
       "      <td>In article Bob McGwier writes HOWEVER hate eco...</td>\n",
       "      <td>0</td>\n",
       "    </tr>\n",
       "    <tr>\n",
       "      <th>...</th>\n",
       "      <td>...</td>\n",
       "      <td>...</td>\n",
       "    </tr>\n",
       "    <tr>\n",
       "      <th>19992</th>\n",
       "      <td>In article mathew writes By which mean are you...</td>\n",
       "      <td>19</td>\n",
       "    </tr>\n",
       "    <tr>\n",
       "      <th>19993</th>\n",
       "      <td>In article Peter Lamb writes John King writes ...</td>\n",
       "      <td>19</td>\n",
       "    </tr>\n",
       "    <tr>\n",
       "      <th>19994</th>\n",
       "      <td>In article Bill Jefferys writes If you would l...</td>\n",
       "      <td>19</td>\n",
       "    </tr>\n",
       "    <tr>\n",
       "      <th>19995</th>\n",
       "      <td>In article Gerry Palo The danger of anti cult ...</td>\n",
       "      <td>19</td>\n",
       "    </tr>\n",
       "    <tr>\n",
       "      <th>19996</th>\n",
       "      <td>In article Bill Conner writes Keith Ryan wrote...</td>\n",
       "      <td>19</td>\n",
       "    </tr>\n",
       "  </tbody>\n",
       "</table>\n",
       "<p>19997 rows × 2 columns</p>\n",
       "</div>"
      ],
      "text/plain": [
       "                                                    text  category\n",
       "0      Archive name atheism resources Alt atheism arc...         0\n",
       "1      Archive name atheism introduction Alt atheism ...         0\n",
       "2      In article Charley Wingate writes Well John ha...         0\n",
       "3       until kings become philosophers or philosophe...         0\n",
       "4      In article Bob McGwier writes HOWEVER hate eco...         0\n",
       "...                                                  ...       ...\n",
       "19992  In article mathew writes By which mean are you...        19\n",
       "19993  In article Peter Lamb writes John King writes ...        19\n",
       "19994  In article Bill Jefferys writes If you would l...        19\n",
       "19995  In article Gerry Palo The danger of anti cult ...        19\n",
       "19996  In article Bill Conner writes Keith Ryan wrote...        19\n",
       "\n",
       "[19997 rows x 2 columns]"
      ]
     },
     "execution_count": 210,
     "metadata": {},
     "output_type": "execute_result"
    }
   ],
   "source": [
    "df = pd.DataFrame({'text': texts,'category': labels})\n",
    "df"
   ]
  },
  {
   "cell_type": "code",
   "execution_count": 211,
   "metadata": {},
   "outputs": [],
   "source": [
    "def cat_counter(df_tok):\n",
    "    \"\"\"\n",
    "    Counter of most frequent words based on category. \n",
    "    Sorted by category already. \n",
    "    \"\"\"\n",
    "    cache = []  # {}\n",
    "\n",
    "    # def inner_(cat): \n",
    "    #     counter = Counter()\n",
    "    #     temp_np = df_tok[df_tok.category == cat].text.to_numpy()\n",
    "    #     for sentence in temp_np: counter += Counter(sentence)\n",
    "    #     cache[cat] = counter\n",
    "    #     del counter, temp_np, sentence\n",
    "\n",
    "    # _ = joblib.Parallel(n_jobs=os.cpu_count(), prefer=\"threads\")(\n",
    "    #     joblib.delayed(inner_)(cat)\n",
    "    #     for cat in tqdm(range(20))\n",
    "    # )\n",
    "\n",
    "    for cat in tqdm(range(20)):  # sorted\n",
    "        counter = Counter()\n",
    "        temp_np = df_tok[df_tok.category == cat].text.to_numpy()\n",
    "        for sentence in temp_np: counter += Counter(sentence)\n",
    "        # cache[cat] = counter\n",
    "        cache.append(counter)\n",
    "        del counter, temp_np, sentence\n",
    "    gc.collect()\n",
    "    return cache"
   ]
  },
  {
   "cell_type": "code",
   "execution_count": 212,
   "metadata": {},
   "outputs": [],
   "source": [
    "from sklearn.feature_extraction import _stop_words\n",
    "STOPWORDS = _stop_words.ENGLISH_STOP_WORDS\n",
    "\n",
    "def generate_ngrams(text, n_gram=1):\n",
    "    token = [token for token in text.lower().split(' ') if token != '' if token not in STOPWORDS]\n",
    "    ngrams = zip(*[token[i:] for i in range(n_gram)])\n",
    "    return [' '.join(ngram) for ngram in ngrams]"
   ]
  },
  {
   "cell_type": "code",
   "execution_count": 213,
   "metadata": {},
   "outputs": [],
   "source": [
    "def ngram_counter(df, n_gram):\n",
    "    \"\"\"\n",
    "    counter of ngram words based on `generate_ngrams`. \n",
    "\n",
    "    :df: (pandas.DataFrame) Original dataframe. NOT tokenized by fastai. \n",
    "    :n_gram: What types of n-gram wanted? \n",
    "\n",
    "    :return: n_grams for each category\n",
    "    \"\"\"\n",
    "    cache = []\n",
    "\n",
    "    for cat in tqdm(range(20)):  # sorted\n",
    "        counter = defaultdict(int)\n",
    "        temp_np = df[df.category == cat].text.to_numpy()\n",
    "        for text in temp_np:\n",
    "            for word in generate_ngrams(text, n_gram=n_gram): \n",
    "                counter[word] += 1\n",
    "        cache.append(Counter(counter))\n",
    "        del counter, temp_np, text\n",
    "    gc.collect()\n",
    "    return cache"
   ]
  },
  {
   "cell_type": "code",
   "execution_count": 215,
   "metadata": {},
   "outputs": [],
   "source": [
    "def n_gram_by_category(n_grams, k=10, return_val=False):\n",
    "    \"\"\"\n",
    "    :n_grams: (list) containing list of Counters for each category. \n",
    "    :k: (int) Top k n-grams displayed. Defaults: 10. \n",
    "    :return_val: (bool) Whether to return result or not. Default: False. \n",
    "\n",
    "    :caveat: Doesn't display frequency. \n",
    "    \"\"\"\n",
    "    # +50 to replace the ones in the line marked **. Have caveats. \n",
    "    # only works as long as you don't exhaust the below. \n",
    "    top_k = [counter.most_common(k) for counter in n_grams]\n",
    "    top_k = [np.array([list(word) for word in counter])\n",
    "                for counter in top_k]\n",
    "    for i in range(len(top_k)): \n",
    "        a = top_k[i][:, 0]\n",
    "        top_k[i] = [i] + list(a)\n",
    "\n",
    "    print(tabulate(top_k,headers=[\"category\", *range(k)], tablefmt='simple'))\n",
    "\n",
    "    if return_val: return top_k"
   ]
  },
  {
   "cell_type": "code",
   "execution_count": 216,
   "metadata": {},
   "outputs": [
    {
     "data": {
      "application/vnd.jupyter.widget-view+json": {
       "model_id": "f94d416406ba47358e20718e51299dab",
       "version_major": 2,
       "version_minor": 0
      },
      "text/plain": [
       "  0%|          | 0/20 [00:00<?, ?it/s]"
      ]
     },
     "metadata": {},
     "output_type": "display_data"
    },
    {
     "name": "stdout",
     "output_type": "stream",
     "text": [
      "  category  0       1           2           3        4\n",
      "----------  ------  ----------  ----------  -------  ------\n",
      "         0  writes  god         article     people   don\n",
      "         1  image   graphics    jpeg        file     bit\n",
      "         2  ax      m           q           max      p\n",
      "         3  drive   scsi        card        mb       ide\n",
      "         4  mac     apple       know        writes   drive\n",
      "         5  x       window      use         r        file\n",
      "         6  new     sale        shipping    offer    mail\n",
      "         7  car     writes      article     cars     like\n",
      "         8  writes  bike        article     dod      like\n",
      "         9  writes  year        article     game     don\n",
      "        10  game    team        hockey      writes   play\n",
      "        11  key     encryption  government  chip     writes\n",
      "        12  writes  use         article     know     like\n",
      "        13  writes  article     like        don      know\n",
      "        14  space   writes      article     like     just\n",
      "        15  god     people      jesus       church   think\n",
      "        16  gun     people      writes      article  don\n",
      "        17  people  israel      armenian    turkish  writes\n",
      "        18  people  writes      article     don      q\n",
      "        19  writes  god         article     people   don\n"
     ]
    }
   ],
   "source": [
    "unigrams = ngram_counter(df, 1)\n",
    "n_gram_by_category(unigrams, 5)"
   ]
  },
  {
   "cell_type": "code",
   "execution_count": 217,
   "metadata": {},
   "outputs": [
    {
     "data": {
      "application/vnd.jupyter.widget-view+json": {
       "model_id": "0c875c23cd44488eba8b846278f4a56c",
       "version_major": 2,
       "version_minor": 0
      },
      "text/plain": [
       "  0%|          | 0/20 [00:00<?, ?it/s]"
      ]
     },
     "metadata": {},
     "output_type": "display_data"
    },
    {
     "name": "stdout",
     "output_type": "stream",
     "text": [
      "  category  0                  1                  2                   3                 4\n",
      "----------  -----------------  -----------------  ------------------  ----------------  -------------------\n",
      "         0  writes article     frank dwyer        don know            alt atheism       don think\n",
      "         1  image processing   computer graphics  comp graphics       edu pub           thanks advance\n",
      "         2  ax ax              max ax             ax max              q q               u u\n",
      "         3  hard drive         hard disk          local bus           thanks advance    x x\n",
      "         4  does know          don know           hard drive          comp sys          hard disk\n",
      "         5  x x                dos dos            window manager      o o               mit edu\n",
      "         6  best offer         make offer         brand new           ghost rider       excellent condition\n",
      "         7  writes article     don know           rec autos           article writes    new car\n",
      "         8  writes article     o o                article writes      ed green          don know\n",
      "         9  writes article     article writes     red sox             new york          don know\n",
      "        10  power play         stanley cup        st louis            red wings         san jose\n",
      "        11  db b               b db               clipper chip        law enforcement   public key\n",
      "        12  don know           writes article     does know           copy protection   thanks advance\n",
      "        13  gordon banks       writes article     medical newsletter  volume number     hicnet medical\n",
      "        14  writes article     henry spencer      sci space           space station     space shuttle\n",
      "        15  holy spirit        jesus christ       don know            article writes    new testament\n",
      "        16  writes article     gun control        article writes      second amendment  bear arms\n",
      "        17  soviet armenia     writes article     human rights        new york          serdar argic\n",
      "        18  mr stephanopoulos  writes article     ms myers            clayton cramer    united states\n",
      "        19  writes article     frank dwyer        dwyer writes        jesus christ      lord jehovah\n"
     ]
    }
   ],
   "source": [
    "bigrams = ngram_counter(df, 2)\n",
    "n_gram_by_category(bigrams, 5)"
   ]
  },
  {
   "cell_type": "code",
   "execution_count": 218,
   "metadata": {},
   "outputs": [
    {
     "data": {
      "application/vnd.jupyter.widget-view+json": {
       "model_id": "819dca63d8684a02b7c7b753162004de",
       "version_major": 2,
       "version_minor": 0
      },
      "text/plain": [
       "  0%|          | 0/20 [00:00<?, ?it/s]"
      ]
     },
     "metadata": {},
     "output_type": "display_data"
    },
    {
     "name": "stdout",
     "output_type": "stream",
     "text": [
      "  category  0                                 1                        2                         3                          4\n",
      "----------  --------------------------------  -----------------------  ------------------------  -------------------------  -----------------------------------\n",
      "         0  frank dwyer writes                jon livesey writes       dwyer writes article      frank dwyer hatching       dwyer hatching hens\n",
      "         1  available anonymous ftp           wuarchive wustl edu      lcs mit edu               o o o                      export lcs mit\n",
      "         2  ax ax ax                          max ax ax                ax ax max                 ax max ax                  q q q\n",
      "         3  comp os os                        floppy disk drives       st st st                  hard disk drives           hard disk controller\n",
      "         4  comp sys mac                      deluxe b s               b s microframe            s microframe best          microframe best price\n",
      "         5  dos dos dos                       lcs mit edu              x x x                     export lcs mit             o o o\n",
      "         6  signed liefeld bagged             force signed liefeld     incredible hulk st        smith weapon smith         weapon smith weapon\n",
      "         7  blah blah blah                    chintan amin university  amin university illinois  v don know                 university illinois urbanachampaign\n",
      "         8  o o o                             ed green ninjaite        green ninjaite drinking   ninjaite drinking night    drinking night biker\n",
      "         9  writes article writes             boston red sox           cubs suck cubs            suck cubs suck             edward ted fischer\n",
      "        10  scorer g pts                      power play scorer        play scorer g             pts pt la                  rec sport hockey\n",
      "        11  db b db                           b db b                   david sternlight writes   pgp public key             david sternlight great\n",
      "        12  lead acid battery                 does anybody know        mayhew neoucom computer   neoucom computer services  computer services department\n",
      "        13  hicnet medical newsletter         medical newsletter page  volume number april       newsletter page volume     page volume number\n",
      "        14  henry spencer toronto             spencer toronto zoology  michael adams high        adams high just            high just jacked\n",
      "        15  artificial intelligence programs  athens georgia amateur   georgia amateur radio     amateur radio tmi          son holy spirit\n",
      "        16  believe speak company             speak company write      company write today       write today special        today special investors\n",
      "        17  closed roads mountain             roads mountain passes    mountain passes serve     passes serve ways          serve ways escape\n",
      "        18  clayton cramer writes             clayton cramer uunet     cramer uunet pyramid      uunet pyramid optilink     pyramid optilink cramer\n",
      "        19  frank dwyer writes                dwyer writes article     alink ksand private       ksand private activities   private activities net\n"
     ]
    }
   ],
   "source": [
    "trigrams = ngram_counter(df, 3)\n",
    "n_gram_by_category(trigrams, 5)"
   ]
  }
 ],
 "metadata": {
  "interpreter": {
   "hash": "0ac516125b3ee16d4eaa41f008fade7bad50b808bd1b6d74d2e8ae0015ba9066"
  },
  "kernelspec": {
   "display_name": "Python 3.9.5 64-bit",
   "language": "python",
   "name": "python3"
  },
  "language_info": {
   "codemirror_mode": {
    "name": "ipython",
    "version": 3
   },
   "file_extension": ".py",
   "mimetype": "text/x-python",
   "name": "python",
   "nbconvert_exporter": "python",
   "pygments_lexer": "ipython3",
   "version": "3.9.5"
  },
  "orig_nbformat": 4
 },
 "nbformat": 4,
 "nbformat_minor": 2
}
