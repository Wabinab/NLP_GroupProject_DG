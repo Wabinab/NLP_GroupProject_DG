{
 "cells": [
  {
   "cell_type": "markdown",
   "metadata": {},
   "source": [
    "# Advanced model\n",
    "Rather than basic Linear model, Ensemble, etc that uses sklearn, and rather than using basic DNN, we'll do something more complicated that other uses (though they're not necessarily current SOTA on both model and techniques). \n",
    "\n",
    "The original notebook doing this is taken from [fastai course nlp](https://github.com/fastai/course-nlp/blob/master/5-nn-imdb.ipynb), and the ones that one make changes to fit with fastai v2 is [referenced here](https://github.com/Wabinab/fastai-coursenlp-v2_rewrite/blob/main/Chapter5.ipynb).\n",
    "\n",
    "- Cleaning of data (With additional mapping all to American English from British English). \n",
    "\n",
    "## Cleaning Data\n",
    "Information on British --> American: Get a mapping from the internet, get all unique words from the whole corpus, get all the words that're British, and find their corresponding American, and apply it throughout whole corpus using regex. "
   ]
  },
  {
   "cell_type": "code",
   "execution_count": 32,
   "metadata": {},
   "outputs": [],
   "source": [
    "from pathlib import Path\n",
    "import xml.etree.ElementTree as ET\n",
    "import gc"
   ]
  },
  {
   "cell_type": "markdown",
   "metadata": {},
   "source": [
    "This is what one originally tries to do, get the British National Corpus from the internet, gather all English that are British, and check if our words have any British words and convert them to American based on another American Corpus. However, it proves that the corpus contains a lot of words that are shared with American as well, not just purely those distinctive words that're different. Hence this is a failure and stopped afterwards. "
   ]
  },
  {
   "cell_type": "code",
   "execution_count": 33,
   "metadata": {},
   "outputs": [],
   "source": [
    "path = Path(\"/home/fastai2/Music/BNC_Corpus/download/Texts/news\")\n",
    "this = path/\"A1E.xml\""
   ]
  },
  {
   "cell_type": "code",
   "execution_count": 34,
   "metadata": {},
   "outputs": [
    {
     "data": {
      "text/plain": [
       "('bncDoc', {'{http://www.w3.org/XML/1998/namespace}id': 'A1E'})"
      ]
     },
     "execution_count": 34,
     "metadata": {},
     "output_type": "execute_result"
    }
   ],
   "source": [
    "tree = ET.parse(this)\n",
    "root = tree.getroot()\n",
    "root.tag, root.attrib"
   ]
  },
  {
   "cell_type": "code",
   "execution_count": 35,
   "metadata": {},
   "outputs": [],
   "source": [
    "wtext = list(root)[1]\n",
    "div1 = list(wtext)[0]\n",
    "head1 = list(div1)[0]\n",
    "s1 = list(head1)[0]\n",
    "w1 = list(s1)[0]"
   ]
  },
  {
   "cell_type": "code",
   "execution_count": 36,
   "metadata": {},
   "outputs": [
    {
     "data": {
      "text/plain": [
       "'Latest '"
      ]
     },
     "execution_count": 36,
     "metadata": {},
     "output_type": "execute_result"
    }
   ],
   "source": [
    "w1.text"
   ]
  },
  {
   "cell_type": "markdown",
   "metadata": {},
   "source": [
    "Let's skip that for now and we'll see how it goes later. "
   ]
  },
  {
   "cell_type": "code",
   "execution_count": 37,
   "metadata": {},
   "outputs": [],
   "source": [
    "from sklearn.datasets import fetch_20newsgroups\n",
    "all_xs, all_y = fetch_20newsgroups(subset=\"all\", remove=('headers', 'footers', 'quotes'),\n",
    "                    shuffle=True, return_X_y=True)"
   ]
  },
  {
   "cell_type": "code",
   "execution_count": 38,
   "metadata": {},
   "outputs": [
    {
     "data": {
      "text/plain": [
       "['/home/fastai2/notebooks/DataGlacier/NLP_GroupProject_DG/Week_12',\n",
       " '/home/fastai2/.vscode-server/extensions/ms-toolsai.jupyter-2021.10.1101450599/pythonFiles',\n",
       " '/home/fastai2/.vscode-server/extensions/ms-toolsai.jupyter-2021.10.1101450599/pythonFiles/lib/python',\n",
       " '/anaconda/envs/fastai/lib/python38.zip',\n",
       " '/anaconda/envs/fastai/lib/python3.8',\n",
       " '/anaconda/envs/fastai/lib/python3.8/lib-dynload',\n",
       " '',\n",
       " '/anaconda/envs/fastai/lib/python3.8/site-packages',\n",
       " '/anaconda/envs/fastai/lib/python3.8/site-packages/locket-0.2.1-py3.8.egg',\n",
       " '/anaconda/envs/fastai/lib/python3.8/site-packages/IPython/extensions',\n",
       " '/home/fastai2/.ipython',\n",
       " '/home/fastai2/notebooks/DataGlacier/NLP_GroupProject_DG/python_files']"
      ]
     },
     "execution_count": 38,
     "metadata": {},
     "output_type": "execute_result"
    }
   ],
   "source": [
    "sys.path"
   ]
  },
  {
   "cell_type": "code",
   "execution_count": 39,
   "metadata": {},
   "outputs": [],
   "source": [
    "from fastai.text.all import *\n",
    "from tqdm.notebook import tqdm\n",
    "import sys\n",
    "parent_path = Path(\"/home/fastai2/notebooks/DataGlacier\")\n",
    "sys.path.append(str(parent_path/\"NLP_GroupProject_DG/python_files\"))\n",
    "\n",
    "from nlputils import *"
   ]
  },
  {
   "cell_type": "code",
   "execution_count": 40,
   "metadata": {},
   "outputs": [
    {
     "name": "stdout",
     "output_type": "stream",
     "text": [
      "Finish thresholding. \n",
      "Finish removing xxunk above threshold.\n"
     ]
    },
    {
     "data": {
      "application/vnd.jupyter.widget-view+json": {
       "model_id": "1cc63c244b41493b906cdf19ab32a462",
       "version_major": 2,
       "version_minor": 0
      },
      "text/plain": [
       "  0%|          | 0/11708 [00:00<?, ?it/s]"
      ]
     },
     "metadata": {},
     "output_type": "display_data"
    },
    {
     "name": "stdout",
     "output_type": "stream",
     "text": [
      "Finish cleaning data.\n"
     ]
    },
    {
     "data": {
      "text/plain": [
       "11708"
      ]
     },
     "execution_count": 40,
     "metadata": {},
     "output_type": "execute_result"
    }
   ],
   "source": [
    "k = 7\n",
    "\n",
    "choice = np.load(f\"choice_{k}.npy\")\n",
    "g = threshold_subset(all_xs, k)\n",
    "all_xs = np.array(all_xs)[g]\n",
    "all_y = np.array(all_y)[g]\n",
    "print(\"Finish thresholding. \")\n",
    "\n",
    "g = choice < 0.1\n",
    "all_xs = all_xs[g]\n",
    "all_y = all_y[g]\n",
    "print(\"Finish removing xxunk above threshold.\")\n",
    "\n",
    "# doesn't change all_y\n",
    "all_xs = np.array([clean_data(x, False) for x in tqdm(all_xs)])\n",
    "print(\"Finish cleaning data.\")\n",
    "len(all_xs)"
   ]
  },
  {
   "cell_type": "markdown",
   "metadata": {},
   "source": [
    "One is thinking of doing this manually. Thing is, one isn't even sure if we could deal with everything. There's no promise. \n",
    "\n",
    "And we don't have to do it for **everything**, just those that are confusing. WE could still mix british english and american english **as long as there're no confusion** (such as both being used). For a single word, if there is only in British English used all the time, just do that. \n",
    "\n",
    "**Weakness**: When you try to apply it to real product, you need to check again for any British English because the corpus **cannot contain all** British English. \n",
    "\n",
    "There are also some thing on non-english words. One is thinkingo f just leaving it there, because there seems to be some that contains these and we don't really know how to clean these things out without doing quite a lot of work. (brute force comparison with english dictionary, and then have to decide again things especially for science like SCSI that's a computer term but not in the English dict, etc that is complicated). So we'll just leave it there as some noise. "
   ]
  },
  {
   "cell_type": "code",
   "execution_count": 41,
   "metadata": {},
   "outputs": [],
   "source": [
    "try: counter = load_pickle(f\"counter_{k}.pkl\")\n",
    "except Exception: \n",
    "    counter = Counter()\n",
    "    for data in tqdm(all_xs): counter += Counter(data.split())\n",
    "    save_pickle(f\"counter_{k}.pkl\", counter)"
   ]
  },
  {
   "cell_type": "markdown",
   "metadata": {},
   "source": [
    "- Lower all cases\n",
    "- Remove all punctuations"
   ]
  },
  {
   "cell_type": "code",
   "execution_count": 42,
   "metadata": {},
   "outputs": [],
   "source": [
    "def strip_punc(s): \n",
    "    return s.translate(str.maketrans('', '', string.punctuation))\n",
    "\n",
    "# lower all cases\n",
    "our_vocab = {v.lower() for v in counter}\n",
    "del counter\n",
    "\n",
    "# remove all punctuations\n",
    "our_vocab = {strip_punc(v) for v in our_vocab}"
   ]
  },
  {
   "cell_type": "markdown",
   "metadata": {},
   "source": [
    "We ignore some things like `endeavor` can only be used as verb but it's British English type can be used both as verb and noun thingy. Too complicated. \n",
    "\n",
    "Commonly we'll have these [spelling method](https://www.oxfordinternationalenglish.com/differences-in-british-and-american-spelling/) differences and we also have [common words](https://www.thoughtco.com/american-english-to-british-english-4010264)"
   ]
  },
  {
   "cell_type": "code",
   "execution_count": 43,
   "metadata": {},
   "outputs": [],
   "source": [
    "# Discovery method\n",
    "from IPython.display import clear_output\n",
    "\n",
    "\n",
    "def brit_to_amer(ending, brit_rule, americ_rule):\n",
    "    r = re.compile(ending)\n",
    "    compare_list = list(filter(r.match, our_vocab))\n",
    "    ame_list = [re.sub(brit_rule, americ_rule, s) for s in compare_list]\n",
    "\n",
    "    non_empty = {}\n",
    "    for b, a in tqdm(zip(compare_list, ame_list)):\n",
    "        m = re.compile(rf'{a}')\n",
    "        z = list(filter(m.match, our_vocab))\n",
    "        if a in z: non_empty[b] = a\n",
    "\n",
    "    return non_empty\n",
    "\n",
    "\n",
    "british_eng = {\n",
    "    \"rumour\": \"rumor\",\n",
    "    \"vapour\": \"vapor\",\n",
    "    \"arbour\": \"arbor\",\n",
    "    \"colour\": \"color\",\n",
    "    \"behaviour\": \"behavior\",\n",
    "    \"saviour\": \"savior\",\n",
    "    \"favour\": \"favor\",\n",
    "    \"armour\": \"armor\",\n",
    "    \"honour\": \"honor\",\n",
    "    \"inferiour\": \"inferior\",\n",
    "    \"labour\": \"labor\",\n",
    "    \"humour\": \"humor\",\n",
    "    \"endeavour\": \"endeavor\",\n",
    "    \"harbour\": \"harbor\",\n",
    "    \"fervour\": \"fervor\",\n",
    "    \"parlour\": \"parlor\",\n",
    "    \"neighbour\": \"neighbor\",\n",
    "    \"flavour\": \"flavor\",\n",
    "    \"belabour\": \"belabor\",\n",
    "    'survivour': 'survivor',  # end of our --> or.\n",
    "    'aerial': \"antenna\",\n",
    "    'anywhere': 'anyplace', \n",
    "    # 'autumn': 'fall'   # which fall we're deciding? fall or fall?\n",
    "    \"solicitor\": \"attorney\",\n",
    "    'biscuit': 'cookie',\n",
    "    'bonnet': 'hood',\n",
    "    'janitor': 'aretaker',\n",
    "    'constable': 'patrolman',\n",
    "    'dynamo': 'generator',\n",
    "    # and others it's just too many one decide to leave it here for now. \n",
    "}\n",
    "\n",
    "# our to or is too dirty to be used. \n",
    "british_eng.update(brit_to_amer(r'[a-z]+ise$', r'ise', r'ize')) # ise --> ize. \n",
    "british_eng.update(brit_to_amer(r'[a-z]+yse$', 'yse', 'yze'))  # use --> yze\n",
    "british_eng.update(brit_to_amer(r'[a-z]+ae[a-z]$', 'ae', 'e'))  # ae --> e\n",
    "del british_eng[\"michael\"], british_eng[\"laer\"], british_eng[\"caen\"]\n",
    "del british_eng[\"raes\"]\n",
    "# oe --> e checked nothing useful (mostly useful translated become rubbish)\n",
    "british_eng.update({'defence': 'defense',\n",
    " 'sence': 'sense',\n",
    " 'selfdefence': 'selfdefense',\n",
    " 'nonsence': 'nonsense',\n",
    " 'pretence': 'pretense',\n",
    " 'absence': 'absense',\n",
    " 'essence': 'essense',\n",
    " 'licence': 'license',\n",
    " 'offence': 'offense'})  # ence --> ense after deleting rubbish.\n",
    "british_eng.update({'catalogue': 'catalog'})  # ogue --> og. \n",
    "# spelling\n",
    "\n",
    "\n",
    "clear_output()\n",
    "# british_eng = defaultdict(str, british_eng)\n",
    "# british_eng"
   ]
  },
  {
   "cell_type": "markdown",
   "metadata": {},
   "source": [
    "Spelling mistakes are done manually when we check the output of stuffs and hence depends on my expertize in English. "
   ]
  },
  {
   "cell_type": "code",
   "execution_count": 44,
   "metadata": {},
   "outputs": [
    {
     "data": {
      "application/vnd.jupyter.widget-view+json": {
       "model_id": "e35abc554c114dbab31d4345c0bc1bbd",
       "version_major": 2,
       "version_minor": 0
      },
      "text/plain": [
       "0it [00:00, ?it/s]"
      ]
     },
     "metadata": {},
     "output_type": "display_data"
    }
   ],
   "source": [
    "spelling_mistakes = {\n",
    "    \"bahaviour\": \"behavior\",\n",
    "    \"excercise\": \"exercise\",\n",
    "    \"supprise\": \"surprise\",\n",
    "    \"suprise\": \"surprise\",\n",
    "    \"appologise\": \"apologize\",\n",
    "    \"appologize\": \"apologize\",\n",
    "    'excersise': \"exercise\",\n",
    "    'oterwise': \"otherwise\",\n",
    "    \"frnachise\": \"franchise\",\n",
    "    \"fulfullment\": \"fulfillment\",\n",
    "    'usuallu': \"usually\",\n",
    "    'specfically': \"specifically\",\n",
    "    'espically': \"especially\",\n",
    "    \"talll\": \"tall\",\n",
    "    'usally': \"usually\",\n",
    "    'ususally': \"unusually\",\n",
    "    'adventually': 'eventually',\n",
    "    'oscialltor': 'oscillator',\n",
    "    'xcellerator': 'accelerator',\n",
    "    'reccollecting': 'recollecting',\n",
    "    'osciallator': 'oscillator',\n",
    "    'unballance': 'unbalance',\n",
    "    'congroller': 'controller',\n",
    "    'weeeeelllllll': 'well',\n",
    "    'killig': 'killing',\n",
    "    'oscilliscope': \"oscilloscope\",\n",
    "    \"ussually\": \"usually\",\n",
    "    'knoew': 'knew',\n",
    "    \"hense\": \"hence\",\n",
    "    \n",
    "}\n",
    "\n",
    "spelling_mistakes.update(brit_to_amer(r'[a-z]+lll[a-z]+$', 'lll', 'll'))"
   ]
  },
  {
   "cell_type": "markdown",
   "metadata": {},
   "source": [
    "Replace spelling mistakes before british to american. "
   ]
  },
  {
   "cell_type": "code",
   "execution_count": 45,
   "metadata": {},
   "outputs": [],
   "source": [
    "def word_neutralizer(spell, brit_to_amer, word, return_type=\"str\"):\n",
    "    \"\"\"\n",
    "    Neutralizes word(s). \n",
    "\n",
    "    :spell: (dict/equivalent) contains spelling mistakes. Mistakes are the \n",
    "        keys and corrected words are the values. \n",
    "    :brit_to_amer: (dict/equivalent) british to american. British English \n",
    "        as keys, American English as values. (Could be reversed if you\n",
    "        with it to be the other way round).\n",
    "    :word: (str/list/equivalent) Word(s) that we want to clean. \n",
    "    :return_type: (str) The return type. Make sure what you enter are in\n",
    "        quotations and they're imported/legible type or this whole function\n",
    "        will fail. \n",
    "\n",
    "    :return: cleaned words. \n",
    "    \"\"\"\n",
    "    # spell = defaultdict(str, spell)\n",
    "    # brit_to_amer = defaultdict(str, brit_to_amer)\n",
    "\n",
    "    # changes spelling mistakes first before brit_to_amer\n",
    "    for k, v in spell.items(): word = word.replace(k, v)\n",
    "    for k, v in brit_to_amer.items(): word = word.replace(k, v)\n",
    "    return word"
   ]
  },
  {
   "cell_type": "code",
   "execution_count": 46,
   "metadata": {},
   "outputs": [],
   "source": [
    "assert word_neutralizer(spelling_mistakes, british_eng, \"hense colour\") == \"hence color\"\n",
    "assert word_neutralizer(spelling_mistakes, british_eng, \"hense color\") == \"hence color\"\n",
    "assert word_neutralizer(spelling_mistakes, british_eng, \"hence colour\") == \"hence color\"\n",
    "assert word_neutralizer(spelling_mistakes, british_eng, \"hence color\") == \"hence color\""
   ]
  },
  {
   "cell_type": "code",
   "execution_count": 47,
   "metadata": {},
   "outputs": [
    {
     "data": {
      "text/plain": [
       "'\\n\\nWell 48 bit color *could* be for improved resolution but 16 bits per channel\\nseems like a bit excessive. I have seen a paper that quoted 10 bits per channel\\nof 12 bits for computational precision. More than that would seem to be wasted.\\n\\nPerhaps the frame buffer uses another colorspace which needs more bits to\\nrepresent the full range - RGB is a cube so it is a compact encoding.\\n\\nMost likely however is that there are two separate 24 bit (8 bits per component)\\nframe buffers. This set up, called double buffering, allows a complex 3d picture\\nto be built up on one buffer while the other buffer (containing the previous\\nframe) is displayed. This makes for smoother animation.\\n\\n\\nWell hey if you want to brag about numbers, the 5000 range can take a PXG Turbo+\\ncard with 96 bits per pixel. Full double buffering (Two 24 bit buffers), a 24\\nbit Z buffer and an extra 24 bit buffer for off screen image storage.\\n\\nMind you the card costs more than your workstation.\\n\\n--\\nChris Lilley\\n----------------------------------------------------------------------------\\nTechnical Author, ITTI Computer Graphics and Visualisation Training Project\\nComputer Graphics Unit, Manchester Computing Centre, Oxford Road, \\nManchester, UK.  M13 9PL                        Internet: C.C. \\nVoice: +44  275 6045  Fax: +44  275 6040 Janet: C.C.'"
      ]
     },
     "execution_count": 47,
     "metadata": {},
     "output_type": "execute_result"
    }
   ],
   "source": [
    "word_neutralizer(spelling_mistakes, british_eng, all_xs[155])"
   ]
  },
  {
   "cell_type": "code",
   "execution_count": 48,
   "metadata": {},
   "outputs": [
    {
     "data": {
      "application/vnd.jupyter.widget-view+json": {
       "model_id": "42170760ead746538c16d82cf63e384b",
       "version_major": 2,
       "version_minor": 0
      },
      "text/plain": [
       "  0%|          | 0/11708 [00:00<?, ?it/s]"
      ]
     },
     "metadata": {},
     "output_type": "display_data"
    }
   ],
   "source": [
    "for k in tqdm(range(len(all_xs))):\n",
    "    all_xs[k] = word_neutralizer(spelling_mistakes, british_eng, all_xs[k])"
   ]
  },
  {
   "cell_type": "code",
   "execution_count": 49,
   "metadata": {},
   "outputs": [],
   "source": [
    "df = pd.DataFrame([all_xs, all_y]).T\n",
    "df.columns = [\"text_\", \"category\"]"
   ]
  },
  {
   "cell_type": "markdown",
   "metadata": {},
   "source": [
    "# ULMFiT\n",
    "\n",
    "We are using a method called ULMFiT: which this AWD-LSTM are pretrained on (English) wikipedia text (corpus name wikitext-103). Then, we will do transfer learning and fine tune it on our corpus, then only we do the classification task removing AWD-LSTM's head for second transfer learning. \n",
    "\n",
    "We are on the pretraining stage. \n",
    "\n",
    "Note this requires quite a lot of RAM so if you have smaller RAM, play around with the batch size, seq_len, etc (or more easier, rent a vm with a larger RAM)."
   ]
  },
  {
   "cell_type": "code",
   "execution_count": 50,
   "metadata": {},
   "outputs": [
    {
     "data": {
      "text/plain": [
       "True"
      ]
     },
     "execution_count": 50,
     "metadata": {},
     "output_type": "execute_result"
    }
   ],
   "source": [
    "RETRAIN = False if \"fine_tuned_enc.pth\" in os.listdir(\"models\") else True\n",
    "RETRAIN"
   ]
  },
  {
   "cell_type": "code",
   "execution_count": 51,
   "metadata": {},
   "outputs": [
    {
     "data": {
      "text/html": [],
      "text/plain": [
       "<IPython.core.display.HTML object>"
      ]
     },
     "metadata": {},
     "output_type": "display_data"
    },
    {
     "name": "stderr",
     "output_type": "stream",
     "text": [
      "/anaconda/envs/fastai/lib/python3.8/site-packages/numpy/core/_asarray.py:102: VisibleDeprecationWarning: Creating an ndarray from ragged nested sequences (which is a list-or-tuple of lists-or-tuples-or ndarrays with different lengths or shapes) is deprecated. If you meant to do this, you must specify 'dtype=object' when creating the ndarray.\n",
      "  return array(a, dtype, copy=False, order=order)\n"
     ]
    },
    {
     "data": {
      "text/html": [
       "<table border=\"1\" class=\"dataframe\">\n",
       "  <thead>\n",
       "    <tr style=\"text-align: right;\">\n",
       "      <th></th>\n",
       "      <th>text</th>\n",
       "      <th>text_</th>\n",
       "    </tr>\n",
       "  </thead>\n",
       "  <tbody>\n",
       "    <tr>\n",
       "      <th>0</th>\n",
       "      <td>xxbos xxmaj actually , i find the stuff about xxup jc being a carpenter more \\n interesting . xxmaj is there an independent source for this assertion , \\n or is it all from the xxmaj christian xxmaj bible ? xxmaj is there any record at \\n all of anything he built ? a table , a house , some stairs ( norm \\n xxmaj abrams says the real test of a</td>\n",
       "      <td>xxmaj actually , i find the stuff about xxup jc being a carpenter more \\n interesting . xxmaj is there an independent source for this assertion , \\n or is it all from the xxmaj christian xxmaj bible ? xxmaj is there any record at \\n all of anything he built ? a table , a house , some stairs ( norm \\n xxmaj abrams says the real test of a carpenter</td>\n",
       "    </tr>\n",
       "    <tr>\n",
       "      <th>1</th>\n",
       "      <td>of the \\n pool , a man who xxunk 1,700 workers ? xxmaj now , it 's true , there was a \\n reduction , but for sure there are still 1,200 conductors working for him . xxmaj and \\n if someone who xxunk a staff that size says things like that , then what \\n can you expect from a simple , uneducated , politically unsophisticated person ? ! \\n xxmaj</td>\n",
       "      <td>the \\n pool , a man who xxunk 1,700 workers ? xxmaj now , it 's true , there was a \\n reduction , but for sure there are still 1,200 conductors working for him . xxmaj and \\n if someone who xxunk a staff that size says things like that , then what \\n can you expect from a simple , uneducated , politically unsophisticated person ? ! \\n xxmaj he</td>\n",
       "    </tr>\n",
       "  </tbody>\n",
       "</table>"
      ],
      "text/plain": [
       "<IPython.core.display.HTML object>"
      ]
     },
     "metadata": {},
     "output_type": "display_data"
    }
   ],
   "source": [
    "if RETRAIN:\n",
    "    bs = 96\n",
    "    dls_lm = TextDataLoaders.from_df(df, is_lm=True, bs=bs,\n",
    "                n_workers=os.cpu_count() * 2)\n",
    "    dls_lm.show_batch(max_n=2)"
   ]
  },
  {
   "cell_type": "markdown",
   "metadata": {},
   "source": [
    "`wd` stands for weight decay, particularly L2 regularization. `drop_mult` stands for Dropouts, particularly there're lots of dropouts in `AWD_LSTM` and there're a preset numbers for each of them that are tuned for it to work, and for experts we could use lower level fastai's API to tune them manually but usually the default are good enough so we have this `drop_mult` as a multiplier to **each of the dropouts value**, controlling all at once rather than separately. "
   ]
  },
  {
   "cell_type": "code",
   "execution_count": 52,
   "metadata": {},
   "outputs": [
    {
     "data": {
      "text/html": [],
      "text/plain": [
       "<IPython.core.display.HTML object>"
      ]
     },
     "metadata": {},
     "output_type": "display_data"
    },
    {
     "name": "stderr",
     "output_type": "stream",
     "text": [
      "/anaconda/envs/fastai/lib/python3.8/site-packages/fastai/callback/schedule.py:269: UserWarning: color is redundantly defined by the 'color' keyword argument and the fmt string \"ro\" (-> color='r'). The keyword argument will take precedence.\n",
      "  ax.plot(val, idx, 'ro', label=nm, c=color)\n"
     ]
    },
    {
     "data": {
      "image/png": "[encoded data removed]",
      "text/plain": [
       "<Figure size 432x288 with 1 Axes>"
      ]
     },
     "metadata": {
      "needs_background": "light"
     },
     "output_type": "display_data"
    }
   ],
   "source": [
    "if RETRAIN:\n",
    "    learn = language_model_learner(dls_lm, AWD_LSTM, pretrained=True, \n",
    "                metrics=[accuracy, Perplexity()], wd=0.1, drop_mult=0.3,\n",
    "                moms=(0.8, 0.7, 0.8)).to_fp16()\n",
    "    learn.lr_find()"
   ]
  },
  {
   "cell_type": "markdown",
   "metadata": {},
   "source": [
    "When you use `learn.fine_tune()` nowadays, by default it will **train the last layer** for **one epoch** (which could be changed by changing `freeze_epochs`), and then you can train for `epochs` number thereafter. The **total number of epochs trained** is `freeze_epochs + epochs`. "
   ]
  },
  {
   "cell_type": "code",
   "execution_count": 53,
   "metadata": {},
   "outputs": [
    {
     "data": {
      "text/html": [
       "<table border=\"1\" class=\"dataframe\">\n",
       "  <thead>\n",
       "    <tr style=\"text-align: left;\">\n",
       "      <th>epoch</th>\n",
       "      <th>train_loss</th>\n",
       "      <th>valid_loss</th>\n",
       "      <th>accuracy</th>\n",
       "      <th>perplexity</th>\n",
       "      <th>time</th>\n",
       "    </tr>\n",
       "  </thead>\n",
       "  <tbody>\n",
       "    <tr>\n",
       "      <td>0</td>\n",
       "      <td>4.792135</td>\n",
       "      <td>4.941532</td>\n",
       "      <td>0.217837</td>\n",
       "      <td>139.984558</td>\n",
       "      <td>13:58</td>\n",
       "    </tr>\n",
       "  </tbody>\n",
       "</table>"
      ],
      "text/plain": [
       "<IPython.core.display.HTML object>"
      ]
     },
     "metadata": {},
     "output_type": "display_data"
    },
    {
     "data": {
      "text/html": [
       "<table border=\"1\" class=\"dataframe\">\n",
       "  <thead>\n",
       "    <tr style=\"text-align: left;\">\n",
       "      <th>epoch</th>\n",
       "      <th>train_loss</th>\n",
       "      <th>valid_loss</th>\n",
       "      <th>accuracy</th>\n",
       "      <th>perplexity</th>\n",
       "      <th>time</th>\n",
       "    </tr>\n",
       "  </thead>\n",
       "  <tbody>\n",
       "    <tr>\n",
       "      <td>0</td>\n",
       "      <td>4.189518</td>\n",
       "      <td>4.410872</td>\n",
       "      <td>0.263131</td>\n",
       "      <td>82.341270</td>\n",
       "      <td>16:06</td>\n",
       "    </tr>\n",
       "    <tr>\n",
       "      <td>1</td>\n",
       "      <td>3.905921</td>\n",
       "      <td>4.060105</td>\n",
       "      <td>0.304952</td>\n",
       "      <td>57.980389</td>\n",
       "      <td>16:06</td>\n",
       "    </tr>\n",
       "    <tr>\n",
       "      <td>2</td>\n",
       "      <td>3.497552</td>\n",
       "      <td>3.809278</td>\n",
       "      <td>0.331691</td>\n",
       "      <td>45.117844</td>\n",
       "      <td>16:04</td>\n",
       "    </tr>\n",
       "  </tbody>\n",
       "</table>"
      ],
      "text/plain": [
       "<IPython.core.display.HTML object>"
      ]
     },
     "metadata": {},
     "output_type": "display_data"
    }
   ],
   "source": [
    "if RETRAIN: \n",
    "    lr = 5e-3\n",
    "    lr *= bs/48\n",
    "    learn.fine_tune(3, lr*10, moms=(0.8, 0.7, 0.8))"
   ]
  },
  {
   "cell_type": "markdown",
   "metadata": {},
   "source": [
    "One epoch training 0.311626 results. 10 epochs check `std_log.txt` training on another VM got 0.34+ results. "
   ]
  },
  {
   "cell_type": "code",
   "execution_count": 54,
   "metadata": {},
   "outputs": [],
   "source": [
    "save_path = Path(os.getcwd())/\"models\" # this is gitignored as it's v.big. \n",
    "if RETRAIN:   \n",
    "    learn.save(save_path/\"fine_tuned\")\n",
    "    learn.save_encoder(save_path/\"fine_tuned_enc\")"
   ]
  },
  {
   "cell_type": "markdown",
   "metadata": {},
   "source": [
    "Next we **load ONLY the encoder** for classification. Particularly because the encoder is the *body* of the model that isn't changed, and those that are not the encoder are called the *head* (which is specific for different task). Now that we're not doing text prediction but text classification, we have a different task, hence different head; but the body (encoder) stays the same as before. That's why we load weights for the encoder only, not the whole model. "
   ]
  },
  {
   "cell_type": "code",
   "execution_count": 55,
   "metadata": {},
   "outputs": [
    {
     "data": {
      "text/plain": [
       "17337"
      ]
     },
     "execution_count": 55,
     "metadata": {},
     "output_type": "execute_result"
    }
   ],
   "source": [
    "vocab = dls_lm.vocab\n",
    "try: del learn, dls_lm\n",
    "except Exception: pass\n",
    "torch.cuda.empty_cache()\n",
    "gc.collect()"
   ]
  },
  {
   "cell_type": "code",
   "execution_count": 56,
   "metadata": {},
   "outputs": [
    {
     "data": {
      "text/html": [],
      "text/plain": [
       "<IPython.core.display.HTML object>"
      ]
     },
     "metadata": {},
     "output_type": "display_data"
    },
    {
     "name": "stderr",
     "output_type": "stream",
     "text": [
      "/anaconda/envs/fastai/lib/python3.8/site-packages/numpy/core/_asarray.py:102: VisibleDeprecationWarning: Creating an ndarray from ragged nested sequences (which is a list-or-tuple of lists-or-tuples-or ndarrays with different lengths or shapes) is deprecated. If you meant to do this, you must specify 'dtype=object' when creating the ndarray.\n",
      "  return array(a, dtype, copy=False, order=order)\n"
     ]
    },
    {
     "data": {
      "text/html": [
       "<table border=\"1\" class=\"dataframe\">\n",
       "  <thead>\n",
       "    <tr style=\"text-align: right;\">\n",
       "      <th></th>\n",
       "      <th>text</th>\n",
       "      <th>category</th>\n",
       "    </tr>\n",
       "  </thead>\n",
       "  <tbody>\n",
       "    <tr>\n",
       "      <th>0</th>\n",
       "      <td>xxbos xxmaj archive - name : hockey - faq \\n\\n rec.sport.hockey answers to xxmaj frequently xxmaj asked xxmaj questions and other news : \\n▁\\n xxmaj contents : \\n\\n 0 . xxmaj new xxmaj info . \\n 1 . xxup nhl \\n 2 . xxup nhl xxmaj minor xxmaj leagues \\n 3 . xxmaj college xxmaj hockey ( north xxmaj america ) \\n 4 . xxmaj other leagues ( e.g. xxmaj europe , xxmaj canada xxmaj cup tournament ) \\n 5 . xxmaj e - mail files \\n 6 . xxup usenet xxmaj hockey xxmaj pool \\n 7 . xxmaj up - coming xxmaj dates \\n 8 . xxmaj answers to some frequently asked questions \\n 9 . xxmaj miscellaneous \\n▁\\n▁ xxmaj send comments , suggestions and criticisms regarding this xxup faq list via e- \\n mail to \\n▁\\n▁ xxrep 74 - \\n▁\\n▁ 0 . xxmaj new xxmaj info . \\n▁\\n▁</td>\n",
       "      <td>10</td>\n",
       "    </tr>\n",
       "    <tr>\n",
       "      <th>1</th>\n",
       "      <td>xxbos xxmaj accounts of anti - armenian xxmaj human xxmaj right xxmaj violations in xxmaj azerbaijan # 008 xxmaj part b \\n▁ xxmaj prelude to xxmaj current xxmaj events in nagorno - karabakh \\n\\n\\t\\t\\t\\t ( part b of # 008 ) \\n\\n▁ + xxrep 66 - + \\n▁\\n▁ \" oh , yes , i just remembered . xxmaj while they were raping me they \\n▁ repeated quite frequently , \" let the xxmaj armenian women have babies \\n▁ for us , xxmaj muslim babies , let them bear xxmaj azerbaijanis for the \\n▁ struggle against the xxmaj armenians . \" xxmaj then they said , \" those \\n▁ xxmaj muslims can carry on our holy cause . xxmaj heroes ! \" xxmaj they repeated \\n▁ it very often . \" \\n▁\\n▁ + xxrep 66 - + \\n\\n▁ … continued from xxup part xxup a : \\n\\n xxmaj the six of</td>\n",
       "      <td>17</td>\n",
       "    </tr>\n",
       "  </tbody>\n",
       "</table>"
      ],
      "text/plain": [
       "<IPython.core.display.HTML object>"
      ]
     },
     "metadata": {},
     "output_type": "display_data"
    }
   ],
   "source": [
    "sl = 72  # sequence length. \n",
    "bs = 36\n",
    "\n",
    "dls = DataBlock(\n",
    "    blocks=(TextBlock.from_df(\"text_\", vocab=vocab, seq_len=sl, tok=SpacyTokenizer(\"en\")),\n",
    "            CategoryBlock),\n",
    "    get_x=ColReader(\"text\"), get_y=ColReader(\"category\"),\n",
    "    splitter=RandomSplitter(0.1)\n",
    ").dataloaders(df, bs=bs, num_workers=os.cpu_count()*2, seq_len=sl)\n",
    "\n",
    "dls.show_batch(max_n=2)"
   ]
  },
  {
   "cell_type": "markdown",
   "metadata": {},
   "source": [
    "Note we'll perform \"gradual unfreezing\" here for training. \n",
    "\n",
    "Note the transfer learning we take from another learning platform seems to fail here due to mismatch of shape. We don't know what happens with that either. "
   ]
  },
  {
   "cell_type": "code",
   "execution_count": 57,
   "metadata": {},
   "outputs": [],
   "source": [
    "learn_c = text_classifier_learner(dls, AWD_LSTM, drop_mult=0.3,\n",
    "                metrics=accuracy, moms=(0.8, 0.7, 0.8)).to_fp16()\n",
    "learn_c.load_encoder(save_path/\"fine_tuned_enc\")\n",
    "learn_c.freeze()"
   ]
  },
  {
   "cell_type": "code",
   "execution_count": 58,
   "metadata": {},
   "outputs": [
    {
     "data": {
      "text/html": [],
      "text/plain": [
       "<IPython.core.display.HTML object>"
      ]
     },
     "metadata": {},
     "output_type": "display_data"
    },
    {
     "name": "stderr",
     "output_type": "stream",
     "text": [
      "/anaconda/envs/fastai/lib/python3.8/site-packages/fastai/callback/schedule.py:269: UserWarning: color is redundantly defined by the 'color' keyword argument and the fmt string \"ro\" (-> color='r'). The keyword argument will take precedence.\n",
      "  ax.plot(val, idx, 'ro', label=nm, c=color)\n"
     ]
    },
    {
     "data": {
      "text/plain": [
       "SuggestedLRs(valley=0.00363078061491251)"
      ]
     },
     "execution_count": 58,
     "metadata": {},
     "output_type": "execute_result"
    },
    {
     "data": {
      "image/png": "[encoded data removed]",
      "text/plain": [
       "<Figure size 432x288 with 1 Axes>"
      ]
     },
     "metadata": {
      "needs_background": "light"
     },
     "output_type": "display_data"
    }
   ],
   "source": [
    "learn_c.lr_find()"
   ]
  },
  {
   "cell_type": "code",
   "execution_count": 59,
   "metadata": {},
   "outputs": [
    {
     "data": {
      "text/html": [
       "<table border=\"1\" class=\"dataframe\">\n",
       "  <thead>\n",
       "    <tr style=\"text-align: left;\">\n",
       "      <th>epoch</th>\n",
       "      <th>train_loss</th>\n",
       "      <th>valid_loss</th>\n",
       "      <th>accuracy</th>\n",
       "      <th>time</th>\n",
       "    </tr>\n",
       "  </thead>\n",
       "  <tbody>\n",
       "    <tr>\n",
       "      <td>0</td>\n",
       "      <td>0.925811</td>\n",
       "      <td>0.725234</td>\n",
       "      <td>0.775214</td>\n",
       "      <td>04:55</td>\n",
       "    </tr>\n",
       "    <tr>\n",
       "      <td>1</td>\n",
       "      <td>0.714978</td>\n",
       "      <td>0.646636</td>\n",
       "      <td>0.792308</td>\n",
       "      <td>04:57</td>\n",
       "    </tr>\n",
       "  </tbody>\n",
       "</table>"
      ],
      "text/plain": [
       "<IPython.core.display.HTML object>"
      ]
     },
     "metadata": {},
     "output_type": "display_data"
    }
   ],
   "source": [
    "learn_c.fit_one_cycle(2, 1e-2, moms=(0.8, 0.7, 0.8))"
   ]
  },
  {
   "cell_type": "code",
   "execution_count": 60,
   "metadata": {},
   "outputs": [
    {
     "data": {
      "text/plain": [
       "Path('/home/fastai2/notebooks/DataGlacier/NLP_GroupProject_DG/Week_12/models/first.pth')"
      ]
     },
     "execution_count": 60,
     "metadata": {},
     "output_type": "execute_result"
    }
   ],
   "source": [
    "learn_c.save(save_path/\"first\")"
   ]
  },
  {
   "cell_type": "markdown",
   "metadata": {},
   "source": [
    "#### Unfreeze last two layers and train for one cycle, save intermediate result."
   ]
  },
  {
   "cell_type": "code",
   "execution_count": 61,
   "metadata": {},
   "outputs": [
    {
     "data": {
      "text/html": [
       "<table border=\"1\" class=\"dataframe\">\n",
       "  <thead>\n",
       "    <tr style=\"text-align: left;\">\n",
       "      <th>epoch</th>\n",
       "      <th>train_loss</th>\n",
       "      <th>valid_loss</th>\n",
       "      <th>accuracy</th>\n",
       "      <th>time</th>\n",
       "    </tr>\n",
       "  </thead>\n",
       "  <tbody>\n",
       "    <tr>\n",
       "      <td>0</td>\n",
       "      <td>0.772631</td>\n",
       "      <td>0.667861</td>\n",
       "      <td>0.781197</td>\n",
       "      <td>05:59</td>\n",
       "    </tr>\n",
       "    <tr>\n",
       "      <td>1</td>\n",
       "      <td>0.557457</td>\n",
       "      <td>0.605630</td>\n",
       "      <td>0.799145</td>\n",
       "      <td>05:59</td>\n",
       "    </tr>\n",
       "  </tbody>\n",
       "</table>"
      ],
      "text/plain": [
       "<IPython.core.display.HTML object>"
      ]
     },
     "metadata": {},
     "output_type": "display_data"
    }
   ],
   "source": [
    "learn_c.freeze_to(-2)\n",
    "learn_c.fit_one_cycle(2, slice(5e-3/(2.6**4), 5e-3), moms=(0.8, 0.7, 0.8))"
   ]
  },
  {
   "cell_type": "code",
   "execution_count": 62,
   "metadata": {},
   "outputs": [
    {
     "data": {
      "text/plain": [
       "Path('/home/fastai2/notebooks/DataGlacier/NLP_GroupProject_DG/Week_12/models/second.pth')"
      ]
     },
     "execution_count": 62,
     "metadata": {},
     "output_type": "execute_result"
    }
   ],
   "source": [
    "learn_c.save(save_path/\"second\")"
   ]
  },
  {
   "cell_type": "markdown",
   "metadata": {},
   "source": [
    "#### Unfreeze last three layers and train for one cycle, and save intermediate result. "
   ]
  },
  {
   "cell_type": "code",
   "execution_count": 63,
   "metadata": {},
   "outputs": [
    {
     "data": {
      "text/html": [
       "<table border=\"1\" class=\"dataframe\">\n",
       "  <thead>\n",
       "    <tr style=\"text-align: left;\">\n",
       "      <th>epoch</th>\n",
       "      <th>train_loss</th>\n",
       "      <th>valid_loss</th>\n",
       "      <th>accuracy</th>\n",
       "      <th>time</th>\n",
       "    </tr>\n",
       "  </thead>\n",
       "  <tbody>\n",
       "    <tr>\n",
       "      <td>0</td>\n",
       "      <td>0.531100</td>\n",
       "      <td>0.654522</td>\n",
       "      <td>0.804273</td>\n",
       "      <td>09:29</td>\n",
       "    </tr>\n",
       "    <tr>\n",
       "      <td>1</td>\n",
       "      <td>0.322739</td>\n",
       "      <td>0.594309</td>\n",
       "      <td>0.820513</td>\n",
       "      <td>09:31</td>\n",
       "    </tr>\n",
       "  </tbody>\n",
       "</table>"
      ],
      "text/plain": [
       "<IPython.core.display.HTML object>"
      ]
     },
     "metadata": {},
     "output_type": "display_data"
    }
   ],
   "source": [
    "learn_c.freeze_to(-3)\n",
    "learn_c.fit_one_cycle(2, slice(3e-3/(2.6**4), 3e-3), moms=(0.8, 0.7, 0.8))"
   ]
  },
  {
   "cell_type": "code",
   "execution_count": 64,
   "metadata": {},
   "outputs": [
    {
     "data": {
      "text/plain": [
       "Path('/home/fastai2/notebooks/DataGlacier/NLP_GroupProject_DG/Week_12/models/third.pth')"
      ]
     },
     "execution_count": 64,
     "metadata": {},
     "output_type": "execute_result"
    }
   ],
   "source": [
    "learn_c.save(save_path/\"third\")"
   ]
  },
  {
   "cell_type": "markdown",
   "metadata": {},
   "source": [
    "#### Unfreeze all layers, train for two cycles, and save the result. \n",
    "If encountered `CUDA ERROR: unspecified launch failure`, try on the second try (i.e. run the code cell one more time again). "
   ]
  },
  {
   "cell_type": "code",
   "execution_count": 65,
   "metadata": {},
   "outputs": [
    {
     "data": {
      "text/html": [
       "<table border=\"1\" class=\"dataframe\">\n",
       "  <thead>\n",
       "    <tr style=\"text-align: left;\">\n",
       "      <th>epoch</th>\n",
       "      <th>train_loss</th>\n",
       "      <th>valid_loss</th>\n",
       "      <th>accuracy</th>\n",
       "      <th>time</th>\n",
       "    </tr>\n",
       "  </thead>\n",
       "  <tbody>\n",
       "    <tr>\n",
       "      <td>0</td>\n",
       "      <td>0.248832</td>\n",
       "      <td>0.611578</td>\n",
       "      <td>0.818803</td>\n",
       "      <td>12:35</td>\n",
       "    </tr>\n",
       "    <tr>\n",
       "      <td>1</td>\n",
       "      <td>0.177222</td>\n",
       "      <td>0.610581</td>\n",
       "      <td>0.826496</td>\n",
       "      <td>12:33</td>\n",
       "    </tr>\n",
       "  </tbody>\n",
       "</table>"
      ],
      "text/plain": [
       "<IPython.core.display.HTML object>"
      ]
     },
     "metadata": {},
     "output_type": "display_data"
    }
   ],
   "source": [
    "learn_c.unfreeze()\n",
    "learn_c.fit_one_cycle(2, slice(1e-3/(2.6**4), 1e-3), moms=(0.8, 0.7, 0.8))"
   ]
  },
  {
   "cell_type": "code",
   "execution_count": 66,
   "metadata": {},
   "outputs": [
    {
     "data": {
      "text/plain": [
       "Path('/home/fastai2/notebooks/DataGlacier/NLP_GroupProject_DG/Week_12/models/final_model.pth')"
      ]
     },
     "execution_count": 66,
     "metadata": {},
     "output_type": "execute_result"
    }
   ],
   "source": [
    "learn_c.save(save_path/\"final_model\")"
   ]
  },
  {
   "cell_type": "markdown",
   "metadata": {},
   "source": [
    "### Noticed things:\n",
    "- This notebook was created on an instance with a single K80 GPU. However, training was tested on a V100 GPU, and these are the conclusions: \n",
    "\n",
    "- During pretraining, K80 takes about 15-17 minutes per epoch, while for K80 it's 6-7 minutes per epoch. It's quite an improvement, but consider that P100 gives about 8-9 minutes per epoch, it's not a big improvement as starting from V100, FP16 should be used and exponential increment is expected but not really seen here. (Although we use `to_fp16()`, it does check whether the GPU supports or not, and if not support, it won't use FP16). \n",
    "\n",
    "- For classification task, this is where the improvement allows. K80 takes quite some time depending on how many models to train. Training for last layer only takes 5 minutes, last two layers about 6 minutes, last three layers about 9-10 minutes, and whole model takes more than 10 minutes. However, for V100, it only takes about 30 seconds for last layer only, up to 1 min for whole model. This is what we expect to see. \n",
    "\n",
    "- Longer pretraining doesn't necessarily means it'll do better classification task. All in all, the tricks on hyperparameter tuning the epochs/lr/etc on classification model are as important for better results. Results currently capped at less than 0.83 for a few variations in hyperparameters of training. It is unsure whether longer training time (more epochs) will give better result. "
   ]
  },
  {
   "cell_type": "code",
   "execution_count": null,
   "metadata": {},
   "outputs": [],
   "source": []
  }
 ],
 "metadata": {
  "interpreter": {
   "hash": "2332e3d2bb5a0777e9aeaf29763188d62a394303965da046a80937952abed10b"
  },
  "kernelspec": {
   "display_name": "Python 3.8.11 64-bit ('dg1': conda)",
   "language": "python",
   "name": "python3"
  },
  "language_info": {
   "codemirror_mode": {
    "name": "ipython",
    "version": 3
   },
   "file_extension": ".py",
   "mimetype": "text/x-python",
   "name": "python",
   "nbconvert_exporter": "python",
   "pygments_lexer": "ipython3",
   "version": "3.8.11"
  },
  "orig_nbformat": 4
 },
 "nbformat": 4,
 "nbformat_minor": 2
}
